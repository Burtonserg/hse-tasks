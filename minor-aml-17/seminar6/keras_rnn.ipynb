{
 "cells": [
  {
   "cell_type": "markdown",
   "metadata": {},
   "source": [
    "Пример, который обучается генерировать тексты похожие на тексты Ницце. "
   ]
  },
  {
   "cell_type": "code",
   "execution_count": 1,
   "metadata": {},
   "outputs": [
    {
     "name": "stderr",
     "output_type": "stream",
     "text": [
      "Using Theano backend.\n",
      "DEBUG: nvcc STDOUT nvcc warning : The 'compute_20', 'sm_20', and 'sm_21' architectures are deprecated, and may be removed in a future release (Use -Wno-deprecated-gpu-targets to suppress warning).\n",
      "mod.cu\n",
      "C:\\Users\\sanek\\Anaconda3\\lib\\site-packages\\theano-0.8.2-py3.5.egg\\theano\\sandbox\\cuda\\cnmem.cpp(668): warning C4477: \"fprintf\": ў бва®ЄҐ д®а¬ вЁа®ў ­Ёп \"%lu\" ваҐЎгҐвбп  аЈг¬Ґ­в вЁЇ  \"unsigned long\", ­® ў аЁ вЁў­л©  аЈг¬Ґ­в \"2\" Ё¬ҐҐв вЁЇ \"std::size_t\"\n",
      "C:\\Users\\sanek\\Anaconda3\\lib\\site-packages\\theano-0.8.2-py3.5.egg\\theano\\sandbox\\cuda\\cnmem.cpp(668): note: аҐЄ®¬Ґ­¤гҐвбп ЁбЇ®«м§®ў вм \"%zu\" ў бва®ЄҐ д®а¬ вЁа®ў ­Ёп\n",
      "C:\\Users\\sanek\\Anaconda3\\lib\\site-packages\\theano-0.8.2-py3.5.egg\\theano\\sandbox\\cuda\\cnmem.cpp(670): warning C4477: \"fprintf\": ў бва®ЄҐ д®а¬ вЁа®ў ­Ёп \"%016lx\" ваҐЎгҐвбп  аЈг¬Ґ­в вЁЇ  \"unsigned long\", ­® ў аЁ вЁў­л©  аЈг¬Ґ­в \"1\" Ё¬ҐҐв вЁЇ \"std::size_t\"\n",
      "C:\\Users\\sanek\\Anaconda3\\lib\\site-packages\\theano-0.8.2-py3.5.egg\\theano\\sandbox\\cuda\\cnmem.cpp(670): note: аҐЄ®¬Ґ­¤гҐвбп ЁбЇ®«м§®ў вм \"%zx\" ў бва®ЄҐ д®а¬ вЁа®ў ­Ёп\n",
      "C:\\Users\\sanek\\Anaconda3\\lib\\site-packages\\theano-0.8.2-py3.5.egg\\theano\\sandbox\\cuda\\cnmem.cpp(670): warning C4477: \"fprintf\": ў бва®ЄҐ д®а¬ вЁа®ў ­Ёп \"%016lx\" ваҐЎгҐвбп  аЈг¬Ґ­в вЁЇ  \"unsigned long\", ­® ў аЁ вЁў­л©  аЈг¬Ґ­в \"2\" Ё¬ҐҐв вЁЇ \"std::size_t\"\n",
      "C:\\Users\\sanek\\Anaconda3\\lib\\site-packages\\theano-0.8.2-py3.5.egg\\theano\\sandbox\\cuda\\cnmem.cpp(670): note: аҐЄ®¬Ґ­¤гҐвбп ЁбЇ®«м§®ў вм \"%zx\" ў бва®ЄҐ д®а¬ вЁа®ў ­Ёп\n",
      "C:\\Users\\sanek\\Anaconda3\\lib\\site-packages\\theano-0.8.2-py3.5.egg\\theano\\sandbox\\cuda\\cnmem.cpp(670): warning C4477: \"fprintf\": ў бва®ЄҐ д®а¬ вЁа®ў ­Ёп \"%lu\" ваҐЎгҐвбп  аЈг¬Ґ­в вЁЇ  \"unsigned long\", ­® ў аЁ вЁў­л©  аЈг¬Ґ­в \"3\" Ё¬ҐҐв вЁЇ \"std::size_t\"\n",
      "C:\\Users\\sanek\\Anaconda3\\lib\\site-packages\\theano-0.8.2-py3.5.egg\\theano\\sandbox\\cuda\\cnmem.cpp(670): note: аҐЄ®¬Ґ­¤гҐвбп ЁбЇ®«м§®ў вм \"%zu\" ў бва®ЄҐ д®а¬ вЁа®ў ­Ёп\n",
      "C:\\Users\\sanek\\Anaconda3\\lib\\site-packages\\theano-0.8.2-py3.5.egg\\theano\\sandbox\\cuda\\cnmem.cpp(670): warning C4477: \"fprintf\": ў бва®ЄҐ д®а¬ вЁа®ў ­Ёп \"%016lx\" ваҐЎгҐвбп  аЈг¬Ґ­в вЁЇ  \"unsigned long\", ­® ў аЁ вЁў­л©  аЈг¬Ґ­в \"4\" Ё¬ҐҐв вЁЇ \"std::size_t\"\n",
      "C:\\Users\\sanek\\Anaconda3\\lib\\site-packages\\theano-0.8.2-py3.5.egg\\theano\\sandbox\\cuda\\cnmem.cpp(670): note: аҐЄ®¬Ґ­¤гҐвбп ЁбЇ®«м§®ў вм \"%zx\" ў бва®ЄҐ д®а¬ вЁа®ў ­Ёп\n",
      "C:\\Users\\sanek\\Anaconda3\\lib\\site-packages\\theano-0.8.2-py3.5.egg\\theano\\sandbox\\cuda\\cnmem.cpp(670): warning C4477: \"fprintf\": ў бва®ЄҐ д®а¬ вЁа®ў ­Ёп \"%2lu\" ваҐЎгҐвбп  аЈг¬Ґ­в вЁЇ  \"unsigned long\", ­® ў аЁ вЁў­л©  аЈг¬Ґ­в \"5\" Ё¬ҐҐв вЁЇ \"std::size_t\"\n",
      "C:\\Users\\sanek\\Anaconda3\\lib\\site-packages\\theano-0.8.2-py3.5.egg\\theano\\sandbox\\cuda\\cnmem.cpp(670): note: аҐЄ®¬Ґ­¤гҐвбп ЁбЇ®«м§®ў вм \"%zu\" ў бва®ЄҐ д®а¬ вЁа®ў ­Ёп\n",
      "C:\\Users\\sanek\\Anaconda3\\lib\\site-packages\\theano-0.8.2-py3.5.egg\\theano\\sandbox\\cuda\\cnmem.cpp(690): warning C4477: \"fprintf\": ў бва®ЄҐ д®а¬ вЁа®ў ­Ёп \"%016lx\" ваҐЎгҐвбп  аЈг¬Ґ­в вЁЇ  \"unsigned long\", ­® ў аЁ вЁў­л©  аЈг¬Ґ­в \"3\" Ё¬ҐҐв вЁЇ \"std::size_t\"\n",
      "C:\\Users\\sanek\\Anaconda3\\lib\\site-packages\\theano-0.8.2-py3.5.egg\\theano\\sandbox\\cuda\\cnmem.cpp(690): note: аҐЄ®¬Ґ­¤гҐвбп ЁбЇ®«м§®ў вм \"%zx\" ў бва®ЄҐ д®а¬ вЁа®ў ­Ёп\n",
      "C:\\Users\\sanek\\Anaconda3\\lib\\site-packages\\theano-0.8.2-py3.5.egg\\theano\\sandbox\\cuda\\cnmem.cpp(690): warning C4477: \"fprintf\": ў бва®ЄҐ д®а¬ вЁа®ў ­Ёп \"%lu\" ваҐЎгҐвбп  аЈг¬Ґ­в вЁЇ  \"unsigned long\", ­® ў аЁ вЁў­л©  аЈг¬Ґ­в \"4\" Ё¬ҐҐв вЁЇ \"std::size_t\"\n",
      "C:\\Users\\sanek\\Anaconda3\\lib\\site-packages\\theano-0.8.2-py3.5.egg\\theano\\sandbox\\cuda\\cnmem.cpp(690): note: аҐЄ®¬Ґ­¤гҐвбп ЁбЇ®«м§®ў вм \"%zu\" ў бва®ЄҐ д®а¬ вЁа®ў ­Ёп\n",
      "C:\\Users\\sanek\\Anaconda3\\lib\\site-packages\\theano-0.8.2-py3.5.egg\\theano\\sandbox\\cuda\\cnmem.cpp(690): warning C4477: \"fprintf\": ў бва®ЄҐ д®а¬ вЁа®ў ­Ёп \"%lu\" ваҐЎгҐвбп  аЈг¬Ґ­в вЁЇ  \"unsigned long\", ­® ў аЁ вЁў­л©  аЈг¬Ґ­в \"5\" Ё¬ҐҐв вЁЇ \"std::size_t\"\n",
      "C:\\Users\\sanek\\Anaconda3\\lib\\site-packages\\theano-0.8.2-py3.5.egg\\theano\\sandbox\\cuda\\cnmem.cpp(690): note: аҐЄ®¬Ґ­¤гҐвбп ЁбЇ®«м§®ў вм \"%zu\" ў бва®ЄҐ д®а¬ вЁа®ў ­Ёп\n",
      "mod.cu(803): warning C4311: ЇаЁўҐ¤Ґ­ЁҐ вЁЇ®ў: гбҐзҐ­ЁҐ гЄ § вҐ«п Ё§ \"CudaNdarray *\" ў \"long\"\n",
      "mod.cu(3374): warning C4312: ЇаЁўҐ¤Ґ­ЁҐ вЁЇ®ў: ЇаҐ®Ўа §®ў ­ЁҐ Ё§ \"long\" ў \"float *\" Ў®«миҐЈ® а §¬Ґа \n",
      "   Создается библиотека C:/Users/sanek/AppData/Local/Theano/compiledir_Windows-10-10.0.15063-SP0-Intel64_Family_6_Model_78_Stepping_3_GenuineIntel-3.5.4-64/cuda_ndarray/cuda_ndarray.lib и объект C:/Users/sanek/AppData/Local/Theano/compiledir_Windows-10-10.0.15063-SP0-Intel64_Family_6_Model_78_Stepping_3_GenuineIntel-3.5.4-64/cuda_ndarray/cuda_ndarray.exp\n",
      "\n",
      "DEBUG: nvcc STDOUT nvcc warning : The 'compute_20', 'sm_20', and 'sm_21' architectures are deprecated, and may be removed in a future release (Use -Wno-deprecated-gpu-targets to suppress warning).\n",
      "mod.cu\n",
      "   Создается библиотека C:/Users/sanek/AppData/Local/Theano/compiledir_Windows-10-10.0.15063-SP0-Intel64_Family_6_Model_78_Stepping_3_GenuineIntel-3.5.4-64/tmp1wxfkbf5/m91973e5c136ea49268a916ff971b7377.lib и объект C:/Users/sanek/AppData/Local/Theano/compiledir_Windows-10-10.0.15063-SP0-Intel64_Family_6_Model_78_Stepping_3_GenuineIntel-3.5.4-64/tmp1wxfkbf5/m91973e5c136ea49268a916ff971b7377.exp\n",
      "\n",
      "Using gpu device 0: GeForce GPU (CNMeM is disabled, cuDNN 5110)\n",
      "C:\\Users\\sanek\\Anaconda3\\lib\\site-packages\\theano-0.8.2-py3.5.egg\\theano\\sandbox\\cuda\\__init__.py:600: UserWarning: Your cuDNN version is more recent than the one Theano officially supports. If you see any problems, try updating Theano or downgrading cuDNN to version 5.\n",
      "  warnings.warn(warn)\n",
      "DEBUG: nvcc STDOUT mod.cu\n",
      "mod.cu(389): warning C4477: \"printf\": ў бва®ЄҐ д®а¬ вЁа®ў ­Ёп \"%d\" ваҐЎгҐвбп  аЈг¬Ґ­в вЁЇ  \"int\", ­® ў аЁ вЁў­л©  аЈг¬Ґ­в \"2\" Ё¬ҐҐв вЁЇ \"std::size_t\"\n",
      "mod.cu(389): note: аҐЄ®¬Ґ­¤гҐвбп ЁбЇ®«м§®ў вм \"%zd\" ў бва®ЄҐ д®а¬ вЁа®ў ­Ёп\n",
      "   Создается библиотека C:/Users/sanek/AppData/Local/Theano/compiledir_Windows-10-10.0.15063-SP0-Intel64_Family_6_Model_78_Stepping_3_GenuineIntel-3.5.4-64/tmp1d2uksxy/meb404c8cd39208f6884dd773b584b7d7.lib и объект C:/Users/sanek/AppData/Local/Theano/compiledir_Windows-10-10.0.15063-SP0-Intel64_Family_6_Model_78_Stepping_3_GenuineIntel-3.5.4-64/tmp1d2uksxy/meb404c8cd39208f6884dd773b584b7d7.exp\n",
      "\n",
      "DEBUG: nvcc STDOUT mod.cu\n",
      "   Создается библиотека C:/Users/sanek/AppData/Local/Theano/compiledir_Windows-10-10.0.15063-SP0-Intel64_Family_6_Model_78_Stepping_3_GenuineIntel-3.5.4-64/tmpnc30_351/md9b7b5ef5d727b2e8e3d2cc34bb9d0eb.lib и объект C:/Users/sanek/AppData/Local/Theano/compiledir_Windows-10-10.0.15063-SP0-Intel64_Family_6_Model_78_Stepping_3_GenuineIntel-3.5.4-64/tmpnc30_351/md9b7b5ef5d727b2e8e3d2cc34bb9d0eb.exp\n",
      "\n"
     ]
    }
   ],
   "source": [
    "from keras.models import Sequential\n",
    "from keras.layers import Dense, Activation, Dropout\n",
    "from keras.layers import LSTM\n",
    "from keras.optimizers import RMSprop\n",
    "from keras.utils.data_utils import get_file\n",
    "import numpy as np\n",
    "import random\n",
    "import sys"
   ]
  },
  {
   "cell_type": "markdown",
   "metadata": {},
   "source": [
    "Скачиваем текст "
   ]
  },
  {
   "cell_type": "code",
   "execution_count": 2,
   "metadata": {},
   "outputs": [
    {
     "name": "stdout",
     "output_type": "stream",
     "text": [
      "Downloading data from https://s3.amazonaws.com/text-datasets/nietzsche.txt\n",
      "598016/600901 [============================>.] - ETA: 0scorpus length: 600901\n"
     ]
    }
   ],
   "source": [
    "path = get_file('nietzsche.txt', origin=\"https://s3.amazonaws.com/text-datasets/nietzsche.txt\")\n",
    "text = open(path).read().lower()\n",
    "print('corpus length:', len(text))"
   ]
  },
  {
   "cell_type": "code",
   "execution_count": 3,
   "metadata": {},
   "outputs": [
    {
     "name": "stdout",
     "output_type": "stream",
     "text": [
      "total chars: 59\n",
      "nb sequences: 200287\n",
      "Vectorization...\n"
     ]
    }
   ],
   "source": [
    "chars = sorted(list(set(text)))\n",
    "print('total chars:', len(chars))\n",
    "char_indices = dict((c, i) for i, c in enumerate(chars))\n",
    "indices_char = dict((i, c) for i, c in enumerate(chars))\n",
    "\n",
    "# cut the text in semi-redundant sequences of maxlen characters\n",
    "maxlen = 40\n",
    "step = 3\n",
    "sentences = []\n",
    "next_chars = []\n",
    "for i in range(0, len(text) - maxlen, step):\n",
    "    sentences.append(text[i: i + maxlen])\n",
    "    next_chars.append(text[i + maxlen])\n",
    "print('nb sequences:', len(sentences))\n",
    "\n",
    "print('Vectorization...')\n",
    "X = np.zeros((len(sentences), maxlen, len(chars)), dtype=np.bool)\n",
    "y = np.zeros((len(sentences), len(chars)), dtype=np.bool)\n",
    "for i, sentence in enumerate(sentences):\n",
    "    for t, char in enumerate(sentence):\n",
    "        X[i, t, char_indices[char]] = 1\n",
    "    y[i, char_indices[next_chars[i]]] = 1"
   ]
  },
  {
   "cell_type": "code",
   "execution_count": 4,
   "metadata": {},
   "outputs": [
    {
     "data": {
      "text/plain": [
       "(200287, 40, 59)"
      ]
     },
     "execution_count": 4,
     "metadata": {},
     "output_type": "execute_result"
    }
   ],
   "source": [
    "X.shape"
   ]
  },
  {
   "cell_type": "markdown",
   "metadata": {},
   "source": [
    "Keras довольно высокоуровневый интерфейс. \n",
    "Для построения модели достаточно просто описать какие слои вы хотите и в каком порядке. "
   ]
  },
  {
   "cell_type": "code",
   "execution_count": 5,
   "metadata": {},
   "outputs": [
    {
     "name": "stdout",
     "output_type": "stream",
     "text": [
      "Build model...\n"
     ]
    }
   ],
   "source": [
    "# build the model: a single LSTM\n",
    "print('Build model...')\n",
    "model = Sequential()\n",
    "model.add(LSTM(128, input_shape=(maxlen, len(chars))))\n",
    "model.add(Dense(len(chars)))\n",
    "model.add(Activation('softmax'))\n",
    "\n",
    "optimizer = RMSprop(lr=0.01)\n",
    "model.compile(loss='categorical_crossentropy', optimizer=optimizer)"
   ]
  },
  {
   "cell_type": "code",
   "execution_count": 6,
   "metadata": {
    "collapsed": true
   },
   "outputs": [],
   "source": [
    "def sample(preds, temperature=1.0):\n",
    "    # helper function to sample an index from a probability array\n",
    "    preds = np.asarray(preds).astype('float64')\n",
    "    preds = np.log(preds) / temperature\n",
    "    exp_preds = np.exp(preds)\n",
    "    preds = exp_preds / np.sum(exp_preds)\n",
    "    probas = np.random.multinomial(1, preds, 1)\n",
    "    return np.argmax(probas)\n"
   ]
  },
  {
   "cell_type": "markdown",
   "metadata": {},
   "source": [
    "Обучение работает очень долго. Имеет смысл дождаться хотя бы одной итерации и попытаться сгененировать текст. \n"
   ]
  },
  {
   "cell_type": "code",
   "execution_count": null,
   "metadata": {},
   "outputs": [],
   "source": [
    "# train the model, output generated text after each iteration\n",
    "for iteration in range(1, 60):\n",
    "    print()\n",
    "    print('-' * 50)\n",
    "    print('Iteration', iteration)\n",
    "    model.fit(X, y, batch_size=128, nb_epoch=1)\n",
    "\n",
    "    start_index = random.randint(0, len(text) - maxlen - 1)\n",
    "\n",
    "    for diversity in [0.2, 0.5, 1.0, 1.2]:\n",
    "        print()\n",
    "        print('----- diversity:', diversity)\n",
    "\n",
    "        generated = ''\n",
    "        sentence = text[start_index: start_index + maxlen]\n",
    "        generated += sentence\n",
    "        print('----- Generating with seed: \"' + sentence + '\"')\n",
    "        sys.stdout.write(generated)\n",
    "\n",
    "        for i in range(400):\n",
    "            x = np.zeros((1, maxlen, len(chars)))\n",
    "            for t, char in enumerate(sentence):\n",
    "                x[0, t, char_indices[char]] = 1.\n",
    "\n",
    "            preds = model.predict(x, verbose=0)[0]\n",
    "            next_index = sample(preds, diversity)\n",
    "            next_char = indices_char[next_index]\n",
    "\n",
    "            generated += next_char\n",
    "            sentence = sentence[1:] + next_char\n",
    "\n",
    "            sys.stdout.write(next_char)\n",
    "            sys.stdout.flush()\n",
    "        print()"
   ]
  },
  {
   "cell_type": "code",
   "execution_count": null,
   "metadata": {
    "collapsed": true
   },
   "outputs": [],
   "source": []
  }
 ],
 "metadata": {
  "anaconda-cloud": {},
  "kernelspec": {
   "display_name": "Python [conda root]",
   "language": "python",
   "name": "conda-root-py"
  },
  "language_info": {
   "codemirror_mode": {
    "name": "ipython",
    "version": 3
   },
   "file_extension": ".py",
   "mimetype": "text/x-python",
   "name": "python",
   "nbconvert_exporter": "python",
   "pygments_lexer": "ipython3",
   "version": "3.5.4"
  }
 },
 "nbformat": 4,
 "nbformat_minor": 1
}
