{
 "cells": [
  {
   "cell_type": "markdown",
   "metadata": {},
   "source": [
    "# Нейронные сети с TensorFlow\n",
    "\n",
    "\n",
    "Установка (https://www.tensorflow.org/)\n",
    "* pip3 install tensorflow\n",
    "* pip3 install tensorflow-gpu"
   ]
  },
  {
   "cell_type": "code",
   "execution_count": 1,
   "metadata": {
    "collapsed": true
   },
   "outputs": [],
   "source": [
    "import tensorflow as tf\n",
    "\n",
    "# Model parameters\n",
    "W = tf.Variable([.3], dtype=tf.float32)\n",
    "b = tf.Variable([-.3], dtype=tf.float32)\n",
    "# Model input and output\n",
    "x = tf.placeholder(tf.float32)\n",
    "linear_model = W * x + b\n",
    "y = tf.placeholder(tf.float32)"
   ]
  },
  {
   "cell_type": "code",
   "execution_count": 2,
   "metadata": {
    "collapsed": true
   },
   "outputs": [],
   "source": [
    "# loss\n",
    "loss = tf.reduce_sum(tf.square(linear_model - y)) # sum of the squares\n",
    "# optimizer\n",
    "optimizer = tf.train.GradientDescentOptimizer(0.01)\n",
    "train = optimizer.minimize(loss)"
   ]
  },
  {
   "cell_type": "code",
   "execution_count": 3,
   "metadata": {
    "collapsed": true
   },
   "outputs": [],
   "source": [
    "# training data\n",
    "x_train = [1, 2, 3, 4]\n",
    "y_train = [0, -1, -2, -3]\n",
    "# training loop\n",
    "init = tf.global_variables_initializer()\n",
    "sess = tf.Session()\n",
    "sess.run(init) # reset values to wrong\n",
    "for i in range(1000):\n",
    "  sess.run(train, {x: x_train, y: y_train})"
   ]
  },
  {
   "cell_type": "code",
   "execution_count": 4,
   "metadata": {},
   "outputs": [
    {
     "name": "stdout",
     "output_type": "stream",
     "text": [
      "W: [-0.9999969] b: [ 0.99999082] loss: 5.69997e-11\n"
     ]
    }
   ],
   "source": [
    "# evaluate training accuracy\n",
    "curr_W, curr_b, curr_loss = sess.run([W, b, loss], {x: x_train, y: y_train})\n",
    "print(\"W: %s b: %s loss: %s\"%(curr_W, curr_b, curr_loss))"
   ]
  },
  {
   "cell_type": "markdown",
   "metadata": {},
   "source": [
    "![Graph](https://www.tensorflow.org/images/getting_started_final.png)"
   ]
  },
  {
   "cell_type": "markdown",
   "metadata": {},
   "source": [
    "### Линейная модель с TF"
   ]
  },
  {
   "cell_type": "code",
   "execution_count": 6,
   "metadata": {},
   "outputs": [
    {
     "name": "stdout",
     "output_type": "stream",
     "text": [
      "INFO:tensorflow:Using default config.\n",
      "WARNING:tensorflow:Using temporary folder as model directory: C:\\Users\\sanek\\AppData\\Local\\Temp\\tmpio5jevc_\n",
      "INFO:tensorflow:Using config: {'_model_dir': 'C:\\\\Users\\\\sanek\\\\AppData\\\\Local\\\\Temp\\\\tmpio5jevc_', '_session_config': None, '_tf_random_seed': 1, '_log_step_count_steps': 100, '_save_summary_steps': 100, '_keep_checkpoint_every_n_hours': 10000, '_save_checkpoints_secs': 600, '_keep_checkpoint_max': 5, '_save_checkpoints_steps': None}\n",
      "INFO:tensorflow:Create CheckpointSaverHook.\n",
      "INFO:tensorflow:Saving checkpoints for 1 into C:\\Users\\sanek\\AppData\\Local\\Temp\\tmpio5jevc_\\model.ckpt.\n",
      "INFO:tensorflow:loss = 23.0, step = 1\n",
      "INFO:tensorflow:global_step/sec: 864.151\n",
      "INFO:tensorflow:loss = 0.339491, step = 101 (0.116 sec)\n",
      "INFO:tensorflow:global_step/sec: 804.689\n",
      "INFO:tensorflow:loss = 0.0895204, step = 201 (0.126 sec)\n",
      "INFO:tensorflow:global_step/sec: 1135.88\n",
      "INFO:tensorflow:loss = 0.016626, step = 301 (0.086 sec)\n",
      "INFO:tensorflow:global_step/sec: 839.79\n",
      "INFO:tensorflow:loss = 0.00179059, step = 401 (0.119 sec)\n",
      "INFO:tensorflow:global_step/sec: 800.343\n",
      "INFO:tensorflow:loss = 0.00258764, step = 501 (0.127 sec)\n",
      "INFO:tensorflow:global_step/sec: 847.165\n",
      "INFO:tensorflow:loss = 0.000283048, step = 601 (0.119 sec)\n",
      "INFO:tensorflow:global_step/sec: 906.973\n",
      "INFO:tensorflow:loss = 8.99956e-05, step = 701 (0.108 sec)\n",
      "INFO:tensorflow:global_step/sec: 812.59\n",
      "INFO:tensorflow:loss = 3.7718e-05, step = 801 (0.126 sec)\n",
      "INFO:tensorflow:global_step/sec: 862.016\n",
      "INFO:tensorflow:loss = 6.84347e-06, step = 901 (0.115 sec)\n",
      "INFO:tensorflow:Saving checkpoints for 1000 into C:\\Users\\sanek\\AppData\\Local\\Temp\\tmpio5jevc_\\model.ckpt.\n",
      "INFO:tensorflow:Loss for final step: 1.70651e-06.\n",
      "INFO:tensorflow:Starting evaluation at 2017-10-12-07:34:02\n",
      "INFO:tensorflow:Restoring parameters from C:\\Users\\sanek\\AppData\\Local\\Temp\\tmpio5jevc_\\model.ckpt-1000\n",
      "INFO:tensorflow:Finished evaluation at 2017-10-12-07:34:03\n",
      "INFO:tensorflow:Saving dict for global step 1000: average_loss = 4.77536e-07, global_step = 1000, loss = 1.91014e-06\n",
      "INFO:tensorflow:Starting evaluation at 2017-10-12-07:34:04\n",
      "INFO:tensorflow:Restoring parameters from C:\\Users\\sanek\\AppData\\Local\\Temp\\tmpio5jevc_\\model.ckpt-1000\n",
      "INFO:tensorflow:Finished evaluation at 2017-10-12-07:34:04\n",
      "INFO:tensorflow:Saving dict for global step 1000: average_loss = 0.00258804, global_step = 1000, loss = 0.0103522\n",
      "train metrics: {'global_step': 1000, 'average_loss': 4.7753576e-07, 'loss': 1.9101431e-06}\n",
      "eval metrics: {'global_step': 1000, 'average_loss': 0.0025880393, 'loss': 0.010352157}\n"
     ]
    }
   ],
   "source": [
    "import numpy as np\n",
    "\n",
    "# Declare list of features. We only have one numeric feature. There are many\n",
    "# other types of columns that are more complicated and useful.\n",
    "feature_columns = [tf.feature_column.numeric_column(\"x\", shape=[1])]\n",
    "\n",
    "# An estimator is the front end to invoke training (fitting) and evaluation\n",
    "# (inference). There are many predefined types like linear regression,\n",
    "# linear classification, and many neural network classifiers and regressors.\n",
    "# The following code provides an estimator that does linear regression.\n",
    "estimator = tf.estimator.LinearRegressor(feature_columns=feature_columns)\n",
    "\n",
    "# TensorFlow provides many helper methods to read and set up data sets.\n",
    "# Here we use two data sets: one for training and one for evaluation\n",
    "# We have to tell the function how many batches\n",
    "# of data (num_epochs) we want and how big each batch should be.\n",
    "x_train = np.array([1., 2., 3., 4.])\n",
    "y_train = np.array([0., -1., -2., -3.])\n",
    "x_eval = np.array([2., 5., 8., 1.])\n",
    "y_eval = np.array([-1.01, -4.1, -7, 0.])\n",
    "input_fn = tf.estimator.inputs.numpy_input_fn(\n",
    "    {\"x\": x_train}, y_train, batch_size=4, num_epochs=None, shuffle=True)\n",
    "train_input_fn = tf.estimator.inputs.numpy_input_fn(\n",
    "    {\"x\": x_train}, y_train, batch_size=4, num_epochs=1000, shuffle=False)\n",
    "eval_input_fn = tf.estimator.inputs.numpy_input_fn(\n",
    "    {\"x\": x_eval}, y_eval, batch_size=4, num_epochs=1000, shuffle=False)\n",
    "\n",
    "# We can invoke 1000 training steps by invoking the  method and passing the\n",
    "# training data set.\n",
    "estimator.train(input_fn=input_fn, steps=1000)\n",
    "\n",
    "# Here we evaluate how well our model did.\n",
    "train_metrics = estimator.evaluate(input_fn=train_input_fn)\n",
    "eval_metrics = estimator.evaluate(input_fn=eval_input_fn)\n",
    "print(\"train metrics: %r\"% train_metrics)\n",
    "print(\"eval metrics: %r\"% eval_metrics)"
   ]
  },
  {
   "cell_type": "code",
   "execution_count": 7,
   "metadata": {
    "collapsed": true
   },
   "outputs": [],
   "source": [
    "def model_fn(features, labels, mode):\n",
    "  # Build a linear model and predict values\n",
    "  W = tf.get_variable(\"W\", [1], dtype=tf.float64)\n",
    "  b = tf.get_variable(\"b\", [1], dtype=tf.float64)\n",
    "  y = W * features['x'] + b\n",
    "  # Loss sub-graph\n",
    "  loss = tf.reduce_sum(tf.square(y - labels))\n",
    "  # Training sub-graph\n",
    "  global_step = tf.train.get_global_step()\n",
    "  optimizer = tf.train.GradientDescentOptimizer(0.01)\n",
    "  train = tf.group(optimizer.minimize(loss),\n",
    "                   tf.assign_add(global_step, 1))\n",
    "  # EstimatorSpec connects subgraphs we built to the\n",
    "  # appropriate functionality.\n",
    "  return tf.estimator.EstimatorSpec(\n",
    "      mode=mode,\n",
    "      predictions=y,\n",
    "      loss=loss,\n",
    "      train_op=train)"
   ]
  },
  {
   "cell_type": "code",
   "execution_count": 8,
   "metadata": {},
   "outputs": [
    {
     "name": "stdout",
     "output_type": "stream",
     "text": [
      "INFO:tensorflow:Using default config.\n",
      "WARNING:tensorflow:Using temporary folder as model directory: C:\\Users\\sanek\\AppData\\Local\\Temp\\tmp8g645voq\n",
      "INFO:tensorflow:Using config: {'_model_dir': 'C:\\\\Users\\\\sanek\\\\AppData\\\\Local\\\\Temp\\\\tmp8g645voq', '_session_config': None, '_tf_random_seed': 1, '_log_step_count_steps': 100, '_save_summary_steps': 100, '_keep_checkpoint_every_n_hours': 10000, '_save_checkpoints_secs': 600, '_keep_checkpoint_max': 5, '_save_checkpoints_steps': None}\n",
      "INFO:tensorflow:Create CheckpointSaverHook.\n",
      "INFO:tensorflow:Saving checkpoints for 1 into C:\\Users\\sanek\\AppData\\Local\\Temp\\tmp8g645voq\\model.ckpt.\n",
      "INFO:tensorflow:loss = 14.1751990025, step = 1\n",
      "INFO:tensorflow:global_step/sec: 472.638\n",
      "INFO:tensorflow:loss = 0.0465300076339, step = 101 (0.216 sec)\n",
      "INFO:tensorflow:global_step/sec: 605.833\n",
      "INFO:tensorflow:loss = 0.0037987119056, step = 201 (0.164 sec)\n",
      "INFO:tensorflow:global_step/sec: 547.825\n",
      "INFO:tensorflow:loss = 0.000178191603373, step = 301 (0.188 sec)\n",
      "INFO:tensorflow:global_step/sec: 668.786\n",
      "INFO:tensorflow:loss = 8.47568031236e-06, step = 401 (0.151 sec)\n",
      "INFO:tensorflow:global_step/sec: 787.15\n",
      "INFO:tensorflow:loss = 2.99973678562e-06, step = 501 (0.119 sec)\n",
      "INFO:tensorflow:global_step/sec: 934.397\n",
      "INFO:tensorflow:loss = 1.95960222894e-07, step = 601 (0.111 sec)\n",
      "INFO:tensorflow:global_step/sec: 833.064\n",
      "INFO:tensorflow:loss = 1.77960726164e-08, step = 701 (0.118 sec)\n",
      "INFO:tensorflow:global_step/sec: 943.174\n",
      "INFO:tensorflow:loss = 3.05018721739e-09, step = 801 (0.106 sec)\n",
      "INFO:tensorflow:global_step/sec: 1063.6\n",
      "INFO:tensorflow:loss = 1.52631266234e-10, step = 901 (0.091 sec)\n",
      "INFO:tensorflow:Saving checkpoints for 1000 into C:\\Users\\sanek\\AppData\\Local\\Temp\\tmp8g645voq\\model.ckpt.\n",
      "INFO:tensorflow:Loss for final step: 1.78796954585e-11.\n",
      "INFO:tensorflow:Starting evaluation at 2017-10-12-07:35:19\n",
      "INFO:tensorflow:Restoring parameters from C:\\Users\\sanek\\AppData\\Local\\Temp\\tmp8g645voq\\model.ckpt-1000\n",
      "INFO:tensorflow:Finished evaluation at 2017-10-12-07:35:20\n",
      "INFO:tensorflow:Saving dict for global step 1000: global_step = 1000, loss = 1.37224e-11\n",
      "INFO:tensorflow:Starting evaluation at 2017-10-12-07:35:21\n",
      "INFO:tensorflow:Restoring parameters from C:\\Users\\sanek\\AppData\\Local\\Temp\\tmp8g645voq\\model.ckpt-1000\n",
      "INFO:tensorflow:Finished evaluation at 2017-10-12-07:35:21\n",
      "INFO:tensorflow:Saving dict for global step 1000: global_step = 1000, loss = 0.0101004\n",
      "train metrics: {'global_step': 1000, 'loss': 1.3722356e-11}\n",
      "eval metrics: {'global_step': 1000, 'loss': 0.010100389}\n"
     ]
    }
   ],
   "source": [
    "estimator = tf.estimator.Estimator(model_fn=model_fn)\n",
    "# define our data sets\n",
    "x_train = np.array([1., 2., 3., 4.])\n",
    "y_train = np.array([0., -1., -2., -3.])\n",
    "x_eval = np.array([2., 5., 8., 1.])\n",
    "y_eval = np.array([-1.01, -4.1, -7, 0.])\n",
    "input_fn = tf.estimator.inputs.numpy_input_fn(\n",
    "    {\"x\": x_train}, y_train, batch_size=4, num_epochs=None, shuffle=True)\n",
    "train_input_fn = tf.estimator.inputs.numpy_input_fn(\n",
    "    {\"x\": x_train}, y_train, batch_size=4, num_epochs=1000, shuffle=False)\n",
    "eval_input_fn = tf.estimator.inputs.numpy_input_fn(\n",
    "    {\"x\": x_eval}, y_eval, batch_size=4, num_epochs=1000, shuffle=False)\n",
    "\n",
    "# train\n",
    "estimator.train(input_fn=input_fn, steps=1000)\n",
    "# Here we evaluate how well our model did.\n",
    "train_metrics = estimator.evaluate(input_fn=train_input_fn)\n",
    "eval_metrics = estimator.evaluate(input_fn=eval_input_fn)\n",
    "print(\"train metrics: %r\"% train_metrics)\n",
    "print(\"eval metrics: %r\"% eval_metrics)"
   ]
  },
  {
   "cell_type": "markdown",
   "metadata": {},
   "source": [
    "### Обучение на базе MNIST с TF"
   ]
  },
  {
   "cell_type": "markdown",
   "metadata": {},
   "source": [
    "Загрузим наши данные"
   ]
  },
  {
   "cell_type": "code",
   "execution_count": 3,
   "metadata": {},
   "outputs": [
    {
     "name": "stdout",
     "output_type": "stream",
     "text": [
      "Extracting MNIST_data/train-images-idx3-ubyte.gz\n",
      "Extracting MNIST_data/train-labels-idx1-ubyte.gz\n",
      "Extracting MNIST_data/t10k-images-idx3-ubyte.gz\n",
      "Extracting MNIST_data/t10k-labels-idx1-ubyte.gz\n"
     ]
    }
   ],
   "source": [
    "from tensorflow.examples.tutorials.mnist import input_data\n",
    "mnist = input_data.read_data_sets(\"MNIST_data/\", one_hot=True)"
   ]
  },
  {
   "cell_type": "markdown",
   "metadata": {},
   "source": [
    "![Картинка](https://www.tensorflow.org/images/MNIST-Matrix.png)"
   ]
  },
  {
   "cell_type": "code",
   "execution_count": 14,
   "metadata": {
    "collapsed": true
   },
   "outputs": [],
   "source": [
    "def plot_images_separately(images):\n",
    "    \"Plot the six MNIST images separately.\"\n",
    "    fig = plt.figure()\n",
    "    for j in range(1, 7):\n",
    "        ax = fig.add_subplot(1, 6, j)\n",
    "        ax.matshow(np.reshape(images[j-1], (28, 28)), cmap = matplotlib.cm.binary)\n",
    "        plt.xticks(np.array([]))\n",
    "        plt.yticks(np.array([]))\n",
    "    plt.show()"
   ]
  },
  {
   "cell_type": "code",
   "execution_count": 15,
   "metadata": {},
   "outputs": [
    {
     "data": {
      "image/png": "[encoded data removed]",
      "text/plain": [
       "<matplotlib.figure.Figure at 0x2cae7876d68>"
      ]
     },
     "metadata": {},
     "output_type": "display_data"
    },
    {
     "name": "stdout",
     "output_type": "stream",
     "text": [
      "[[ 0.  0.  0.  0.  0.  0.  0.  1.  0.  0.]\n",
      " [ 0.  0.  0.  1.  0.  0.  0.  0.  0.  0.]\n",
      " [ 0.  0.  0.  0.  1.  0.  0.  0.  0.  0.]\n",
      " [ 0.  0.  0.  0.  0.  0.  1.  0.  0.  0.]\n",
      " [ 0.  1.  0.  0.  0.  0.  0.  0.  0.  0.]\n",
      " [ 0.  0.  0.  0.  0.  0.  0.  0.  1.  0.]]\n"
     ]
    }
   ],
   "source": [
    "plot_images_separately(mnist.train.images)\n",
    "print(mnist.train.labels[0:6])"
   ]
  },
  {
   "cell_type": "markdown",
   "metadata": {},
   "source": [
    "Единицы соответствуют индексу класса"
   ]
  },
  {
   "cell_type": "markdown",
   "metadata": {},
   "source": [
    "### Однослойная нейронная сеть\n",
    "\n",
    "Построим модель в tensorflow. Tensorflow - это графический фраемворк, предназначенный в первую очередь для работы с нейронными сетями. На самом деле Вы можете создавать здесь любые алгоритмы машинного обучения. Основная идея работы с tensorflow - вы описываете порядок, в котором создаются переменные и выполняются операции, после чего запускаете обсчёт всего графа. \n",
    "\n",
    "В примере ниже мы создаем простейщую модель: \n",
    "$y = \\mbox{softmax}(Wx + b)$"
   ]
  },
  {
   "cell_type": "code",
   "execution_count": 30,
   "metadata": {
    "collapsed": true
   },
   "outputs": [],
   "source": [
    "x = tf.placeholder(tf.float32, shape=[None, 784])\n",
    "y_ = tf.placeholder(tf.float32, shape=[None, 10])\n",
    "\n",
    "W = tf.Variable(tf.zeros([784,10]))\n",
    "b = tf.Variable(tf.zeros([10]))"
   ]
  },
  {
   "cell_type": "code",
   "execution_count": 31,
   "metadata": {
    "collapsed": true
   },
   "outputs": [],
   "source": [
    "y = tf.matmul(x,W) + b\n",
    "\n",
    "cross_entropy = tf.reduce_mean(tf.nn.softmax_cross_entropy_with_logits(labels=y_, logits=y))\n",
    "train_step = tf.train.GradientDescentOptimizer(0.5).minimize(cross_entropy)"
   ]
  },
  {
   "cell_type": "markdown",
   "metadata": {},
   "source": [
    "Обратите внимание, что в tensorflow существует два вида перменных. \n",
    "tf.placeholder - переменные, значения которых подаются из вне. \n",
    "tf.Variable - переменные, которые как-то определяются внутри графа и могут зависеть от внешних переменных. Только tf.Variable могут быть обучаемыми переменными. "
   ]
  },
  {
   "cell_type": "code",
   "execution_count": 34,
   "metadata": {},
   "outputs": [
    {
     "name": "stdout",
     "output_type": "stream",
     "text": [
      "0.92\n"
     ]
    }
   ],
   "source": [
    "with tf.Session() as sess:\n",
    "    sess.run(tf.global_variables_initializer())\n",
    "    for _ in range(1000):\n",
    "      batch = mnist.train.next_batch(100)\n",
    "      train_step.run(feed_dict={x: batch[0], y_: batch[1]})\n",
    "        \n",
    "    correct_prediction = tf.equal(tf.argmax(y,1), tf.argmax(y_,1))\n",
    "    accuracy = tf.reduce_mean(tf.cast(correct_prediction, tf.float32))\n",
    "    print(accuracy.eval(feed_dict={x: mnist.test.images, y_: mnist.test.labels}))"
   ]
  }
 ],
 "metadata": {
  "anaconda-cloud": {},
  "kernelspec": {
   "display_name": "Python [default]",
   "language": "python",
   "name": "python3"
  },
  "language_info": {
   "codemirror_mode": {
    "name": "ipython",
    "version": 3
   },
   "file_extension": ".py",
   "mimetype": "text/x-python",
   "name": "python",
   "nbconvert_exporter": "python",
   "pygments_lexer": "ipython3",
   "version": "3.5.4"
  }
 },
 "nbformat": 4,
 "nbformat_minor": 1
}
