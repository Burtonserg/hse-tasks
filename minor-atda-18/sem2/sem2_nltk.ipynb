{
 "cells": [
  {
   "cell_type": "markdown",
   "metadata": {},
   "source": [
    "# Задания к семинару по NLTK \n",
    "\n",
    "При выполнения заданий используйте презентацию М-sem2.pdf. Не забудьте импортировать необходимые модули."
   ]
  },
  {
   "cell_type": "markdown",
   "metadata": {},
   "source": [
    "### Задание 1:\n",
    "Откройте и запишите в одну текстовую строку файл alice.txt.\n",
    "\n",
    "Ответьте на вопросы: \n",
    "1. Сколько всего символов в файле?\n",
    "2. Какой текст написан в последней строке файла? (Подсказка: в какой переменной содержится эта строка?)"
   ]
  },
  {
   "cell_type": "code",
   "execution_count": 1,
   "metadata": {
    "collapsed": true
   },
   "outputs": [],
   "source": [
    "# "
   ]
  },
  {
   "cell_type": "markdown",
   "metadata": {},
   "source": [
    "### Задание 2:\n",
    "Создайте и скомпилируйте регулярное выражения для разбиения полученной строки на токены. Не забудьте про дефис и букву ё. \n",
    "\n",
    "Найдите все токены с помощью этого регулярного выражения, ответьте на вопросы:\n",
    "1. Сколько токенов получилось?\n",
    "2. Какой токен первый? \n",
    "3. Какой токен последний?"
   ]
  },
  {
   "cell_type": "code",
   "execution_count": 2,
   "metadata": {
    "collapsed": true
   },
   "outputs": [],
   "source": [
    "# "
   ]
  },
  {
   "cell_type": "markdown",
   "metadata": {},
   "source": [
    "### Задание 3\n",
    "Используя nltk.FreqDist, выведите 20 самых часто встречающихся слов в тексте.\n",
    "\n",
    "Ответьте на вопросы:\n",
    "1. Какое слово стоит на 1 месте? \n",
    "2. Сколько раз встречается слово, стоящее на 20 месте?\n",
    "3. Сколько не стоп-слов среди первых десяти?\n",
    "4. Сколько раз встречается слово \"крокет\"? (понятно, что оно не входит в top20)"
   ]
  },
  {
   "cell_type": "code",
   "execution_count": 3,
   "metadata": {
    "collapsed": true
   },
   "outputs": [],
   "source": [
    "# "
   ]
  },
  {
   "cell_type": "markdown",
   "metadata": {},
   "source": [
    "### Задание 4\n",
    "Избавьтесь от стоп-слов с помощью списка stopwords из nltk.corpus. \n",
    "Используйте pymorphy2, чтобы привести слова к нормальной форме.\n",
    "Ответьте на вопросы:\n",
    "1. Какое слово стоит на 1 месте? \n",
    "2. Сколько раз встречается слово, стоящее на 20 месте?\n",
    "3. Остались ли какие-то стоп-слова среди первых 10? 20?\n",
    "4. Сколько раз встречается слово \"крокет\"? Почему результат изменился?"
   ]
  },
  {
   "cell_type": "code",
   "execution_count": 4,
   "metadata": {
    "collapsed": true
   },
   "outputs": [],
   "source": [
    "# "
   ]
  },
  {
   "cell_type": "markdown",
   "metadata": {},
   "source": [
    "### Задание 5\n",
    "Постройте кумулятивный график частот слов. Как он выглядит и почему так? Попробуйте поменять количество слов, какие тенденции вы видите?"
   ]
  },
  {
   "cell_type": "code",
   "execution_count": 5,
   "metadata": {
    "collapsed": true
   },
   "outputs": [],
   "source": [
    "# "
   ]
  },
  {
   "cell_type": "markdown",
   "metadata": {
    "collapsed": true
   },
   "source": [
    "### Задание 6\n",
    "Разбейте последнюю строку исходного файла на предложения (у вас наверняка сохранилась переменная, в которой лежит эта строка).\n",
    "1. Сколько предложений получилось? "
   ]
  },
  {
   "cell_type": "code",
   "execution_count": 6,
   "metadata": {
    "collapsed": true
   },
   "outputs": [],
   "source": [
    "# "
   ]
  },
  {
   "cell_type": "markdown",
   "metadata": {},
   "source": [
    "### Задание 7\n",
    "Найдите распределение длин слов в тексте, выведите top5 и ответьте на вопросы:\n",
    "1. Сколько всего в данном тексте вариантов длин слов (вместе со стоп-словами)?\n",
    "2. Слов какой длины в тексте больше всего?\n",
    "3. Какую долю занимают слова этой длины?\n",
    "4. Сколько слов длины 1?\n",
    "\n",
    "Выведите в алфавитном поредке длинные слова (длиннее 15 символов). \n",
    "5. Сколько их? "
   ]
  },
  {
   "cell_type": "code",
   "execution_count": 7,
   "metadata": {
    "collapsed": true,
    "scrolled": true
   },
   "outputs": [],
   "source": [
    "# "
   ]
  },
  {
   "cell_type": "markdown",
   "metadata": {},
   "source": [
    "### Задание 8\n",
    "Превратите строку в NLTK-текст и проверьте, как работают спецфункции, на собственных примерах."
   ]
  },
  {
   "cell_type": "code",
   "execution_count": 9,
   "metadata": {
    "collapsed": true
   },
   "outputs": [],
   "source": [
    "# окружение для \"крокет\"\n",
    "# похожие на 'король' слова\n",
    "# общий контекст для [\"королева\", \"алиса\"]\n",
    "# 10 частотных словосочетаний"
   ]
  },
  {
   "cell_type": "code",
   "execution_count": null,
   "metadata": {
    "collapsed": true
   },
   "outputs": [],
   "source": []
  }
 ],
 "metadata": {
  "anaconda-cloud": {},
  "kernelspec": {
   "display_name": "Python [default]",
   "language": "python",
   "name": "python3"
  },
  "language_info": {
   "codemirror_mode": {
    "name": "ipython",
    "version": 3
   },
   "file_extension": ".py",
   "mimetype": "text/x-python",
   "name": "python",
   "nbconvert_exporter": "python",
   "pygments_lexer": "ipython3",
   "version": "3.5.4"
  }
 },
 "nbformat": 4,
 "nbformat_minor": 2
}
