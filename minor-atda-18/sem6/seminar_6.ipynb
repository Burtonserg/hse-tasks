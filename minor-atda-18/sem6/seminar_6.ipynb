{
 "cells": [
  {
   "cell_type": "code",
   "execution_count": 1,
   "metadata": {},
   "outputs": [
    {
     "name": "stdout",
     "output_type": "stream",
     "text": [
      "Requirement already satisfied: gensim in c:\\users\\sanek\\anaconda3\\lib\\site-packages\n",
      "Requirement already satisfied: numpy>=1.11.3 in c:\\users\\sanek\\anaconda3\\lib\\site-packages (from gensim)\n",
      "Requirement already satisfied: scipy>=0.18.1 in c:\\users\\sanek\\anaconda3\\lib\\site-packages (from gensim)\n",
      "Requirement already satisfied: six>=1.5.0 in c:\\users\\sanek\\anaconda3\\lib\\site-packages (from gensim)\n",
      "Requirement already satisfied: smart_open>=1.2.1 in c:\\users\\sanek\\anaconda3\\lib\\site-packages (from gensim)\n",
      "Requirement already satisfied: boto>=2.32 in c:\\users\\sanek\\anaconda3\\lib\\site-packages (from smart_open>=1.2.1->gensim)\n",
      "Requirement already satisfied: bz2file in c:\\users\\sanek\\anaconda3\\lib\\site-packages (from smart_open>=1.2.1->gensim)\n",
      "Requirement already satisfied: requests in c:\\users\\sanek\\anaconda3\\lib\\site-packages (from smart_open>=1.2.1->gensim)\n",
      "Requirement already satisfied: boto3 in c:\\users\\sanek\\anaconda3\\lib\\site-packages (from smart_open>=1.2.1->gensim)\n",
      "Requirement already satisfied: chardet<3.1.0,>=3.0.2 in c:\\users\\sanek\\anaconda3\\lib\\site-packages (from requests->smart_open>=1.2.1->gensim)\n",
      "Requirement already satisfied: idna<2.7,>=2.5 in c:\\users\\sanek\\anaconda3\\lib\\site-packages (from requests->smart_open>=1.2.1->gensim)\n",
      "Requirement already satisfied: urllib3<1.23,>=1.21.1 in c:\\users\\sanek\\anaconda3\\lib\\site-packages (from requests->smart_open>=1.2.1->gensim)\n",
      "Requirement already satisfied: certifi>=2017.4.17 in c:\\users\\sanek\\anaconda3\\lib\\site-packages (from requests->smart_open>=1.2.1->gensim)\n",
      "Collecting botocore<1.8.0,>=1.7.0 (from boto3->smart_open>=1.2.1->gensim)\n",
      "  Downloading botocore-1.7.48-py2.py3-none-any.whl (3.7MB)\n",
      "Requirement already satisfied: jmespath<1.0.0,>=0.7.1 in c:\\users\\sanek\\anaconda3\\lib\\site-packages (from boto3->smart_open>=1.2.1->gensim)\n",
      "Requirement already satisfied: s3transfer<0.2.0,>=0.1.10 in c:\\users\\sanek\\anaconda3\\lib\\site-packages (from boto3->smart_open>=1.2.1->gensim)\n",
      "Requirement already satisfied: docutils>=0.10 in c:\\users\\sanek\\anaconda3\\lib\\site-packages (from botocore<1.8.0,>=1.7.0->boto3->smart_open>=1.2.1->gensim)\n",
      "Requirement already satisfied: python-dateutil<3.0.0,>=2.1 in c:\\users\\sanek\\anaconda3\\lib\\site-packages (from botocore<1.8.0,>=1.7.0->boto3->smart_open>=1.2.1->gensim)\n",
      "Installing collected packages: botocore\n",
      "  Found existing installation: botocore 1.5.92\n",
      "    Uninstalling botocore-1.5.92:\n",
      "      Successfully uninstalled botocore-1.5.92\n",
      "Successfully installed botocore-1.7.48\n",
      "Requirement already satisfied: beautifulsoup4 in c:\\users\\sanek\\anaconda3\\lib\\site-packages\n",
      "Collecting wordcloud\n",
      "  Downloading wordcloud-1.3.1.tar.gz (169kB)\n",
      "Requirement already satisfied: matplotlib in c:\\users\\sanek\\anaconda3\\lib\\site-packages (from wordcloud)\n",
      "Requirement already satisfied: numpy>=1.6.1 in c:\\users\\sanek\\anaconda3\\lib\\site-packages (from wordcloud)\n",
      "Requirement already satisfied: pillow in c:\\users\\sanek\\anaconda3\\lib\\site-packages (from wordcloud)\n",
      "Requirement already satisfied: python-dateutil in c:\\users\\sanek\\anaconda3\\lib\\site-packages (from matplotlib->wordcloud)\n",
      "Requirement already satisfied: pytz in c:\\users\\sanek\\anaconda3\\lib\\site-packages (from matplotlib->wordcloud)\n",
      "Requirement already satisfied: cycler in c:\\users\\sanek\\anaconda3\\lib\\site-packages\\cycler-0.10.0-py3.5.egg (from matplotlib->wordcloud)\n",
      "Requirement already satisfied: pyparsing!=2.0.4,!=2.1.2,>=1.5.6 in c:\\users\\sanek\\anaconda3\\lib\\site-packages (from matplotlib->wordcloud)\n",
      "Requirement already satisfied: olefile in c:\\users\\sanek\\anaconda3\\lib\\site-packages (from pillow->wordcloud)\n",
      "Requirement already satisfied: six>=1.5 in c:\\users\\sanek\\anaconda3\\lib\\site-packages (from python-dateutil->matplotlib->wordcloud)\n",
      "Building wheels for collected packages: wordcloud\n",
      "  Running setup.py bdist_wheel for wordcloud: started\n",
      "  Running setup.py bdist_wheel for wordcloud: finished with status 'error'\n",
      "  Complete output from command C:\\Users\\sanek\\Anaconda3\\python.exe -u -c \"import setuptools, tokenize;__file__='C:\\\\Users\\\\sanek\\\\AppData\\\\Local\\\\Temp\\\\pip-build-0sr37wnx\\\\wordcloud\\\\setup.py';f=getattr(tokenize, 'open', open)(__file__);code=f.read().replace('\\r\\n', '\\n');f.close();exec(compile(code, __file__, 'exec'))\" bdist_wheel -d C:\\Users\\sanek\\AppData\\Local\\Temp\\tmpdl1ep5popip-wheel- --python-tag cp35:\n",
      "  running bdist_wheel\n",
      "  running build\n",
      "  running build_py\n",
      "  creating build\n",
      "  creating build\\lib.win-amd64-3.5\n",
      "  creating build\\lib.win-amd64-3.5\\wordcloud\n",
      "  copying wordcloud\\color_from_image.py -> build\\lib.win-amd64-3.5\\wordcloud\n",
      "  copying wordcloud\\tokenization.py -> build\\lib.win-amd64-3.5\\wordcloud\n",
      "  copying wordcloud\\wordcloud.py -> build\\lib.win-amd64-3.5\\wordcloud\n",
      "  copying wordcloud\\wordcloud_cli.py -> build\\lib.win-amd64-3.5\\wordcloud\n",
      "  copying wordcloud\\__init__.py -> build\\lib.win-amd64-3.5\\wordcloud\n",
      "  copying wordcloud\\stopwords -> build\\lib.win-amd64-3.5\\wordcloud\n",
      "  copying wordcloud\\DroidSansMono.ttf -> build\\lib.win-amd64-3.5\\wordcloud\n",
      "  running build_ext\n",
      "  error: [WinError 2] The system cannot find the file specified\n",
      "  \n",
      "  ----------------------------------------\n",
      "  Running setup.py clean for wordcloud\n",
      "Failed to build wordcloud\n",
      "Installing collected packages: wordcloud\n",
      "  Running setup.py install for wordcloud: started\n",
      "    Running setup.py install for wordcloud: finished with status 'error'\n",
      "    Complete output from command C:\\Users\\sanek\\Anaconda3\\python.exe -u -c \"import setuptools, tokenize;__file__='C:\\\\Users\\\\sanek\\\\AppData\\\\Local\\\\Temp\\\\pip-build-0sr37wnx\\\\wordcloud\\\\setup.py';f=getattr(tokenize, 'open', open)(__file__);code=f.read().replace('\\r\\n', '\\n');f.close();exec(compile(code, __file__, 'exec'))\" install --record C:\\Users\\sanek\\AppData\\Local\\Temp\\pip-y6f512cu-record\\install-record.txt --single-version-externally-managed --compile:\n",
      "    running install\n",
      "    running build\n",
      "    running build_py\n",
      "    creating build\n",
      "    creating build\\lib.win-amd64-3.5\n",
      "    creating build\\lib.win-amd64-3.5\\wordcloud\n",
      "    copying wordcloud\\color_from_image.py -> build\\lib.win-amd64-3.5\\wordcloud\n",
      "    copying wordcloud\\tokenization.py -> build\\lib.win-amd64-3.5\\wordcloud\n",
      "    copying wordcloud\\wordcloud.py -> build\\lib.win-amd64-3.5\\wordcloud\n",
      "    copying wordcloud\\wordcloud_cli.py -> build\\lib.win-amd64-3.5\\wordcloud\n",
      "    copying wordcloud\\__init__.py -> build\\lib.win-amd64-3.5\\wordcloud\n",
      "    copying wordcloud\\stopwords -> build\\lib.win-amd64-3.5\\wordcloud\n",
      "    copying wordcloud\\DroidSansMono.ttf -> build\\lib.win-amd64-3.5\\wordcloud\n",
      "    running build_ext\n",
      "    error: [WinError 2] The system cannot find the file specified\n",
      "    \n",
      "    ----------------------------------------\n"
     ]
    },
    {
     "name": "stderr",
     "output_type": "stream",
     "text": [
      "  Failed building wheel for wordcloud\n",
      "Command \"C:\\Users\\sanek\\Anaconda3\\python.exe -u -c \"import setuptools, tokenize;__file__='C:\\\\Users\\\\sanek\\\\AppData\\\\Local\\\\Temp\\\\pip-build-0sr37wnx\\\\wordcloud\\\\setup.py';f=getattr(tokenize, 'open', open)(__file__);code=f.read().replace('\\r\\n', '\\n');f.close();exec(compile(code, __file__, 'exec'))\" install --record C:\\Users\\sanek\\AppData\\Local\\Temp\\pip-y6f512cu-record\\install-record.txt --single-version-externally-managed --compile\" failed with error code 1 in C:\\Users\\sanek\\AppData\\Local\\Temp\\pip-build-0sr37wnx\\wordcloud\\\n"
     ]
    },
    {
     "name": "stdout",
     "output_type": "stream",
     "text": [
      "Requirement already satisfied: tqdm in c:\\users\\sanek\\anaconda3\\lib\\site-packages\n"
     ]
    }
   ],
   "source": [
    "! pip install gensim\n",
    "! pip install beautifulsoup4\n",
    "! pip install wordcloud\n",
    "! pip install tqdm\n",
    "\n",
    "# или используем https://www.lfd.uci.edu/~gohlke/pythonlibs/#wordcloud"
   ]
  },
  {
   "cell_type": "markdown",
   "metadata": {},
   "source": [
    "Подгружаем данные:"
   ]
  },
  {
   "cell_type": "code",
   "execution_count": 1,
   "metadata": {
    "collapsed": true
   },
   "outputs": [],
   "source": [
    "import pandas as pd\n",
    "\n",
    "train = pd.read_csv(\"labeledTrainData.tsv\", header=0,\n",
    "                    delimiter=\"\\t\", quoting=3)"
   ]
  },
  {
   "cell_type": "code",
   "execution_count": 2,
   "metadata": {},
   "outputs": [
    {
     "data": {
      "text/plain": [
       "'\"With all this stuff going down at the moment with MJ i\\'ve started listening to his music, watching the odd documentary here and there, watched The Wiz and watched Moonwalker again. Maybe i just want to get a certain insight into this guy who i thought was really cool in the eighties just to maybe make up my mind whether he is guilty or innocent. Moonwalker is part biography, part feature film which i remember going to see at the cinema when it was originally released. Some of it has subtle messages about MJ\\'s feeling towards the press and also the obvious message of drugs are bad m\\'kay.<br /><br />Visually impressive but of course this is all about Michael Jackson so unless you remotely like MJ in anyway then you are going to hate this and find it boring. Some may call MJ an egotist for consenting to the making of this movie BUT MJ and most of his fans would say that he made it for the fans which if true is really nice of him.<br /><br />The actual feature film bit when it finally starts is only on for 20 minutes or so excluding the Smooth Criminal sequence and Joe Pesci is convincing as a psychopathic all powerful drug lord. Why he wants MJ dead so bad is beyond me. Because MJ overheard his plans? Nah, Joe Pesci\\'s character ranted that he wanted people to know it is he who is supplying drugs etc so i dunno, maybe he just hates MJ\\'s music.<br /><br />Lots of cool things in this like MJ turning into a car and a robot and the whole Speed Demon sequence. Also, the director must have had the patience of a saint when it came to filming the kiddy Bad sequence as usually directors hate working with one kid let alone a whole bunch of them performing a complex dance scene.<br /><br />Bottom line, this movie is for people who like MJ on one level or another (which i think is most people). If not, then stay away. It does try and give off a wholesome message and ironically MJ\\'s bestest buddy in this movie is a girl! Michael Jackson is truly one of the most talented people ever to grace this planet but is he guilty? Well, with all the attention i\\'ve gave this subject....hmmm well i don\\'t know because people can be different behind closed doors, i know this for a fact. He is either an extremely nice but stupid guy or one of the most sickest liars. I hope he is not the latter.\"'"
      ]
     },
     "execution_count": 2,
     "metadata": {},
     "output_type": "execute_result"
    }
   ],
   "source": [
    "train['review'].iloc[0]"
   ]
  },
  {
   "cell_type": "markdown",
   "metadata": {},
   "source": [
    "Видно, что в данных присутствуют элементы html.\n",
    "\n",
    "- избавимся от элементов html  с помощью модуля BeautifulSoup: \n",
    "    http://nullege.com/codes/search/bs4.BeautifulSoup.getText\n",
    "- оставим только буквы\n",
    "- приведем все к нижнему регистру\n",
    "- уберем стоп слова"
   ]
  },
  {
   "cell_type": "code",
   "execution_count": 3,
   "metadata": {
    "collapsed": true
   },
   "outputs": [],
   "source": [
    "from nltk.corpus import stopwords\n",
    "from bs4 import BeautifulSoup\n",
    "import re"
   ]
  },
  {
   "cell_type": "code",
   "execution_count": null,
   "metadata": {
    "collapsed": true
   },
   "outputs": [],
   "source": [
    "def review_to_words(raw_review):\n",
    "    # your code is hear\n",
    "    # 1. bs\n",
    "    review_text = \n",
    "    # 2. regular expression\n",
    "    letters_only = \n",
    "    # 3. to lower\n",
    "    words = \n",
    "    # 4. drop stopwords\n",
    "    words = \n",
    "    \n",
    "    return words "
   ]
  },
  {
   "cell_type": "code",
   "execution_count": null,
   "metadata": {
    "collapsed": true
   },
   "outputs": [],
   "source": [
    "review_to_words(train['review'].iloc[0])"
   ]
  },
  {
   "cell_type": "markdown",
   "metadata": {},
   "source": [
    "Примените реализованную функцию к каждому предожению train"
   ]
  },
  {
   "cell_type": "code",
   "execution_count": null,
   "metadata": {
    "collapsed": true
   },
   "outputs": [],
   "source": [
    "from tqdm import tqdm\n",
    "\n",
    "#num_reviews = train[\"review\"].size \n",
    "num_reviews = 1000\n",
    "\n",
    "clean_train_reviews = []\n",
    "\n",
    "for i in tqdm(range(num_reviews)):\n",
    "    clean_train_reviews.append(review_to_words(train[\"review\"][i]))"
   ]
  },
  {
   "cell_type": "markdown",
   "metadata": {},
   "source": [
    "Обучите word2vec"
   ]
  },
  {
   "cell_type": "code",
   "execution_count": null,
   "metadata": {
    "collapsed": true
   },
   "outputs": [],
   "source": [
    "num_features = 100    # Word vector dimensionality                      \n",
    "min_word_count = 40   # Minimum word count                        \n",
    "num_workers = 4       # Number of threads to run in parallel\n",
    "context = 10          # Context window size                                                                                    \n",
    "downsampling = 1e-3   # Downsample setting for frequent words\n",
    "\n",
    "from gensim.models import word2vec\n",
    "\n",
    "# подаем в обучение clean_train_reviews\n",
    "model = word2vec.Word2Vec(clean_train_reviews, workers=num_workers, \n",
    "                          size=num_features, min_count = min_word_count, \n",
    "                          window = context, sample = downsampling)\n",
    "\n",
    "model.init_sims(replace=True)\n",
    "\n",
    "# модель можно сохранить\n",
    "# model_name = ''\n",
    "# model.save(model_name)"
   ]
  },
  {
   "cell_type": "markdown",
   "metadata": {},
   "source": [
    "Теперь можно воспользjваться функциями поиска похожих / непохожих слов на данное\n",
    "- model.wv.most_similar\n",
    "- model.wv.doesnt_match\n",
    "- etc"
   ]
  },
  {
   "cell_type": "code",
   "execution_count": null,
   "metadata": {
    "collapsed": true
   },
   "outputs": [],
   "source": [
    "# здесь можно посмотреть все слова, к которым мы имеем вектора\n",
    "# model.wv.vocab"
   ]
  },
  {
   "cell_type": "code",
   "execution_count": null,
   "metadata": {
    "collapsed": true
   },
   "outputs": [],
   "source": [
    "model.wv.most_similar('mother')"
   ]
  },
  {
   "cell_type": "code",
   "execution_count": null,
   "metadata": {
    "collapsed": true
   },
   "outputs": [],
   "source": [
    "model.wv.doesnt_match(\"man woman child\".split())"
   ]
  },
  {
   "cell_type": "code",
   "execution_count": null,
   "metadata": {
    "collapsed": true
   },
   "outputs": [],
   "source": [
    "model.wv.doesnt_match([\"sun\", \"moon\", \"planet\", \"earth\"])"
   ]
  },
  {
   "cell_type": "code",
   "execution_count": null,
   "metadata": {
    "collapsed": true
   },
   "outputs": [],
   "source": [
    "model.wv.most_similar(\"girl\")"
   ]
  },
  {
   "cell_type": "code",
   "execution_count": null,
   "metadata": {
    "collapsed": true
   },
   "outputs": [],
   "source": [
    "model.wv.most_similar(\"horror\")"
   ]
  },
  {
   "cell_type": "markdown",
   "metadata": {},
   "source": [
    "Теперь выделите top 100 самых частотных слов и получите для них только что обученные вектора"
   ]
  },
  {
   "cell_type": "code",
   "execution_count": null,
   "metadata": {
    "collapsed": true
   },
   "outputs": [],
   "source": [
    "from nltk import FreqDist\n",
    "\n",
    "fd = FreqDist()\n",
    "# your code is hear\n",
    "\n",
    "top_words = # your code is hear"
   ]
  },
  {
   "cell_type": "code",
   "execution_count": null,
   "metadata": {
    "collapsed": true
   },
   "outputs": [],
   "source": [
    "top_words_vec = # your code is hear"
   ]
  },
  {
   "cell_type": "code",
   "execution_count": null,
   "metadata": {
    "collapsed": true
   },
   "outputs": [],
   "source": []
  },
  {
   "cell_type": "markdown",
   "metadata": {},
   "source": [
    "Визуализируем вектора. Для этого воспользуемся методом снижения размерности t-sne"
   ]
  },
  {
   "cell_type": "code",
   "execution_count": null,
   "metadata": {
    "collapsed": true
   },
   "outputs": [],
   "source": [
    "from sklearn.manifold import TSNE\n",
    "tsne = TSNE(n_components=2, random_state=0)\n",
    "top_words_tsne = # your code is hear"
   ]
  },
  {
   "cell_type": "code",
   "execution_count": null,
   "metadata": {
    "collapsed": true
   },
   "outputs": [],
   "source": [
    "print(top_words_vec.shape)\n",
    "print(top_words_tsne.shape)"
   ]
  },
  {
   "cell_type": "code",
   "execution_count": null,
   "metadata": {
    "collapsed": true
   },
   "outputs": [],
   "source": [
    "import matplotlib.pyplot as plt\n",
    "import seaborn as sns\n",
    "\n",
    "%matplotlib inline\n",
    "\n",
    "x = []\n",
    "y = []\n",
    "for value in top_words_tsne:\n",
    "    x.append(value[0])\n",
    "    y.append(value[1])\n",
    "\n",
    "plt.figure(figsize=(16, 16)) \n",
    "for i in range(100):\n",
    "    plt.scatter(x[i],y[i])\n",
    "    plt.annotate(top_words[i],\n",
    "                 xy=(x[i], y[i]),\n",
    "                 xytext=(5, 2),\n",
    "                 textcoords='offset points',\n",
    "                 ha='right',\n",
    "                 va='bottom')\n",
    "plt.show()"
   ]
  },
  {
   "cell_type": "code",
   "execution_count": null,
   "metadata": {
    "collapsed": true
   },
   "outputs": [],
   "source": []
  },
  {
   "cell_type": "markdown",
   "metadata": {},
   "source": [
    "Теперь нарисуйте облако слов"
   ]
  },
  {
   "cell_type": "code",
   "execution_count": null,
   "metadata": {
    "collapsed": true
   },
   "outputs": [],
   "source": [
    "from wordcloud import *\n",
    "word_freq = [i for i in fd.most_common(100)]\n",
    "wd = WordCloud(background_color = 'white')\n",
    "wd.generate_from_frequencies(dict(word_freq))\n",
    "plt.figure()\n",
    "plt.imshow(wd, interpolation = 'bilinear')\n",
    "plt.axis('off')\n",
    "plt.show()"
   ]
  },
  {
   "cell_type": "code",
   "execution_count": null,
   "metadata": {
    "collapsed": true
   },
   "outputs": [],
   "source": []
  }
 ],
 "metadata": {
  "anaconda-cloud": {},
  "kernelspec": {
   "display_name": "Python [conda root]",
   "language": "python",
   "name": "conda-root-py"
  },
  "language_info": {
   "codemirror_mode": {
    "name": "ipython",
    "version": 3
   },
   "file_extension": ".py",
   "mimetype": "text/x-python",
   "name": "python",
   "nbconvert_exporter": "python",
   "pygments_lexer": "ipython3",
   "version": "3.5.4"
  }
 },
 "nbformat": 4,
 "nbformat_minor": 2
}
