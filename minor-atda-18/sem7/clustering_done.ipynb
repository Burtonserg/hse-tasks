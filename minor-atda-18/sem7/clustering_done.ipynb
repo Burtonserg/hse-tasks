{
 "cells": [
  {
   "cell_type": "code",
   "execution_count": 4,
   "metadata": {},
   "outputs": [],
   "source": [
    "from sklearn.decomposition import TruncatedSVD\n",
    "from sklearn.preprocessing import Normalizer\n",
    "import numpy as np\n",
    "from sklearn.pipeline import Pipeline\n",
    "\n",
    "from sklearn.cluster import KMeans\n",
    "from sklearn.preprocessing import Normalizer\n",
    "\n",
    "import csv\n",
    "import pandas as pd\n",
    "from sklearn.cross_validation import train_test_split\n",
    "from collections import Counter\n",
    "from sklearn.feature_extraction.text import TfidfVectorizer, TfidfTransformer\n",
    "from sklearn.feature_extraction.text import CountVectorizer\n",
    "from sklearn.svm import LinearSVC\n",
    "from sklearn.linear_model import LogisticRegression\n",
    "from sklearn.model_selection import StratifiedKFold\n",
    "from sklearn.linear_model import SGDClassifier\n",
    "import numpy as np\n",
    "import glob"
   ]
  },
  {
   "cell_type": "code",
   "execution_count": 2,
   "metadata": {
    "collapsed": true
   },
   "outputs": [],
   "source": [
    "train_file = csv.reader(open('train.data'), delimiter='\\t')\n",
    "next(train_file)\n",
    "train_set = [x for x in train_file]\n",
    "\n",
    "train_data, train_label = [line[2] for line in train_set], [line[1] for line in train_set]\n",
    "from sklearn.cross_validation import train_test_split\n",
    "\n",
    "x_train, x_validate, y_train, y_validate = train_test_split(train_data, train_label, test_size=0.2, random_state=0)"
   ]
  },
  {
   "cell_type": "code",
   "execution_count": null,
   "metadata": {},
   "outputs": [],
   "source": []
  },
  {
   "cell_type": "code",
   "execution_count": 5,
   "metadata": {},
   "outputs": [
    {
     "name": "stderr",
     "output_type": "stream",
     "text": [
      "/Users/nkozlovskaya/anaconda2/lib/python2.7/site-packages/sklearn/feature_extraction/text.py:1089: FutureWarning: Conversion of the second argument of issubdtype from `float` to `np.floating` is deprecated. In future, it will be treated as `np.float64 == np.dtype(float).type`.\n",
      "  if hasattr(X, 'dtype') and np.issubdtype(X.dtype, np.float):\n"
     ]
    },
    {
     "data": {
      "text/plain": [
       "Pipeline(memory=None,\n",
       "     steps=[('vect', CountVectorizer(analyzer=u'word', binary=False, decode_error=u'strict',\n",
       "        dtype=<type 'numpy.int64'>, encoding=u'utf-8', input=u'content',\n",
       "        lowercase=True, max_df=1.0, max_features=5000, min_df=1,\n",
       "        ngram_range=(1, 1), preprocessor=None, stop_words='english',\n",
       "     ...5, n_init=10, n_jobs=1, precompute_distances='auto',\n",
       "    random_state=None, tol=0.0001, verbose=0))])"
      ]
     },
     "execution_count": 5,
     "metadata": {},
     "output_type": "execute_result"
    }
   ],
   "source": [
    "pipeline = Pipeline([\n",
    "    ('vect', CountVectorizer(stop_words ='english', max_features=5000)),\n",
    "    ('tfidf', TfidfTransformer()),\n",
    "    ('svd', TruncatedSVD(n_components=5)),\n",
    "    ('norm', Normalizer() ),\n",
    "    ('clust', KMeans(n_clusters=5))\n",
    "])\n",
    "\n",
    "pipeline.fit(x_train)\n"
   ]
  },
  {
   "cell_type": "code",
   "execution_count": 7,
   "metadata": {},
   "outputs": [],
   "source": [
    "clust_labels = pipeline.named_steps['clust'].labels_"
   ]
  },
  {
   "cell_type": "code",
   "execution_count": 8,
   "metadata": {},
   "outputs": [
    {
     "data": {
      "text/plain": [
       "array([0, 4, 1, 1, 0, 1, 3, 0, 0, 3, 1, 3, 3, 2, 2, 4, 1, 0, 3, 1],\n",
       "      dtype=int32)"
      ]
     },
     "execution_count": 8,
     "metadata": {},
     "output_type": "execute_result"
    }
   ],
   "source": [
    "clust_labels[:20]"
   ]
  },
  {
   "cell_type": "code",
   "execution_count": 9,
   "metadata": {},
   "outputs": [
    {
     "data": {
      "text/plain": [
       "array([2, 0, 1, 2, 4, 0, 4, 2, 3, 4, 3, 4, 3, 3, 2, 2, 4, 4, 2, 3])"
      ]
     },
     "execution_count": 9,
     "metadata": {},
     "output_type": "execute_result"
    }
   ],
   "source": [
    "(np.array(map(int, y_train))-1)[:20]"
   ]
  },
  {
   "cell_type": "code",
   "execution_count": 15,
   "metadata": {
    "collapsed": true
   },
   "outputs": [],
   "source": [
    "labels = np.array(map(float, y_train))-1\n",
    "\n",
    "# print(\"Homogeneity:\", homogeneity_score(labels, clust_labels))\n",
    "# print(\"Completeness:\", completeness_score(labels, clust_labels))\n",
    "# print(\"V-measure\",  v_measure_score(labels, clust_labels))\n",
    "# print(\"Adjusted Rand-Index:\",  adjusted_rand_score(labels, clust_labels))"
   ]
  },
  {
   "cell_type": "markdown",
   "metadata": {},
   "source": [
    "В чем проблема, если мы просто сейчас посмотрим на accuracy?"
   ]
  },
  {
   "cell_type": "code",
   "execution_count": null,
   "metadata": {
    "collapsed": true
   },
   "outputs": [],
   "source": [
    "# проблема в том, что метки могут быть перемешаны"
   ]
  },
  {
   "cell_type": "code",
   "execution_count": 49,
   "metadata": {},
   "outputs": [],
   "source": [
    "code_dict = dict(zip(range(1, 6), [_1, _2, _3, _4, _5]))"
   ]
  },
  {
   "cell_type": "code",
   "execution_count": 50,
   "metadata": {},
   "outputs": [
    {
     "data": {
      "text/plain": [
       "{1: 1, 2: 2, 3: 3, 4: 4, 5: 5}"
      ]
     },
     "execution_count": 50,
     "metadata": {},
     "output_type": "execute_result"
    }
   ],
   "source": [
    "code_dict"
   ]
  },
  {
   "cell_type": "code",
   "execution_count": 47,
   "metadata": {},
   "outputs": [
    {
     "data": {
      "text/plain": [
       "array([0, 4, 1, ..., 0, 2, 3], dtype=int32)"
      ]
     },
     "execution_count": 47,
     "metadata": {},
     "output_type": "execute_result"
    }
   ],
   "source": [
    "clust_labels"
   ]
  },
  {
   "cell_type": "code",
   "execution_count": 51,
   "metadata": {},
   "outputs": [
    {
     "data": {
      "text/plain": [
       "array([1, 5, 2, ..., 1, 3, 4])"
      ]
     },
     "execution_count": 51,
     "metadata": {},
     "output_type": "execute_result"
    }
   ],
   "source": [
    " np.array(map(lambda x: code_dict[x], clust_labels+1))"
   ]
  },
  {
   "cell_type": "code",
   "execution_count": 43,
   "metadata": {},
   "outputs": [],
   "source": [
    "y_train = np.array(map(int, y_train))"
   ]
  },
  {
   "cell_type": "code",
   "execution_count": null,
   "metadata": {},
   "outputs": [],
   "source": []
  },
  {
   "cell_type": "code",
   "execution_count": 52,
   "metadata": {},
   "outputs": [
    {
     "name": "stdout",
     "output_type": "stream",
     "text": [
      "1 2 3 4 5\n",
      "accuracy:  0.1674285366002316\n",
      "1 2 3 5 4\n",
      "accuracy:  0.133540561955263\n",
      "1 2 4 3 5\n",
      "accuracy:  0.1353202901200707\n",
      "1 2 4 5 3\n",
      "accuracy:  0.14072042420917902\n",
      "1 2 5 3 4\n",
      "accuracy:  0.12193575912720181\n",
      "1 2 5 4 3\n",
      "accuracy:  0.16122386786127874\n",
      "1 3 2 4 5\n",
      "accuracy:  0.1895166697141464\n",
      "1 3 2 5 4\n",
      "accuracy:  0.15562869506917779\n",
      "1 3 4 2 5\n",
      "accuracy:  0.14356067532150912\n",
      "1 3 4 5 2\n",
      "accuracy:  0.1735478759066252\n",
      "1 3 5 2 4\n",
      "accuracy:  0.13017614432864022\n",
      "1 3 5 4 2\n",
      "accuracy:  0.19405131955872493\n",
      "1 4 2 3 5\n",
      "accuracy:  0.20236484427378557\n",
      "1 4 2 5 3\n",
      "accuracy:  0.2077649783628939\n",
      "1 4 3 2 5\n",
      "accuracy:  0.1885170963613092\n",
      "1 4 3 5 2\n",
      "accuracy:  0.2185042969464253\n",
      "1 4 5 2 3\n",
      "accuracy:  0.1823124276223563\n",
      "1 4 5 3 2\n",
      "accuracy:  0.2068994941183641\n",
      "1 5 2 3 4\n",
      "accuracy:  0.16163832510513806\n",
      "1 5 2 4 3\n",
      "accuracy:  0.20092643383921496\n",
      "1 5 3 2 4\n",
      "accuracy:  0.14779057719266167\n",
      "1 5 3 4 2\n",
      "accuracy:  0.21166575242274638\n",
      "1 5 4 2 3\n",
      "accuracy:  0.15497043944657768\n",
      "1 5 4 3 2\n",
      "accuracy:  0.1795575059425855\n",
      "2 1 3 4 5\n",
      "accuracy:  0.16132138721277503\n",
      "2 1 3 5 4\n",
      "accuracy:  0.12743341256780644\n",
      "2 1 4 3 5\n",
      "accuracy:  0.12921314073261414\n",
      "2 1 4 5 3\n",
      "accuracy:  0.13461327482172245\n",
      "2 1 5 3 4\n",
      "accuracy:  0.11582860973974524\n",
      "2 1 5 4 3\n",
      "accuracy:  0.15511671847382216\n",
      "2 3 1 4 5\n",
      "accuracy:  0.19706222953617358\n",
      "2 3 1 5 4\n",
      "accuracy:  0.16317425489120496\n",
      "2 3 4 1 5\n",
      "accuracy:  0.1416224782105199\n",
      "2 3 4 5 1\n",
      "accuracy:  0.1982812214298775\n",
      "2 3 5 1 4\n",
      "accuracy:  0.128237947217651\n",
      "2 3 5 4 1\n",
      "accuracy:  0.2187846650819772\n",
      "2 4 1 3 5\n",
      "accuracy:  0.20991040409581277\n",
      "2 4 1 5 3\n",
      "accuracy:  0.21531053818492107\n",
      "2 4 3 1 5\n",
      "accuracy:  0.18657889925031998\n",
      "2 4 3 5 1\n",
      "accuracy:  0.24323764246967758\n",
      "2 4 5 1 3\n",
      "accuracy:  0.1803742305113671\n",
      "2 4 5 3 1\n",
      "accuracy:  0.23163283964161638\n",
      "2 5 1 3 4\n",
      "accuracy:  0.16918388492716524\n",
      "2 5 1 4 3\n",
      "accuracy:  0.20847199366124217\n",
      "2 5 3 1 4\n",
      "accuracy:  0.14585238008167245\n",
      "2 5 3 4 1\n",
      "accuracy:  0.23639909794599867\n",
      "2 5 4 1 3\n",
      "accuracy:  0.15303224233558846\n",
      "2 5 4 3 1\n",
      "accuracy:  0.20429085146583775\n",
      "3 1 2 4 5\n",
      "accuracy:  0.18282440421771196\n",
      "3 1 2 5 4\n",
      "accuracy:  0.14893642957274333\n",
      "3 1 4 2 5\n",
      "accuracy:  0.13686840982507467\n",
      "3 1 4 5 2\n",
      "accuracy:  0.16685561041019079\n",
      "3 1 5 2 4\n",
      "accuracy:  0.12348387883220577\n",
      "3 1 5 4 2\n",
      "accuracy:  0.18735905406229048\n",
      "3 2 1 4 5\n",
      "accuracy:  0.1964771134271957\n",
      "3 2 1 5 4\n",
      "accuracy:  0.1625891387822271\n",
      "3 2 4 1 5\n",
      "accuracy:  0.14103736210154202\n",
      "3 2 4 5 1\n",
      "accuracy:  0.19769610532089962\n",
      "3 2 5 1 4\n",
      "accuracy:  0.12765283110867312\n",
      "3 2 5 4 1\n",
      "accuracy:  0.21819954897299934\n",
      "3 4 1 2 5\n",
      "accuracy:  0.2175656731882733\n",
      "3 4 1 5 2\n",
      "accuracy:  0.24755287377338941\n",
      "3 4 2 1 5\n",
      "accuracy:  0.2080819162552569\n",
      "3 4 2 5 1\n",
      "accuracy:  0.2647406594746145\n",
      "3 4 5 1 2\n",
      "accuracy:  0.21261656609983542\n",
      "3 4 5 2 1\n",
      "accuracy:  0.2392881087340769\n",
      "3 5 1 2 4\n",
      "accuracy:  0.17683915401962577\n",
      "3 5 1 4 2\n",
      "accuracy:  0.24071432924971048\n",
      "3 5 2 1 4\n",
      "accuracy:  0.16735539708660938\n",
      "3 5 2 4 1\n",
      "accuracy:  0.25790211495093557\n",
      "3 5 4 1 2\n",
      "accuracy:  0.1852745779240568\n",
      "3 5 4 2 1\n",
      "accuracy:  0.21194612055829828\n",
      "4 1 2 3 5\n",
      "accuracy:  0.20025598829767782\n",
      "4 1 2 5 3\n",
      "accuracy:  0.20565612238678613\n",
      "4 1 3 2 5\n",
      "accuracy:  0.18640824038520143\n",
      "4 1 3 5 2\n",
      "accuracy:  0.21639544097031754\n",
      "4 1 5 2 3\n",
      "accuracy:  0.18020357164624856\n",
      "4 1 5 3 2\n",
      "accuracy:  0.20479063814225634\n",
      "4 2 1 3 5\n",
      "accuracy:  0.21390869750716157\n",
      "4 2 1 5 3\n",
      "accuracy:  0.21930883159626988\n",
      "4 2 3 1 5\n",
      "accuracy:  0.1905771926616688\n",
      "4 2 3 5 1\n",
      "accuracy:  0.24723593588102638\n",
      "4 2 5 1 3\n",
      "accuracy:  0.18437252392271591\n",
      "4 2 5 3 1\n",
      "accuracy:  0.2356311330529652\n",
      "4 3 1 2 5\n",
      "accuracy:  0.22214908270859998\n",
      "4 3 1 5 2\n",
      "accuracy:  0.2521362832937161\n",
      "4 3 2 1 5\n",
      "accuracy:  0.21266532577558359\n",
      "4 3 2 5 1\n",
      "accuracy:  0.26932406899494116\n",
      "4 3 5 1 2\n",
      "accuracy:  0.21719997562016213\n",
      "4 3 5 2 1\n",
      "accuracy:  0.24387151825440362\n",
      "4 5 1 2 3\n",
      "accuracy:  0.23355884683366857\n",
      "4 5 1 3 2\n",
      "accuracy:  0.25814591332967635\n",
      "4 5 2 1 3\n",
      "accuracy:  0.22407508990065217\n",
      "4 5 2 3 1\n",
      "accuracy:  0.27533369903090144\n",
      "4 5 3 1 2\n",
      "accuracy:  0.23481440848418358\n",
      "4 5 3 2 1\n",
      "accuracy:  0.26148595111842504\n",
      "5 1 2 3 4\n",
      "accuracy:  0.1881148290363869\n",
      "5 1 2 4 3\n",
      "accuracy:  0.22740293777046383\n",
      "5 1 3 2 4\n",
      "accuracy:  0.17426708112391054\n",
      "5 1 3 4 2\n",
      "accuracy:  0.23814225635399525\n",
      "5 1 4 2 3\n",
      "accuracy:  0.18144694337782655\n",
      "5 1 4 3 2\n",
      "accuracy:  0.20603400987383433\n",
      "5 2 1 3 4\n",
      "accuracy:  0.20176753824587065\n",
      "5 2 1 4 3\n",
      "accuracy:  0.24105564697994758\n",
      "5 2 3 1 4\n",
      "accuracy:  0.1784360334003779\n",
      "5 2 3 4 1\n",
      "accuracy:  0.2689827512647041\n",
      "5 2 4 1 3\n",
      "accuracy:  0.1856158956542939\n",
      "5 2 4 3 1\n",
      "accuracy:  0.2368745047845432\n",
      "5 3 1 2 4\n",
      "accuracy:  0.21000792344730906\n",
      "5 3 1 4 2\n",
      "accuracy:  0.2738830986773938\n",
      "5 3 2 1 4\n",
      "accuracy:  0.20052416651429267\n",
      "5 3 2 4 1\n",
      "accuracy:  0.2910708843786189\n",
      "5 3 4 1 2\n",
      "accuracy:  0.21844334735174012\n",
      "5 3 4 2 1\n",
      "accuracy:  0.2451148899859816\n",
      "5 4 1 2 3\n",
      "accuracy:  0.2621442067410252\n",
      "5 4 1 3 2\n",
      "accuracy:  0.28673127323703296\n",
      "5 4 2 1 3\n",
      "accuracy:  0.2526604498080088\n",
      "5 4 2 3 1\n",
      "accuracy:  0.30391905893825805\n",
      "5 4 3 1 2\n",
      "accuracy:  0.2633997683915402\n",
      "5 4 3 2 1\n",
      "accuracy:  0.29007131102578165\n"
     ]
    }
   ],
   "source": [
    "import itertools\n",
    "for _1, _2, _3, _4, _5 in itertools.permutations([1, 2, 3, 4, 5], 5):\n",
    "    print _1, _2, _3, _4, _5\n",
    "    code_dict = dict(zip(range(1, 6), [_1, _2, _3, _4, _5]))\n",
    "    answ = np.array(map(lambda x: code_dict[x], clust_labels+1))\n",
    "    print 'accuracy: ', np.mean(answ == y_train)"
   ]
  },
  {
   "cell_type": "markdown",
   "metadata": {},
   "source": [
    "Смотрим глазками.\n",
    "\n",
    "Самое большое accuracy"
   ]
  },
  {
   "cell_type": "code",
   "execution_count": null,
   "metadata": {
    "collapsed": true
   },
   "outputs": [],
   "source": [
    "5 4 2 3 1\n",
    "accuracy:  0.30391905893825805"
   ]
  },
  {
   "cell_type": "code",
   "execution_count": null,
   "metadata": {
    "collapsed": true
   },
   "outputs": [],
   "source": []
  },
  {
   "cell_type": "markdown",
   "metadata": {},
   "source": [
    "Чему равнялось бы предсказание, если бы мы рандомно ставили метку?"
   ]
  },
  {
   "cell_type": "markdown",
   "metadata": {},
   "source": [
    "0.2. Так что лучше, рандом. ура."
   ]
  },
  {
   "cell_type": "code",
   "execution_count": null,
   "metadata": {
    "collapsed": true
   },
   "outputs": [],
   "source": []
  }
 ],
 "metadata": {
  "kernelspec": {
   "display_name": "Python 2",
   "language": "python",
   "name": "python2"
  },
  "language_info": {
   "codemirror_mode": {
    "name": "ipython",
    "version": 2
   },
   "file_extension": ".py",
   "mimetype": "text/x-python",
   "name": "python",
   "nbconvert_exporter": "python",
   "pygments_lexer": "ipython2",
   "version": "2.7.13"
  }
 },
 "nbformat": 4,
 "nbformat_minor": 2
}
