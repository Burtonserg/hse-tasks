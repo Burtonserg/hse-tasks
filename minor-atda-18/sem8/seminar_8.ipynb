{
 "cells": [
  {
   "cell_type": "markdown",
   "metadata": {
    "collapsed": true,
    "slideshow": {
     "slide_type": "slide"
    }
   },
   "source": [
    "# Языковые модели\n",
    "\n",
    "Какое слово в последовательности вероятнее: \n",
    "\n",
    "Поезд прибыл на\n",
    "* вокзал\n",
    "* север\n",
    "\n",
    "Какая последовательность вероятнее:\n",
    "* Вокзал прибыл поезд на\n",
    "* Поезд прибыл на вокзал\n",
    "\n",
    "Языковая модель [language model, LM]  позволяет оценить вероятность следующего слова в последовательности  $P(w_n | w_1, \\ldots, w_{n-1})$ и оценить вероятность всей последовательности слов $P(w_1, \\ldots, w_n)$."
   ]
  },
  {
   "cell_type": "markdown",
   "metadata": {
    "slideshow": {
     "slide_type": "subslide"
    }
   },
   "source": [
    "### Приложения:\n",
    "* Задачи, в которых нужно обработать сложный и зашумленный вход: распознавание речи, распознавание сканированных и рукописных текстов;\n",
    "* Исправление опечаток\n",
    "* Машинный перевод\n",
    "* Подсказка при наборе "
   ]
  },
  {
   "cell_type": "markdown",
   "metadata": {
    "slideshow": {
     "slide_type": "subslide"
    }
   },
   "source": [
    "### Виды моделей:\n",
    "* Счетные модели\n",
    "    * цепи Маркова\n",
    "* Нейронные модели, обычно реккурентные нейронные сети с LSTM/GRU\n",
    "* seq2seq архитектуры"
   ]
  },
  {
   "cell_type": "markdown",
   "metadata": {
    "slideshow": {
     "slide_type": "slide"
    }
   },
   "source": [
    "## Модель $n$-грам\n",
    "\n",
    "Пусть $w_{1:n}=w_1,\\ldots,w_m$ – последовательность слов.\n",
    "\n",
    "Цепное правило:\n",
    "$ P(w_{1:m}) = P(w_1) P(w_2 | w_1) P(w_3 | w_{1:2}) \\ldots P(w_m | w_{1:m-1}) = \\prod_{k=1}^{m} P(w_k | w_{1:k-1}) $\n",
    "\n",
    "Но оценить $P(w_k | w_{1:k-1})$ не легче! "
   ]
  },
  {
   "cell_type": "markdown",
   "metadata": {
    "slideshow": {
     "slide_type": "subslide"
    }
   },
   "source": [
    "Переходим к $n$-грамам: $P(w_{i+1} | w_{1:i}) \\approx P(w_{i+1} | w_{i-n:i})  $ , то есть, учитываем $n-1$ предыдущее слово. \n",
    "\n",
    "Модель\n",
    "* униграм: $P(w_k)$\n",
    "* биграм: $P(w_k | w_{k-1})$\n",
    "* триграм: $P(w_k | w_{k-1} w_{k-2})$\n",
    "\n",
    "\n",
    "Т.е. используем Марковские допущения о длине запоминаемой цепочки."
   ]
  },
  {
   "cell_type": "markdown",
   "metadata": {
    "slideshow": {
     "slide_type": "fragment"
    }
   },
   "source": [
    "* Вероятность следующего слова в последовательности: $ P(w_{i+1} | w_{1:i}) \\approx P(w_{i-n:i}) $\n",
    "* Вероятность всей последовательности слов: $P(w_{1:n}) = \\prod_{k=1}^l P(w_k | w_{k-n+1: k-1}) $"
   ]
  },
  {
   "cell_type": "markdown",
   "metadata": {
    "slideshow": {
     "slide_type": "subslide"
    }
   },
   "source": [
    "### Качество модели  $n$-грам\n",
    "\n",
    "Перплексия: насколько хорошо модель предсказывает выборку. Чем ниже значение перплексии, тем лучше.\n",
    "\n",
    "$PP(\\texttt{LM}) = 2 ^ {-\\frac{1}{m} \\log_2 \\texttt{LM} (w_i | w_{1:i-1})}$"
   ]
  },
  {
   "cell_type": "markdown",
   "metadata": {
    "slideshow": {
     "slide_type": "slide"
    }
   },
   "source": [
    "## Счетные языковые модели\n",
    "\n",
    "### ММП оценки вероятностей\n",
    "$ P_{MLE}(w_k | w_{k-n+1:k-1}) = \\frac{\\texttt{count}(w_{k-n+1:k-1} w_k )}{\\texttt{count}(w_{k-n+1:k-1} )} $\n",
    "\n",
    "В модели биграм:\n",
    "\n",
    "$ P_{MLE}(w_k | w_{k-1}) = \\frac{\\texttt{count}(w_{k-1} w_k )}{\\texttt{count}(w_{k-1} )} $\n",
    "\n",
    "Возникает проблема нулевых вероятностей!"
   ]
  },
  {
   "cell_type": "markdown",
   "metadata": {
    "slideshow": {
     "slide_type": "subslide"
    }
   },
   "source": [
    "### Аддитивное сглаживание Лапласа\n",
    "\n",
    "$ P(w_k | w_{k-1}) = \\frac{\\texttt{count}(w_{k-1} w_k ) + \\alpha}{\\texttt{count}(w_{k-1} ) + \\alpha |V|} $"
   ]
  },
  {
   "cell_type": "markdown",
   "metadata": {
    "slideshow": {
     "slide_type": "subslide"
    }
   },
   "source": [
    "![AiB](aib.png)  "
   ]
  },
  {
   "cell_type": "markdown",
   "metadata": {
    "slideshow": {
     "slide_type": "subslide"
    }
   },
   "source": [
    "BOS А и Б сидели на трубе EOS\n",
    "\n",
    "BOS А упало Б пропало EOS\n",
    "\n",
    "BOS что осталось на трубе EOS\n",
    "\n",
    "\n",
    "\n",
    "\n",
    "$P($ и $| $ A $) = \\frac{1}{2}$\n",
    "\n",
    "$P($ Б $| $ и $) = \\frac{1}{1}$\n",
    "\n",
    "$P($ трубе $| $ на $) = \\frac{2}{2}$\n",
    "\n",
    "$P($ сидели $| $ Б $) = \\frac{1}{2}$\n",
    "\n",
    "$P($ на $| $ сидели $) = \\frac{1}{2}$\n"
   ]
  },
  {
   "cell_type": "markdown",
   "metadata": {
    "collapsed": true,
    "slideshow": {
     "slide_type": "slide"
    }
   },
   "source": [
    "## Модели биграм в NLTK"
   ]
  },
  {
   "cell_type": "code",
   "execution_count": 1,
   "metadata": {
    "slideshow": {
     "slide_type": "skip"
    }
   },
   "outputs": [
    {
     "name": "stderr",
     "output_type": "stream",
     "text": [
      "Using Theano backend.\n",
      "DEBUG: nvcc STDOUT nvcc warning : The 'compute_20', 'sm_20', and 'sm_21' architectures are deprecated, and may be removed in a future release (Use -Wno-deprecated-gpu-targets to suppress warning).\n",
      "mod.cu\n",
      "C:\\Users\\sanek\\Anaconda3\\lib\\site-packages\\theano-0.8.2-py3.5.egg\\theano\\sandbox\\cuda\\cnmem.cpp(668): warning C4477: \"fprintf\": ў бва®ЄҐ д®а¬ вЁа®ў ­Ёп \"%lu\" ваҐЎгҐвбп  аЈг¬Ґ­в вЁЇ  \"unsigned long\", ­® ў аЁ вЁў­л©  аЈг¬Ґ­в \"2\" Ё¬ҐҐв вЁЇ \"std::size_t\"\n",
      "C:\\Users\\sanek\\Anaconda3\\lib\\site-packages\\theano-0.8.2-py3.5.egg\\theano\\sandbox\\cuda\\cnmem.cpp(668): note: аҐЄ®¬Ґ­¤гҐвбп ЁбЇ®«м§®ў вм \"%zu\" ў бва®ЄҐ д®а¬ вЁа®ў ­Ёп\n",
      "C:\\Users\\sanek\\Anaconda3\\lib\\site-packages\\theano-0.8.2-py3.5.egg\\theano\\sandbox\\cuda\\cnmem.cpp(670): warning C4477: \"fprintf\": ў бва®ЄҐ д®а¬ вЁа®ў ­Ёп \"%016lx\" ваҐЎгҐвбп  аЈг¬Ґ­в вЁЇ  \"unsigned long\", ­® ў аЁ вЁў­л©  аЈг¬Ґ­в \"1\" Ё¬ҐҐв вЁЇ \"std::size_t\"\n",
      "C:\\Users\\sanek\\Anaconda3\\lib\\site-packages\\theano-0.8.2-py3.5.egg\\theano\\sandbox\\cuda\\cnmem.cpp(670): note: аҐЄ®¬Ґ­¤гҐвбп ЁбЇ®«м§®ў вм \"%zx\" ў бва®ЄҐ д®а¬ вЁа®ў ­Ёп\n",
      "C:\\Users\\sanek\\Anaconda3\\lib\\site-packages\\theano-0.8.2-py3.5.egg\\theano\\sandbox\\cuda\\cnmem.cpp(670): warning C4477: \"fprintf\": ў бва®ЄҐ д®а¬ вЁа®ў ­Ёп \"%016lx\" ваҐЎгҐвбп  аЈг¬Ґ­в вЁЇ  \"unsigned long\", ­® ў аЁ вЁў­л©  аЈг¬Ґ­в \"2\" Ё¬ҐҐв вЁЇ \"std::size_t\"\n",
      "C:\\Users\\sanek\\Anaconda3\\lib\\site-packages\\theano-0.8.2-py3.5.egg\\theano\\sandbox\\cuda\\cnmem.cpp(670): note: аҐЄ®¬Ґ­¤гҐвбп ЁбЇ®«м§®ў вм \"%zx\" ў бва®ЄҐ д®а¬ вЁа®ў ­Ёп\n",
      "C:\\Users\\sanek\\Anaconda3\\lib\\site-packages\\theano-0.8.2-py3.5.egg\\theano\\sandbox\\cuda\\cnmem.cpp(670): warning C4477: \"fprintf\": ў бва®ЄҐ д®а¬ вЁа®ў ­Ёп \"%lu\" ваҐЎгҐвбп  аЈг¬Ґ­в вЁЇ  \"unsigned long\", ­® ў аЁ вЁў­л©  аЈг¬Ґ­в \"3\" Ё¬ҐҐв вЁЇ \"std::size_t\"\n",
      "C:\\Users\\sanek\\Anaconda3\\lib\\site-packages\\theano-0.8.2-py3.5.egg\\theano\\sandbox\\cuda\\cnmem.cpp(670): note: аҐЄ®¬Ґ­¤гҐвбп ЁбЇ®«м§®ў вм \"%zu\" ў бва®ЄҐ д®а¬ вЁа®ў ­Ёп\n",
      "C:\\Users\\sanek\\Anaconda3\\lib\\site-packages\\theano-0.8.2-py3.5.egg\\theano\\sandbox\\cuda\\cnmem.cpp(670): warning C4477: \"fprintf\": ў бва®ЄҐ д®а¬ вЁа®ў ­Ёп \"%016lx\" ваҐЎгҐвбп  аЈг¬Ґ­в вЁЇ  \"unsigned long\", ­® ў аЁ вЁў­л©  аЈг¬Ґ­в \"4\" Ё¬ҐҐв вЁЇ \"std::size_t\"\n",
      "C:\\Users\\sanek\\Anaconda3\\lib\\site-packages\\theano-0.8.2-py3.5.egg\\theano\\sandbox\\cuda\\cnmem.cpp(670): note: аҐЄ®¬Ґ­¤гҐвбп ЁбЇ®«м§®ў вм \"%zx\" ў бва®ЄҐ д®а¬ вЁа®ў ­Ёп\n",
      "C:\\Users\\sanek\\Anaconda3\\lib\\site-packages\\theano-0.8.2-py3.5.egg\\theano\\sandbox\\cuda\\cnmem.cpp(670): warning C4477: \"fprintf\": ў бва®ЄҐ д®а¬ вЁа®ў ­Ёп \"%2lu\" ваҐЎгҐвбп  аЈг¬Ґ­в вЁЇ  \"unsigned long\", ­® ў аЁ вЁў­л©  аЈг¬Ґ­в \"5\" Ё¬ҐҐв вЁЇ \"std::size_t\"\n",
      "C:\\Users\\sanek\\Anaconda3\\lib\\site-packages\\theano-0.8.2-py3.5.egg\\theano\\sandbox\\cuda\\cnmem.cpp(670): note: аҐЄ®¬Ґ­¤гҐвбп ЁбЇ®«м§®ў вм \"%zu\" ў бва®ЄҐ д®а¬ вЁа®ў ­Ёп\n",
      "C:\\Users\\sanek\\Anaconda3\\lib\\site-packages\\theano-0.8.2-py3.5.egg\\theano\\sandbox\\cuda\\cnmem.cpp(690): warning C4477: \"fprintf\": ў бва®ЄҐ д®а¬ вЁа®ў ­Ёп \"%016lx\" ваҐЎгҐвбп  аЈг¬Ґ­в вЁЇ  \"unsigned long\", ­® ў аЁ вЁў­л©  аЈг¬Ґ­в \"3\" Ё¬ҐҐв вЁЇ \"std::size_t\"\n",
      "C:\\Users\\sanek\\Anaconda3\\lib\\site-packages\\theano-0.8.2-py3.5.egg\\theano\\sandbox\\cuda\\cnmem.cpp(690): note: аҐЄ®¬Ґ­¤гҐвбп ЁбЇ®«м§®ў вм \"%zx\" ў бва®ЄҐ д®а¬ вЁа®ў ­Ёп\n",
      "C:\\Users\\sanek\\Anaconda3\\lib\\site-packages\\theano-0.8.2-py3.5.egg\\theano\\sandbox\\cuda\\cnmem.cpp(690): warning C4477: \"fprintf\": ў бва®ЄҐ д®а¬ вЁа®ў ­Ёп \"%lu\" ваҐЎгҐвбп  аЈг¬Ґ­в вЁЇ  \"unsigned long\", ­® ў аЁ вЁў­л©  аЈг¬Ґ­в \"4\" Ё¬ҐҐв вЁЇ \"std::size_t\"\n",
      "C:\\Users\\sanek\\Anaconda3\\lib\\site-packages\\theano-0.8.2-py3.5.egg\\theano\\sandbox\\cuda\\cnmem.cpp(690): note: аҐЄ®¬Ґ­¤гҐвбп ЁбЇ®«м§®ў вм \"%zu\" ў бва®ЄҐ д®а¬ вЁа®ў ­Ёп\n",
      "C:\\Users\\sanek\\Anaconda3\\lib\\site-packages\\theano-0.8.2-py3.5.egg\\theano\\sandbox\\cuda\\cnmem.cpp(690): warning C4477: \"fprintf\": ў бва®ЄҐ д®а¬ вЁа®ў ­Ёп \"%lu\" ваҐЎгҐвбп  аЈг¬Ґ­в вЁЇ  \"unsigned long\", ­® ў аЁ вЁў­л©  аЈг¬Ґ­в \"5\" Ё¬ҐҐв вЁЇ \"std::size_t\"\n",
      "C:\\Users\\sanek\\Anaconda3\\lib\\site-packages\\theano-0.8.2-py3.5.egg\\theano\\sandbox\\cuda\\cnmem.cpp(690): note: аҐЄ®¬Ґ­¤гҐвбп ЁбЇ®«м§®ў вм \"%zu\" ў бва®ЄҐ д®а¬ вЁа®ў ­Ёп\n",
      "mod.cu(803): warning C4311: ЇаЁўҐ¤Ґ­ЁҐ вЁЇ®ў: гбҐзҐ­ЁҐ гЄ § вҐ«п Ё§ \"CudaNdarray *\" ў \"long\"\n",
      "mod.cu(3374): warning C4312: ЇаЁўҐ¤Ґ­ЁҐ вЁЇ®ў: ЇаҐ®Ўа §®ў ­ЁҐ Ё§ \"long\" ў \"float *\" Ў®«миҐЈ® а §¬Ґа \n",
      "   Создается библиотека C:/Users/sanek/AppData/Local/Theano/compiledir_Windows-10-10.0.16299-SP0-Intel64_Family_6_Model_78_Stepping_3_GenuineIntel-3.5.4-64/cuda_ndarray/cuda_ndarray.lib и объект C:/Users/sanek/AppData/Local/Theano/compiledir_Windows-10-10.0.16299-SP0-Intel64_Family_6_Model_78_Stepping_3_GenuineIntel-3.5.4-64/cuda_ndarray/cuda_ndarray.exp\n",
      "\n",
      "DEBUG: nvcc STDOUT nvcc warning : The 'compute_20', 'sm_20', and 'sm_21' architectures are deprecated, and may be removed in a future release (Use -Wno-deprecated-gpu-targets to suppress warning).\n",
      "mod.cu\n",
      "   Создается библиотека C:/Users/sanek/AppData/Local/Theano/compiledir_Windows-10-10.0.16299-SP0-Intel64_Family_6_Model_78_Stepping_3_GenuineIntel-3.5.4-64/tmpbjhurzu5/m91973e5c136ea49268a916ff971b7377.lib и объект C:/Users/sanek/AppData/Local/Theano/compiledir_Windows-10-10.0.16299-SP0-Intel64_Family_6_Model_78_Stepping_3_GenuineIntel-3.5.4-64/tmpbjhurzu5/m91973e5c136ea49268a916ff971b7377.exp\n",
      "\n",
      "Using gpu device 0: GeForce GPU (CNMeM is disabled, cuDNN 5110)\n",
      "C:\\Users\\sanek\\Anaconda3\\lib\\site-packages\\theano-0.8.2-py3.5.egg\\theano\\sandbox\\cuda\\__init__.py:600: UserWarning: Your cuDNN version is more recent than the one Theano officially supports. If you see any problems, try updating Theano or downgrading cuDNN to version 5.\n",
      "  warnings.warn(warn)\n",
      "DEBUG: nvcc STDOUT mod.cu\n",
      "mod.cu(389): warning C4477: \"printf\": ў бва®ЄҐ д®а¬ вЁа®ў ­Ёп \"%d\" ваҐЎгҐвбп  аЈг¬Ґ­в вЁЇ  \"int\", ­® ў аЁ вЁў­л©  аЈг¬Ґ­в \"2\" Ё¬ҐҐв вЁЇ \"std::size_t\"\n",
      "mod.cu(389): note: аҐЄ®¬Ґ­¤гҐвбп ЁбЇ®«м§®ў вм \"%zd\" ў бва®ЄҐ д®а¬ вЁа®ў ­Ёп\n",
      "   Создается библиотека C:/Users/sanek/AppData/Local/Theano/compiledir_Windows-10-10.0.16299-SP0-Intel64_Family_6_Model_78_Stepping_3_GenuineIntel-3.5.4-64/tmpphdqdwjg/meb404c8cd39208f6884dd773b584b7d7.lib и объект C:/Users/sanek/AppData/Local/Theano/compiledir_Windows-10-10.0.16299-SP0-Intel64_Family_6_Model_78_Stepping_3_GenuineIntel-3.5.4-64/tmpphdqdwjg/meb404c8cd39208f6884dd773b584b7d7.exp\n",
      "\n",
      "DEBUG: nvcc STDOUT mod.cu\n",
      "   Создается библиотека C:/Users/sanek/AppData/Local/Theano/compiledir_Windows-10-10.0.16299-SP0-Intel64_Family_6_Model_78_Stepping_3_GenuineIntel-3.5.4-64/tmpak_vajnc/md9b7b5ef5d727b2e8e3d2cc34bb9d0eb.lib и объект C:/Users/sanek/AppData/Local/Theano/compiledir_Windows-10-10.0.16299-SP0-Intel64_Family_6_Model_78_Stepping_3_GenuineIntel-3.5.4-64/tmpak_vajnc/md9b7b5ef5d727b2e8e3d2cc34bb9d0eb.exp\n",
      "\n"
     ]
    }
   ],
   "source": [
    "import nltk\n",
    "\n",
    "from sklearn.utils import shuffle\n",
    "\n",
    "from keras.preprocessing.text import Tokenizer\n",
    "from keras.preprocessing.sequence import pad_sequences\n",
    "from keras.layers import LSTM, TimeDistributed, Bidirectional\n",
    "from keras.models import Sequential\n",
    "from keras.layers import Dense, Activation, Embedding, Flatten, Dropout"
   ]
  },
  {
   "cell_type": "code",
   "execution_count": 2,
   "metadata": {
    "slideshow": {
     "slide_type": "subslide"
    }
   },
   "outputs": [
    {
     "name": "stdout",
     "output_type": "stream",
     "text": [
      "['aachenosaurus', 'aardonyx', 'abdallahsaurus', 'abelisaurus', 'abrictosaurus', 'abrosaurus', 'abydosaurus', 'acanthopholis', 'achelousaurus', 'acheroraptor']\n"
     ]
    }
   ],
   "source": [
    "names = [name.strip().lower() for name in open('dinos.txt').readlines()]\n",
    "print(names[:10])"
   ]
  },
  {
   "cell_type": "code",
   "execution_count": 3,
   "metadata": {
    "slideshow": {
     "slide_type": "subslide"
    }
   },
   "outputs": [
    {
     "name": "stdout",
     "output_type": "stream",
     "text": [
      "['s', 'i', 'y', 'e', 'r', 'p', 'g', 'l', 'd', 'j', 'h', 'a', 'm', 'b', 'k', 't', 'w', 'o', 'z', 'c', 'q', 'n', 'v', 'u', 'f', 'x']\n"
     ]
    }
   ],
   "source": [
    "chars = [char  for name in names for char in name]\n",
    "freq = nltk.FreqDist(chars)\n",
    "\n",
    "print(list(freq.keys()))"
   ]
  },
  {
   "cell_type": "code",
   "execution_count": 4,
   "metadata": {
    "slideshow": {
     "slide_type": "subslide"
    }
   },
   "outputs": [
    {
     "data": {
      "text/plain": [
       "FreqDist({'a': 26,\n",
       "          'b': 32,\n",
       "          'c': 109,\n",
       "          'd': 41,\n",
       "          'e': 48,\n",
       "          'f': 7,\n",
       "          'g': 44,\n",
       "          'h': 21,\n",
       "          'i': 26,\n",
       "          'j': 8,\n",
       "          'k': 22,\n",
       "          'l': 146,\n",
       "          'm': 74,\n",
       "          'n': 354,\n",
       "          'o': 27,\n",
       "          'p': 96,\n",
       "          'q': 3,\n",
       "          'r': 131,\n",
       "          's': 187,\n",
       "          't': 213,\n",
       "          'u': 792,\n",
       "          'v': 34,\n",
       "          'w': 10,\n",
       "          'x': 12,\n",
       "          'y': 14,\n",
       "          'z': 10})"
      ]
     },
     "execution_count": 4,
     "metadata": {},
     "output_type": "execute_result"
    }
   ],
   "source": [
    "cfreq = nltk.ConditionalFreqDist(nltk.bigrams(chars))\n",
    "cfreq['a']"
   ]
  },
  {
   "cell_type": "code",
   "execution_count": 5,
   "metadata": {
    "slideshow": {
     "slide_type": "subslide"
    }
   },
   "outputs": [
    {
     "name": "stdout",
     "output_type": "stream",
     "text": [
      "p(a a) = 0.0105\n",
      "p(a b) = 0.0129\n",
      "p(a u) = 0.3185\n"
     ]
    }
   ],
   "source": [
    "cprob = nltk.ConditionalProbDist(cfreq, nltk.MLEProbDist)\n",
    "print('p(a a) = %1.4f' %cprob['a'].prob('a'))\n",
    "print('p(a b) = %1.4f' %cprob['a'].prob('b'))\n",
    "print('p(a u) = %1.4f' %cprob['a'].prob('u'))"
   ]
  },
  {
   "cell_type": "code",
   "execution_count": 6,
   "metadata": {},
   "outputs": [
    {
     "data": {
      "text/plain": [
       "-12.041317008359863"
      ]
     },
     "execution_count": 6,
     "metadata": {},
     "output_type": "execute_result"
    }
   ],
   "source": [
    "from math import log\n",
    "log(cprob['a'].prob('a')) + log(cprob['a'].prob('b')) + log(cprob['a'].prob('c'))"
   ]
  },
  {
   "cell_type": "code",
   "execution_count": 7,
   "metadata": {
    "slideshow": {
     "slide_type": "subslide"
    }
   },
   "outputs": [
    {
     "name": "stdout",
     "output_type": "stream",
     "text": [
      "p(a) = 0.1354\n"
     ]
    }
   ],
   "source": [
    "l = sum([freq[char] for char in freq])\n",
    "def unigram_prob(char):\n",
    "    return freq[char] / l\n",
    "print('p(a) = %1.4f' %unigram_prob('a'))"
   ]
  },
  {
   "cell_type": "code",
   "execution_count": 8,
   "metadata": {},
   "outputs": [
    {
     "data": {
      "text/plain": [
       "[('a', 'a'),\n",
       " ('a', 'c'),\n",
       " ('c', 'h'),\n",
       " ('h', 'e'),\n",
       " ('e', 'n'),\n",
       " ('n', 'o'),\n",
       " ('o', 's'),\n",
       " ('s', 'a'),\n",
       " ('a', 'u'),\n",
       " ('u', 'r'),\n",
       " ('r', 'u'),\n",
       " ('u', 's')]"
      ]
     },
     "execution_count": 8,
     "metadata": {},
     "output_type": "execute_result"
    }
   ],
   "source": [
    "[bi for bi in nltk.bigrams('aachenosaurus')]"
   ]
  },
  {
   "cell_type": "markdown",
   "metadata": {
    "slideshow": {
     "slide_type": "subslide"
    }
   },
   "source": [
    "#### Задание 1\n",
    "\n",
    "1. Напишите функцию для оценки вероятности имени динозавра. \n",
    "2. Найдите наиболее вероятное имя динозавра из данного списка. "
   ]
  },
  {
   "cell_type": "code",
   "execution_count": 11,
   "metadata": {
    "slideshow": {
     "slide_type": "subslide"
    }
   },
   "outputs": [
    {
     "data": {
      "text/plain": [
       "'u'"
      ]
     },
     "execution_count": 11,
     "metadata": {},
     "output_type": "execute_result"
    }
   ],
   "source": [
    "cprob[\"a\"].generate()"
   ]
  },
  {
   "cell_type": "markdown",
   "metadata": {
    "slideshow": {
     "slide_type": "subslide"
    }
   },
   "source": [
    "#### Задание 2\n",
    "\n",
    "Напишите функцию для генерации нового имени динозавра фиксированной длины."
   ]
  },
  {
   "cell_type": "markdown",
   "metadata": {
    "slideshow": {
     "slide_type": "slide"
    }
   },
   "source": [
    "## Нейронные языковые модели\n",
    "\n",
    "* Вход: $n$-грамы $w_{1:k}$\n",
    "* $v(w_i)$ – эмбеддинг слова $w_i$, $v(w_i) \\in \\mathbb{R}^{d_{emb}}$, $d_{emb}$ – размерность эмбеддинга, $v(w) = E_{[w]}$\n",
    "* $x = [v(w_1), v(w_2), \\ldots , v(w_k)]$\n",
    "\n",
    "$\\widehat{p} = P(w_i | w_{1:k} ) = \\texttt{LM}(w_{1:k}) = \\texttt{softmax}(hW^2 +b^2)$\n",
    "\n",
    "$h = g(xW^1+b^1)$\n",
    "\n",
    "$w_i \\in V$, $E \\in \\mathbb{R}^{|V|\\times d_{emb}}, W^1 \\in \\mathbb{R}^{k \\cdot d_{emb} \\times d_{hid}}, b^1 \\in \\mathbb{R} ^ {d_{hid}}, W^2 \\in \\mathbb{R}^{d_{hid} \\times |V|}, b^2 \\in \\mathbb{R} ^ {|V|}$"
   ]
  },
  {
   "cell_type": "markdown",
   "metadata": {
    "slideshow": {
     "slide_type": "subslide"
    }
   },
   "source": [
    "![nnlm](nlm1.png)"
   ]
  },
  {
   "cell_type": "markdown",
   "metadata": {
    "slideshow": {
     "slide_type": "subslide"
    }
   },
   "source": [
    "### Семплирование в нейронных языковых моделях \n",
    "### (Генерация текстов с помощью нейронных языковых моделей)\n",
    "\n",
    "1. Задать начальную последовательность символов длины $k$ (/слов)\n",
    "2. Предсказать распределение вероятностей слов с условием на $k$ предыдущих слов\n",
    "3. 1. Выбрать слово с наибольшей вероятностью\n",
    "3. 2. Выбрать слово по предсказаному распределению\n",
    "4. Сдвинуть окно на одно слово и повторить \n",
    "\n",
    "#### Линейный поиск  (beam search)\n",
    "Всегда помним $h$ наиболее вероятных гипотез:\n",
    "1. Для генерации первого слова в последоватительности генерируем $h$ кандидатов, а не 1\n",
    "2. Генерируем $h \\times h$ кандидатов для второго слова и храним только $h$ наиболее вероятных\n"
   ]
  },
  {
   "cell_type": "markdown",
   "metadata": {
    "slideshow": {
     "slide_type": "subslide"
    }
   },
   "source": [
    "![nnlm](nlm2.png)"
   ]
  },
  {
   "cell_type": "code",
   "execution_count": 12,
   "metadata": {
    "slideshow": {
     "slide_type": "subslide"
    }
   },
   "outputs": [
    {
     "name": "stdout",
     "output_type": "stream",
     "text": [
      "total chars: 26\n"
     ]
    }
   ],
   "source": [
    "alphabet = list(set(chars))\n",
    "print('total chars:', len(alphabet))"
   ]
  },
  {
   "cell_type": "code",
   "execution_count": 14,
   "metadata": {
    "slideshow": {
     "slide_type": "subslide"
    }
   },
   "outputs": [
    {
     "name": "stdout",
     "output_type": "stream",
     "text": [
      "nb ngrams: 10701\n",
      "a a c h e n\n",
      "a c h e n o\n"
     ]
    }
   ],
   "source": [
    "maxlen = 5\n",
    "step = 1\n",
    "ngrams = []\n",
    "next_chars = []\n",
    "for name in names:\n",
    "    for i in range(0, len(name) - maxlen, step):\n",
    "        ngrams.append(' '.join([char for char in name[i: i + maxlen]]))\n",
    "        next_chars.append(name[i + maxlen])\n",
    "print('nb ngrams:', len(ngrams))\n",
    "print(ngrams[0],next_chars[0])\n",
    "print(ngrams[1],next_chars[1])"
   ]
  },
  {
   "cell_type": "code",
   "execution_count": 18,
   "metadata": {
    "slideshow": {
     "slide_type": "subslide"
    }
   },
   "outputs": [
    {
     "data": {
      "text/plain": [
       "array([ 1,  1, 12, 11,  7])"
      ]
     },
     "execution_count": 18,
     "metadata": {},
     "output_type": "execute_result"
    }
   ],
   "source": [
    "tokenizer = Tokenizer(num_words=len(alphabet))\n",
    "tokenizer.fit_on_texts(ngrams)\n",
    "\n",
    "sequences = tokenizer.texts_to_sequences(ngrams)\n",
    "X_train = pad_sequences(sequences, maxlen=maxlen)\n",
    "sequences = tokenizer.texts_to_sequences(next_chars)\n",
    "y_train = tokenizer.sequences_to_matrix(sequences)\n",
    "X_train[0]"
   ]
  },
  {
   "cell_type": "code",
   "execution_count": 19,
   "metadata": {},
   "outputs": [
    {
     "data": {
      "text/plain": [
       "array([ 0.,  0.,  0.,  0.,  0.,  0.,  1.,  0.,  0.,  0.,  0.,  0.,  0.,\n",
       "        0.,  0.,  0.,  0.,  0.,  0.,  0.,  0.,  0.,  0.,  0.,  0.,  0.])"
      ]
     },
     "execution_count": 19,
     "metadata": {},
     "output_type": "execute_result"
    }
   ],
   "source": [
    "y_train[0]"
   ]
  },
  {
   "cell_type": "code",
   "execution_count": 20,
   "metadata": {
    "slideshow": {
     "slide_type": "subslide"
    }
   },
   "outputs": [],
   "source": [
    "char_index = tokenizer.word_index\n",
    "index_char = {i: c for c, i in char_index.items()}"
   ]
  },
  {
   "cell_type": "code",
   "execution_count": 21,
   "metadata": {
    "slideshow": {
     "slide_type": "subslide"
    }
   },
   "outputs": [
    {
     "name": "stderr",
     "output_type": "stream",
     "text": [
      "DEBUG: nvcc STDOUT mod.cu\n",
      "   Создается библиотека C:/Users/sanek/AppData/Local/Theano/compiledir_Windows-10-10.0.16299-SP0-Intel64_Family_6_Model_78_Stepping_3_GenuineIntel-3.5.4-64/tmp_7_cd3im/mc12b8f0fe265b1ada8bce924bc0f113d.lib и объект C:/Users/sanek/AppData/Local/Theano/compiledir_Windows-10-10.0.16299-SP0-Intel64_Family_6_Model_78_Stepping_3_GenuineIntel-3.5.4-64/tmp_7_cd3im/mc12b8f0fe265b1ada8bce924bc0f113d.exp\n",
      "\n",
      "DEBUG: nvcc STDOUT mod.cu\n",
      "   Создается библиотека C:/Users/sanek/AppData/Local/Theano/compiledir_Windows-10-10.0.16299-SP0-Intel64_Family_6_Model_78_Stepping_3_GenuineIntel-3.5.4-64/tmpo4dnq0b3/m29fa61dbf36ea25b718dd35028bcaa9d.lib и объект C:/Users/sanek/AppData/Local/Theano/compiledir_Windows-10-10.0.16299-SP0-Intel64_Family_6_Model_78_Stepping_3_GenuineIntel-3.5.4-64/tmpo4dnq0b3/m29fa61dbf36ea25b718dd35028bcaa9d.exp\n",
      "\n",
      "DEBUG: nvcc STDOUT mod.cu\n",
      "   Создается библиотека C:/Users/sanek/AppData/Local/Theano/compiledir_Windows-10-10.0.16299-SP0-Intel64_Family_6_Model_78_Stepping_3_GenuineIntel-3.5.4-64/tmp3hws6i3y/mcb8fbd5d93b9e5bd109795e0282036c4.lib и объект C:/Users/sanek/AppData/Local/Theano/compiledir_Windows-10-10.0.16299-SP0-Intel64_Family_6_Model_78_Stepping_3_GenuineIntel-3.5.4-64/tmp3hws6i3y/mcb8fbd5d93b9e5bd109795e0282036c4.exp\n",
      "\n"
     ]
    }
   ],
   "source": [
    "model = Sequential()\n",
    "\n",
    "model.add(Embedding(len(alphabet), 50, input_length=maxlen))\n",
    "model.add(Flatten())\n",
    "model.add(Dense(64, activation = 'softmax'))\n",
    "model.add(Dropout(0.2))\n",
    "model.add(Dense(32, activation = 'softmax'))\n",
    "model.add(Dropout(0.2))\n",
    "model.add(Dense(len(alphabet), activation = 'softmax'))\n",
    "\n",
    "model.compile(loss='categorical_crossentropy', optimizer='adam', metrics=['accuracy'])"
   ]
  },
  {
   "cell_type": "code",
   "execution_count": 22,
   "metadata": {
    "slideshow": {
     "slide_type": "subslide"
    }
   },
   "outputs": [
    {
     "name": "stderr",
     "output_type": "stream",
     "text": [
      "DEBUG: nvcc STDOUT mod.cu\n",
      "   Создается библиотека C:/Users/sanek/AppData/Local/Theano/compiledir_Windows-10-10.0.16299-SP0-Intel64_Family_6_Model_78_Stepping_3_GenuineIntel-3.5.4-64/tmpp0tfs1fl/md97d7d9b08ba23c839706d81944b4dd7.lib и объект C:/Users/sanek/AppData/Local/Theano/compiledir_Windows-10-10.0.16299-SP0-Intel64_Family_6_Model_78_Stepping_3_GenuineIntel-3.5.4-64/tmpp0tfs1fl/md97d7d9b08ba23c839706d81944b4dd7.exp\n",
      "\n",
      "DEBUG: nvcc STDOUT mod.cu\n",
      "   Создается библиотека C:/Users/sanek/AppData/Local/Theano/compiledir_Windows-10-10.0.16299-SP0-Intel64_Family_6_Model_78_Stepping_3_GenuineIntel-3.5.4-64/tmpzh8ni92a/m3b35ffdb07c05a9962741fdcc38f3386.lib и объект C:/Users/sanek/AppData/Local/Theano/compiledir_Windows-10-10.0.16299-SP0-Intel64_Family_6_Model_78_Stepping_3_GenuineIntel-3.5.4-64/tmpzh8ni92a/m3b35ffdb07c05a9962741fdcc38f3386.exp\n",
      "\n",
      "DEBUG: nvcc STDOUT mod.cu\n",
      "   Создается библиотека C:/Users/sanek/AppData/Local/Theano/compiledir_Windows-10-10.0.16299-SP0-Intel64_Family_6_Model_78_Stepping_3_GenuineIntel-3.5.4-64/tmpv8hkqylt/m0febfb49a405950dd5c14b1aff05e2db.lib и объект C:/Users/sanek/AppData/Local/Theano/compiledir_Windows-10-10.0.16299-SP0-Intel64_Family_6_Model_78_Stepping_3_GenuineIntel-3.5.4-64/tmpv8hkqylt/m0febfb49a405950dd5c14b1aff05e2db.exp\n",
      "\n",
      "DEBUG: nvcc STDOUT mod.cu\n",
      "   Создается библиотека C:/Users/sanek/AppData/Local/Theano/compiledir_Windows-10-10.0.16299-SP0-Intel64_Family_6_Model_78_Stepping_3_GenuineIntel-3.5.4-64/tmpzcgz79ys/mc34f287329ea4a79fba3bd0ae6ad0bea.lib и объект C:/Users/sanek/AppData/Local/Theano/compiledir_Windows-10-10.0.16299-SP0-Intel64_Family_6_Model_78_Stepping_3_GenuineIntel-3.5.4-64/tmpzcgz79ys/mc34f287329ea4a79fba3bd0ae6ad0bea.exp\n",
      "\n",
      "DEBUG: nvcc STDOUT mod.cu\n",
      "   Создается библиотека C:/Users/sanek/AppData/Local/Theano/compiledir_Windows-10-10.0.16299-SP0-Intel64_Family_6_Model_78_Stepping_3_GenuineIntel-3.5.4-64/tmp8ivh4cfu/me3142c03982398987a357ceeea1c99bf.lib и объект C:/Users/sanek/AppData/Local/Theano/compiledir_Windows-10-10.0.16299-SP0-Intel64_Family_6_Model_78_Stepping_3_GenuineIntel-3.5.4-64/tmp8ivh4cfu/me3142c03982398987a357ceeea1c99bf.exp\n",
      "\n",
      "DEBUG: nvcc STDOUT mod.cu\n",
      "   Создается библиотека C:/Users/sanek/AppData/Local/Theano/compiledir_Windows-10-10.0.16299-SP0-Intel64_Family_6_Model_78_Stepping_3_GenuineIntel-3.5.4-64/tmprwjquzr3/mf043aa4ae4e13f6219105a691d7a1465.lib и объект C:/Users/sanek/AppData/Local/Theano/compiledir_Windows-10-10.0.16299-SP0-Intel64_Family_6_Model_78_Stepping_3_GenuineIntel-3.5.4-64/tmprwjquzr3/mf043aa4ae4e13f6219105a691d7a1465.exp\n",
      "\n",
      "DEBUG: nvcc STDOUT mod.cu\n",
      "   Создается библиотека C:/Users/sanek/AppData/Local/Theano/compiledir_Windows-10-10.0.16299-SP0-Intel64_Family_6_Model_78_Stepping_3_GenuineIntel-3.5.4-64/tmpppr_p27r/mbbc6a35dc26cfc7bd76670bddb009dfc.lib и объект C:/Users/sanek/AppData/Local/Theano/compiledir_Windows-10-10.0.16299-SP0-Intel64_Family_6_Model_78_Stepping_3_GenuineIntel-3.5.4-64/tmpppr_p27r/mbbc6a35dc26cfc7bd76670bddb009dfc.exp\n",
      "\n",
      "DEBUG: nvcc STDOUT mod.cu\n",
      "   Создается библиотека C:/Users/sanek/AppData/Local/Theano/compiledir_Windows-10-10.0.16299-SP0-Intel64_Family_6_Model_78_Stepping_3_GenuineIntel-3.5.4-64/tmpg7olgl98/m495bd282dd007596f49ca4797e8f1579.lib и объект C:/Users/sanek/AppData/Local/Theano/compiledir_Windows-10-10.0.16299-SP0-Intel64_Family_6_Model_78_Stepping_3_GenuineIntel-3.5.4-64/tmpg7olgl98/m495bd282dd007596f49ca4797e8f1579.exp\n",
      "\n",
      "DEBUG: nvcc STDOUT mod.cu\n",
      "   Создается библиотека C:/Users/sanek/AppData/Local/Theano/compiledir_Windows-10-10.0.16299-SP0-Intel64_Family_6_Model_78_Stepping_3_GenuineIntel-3.5.4-64/tmp4er9p0cm/m019364b217f83b9d5cee6b133412fa54.lib и объект C:/Users/sanek/AppData/Local/Theano/compiledir_Windows-10-10.0.16299-SP0-Intel64_Family_6_Model_78_Stepping_3_GenuineIntel-3.5.4-64/tmp4er9p0cm/m019364b217f83b9d5cee6b133412fa54.exp\n",
      "\n",
      "DEBUG: nvcc STDOUT mod.cu\n",
      "   Создается библиотека C:/Users/sanek/AppData/Local/Theano/compiledir_Windows-10-10.0.16299-SP0-Intel64_Family_6_Model_78_Stepping_3_GenuineIntel-3.5.4-64/tmpl02x6zvt/m008cd6a4c8ebd7d6707d19c7b64dbae1.lib и объект C:/Users/sanek/AppData/Local/Theano/compiledir_Windows-10-10.0.16299-SP0-Intel64_Family_6_Model_78_Stepping_3_GenuineIntel-3.5.4-64/tmpl02x6zvt/m008cd6a4c8ebd7d6707d19c7b64dbae1.exp\n",
      "\n",
      "DEBUG: nvcc STDOUT mod.cu\n",
      "   Создается библиотека C:/Users/sanek/AppData/Local/Theano/compiledir_Windows-10-10.0.16299-SP0-Intel64_Family_6_Model_78_Stepping_3_GenuineIntel-3.5.4-64/tmpyauvjmnt/mdeb98fee69f49c2855706181991673e2.lib и объект C:/Users/sanek/AppData/Local/Theano/compiledir_Windows-10-10.0.16299-SP0-Intel64_Family_6_Model_78_Stepping_3_GenuineIntel-3.5.4-64/tmpyauvjmnt/mdeb98fee69f49c2855706181991673e2.exp\n",
      "\n",
      "DEBUG: nvcc STDOUT mod.cu\n",
      "   Создается библиотека C:/Users/sanek/AppData/Local/Theano/compiledir_Windows-10-10.0.16299-SP0-Intel64_Family_6_Model_78_Stepping_3_GenuineIntel-3.5.4-64/tmpcc8a7h4k/m339db349835d8d9d7447ce7c65aadb9e.lib и объект C:/Users/sanek/AppData/Local/Theano/compiledir_Windows-10-10.0.16299-SP0-Intel64_Family_6_Model_78_Stepping_3_GenuineIntel-3.5.4-64/tmpcc8a7h4k/m339db349835d8d9d7447ce7c65aadb9e.exp\n",
      "\n",
      "DEBUG: nvcc STDOUT mod.cu\n",
      "   Создается библиотека C:/Users/sanek/AppData/Local/Theano/compiledir_Windows-10-10.0.16299-SP0-Intel64_Family_6_Model_78_Stepping_3_GenuineIntel-3.5.4-64/tmpg8f0mg27/me528bb224a0ad8dce2dcae17188a11b1.lib и объект C:/Users/sanek/AppData/Local/Theano/compiledir_Windows-10-10.0.16299-SP0-Intel64_Family_6_Model_78_Stepping_3_GenuineIntel-3.5.4-64/tmpg8f0mg27/me528bb224a0ad8dce2dcae17188a11b1.exp\n",
      "\n",
      "DEBUG: nvcc STDOUT mod.cu\n",
      "   Создается библиотека C:/Users/sanek/AppData/Local/Theano/compiledir_Windows-10-10.0.16299-SP0-Intel64_Family_6_Model_78_Stepping_3_GenuineIntel-3.5.4-64/tmp6474hffk/m2ce64a11692ca2d359522a808caa78e3.lib и объект C:/Users/sanek/AppData/Local/Theano/compiledir_Windows-10-10.0.16299-SP0-Intel64_Family_6_Model_78_Stepping_3_GenuineIntel-3.5.4-64/tmp6474hffk/m2ce64a11692ca2d359522a808caa78e3.exp\n",
      "\n",
      "DEBUG: nvcc STDOUT mod.cu\n",
      "   Создается библиотека C:/Users/sanek/AppData/Local/Theano/compiledir_Windows-10-10.0.16299-SP0-Intel64_Family_6_Model_78_Stepping_3_GenuineIntel-3.5.4-64/tmpl25s298m/maeaca54ba805543426bf2d4715ba513d.lib и объект C:/Users/sanek/AppData/Local/Theano/compiledir_Windows-10-10.0.16299-SP0-Intel64_Family_6_Model_78_Stepping_3_GenuineIntel-3.5.4-64/tmpl25s298m/maeaca54ba805543426bf2d4715ba513d.exp\n",
      "\n",
      "DEBUG: nvcc STDOUT mod.cu\n",
      "   Создается библиотека C:/Users/sanek/AppData/Local/Theano/compiledir_Windows-10-10.0.16299-SP0-Intel64_Family_6_Model_78_Stepping_3_GenuineIntel-3.5.4-64/tmp_6nbh7m1/m33f5a8cf3dc866a159d9f38aa47c5520.lib и объект C:/Users/sanek/AppData/Local/Theano/compiledir_Windows-10-10.0.16299-SP0-Intel64_Family_6_Model_78_Stepping_3_GenuineIntel-3.5.4-64/tmp_6nbh7m1/m33f5a8cf3dc866a159d9f38aa47c5520.exp\n",
      "\n",
      "DEBUG: nvcc STDOUT mod.cu\n",
      "   Создается библиотека C:/Users/sanek/AppData/Local/Theano/compiledir_Windows-10-10.0.16299-SP0-Intel64_Family_6_Model_78_Stepping_3_GenuineIntel-3.5.4-64/tmpf6ni033a/mcba779f8281da0d1098d5083c6197478.lib и объект C:/Users/sanek/AppData/Local/Theano/compiledir_Windows-10-10.0.16299-SP0-Intel64_Family_6_Model_78_Stepping_3_GenuineIntel-3.5.4-64/tmpf6ni033a/mcba779f8281da0d1098d5083c6197478.exp\n",
      "\n",
      "DEBUG: nvcc STDOUT mod.cu\n",
      "   Создается библиотека C:/Users/sanek/AppData/Local/Theano/compiledir_Windows-10-10.0.16299-SP0-Intel64_Family_6_Model_78_Stepping_3_GenuineIntel-3.5.4-64/tmp8yxc8udi/me8fa8d9f8340a1df47e5a554ddb74c66.lib и объект C:/Users/sanek/AppData/Local/Theano/compiledir_Windows-10-10.0.16299-SP0-Intel64_Family_6_Model_78_Stepping_3_GenuineIntel-3.5.4-64/tmp8yxc8udi/me8fa8d9f8340a1df47e5a554ddb74c66.exp\n",
      "\n",
      "DEBUG: nvcc STDOUT mod.cu\n",
      "   Создается библиотека C:/Users/sanek/AppData/Local/Theano/compiledir_Windows-10-10.0.16299-SP0-Intel64_Family_6_Model_78_Stepping_3_GenuineIntel-3.5.4-64/tmphdztzz0s/m3f3af3dbfdcc82679ea4377b52291a2c.lib и объект C:/Users/sanek/AppData/Local/Theano/compiledir_Windows-10-10.0.16299-SP0-Intel64_Family_6_Model_78_Stepping_3_GenuineIntel-3.5.4-64/tmphdztzz0s/m3f3af3dbfdcc82679ea4377b52291a2c.exp\n",
      "\n",
      "DEBUG: nvcc STDOUT mod.cu\n",
      "   Создается библиотека C:/Users/sanek/AppData/Local/Theano/compiledir_Windows-10-10.0.16299-SP0-Intel64_Family_6_Model_78_Stepping_3_GenuineIntel-3.5.4-64/tmpdfjyzzbu/mf11a70bdcdc1930fafffa2b666892dcc.lib и объект C:/Users/sanek/AppData/Local/Theano/compiledir_Windows-10-10.0.16299-SP0-Intel64_Family_6_Model_78_Stepping_3_GenuineIntel-3.5.4-64/tmpdfjyzzbu/mf11a70bdcdc1930fafffa2b666892dcc.exp\n",
      "\n"
     ]
    },
    {
     "name": "stderr",
     "output_type": "stream",
     "text": [
      "DEBUG: nvcc STDOUT mod.cu\n",
      "   Создается библиотека C:/Users/sanek/AppData/Local/Theano/compiledir_Windows-10-10.0.16299-SP0-Intel64_Family_6_Model_78_Stepping_3_GenuineIntel-3.5.4-64/tmptyw39hco/mcbef31dbcad6e8e0d2a8772e82df9008.lib и объект C:/Users/sanek/AppData/Local/Theano/compiledir_Windows-10-10.0.16299-SP0-Intel64_Family_6_Model_78_Stepping_3_GenuineIntel-3.5.4-64/tmptyw39hco/mcbef31dbcad6e8e0d2a8772e82df9008.exp\n",
      "\n",
      "DEBUG: nvcc STDOUT mod.cu\n",
      "   Создается библиотека C:/Users/sanek/AppData/Local/Theano/compiledir_Windows-10-10.0.16299-SP0-Intel64_Family_6_Model_78_Stepping_3_GenuineIntel-3.5.4-64/tmp6anu_gyo/m0a8f98dfe58ab43b0a66cbffd961085d.lib и объект C:/Users/sanek/AppData/Local/Theano/compiledir_Windows-10-10.0.16299-SP0-Intel64_Family_6_Model_78_Stepping_3_GenuineIntel-3.5.4-64/tmp6anu_gyo/m0a8f98dfe58ab43b0a66cbffd961085d.exp\n",
      "\n",
      "DEBUG: nvcc STDOUT mod.cu\n",
      "   Создается библиотека C:/Users/sanek/AppData/Local/Theano/compiledir_Windows-10-10.0.16299-SP0-Intel64_Family_6_Model_78_Stepping_3_GenuineIntel-3.5.4-64/tmpgzh1uxo7/m855c83f5de96c5a93354024f38f93923.lib и объект C:/Users/sanek/AppData/Local/Theano/compiledir_Windows-10-10.0.16299-SP0-Intel64_Family_6_Model_78_Stepping_3_GenuineIntel-3.5.4-64/tmpgzh1uxo7/m855c83f5de96c5a93354024f38f93923.exp\n",
      "\n",
      "DEBUG: nvcc STDOUT mod.cu\n",
      "   Создается библиотека C:/Users/sanek/AppData/Local/Theano/compiledir_Windows-10-10.0.16299-SP0-Intel64_Family_6_Model_78_Stepping_3_GenuineIntel-3.5.4-64/tmppijlusdg/ma34e6d7a473548c7a68770ad67c246bb.lib и объект C:/Users/sanek/AppData/Local/Theano/compiledir_Windows-10-10.0.16299-SP0-Intel64_Family_6_Model_78_Stepping_3_GenuineIntel-3.5.4-64/tmppijlusdg/ma34e6d7a473548c7a68770ad67c246bb.exp\n",
      "\n",
      "DEBUG: nvcc STDOUT mod.cu\n",
      "   Создается библиотека C:/Users/sanek/AppData/Local/Theano/compiledir_Windows-10-10.0.16299-SP0-Intel64_Family_6_Model_78_Stepping_3_GenuineIntel-3.5.4-64/tmp6q_bp1w1/m9d929135782e85c3f711dddfee32e266.lib и объект C:/Users/sanek/AppData/Local/Theano/compiledir_Windows-10-10.0.16299-SP0-Intel64_Family_6_Model_78_Stepping_3_GenuineIntel-3.5.4-64/tmp6q_bp1w1/m9d929135782e85c3f711dddfee32e266.exp\n",
      "\n",
      "DEBUG: nvcc STDOUT mod.cu\n",
      "   Создается библиотека C:/Users/sanek/AppData/Local/Theano/compiledir_Windows-10-10.0.16299-SP0-Intel64_Family_6_Model_78_Stepping_3_GenuineIntel-3.5.4-64/tmpwf7iiui1/mf96c5e2a8978d273d61fc1758ce95334.lib и объект C:/Users/sanek/AppData/Local/Theano/compiledir_Windows-10-10.0.16299-SP0-Intel64_Family_6_Model_78_Stepping_3_GenuineIntel-3.5.4-64/tmpwf7iiui1/mf96c5e2a8978d273d61fc1758ce95334.exp\n",
      "\n",
      "DEBUG: nvcc STDOUT mod.cu\n",
      "   Создается библиотека C:/Users/sanek/AppData/Local/Theano/compiledir_Windows-10-10.0.16299-SP0-Intel64_Family_6_Model_78_Stepping_3_GenuineIntel-3.5.4-64/tmpr6bhwiv0/m02b675d0d2e66ca3414a7edbbd33b777.lib и объект C:/Users/sanek/AppData/Local/Theano/compiledir_Windows-10-10.0.16299-SP0-Intel64_Family_6_Model_78_Stepping_3_GenuineIntel-3.5.4-64/tmpr6bhwiv0/m02b675d0d2e66ca3414a7edbbd33b777.exp\n",
      "\n",
      "DEBUG: nvcc STDOUT mod.cu\n",
      "   Создается библиотека C:/Users/sanek/AppData/Local/Theano/compiledir_Windows-10-10.0.16299-SP0-Intel64_Family_6_Model_78_Stepping_3_GenuineIntel-3.5.4-64/tmpzzdosceq/m2c0e045ca32cfd2d5446751af85c8844.lib и объект C:/Users/sanek/AppData/Local/Theano/compiledir_Windows-10-10.0.16299-SP0-Intel64_Family_6_Model_78_Stepping_3_GenuineIntel-3.5.4-64/tmpzzdosceq/m2c0e045ca32cfd2d5446751af85c8844.exp\n",
      "\n",
      "DEBUG: nvcc STDOUT mod.cu\n",
      "   Создается библиотека C:/Users/sanek/AppData/Local/Theano/compiledir_Windows-10-10.0.16299-SP0-Intel64_Family_6_Model_78_Stepping_3_GenuineIntel-3.5.4-64/tmpzu2zipz5/mdb1b73b52a2f8c4e5dcb1068ffe3fb59.lib и объект C:/Users/sanek/AppData/Local/Theano/compiledir_Windows-10-10.0.16299-SP0-Intel64_Family_6_Model_78_Stepping_3_GenuineIntel-3.5.4-64/tmpzu2zipz5/mdb1b73b52a2f8c4e5dcb1068ffe3fb59.exp\n",
      "\n",
      "DEBUG: nvcc STDOUT mod.cu\n",
      "   Создается библиотека C:/Users/sanek/AppData/Local/Theano/compiledir_Windows-10-10.0.16299-SP0-Intel64_Family_6_Model_78_Stepping_3_GenuineIntel-3.5.4-64/tmpawrlwn4r/m0e4448d4993ba555f1980235fe357637.lib и объект C:/Users/sanek/AppData/Local/Theano/compiledir_Windows-10-10.0.16299-SP0-Intel64_Family_6_Model_78_Stepping_3_GenuineIntel-3.5.4-64/tmpawrlwn4r/m0e4448d4993ba555f1980235fe357637.exp\n",
      "\n",
      "DEBUG: nvcc STDOUT mod.cu\n",
      "   Создается библиотека C:/Users/sanek/AppData/Local/Theano/compiledir_Windows-10-10.0.16299-SP0-Intel64_Family_6_Model_78_Stepping_3_GenuineIntel-3.5.4-64/tmpgtzk_6gl/md28430314646c91ef7d9ff08f9928986.lib и объект C:/Users/sanek/AppData/Local/Theano/compiledir_Windows-10-10.0.16299-SP0-Intel64_Family_6_Model_78_Stepping_3_GenuineIntel-3.5.4-64/tmpgtzk_6gl/md28430314646c91ef7d9ff08f9928986.exp\n",
      "\n",
      "DEBUG: nvcc STDOUT mod.cu\n",
      "   Создается библиотека C:/Users/sanek/AppData/Local/Theano/compiledir_Windows-10-10.0.16299-SP0-Intel64_Family_6_Model_78_Stepping_3_GenuineIntel-3.5.4-64/tmp9rbvcvur/m83f793d59e4fce44995131fa511ef902.lib и объект C:/Users/sanek/AppData/Local/Theano/compiledir_Windows-10-10.0.16299-SP0-Intel64_Family_6_Model_78_Stepping_3_GenuineIntel-3.5.4-64/tmp9rbvcvur/m83f793d59e4fce44995131fa511ef902.exp\n",
      "\n",
      "DEBUG: nvcc STDOUT mod.cu\n",
      "   Создается библиотека C:/Users/sanek/AppData/Local/Theano/compiledir_Windows-10-10.0.16299-SP0-Intel64_Family_6_Model_78_Stepping_3_GenuineIntel-3.5.4-64/tmph_4k7oka/mf60fd2dc36dcdd6ab1d94c300e6075a4.lib и объект C:/Users/sanek/AppData/Local/Theano/compiledir_Windows-10-10.0.16299-SP0-Intel64_Family_6_Model_78_Stepping_3_GenuineIntel-3.5.4-64/tmph_4k7oka/mf60fd2dc36dcdd6ab1d94c300e6075a4.exp\n",
      "\n",
      "DEBUG: nvcc STDOUT mod.cu\n",
      "   Создается библиотека C:/Users/sanek/AppData/Local/Theano/compiledir_Windows-10-10.0.16299-SP0-Intel64_Family_6_Model_78_Stepping_3_GenuineIntel-3.5.4-64/tmpzysbm3v_/m4ab7a9ae753176b52a3e3b79b74e3713.lib и объект C:/Users/sanek/AppData/Local/Theano/compiledir_Windows-10-10.0.16299-SP0-Intel64_Family_6_Model_78_Stepping_3_GenuineIntel-3.5.4-64/tmpzysbm3v_/m4ab7a9ae753176b52a3e3b79b74e3713.exp\n",
      "\n",
      "DEBUG: nvcc STDOUT mod.cu\n",
      "   Создается библиотека C:/Users/sanek/AppData/Local/Theano/compiledir_Windows-10-10.0.16299-SP0-Intel64_Family_6_Model_78_Stepping_3_GenuineIntel-3.5.4-64/tmpwkczfvdp/m368b4586a814efe98f3d533bf3bbdf5e.lib и объект C:/Users/sanek/AppData/Local/Theano/compiledir_Windows-10-10.0.16299-SP0-Intel64_Family_6_Model_78_Stepping_3_GenuineIntel-3.5.4-64/tmpwkczfvdp/m368b4586a814efe98f3d533bf3bbdf5e.exp\n",
      "\n",
      "DEBUG: nvcc STDOUT mod.cu\n",
      "   Создается библиотека C:/Users/sanek/AppData/Local/Theano/compiledir_Windows-10-10.0.16299-SP0-Intel64_Family_6_Model_78_Stepping_3_GenuineIntel-3.5.4-64/tmpy1tsqfm1/m64977d7d3cde6920c15cc5df6bf24147.lib и объект C:/Users/sanek/AppData/Local/Theano/compiledir_Windows-10-10.0.16299-SP0-Intel64_Family_6_Model_78_Stepping_3_GenuineIntel-3.5.4-64/tmpy1tsqfm1/m64977d7d3cde6920c15cc5df6bf24147.exp\n",
      "\n",
      "DEBUG: nvcc STDOUT mod.cu\n",
      "   Создается библиотека C:/Users/sanek/AppData/Local/Theano/compiledir_Windows-10-10.0.16299-SP0-Intel64_Family_6_Model_78_Stepping_3_GenuineIntel-3.5.4-64/tmp_710jys4/m997b770d9912b56a7ac3b670007b5731.lib и объект C:/Users/sanek/AppData/Local/Theano/compiledir_Windows-10-10.0.16299-SP0-Intel64_Family_6_Model_78_Stepping_3_GenuineIntel-3.5.4-64/tmp_710jys4/m997b770d9912b56a7ac3b670007b5731.exp\n",
      "\n",
      "DEBUG: nvcc STDOUT mod.cu\n",
      "   Создается библиотека C:/Users/sanek/AppData/Local/Theano/compiledir_Windows-10-10.0.16299-SP0-Intel64_Family_6_Model_78_Stepping_3_GenuineIntel-3.5.4-64/tmp9q556rzd/m4be5c0f5073b9d44037aa65b90003a15.lib и объект C:/Users/sanek/AppData/Local/Theano/compiledir_Windows-10-10.0.16299-SP0-Intel64_Family_6_Model_78_Stepping_3_GenuineIntel-3.5.4-64/tmp9q556rzd/m4be5c0f5073b9d44037aa65b90003a15.exp\n",
      "\n",
      "DEBUG: nvcc STDOUT mod.cu\n",
      "   Создается библиотека C:/Users/sanek/AppData/Local/Theano/compiledir_Windows-10-10.0.16299-SP0-Intel64_Family_6_Model_78_Stepping_3_GenuineIntel-3.5.4-64/tmp92b9hci4/m1c6185e3676d5e6d43e9ef1c01e80799.lib и объект C:/Users/sanek/AppData/Local/Theano/compiledir_Windows-10-10.0.16299-SP0-Intel64_Family_6_Model_78_Stepping_3_GenuineIntel-3.5.4-64/tmp92b9hci4/m1c6185e3676d5e6d43e9ef1c01e80799.exp\n",
      "\n",
      "DEBUG: nvcc STDOUT mod.cu\n",
      "   Создается библиотека C:/Users/sanek/AppData/Local/Theano/compiledir_Windows-10-10.0.16299-SP0-Intel64_Family_6_Model_78_Stepping_3_GenuineIntel-3.5.4-64/tmpexpa4937/m41290b8a4132277863a25a5b147ac6e8.lib и объект C:/Users/sanek/AppData/Local/Theano/compiledir_Windows-10-10.0.16299-SP0-Intel64_Family_6_Model_78_Stepping_3_GenuineIntel-3.5.4-64/tmpexpa4937/m41290b8a4132277863a25a5b147ac6e8.exp\n",
      "\n"
     ]
    },
    {
     "name": "stderr",
     "output_type": "stream",
     "text": [
      "DEBUG: nvcc STDOUT mod.cu\n",
      "   Создается библиотека C:/Users/sanek/AppData/Local/Theano/compiledir_Windows-10-10.0.16299-SP0-Intel64_Family_6_Model_78_Stepping_3_GenuineIntel-3.5.4-64/tmpqs1smtfg/m3f447e9682f3cd8bb7e2b3eb127a5b23.lib и объект C:/Users/sanek/AppData/Local/Theano/compiledir_Windows-10-10.0.16299-SP0-Intel64_Family_6_Model_78_Stepping_3_GenuineIntel-3.5.4-64/tmpqs1smtfg/m3f447e9682f3cd8bb7e2b3eb127a5b23.exp\n",
      "\n",
      "DEBUG: nvcc STDOUT mod.cu\n",
      "   Создается библиотека C:/Users/sanek/AppData/Local/Theano/compiledir_Windows-10-10.0.16299-SP0-Intel64_Family_6_Model_78_Stepping_3_GenuineIntel-3.5.4-64/tmpy7l77xpz/m32174e83ee988f914f3495aadac0ce1b.lib и объект C:/Users/sanek/AppData/Local/Theano/compiledir_Windows-10-10.0.16299-SP0-Intel64_Family_6_Model_78_Stepping_3_GenuineIntel-3.5.4-64/tmpy7l77xpz/m32174e83ee988f914f3495aadac0ce1b.exp\n",
      "\n",
      "DEBUG: nvcc STDOUT mod.cu\n",
      "   Создается библиотека C:/Users/sanek/AppData/Local/Theano/compiledir_Windows-10-10.0.16299-SP0-Intel64_Family_6_Model_78_Stepping_3_GenuineIntel-3.5.4-64/tmpnmvshxe2/mf8f30d6f014ff36435a3684dbcfe312b.lib и объект C:/Users/sanek/AppData/Local/Theano/compiledir_Windows-10-10.0.16299-SP0-Intel64_Family_6_Model_78_Stepping_3_GenuineIntel-3.5.4-64/tmpnmvshxe2/mf8f30d6f014ff36435a3684dbcfe312b.exp\n",
      "\n",
      "DEBUG: nvcc STDOUT mod.cu\n",
      "   Создается библиотека C:/Users/sanek/AppData/Local/Theano/compiledir_Windows-10-10.0.16299-SP0-Intel64_Family_6_Model_78_Stepping_3_GenuineIntel-3.5.4-64/tmplho8a0iu/m821d49ae813f017e26b31b10d0be970d.lib и объект C:/Users/sanek/AppData/Local/Theano/compiledir_Windows-10-10.0.16299-SP0-Intel64_Family_6_Model_78_Stepping_3_GenuineIntel-3.5.4-64/tmplho8a0iu/m821d49ae813f017e26b31b10d0be970d.exp\n",
      "\n",
      "DEBUG: nvcc STDOUT mod.cu\n",
      "   Создается библиотека C:/Users/sanek/AppData/Local/Theano/compiledir_Windows-10-10.0.16299-SP0-Intel64_Family_6_Model_78_Stepping_3_GenuineIntel-3.5.4-64/tmpw0w8vmpx/maf6653f5c838042e5bea66573b1a237f.lib и объект C:/Users/sanek/AppData/Local/Theano/compiledir_Windows-10-10.0.16299-SP0-Intel64_Family_6_Model_78_Stepping_3_GenuineIntel-3.5.4-64/tmpw0w8vmpx/maf6653f5c838042e5bea66573b1a237f.exp\n",
      "\n",
      "DEBUG: nvcc STDOUT mod.cu\n",
      "   Создается библиотека C:/Users/sanek/AppData/Local/Theano/compiledir_Windows-10-10.0.16299-SP0-Intel64_Family_6_Model_78_Stepping_3_GenuineIntel-3.5.4-64/tmpvr_kr1zy/m6a2495ca94aec87ce46fedd1a620cd59.lib и объект C:/Users/sanek/AppData/Local/Theano/compiledir_Windows-10-10.0.16299-SP0-Intel64_Family_6_Model_78_Stepping_3_GenuineIntel-3.5.4-64/tmpvr_kr1zy/m6a2495ca94aec87ce46fedd1a620cd59.exp\n",
      "\n"
     ]
    }
   ],
   "source": [
    "for iteration in range(1, 100):\n",
    "    X_train_shuffled, y_train_shuffled = shuffle(X_train,y_train)\n",
    "    model.fit(X_train_shuffled, y_train_shuffled, batch_size=len(X_train), epochs=1, verbose = 0)"
   ]
  },
  {
   "cell_type": "code",
   "execution_count": 23,
   "metadata": {
    "slideshow": {
     "slide_type": "subslide"
    }
   },
   "outputs": [],
   "source": [
    "def sample(preds):\n",
    "    # helper function to sample an index from a probability array\n",
    "    preds = np.asarray(preds).astype('float64')\n",
    "    preds = np.log(preds) #/ temperature\n",
    "    exp_preds = np.exp(preds)\n",
    "    preds = exp_preds / np.sum(exp_preds)\n",
    "    probas = np.random.choice(range(len(alphabet)), p = preds)\n",
    "    return probas"
   ]
  },
  {
   "cell_type": "code",
   "execution_count": 25,
   "metadata": {
    "slideshow": {
     "slide_type": "subslide"
    }
   },
   "outputs": [
    {
     "name": "stdout",
     "output_type": "stream",
     "text": [
      "----- Generating with seed: \"sasha\"\n",
      "sasha\n",
      "sashad\n",
      "sashady\n",
      "sashadyd\n",
      "sashadydj\n",
      "sashadydji\n",
      "sashadydjih\n",
      "sashadydjihg\n",
      "sashadydjihgt\n"
     ]
    }
   ],
   "source": [
    "import random\n",
    "import sys\n",
    "import numpy as np\n",
    "\n",
    "generated = ''\n",
    "seed = 'sasha'\n",
    "generated += seed\n",
    "print('----- Generating with seed: \"' + seed + '\"')\n",
    "print(generated)\n",
    "\n",
    "for i in range(8):\n",
    "    sequences = tokenizer.texts_to_sequences([' '.join([char for char in generated[-maxlen:]])])\n",
    "    X_pred = pad_sequences(sequences, maxlen=maxlen)\n",
    "    preds = model.predict(X_pred, verbose=0)[0]\n",
    "    next_index = sample(preds)\n",
    "    next_char = index_char[next_index]\n",
    "    generated += next_char\n",
    "    print(generated)"
   ]
  },
  {
   "cell_type": "code",
   "execution_count": 71,
   "metadata": {},
   "outputs": [
    {
     "data": {
      "text/plain": [
       "True"
      ]
     },
     "execution_count": 71,
     "metadata": {},
     "output_type": "execute_result"
    }
   ],
   "source": [
    "'a' in 'abc'"
   ]
  },
  {
   "cell_type": "markdown",
   "metadata": {
    "slideshow": {
     "slide_type": "subslide"
    }
   },
   "source": [
    "#### Задание 3\n",
    "\n",
    "Измените код выше так, чтобы генерировались панграмы – имена динозавров, не содержащие повторяющихся букв"
   ]
  },
  {
   "cell_type": "markdown",
   "metadata": {
    "slideshow": {
     "slide_type": "subslide"
    }
   },
   "source": [
    "#### Задание 4\n",
    "\n",
    "Измените функцию семлирования `sample`: добавьте параметр `t`, изпольузуемый для шкалирования вероятностей  `preds`: ```\n",
    "preds /= t\n",
    "``` \n",
    "\n",
    "Как использование этого параметра влияет на генерируемые имена?"
   ]
  },
  {
   "cell_type": "markdown",
   "metadata": {
    "slideshow": {
     "slide_type": "slide"
    }
   },
   "source": [
    "### Рекуррентные нейронные языковые модели\n",
    "\n",
    "RNN позволяют уйти от Марковских допущений и позволяют учитывать предысторию произвольной длины.\n",
    "\n",
    "$x_{1:n} = x_1, x_2, \\ldots, x_n$, $x_i \\in \\mathbb{R}^{d_{in}}$\n",
    "\n",
    "$y_n = RNN(x_{1:n})$, $y_n \\in \\mathbb{R}^{d_{out}}$\n",
    "\n",
    "Для каждого префикса $x_{i:i}$ $y_i$ – выходной вектор.\n",
    "\n",
    "$y_i = RNN(x_{1:i})$\n",
    "\n",
    "$y_{1:n} = RNN^{*}(x_{1:n})$, $y_i \\in \\mathbb{R}^{d_{out}}$"
   ]
  },
  {
   "cell_type": "markdown",
   "metadata": {
    "slideshow": {
     "slide_type": "subslide"
    }
   },
   "source": [
    "![rnn](rnn1.png)"
   ]
  },
  {
   "cell_type": "markdown",
   "metadata": {
    "slideshow": {
     "slide_type": "subslide"
    }
   },
   "source": [
    "$R$ –  рекурсивная функция с двумя входами: $x_i$ и $s_{i-1}$ (вектор состояния)\n",
    "\n",
    "$RNN^{*}(x_{1:n}, s_0) = y_{1:n}$\n",
    "\n",
    "$y_i = O(s_i)$\n",
    "\n",
    "$s_i = R(s_{i-1}, x_i)$\n",
    "\n",
    "$s_i = R(s_{i-1}, x_i) = g(s_{i-1}* W^s + x_i W^x +b)$\n",
    "\n",
    "$x_i \\in \\mathbb{R}^{d_{in}}$, $y_i \\in \\mathbb{R}^{d_{out}}$, $s_i \\in \\mathbb{R}^{d_{out}}$\n",
    "\n",
    "$W^x \\in \\mathbb{R}^{d_{in} \\times d_{in}}$, $W^s \\in \\mathbb{R}^{d_{out} \\times d_{out}}$"
   ]
  },
  {
   "cell_type": "markdown",
   "metadata": {
    "slideshow": {
     "slide_type": "subslide"
    }
   },
   "source": [
    "![rnn](rnn4.png)"
   ]
  },
  {
   "cell_type": "markdown",
   "metadata": {
    "slideshow": {
     "slide_type": "subslide"
    }
   },
   "source": [
    "#### Обучение RNN: backpropogation through time (BPTT)\n",
    "\n",
    "![rnn](rnn3.png)"
   ]
  },
  {
   "cell_type": "markdown",
   "metadata": {
    "slideshow": {
     "slide_type": "subslide"
    }
   },
   "source": [
    "#### Сценарии использования RNN\n",
    "\n",
    "* Acceptor: только $y_n$, используемый для дальнейшего предсказания / классификации\n",
    "\n",
    "![rnn](rnn5.png)\n"
   ]
  },
  {
   "cell_type": "markdown",
   "metadata": {
    "slideshow": {
     "slide_type": "subslide"
    }
   },
   "source": [
    "* Encoder: только $y_n$\n",
    "\n",
    "![rnn](rnn5.png)"
   ]
  },
  {
   "cell_type": "markdown",
   "metadata": {
    "slideshow": {
     "slide_type": "subslide"
    }
   },
   "source": [
    "* Transducer: выход $t_i$ для каждого входа $x_{1:i}$ – языковые модели,  sequence labelling\n",
    "\n",
    "![rnn](rnn2.png)"
   ]
  },
  {
   "cell_type": "markdown",
   "metadata": {
    "slideshow": {
     "slide_type": "subslide"
    }
   },
   "source": [
    "#### Двунаправленная рекуррентная нейронная сеть\n",
    "\n",
    "$x_{1:n}$ – входная последовательность\n",
    "\n",
    "$s_i^f$ –  \"прошлое / прямое состояние\" – основано на $x_{1:i}$\n",
    "\n",
    "$s_i^b$ –  \"будущее / обратное состояние\" – основано на $x_{n:i}$\n",
    "\n",
    "$y_i = [O(s_i^f), O(s_i^b)] = [y_i^f, y_i^b]$\n",
    "\n",
    "![rnn](birnn.png)"
   ]
  },
  {
   "cell_type": "markdown",
   "metadata": {
    "slideshow": {
     "slide_type": "subslide"
    }
   },
   "source": [
    "#### Управляемые архитектуры\n",
    "\n",
    "RNN трудно обучать: проблема исчезающего градиента. Уйти от нее помогают управляемые нейроны специального вида: LSTM и GRU.\n",
    "\n",
    "$s_i$ – память нейронной сети. Каждое использование $R$ считывает и видоизменяет всю память. \n",
    "\n",
    "Управляемый доступ к памяти: $g \\in {0,1}^n$:\n",
    "\n",
    "$s_{i+1} \\leftarrow g \\odot x + (1-g) \\odot s_{i}$\n",
    "\n",
    "Дифференцируемое управление:\n",
    "\n",
    "$g \\in \\mathbb{R}^n $:\n",
    "\n",
    "$s_{i+1} \\leftarrow \\sigma(g) \\odot x + (1-g) \\odot s_{i}$\n",
    "\n",
    "http://colah.github.io/posts/2015-08-Understanding-LSTMs/\n",
    "    "
   ]
  },
  {
   "cell_type": "code",
   "execution_count": 26,
   "metadata": {
    "slideshow": {
     "slide_type": "subslide"
    }
   },
   "outputs": [],
   "source": [
    "from keras.utils import to_categorical\n",
    "import numpy as np\n",
    "\n",
    "X_names = ['bos ' + ' '.join(name) for name in names]\n",
    "Y_names = [' '.join(name) + ' eos' for name in names]\n",
    "maxlen = max([len(name) for name in names])+1"
   ]
  },
  {
   "cell_type": "code",
   "execution_count": 27,
   "metadata": {
    "collapsed": true,
    "slideshow": {
     "slide_type": "subslide"
    }
   },
   "outputs": [],
   "source": [
    "tokenizer = Tokenizer(num_words=len(alphabet)+2)\n",
    "tokenizer.fit_on_texts(X_names+Y_names)\n",
    "\n",
    "sequences = tokenizer.texts_to_sequences(X_names)\n",
    "X_train = pad_sequences(sequences, maxlen=maxlen, padding='post')\n",
    "\n",
    "\n",
    "sequences = tokenizer.texts_to_sequences(Y_names)\n",
    "Y_train = pad_sequences(sequences, padding='post')\n",
    "\n",
    "\n",
    "Y_train_cat  = [to_categorical(sent, num_classes=len(alphabet)+2) for sent in Y_train]\n",
    "Y_train =  np.asarray(Y_train_cat)"
   ]
  },
  {
   "cell_type": "code",
   "execution_count": 28,
   "metadata": {
    "slideshow": {
     "slide_type": "subslide"
    }
   },
   "outputs": [
    {
     "name": "stdout",
     "output_type": "stream",
     "text": [
      "bos a a c h e n o s a u r u s\n",
      "a a c h e n o s a u r u s eos\n",
      "(1536, 27)\n",
      "(1536, 27, 28)\n",
      "10\n",
      "11\n"
     ]
    }
   ],
   "source": [
    "print(X_names[0])\n",
    "print(Y_names[0])\n",
    "\n",
    "\n",
    "print(X_train.shape)\n",
    "print(Y_train.shape)\n",
    "\n",
    "print(tokenizer.word_index['bos'])\n",
    "print(tokenizer.word_index['eos'])"
   ]
  },
  {
   "cell_type": "code",
   "execution_count": 29,
   "metadata": {
    "collapsed": true,
    "slideshow": {
     "slide_type": "subslide"
    }
   },
   "outputs": [],
   "source": [
    "char_index = tokenizer.word_index\n",
    "index_char = {i: c for c, i in char_index.items()}"
   ]
  },
  {
   "cell_type": "code",
   "execution_count": 30,
   "metadata": {
    "slideshow": {
     "slide_type": "subslide"
    }
   },
   "outputs": [],
   "source": [
    "model = Sequential()\n",
    "\n",
    "model.add(Embedding(len(alphabet)+2, 30, input_length=maxlen))\n",
    "model.add(LSTM(128, return_sequences = True))\n",
    "model.add(TimeDistributed(Dense(len(alphabet)+2, activation = 'softmax')))\n",
    "model.compile(loss='categorical_crossentropy', optimizer='adam', metrics=['accuracy'])"
   ]
  },
  {
   "cell_type": "code",
   "execution_count": 31,
   "metadata": {
    "slideshow": {
     "slide_type": "subslide"
    }
   },
   "outputs": [
    {
     "name": "stderr",
     "output_type": "stream",
     "text": [
      "DEBUG: nvcc STDOUT mod.cu\n",
      "   Создается библиотека C:/Users/sanek/AppData/Local/Theano/compiledir_Windows-10-10.0.16299-SP0-Intel64_Family_6_Model_78_Stepping_3_GenuineIntel-3.5.4-64/tmplv4vzazw/m8ff56eba275ea5e3adc47f9f70ed24f2.lib и объект C:/Users/sanek/AppData/Local/Theano/compiledir_Windows-10-10.0.16299-SP0-Intel64_Family_6_Model_78_Stepping_3_GenuineIntel-3.5.4-64/tmplv4vzazw/m8ff56eba275ea5e3adc47f9f70ed24f2.exp\n",
      "\n",
      "DEBUG: nvcc STDOUT mod.cu\n",
      "   Создается библиотека C:/Users/sanek/AppData/Local/Theano/compiledir_Windows-10-10.0.16299-SP0-Intel64_Family_6_Model_78_Stepping_3_GenuineIntel-3.5.4-64/tmp4adq3p0_/m02e3cf94cecf7e295ce26cf72a939e27.lib и объект C:/Users/sanek/AppData/Local/Theano/compiledir_Windows-10-10.0.16299-SP0-Intel64_Family_6_Model_78_Stepping_3_GenuineIntel-3.5.4-64/tmp4adq3p0_/m02e3cf94cecf7e295ce26cf72a939e27.exp\n",
      "\n",
      "DEBUG: nvcc STDOUT mod.cu\n",
      "   Создается библиотека C:/Users/sanek/AppData/Local/Theano/compiledir_Windows-10-10.0.16299-SP0-Intel64_Family_6_Model_78_Stepping_3_GenuineIntel-3.5.4-64/tmp66_gy98i/m531671528fa39d6d2b4362377f30b0e5.lib и объект C:/Users/sanek/AppData/Local/Theano/compiledir_Windows-10-10.0.16299-SP0-Intel64_Family_6_Model_78_Stepping_3_GenuineIntel-3.5.4-64/tmp66_gy98i/m531671528fa39d6d2b4362377f30b0e5.exp\n",
      "\n",
      "DEBUG: nvcc STDOUT mod.cu\n",
      "   Создается библиотека C:/Users/sanek/AppData/Local/Theano/compiledir_Windows-10-10.0.16299-SP0-Intel64_Family_6_Model_78_Stepping_3_GenuineIntel-3.5.4-64/tmpjmwabd7o/m61780c6cec26156c4c37bce7084812ed.lib и объект C:/Users/sanek/AppData/Local/Theano/compiledir_Windows-10-10.0.16299-SP0-Intel64_Family_6_Model_78_Stepping_3_GenuineIntel-3.5.4-64/tmpjmwabd7o/m61780c6cec26156c4c37bce7084812ed.exp\n",
      "\n",
      "DEBUG: nvcc STDOUT mod.cu\n",
      "   Создается библиотека C:/Users/sanek/AppData/Local/Theano/compiledir_Windows-10-10.0.16299-SP0-Intel64_Family_6_Model_78_Stepping_3_GenuineIntel-3.5.4-64/tmpp3h_c7ra/ma18b7068916eb419812dbcef62628d92.lib и объект C:/Users/sanek/AppData/Local/Theano/compiledir_Windows-10-10.0.16299-SP0-Intel64_Family_6_Model_78_Stepping_3_GenuineIntel-3.5.4-64/tmpp3h_c7ra/ma18b7068916eb419812dbcef62628d92.exp\n",
      "\n",
      "DEBUG: nvcc STDOUT mod.cu\n",
      "   Создается библиотека C:/Users/sanek/AppData/Local/Theano/compiledir_Windows-10-10.0.16299-SP0-Intel64_Family_6_Model_78_Stepping_3_GenuineIntel-3.5.4-64/tmpqij8r8h8/m58317dfa3205175a1e59e8f5b84f966e.lib и объект C:/Users/sanek/AppData/Local/Theano/compiledir_Windows-10-10.0.16299-SP0-Intel64_Family_6_Model_78_Stepping_3_GenuineIntel-3.5.4-64/tmpqij8r8h8/m58317dfa3205175a1e59e8f5b84f966e.exp\n",
      "\n",
      "DEBUG: nvcc STDOUT mod.cu\n",
      "   Создается библиотека C:/Users/sanek/AppData/Local/Theano/compiledir_Windows-10-10.0.16299-SP0-Intel64_Family_6_Model_78_Stepping_3_GenuineIntel-3.5.4-64/tmpn5e7m60n/m3b7f788626f9e114334749296475fd9f.lib и объект C:/Users/sanek/AppData/Local/Theano/compiledir_Windows-10-10.0.16299-SP0-Intel64_Family_6_Model_78_Stepping_3_GenuineIntel-3.5.4-64/tmpn5e7m60n/m3b7f788626f9e114334749296475fd9f.exp\n",
      "\n",
      "DEBUG: nvcc STDOUT mod.cu\n",
      "   Создается библиотека C:/Users/sanek/AppData/Local/Theano/compiledir_Windows-10-10.0.16299-SP0-Intel64_Family_6_Model_78_Stepping_3_GenuineIntel-3.5.4-64/tmpgb2usxf0/m26be6a8c6f9c82826fb72990753102b3.lib и объект C:/Users/sanek/AppData/Local/Theano/compiledir_Windows-10-10.0.16299-SP0-Intel64_Family_6_Model_78_Stepping_3_GenuineIntel-3.5.4-64/tmpgb2usxf0/m26be6a8c6f9c82826fb72990753102b3.exp\n",
      "\n",
      "DEBUG: nvcc STDOUT mod.cu\n",
      "   Создается библиотека C:/Users/sanek/AppData/Local/Theano/compiledir_Windows-10-10.0.16299-SP0-Intel64_Family_6_Model_78_Stepping_3_GenuineIntel-3.5.4-64/tmpgn44cd94/m6620d37f92a611e094885cef1e36e56f.lib и объект C:/Users/sanek/AppData/Local/Theano/compiledir_Windows-10-10.0.16299-SP0-Intel64_Family_6_Model_78_Stepping_3_GenuineIntel-3.5.4-64/tmpgn44cd94/m6620d37f92a611e094885cef1e36e56f.exp\n",
      "\n",
      "DEBUG: nvcc STDOUT mod.cu\n",
      "   Создается библиотека C:/Users/sanek/AppData/Local/Theano/compiledir_Windows-10-10.0.16299-SP0-Intel64_Family_6_Model_78_Stepping_3_GenuineIntel-3.5.4-64/tmpdngjymju/m134666b779e4ccfd36cfe1b60f601119.lib и объект C:/Users/sanek/AppData/Local/Theano/compiledir_Windows-10-10.0.16299-SP0-Intel64_Family_6_Model_78_Stepping_3_GenuineIntel-3.5.4-64/tmpdngjymju/m134666b779e4ccfd36cfe1b60f601119.exp\n",
      "\n",
      "DEBUG: nvcc STDOUT mod.cu\n",
      "   Создается библиотека C:/Users/sanek/AppData/Local/Theano/compiledir_Windows-10-10.0.16299-SP0-Intel64_Family_6_Model_78_Stepping_3_GenuineIntel-3.5.4-64/tmp6ojm2gmv/m1963c1828b90c54184ffa34f35041359.lib и объект C:/Users/sanek/AppData/Local/Theano/compiledir_Windows-10-10.0.16299-SP0-Intel64_Family_6_Model_78_Stepping_3_GenuineIntel-3.5.4-64/tmp6ojm2gmv/m1963c1828b90c54184ffa34f35041359.exp\n",
      "\n",
      "DEBUG: nvcc STDOUT mod.cu\n",
      "   Создается библиотека C:/Users/sanek/AppData/Local/Theano/compiledir_Windows-10-10.0.16299-SP0-Intel64_Family_6_Model_78_Stepping_3_GenuineIntel-3.5.4-64/tmptvqi0ylu/mb91a1b1d636a14689fa9731b6e3a8a55.lib и объект C:/Users/sanek/AppData/Local/Theano/compiledir_Windows-10-10.0.16299-SP0-Intel64_Family_6_Model_78_Stepping_3_GenuineIntel-3.5.4-64/tmptvqi0ylu/mb91a1b1d636a14689fa9731b6e3a8a55.exp\n",
      "\n",
      "DEBUG: nvcc STDOUT mod.cu\n",
      "   Создается библиотека C:/Users/sanek/AppData/Local/Theano/compiledir_Windows-10-10.0.16299-SP0-Intel64_Family_6_Model_78_Stepping_3_GenuineIntel-3.5.4-64/tmp_xh0962d/m23f26694406626b681055a444187053a.lib и объект C:/Users/sanek/AppData/Local/Theano/compiledir_Windows-10-10.0.16299-SP0-Intel64_Family_6_Model_78_Stepping_3_GenuineIntel-3.5.4-64/tmp_xh0962d/m23f26694406626b681055a444187053a.exp\n",
      "\n",
      "DEBUG: nvcc STDOUT mod.cu\n",
      "   Создается библиотека C:/Users/sanek/AppData/Local/Theano/compiledir_Windows-10-10.0.16299-SP0-Intel64_Family_6_Model_78_Stepping_3_GenuineIntel-3.5.4-64/tmp7wz5kgho/m6188fe81664f3f651254e2ae29967e62.lib и объект C:/Users/sanek/AppData/Local/Theano/compiledir_Windows-10-10.0.16299-SP0-Intel64_Family_6_Model_78_Stepping_3_GenuineIntel-3.5.4-64/tmp7wz5kgho/m6188fe81664f3f651254e2ae29967e62.exp\n",
      "\n",
      "DEBUG: nvcc STDOUT mod.cu\n",
      "   Создается библиотека C:/Users/sanek/AppData/Local/Theano/compiledir_Windows-10-10.0.16299-SP0-Intel64_Family_6_Model_78_Stepping_3_GenuineIntel-3.5.4-64/tmpz8frfspb/m6448cd3061693b37fd500517abcea1c3.lib и объект C:/Users/sanek/AppData/Local/Theano/compiledir_Windows-10-10.0.16299-SP0-Intel64_Family_6_Model_78_Stepping_3_GenuineIntel-3.5.4-64/tmpz8frfspb/m6448cd3061693b37fd500517abcea1c3.exp\n",
      "\n",
      "DEBUG: nvcc STDOUT mod.cu\n",
      "   Создается библиотека C:/Users/sanek/AppData/Local/Theano/compiledir_Windows-10-10.0.16299-SP0-Intel64_Family_6_Model_78_Stepping_3_GenuineIntel-3.5.4-64/tmpcfm0x1b7/me0cd969a390585550bc9a8284baaf639.lib и объект C:/Users/sanek/AppData/Local/Theano/compiledir_Windows-10-10.0.16299-SP0-Intel64_Family_6_Model_78_Stepping_3_GenuineIntel-3.5.4-64/tmpcfm0x1b7/me0cd969a390585550bc9a8284baaf639.exp\n",
      "\n",
      "DEBUG: nvcc STDOUT mod.cu\n",
      "   Создается библиотека C:/Users/sanek/AppData/Local/Theano/compiledir_Windows-10-10.0.16299-SP0-Intel64_Family_6_Model_78_Stepping_3_GenuineIntel-3.5.4-64/tmpchtpymqf/m795474a93a2461d982be31fd4a0066a7.lib и объект C:/Users/sanek/AppData/Local/Theano/compiledir_Windows-10-10.0.16299-SP0-Intel64_Family_6_Model_78_Stepping_3_GenuineIntel-3.5.4-64/tmpchtpymqf/m795474a93a2461d982be31fd4a0066a7.exp\n",
      "\n",
      "DEBUG: nvcc STDOUT mod.cu\n",
      "   Создается библиотека C:/Users/sanek/AppData/Local/Theano/compiledir_Windows-10-10.0.16299-SP0-Intel64_Family_6_Model_78_Stepping_3_GenuineIntel-3.5.4-64/tmp6nd8td96/mc9e98cbcdb17c6b91da234a31fb34ac3.lib и объект C:/Users/sanek/AppData/Local/Theano/compiledir_Windows-10-10.0.16299-SP0-Intel64_Family_6_Model_78_Stepping_3_GenuineIntel-3.5.4-64/tmp6nd8td96/mc9e98cbcdb17c6b91da234a31fb34ac3.exp\n",
      "\n",
      "DEBUG: nvcc STDOUT mod.cu\n",
      "   Создается библиотека C:/Users/sanek/AppData/Local/Theano/compiledir_Windows-10-10.0.16299-SP0-Intel64_Family_6_Model_78_Stepping_3_GenuineIntel-3.5.4-64/tmp_l_6km6i/mc8735893c478a053ef8f2c9b89f0f4d2.lib и объект C:/Users/sanek/AppData/Local/Theano/compiledir_Windows-10-10.0.16299-SP0-Intel64_Family_6_Model_78_Stepping_3_GenuineIntel-3.5.4-64/tmp_l_6km6i/mc8735893c478a053ef8f2c9b89f0f4d2.exp\n",
      "\n",
      "DEBUG: nvcc STDOUT mod.cu\n",
      "   Создается библиотека C:/Users/sanek/AppData/Local/Theano/compiledir_Windows-10-10.0.16299-SP0-Intel64_Family_6_Model_78_Stepping_3_GenuineIntel-3.5.4-64/tmpodnjv6m5/m79a64dbf9dbc2add2a40354e6fc2bb64.lib и объект C:/Users/sanek/AppData/Local/Theano/compiledir_Windows-10-10.0.16299-SP0-Intel64_Family_6_Model_78_Stepping_3_GenuineIntel-3.5.4-64/tmpodnjv6m5/m79a64dbf9dbc2add2a40354e6fc2bb64.exp\n",
      "\n"
     ]
    },
    {
     "name": "stderr",
     "output_type": "stream",
     "text": [
      "DEBUG: nvcc STDOUT mod.cu\n",
      "   Создается библиотека C:/Users/sanek/AppData/Local/Theano/compiledir_Windows-10-10.0.16299-SP0-Intel64_Family_6_Model_78_Stepping_3_GenuineIntel-3.5.4-64/tmpojsrx0uz/mdec8329799914b3fb0383933c23ff9d2.lib и объект C:/Users/sanek/AppData/Local/Theano/compiledir_Windows-10-10.0.16299-SP0-Intel64_Family_6_Model_78_Stepping_3_GenuineIntel-3.5.4-64/tmpojsrx0uz/mdec8329799914b3fb0383933c23ff9d2.exp\n",
      "\n",
      "DEBUG: nvcc STDOUT mod.cu\n",
      "   Создается библиотека C:/Users/sanek/AppData/Local/Theano/compiledir_Windows-10-10.0.16299-SP0-Intel64_Family_6_Model_78_Stepping_3_GenuineIntel-3.5.4-64/tmpcu4fi9fm/m952567fee35dd11f986d1b4a9ee522d1.lib и объект C:/Users/sanek/AppData/Local/Theano/compiledir_Windows-10-10.0.16299-SP0-Intel64_Family_6_Model_78_Stepping_3_GenuineIntel-3.5.4-64/tmpcu4fi9fm/m952567fee35dd11f986d1b4a9ee522d1.exp\n",
      "\n",
      "DEBUG: nvcc STDOUT mod.cu\n",
      "   Создается библиотека C:/Users/sanek/AppData/Local/Theano/compiledir_Windows-10-10.0.16299-SP0-Intel64_Family_6_Model_78_Stepping_3_GenuineIntel-3.5.4-64/tmpdxvdrek1/mdcd76952d32823f731852bc5287c6ae3.lib и объект C:/Users/sanek/AppData/Local/Theano/compiledir_Windows-10-10.0.16299-SP0-Intel64_Family_6_Model_78_Stepping_3_GenuineIntel-3.5.4-64/tmpdxvdrek1/mdcd76952d32823f731852bc5287c6ae3.exp\n",
      "\n",
      "DEBUG: nvcc STDOUT mod.cu\n",
      "   Создается библиотека C:/Users/sanek/AppData/Local/Theano/compiledir_Windows-10-10.0.16299-SP0-Intel64_Family_6_Model_78_Stepping_3_GenuineIntel-3.5.4-64/tmpokf3hsph/m4fb47fec5a1eadbc2f5df14d7bc4d666.lib и объект C:/Users/sanek/AppData/Local/Theano/compiledir_Windows-10-10.0.16299-SP0-Intel64_Family_6_Model_78_Stepping_3_GenuineIntel-3.5.4-64/tmpokf3hsph/m4fb47fec5a1eadbc2f5df14d7bc4d666.exp\n",
      "\n",
      "DEBUG: nvcc STDOUT mod.cu\n",
      "   Создается библиотека C:/Users/sanek/AppData/Local/Theano/compiledir_Windows-10-10.0.16299-SP0-Intel64_Family_6_Model_78_Stepping_3_GenuineIntel-3.5.4-64/tmpj74_vxlm/m1adaac8697260565cee2533ed5278ea9.lib и объект C:/Users/sanek/AppData/Local/Theano/compiledir_Windows-10-10.0.16299-SP0-Intel64_Family_6_Model_78_Stepping_3_GenuineIntel-3.5.4-64/tmpj74_vxlm/m1adaac8697260565cee2533ed5278ea9.exp\n",
      "\n",
      "DEBUG: nvcc STDOUT mod.cu\n",
      "   Создается библиотека C:/Users/sanek/AppData/Local/Theano/compiledir_Windows-10-10.0.16299-SP0-Intel64_Family_6_Model_78_Stepping_3_GenuineIntel-3.5.4-64/tmpfreti5dv/m1bdb305420e7620406cc7520efd46a22.lib и объект C:/Users/sanek/AppData/Local/Theano/compiledir_Windows-10-10.0.16299-SP0-Intel64_Family_6_Model_78_Stepping_3_GenuineIntel-3.5.4-64/tmpfreti5dv/m1bdb305420e7620406cc7520efd46a22.exp\n",
      "\n",
      "DEBUG: nvcc STDOUT mod.cu\n",
      "   Создается библиотека C:/Users/sanek/AppData/Local/Theano/compiledir_Windows-10-10.0.16299-SP0-Intel64_Family_6_Model_78_Stepping_3_GenuineIntel-3.5.4-64/tmpzocb3om3/m722c31843a3f705c2e87913b714bed64.lib и объект C:/Users/sanek/AppData/Local/Theano/compiledir_Windows-10-10.0.16299-SP0-Intel64_Family_6_Model_78_Stepping_3_GenuineIntel-3.5.4-64/tmpzocb3om3/m722c31843a3f705c2e87913b714bed64.exp\n",
      "\n",
      "DEBUG: nvcc STDOUT mod.cu\n",
      "   Создается библиотека C:/Users/sanek/AppData/Local/Theano/compiledir_Windows-10-10.0.16299-SP0-Intel64_Family_6_Model_78_Stepping_3_GenuineIntel-3.5.4-64/tmp77ew9lz5/ma937262580d13a2b1f83e833e01967c2.lib и объект C:/Users/sanek/AppData/Local/Theano/compiledir_Windows-10-10.0.16299-SP0-Intel64_Family_6_Model_78_Stepping_3_GenuineIntel-3.5.4-64/tmp77ew9lz5/ma937262580d13a2b1f83e833e01967c2.exp\n",
      "\n",
      "DEBUG: nvcc STDOUT mod.cu\n",
      "   Создается библиотека C:/Users/sanek/AppData/Local/Theano/compiledir_Windows-10-10.0.16299-SP0-Intel64_Family_6_Model_78_Stepping_3_GenuineIntel-3.5.4-64/tmpumy90kbg/mb9498df435ef9fd57e4df9c9807dcc73.lib и объект C:/Users/sanek/AppData/Local/Theano/compiledir_Windows-10-10.0.16299-SP0-Intel64_Family_6_Model_78_Stepping_3_GenuineIntel-3.5.4-64/tmpumy90kbg/mb9498df435ef9fd57e4df9c9807dcc73.exp\n",
      "\n",
      "DEBUG: nvcc STDOUT mod.cu\n",
      "   Создается библиотека C:/Users/sanek/AppData/Local/Theano/compiledir_Windows-10-10.0.16299-SP0-Intel64_Family_6_Model_78_Stepping_3_GenuineIntel-3.5.4-64/tmpplsbh5r4/ma9b145335e435206f912670cb7ae53e4.lib и объект C:/Users/sanek/AppData/Local/Theano/compiledir_Windows-10-10.0.16299-SP0-Intel64_Family_6_Model_78_Stepping_3_GenuineIntel-3.5.4-64/tmpplsbh5r4/ma9b145335e435206f912670cb7ae53e4.exp\n",
      "\n",
      "DEBUG: nvcc STDOUT mod.cu\n",
      "   Создается библиотека C:/Users/sanek/AppData/Local/Theano/compiledir_Windows-10-10.0.16299-SP0-Intel64_Family_6_Model_78_Stepping_3_GenuineIntel-3.5.4-64/tmpxddwtob8/mccb619fc0f078dd74dc1f53559c8e0f0.lib и объект C:/Users/sanek/AppData/Local/Theano/compiledir_Windows-10-10.0.16299-SP0-Intel64_Family_6_Model_78_Stepping_3_GenuineIntel-3.5.4-64/tmpxddwtob8/mccb619fc0f078dd74dc1f53559c8e0f0.exp\n",
      "\n",
      "DEBUG: nvcc STDOUT mod.cu\n",
      "   Создается библиотека C:/Users/sanek/AppData/Local/Theano/compiledir_Windows-10-10.0.16299-SP0-Intel64_Family_6_Model_78_Stepping_3_GenuineIntel-3.5.4-64/tmpxz0tgi3o/m8beafe179c7baa9db440399f46f57e16.lib и объект C:/Users/sanek/AppData/Local/Theano/compiledir_Windows-10-10.0.16299-SP0-Intel64_Family_6_Model_78_Stepping_3_GenuineIntel-3.5.4-64/tmpxz0tgi3o/m8beafe179c7baa9db440399f46f57e16.exp\n",
      "\n",
      "DEBUG: nvcc STDOUT mod.cu\n",
      "   Создается библиотека C:/Users/sanek/AppData/Local/Theano/compiledir_Windows-10-10.0.16299-SP0-Intel64_Family_6_Model_78_Stepping_3_GenuineIntel-3.5.4-64/tmp2ke6pdzd/mf7cb446d0795f43c4fe820d0a40b9b91.lib и объект C:/Users/sanek/AppData/Local/Theano/compiledir_Windows-10-10.0.16299-SP0-Intel64_Family_6_Model_78_Stepping_3_GenuineIntel-3.5.4-64/tmp2ke6pdzd/mf7cb446d0795f43c4fe820d0a40b9b91.exp\n",
      "\n",
      "DEBUG: nvcc STDOUT mod.cu\n",
      "   Создается библиотека C:/Users/sanek/AppData/Local/Theano/compiledir_Windows-10-10.0.16299-SP0-Intel64_Family_6_Model_78_Stepping_3_GenuineIntel-3.5.4-64/tmpv0rtnz1c/m2552408cf466b485dedaa6fc869adf10.lib и объект C:/Users/sanek/AppData/Local/Theano/compiledir_Windows-10-10.0.16299-SP0-Intel64_Family_6_Model_78_Stepping_3_GenuineIntel-3.5.4-64/tmpv0rtnz1c/m2552408cf466b485dedaa6fc869adf10.exp\n",
      "\n",
      "DEBUG: nvcc STDOUT mod.cu\n",
      "   Создается библиотека C:/Users/sanek/AppData/Local/Theano/compiledir_Windows-10-10.0.16299-SP0-Intel64_Family_6_Model_78_Stepping_3_GenuineIntel-3.5.4-64/tmp7uafz5qw/m3edfbd51d8d9c981d6d6860b31869ecf.lib и объект C:/Users/sanek/AppData/Local/Theano/compiledir_Windows-10-10.0.16299-SP0-Intel64_Family_6_Model_78_Stepping_3_GenuineIntel-3.5.4-64/tmp7uafz5qw/m3edfbd51d8d9c981d6d6860b31869ecf.exp\n",
      "\n",
      "DEBUG: nvcc STDOUT mod.cu\n",
      "   Создается библиотека C:/Users/sanek/AppData/Local/Theano/compiledir_Windows-10-10.0.16299-SP0-Intel64_Family_6_Model_78_Stepping_3_GenuineIntel-3.5.4-64/tmpr7fg4p2h/m0043fa02b740cc917fd8cecd1211d81c.lib и объект C:/Users/sanek/AppData/Local/Theano/compiledir_Windows-10-10.0.16299-SP0-Intel64_Family_6_Model_78_Stepping_3_GenuineIntel-3.5.4-64/tmpr7fg4p2h/m0043fa02b740cc917fd8cecd1211d81c.exp\n",
      "\n",
      "DEBUG: nvcc STDOUT mod.cu\n",
      "   Создается библиотека C:/Users/sanek/AppData/Local/Theano/compiledir_Windows-10-10.0.16299-SP0-Intel64_Family_6_Model_78_Stepping_3_GenuineIntel-3.5.4-64/tmp5qa6fbcl/m7173d47465d301a477fecd16e1aa05db.lib и объект C:/Users/sanek/AppData/Local/Theano/compiledir_Windows-10-10.0.16299-SP0-Intel64_Family_6_Model_78_Stepping_3_GenuineIntel-3.5.4-64/tmp5qa6fbcl/m7173d47465d301a477fecd16e1aa05db.exp\n",
      "\n",
      "DEBUG: nvcc STDOUT mod.cu\n",
      "   Создается библиотека C:/Users/sanek/AppData/Local/Theano/compiledir_Windows-10-10.0.16299-SP0-Intel64_Family_6_Model_78_Stepping_3_GenuineIntel-3.5.4-64/tmp24vgxk_3/m427946431751813337294e11adc7d118.lib и объект C:/Users/sanek/AppData/Local/Theano/compiledir_Windows-10-10.0.16299-SP0-Intel64_Family_6_Model_78_Stepping_3_GenuineIntel-3.5.4-64/tmp24vgxk_3/m427946431751813337294e11adc7d118.exp\n",
      "\n",
      "DEBUG: nvcc STDOUT mod.cu\n",
      "   Создается библиотека C:/Users/sanek/AppData/Local/Theano/compiledir_Windows-10-10.0.16299-SP0-Intel64_Family_6_Model_78_Stepping_3_GenuineIntel-3.5.4-64/tmpbw460qmd/mbd4098dba1ca4be04e6af81dba2aef78.lib и объект C:/Users/sanek/AppData/Local/Theano/compiledir_Windows-10-10.0.16299-SP0-Intel64_Family_6_Model_78_Stepping_3_GenuineIntel-3.5.4-64/tmpbw460qmd/mbd4098dba1ca4be04e6af81dba2aef78.exp\n",
      "\n",
      "DEBUG: nvcc STDOUT mod.cu\n",
      "   Создается библиотека C:/Users/sanek/AppData/Local/Theano/compiledir_Windows-10-10.0.16299-SP0-Intel64_Family_6_Model_78_Stepping_3_GenuineIntel-3.5.4-64/tmpwwqcyesz/m68dca1cee184f8ca0ed34de12f73fe29.lib и объект C:/Users/sanek/AppData/Local/Theano/compiledir_Windows-10-10.0.16299-SP0-Intel64_Family_6_Model_78_Stepping_3_GenuineIntel-3.5.4-64/tmpwwqcyesz/m68dca1cee184f8ca0ed34de12f73fe29.exp\n",
      "\n"
     ]
    },
    {
     "name": "stderr",
     "output_type": "stream",
     "text": [
      "DEBUG: nvcc STDOUT mod.cu\n",
      "   Создается библиотека C:/Users/sanek/AppData/Local/Theano/compiledir_Windows-10-10.0.16299-SP0-Intel64_Family_6_Model_78_Stepping_3_GenuineIntel-3.5.4-64/tmpvuxb6yrk/m0d52253979a58a88a170a121915524e5.lib и объект C:/Users/sanek/AppData/Local/Theano/compiledir_Windows-10-10.0.16299-SP0-Intel64_Family_6_Model_78_Stepping_3_GenuineIntel-3.5.4-64/tmpvuxb6yrk/m0d52253979a58a88a170a121915524e5.exp\n",
      "\n",
      "DEBUG: nvcc STDOUT mod.cu\n",
      "   Создается библиотека C:/Users/sanek/AppData/Local/Theano/compiledir_Windows-10-10.0.16299-SP0-Intel64_Family_6_Model_78_Stepping_3_GenuineIntel-3.5.4-64/tmpdrluovv0/m6401c99819334d731f6b03b73edf2477.lib и объект C:/Users/sanek/AppData/Local/Theano/compiledir_Windows-10-10.0.16299-SP0-Intel64_Family_6_Model_78_Stepping_3_GenuineIntel-3.5.4-64/tmpdrluovv0/m6401c99819334d731f6b03b73edf2477.exp\n",
      "\n",
      "DEBUG: nvcc STDOUT mod.cu\n",
      "   Создается библиотека C:/Users/sanek/AppData/Local/Theano/compiledir_Windows-10-10.0.16299-SP0-Intel64_Family_6_Model_78_Stepping_3_GenuineIntel-3.5.4-64/tmpexr_dkjw/me5ad9736ddbbd9fb1ed36e19a50b9a03.lib и объект C:/Users/sanek/AppData/Local/Theano/compiledir_Windows-10-10.0.16299-SP0-Intel64_Family_6_Model_78_Stepping_3_GenuineIntel-3.5.4-64/tmpexr_dkjw/me5ad9736ddbbd9fb1ed36e19a50b9a03.exp\n",
      "\n",
      "DEBUG: nvcc STDOUT mod.cu\n",
      "   Создается библиотека C:/Users/sanek/AppData/Local/Theano/compiledir_Windows-10-10.0.16299-SP0-Intel64_Family_6_Model_78_Stepping_3_GenuineIntel-3.5.4-64/tmpy3el2zy9/mb5db48bb1463be4b1117483e7f3555d7.lib и объект C:/Users/sanek/AppData/Local/Theano/compiledir_Windows-10-10.0.16299-SP0-Intel64_Family_6_Model_78_Stepping_3_GenuineIntel-3.5.4-64/tmpy3el2zy9/mb5db48bb1463be4b1117483e7f3555d7.exp\n",
      "\n",
      "DEBUG: nvcc STDOUT mod.cu\n",
      "   Создается библиотека C:/Users/sanek/AppData/Local/Theano/compiledir_Windows-10-10.0.16299-SP0-Intel64_Family_6_Model_78_Stepping_3_GenuineIntel-3.5.4-64/tmpu39yowyq/m260339c8d4e454104663f6b95f61765b.lib и объект C:/Users/sanek/AppData/Local/Theano/compiledir_Windows-10-10.0.16299-SP0-Intel64_Family_6_Model_78_Stepping_3_GenuineIntel-3.5.4-64/tmpu39yowyq/m260339c8d4e454104663f6b95f61765b.exp\n",
      "\n",
      "DEBUG: nvcc STDOUT mod.cu\n",
      "   Создается библиотека C:/Users/sanek/AppData/Local/Theano/compiledir_Windows-10-10.0.16299-SP0-Intel64_Family_6_Model_78_Stepping_3_GenuineIntel-3.5.4-64/tmpkjrm2z1o/mf98610ea5510e63f21f0dabe29d1bd5f.lib и объект C:/Users/sanek/AppData/Local/Theano/compiledir_Windows-10-10.0.16299-SP0-Intel64_Family_6_Model_78_Stepping_3_GenuineIntel-3.5.4-64/tmpkjrm2z1o/mf98610ea5510e63f21f0dabe29d1bd5f.exp\n",
      "\n",
      "DEBUG: nvcc STDOUT mod.cu\n",
      "   Создается библиотека C:/Users/sanek/AppData/Local/Theano/compiledir_Windows-10-10.0.16299-SP0-Intel64_Family_6_Model_78_Stepping_3_GenuineIntel-3.5.4-64/tmpuxmf7n62/m897bc275f65eaf5af0b84d80b232ce06.lib и объект C:/Users/sanek/AppData/Local/Theano/compiledir_Windows-10-10.0.16299-SP0-Intel64_Family_6_Model_78_Stepping_3_GenuineIntel-3.5.4-64/tmpuxmf7n62/m897bc275f65eaf5af0b84d80b232ce06.exp\n",
      "\n",
      "DEBUG: nvcc STDOUT mod.cu\n",
      "   Создается библиотека C:/Users/sanek/AppData/Local/Theano/compiledir_Windows-10-10.0.16299-SP0-Intel64_Family_6_Model_78_Stepping_3_GenuineIntel-3.5.4-64/tmpnnrrnnmt/mb3e7d87a7883b70cd36a9cb36245b1d3.lib и объект C:/Users/sanek/AppData/Local/Theano/compiledir_Windows-10-10.0.16299-SP0-Intel64_Family_6_Model_78_Stepping_3_GenuineIntel-3.5.4-64/tmpnnrrnnmt/mb3e7d87a7883b70cd36a9cb36245b1d3.exp\n",
      "\n",
      "DEBUG: nvcc STDOUT mod.cu\n",
      "   Создается библиотека C:/Users/sanek/AppData/Local/Theano/compiledir_Windows-10-10.0.16299-SP0-Intel64_Family_6_Model_78_Stepping_3_GenuineIntel-3.5.4-64/tmpn46v4ff0/m6c634401453fe4a09e3be26bec56abd3.lib и объект C:/Users/sanek/AppData/Local/Theano/compiledir_Windows-10-10.0.16299-SP0-Intel64_Family_6_Model_78_Stepping_3_GenuineIntel-3.5.4-64/tmpn46v4ff0/m6c634401453fe4a09e3be26bec56abd3.exp\n",
      "\n",
      "DEBUG: nvcc STDOUT mod.cu\n",
      "   Создается библиотека C:/Users/sanek/AppData/Local/Theano/compiledir_Windows-10-10.0.16299-SP0-Intel64_Family_6_Model_78_Stepping_3_GenuineIntel-3.5.4-64/tmp8h61zoip/m53bf1eef5f1ca4ba1788eacbc23b2a50.lib и объект C:/Users/sanek/AppData/Local/Theano/compiledir_Windows-10-10.0.16299-SP0-Intel64_Family_6_Model_78_Stepping_3_GenuineIntel-3.5.4-64/tmp8h61zoip/m53bf1eef5f1ca4ba1788eacbc23b2a50.exp\n",
      "\n",
      "DEBUG: nvcc STDOUT mod.cu\n",
      "   Создается библиотека C:/Users/sanek/AppData/Local/Theano/compiledir_Windows-10-10.0.16299-SP0-Intel64_Family_6_Model_78_Stepping_3_GenuineIntel-3.5.4-64/tmpnw_z6xvp/m3773f7a0e968a86e012ebef3985e288c.lib и объект C:/Users/sanek/AppData/Local/Theano/compiledir_Windows-10-10.0.16299-SP0-Intel64_Family_6_Model_78_Stepping_3_GenuineIntel-3.5.4-64/tmpnw_z6xvp/m3773f7a0e968a86e012ebef3985e288c.exp\n",
      "\n",
      "DEBUG: nvcc STDOUT mod.cu\n",
      "   Создается библиотека C:/Users/sanek/AppData/Local/Theano/compiledir_Windows-10-10.0.16299-SP0-Intel64_Family_6_Model_78_Stepping_3_GenuineIntel-3.5.4-64/tmp96metvcv/m8f13450f944eccbf622a09076a602381.lib и объект C:/Users/sanek/AppData/Local/Theano/compiledir_Windows-10-10.0.16299-SP0-Intel64_Family_6_Model_78_Stepping_3_GenuineIntel-3.5.4-64/tmp96metvcv/m8f13450f944eccbf622a09076a602381.exp\n",
      "\n",
      "DEBUG: nvcc STDOUT mod.cu\n",
      "   Создается библиотека C:/Users/sanek/AppData/Local/Theano/compiledir_Windows-10-10.0.16299-SP0-Intel64_Family_6_Model_78_Stepping_3_GenuineIntel-3.5.4-64/tmpkx9u0cf8/m0cc6942ce7df72af96e263bcee6ac78d.lib и объект C:/Users/sanek/AppData/Local/Theano/compiledir_Windows-10-10.0.16299-SP0-Intel64_Family_6_Model_78_Stepping_3_GenuineIntel-3.5.4-64/tmpkx9u0cf8/m0cc6942ce7df72af96e263bcee6ac78d.exp\n",
      "\n",
      "DEBUG: nvcc STDOUT mod.cu\n",
      "   Создается библиотека C:/Users/sanek/AppData/Local/Theano/compiledir_Windows-10-10.0.16299-SP0-Intel64_Family_6_Model_78_Stepping_3_GenuineIntel-3.5.4-64/tmp635b9ysb/mba702d9802f0396fcebd0bad8c81ca71.lib и объект C:/Users/sanek/AppData/Local/Theano/compiledir_Windows-10-10.0.16299-SP0-Intel64_Family_6_Model_78_Stepping_3_GenuineIntel-3.5.4-64/tmp635b9ysb/mba702d9802f0396fcebd0bad8c81ca71.exp\n",
      "\n",
      "DEBUG: nvcc STDOUT mod.cu\n",
      "   Создается библиотека C:/Users/sanek/AppData/Local/Theano/compiledir_Windows-10-10.0.16299-SP0-Intel64_Family_6_Model_78_Stepping_3_GenuineIntel-3.5.4-64/tmp4y5n8y2v/m19cf44e426c4628b208bc4bb37035874.lib и объект C:/Users/sanek/AppData/Local/Theano/compiledir_Windows-10-10.0.16299-SP0-Intel64_Family_6_Model_78_Stepping_3_GenuineIntel-3.5.4-64/tmp4y5n8y2v/m19cf44e426c4628b208bc4bb37035874.exp\n",
      "\n",
      "DEBUG: nvcc STDOUT mod.cu\n",
      "   Создается библиотека C:/Users/sanek/AppData/Local/Theano/compiledir_Windows-10-10.0.16299-SP0-Intel64_Family_6_Model_78_Stepping_3_GenuineIntel-3.5.4-64/tmpcunk7yg9/mf0da8ad3cf996fa74ec348158c3b00c1.lib и объект C:/Users/sanek/AppData/Local/Theano/compiledir_Windows-10-10.0.16299-SP0-Intel64_Family_6_Model_78_Stepping_3_GenuineIntel-3.5.4-64/tmpcunk7yg9/mf0da8ad3cf996fa74ec348158c3b00c1.exp\n",
      "\n",
      "DEBUG: nvcc STDOUT mod.cu\n",
      "   Создается библиотека C:/Users/sanek/AppData/Local/Theano/compiledir_Windows-10-10.0.16299-SP0-Intel64_Family_6_Model_78_Stepping_3_GenuineIntel-3.5.4-64/tmp8p81p1r7/m82398bdc81f04293e23dc02a06adb601.lib и объект C:/Users/sanek/AppData/Local/Theano/compiledir_Windows-10-10.0.16299-SP0-Intel64_Family_6_Model_78_Stepping_3_GenuineIntel-3.5.4-64/tmp8p81p1r7/m82398bdc81f04293e23dc02a06adb601.exp\n",
      "\n",
      "DEBUG: nvcc STDOUT mod.cu\n",
      "   Создается библиотека C:/Users/sanek/AppData/Local/Theano/compiledir_Windows-10-10.0.16299-SP0-Intel64_Family_6_Model_78_Stepping_3_GenuineIntel-3.5.4-64/tmpn_6duml8/m63403f5b614c8688e61df932cf6d364c.lib и объект C:/Users/sanek/AppData/Local/Theano/compiledir_Windows-10-10.0.16299-SP0-Intel64_Family_6_Model_78_Stepping_3_GenuineIntel-3.5.4-64/tmpn_6duml8/m63403f5b614c8688e61df932cf6d364c.exp\n",
      "\n",
      "DEBUG: nvcc STDOUT mod.cu\n",
      "   Создается библиотека C:/Users/sanek/AppData/Local/Theano/compiledir_Windows-10-10.0.16299-SP0-Intel64_Family_6_Model_78_Stepping_3_GenuineIntel-3.5.4-64/tmpmn8olzz6/m99d2f383413a3ef9f1720a0bc2eba887.lib и объект C:/Users/sanek/AppData/Local/Theano/compiledir_Windows-10-10.0.16299-SP0-Intel64_Family_6_Model_78_Stepping_3_GenuineIntel-3.5.4-64/tmpmn8olzz6/m99d2f383413a3ef9f1720a0bc2eba887.exp\n",
      "\n",
      "DEBUG: nvcc STDOUT mod.cu\n",
      "   Создается библиотека C:/Users/sanek/AppData/Local/Theano/compiledir_Windows-10-10.0.16299-SP0-Intel64_Family_6_Model_78_Stepping_3_GenuineIntel-3.5.4-64/tmpkvp4347l/mb85148e7b54b07728ed032d875003e26.lib и объект C:/Users/sanek/AppData/Local/Theano/compiledir_Windows-10-10.0.16299-SP0-Intel64_Family_6_Model_78_Stepping_3_GenuineIntel-3.5.4-64/tmpkvp4347l/mb85148e7b54b07728ed032d875003e26.exp\n",
      "\n"
     ]
    },
    {
     "name": "stderr",
     "output_type": "stream",
     "text": [
      "DEBUG: nvcc STDOUT mod.cu\n",
      "   Создается библиотека C:/Users/sanek/AppData/Local/Theano/compiledir_Windows-10-10.0.16299-SP0-Intel64_Family_6_Model_78_Stepping_3_GenuineIntel-3.5.4-64/tmpcnpayid_/mbae021aa4f2f07d666a962b641c6ff11.lib и объект C:/Users/sanek/AppData/Local/Theano/compiledir_Windows-10-10.0.16299-SP0-Intel64_Family_6_Model_78_Stepping_3_GenuineIntel-3.5.4-64/tmpcnpayid_/mbae021aa4f2f07d666a962b641c6ff11.exp\n",
      "\n",
      "DEBUG: nvcc STDOUT mod.cu\n",
      "   Создается библиотека C:/Users/sanek/AppData/Local/Theano/compiledir_Windows-10-10.0.16299-SP0-Intel64_Family_6_Model_78_Stepping_3_GenuineIntel-3.5.4-64/tmpke5sjrm6/m774f13abc5379258e5e59dcb92841874.lib и объект C:/Users/sanek/AppData/Local/Theano/compiledir_Windows-10-10.0.16299-SP0-Intel64_Family_6_Model_78_Stepping_3_GenuineIntel-3.5.4-64/tmpke5sjrm6/m774f13abc5379258e5e59dcb92841874.exp\n",
      "\n",
      "DEBUG: nvcc STDOUT mod.cu\n",
      "   Создается библиотека C:/Users/sanek/AppData/Local/Theano/compiledir_Windows-10-10.0.16299-SP0-Intel64_Family_6_Model_78_Stepping_3_GenuineIntel-3.5.4-64/tmp6u7rzcwh/m7cd86735a1abde1406e06ccc6e05c3b2.lib и объект C:/Users/sanek/AppData/Local/Theano/compiledir_Windows-10-10.0.16299-SP0-Intel64_Family_6_Model_78_Stepping_3_GenuineIntel-3.5.4-64/tmp6u7rzcwh/m7cd86735a1abde1406e06ccc6e05c3b2.exp\n",
      "\n",
      "DEBUG: nvcc STDOUT mod.cu\n",
      "   Создается библиотека C:/Users/sanek/AppData/Local/Theano/compiledir_Windows-10-10.0.16299-SP0-Intel64_Family_6_Model_78_Stepping_3_GenuineIntel-3.5.4-64/tmpp6msr8pc/m9fe824ad9a865d083300345272a0e3ef.lib и объект C:/Users/sanek/AppData/Local/Theano/compiledir_Windows-10-10.0.16299-SP0-Intel64_Family_6_Model_78_Stepping_3_GenuineIntel-3.5.4-64/tmpp6msr8pc/m9fe824ad9a865d083300345272a0e3ef.exp\n",
      "\n",
      "DEBUG: nvcc STDOUT mod.cu\n",
      "   Создается библиотека C:/Users/sanek/AppData/Local/Theano/compiledir_Windows-10-10.0.16299-SP0-Intel64_Family_6_Model_78_Stepping_3_GenuineIntel-3.5.4-64/tmpvcre1jdp/me6c6d006e9459c04ec9fdc9bac75165b.lib и объект C:/Users/sanek/AppData/Local/Theano/compiledir_Windows-10-10.0.16299-SP0-Intel64_Family_6_Model_78_Stepping_3_GenuineIntel-3.5.4-64/tmpvcre1jdp/me6c6d006e9459c04ec9fdc9bac75165b.exp\n",
      "\n",
      "DEBUG: nvcc STDOUT mod.cu\n",
      "   Создается библиотека C:/Users/sanek/AppData/Local/Theano/compiledir_Windows-10-10.0.16299-SP0-Intel64_Family_6_Model_78_Stepping_3_GenuineIntel-3.5.4-64/tmpvlc8zc9i/m1943b097be744f716fbee84145feabd7.lib и объект C:/Users/sanek/AppData/Local/Theano/compiledir_Windows-10-10.0.16299-SP0-Intel64_Family_6_Model_78_Stepping_3_GenuineIntel-3.5.4-64/tmpvlc8zc9i/m1943b097be744f716fbee84145feabd7.exp\n",
      "\n"
     ]
    },
    {
     "name": "stdout",
     "output_type": "stream",
     "text": [
      "Epoch 1/1\n",
      "1536/1536 [==============================] - 0s - loss: 3.3366 - acc: 0.0206\n",
      "Epoch 1/1\n",
      "1536/1536 [==============================] - 0s - loss: 3.3230 - acc: 0.2359\n",
      "Epoch 1/1\n",
      "1536/1536 [==============================] - 0s - loss: 3.3093 - acc: 0.5243\n",
      "Epoch 1/1\n",
      "1536/1536 [==============================] - 1s - loss: 3.2949 - acc: 0.5205\n",
      "Epoch 1/1\n",
      "1536/1536 [==============================] - 1s - loss: 3.2788 - acc: 0.5205\n",
      "Epoch 1/1\n",
      "1536/1536 [==============================] - 0s - loss: 3.2604 - acc: 0.5205\n",
      "Epoch 1/1\n",
      "1536/1536 [==============================] - 0s - loss: 3.2384 - acc: 0.5205\n",
      "Epoch 1/1\n",
      "1536/1536 [==============================] - 0s - loss: 3.2110 - acc: 0.5205\n",
      "Epoch 1/1\n",
      "1536/1536 [==============================] - 0s - loss: 3.1759 - acc: 0.5205\n",
      "Epoch 1/1\n",
      "1536/1536 [==============================] - 0s - loss: 3.1292 - acc: 0.5205\n",
      "Epoch 1/1\n",
      "1536/1536 [==============================] - 0s - loss: 3.0644 - acc: 0.5205\n",
      "Epoch 1/1\n",
      "1536/1536 [==============================] - 0s - loss: 2.9711 - acc: 0.5205\n",
      "Epoch 1/1\n",
      "1536/1536 [==============================] - 0s - loss: 2.8314 - acc: 0.5205\n",
      "Epoch 1/1\n",
      "1536/1536 [==============================] - 0s - loss: 2.6196 - acc: 0.5205\n",
      "Epoch 1/1\n",
      "1536/1536 [==============================] - 0s - loss: 2.3273 - acc: 0.5205\n",
      "Epoch 1/1\n",
      "1536/1536 [==============================] - 0s - loss: 2.0346 - acc: 0.5205\n",
      "Epoch 1/1\n",
      "1536/1536 [==============================] - 0s - loss: 1.8361 - acc: 0.5205\n",
      "Epoch 1/1\n",
      "1536/1536 [==============================] - 0s - loss: 1.7463 - acc: 0.5205\n",
      "Epoch 1/1\n",
      "1536/1536 [==============================] - 0s - loss: 1.7476 - acc: 0.5205\n",
      "Epoch 1/1\n",
      "1536/1536 [==============================] - 0s - loss: 1.8031 - acc: 0.5205\n",
      "Epoch 1/1\n",
      "1536/1536 [==============================] - 0s - loss: 1.8680 - acc: 0.5205\n",
      "Epoch 1/1\n",
      "1536/1536 [==============================] - 0s - loss: 1.9131 - acc: 0.5205\n",
      "Epoch 1/1\n",
      "1536/1536 [==============================] - 0s - loss: 1.9292 - acc: 0.5205\n",
      "Epoch 1/1\n",
      "1536/1536 [==============================] - 0s - loss: 1.9187 - acc: 0.5205\n",
      "Epoch 1/1\n",
      "1536/1536 [==============================] - 0s - loss: 1.8883 - acc: 0.5205\n",
      "Epoch 1/1\n",
      "1536/1536 [==============================] - 0s - loss: 1.8454 - acc: 0.5205\n",
      "Epoch 1/1\n",
      "1536/1536 [==============================] - 0s - loss: 1.7974 - acc: 0.5205\n",
      "Epoch 1/1\n",
      "1536/1536 [==============================] - 0s - loss: 1.7510 - acc: 0.5205\n",
      "Epoch 1/1\n",
      "1536/1536 [==============================] - 0s - loss: 1.7118 - acc: 0.5205\n",
      "Epoch 1/1\n",
      "1536/1536 [==============================] - 0s - loss: 1.6835 - acc: 0.5205\n",
      "Epoch 1/1\n",
      "1536/1536 [==============================] - 0s - loss: 1.6681 - acc: 0.5205\n",
      "Epoch 1/1\n",
      "1536/1536 [==============================] - 0s - loss: 1.6647 - acc: 0.5205\n",
      "Epoch 1/1\n",
      "1536/1536 [==============================] - 0s - loss: 1.6701 - acc: 0.5205\n",
      "Epoch 1/1\n",
      "1536/1536 [==============================] - 0s - loss: 1.6796 - acc: 0.5205\n",
      "Epoch 1/1\n",
      "1536/1536 [==============================] - 0s - loss: 1.6880 - acc: 0.5205\n",
      "Epoch 1/1\n",
      "1536/1536 [==============================] - 0s - loss: 1.6916 - acc: 0.5205\n",
      "Epoch 1/1\n",
      "1536/1536 [==============================] - 0s - loss: 1.6888 - acc: 0.5205\n",
      "Epoch 1/1\n",
      "1536/1536 [==============================] - 0s - loss: 1.6799 - acc: 0.5205\n",
      "Epoch 1/1\n",
      "1536/1536 [==============================] - 0s - loss: 1.6669 - acc: 0.5205\n",
      "Epoch 1/1\n",
      "1536/1536 [==============================] - 0s - loss: 1.6520 - acc: 0.5205\n",
      "Epoch 1/1\n",
      "1536/1536 [==============================] - 0s - loss: 1.6377 - acc: 0.5205\n",
      "Epoch 1/1\n",
      "1536/1536 [==============================] - 1s - loss: 1.6256 - acc: 0.5205\n",
      "Epoch 1/1\n",
      "1536/1536 [==============================] - 0s - loss: 1.6168 - acc: 0.5205\n",
      "Epoch 1/1\n",
      "1536/1536 [==============================] - 0s - loss: 1.6112 - acc: 0.5205\n",
      "Epoch 1/1\n",
      "1536/1536 [==============================] - 0s - loss: 1.6085 - acc: 0.5205\n",
      "Epoch 1/1\n",
      "1536/1536 [==============================] - 0s - loss: 1.6075 - acc: 0.5205\n",
      "Epoch 1/1\n",
      "1536/1536 [==============================] - 0s - loss: 1.6071 - acc: 0.5205\n",
      "Epoch 1/1\n",
      "1536/1536 [==============================] - 0s - loss: 1.6064 - acc: 0.5205\n",
      "Epoch 1/1\n",
      "1536/1536 [==============================] - 0s - loss: 1.6047 - acc: 0.5240\n",
      "Epoch 1/1\n",
      "1536/1536 [==============================] - 0s - loss: 1.6016 - acc: 0.5240\n",
      "Epoch 1/1\n",
      "1536/1536 [==============================] - 0s - loss: 1.5972 - acc: 0.5240\n",
      "Epoch 1/1\n",
      "1536/1536 [==============================] - 0s - loss: 1.5917 - acc: 0.5240\n",
      "Epoch 1/1\n",
      "1536/1536 [==============================] - 0s - loss: 1.5858 - acc: 0.5240\n",
      "Epoch 1/1\n",
      "1536/1536 [==============================] - 0s - loss: 1.5801 - acc: 0.5240\n",
      "Epoch 1/1\n",
      "1536/1536 [==============================] - 0s - loss: 1.5751 - acc: 0.5240\n",
      "Epoch 1/1\n",
      "1536/1536 [==============================] - 0s - loss: 1.5711 - acc: 0.5240\n",
      "Epoch 1/1\n",
      "1536/1536 [==============================] - 0s - loss: 1.5682 - acc: 0.5240\n",
      "Epoch 1/1\n",
      "1536/1536 [==============================] - 0s - loss: 1.5661 - acc: 0.5240\n",
      "Epoch 1/1\n",
      "1536/1536 [==============================] - 0s - loss: 1.5644 - acc: 0.5241\n",
      "Epoch 1/1\n",
      "1536/1536 [==============================] - 0s - loss: 1.5628 - acc: 0.5241\n",
      "Epoch 1/1\n",
      "1536/1536 [==============================] - 0s - loss: 1.5606 - acc: 0.5241\n",
      "Epoch 1/1\n",
      "1536/1536 [==============================] - 0s - loss: 1.5578 - acc: 0.5241\n",
      "Epoch 1/1\n",
      "1536/1536 [==============================] - 0s - loss: 1.5544 - acc: 0.5244\n",
      "Epoch 1/1\n",
      "1536/1536 [==============================] - 0s - loss: 1.5506 - acc: 0.5245\n",
      "Epoch 1/1\n",
      "1536/1536 [==============================] - 0s - loss: 1.5467 - acc: 0.5245\n",
      "Epoch 1/1\n",
      "1536/1536 [==============================] - 0s - loss: 1.5431 - acc: 0.5245\n",
      "Epoch 1/1\n",
      "1536/1536 [==============================] - 0s - loss: 1.5401 - acc: 0.5245\n",
      "Epoch 1/1\n",
      "1536/1536 [==============================] - 0s - loss: 1.5375 - acc: 0.5250\n",
      "Epoch 1/1\n",
      "1536/1536 [==============================] - 0s - loss: 1.5352 - acc: 0.5250\n",
      "Epoch 1/1\n",
      "1536/1536 [==============================] - 0s - loss: 1.5331 - acc: 0.5256\n",
      "Epoch 1/1\n",
      "1536/1536 [==============================] - 0s - loss: 1.5308 - acc: 0.5256\n",
      "Epoch 1/1\n",
      "1536/1536 [==============================] - 0s - loss: 1.5282 - acc: 0.5267\n",
      "Epoch 1/1\n",
      "1536/1536 [==============================] - 0s - loss: 1.5253 - acc: 0.5268\n",
      "Epoch 1/1\n",
      "1536/1536 [==============================] - 0s - loss: 1.5223 - acc: 0.5275\n",
      "Epoch 1/1\n",
      "1536/1536 [==============================] - 0s - loss: 1.5192 - acc: 0.5284\n",
      "Epoch 1/1\n",
      "1536/1536 [==============================] - 0s - loss: 1.5165 - acc: 0.5285\n",
      "Epoch 1/1\n",
      "1536/1536 [==============================] - 0s - loss: 1.5140 - acc: 0.5292\n",
      "Epoch 1/1\n",
      "1536/1536 [==============================] - 0s - loss: 1.5118 - acc: 0.5316\n",
      "Epoch 1/1\n",
      "1536/1536 [==============================] - 0s - loss: 1.5096 - acc: 0.5318\n",
      "Epoch 1/1\n",
      "1536/1536 [==============================] - 0s - loss: 1.5074 - acc: 0.5333\n",
      "Epoch 1/1\n",
      "1536/1536 [==============================] - 0s - loss: 1.5049 - acc: 0.5338\n",
      "Epoch 1/1\n",
      "1536/1536 [==============================] - 0s - loss: 1.5022 - acc: 0.5348\n",
      "Epoch 1/1\n",
      "1536/1536 [==============================] - 0s - loss: 1.4995 - acc: 0.5351\n",
      "Epoch 1/1\n",
      "1536/1536 [==============================] - 0s - loss: 1.4969 - acc: 0.5353\n",
      "Epoch 1/1\n",
      "1536/1536 [==============================] - 0s - loss: 1.4945 - acc: 0.5367\n",
      "Epoch 1/1\n",
      "1536/1536 [==============================] - 0s - loss: 1.4922 - acc: 0.5377\n",
      "Epoch 1/1\n",
      "1536/1536 [==============================] - 0s - loss: 1.4900 - acc: 0.5386\n",
      "Epoch 1/1\n",
      "1536/1536 [==============================] - 0s - loss: 1.4876 - acc: 0.5406\n",
      "Epoch 1/1\n",
      "1536/1536 [==============================] - 0s - loss: 1.4851 - acc: 0.5437\n",
      "Epoch 1/1\n",
      "1536/1536 [==============================] - 0s - loss: 1.4826 - acc: 0.5479\n",
      "Epoch 1/1\n",
      "1536/1536 [==============================] - 1s - loss: 1.4802 - acc: 0.5528\n",
      "Epoch 1/1\n",
      "1536/1536 [==============================] - 0s - loss: 1.4780 - acc: 0.5573\n",
      "Epoch 1/1\n",
      "1536/1536 [==============================] - 0s - loss: 1.4758 - acc: 0.5605\n",
      "Epoch 1/1\n",
      "1536/1536 [==============================] - 0s - loss: 1.4735 - acc: 0.5632\n",
      "Epoch 1/1\n"
     ]
    },
    {
     "name": "stdout",
     "output_type": "stream",
     "text": [
      "1536/1536 [==============================] - 0s - loss: 1.4710 - acc: 0.5652\n",
      "Epoch 1/1\n",
      "1536/1536 [==============================] - 0s - loss: 1.4686 - acc: 0.5666\n",
      "Epoch 1/1\n",
      "1536/1536 [==============================] - 0s - loss: 1.4663 - acc: 0.5679\n",
      "Epoch 1/1\n",
      "1536/1536 [==============================] - 0s - loss: 1.4640 - acc: 0.5700\n",
      "Epoch 1/1\n",
      "1536/1536 [==============================] - 0s - loss: 1.4617 - acc: 0.5724\n",
      "Epoch 1/1\n",
      "1536/1536 [==============================] - 0s - loss: 1.4593 - acc: 0.5742\n",
      "Epoch 1/1\n",
      "1536/1536 [==============================] - 0s - loss: 1.4568 - acc: 0.5763\n",
      "Epoch 1/1\n",
      "1536/1536 [==============================] - 0s - loss: 1.4545 - acc: 0.5782\n",
      "Epoch 1/1\n",
      "1536/1536 [==============================] - 0s - loss: 1.4522 - acc: 0.5799\n",
      "Epoch 1/1\n",
      "1536/1536 [==============================] - 0s - loss: 1.4498 - acc: 0.5810\n",
      "Epoch 1/1\n",
      "1536/1536 [==============================] - 0s - loss: 1.4473 - acc: 0.5823\n",
      "Epoch 1/1\n",
      "1536/1536 [==============================] - 0s - loss: 1.4449 - acc: 0.5834\n",
      "Epoch 1/1\n",
      "1536/1536 [==============================] - 0s - loss: 1.4425 - acc: 0.5844\n",
      "Epoch 1/1\n",
      "1536/1536 [==============================] - 0s - loss: 1.4400 - acc: 0.5851\n",
      "Epoch 1/1\n",
      "1536/1536 [==============================] - 0s - loss: 1.4375 - acc: 0.5857\n",
      "Epoch 1/1\n",
      "1536/1536 [==============================] - 0s - loss: 1.4350 - acc: 0.5869\n",
      "Epoch 1/1\n",
      "1536/1536 [==============================] - 0s - loss: 1.4326 - acc: 0.5871\n",
      "Epoch 1/1\n",
      "1536/1536 [==============================] - 0s - loss: 1.4300 - acc: 0.5862\n",
      "Epoch 1/1\n",
      "1536/1536 [==============================] - 0s - loss: 1.4274 - acc: 0.5850\n",
      "Epoch 1/1\n",
      "1536/1536 [==============================] - 0s - loss: 1.4249 - acc: 0.5848\n",
      "Epoch 1/1\n",
      "1536/1536 [==============================] - 0s - loss: 1.4222 - acc: 0.5854\n",
      "Epoch 1/1\n",
      "1536/1536 [==============================] - 0s - loss: 1.4197 - acc: 0.5860\n",
      "Epoch 1/1\n",
      "1536/1536 [==============================] - 0s - loss: 1.4170 - acc: 0.5857\n",
      "Epoch 1/1\n",
      "1536/1536 [==============================] - 0s - loss: 1.4144 - acc: 0.5851\n",
      "Epoch 1/1\n",
      "1536/1536 [==============================] - 0s - loss: 1.4118 - acc: 0.5845\n",
      "Epoch 1/1\n",
      "1536/1536 [==============================] - 0s - loss: 1.4091 - acc: 0.5850\n",
      "Epoch 1/1\n",
      "1536/1536 [==============================] - 0s - loss: 1.4065 - acc: 0.5854\n",
      "Epoch 1/1\n",
      "1536/1536 [==============================] - 0s - loss: 1.4038 - acc: 0.5857\n",
      "Epoch 1/1\n",
      "1536/1536 [==============================] - 0s - loss: 1.4012 - acc: 0.5861\n",
      "Epoch 1/1\n",
      "1536/1536 [==============================] - 0s - loss: 1.3985 - acc: 0.5874\n",
      "Epoch 1/1\n",
      "1536/1536 [==============================] - 0s - loss: 1.3959 - acc: 0.5875\n",
      "Epoch 1/1\n",
      "1536/1536 [==============================] - 0s - loss: 1.3933 - acc: 0.5873\n",
      "Epoch 1/1\n",
      "1536/1536 [==============================] - 0s - loss: 1.3908 - acc: 0.5890\n",
      "Epoch 1/1\n",
      "1536/1536 [==============================] - 0s - loss: 1.3881 - acc: 0.5889\n",
      "Epoch 1/1\n",
      "1536/1536 [==============================] - 0s - loss: 1.3856 - acc: 0.5895\n",
      "Epoch 1/1\n",
      "1536/1536 [==============================] - 0s - loss: 1.3831 - acc: 0.5911\n",
      "Epoch 1/1\n",
      "1536/1536 [==============================] - 1s - loss: 1.3808 - acc: 0.5903\n",
      "Epoch 1/1\n",
      "1536/1536 [==============================] - 0s - loss: 1.3786 - acc: 0.5942\n",
      "Epoch 1/1\n",
      "1536/1536 [==============================] - 0s - loss: 1.3766 - acc: 0.5905\n",
      "Epoch 1/1\n",
      "1536/1536 [==============================] - 0s - loss: 1.3745 - acc: 0.5983\n",
      "Epoch 1/1\n",
      "1536/1536 [==============================] - 0s - loss: 1.3716 - acc: 0.5924\n",
      "Epoch 1/1\n",
      "1536/1536 [==============================] - 0s - loss: 1.3688 - acc: 0.5955\n",
      "Epoch 1/1\n",
      "1536/1536 [==============================] - 0s - loss: 1.3670 - acc: 0.5996\n",
      "Epoch 1/1\n",
      "1536/1536 [==============================] - 0s - loss: 1.3653 - acc: 0.5939\n",
      "Epoch 1/1\n",
      "1536/1536 [==============================] - 0s - loss: 1.3629 - acc: 0.6034\n",
      "Epoch 1/1\n",
      "1536/1536 [==============================] - 0s - loss: 1.3601 - acc: 0.5977\n",
      "Epoch 1/1\n",
      "1536/1536 [==============================] - 0s - loss: 1.3579 - acc: 0.5986\n",
      "Epoch 1/1\n",
      "1536/1536 [==============================] - 0s - loss: 1.3564 - acc: 0.6046\n",
      "Epoch 1/1\n",
      "1536/1536 [==============================] - 0s - loss: 1.3550 - acc: 0.5967\n",
      "Epoch 1/1\n",
      "1536/1536 [==============================] - 0s - loss: 1.3531 - acc: 0.6075\n",
      "Epoch 1/1\n",
      "1536/1536 [==============================] - 0s - loss: 1.3504 - acc: 0.5985\n",
      "Epoch 1/1\n",
      "1536/1536 [==============================] - 0s - loss: 1.3479 - acc: 0.6031\n",
      "Epoch 1/1\n",
      "1536/1536 [==============================] - 0s - loss: 1.3462 - acc: 0.6050\n",
      "Epoch 1/1\n",
      "1536/1536 [==============================] - 0s - loss: 1.3449 - acc: 0.5993\n",
      "Epoch 1/1\n",
      "1536/1536 [==============================] - 0s - loss: 1.3435 - acc: 0.6087\n",
      "Epoch 1/1\n",
      "1536/1536 [==============================] - 0s - loss: 1.3411 - acc: 0.6007\n",
      "Epoch 1/1\n",
      "1536/1536 [==============================] - 0s - loss: 1.3388 - acc: 0.6053\n",
      "Epoch 1/1\n",
      "1536/1536 [==============================] - 0s - loss: 1.3372 - acc: 0.6063\n",
      "Epoch 1/1\n",
      "1536/1536 [==============================] - 0s - loss: 1.3359 - acc: 0.6019\n",
      "Epoch 1/1\n",
      "1536/1536 [==============================] - 0s - loss: 1.3344 - acc: 0.6094\n",
      "Epoch 1/1\n",
      "1536/1536 [==============================] - 0s - loss: 1.3323 - acc: 0.6040\n",
      "Epoch 1/1\n",
      "1536/1536 [==============================] - 0s - loss: 1.3304 - acc: 0.6062\n",
      "Epoch 1/1\n",
      "1536/1536 [==============================] - 0s - loss: 1.3290 - acc: 0.6092\n",
      "Epoch 1/1\n",
      "1536/1536 [==============================] - 0s - loss: 1.3276 - acc: 0.6046\n",
      "Epoch 1/1\n",
      "1536/1536 [==============================] - 0s - loss: 1.3260 - acc: 0.6098\n",
      "Epoch 1/1\n",
      "1536/1536 [==============================] - 0s - loss: 1.3242 - acc: 0.6071\n",
      "Epoch 1/1\n",
      "1536/1536 [==============================] - 0s - loss: 1.3227 - acc: 0.6074\n",
      "Epoch 1/1\n",
      "1536/1536 [==============================] - 0s - loss: 1.3215 - acc: 0.6107\n",
      "Epoch 1/1\n",
      "1536/1536 [==============================] - 0s - loss: 1.3200 - acc: 0.6067\n",
      "Epoch 1/1\n",
      "1536/1536 [==============================] - 0s - loss: 1.3184 - acc: 0.6106\n",
      "Epoch 1/1\n",
      "1536/1536 [==============================] - 0s - loss: 1.3169 - acc: 0.6105\n",
      "Epoch 1/1\n",
      "1536/1536 [==============================] - 0s - loss: 1.3156 - acc: 0.6090\n",
      "Epoch 1/1\n",
      "1536/1536 [==============================] - 0s - loss: 1.3143 - acc: 0.6116\n",
      "Epoch 1/1\n",
      "1536/1536 [==============================] - 0s - loss: 1.3129 - acc: 0.6093\n",
      "Epoch 1/1\n",
      "1536/1536 [==============================] - 0s - loss: 1.3115 - acc: 0.6111\n",
      "Epoch 1/1\n",
      "1536/1536 [==============================] - 0s - loss: 1.3101 - acc: 0.6116\n",
      "Epoch 1/1\n",
      "1536/1536 [==============================] - 0s - loss: 1.3089 - acc: 0.6110\n",
      "Epoch 1/1\n",
      "1536/1536 [==============================] - 0s - loss: 1.3077 - acc: 0.6130\n",
      "Epoch 1/1\n",
      "1536/1536 [==============================] - 0s - loss: 1.3063 - acc: 0.6118\n",
      "Epoch 1/1\n",
      "1536/1536 [==============================] - 0s - loss: 1.3050 - acc: 0.6128\n",
      "Epoch 1/1\n",
      "1536/1536 [==============================] - 0s - loss: 1.3038 - acc: 0.6135\n",
      "Epoch 1/1\n",
      "1536/1536 [==============================] - 0s - loss: 1.3026 - acc: 0.6128\n",
      "Epoch 1/1\n",
      "1536/1536 [==============================] - 0s - loss: 1.3014 - acc: 0.6143\n",
      "Epoch 1/1\n",
      "1536/1536 [==============================] - 0s - loss: 1.3001 - acc: 0.6140\n",
      "Epoch 1/1\n",
      "1536/1536 [==============================] - 0s - loss: 1.2989 - acc: 0.6143\n",
      "Epoch 1/1\n",
      "1536/1536 [==============================] - 0s - loss: 1.2978 - acc: 0.6153\n",
      "Epoch 1/1\n",
      "1536/1536 [==============================] - 0s - loss: 1.2966 - acc: 0.6148\n",
      "Epoch 1/1\n",
      "1536/1536 [==============================] - 0s - loss: 1.2954 - acc: 0.6158\n",
      "Epoch 1/1\n",
      "1536/1536 [==============================] - 0s - loss: 1.2942 - acc: 0.6160\n",
      "Epoch 1/1\n",
      "1536/1536 [==============================] - 0s - loss: 1.2931 - acc: 0.6161\n",
      "Epoch 1/1\n",
      "1536/1536 [==============================] - 0s - loss: 1.2919 - acc: 0.6169\n",
      "Epoch 1/1\n",
      "1536/1536 [==============================] - 0s - loss: 1.2908 - acc: 0.6171\n",
      "Epoch 1/1\n",
      "1536/1536 [==============================] - 0s - loss: 1.2897 - acc: 0.6171\n",
      "Epoch 1/1\n",
      "1536/1536 [==============================] - 0s - loss: 1.2886 - acc: 0.6178\n",
      "Epoch 1/1\n"
     ]
    },
    {
     "name": "stdout",
     "output_type": "stream",
     "text": [
      "1536/1536 [==============================] - 0s - loss: 1.2874 - acc: 0.6178\n",
      "Epoch 1/1\n",
      "1536/1536 [==============================] - 0s - loss: 1.2863 - acc: 0.6182\n",
      "Epoch 1/1\n",
      "1536/1536 [==============================] - 0s - loss: 1.2853 - acc: 0.6183\n",
      "Epoch 1/1\n",
      "1536/1536 [==============================] - 0s - loss: 1.2842 - acc: 0.6185\n",
      "Epoch 1/1\n",
      "1536/1536 [==============================] - 0s - loss: 1.2831 - acc: 0.6189\n",
      "Epoch 1/1\n",
      "1536/1536 [==============================] - 0s - loss: 1.2820 - acc: 0.6191\n",
      "Epoch 1/1\n",
      "1536/1536 [==============================] - 1s - loss: 1.2809 - acc: 0.6194\n",
      "Epoch 1/1\n",
      "1536/1536 [==============================] - 0s - loss: 1.2798 - acc: 0.6198\n",
      "Epoch 1/1\n",
      "1536/1536 [==============================] - 0s - loss: 1.2788 - acc: 0.6201\n",
      "Epoch 1/1\n",
      "1536/1536 [==============================] - 0s - loss: 1.2777 - acc: 0.6204\n",
      "Epoch 1/1\n",
      "1536/1536 [==============================] - 0s - loss: 1.2766 - acc: 0.6207\n"
     ]
    }
   ],
   "source": [
    "for iteration in range(1, 200):\n",
    "    X_train_shuffled, y_train_shuffled = shuffle(X_train, Y_train)\n",
    "    model.fit(X_train_shuffled, y_train_shuffled, batch_size=len(X_train), epochs=1, verbose = 1)"
   ]
  },
  {
   "cell_type": "code",
   "execution_count": 78,
   "metadata": {
    "collapsed": true,
    "slideshow": {
     "slide_type": "subslide"
    }
   },
   "outputs": [],
   "source": [
    "def sample(preds):\n",
    "    # helper function to sample an index from a probability array\n",
    "    preds = np.asarray(preds).astype('float64')\n",
    "    preds = np.log(preds) #/ temperature\n",
    "    exp_preds = np.exp(preds)\n",
    "    preds = exp_preds / np.sum(exp_preds)\n",
    "    probas = np.random.choice(range(len(alphabet)+2), p = preds)\n",
    "    return probas"
   ]
  },
  {
   "cell_type": "code",
   "execution_count": 85,
   "metadata": {
    "slideshow": {
     "slide_type": "subslide"
    }
   },
   "outputs": [
    {
     "name": "stdout",
     "output_type": "stream",
     "text": [
      "----- Generating with seed: \"bos\"\n",
      "bos \n",
      "bos u \n",
      "bos u m \n",
      "bos u m s \n",
      "bos u m s t \n",
      "bos u m s t u \n",
      "bos u m s t u u \n",
      "bos u m s t u u h \n"
     ]
    }
   ],
   "source": [
    "generated = ''\n",
    "seed = 'bos'\n",
    "generated += seed + ' '\n",
    "print('----- Generating with seed: \"' + seed + '\"')\n",
    "print(generated)\n",
    "\n",
    "\n",
    "for i in range(7): \n",
    "    sequences = tokenizer.texts_to_sequences([seed])\n",
    "    X_pred = pad_sequences(sequences, maxlen=maxlen, padding = 'post')\n",
    "\n",
    "    preds = model.predict(X_pred, verbose=0)[0]\n",
    "    samples = [sample(p) for p in preds]\n",
    "    next_index = samples[i]\n",
    "    while next_index == 0 or next_index == 10:\n",
    "        samples = [sample(p) for p in preds]\n",
    "        next_index = samples[i]\n",
    "    next_char = index_char[next_index]\n",
    "    generated += next_char + ' '\n",
    "    print(generated)\n",
    "    seed += next_char\n",
    "    if next_char == 'eos':\n",
    "        break\n",
    "    "
   ]
  },
  {
   "cell_type": "markdown",
   "metadata": {
    "slideshow": {
     "slide_type": "subslide"
    }
   },
   "source": [
    "#### Задание 5\n",
    "\n",
    "Измените функцию семлирования `sample`: сейчас в ней используется простой выбор наиболее вероятного следующего элемента. Замените его на лучевой поиск [beam search].\n",
    "\n",
    "Как использование этой функции семплирования влияет на генерируемые имена?"
   ]
  }
 ],
 "metadata": {
  "anaconda-cloud": {},
  "kernelspec": {
   "display_name": "Python [default]",
   "language": "python",
   "name": "python3"
  },
  "language_info": {
   "codemirror_mode": {
    "name": "ipython",
    "version": 3
   },
   "file_extension": ".py",
   "mimetype": "text/x-python",
   "name": "python",
   "nbconvert_exporter": "python",
   "pygments_lexer": "ipython3",
   "version": "3.5.4"
  }
 },
 "nbformat": 4,
 "nbformat_minor": 2
}
