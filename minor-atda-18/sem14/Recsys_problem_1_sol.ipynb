{
 "cells": [
  {
   "cell_type": "markdown",
   "metadata": {},
   "source": [
    "## Рекомендательные системы: предсказание оценки"
   ]
  },
  {
   "cell_type": "markdown",
   "metadata": {},
   "source": [
    "Рассмотрим задачу предсказания оценки, которую пользователь поставит фильму. Особенность этой задачи в том, что объекты выборки описываются категориальными признаками, принимающими большое число значений (например: идентификатор пользователя, идентификатор фильма, тэги, киноперсоны).\n",
    "\n",
    "Данные: [MovieLens + IMDb/Rotten Tomatoes](http://files.grouplens.org/datasets/hetrec2011/hetrec2011-movielens-2k-v2.zip) ([описание](http://files.grouplens.org/datasets/hetrec2011/hetrec2011-movielens-readme.txt)). Набор содержит данные о предпочтениях пользователей сервиса рекомендации кинофильмов [MovieLens](http://www.movielens.org/). Пользовательские оценки для фильмов принимают значения в интервале от 0.5 до 5.0, они записаны в файле *user_ratedmovies.dat* (а также в *user_ratedmovies-timestamps.dat*,  где для каждой оценки записана дата и время в формате timestamp), остальные файлы содержат дополнительную информацию о фильмах, которую можно использовать как признаки. Заметьте: кроме оценок (и тегов), про пользователя ничего не известно.\n",
    "\n",
    "Задача: построить модель, предсказывающую оценку пользователя фильму, который он еще не смотрел.\n",
    "\n",
    "Метрика качества: будем считать, что пользователю сервиса доступен блок рекомендаций, который может содержать рекомендации не более чем 5 фильмов.\n",
    "Выберем некоторого пользователя $u$ и обозначим известные для него рейтинги за $R^u$. В качестве тестовых рейтингов $R^u_{test}$ для этого пользователя рассмотрим 5 рейтингов, поставленные последними по времени, в качестве валидационных $R^u_{val}$ — предпоследние 5 рейтингов. Остальные известные рейтинги этого пользователя будут составлять обучающую выборку $R^u_{train}$.\n",
    "Для подбора гиперпараметров в рамках данного задания будем использовать валидационную выборку, предварительно обучив модель на обучающей выборке, а для финальной оценки качества — тестовую выборку, предварительно обучив модель на обучающей и валидационной выборках."
   ]
  },
  {
   "cell_type": "markdown",
   "metadata": {},
   "source": [
    "**1.** Загрузите данные и сформируйте 3 разреженные матрицы пользователи—фильмы для обучающих, валидационных и тестовых рейтингов пользователей соответственно, где в каждой ячейке стоит рейтинг, если он известен, или ноль, если неизвестен."
   ]
  },
  {
   "cell_type": "code",
   "execution_count": 1,
   "metadata": {
    "collapsed": true
   },
   "outputs": [],
   "source": [
    "import numpy as np\n",
    "import pandas as pd\n",
    "from scipy import sparse\n",
    "from collections import Counter\n",
    "import matplotlib.pyplot as plt\n",
    "%matplotlib inline"
   ]
  },
  {
   "cell_type": "code",
   "execution_count": 2,
   "metadata": {
    "collapsed": true
   },
   "outputs": [],
   "source": [
    "user_rate = pd.read_csv('user_ratedmovies-timestamps.dat', sep='\\t')"
   ]
  },
  {
   "cell_type": "code",
   "execution_count": 3,
   "metadata": {},
   "outputs": [
    {
     "data": {
      "text/html": [
       "<div>\n",
       "<table border=\"1\" class=\"dataframe\">\n",
       "  <thead>\n",
       "    <tr style=\"text-align: right;\">\n",
       "      <th></th>\n",
       "      <th>userID</th>\n",
       "      <th>movieID</th>\n",
       "      <th>rating</th>\n",
       "      <th>timestamp</th>\n",
       "    </tr>\n",
       "  </thead>\n",
       "  <tbody>\n",
       "    <tr>\n",
       "      <th>0</th>\n",
       "      <td>75</td>\n",
       "      <td>3</td>\n",
       "      <td>1.0</td>\n",
       "      <td>1162160236000</td>\n",
       "    </tr>\n",
       "  </tbody>\n",
       "</table>\n",
       "</div>"
      ],
      "text/plain": [
       "   userID  movieID  rating      timestamp\n",
       "0      75        3     1.0  1162160236000"
      ]
     },
     "execution_count": 3,
     "metadata": {},
     "output_type": "execute_result"
    }
   ],
   "source": [
    "user_rate.head(1)"
   ]
  },
  {
   "cell_type": "code",
   "execution_count": 4,
   "metadata": {},
   "outputs": [
    {
     "data": {
      "text/plain": [
       "(71534, 75)"
      ]
     },
     "execution_count": 4,
     "metadata": {},
     "output_type": "execute_result"
    }
   ],
   "source": [
    "user_rate.userID.values.max(), user_rate.userID.values.min()"
   ]
  },
  {
   "cell_type": "code",
   "execution_count": 5,
   "metadata": {
    "collapsed": true
   },
   "outputs": [],
   "source": [
    "user_rate['list'] = user_rate[['movieID', 'rating', 'timestamp']].values.tolist()"
   ]
  },
  {
   "cell_type": "code",
   "execution_count": 6,
   "metadata": {},
   "outputs": [
    {
     "data": {
      "text/html": [
       "<div>\n",
       "<table border=\"1\" class=\"dataframe\">\n",
       "  <thead>\n",
       "    <tr style=\"text-align: right;\">\n",
       "      <th></th>\n",
       "      <th>userID</th>\n",
       "      <th>movieID</th>\n",
       "      <th>rating</th>\n",
       "      <th>timestamp</th>\n",
       "      <th>list</th>\n",
       "    </tr>\n",
       "  </thead>\n",
       "  <tbody>\n",
       "    <tr>\n",
       "      <th>0</th>\n",
       "      <td>75</td>\n",
       "      <td>3</td>\n",
       "      <td>1.0</td>\n",
       "      <td>1162160236000</td>\n",
       "      <td>[3.0, 1.0, 1.162160236e+12]</td>\n",
       "    </tr>\n",
       "    <tr>\n",
       "      <th>1</th>\n",
       "      <td>75</td>\n",
       "      <td>32</td>\n",
       "      <td>4.5</td>\n",
       "      <td>1162160624000</td>\n",
       "      <td>[32.0, 4.5, 1.162160624e+12]</td>\n",
       "    </tr>\n",
       "    <tr>\n",
       "      <th>2</th>\n",
       "      <td>75</td>\n",
       "      <td>110</td>\n",
       "      <td>4.0</td>\n",
       "      <td>1162161008000</td>\n",
       "      <td>[110.0, 4.0, 1.162161008e+12]</td>\n",
       "    </tr>\n",
       "    <tr>\n",
       "      <th>3</th>\n",
       "      <td>75</td>\n",
       "      <td>160</td>\n",
       "      <td>2.0</td>\n",
       "      <td>1162160212000</td>\n",
       "      <td>[160.0, 2.0, 1.162160212e+12]</td>\n",
       "    </tr>\n",
       "    <tr>\n",
       "      <th>4</th>\n",
       "      <td>75</td>\n",
       "      <td>163</td>\n",
       "      <td>4.0</td>\n",
       "      <td>1162160970000</td>\n",
       "      <td>[163.0, 4.0, 1.16216097e+12]</td>\n",
       "    </tr>\n",
       "  </tbody>\n",
       "</table>\n",
       "</div>"
      ],
      "text/plain": [
       "   userID  movieID  rating      timestamp                           list\n",
       "0      75        3     1.0  1162160236000    [3.0, 1.0, 1.162160236e+12]\n",
       "1      75       32     4.5  1162160624000   [32.0, 4.5, 1.162160624e+12]\n",
       "2      75      110     4.0  1162161008000  [110.0, 4.0, 1.162161008e+12]\n",
       "3      75      160     2.0  1162160212000  [160.0, 2.0, 1.162160212e+12]\n",
       "4      75      163     4.0  1162160970000   [163.0, 4.0, 1.16216097e+12]"
      ]
     },
     "execution_count": 6,
     "metadata": {},
     "output_type": "execute_result"
    }
   ],
   "source": [
    "user_rate.head(5)"
   ]
  },
  {
   "cell_type": "code",
   "execution_count": 7,
   "metadata": {},
   "outputs": [
    {
     "name": "stdout",
     "output_type": "stream",
     "text": [
      "[[2011.0, 2.0, 1162160199000.0], [420.0, 2.0, 1162160202000.0], [160.0, 2.0, 1162160212000.0], [1304.0, 2.5, 1162160216000.0], [353.0, 3.5, 1162160220000.0], [653.0, 3.0, 1162160225000.0], [920.0, 0.5, 1162160228000.0], [3.0, 1.0, 1162160236000.0], [1374.0, 4.0, 1162160240000.0], [2054.0, 1.5, 1162160253000.0], [173.0, 3.5, 1162160257000.0], [1485.0, 4.0, 1162160266000.0], [832.0, 4.5, 1162160269000.0], [2700.0, 4.5, 1162160272000.0], [2640.0, 3.0, 1162160276000.0], [6225.0, 0.5, 1162160485000.0], [2688.0, 3.0, 1162160546000.0], [3889.0, 3.0, 1162160563000.0], [32.0, 4.5, 1162160624000.0], [1527.0, 4.5, 1162160641000.0], [7007.0, 4.5, 1162160655000.0], [1036.0, 4.0, 1162160685000.0], [296.0, 5.0, 1162160689000.0], [32587.0, 5.0, 1162160691000.0], [2762.0, 3.5, 1162160694000.0], [7000.0, 3.5, 1162160708000.0], [1370.0, 4.0, 1162160711000.0], [165.0, 4.5, 1162160715000.0], [32029.0, 4.5, 1162160718000.0], [3994.0, 3.5, 1162160724000.0], [45431.0, 3.5, 1162160758000.0], [1917.0, 2.5, 1162160763000.0], [3258.0, 1.5, 1162160768000.0], [5107.0, 3.0, 1162160771000.0], [996.0, 4.5, 1162160777000.0], [6213.0, 4.0, 1162160781000.0], [6333.0, 4.0, 1162160892000.0], [589.0, 4.0, 1162160901000.0], [39052.0, 3.5, 1162160924000.0], [33437.0, 3.5, 1162160928000.0], [1127.0, 3.5, 1162160932000.0], [1215.0, 4.5, 1162160936000.0], [3793.0, 3.0, 1162160956000.0], [2058.0, 4.0, 1162160965000.0], [163.0, 4.0, 1162160970000.0], [2490.0, 4.0, 1162160975000.0], [45722.0, 4.5, 1162160986000.0], [5833.0, 2.5, 1162160991000.0], [1233.0, 4.0, 1162161005000.0], [110.0, 4.0, 1162161008000.0], [2959.0, 4.5, 1162161012000.0], [4993.0, 3.5, 1162161034000.0], [7153.0, 3.5, 1162161036000.0], [5952.0, 3.5, 1162161040000.0], [2571.0, 4.5, 1162161050000.0]]\n"
     ]
    }
   ],
   "source": [
    "# лист листов для каждого пользователя\n",
    "user_rate = user_rate.groupby(by='userID')['list'].apply(list) \n",
    "# запишем в датафрейм\n",
    "user_rate = pd.DataFrame({'list':user_rate.values, 'userID':user_rate.index})\n",
    "# для каждого пользователя сортируем по таймстэмпу\n",
    "user_rate['list'] = user_rate['list'].apply(lambda x: sorted(x, key=lambda y: y[2]))\n",
    "\n",
    "print user_rate.iloc[0].list"
   ]
  },
  {
   "cell_type": "code",
   "execution_count": 8,
   "metadata": {
    "collapsed": true
   },
   "outputs": [],
   "source": [
    "train_df = user_rate.copy()\n",
    "train_df['list'] = train_df['list'].apply(lambda x: x[:-10])\n",
    "\n",
    "val_df = user_rate.copy()\n",
    "val_df['list'] = val_df['list'].apply(lambda x: x[-10:-5])\n",
    "\n",
    "test_df = user_rate.copy()\n",
    "test_df['list'] = test_df['list'].apply(lambda x: x[-5:])"
   ]
  },
  {
   "cell_type": "code",
   "execution_count": null,
   "metadata": {
    "collapsed": true
   },
   "outputs": [],
   "source": []
  },
  {
   "cell_type": "code",
   "execution_count": 9,
   "metadata": {
    "collapsed": true
   },
   "outputs": [],
   "source": [
    "user_rate_df = pd.read_csv('user_ratedmovies-timestamps.dat', sep='\\t')\n",
    "\n",
    "movie_ids = np.unique(user_rate_df['movieID'])\n",
    "movie_ids_map = {}\n",
    "for i in range(movie_ids.size):\n",
    "    movie_ids_map[movie_ids[i]] = i\n",
    "    \n",
    "    \n",
    "user_ids = np.unique(user_rate_df['userID'])\n",
    "user_ids_map = {}\n",
    "for i in range(user_ids.size):\n",
    "    user_ids_map[user_ids[i]] = i\n",
    "    \n",
    "    \n",
    "nusers = user_ids.size\n",
    "nmovies = movie_ids.size"
   ]
  },
  {
   "cell_type": "code",
   "execution_count": 10,
   "metadata": {
    "collapsed": true
   },
   "outputs": [],
   "source": [
    "def make_matrix(df):\n",
    "    matrix = np.zeros((nusers, nmovies))\n",
    "    for index, row in df.iterrows():\n",
    "        for rate in row['list']:\n",
    "            user_row = user_ids_map[row['userID']]\n",
    "            movie_col = movie_ids_map[rate[0]]\n",
    "            matrix[user_row][movie_col] = rate[1]\n",
    "    return matrix\n",
    "\n",
    "\n",
    "train_matrix = make_matrix(train_df)\n",
    "val_matrix = make_matrix(val_df)\n",
    "test_matrix = make_matrix(test_df)\n",
    "\n",
    "train_matrix_sp = sparse.csr_matrix(train_matrix)\n",
    "val_matrix_sp = sparse.csr_matrix(val_matrix)\n",
    "test_matrix_sp = sparse.csr_matrix(test_matrix)"
   ]
  },
  {
   "cell_type": "markdown",
   "metadata": {},
   "source": [
    "Качество рекомендаций: будем использовать метрики RMSE@k и nDCG@k для $k=5$, описанные ниже.\n",
    "\n",
    "#### RMSE@k\n",
    "\n",
    "Поскольку нас интересуют лишь фильмы, попавшие в блок рекомендаций, качество работы модели можно оценивать при помощи RMSE на $k$ фильмах с наибольшим предсказанным рейтингом, где $k$ — размер блока рекомендаций. Отсортируем предсказанные моделью рейтинги $\\hat{r}_{ui}$ в порядке убывания и обозначим $i$-ый элемент в полученной последовательности за $\\hat{r}_{u(i)},$ а соответствующее этому фильму истинное значение рейтинга — за $r_{u(i)}$. Тогда RMSE@k:\n",
    "\n",
    "$$ \\text{RMSE@k}(u) = \\sqrt{ \\frac{1}{k} \\sum_{i=1}^k (r_{u(i)} - \\hat{r}_{u(i)})^2 },$$\n",
    "$$ \\text{RMSE@k} = \\frac{1}{|U|} \\sum_{u \\in U} \\text{RMSE@k}(u),$$\n",
    "где $U$ — множество пользователей. При вычислении данной метрики все неизвестные оценки будем полагать равными 0.\n",
    "\n",
    "#### nDCG@k\n",
    "\n",
    "Также можно использовать метрику качества ранжирования. Для этого для каждого пользователя $u$ предскажем оценку для всех фильмов из $R^u_{test}$ и отсортируем эти фильмы по убыванию предсказанного рейтинга. Ожидается, что хороший алгоритм должен выдать релевантные фильмы вверху списка. Отсортируем предсказанные моделью рейтинги $\\hat{r}_{ui}$ в порядке убывания и обозначим $i$-ый элемент в полученной последовательности за $\\hat{r}_{u(i)},$ а соответствующее этому фильму истинное значение рейтинга — за $r_{u(i)}.$\n",
    "\n",
    "Тогда nDCG@k :\n",
    "\n",
    "$$\\text{DCG@k}(u) = \\sum_{i=1}^k g(r_{u(i)}) d(i),$$\n",
    "$$\\text{nDCG@k}(u) = \\frac{\\text{DCG@k}(u)}{\\max \\text{DCG@k}(u)},$$\n",
    "$$\\text{nDCG@k} = \\frac{1}{|U|} \\sum_{u \\in U} \\text{nDCG@k}(u),$$\n",
    "где $g(r)$ — функция полезности фильма, а  $d(i)$ — штраф за позицию.\n",
    "\n",
    "Положим $g(r) = 2^r-1, \\, d(i) = \\frac{1}{\\log_2 (i+1)}.$ При вычислении данной метрики все неизвестные оценки будем полагать равными 0."
   ]
  },
  {
   "cell_type": "markdown",
   "metadata": {},
   "source": [
    "**2.** Реализуйте функции rmse_score и ndcg_score, вычисляющие значения описанных выше метрик. Каждая из функций в качестве параметров должна принимать:\n",
    " * y_true — матрицу тестовых рейтингов (сформированную аналогично матрице тестовых рейтингов из предыдущего пункта; функция должна корректно работать и для разреженных, и для плотных матриц);\n",
    " * y_predicted — матрицу предсказаний модели в аналогичном формате (функция должна корректно работать и для разреженных, и для плотных матриц);\n",
    " * k — параметр $k$ в определениях метрик."
   ]
  },
  {
   "cell_type": "code",
   "execution_count": 11,
   "metadata": {
    "collapsed": true
   },
   "outputs": [],
   "source": [
    "def rmse_score(y_true, y_predicted, k=5):\n",
    "    if type(y_true) == sparse.csr.csr_matrix:\n",
    "        y_true_ = y_true.toarray()\n",
    "    else:\n",
    "        y_true_ = y_true\n",
    "    if type(y_predicted) == sparse.csr.csr_matrix:\n",
    "        y_predicted_ = y_predicted.toarray()\n",
    "    else:\n",
    "        y_predicted_ = y_predicted\n",
    "\n",
    "    nusers = y_true_.shape[0]\n",
    "    rmse = 0\n",
    "    for user in range(nusers):\n",
    "        movie_idxs = np.argsort(-y_predicted_[user])[:k]\n",
    "        diff = y_true_[user, movie_idxs] - y_predicted_[user, movie_idxs]\n",
    "        cur_rmse = np.sqrt(np.dot(diff, diff) * (1. / k))\n",
    "        rmse += cur_rmse\n",
    "    rmse /= nusers\n",
    "    return rmse\n",
    "\n",
    "def ndcg_score(y_true, y_predicted, k=5):\n",
    "    if type(y_true) == sparse.csr.csr_matrix:\n",
    "        y_true_ = y_true.toarray()\n",
    "    else:\n",
    "        y_true_ = y_true\n",
    "    if type(y_predicted) == sparse.csr.csr_matrix:\n",
    "        y_predicted_ = y_predicted.toarray()\n",
    "    else:\n",
    "        y_predicted_ = y_predicted\n",
    "\n",
    "    nusers = y_true_.shape[0]\n",
    "    ndcg = 0\n",
    "    pen = 1 / np.log2(np.arange(2, k+2))\n",
    "    for user in range(nusers):\n",
    "        movie_idxs = np.argsort(-y_predicted_[user])[:k]\n",
    "        cur_dcg = np.dot(2 ** y_true_[user, movie_idxs] - 1, pen)\n",
    "        max_dcg = np.dot(2 ** np.sort(y_true_[user])[::-1][:k] - 1, pen)\n",
    "        ndcg += (cur_dcg / max_dcg)\n",
    "    ndcg /= nusers\n",
    "    return ndcg"
   ]
  },
  {
   "cell_type": "markdown",
   "metadata": {},
   "source": [
    "**3. ** Постройте рекомендации на основе **most popular** метода, при котором предсказанный рейтинг для некоторого фильма $i$ одинаков для всех пользователей и совпадает со средним значением рейтинга по всем пользователям, оценившим этот фильм, и вычислите значения метрик RMSE@5 и nDCG@5 для тестовой матрицы из п. 1."
   ]
  },
  {
   "cell_type": "code",
   "execution_count": 12,
   "metadata": {
    "collapsed": true
   },
   "outputs": [],
   "source": [
    "most_pop = np.zeros((test_matrix.shape[0], test_matrix.shape[1]))\n",
    "for i in range(most_pop.shape[1]):\n",
    "    if train_matrix[:, i].sum() == 0:\n",
    "        most_pop[:, i] = 0\n",
    "    else:\n",
    "        most_pop[:, i] = train_matrix[:, i].sum() / (train_matrix[:, i] > 0).sum()"
   ]
  },
  {
   "cell_type": "code",
   "execution_count": 13,
   "metadata": {},
   "outputs": [
    {
     "data": {
      "text/plain": [
       "5.0"
      ]
     },
     "execution_count": 13,
     "metadata": {},
     "output_type": "execute_result"
    }
   ],
   "source": [
    "rmse_score(test_matrix, most_pop, k=5)"
   ]
  },
  {
   "cell_type": "code",
   "execution_count": 14,
   "metadata": {},
   "outputs": [
    {
     "data": {
      "text/plain": [
       "0.0"
      ]
     },
     "execution_count": 14,
     "metadata": {},
     "output_type": "execute_result"
    }
   ],
   "source": [
    "ndcg_score(test_matrix, most_pop, k=5)"
   ]
  },
  {
   "cell_type": "markdown",
   "metadata": {},
   "source": [
    "**4. ** Реализуйте построение рекомендаций путём разложения матрицы рейтингов с помощью [разреженного SVD](http://scikit-learn.org/stable/modules/generated/sklearn.decomposition.TruncatedSVD.html) (в предположении, что неизвестные рейтинги заменяются на нули) и последующего её восстановления и постройте график зависимости метрик RMSE@5 и nDCG@5 от значения ранга разложения на валидационной выборке (рассмотрите как минимум 10 различных значений ранга разложения)"
   ]
  },
  {
   "cell_type": "code",
   "execution_count": 15,
   "metadata": {
    "collapsed": true
   },
   "outputs": [],
   "source": [
    "from sklearn.decomposition import TruncatedSVD"
   ]
  },
  {
   "cell_type": "code",
   "execution_count": null,
   "metadata": {},
   "outputs": [],
   "source": [
    "%%time\n",
    "\n",
    "ranks = np.arange(10, 110, 10)\n",
    "\n",
    "rmse_vals = []\n",
    "ndcge_vals = []\n",
    "\n",
    "for r in np.arange(10, 110, 10):\n",
    "    svd = TruncatedSVD(n_components=r, algorithm='randomized', n_iter=20, random_state=42)\n",
    "    low_rank = svd.fit_transform(train_matrix)\n",
    "    pred = svd.inverse_transform(low_rank)\n",
    "    cur_rmse = rmse_score(val_matrix, pred)\n",
    "    cur_ndcg = ndcg_score(val_matrix, pred)\n",
    "    rmse_vals.append(cur_rmse)\n",
    "    ndcge_vals.append(cur_ndcg)"
   ]
  },
  {
   "cell_type": "code",
   "execution_count": 17,
   "metadata": {},
   "outputs": [
    {
     "data": {
      "text/plain": [
       "<matplotlib.text.Text at 0x120d76610>"
      ]
     },
     "execution_count": 17,
     "metadata": {},
     "output_type": "execute_result"
    },
    {
     "data": {
      "image/png": "[encoded data removed]",
      "text/plain": [
       "<matplotlib.figure.Figure at 0x1233c65d0>"
      ]
     },
     "metadata": {},
     "output_type": "display_data"
    }
   ],
   "source": [
    "fig, (ax1, ax2) = plt.subplots(1, 2, figsize=(12, 4))\n",
    "args = np.arange(10, 110, 10)\n",
    "\n",
    "fig.suptitle('Truncated SVD', fontweight='bold')\n",
    "ax1.plot(args, rmse_vals)\n",
    "ax2.plot(args, ndcge_vals)\n",
    "ax1.set_title('RMSE')\n",
    "ax2.set_title('nDCG')\n",
    "ax1.set_xlabel('rank')\n",
    "ax2.set_xlabel('rank')"
   ]
  },
  {
   "cell_type": "code",
   "execution_count": 18,
   "metadata": {},
   "outputs": [
    {
     "name": "stdout",
     "output_type": "stream",
     "text": [
      "CPU times: user 6.71 s, sys: 588 ms, total: 7.3 s\n",
      "Wall time: 4.57 s\n"
     ]
    }
   ],
   "source": [
    "%%time\n",
    "svd = TruncatedSVD(n_components=10, algorithm='randomized', n_iter=20, random_state=42)\n",
    "low_rank = svd.fit_transform(train_matrix + val_matrix)\n",
    "pred = svd.inverse_transform(low_rank)"
   ]
  },
  {
   "cell_type": "code",
   "execution_count": 22,
   "metadata": {},
   "outputs": [
    {
     "name": "stdout",
     "output_type": "stream",
     "text": [
      "Group\n",
      "rmse 3.4688583713635834 ndcg 0.008623544885369636\n"
     ]
    }
   ],
   "source": [
    "print 'Group'\n",
    "print 'rmse', rmse_score(test_matrix[:, :],  pred[:, :]),'ndcg', ndcg_score(test_matrix[:, :],  pred[:, :])"
   ]
  },
  {
   "cell_type": "code",
   "execution_count": null,
   "metadata": {
    "collapsed": true
   },
   "outputs": [],
   "source": []
  }
 ],
 "metadata": {
  "kernelspec": {
   "display_name": "Python 3",
   "language": "python",
   "name": "python3"
  },
  "language_info": {
   "codemirror_mode": {
    "name": "ipython",
    "version": 3
   },
   "file_extension": ".py",
   "mimetype": "text/x-python",
   "name": "python",
   "nbconvert_exporter": "python",
   "pygments_lexer": "ipython3",
   "version": "3.6.4"
  }
 },
 "nbformat": 4,
 "nbformat_minor": 1
}
