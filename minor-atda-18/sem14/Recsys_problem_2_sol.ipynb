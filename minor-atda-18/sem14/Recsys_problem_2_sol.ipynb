{
 "cells": [
  {
   "cell_type": "markdown",
   "metadata": {},
   "source": [
    "## Рекомендательные системы: товары, которые больше понравятся"
   ]
  },
  {
   "cell_type": "markdown",
   "metadata": {},
   "source": [
    "Делаем рекомендации категорий товаров в интернет-магазине.\n",
    "\n",
    "Для каждого пользователя известно, когда и по товару какой категории он кликал.\n",
    "\n",
    "\n",
    "#### Метрика качества - mean average precision@k. \n",
    "Посмотрим детальнее на метрику: \n",
    "- precision@k - доля купленного из рекомендованного\n",
    "\n",
    "- average precision@k - внутри одного пользователя (одной рекомендации) усредняем precision@k по позициям k (так решаем проблему предыдущей метрики - она не учитывала порядок элементов в \"топе\")\n",
    "\n",
    "- mean average precision@k - усредняем по пользователям\n"
   ]
  },
  {
   "cell_type": "code",
   "execution_count": 1,
   "metadata": {},
   "outputs": [],
   "source": [
    "def apk(actual, predicted, k=10):\n",
    "    \"\"\"\n",
    "    Computes the average precision at k.\n",
    "\n",
    "    This function computes the average prescision at k between two lists of\n",
    "    items.\n",
    "\n",
    "    Parameters\n",
    "    ----------\n",
    "    actual : list\n",
    "             A list of elements that are to be predicted (order doesn't matter)\n",
    "    predicted : list\n",
    "                A list of predicted elements (order does matter)\n",
    "    k : int, optional\n",
    "        The maximum number of predicted elements\n",
    "\n",
    "    Returns\n",
    "    -------\n",
    "    score : double\n",
    "            The average precision at k over the input lists\n",
    "\n",
    "    \"\"\"\n",
    "    if len(predicted)>k:\n",
    "        predicted = predicted[:k]\n",
    "\n",
    "    score = 0.0\n",
    "    num_hits = 0.0\n",
    "\n",
    "    for i,p in enumerate(predicted):\n",
    "        if p in actual and p not in predicted[:i]:\n",
    "            num_hits += 1.0\n",
    "            score += num_hits / (i+1.0)\n",
    "\n",
    "    if not actual:\n",
    "        return 0.0\n",
    "\n",
    "    return score / min(len(actual), k)\n",
    "\n",
    "def mapk(actual, predicted, k=10):\n",
    "    \"\"\"\n",
    "    Computes the mean average precision at k.\n",
    "\n",
    "    This function computes the mean average prescision at k between two lists\n",
    "    of lists of items.\n",
    "\n",
    "    Parameters\n",
    "    ----------\n",
    "    actual : list\n",
    "             A list of lists of elements that are to be predicted \n",
    "             (order doesn't matter in the lists)\n",
    "    predicted : list\n",
    "                A list of lists of predicted elements\n",
    "                (order matters in the lists)\n",
    "    k : int, optional\n",
    "        The maximum number of predicted elements\n",
    "\n",
    "    Returns\n",
    "    -------\n",
    "    score : double\n",
    "            The mean average precision at k over the input lists\n",
    "\n",
    "    \"\"\"\n",
    "    return np.mean([apk(a,p,k) for a,p in zip(actual, predicted)])"
   ]
  },
  {
   "cell_type": "markdown",
   "metadata": {},
   "source": [
    "**Задача:** хотим предсказывать, какая категория товара пользователю будет интересна на оснве информации о кликах. \n",
    "Т.е. построить модель, предсказываюшую вероятность клика.\n",
    "\n",
    "**Общая схема построение модели:**\n",
    "\n",
    "- обучение модели: объектом выборки будет являться пара (user_id, category_id). Таргет - \"клик\"/\"не клик\", т.е. бинарная классификация. Будем обучать бустинг на logloss, чтобы получить вероятность, по которой в дальнейшем ранжировать.\n",
    "\n",
    "- здесь надо подумать о том, что мы будем считать \"не кликом\" (негативным классом), ведь у нас етсь только информация о кликах. Будем выбирать рандомно **несколько** негативных примеров из всех оставшихся категорий, по которые пользователь не кликнул). (**несколько**, а не все возможные, потому что в противном случае получится сильный дисбаланс классов)\n",
    "\n",
    "- предсказание: для каждого пользователя из тестовой выборки и каждой возможной категории генерим признаки.\n",
    "\n",
    "- принимаем решение согласно модели: выберем топ 5 категорий для каждого пользователя по полученной вероятности.\n"
   ]
  },
  {
   "cell_type": "code",
   "execution_count": 2,
   "metadata": {},
   "outputs": [],
   "source": [
    "import numpy as np\n",
    "import pandas as pd\n",
    "from scipy import sparse\n",
    "from collections import Counter\n",
    "import matplotlib.pyplot as plt\n",
    "%matplotlib inline\n",
    "\n",
    "import random"
   ]
  },
  {
   "cell_type": "code",
   "execution_count": 3,
   "metadata": {},
   "outputs": [],
   "source": [
    "clicks = pd.read_csv('clicks.csv', sep=',')"
   ]
  },
  {
   "cell_type": "markdown",
   "metadata": {},
   "source": [
    "\n",
    "**1.** Разбейте данные на три части: \n",
    "- все до предпоследней недели (по этой неделе будем считать фичи о пользователе, о товаре, взаимные фичи)\n",
    "- предпоследняя неделя (по этой неделе сгенерируем обучающую выборку) \n",
    "- последняя неделя (тест, на котором смотрим качество -- пользователи, для которых хотим предсказать. Замечание: разумеется, здесь есть некоторая \"утечка\": на практике возможно предсказывать для тех пользователей, которые 1) пришли до момента предсказания 2) обычно мы не знаем, кто из них появится в нашей системе на интересующей неделе). В этой задаче мы не будем обращать на это внимание."
   ]
  },
  {
   "cell_type": "code",
   "execution_count": 4,
   "metadata": {},
   "outputs": [],
   "source": [
    "pred_last_week_start = '2016-09-12' \n",
    "last_week_start = '2016-09-19' "
   ]
  },
  {
   "cell_type": "code",
   "execution_count": 5,
   "metadata": {},
   "outputs": [],
   "source": [
    "stat_clicks = clicks[clicks['day'] < pred_last_week_start]\n",
    "train_clicks = clicks[(clicks['day'] < last_week_start)&(clicks['day'] >= pred_last_week_start)]\n",
    "test_clicks = clicks[clicks['day'] >= last_week_start]"
   ]
  },
  {
   "cell_type": "code",
   "execution_count": 6,
   "metadata": {},
   "outputs": [
    {
     "data": {
      "text/html": [
       "<div>\n",
       "<style scoped>\n",
       "    .dataframe tbody tr th:only-of-type {\n",
       "        vertical-align: middle;\n",
       "    }\n",
       "\n",
       "    .dataframe tbody tr th {\n",
       "        vertical-align: top;\n",
       "    }\n",
       "\n",
       "    .dataframe thead th {\n",
       "        text-align: right;\n",
       "    }\n",
       "</style>\n",
       "<table border=\"1\" class=\"dataframe\">\n",
       "  <thead>\n",
       "    <tr style=\"text-align: right;\">\n",
       "      <th></th>\n",
       "      <th>user_id</th>\n",
       "      <th>category_id</th>\n",
       "      <th>day</th>\n",
       "    </tr>\n",
       "  </thead>\n",
       "  <tbody>\n",
       "    <tr>\n",
       "      <th>0</th>\n",
       "      <td>46</td>\n",
       "      <td>672</td>\n",
       "      <td>2016-08-04</td>\n",
       "    </tr>\n",
       "    <tr>\n",
       "      <th>1</th>\n",
       "      <td>48</td>\n",
       "      <td>170</td>\n",
       "      <td>2016-08-04</td>\n",
       "    </tr>\n",
       "    <tr>\n",
       "      <th>2</th>\n",
       "      <td>48</td>\n",
       "      <td>170</td>\n",
       "      <td>2016-08-04</td>\n",
       "    </tr>\n",
       "    <tr>\n",
       "      <th>3</th>\n",
       "      <td>53</td>\n",
       "      <td>1190</td>\n",
       "      <td>2016-08-04</td>\n",
       "    </tr>\n",
       "    <tr>\n",
       "      <th>4</th>\n",
       "      <td>93</td>\n",
       "      <td>56</td>\n",
       "      <td>2016-08-04</td>\n",
       "    </tr>\n",
       "  </tbody>\n",
       "</table>\n",
       "</div>"
      ],
      "text/plain": [
       "   user_id  category_id         day\n",
       "0       46          672  2016-08-04\n",
       "1       48          170  2016-08-04\n",
       "2       48          170  2016-08-04\n",
       "3       53         1190  2016-08-04\n",
       "4       93           56  2016-08-04"
      ]
     },
     "execution_count": 6,
     "metadata": {},
     "output_type": "execute_result"
    }
   ],
   "source": [
    "stat_clicks.head()"
   ]
  },
  {
   "cell_type": "markdown",
   "metadata": {},
   "source": [
    "**2.** По stat_clicks хотим посчитать статистики для фичей о пользователях и товарах.\n",
    "\n",
    "- создайте в датафрейме столбец 'list', в котором будет лежать лист из \"троек\" (user_id, category_id, day)\n",
    "- составим обучающую выборку (сами объекты, пока что без признакового описания): для каждого пользователя возьмите категории, которые входили в его топ-5 кликнутых (это будет класс 1), и еще 5 случайных категорий (класс 0).\n",
    "\n",
    "Чем плох следующий вариант: для всех категорий, которые не просмотрел пользователь, поставить класс 0?"
   ]
  },
  {
   "cell_type": "code",
   "execution_count": 7,
   "metadata": {},
   "outputs": [
    {
     "name": "stderr",
     "output_type": "stream",
     "text": [
      "C:\\Users\\panov\\Anaconda3\\lib\\site-packages\\ipykernel_launcher.py:1: SettingWithCopyWarning: \n",
      "A value is trying to be set on a copy of a slice from a DataFrame.\n",
      "Try using .loc[row_indexer,col_indexer] = value instead\n",
      "\n",
      "See the caveats in the documentation: http://pandas.pydata.org/pandas-docs/stable/indexing.html#indexing-view-versus-copy\n",
      "  \"\"\"Entry point for launching an IPython kernel.\n"
     ]
    }
   ],
   "source": [
    "stat_clicks['list'] = stat_clicks[['user_id', 'category_id', 'day']].values.tolist()"
   ]
  },
  {
   "cell_type": "code",
   "execution_count": 8,
   "metadata": {},
   "outputs": [
    {
     "data": {
      "text/html": [
       "<div>\n",
       "<style scoped>\n",
       "    .dataframe tbody tr th:only-of-type {\n",
       "        vertical-align: middle;\n",
       "    }\n",
       "\n",
       "    .dataframe tbody tr th {\n",
       "        vertical-align: top;\n",
       "    }\n",
       "\n",
       "    .dataframe thead th {\n",
       "        text-align: right;\n",
       "    }\n",
       "</style>\n",
       "<table border=\"1\" class=\"dataframe\">\n",
       "  <thead>\n",
       "    <tr style=\"text-align: right;\">\n",
       "      <th></th>\n",
       "      <th>user_id</th>\n",
       "      <th>category_id</th>\n",
       "      <th>day</th>\n",
       "      <th>list</th>\n",
       "    </tr>\n",
       "  </thead>\n",
       "  <tbody>\n",
       "    <tr>\n",
       "      <th>0</th>\n",
       "      <td>46</td>\n",
       "      <td>672</td>\n",
       "      <td>2016-08-04</td>\n",
       "      <td>[46, 672, 2016-08-04]</td>\n",
       "    </tr>\n",
       "    <tr>\n",
       "      <th>1</th>\n",
       "      <td>48</td>\n",
       "      <td>170</td>\n",
       "      <td>2016-08-04</td>\n",
       "      <td>[48, 170, 2016-08-04]</td>\n",
       "    </tr>\n",
       "    <tr>\n",
       "      <th>2</th>\n",
       "      <td>48</td>\n",
       "      <td>170</td>\n",
       "      <td>2016-08-04</td>\n",
       "      <td>[48, 170, 2016-08-04]</td>\n",
       "    </tr>\n",
       "    <tr>\n",
       "      <th>3</th>\n",
       "      <td>53</td>\n",
       "      <td>1190</td>\n",
       "      <td>2016-08-04</td>\n",
       "      <td>[53, 1190, 2016-08-04]</td>\n",
       "    </tr>\n",
       "    <tr>\n",
       "      <th>4</th>\n",
       "      <td>93</td>\n",
       "      <td>56</td>\n",
       "      <td>2016-08-04</td>\n",
       "      <td>[93, 56, 2016-08-04]</td>\n",
       "    </tr>\n",
       "  </tbody>\n",
       "</table>\n",
       "</div>"
      ],
      "text/plain": [
       "   user_id  category_id         day                    list\n",
       "0       46          672  2016-08-04   [46, 672, 2016-08-04]\n",
       "1       48          170  2016-08-04   [48, 170, 2016-08-04]\n",
       "2       48          170  2016-08-04   [48, 170, 2016-08-04]\n",
       "3       53         1190  2016-08-04  [53, 1190, 2016-08-04]\n",
       "4       93           56  2016-08-04    [93, 56, 2016-08-04]"
      ]
     },
     "execution_count": 8,
     "metadata": {},
     "output_type": "execute_result"
    }
   ],
   "source": [
    "stat_clicks.head()"
   ]
  },
  {
   "cell_type": "code",
   "execution_count": 9,
   "metadata": {},
   "outputs": [],
   "source": [
    "stat_clicks = stat_clicks.groupby(by='user_id')['list'].apply(list) "
   ]
  },
  {
   "cell_type": "code",
   "execution_count": 13,
   "metadata": {},
   "outputs": [
    {
     "data": {
      "text/plain": [
       "user_id\n",
       "0                                    [[0, 672, 2016-08-25]]\n",
       "1         [[1, 428, 2016-08-19], [1, 44, 2016-09-01], [1...\n",
       "2                                    [[2, 892, 2016-08-11]]\n",
       "3         [[3, 1257, 2016-08-06], [3, 2318, 2016-08-10],...\n",
       "4                                    [[4, 108, 2016-08-10]]\n",
       "5            [[5, 2149, 2016-08-12], [5, 2149, 2016-08-12]]\n",
       "6                                    [[6, 977, 2016-08-15]]\n",
       "7                                    [[7, 696, 2016-08-10]]\n",
       "8         [[8, 134, 2016-08-06], [8, 134, 2016-08-17], [...\n",
       "9                                    [[9, 672, 2016-08-11]]\n",
       "11                                 [[11, 1407, 2016-08-31]]\n",
       "13           [[13, 672, 2016-08-30], [13, 672, 2016-08-30]]\n",
       "14                                  [[14, 672, 2016-09-06]]\n",
       "15                                 [[15, 1819, 2016-08-28]]\n",
       "17                                  [[17, 675, 2016-08-19]]\n",
       "19                                  [[19, 429, 2016-09-02]]\n",
       "20        [[20, 66, 2016-08-05], [20, 66, 2016-08-05], [...\n",
       "21                                 [[21, 1063, 2016-08-24]]\n",
       "22        [[22, 1381, 2016-08-12], [22, 1381, 2016-08-12...\n",
       "23                                   [[23, 33, 2016-09-04]]\n",
       "24                                   [[24, 56, 2016-09-08]]\n",
       "25                                  [[25, 207, 2016-09-10]]\n",
       "26                                  [[26, 672, 2016-08-15]]\n",
       "28        [[28, 1290, 2016-08-11], [28, 1290, 2016-08-11...\n",
       "29                                 [[29, 1664, 2016-08-11]]\n",
       "30        [[30, 672, 2016-09-07], [30, 672, 2016-09-07],...\n",
       "31                                 [[31, 1409, 2016-08-05]]\n",
       "32                                 [[32, 1296, 2016-08-31]]\n",
       "34        [[34, 784, 2016-08-05], [34, 784, 2016-08-05],...\n",
       "35                                  [[35, 138, 2016-09-11]]\n",
       "                                ...                        \n",
       "199964                         [[199964, 1409, 2016-08-22]]\n",
       "199966    [[199966, 1582, 2016-09-11], [199966, 1582, 20...\n",
       "199967                          [[199967, 672, 2016-08-18]]\n",
       "199968                          [[199968, 108, 2016-08-08]]\n",
       "199969    [[199969, 2130, 2016-09-08], [199969, 2130, 20...\n",
       "199970                          [[199970, 795, 2016-08-20]]\n",
       "199971                          [[199971, 672, 2016-08-11]]\n",
       "199972    [[199972, 474, 2016-08-13], [199972, 66, 2016-...\n",
       "199974                          [[199974, 189, 2016-08-11]]\n",
       "199975                          [[199975, 435, 2016-08-11]]\n",
       "199976                          [[199976, 163, 2016-08-16]]\n",
       "199978                          [[199978, 990, 2016-08-09]]\n",
       "199979                          [[199979, 484, 2016-08-14]]\n",
       "199981    [[199981, 2266, 2016-08-11], [199981, 130, 201...\n",
       "199982    [[199982, 1434, 2016-08-22], [199982, 1434, 20...\n",
       "199983    [[199983, 123, 2016-09-06], [199983, 123, 2016...\n",
       "199985    [[199985, 1339, 2016-09-09], [199985, 1339, 20...\n",
       "199986    [[199986, 911, 2016-08-12], [199986, 171, 2016...\n",
       "199987                           [[199987, 40, 2016-08-11]]\n",
       "199988                          [[199988, 192, 2016-08-09]]\n",
       "199989                          [[199989, 422, 2016-08-15]]\n",
       "199990                         [[199990, 2540, 2016-08-15]]\n",
       "199991    [[199991, 1193, 2016-08-22], [199991, 1193, 20...\n",
       "199992                          [[199992, 440, 2016-08-28]]\n",
       "199994    [[199994, 1186, 2016-09-01], [199994, 1270, 20...\n",
       "199995    [[199995, 1204, 2016-08-11], [199995, 672, 201...\n",
       "199996    [[199996, 369, 2016-08-14], [199996, 1289, 201...\n",
       "199997                         [[199997, 1288, 2016-08-17]]\n",
       "199998                         [[199998, 2012, 2016-08-10]]\n",
       "199999    [[199999, 672, 2016-08-18], [199999, 553, 2016...\n",
       "Name: list, Length: 137493, dtype: object"
      ]
     },
     "execution_count": 13,
     "metadata": {},
     "output_type": "execute_result"
    }
   ],
   "source": [
    "stat_clicks.groupby(by='user_id').head()"
   ]
  },
  {
   "cell_type": "code",
   "execution_count": 15,
   "metadata": {},
   "outputs": [],
   "source": [
    "stat_clicks = pd.DataFrame({'list':stat_clicks.values, 'userID':stat_clicks.index})\n",
    "# для каждого пользователя сортируем по таймстэмпу\n",
    "stat_clicks['list'] = stat_clicks['list'].apply(lambda x: sorted(x, key=lambda y: y[2]))"
   ]
  },
  {
   "cell_type": "code",
   "execution_count": 16,
   "metadata": {},
   "outputs": [
    {
     "data": {
      "text/plain": [
       "[[1, 428, '2016-08-19'],\n",
       " [1, 44, '2016-09-01'],\n",
       " [1, 44, '2016-09-01'],\n",
       " [1, 1967, '2016-09-01'],\n",
       " [1, 1967, '2016-09-01']]"
      ]
     },
     "execution_count": 16,
     "metadata": {},
     "output_type": "execute_result"
    }
   ],
   "source": [
    "stat_clicks.loc[1].list"
   ]
  },
  {
   "cell_type": "code",
   "execution_count": 20,
   "metadata": {},
   "outputs": [],
   "source": [
    "categories = np.unique(clicks.category_id.values)\n",
    "\n",
    "# функция возврашает лейблы 1/0 в y (здесь же сэмплируем негативные примеры)\n",
    "# айди категории, айди пользователя в X \n",
    "\n",
    "def get_sample(train_clicks_list):\n",
    "    sample, target = [], []\n",
    "\n",
    "    for id, el in zip(train_clicks_list.index, train_clicks_list):\n",
    "        _el = Counter(el).most_common(5)\n",
    "        for cat in _el:\n",
    "            sample.append([cat[0], id])\n",
    "            target.append(1) \n",
    "        # в массив arr добавляем 5 рандомных элементов, которые не пересекаются с теми, которые уже были\n",
    "        a = list(set.difference(set(random.sample(list(categories), 10)), set(_el)))\n",
    "        arr = [[cat, id] for cat in a[:5]]\n",
    "        sample.extend(arr)\n",
    "        target.extend([0 for _ in range(5)])\n",
    "    return target, sample\n",
    "    \n",
    "train_clicks_list = train_clicks.groupby('user_id')['category_id'].apply(list)   \n",
    "targets, objects = get_sample(train_clicks_list)"
   ]
  },
  {
   "cell_type": "code",
   "execution_count": 26,
   "metadata": {},
   "outputs": [
    {
     "data": {
      "text/plain": [
       "user_id\n",
       "8     [103, 755, 755, 755, 429, 429, 429, 429]\n",
       "16                             [672, 672, 672]\n",
       "18                                       [951]\n",
       "34    [771, 163, 163, 163, 163, 163, 163, 672]\n",
       "44                                       [461]\n",
       "Name: category_id, dtype: object"
      ]
     },
     "execution_count": 26,
     "metadata": {},
     "output_type": "execute_result"
    }
   ],
   "source": [
    "train_clicks_list.head()"
   ]
  },
  {
   "cell_type": "markdown",
   "metadata": {},
   "source": [
    "**3.**\n",
    "Напишите код, который считает вспомогательные статистики по пользователям и категориям.\n",
    "\n",
    "\n",
    "Признаки по категории:\n",
    "- сколько всего кликов было по этой категории\n",
    "- сколько уникальных пользователей кликало по этой категории\n",
    "- сколько категорий встречалось с конкретной категорией (внутри одного пользователя) = топ 5 категорий, которые встречались вместе с конкретной внутри одного пользователя\n",
    "\n",
    "По пользователю:\n",
    "- для каждого пользователя список всех категорий, по которым он кликал (затем каждую из этих категорий будем кодировать числом - суммарным числом кликов по ней )\n",
    "- посчитаем топ 5 самых популярных категорий (по всей выборке), затем посмотрим, кликал ли пользователь по этим 5 популярным (это будет 5 фичей для каждого пользователя = (просматривал ли категории из топ 5 когда-либо))"
   ]
  },
  {
   "cell_type": "code",
   "execution_count": 27,
   "metadata": {},
   "outputs": [],
   "source": [
    "from collections import defaultdict, Counter"
   ]
  },
  {
   "cell_type": "code",
   "execution_count": 29,
   "metadata": {},
   "outputs": [],
   "source": [
    "# по пользователю\n",
    "categories_on_users = defaultdict(list)\n",
    "\n",
    "for i in stat_clicks.index:\n",
    "    clicks_on_users = stat_clicks.loc[i].list\n",
    "    cats_on_users = [cat[1] for cat in clicks_on_users]\n",
    "    categories_on_users[i].extend(cats_on_users)\n",
    "\n",
    "# 5 самых поулярных категорий\n",
    "popular_cats = [el[0] for el in Counter(clicks.category_id.values).most_common(5)]\n",
    "\n",
    "# по категориям\n",
    "# сколько всего кликов было по этой категории\n",
    "clicks_on_category = Counter()\n",
    "# сколько уникальных пользователей кликало по этой категории\n",
    "users_on_category = defaultdict(set)\n",
    "# сколько категорий встречалось с конкретной категорией (внутри одного пользователя)\n",
    "category_with_category = defaultdict(list) \n",
    "\n",
    "for i in stat_clicks.index:\n",
    "    clicks_on_users = stat_clicks.loc[i].list\n",
    "    \n",
    "    cats_on_users = set([cat[1] for cat in clicks_on_users])\n",
    "    for cl in clicks_on_users:\n",
    "        clicks_on_category[cl[1]] += 1\n",
    "        category_with_category[cl[1]].extend(list(cats_on_users)) \n",
    "        users_on_category[cl[1]].add(cl[0])    \n",
    "        \n",
    "# топ 5 категорий, которые встречались с данной внутри одного пользователя\n",
    "category_with_category_cnt = {}\n",
    "for c in category_with_category:\n",
    "    category_with_category_cnt[c] = [el[0] for el in Counter(category_with_category[c]).most_common(5)]\n",
    "    \n",
    "# число пользователей, которые хоть раз кликнули по категории\n",
    "users_on_category_dict = {}\n",
    "for k, v in users_on_category.items():\n",
    "    users_on_category_dict[k] = len(v)"
   ]
  },
  {
   "cell_type": "code",
   "execution_count": 30,
   "metadata": {},
   "outputs": [
    {
     "data": {
      "text/html": [
       "<div>\n",
       "<style scoped>\n",
       "    .dataframe tbody tr th:only-of-type {\n",
       "        vertical-align: middle;\n",
       "    }\n",
       "\n",
       "    .dataframe tbody tr th {\n",
       "        vertical-align: top;\n",
       "    }\n",
       "\n",
       "    .dataframe thead th {\n",
       "        text-align: right;\n",
       "    }\n",
       "</style>\n",
       "<table border=\"1\" class=\"dataframe\">\n",
       "  <thead>\n",
       "    <tr style=\"text-align: right;\">\n",
       "      <th></th>\n",
       "      <th>list</th>\n",
       "      <th>userID</th>\n",
       "    </tr>\n",
       "  </thead>\n",
       "  <tbody>\n",
       "    <tr>\n",
       "      <th>0</th>\n",
       "      <td>[[0, 672, 2016-08-25]]</td>\n",
       "      <td>0</td>\n",
       "    </tr>\n",
       "    <tr>\n",
       "      <th>1</th>\n",
       "      <td>[[1, 428, 2016-08-19], [1, 44, 2016-09-01], [1...</td>\n",
       "      <td>1</td>\n",
       "    </tr>\n",
       "    <tr>\n",
       "      <th>2</th>\n",
       "      <td>[[2, 892, 2016-08-11]]</td>\n",
       "      <td>2</td>\n",
       "    </tr>\n",
       "    <tr>\n",
       "      <th>3</th>\n",
       "      <td>[[3, 1257, 2016-08-06], [3, 2318, 2016-08-10],...</td>\n",
       "      <td>3</td>\n",
       "    </tr>\n",
       "    <tr>\n",
       "      <th>4</th>\n",
       "      <td>[[4, 108, 2016-08-10]]</td>\n",
       "      <td>4</td>\n",
       "    </tr>\n",
       "  </tbody>\n",
       "</table>\n",
       "</div>"
      ],
      "text/plain": [
       "                                                list  userID\n",
       "0                             [[0, 672, 2016-08-25]]       0\n",
       "1  [[1, 428, 2016-08-19], [1, 44, 2016-09-01], [1...       1\n",
       "2                             [[2, 892, 2016-08-11]]       2\n",
       "3  [[3, 1257, 2016-08-06], [3, 2318, 2016-08-10],...       3\n",
       "4                             [[4, 108, 2016-08-10]]       4"
      ]
     },
     "execution_count": 30,
     "metadata": {},
     "output_type": "execute_result"
    }
   ],
   "source": [
    "stat_clicks.head()"
   ]
  },
  {
   "cell_type": "markdown",
   "metadata": {},
   "source": [
    "**4.** Для каждого объекта обучающей выборке (objects) создайте следующие признаки:\n",
    "- сколько было кликов по этой категории\n",
    "- сколько было различных пользователей, кликнувших по этой категори\n",
    "- топ 5 которые встречались с данной категорией category_with_category_cnt: их кодируем встречаемостью всех кликов\n",
    "- топ 5 самых крутых категорий по пользователю, закодированных числом кликов по ней со всей выборки\n",
    "- 5 OHE-фичей (кликал ли пользователь 5 популярным)\n",
    "\n",
    "Обучите xgboost."
   ]
  },
  {
   "cell_type": "code",
   "execution_count": 51,
   "metadata": {},
   "outputs": [],
   "source": [
    "X_train_feats = []\n",
    "\n",
    "for cat_id, user_id in objects:\n",
    "    \n",
    "    features_train  = []\n",
    "    # фичи по категории\n",
    "    features_train.append(clicks_on_category[cat_id]) #сколько было кликов по этой категории\n",
    "    features_train.append(users_on_category_dict.get(cat_id, 0)) #сколько было различных пользователей, кликнувших по этой категории\n",
    "    #топ 5 которые встречались с данной категорией category_with_category_cnt: их кодируем встречаемостью всех кликов\n",
    "    c_l = category_with_category_cnt.get(cat_id, popular_cats)\n",
    "    if len(c_l) < 5:\n",
    "        c_l = popular_cats\n",
    "    features_train.extend([clicks_on_category.get(c_id, 0) for c_id in c_l])\n",
    "    \n",
    "    # фичи по пользователю\n",
    "    # топ 5 самых крутых по пользователю\n",
    "    all_cats = [el[0] for el in Counter(categories_on_users[user_id]).most_common(5)]\n",
    "    i = 0\n",
    "    for c in all_cats:\n",
    "        # число пользователей, которые хоть раз кликнули по этой же категории\n",
    "        features_train.append(users_on_category_dict[c])\n",
    "        i+=1\n",
    "    while i < 5:\n",
    "        features_train.append(0)\n",
    "        i+=1\n",
    "        \n",
    "    # есть ли у этого пользователя категории из топ 5\n",
    "    for c in popular_cats:\n",
    "        features_train.append(int(c in categories_on_users[user_id]))\n",
    "        \n",
    "    X_train_feats.append(features_train)\n",
    "    \n",
    "X_train_feats = np.array(X_train_feats)"
   ]
  },
  {
   "cell_type": "code",
   "execution_count": 53,
   "metadata": {},
   "outputs": [],
   "source": [
    "from sklearn.ensemble import GradientBoostingClassifier\n",
    "gb = GradientBoostingClassifier().fit(X_train_feats, np.array(targets))"
   ]
  },
  {
   "cell_type": "code",
   "execution_count": null,
   "metadata": {},
   "outputs": [],
   "source": []
  },
  {
   "cell_type": "markdown",
   "metadata": {},
   "source": [
    "**5.** Теперь сделаем предсказание для каждого user_id  и каждой категории.\n",
    "- создайте список всех категорий, для которой мы хотим предсказывать (внутри каждого пользователя)\n",
    "- напишите функцию которая по user_id будет генерировать признаковое описание для каждой возможной категории"
   ]
  },
  {
   "cell_type": "code",
   "execution_count": 56,
   "metadata": {
    "collapsed": true
   },
   "outputs": [],
   "source": [
    "test_clicks_list = test_clicks.groupby('user_id')['category_id'].apply(list)"
   ]
  },
  {
   "cell_type": "code",
   "execution_count": 57,
   "metadata": {
    "collapsed": true
   },
   "outputs": [],
   "source": [
    "# все категории, для которой мы хотим предсказывать (внутри каждого пользователя)\n",
    "categories_to_pred = np.unique(clicks.category_id.values)"
   ]
  },
  {
   "cell_type": "code",
   "execution_count": 58,
   "metadata": {
    "collapsed": true
   },
   "outputs": [],
   "source": [
    "def get_features(user_id, cat_id):\n",
    "\n",
    "    features_train  = []\n",
    "    # фичи по категории\n",
    "    features_train.append(clicks_on_category[cat_id]) #сколько было кликов по этой категории\n",
    "    features_train.append(users_on_category_dict.get(cat_id, 0)) #сколько было различных пользователей, кликнувших по этой категории\n",
    "    #топ 5 которые встречались с данной категорией category_with_category_cnt: их кодируем встречаемостью всех кликов\n",
    "    c_l = category_with_category_cnt.get(cat_id, popular_cats)\n",
    "    if len(c_l) < 5:\n",
    "        c_l = popular_cats\n",
    "    features_train.extend([clicks_on_category.get(c_id, 0) for c_id in c_l])\n",
    "\n",
    "    # фичи по пользователю\n",
    "    # топ 5 самых крутых по пользователю\n",
    "    all_cats = [el[0] for el in Counter(categories_on_users[user_id]).most_common(5)]\n",
    "    i = 0\n",
    "    for c in all_cats:\n",
    "        # число пользователей, которые хоть раз кликнули по этой же категории\n",
    "        features_train.append(users_on_category_dict[c])\n",
    "        i+=1\n",
    "    while i < 5:\n",
    "        features_train.append(0)\n",
    "        i+=1\n",
    "\n",
    "    # есть ли у этого пользователя категории из топ 5\n",
    "    for c in popular_cats:\n",
    "        features_train.append(int(c in categories_on_users[user_id]))\n",
    "\n",
    "    return features_train"
   ]
  },
  {
   "cell_type": "code",
   "execution_count": 59,
   "metadata": {},
   "outputs": [],
   "source": [
    "def get_prediction(user_id):\n",
    "    X_test_gen = np.array([get_features(user_id, c_id) for c_id in categories_to_pred])\n",
    "    pred = gb.predict_proba(X_test_gen)[:, 1]\n",
    "    ind = np.argpartition(pred, -5)[-5:] # индексы категорий\n",
    "    return categories_to_pred[ind]\n",
    "\n",
    "import heapq\n",
    "# для оптимизации использовать heapq\n",
    "# heapq.nlargest(5, zp(categories_to_pred, pred), key=1)"
   ]
  },
  {
   "cell_type": "code",
   "execution_count": 60,
   "metadata": {},
   "outputs": [
    {
     "data": {
      "text/plain": [
       "array([120, 253, 440, 826, 672])"
      ]
     },
     "execution_count": 60,
     "metadata": {},
     "output_type": "execute_result"
    }
   ],
   "source": [
    "get_prediction(100)"
   ]
  },
  {
   "cell_type": "markdown",
   "metadata": {},
   "source": [
    "**6.** Смотрим качество:"
   ]
  },
  {
   "cell_type": "code",
   "execution_count": 65,
   "metadata": {},
   "outputs": [],
   "source": [
    "m = []\n",
    "for user_id, arr in zip(test_clicks_list.index, test_clicks_list)[1800:2000]:\n",
    "    actual = test_clicks_list.loc[user_id]\n",
    "    predicted = get_prediction(user_id)\n",
    "    m.append(apk(actual, predicted, 5))"
   ]
  },
  {
   "cell_type": "code",
   "execution_count": 66,
   "metadata": {},
   "outputs": [
    {
     "data": {
      "text/plain": [
       "0.047325"
      ]
     },
     "execution_count": 66,
     "metadata": {},
     "output_type": "execute_result"
    }
   ],
   "source": [
    "np.mean(m)"
   ]
  },
  {
   "cell_type": "markdown",
   "metadata": {},
   "source": [
    "Какие фичи еще можно исопльзовать?\n",
    "\n",
    "- временные: день недели играет большую роль (в выходные и праздничные дни пользователи ведут себя не так, как в будние)\n",
    "- признаки по пользователю и категории с учетом времени (просматривал ли пользователь эту категорию неделю назад, 2 недели назад и т.д.)"
   ]
  },
  {
   "cell_type": "markdown",
   "metadata": {},
   "source": []
  }
 ],
 "metadata": {
  "kernelspec": {
   "display_name": "Python 3",
   "language": "python",
   "name": "python3"
  },
  "language_info": {
   "codemirror_mode": {
    "name": "ipython",
    "version": 3
   },
   "file_extension": ".py",
   "mimetype": "text/x-python",
   "name": "python",
   "nbconvert_exporter": "python",
   "pygments_lexer": "ipython3",
   "version": "3.6.4"
  }
 },
 "nbformat": 4,
 "nbformat_minor": 2
}
