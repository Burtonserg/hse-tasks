{
 "cells": [
  {
   "cell_type": "code",
   "execution_count": 3,
   "metadata": {
    "collapsed": true
   },
   "outputs": [],
   "source": [
    "import requests\n",
    "import networkx\n",
    "import time\n",
    "import collections\n",
    "import matplotlib.pyplot as plt\n",
    "import networkx as nx\n",
    "%matplotlib inline\n",
    "import json"
   ]
  },
  {
   "cell_type": "markdown",
   "metadata": {},
   "source": [
    "Как получить токен?\n",
    "\n",
    "- заходите в вк, нажимаете внизу \"разработчикам\"\n",
    "- нажимаете \"мои приложения\" в верхнем меню \n",
    "- \"создать приложние\"\n",
    "- выбираете standalone приложение, называете его как-нибудь, ждете смс\n",
    "- снова заходите в вк, нажимаете внизу \"разработчикам\"\n",
    "- нажимаете \"мои приложения\" в верхнем меню \n",
    "- находите свое приложение\n",
    "- кликаете \"редактировать\"\n",
    "- в левом меню \"настройки\"\n",
    "- копируете \"сервисный ключ доступа\" - это и есть токен доступа\n",
    "\n",
    "Как получить свой айди?\n",
    "- заходите в вк\n",
    "- настройки\n",
    "- адрес страницы\n",
    "\n",
    "\n",
    "Как получить версию?\n",
    "- заходите в вк, нажимаете внизу \"разработчикам\"\n",
    "- нажимаете \"документация\" в верхнем меню \n",
    "- выбираете в левом меню \"версия api\", берете верхнюю"
   ]
  },
  {
   "cell_type": "markdown",
   "metadata": {},
   "source": [
    "Положите в config свой user_id, access_token, version"
   ]
  },
  {
   "cell_type": "code",
   "execution_count": 4,
   "metadata": {},
   "outputs": [],
   "source": [
    "def get_config(filename):\n",
    "    with open(filename) as f:\n",
    "        config = json.load(f)\n",
    "    return config\n",
    "        \n",
    "        \n",
    "config = get_config('config.json')\n",
    "      \n",
    "access_token = config['access_token']\n",
    "version = config['version']\n",
    "user_id = config['user_id']"
   ]
  },
  {
   "cell_type": "code",
   "execution_count": null,
   "metadata": {
    "collapsed": true
   },
   "outputs": [],
   "source": []
  },
  {
   "cell_type": "markdown",
   "metadata": {},
   "source": [
    "Для выполнения вам потребутеся библиотека networkx. Изучите ее возможности"
   ]
  },
  {
   "cell_type": "code",
   "execution_count": 5,
   "metadata": {
    "collapsed": true
   },
   "outputs": [],
   "source": [
    "# функция возвращает список друзей\n",
    "def get_friends_ids(user_id, version, access_token):\n",
    "    friends_url = 'https://api.vk.com/method/friends.get?user_id={}&v={}&access_token={}' \n",
    "    json_response = requests.get(friends_url.format(user_id, version, access_token)).json()\n",
    "    if json_response.get('error'):\n",
    "        return list()\n",
    "    return json_response[u'response'][u'items']"
   ]
  },
  {
   "cell_type": "markdown",
   "metadata": {},
   "source": [
    "Создайте словарь, где ключом является один из ваших друзей, а знаечнием - список id его другей"
   ]
  },
  {
   "cell_type": "code",
   "execution_count": 6,
   "metadata": {
    "collapsed": true
   },
   "outputs": [],
   "source": [
    "graph = {}\n",
    "# ваш user id, для которого вы хотите построить граф друзей.\n",
    "friend_ids = get_friends_ids(user_id, version, access_token)  \n",
    "# YOUR CODE IS HERE"
   ]
  },
  {
   "cell_type": "markdown",
   "metadata": {},
   "source": [
    "Далее вам надо создать граф, вершинами которого являются ваши друзья, а ребрами - дружественные свзяи между ними"
   ]
  },
  {
   "cell_type": "code",
   "execution_count": 10,
   "metadata": {
    "collapsed": true
   },
   "outputs": [],
   "source": [
    "g = networkx.Graph(directed=False)"
   ]
  },
  {
   "cell_type": "code",
   "execution_count": 11,
   "metadata": {
    "collapsed": true
   },
   "outputs": [],
   "source": [
    "# соединяем друзей дружащих друг с другом\n",
    "# YOUR CODE IS HERE"
   ]
  },
  {
   "cell_type": "markdown",
   "metadata": {},
   "source": [
    "Сколько друзей получилось в графе?"
   ]
  },
  {
   "cell_type": "code",
   "execution_count": 12,
   "metadata": {},
   "outputs": [],
   "source": [
    "# YOUR CODE IS HERE"
   ]
  },
  {
   "cell_type": "code",
   "execution_count": 13,
   "metadata": {
    "collapsed": true
   },
   "outputs": [],
   "source": [
    "# сохраняем\n",
    "networkx.write_gml(g, 'network_friends.gml')"
   ]
  },
  {
   "cell_type": "markdown",
   "metadata": {},
   "source": [
    "Можем считать при необходимости"
   ]
  },
  {
   "cell_type": "code",
   "execution_count": 15,
   "metadata": {
    "collapsed": true
   },
   "outputs": [],
   "source": [
    "g = nx.read_gml('network_friends.gml')"
   ]
  },
  {
   "cell_type": "markdown",
   "metadata": {},
   "source": [
    "Нарисуйте гистограмму степеней вершин, какое это распределение?"
   ]
  },
  {
   "cell_type": "code",
   "execution_count": 14,
   "metadata": {},
   "outputs": [],
   "source": [
    "# YOUR CODE IS HERE"
   ]
  },
  {
   "cell_type": "code",
   "execution_count": null,
   "metadata": {},
   "outputs": [],
   "source": [
    "plt.xkcd()\n",
    "k = nx.degree(g)\n",
    "\n",
    "plt.figure(1, figsize=(10,7))\n",
    "coord = nx.spring_layout(g)\n",
    "nx.draw_networkx(g,\n",
    "                 pos=coord,\n",
    "                 nodelist=k.keys(),\n",
    "                 node_size = [d*100 for d in list(k.values())],\n",
    "                 node_color=list(k.values()),\n",
    "                 font_size=8,\n",
    "                 cmap=plt.cm.Reds,\n",
    "                 with_labels=True\n",
    "                 )"
   ]
  },
  {
   "cell_type": "code",
   "execution_count": 18,
   "metadata": {
    "collapsed": true
   },
   "outputs": [],
   "source": [
    "url  = u'https://api.vk.com/method/friends.get?user_id={}&fields=uids&access_token={}&v={}'\\\n",
    "    .format(user_id, access_token, version)\n",
    "data  = requests.get(url).json()\n",
    "\n",
    "d = {}\n",
    "for el in data['response']['items']:\n",
    "    d[el['id']] = '{} {}'.format(el['first_name'], el['last_name'])"
   ]
  },
  {
   "cell_type": "markdown",
   "metadata": {},
   "source": [
    "Теперь в словарике лежит ключ (номер ноды), значение (имя фамилия)"
   ]
  },
  {
   "cell_type": "markdown",
   "metadata": {},
   "source": [
    "Для применения метода спектральной кластеризации необходимо оставить одну  связную компоненту (самую большу/).\n",
    "Почему? Что произойдет, если мы подадим несколько компонент связности?"
   ]
  },
  {
   "cell_type": "markdown",
   "metadata": {},
   "source": [
    "Найдите число компонент связности в вашем графе"
   ]
  },
  {
   "cell_type": "code",
   "execution_count": null,
   "metadata": {},
   "outputs": [],
   "source": [
    "# YOUR CODE IS HERE"
   ]
  },
  {
   "cell_type": "markdown",
   "metadata": {},
   "source": [
    "Выделите самую большую компоненту каким-нибудь способом. Создайте новый граф с ней."
   ]
  },
  {
   "cell_type": "code",
   "execution_count": 22,
   "metadata": {
    "collapsed": true
   },
   "outputs": [],
   "source": [
    "# YOUR CODE IS HERE"
   ]
  },
  {
   "cell_type": "code",
   "execution_count": null,
   "metadata": {},
   "outputs": [],
   "source": []
  },
  {
   "cell_type": "code",
   "execution_count": 21,
   "metadata": {},
   "outputs": [],
   "source": [
    "\n",
    "plt.xkcd()\n",
    "k = nx.degree(g_new)\n",
    "\n",
    "plt.figure(1, figsize=(15,15))\n",
    "coord = nx.spring_layout(g_new)\n",
    "nx.draw_networkx(g_new,\n",
    "                 pos=coord,\n",
    "                 nodelist=k.keys(),\n",
    "                 node_size = [d*100 for d in k.values()],\n",
    "                 node_color=k.values(),\n",
    "                 font_size=8,\n",
    "                 cmap=plt.cm.Reds, # plt.get_cmap('viridis')\n",
    "                 #with_labels=True\n",
    "                 )"
   ]
  },
  {
   "cell_type": "code",
   "execution_count": null,
   "metadata": {
    "collapsed": true
   },
   "outputs": [],
   "source": []
  },
  {
   "cell_type": "markdown",
   "metadata": {},
   "source": [
    "Теперь \n",
    "- создадим матрицу смежности\n",
    "- воспользуемся модель spectral_clustering http://scikit-learn.org/stable/modules/generated/sklearn.cluster.spectral_clustering.html#sklearn.cluster.spectral_clustering"
   ]
  },
  {
   "cell_type": "code",
   "execution_count": 42,
   "metadata": {
    "collapsed": true
   },
   "outputs": [],
   "source": [
    "matr = # YOUR CODE IS HERE\n"
   ]
  },
  {
   "cell_type": "code",
   "execution_count": null,
   "metadata": {},
   "outputs": [],
   "source": [
    "from sklearn.cluster import SpectralClustering, spectral_clustering\n",
    "sc = # YOUR CODE IS HERE"
   ]
  },
  {
   "cell_type": "markdown",
   "metadata": {},
   "source": [
    "Выделите сообщества. Получилось ли обнаружить кластера одногруппников, одноклассников, однокурсников по музыкальной школе, родственников и т.п.?"
   ]
  },
  {
   "cell_type": "code",
   "execution_count": null,
   "metadata": {},
   "outputs": [],
   "source": [
    "# YOUR CODE IS HERE"
   ]
  },
  {
   "cell_type": "code",
   "execution_count": null,
   "metadata": {
    "collapsed": true
   },
   "outputs": [],
   "source": []
  }
 ],
 "metadata": {
  "anaconda-cloud": {},
  "kernelspec": {
   "display_name": "Python [conda env:Anaconda3]",
   "language": "python",
   "name": "conda-env-Anaconda3-py"
  },
  "language_info": {
   "codemirror_mode": {
    "name": "ipython",
    "version": 3
   },
   "file_extension": ".py",
   "mimetype": "text/x-python",
   "name": "python",
   "nbconvert_exporter": "python",
   "pygments_lexer": "ipython3",
   "version": "3.5.5"
  }
 },
 "nbformat": 4,
 "nbformat_minor": 2
}
