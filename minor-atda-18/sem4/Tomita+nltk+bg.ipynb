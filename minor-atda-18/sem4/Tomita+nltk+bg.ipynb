{
 "cells": [
  {
   "cell_type": "markdown",
   "metadata": {},
   "source": [
    "Быстрый опрос - https://goo.gl/forms/GlOLuK3af7dnmZBl2"
   ]
  },
  {
   "cell_type": "markdown",
   "metadata": {},
   "source": [
    "# Ключевые слова в текстах про Трампа\n",
    "## Самые частые леммы без стоп-слов"
   ]
  },
  {
   "cell_type": "code",
   "execution_count": 3,
   "metadata": {
    "collapsed": true
   },
   "outputs": [],
   "source": [
    "s = ''\n",
    "with open('./2.txt', encoding='utf8') as infile: # в 2.txt лежат 100 текстов про Трампа\n",
    "    for line in infile:\n",
    "        s += line.strip() + ' '"
   ]
  },
  {
   "cell_type": "code",
   "execution_count": 4,
   "metadata": {},
   "outputs": [
    {
     "data": {
      "text/plain": [
       "[('трамп', 595),\n",
       " ('президент', 491),\n",
       " ('год', 441),\n",
       " ('который', 428),\n",
       " ('инаугурация', 358),\n",
       " ('сша', 352),\n",
       " ('дональд', 316),\n",
       " ('один', 284),\n",
       " ('россия', 251),\n",
       " ('наш', 223),\n",
       " ('январь', 212),\n",
       " ('это', 198),\n",
       " ('российский', 192),\n",
       " ('время', 184),\n",
       " ('свой', 179),\n",
       " ('быть', 179),\n",
       " ('страна', 173),\n",
       " ('стать', 161),\n",
       " ('человек', 140),\n",
       " ('день', 133)]"
      ]
     },
     "execution_count": 4,
     "metadata": {},
     "output_type": "execute_result"
    }
   ],
   "source": [
    "import nltk\n",
    "import re\n",
    "prog = re.compile('[А-Яа-я]+')\n",
    "l1 = prog.findall(s.lower())\n",
    "import pymorphy2\n",
    "morph = pymorphy2.MorphAnalyzer()\n",
    "from nltk.corpus import stopwords\n",
    "l3 = [morph.parse(token)[0].normal_form for token in l1 if not token in stopwords.words('russian')]\n",
    "d3 = nltk.FreqDist(l3)\n",
    "d3.most_common(20)"
   ]
  },
  {
   "cell_type": "markdown",
   "metadata": {},
   "source": [
    "## Частоты словосочетаний по шаблону ПРИЛ+СУЩ"
   ]
  },
  {
   "cell_type": "code",
   "execution_count": 6,
   "metadata": {
    "collapsed": true
   },
   "outputs": [],
   "source": [
    "s = []\n",
    "with open('trump.txt', encoding='utf8') as infile: # в trump.txt лежат словосочетания, найденные Томита-парсером\n",
    "    for line in infile:\n",
    "        s.append(line[:-1].lower())"
   ]
  },
  {
   "cell_type": "code",
   "execution_count": 7,
   "metadata": {},
   "outputs": [
    {
     "name": "stdout",
     "output_type": "stream",
     "text": [
      "<FreqDist with 1682 samples and 6583 outcomes>\n"
     ]
    },
    {
     "data": {
      "text/plain": [
       "[('избранный президент', 87),\n",
       " ('-ый президент', 70),\n",
       " ('белый дом', 69),\n",
       " ('прямая трансляция', 43),\n",
       " ('наша страна', 31),\n",
       " ('этот год', 31),\n",
       " ('соединенный штат', 28),\n",
       " ('новый президент', 27),\n",
       " ('конституционный суд', 25),\n",
       " ('прошлый год', 23),\n",
       " ('предвыборная кампания', 21),\n",
       " ('ближайшее время', 21),\n",
       " ('весь мир', 21),\n",
       " ('опасное вождение', 20),\n",
       " ('новая администрация', 20),\n",
       " ('демократическая партия', 19),\n",
       " ('весь вид', 16),\n",
       " ('один пациент', 15),\n",
       " ('российская газета', 15),\n",
       " ('последний год', 15),\n",
       " ('уходящий президент', 15),\n",
       " ('второе чтение', 15),\n",
       " ('главный врач', 15),\n",
       " ('инаугурационная речь', 14),\n",
       " ('овальный кабинет', 14),\n",
       " ('-ой президент', 13),\n",
       " ('верховный суд', 13),\n",
       " ('первый день', 13),\n",
       " ('инаугурационный бал', 13),\n",
       " ('своя речь', 13),\n",
       " ('верхняя палата', 13),\n",
       " ('наш ребенок', 12),\n",
       " ('сия пора', 12),\n",
       " ('сенатский комитет', 12),\n",
       " ('внешняя политика', 12),\n",
       " ('исламское государство', 12),\n",
       " ('эта страна', 11),\n",
       " ('кредитная организация', 10),\n",
       " ('самое сердце', 10),\n",
       " ('польская полиция', 10),\n",
       " ('управляющий партнер', 10),\n",
       " ('единая россия', 10),\n",
       " ('первый шаг', 10),\n",
       " ('районный суд', 10),\n",
       " ('все остальное', 10),\n",
       " ('экономический союз', 10),\n",
       " ('национальная валюта', 10),\n",
       " ('обанкротившееся первое', 10),\n",
       " ('значительная часть', 10),\n",
       " ('эксклюзивное интервью', 10)]"
      ]
     },
     "execution_count": 7,
     "metadata": {},
     "output_type": "execute_result"
    }
   ],
   "source": [
    "import nltk\n",
    "d1 = nltk.FreqDist(s)\n",
    "print (d1)\n",
    "d1.most_common(50)"
   ]
  },
  {
   "cell_type": "markdown",
   "metadata": {
    "collapsed": true
   },
   "source": [
    "## Самые частые биграммы\n",
    "(без POS-теггинга, лемматизации и мер связности)"
   ]
  },
  {
   "cell_type": "code",
   "execution_count": 8,
   "metadata": {
    "collapsed": true
   },
   "outputs": [],
   "source": [
    "bg = list(nltk.bigrams(l1))"
   ]
  },
  {
   "cell_type": "code",
   "execution_count": 9,
   "metadata": {},
   "outputs": [
    {
     "data": {
      "text/plain": [
       "[(('дональд', 'трамп'), 165),\n",
       " (('дональда', 'трампа'), 133),\n",
       " (('президента', 'сша'), 125),\n",
       " (('в', 'году'), 87),\n",
       " (('в', 'россии'), 68),\n",
       " (('избранного', 'президента'), 59),\n",
       " (('инаугурация', 'трампа'), 55),\n",
       " (('го', 'президента'), 55),\n",
       " (('москва', 'января'), 51),\n",
       " (('по', 'делу'), 50),\n",
       " (('в', 'должность'), 47),\n",
       " (('об', 'этом'), 46),\n",
       " (('в', 'отношении'), 45),\n",
       " (('из', 'за'), 45),\n",
       " (('в', 'вашингтоне'), 45),\n",
       " (('президент', 'сша'), 44),\n",
       " (('и', 'в'), 40),\n",
       " (('млрд', 'руб'), 40),\n",
       " (('во', 'время'), 39),\n",
       " (('трамп', 'инаугурация'), 38)]"
      ]
     },
     "execution_count": 9,
     "metadata": {},
     "output_type": "execute_result"
    }
   ],
   "source": [
    "bgfd = nltk.FreqDist(bg)\n",
    "bgfd.most_common(20)"
   ]
  },
  {
   "cell_type": "code",
   "execution_count": null,
   "metadata": {
    "collapsed": true
   },
   "outputs": [],
   "source": []
  }
 ],
 "metadata": {
  "kernelspec": {
   "display_name": "Python [default]",
   "language": "python",
   "name": "python3"
  },
  "language_info": {
   "codemirror_mode": {
    "name": "ipython",
    "version": 3
   },
   "file_extension": ".py",
   "mimetype": "text/x-python",
   "name": "python",
   "nbconvert_exporter": "python",
   "pygments_lexer": "ipython3",
   "version": "3.5.4"
  }
 },
 "nbformat": 4,
 "nbformat_minor": 2
}
