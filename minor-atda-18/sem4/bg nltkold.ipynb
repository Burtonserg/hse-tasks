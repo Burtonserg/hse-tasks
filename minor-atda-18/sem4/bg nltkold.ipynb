{
 "cells": [
  {
   "cell_type": "code",
   "execution_count": 1,
   "metadata": {
    "collapsed": true
   },
   "outputs": [],
   "source": [
    "import pandas as pd\n",
    "import nltk\n",
    "import seaborn as sns\n",
    "%matplotlib inline"
   ]
  },
  {
   "cell_type": "markdown",
   "metadata": {},
   "source": [
    "## Извлечением ключевых биграм по мерам ассоциации \n",
    "\n",
    "Предобработка: соединим все 2800 текстов в один, приведем к нижнему регистру, лемматизируем удалим стоп-слова.\n",
    "После закомментированного импортируется предобработанный таким образом список из файла filem.txt"
   ]
  },
  {
   "cell_type": "code",
   "execution_count": 2,
   "metadata": {
    "collapsed": true
   },
   "outputs": [],
   "source": [
    "# s1 = ''\n",
    "\n",
    "# for i in range (1,28):\n",
    "#     with open('../sem5/data/'+str(i)+'.txt') as infile:\n",
    "#         for line in infile:\n",
    "#             s1 += line.strip() + ' '"
   ]
  },
  {
   "cell_type": "code",
   "execution_count": 3,
   "metadata": {
    "collapsed": true
   },
   "outputs": [],
   "source": [
    "# from nltk.corpus import stopwords\n",
    "# mystopwords = stopwords.words('russian') + stopwords.words('english') + stopwords.words('german')\n",
    "# mystopwords += ['это', 'наш', 'т', 'д', 'этот', 'который', 'свой', 'наш', 'мой', 'твой', 'тот', 'делать', 'друг', 'сделать', \n",
    "#                 'любой', 'каждый', 'самый', 'хотеть', 'мочь', 'ваш', 'сей', 'весь', 'очень', 'день', 'год', 'м',\n",
    "#                'ч', 'руб', 'л', 'например', 'становиться', 'http', 'www', 'https', 'vk', 'vkontakte', 'vk', 'com', 'ru',\n",
    "#                'январь', 'февраль','март','апрель','май','июнь','июль','август','сентябрь','октябрь','ноябрь','декабрь']  \n"
   ]
  },
  {
   "cell_type": "code",
   "execution_count": 4,
   "metadata": {
    "collapsed": true
   },
   "outputs": [],
   "source": [
    "# l1 = prog.findall(s1.lower())\n",
    "# import pymorphy2\n",
    "# morph = pymorphy2.MorphAnalyzer()\n",
    "# l3 = [morph.parse(token)[0].normal_form for token in l1 if not morph.parse(token)[0].normal_form in mystopwords]\n",
    "# print(len(l3))"
   ]
  },
  {
   "cell_type": "code",
   "execution_count": 5,
   "metadata": {
    "collapsed": true
   },
   "outputs": [],
   "source": [
    "# f3 = open( 'filel3.txt', 'w' )\n",
    "# for item in l3:\n",
    "#     f3.write(\"%s\\n\" % item)\n",
    "# f3.close()"
   ]
  },
  {
   "cell_type": "code",
   "execution_count": 6,
   "metadata": {
    "collapsed": true
   },
   "outputs": [],
   "source": [
    "# short3 = []\n",
    "# for t in l3:\n",
    "#     if len(t)>2 and len(t)<4 :\n",
    "#         short3.append(t)\n",
    "# dd = nltk.FreqDist(short3)"
   ]
  },
  {
   "cell_type": "code",
   "execution_count": 7,
   "metadata": {
    "collapsed": true
   },
   "outputs": [],
   "source": [
    "# m = []\n",
    "# for t in l3:\n",
    "#     if len(t)>2 or t in ['рф']:\n",
    "#         if t not in ['ещё','оно','авг','род','чей','скр','офф','вне','бур','ред','бел', 'июн','вод','спч’,’кой','нци','аба','льн','хдс’,’аль','ммс','вит','зад','тью','имп','тий', 'ишл', 'нуть','кий', 'нный','отч']:\n",
    "#             m.append(t)\n",
    "# print (len(m))"
   ]
  },
  {
   "cell_type": "code",
   "execution_count": 8,
   "metadata": {
    "collapsed": true
   },
   "outputs": [],
   "source": [
    "# filem = open( 'filem.txt', 'w' )\n",
    "# for item in m:\n",
    "#     filem.write(\"%s\\n\" % item)\n",
    "# filem.close()"
   ]
  },
  {
   "cell_type": "code",
   "execution_count": 9,
   "metadata": {
    "collapsed": true
   },
   "outputs": [],
   "source": [
    "m = []\n",
    "with open('./filem.txt') as infile:\n",
    "    for line in infile:\n",
    "        m.append(line[:-1])"
   ]
  },
  {
   "cell_type": "markdown",
   "metadata": {},
   "source": [
    "Извлечем топ-100 биграм по 4 мерам связности: \n",
    "* $ t-score $ \n",
    "* $ PMI $\n",
    "* $ \\chi^2 $\n",
    "* $ LLR $\n"
   ]
  },
  {
   "cell_type": "code",
   "execution_count": 10,
   "metadata": {},
   "outputs": [
    {
     "name": "stdout",
     "output_type": "stream",
     "text": [
      "CPU times: user 5.69 s, sys: 142 ms, total: 5.83 s\n",
      "Wall time: 6.18 s\n"
     ]
    }
   ],
   "source": [
    "%%time \n",
    "from nltk.collocations import *\n",
    "N_best = 100 # число извлекаемых биграм\n",
    "\n",
    "bigram_measures = nltk.collocations.BigramAssocMeasures() # класс для мер ассоциации биграм\n",
    "finder = BigramCollocationFinder.from_words(m) # класс для хранения и извлечения биграм\n",
    "finder.apply_freq_filter(15) # избавимся от биграм, которые встречаются реже 15 раз\n",
    "raw_freq_ranking = [' '.join(i) for i in finder.nbest(bigram_measures.raw_freq, N_best)] # выбираем топ-10 биграм по частоте \n",
    "tscore_ranking = [' '.join(i) for i in finder.nbest(bigram_measures.student_t, N_best)] # выбираем топ-100 биграм по каждой мере \n",
    "pmi_ranking =  [' '.join(i) for i in finder.nbest(bigram_measures.pmi, N_best)]\n",
    "llr_ranking = [' '. join(i) for i in finder.nbest(bigram_measures.likelihood_ratio, N_best)]\n",
    "chi2_ranking =  [' '.join(i) for i in finder.nbest(bigram_measures.chi_sq, N_best)]"
   ]
  },
  {
   "cell_type": "markdown",
   "metadata": {},
   "source": [
    "Сравним между собой топ-20 биграмм по каждой мере."
   ]
  },
  {
   "cell_type": "code",
   "execution_count": 11,
   "metadata": {},
   "outputs": [
    {
     "data": {
      "text/html": [
       "<div>\n",
       "<style>\n",
       "    .dataframe thead tr:only-child th {\n",
       "        text-align: right;\n",
       "    }\n",
       "\n",
       "    .dataframe thead th {\n",
       "        text-align: left;\n",
       "    }\n",
       "\n",
       "    .dataframe tbody tr th {\n",
       "        vertical-align: top;\n",
       "    }\n",
       "</style>\n",
       "<table border=\"1\" class=\"dataframe\">\n",
       "  <thead>\n",
       "    <tr style=\"text-align: right;\">\n",
       "      <th></th>\n",
       "      <th>raw_freq</th>\n",
       "      <th>pmi</th>\n",
       "      <th>t-score</th>\n",
       "      <th>chi2</th>\n",
       "      <th>llr</th>\n",
       "    </tr>\n",
       "  </thead>\n",
       "  <tbody>\n",
       "    <tr>\n",
       "      <th>0</th>\n",
       "      <td>владимир путин</td>\n",
       "      <td>насильственно помещать</td>\n",
       "      <td>владимир путин</td>\n",
       "      <td>кушелевый безбородко</td>\n",
       "      <td>владимир путин</td>\n",
       "    </tr>\n",
       "    <tr>\n",
       "      <th>1</th>\n",
       "      <td>прямая линия</td>\n",
       "      <td>петропавловск камчатский</td>\n",
       "      <td>прямая линия</td>\n",
       "      <td>оао ржд</td>\n",
       "      <td>прямая линия</td>\n",
       "    </tr>\n",
       "    <tr>\n",
       "      <th>2</th>\n",
       "      <td>дональд трамп</td>\n",
       "      <td>саманта пауэр</td>\n",
       "      <td>дональд трамп</td>\n",
       "      <td>пастина родион</td>\n",
       "      <td>риа новость</td>\n",
       "    </tr>\n",
       "    <tr>\n",
       "      <th>3</th>\n",
       "      <td>курортный сбор</td>\n",
       "      <td>саудовский аравия</td>\n",
       "      <td>курортный сбор</td>\n",
       "      <td>петропавловск камчатский</td>\n",
       "      <td>дональд трамп</td>\n",
       "    </tr>\n",
       "    <tr>\n",
       "      <th>4</th>\n",
       "      <td>риа новость</td>\n",
       "      <td>оао ржд</td>\n",
       "      <td>риа новость</td>\n",
       "      <td>рублево успенский</td>\n",
       "      <td>курортный сбор</td>\n",
       "    </tr>\n",
       "    <tr>\n",
       "      <th>5</th>\n",
       "      <td>премьер министр</td>\n",
       "      <td>межпозвоночный остеохондроз</td>\n",
       "      <td>премьер министр</td>\n",
       "      <td>сильвий гермона</td>\n",
       "      <td>исаакиевский собор</td>\n",
       "    </tr>\n",
       "    <tr>\n",
       "      <th>6</th>\n",
       "      <td>исаакиевский собор</td>\n",
       "      <td>пастина родион</td>\n",
       "      <td>исаакиевский собор</td>\n",
       "      <td>хирургия травматология</td>\n",
       "      <td>премьер министр</td>\n",
       "    </tr>\n",
       "    <tr>\n",
       "      <th>7</th>\n",
       "      <td>евгений евтушенко</td>\n",
       "      <td>рублево успенский</td>\n",
       "      <td>евгений евтушенко</td>\n",
       "      <td>черепный мозговой</td>\n",
       "      <td>санкт петербург</td>\n",
       "    </tr>\n",
       "    <tr>\n",
       "      <th>8</th>\n",
       "      <td>алексей навальный</td>\n",
       "      <td>капитолийский холм</td>\n",
       "      <td>алексей навальный</td>\n",
       "      <td>шинна фейн</td>\n",
       "      <td>евгений евтушенко</td>\n",
       "    </tr>\n",
       "    <tr>\n",
       "      <th>9</th>\n",
       "      <td>президент сша</td>\n",
       "      <td>сильвий гермона</td>\n",
       "      <td>президент сша</td>\n",
       "      <td>копеечка высчитывать</td>\n",
       "      <td>виталий чуркин</td>\n",
       "    </tr>\n",
       "    <tr>\n",
       "      <th>10</th>\n",
       "      <td>чемпионат мир</td>\n",
       "      <td>минтимер шаймиев</td>\n",
       "      <td>чемпионат мир</td>\n",
       "      <td>нью йорк</td>\n",
       "      <td>денис вороненков</td>\n",
       "    </tr>\n",
       "    <tr>\n",
       "      <th>11</th>\n",
       "      <td>виталий чуркин</td>\n",
       "      <td>копеечка высчитывать</td>\n",
       "      <td>виталий чуркин</td>\n",
       "      <td>саудовский аравия</td>\n",
       "      <td>чемпионат мир</td>\n",
       "    </tr>\n",
       "    <tr>\n",
       "      <th>12</th>\n",
       "      <td>санкт петербург</td>\n",
       "      <td>галстук виселица</td>\n",
       "      <td>санкт петербург</td>\n",
       "      <td>насильственно помещать</td>\n",
       "      <td>кубок конфедерация</td>\n",
       "    </tr>\n",
       "    <tr>\n",
       "      <th>13</th>\n",
       "      <td>денис вороненков</td>\n",
       "      <td>инженер конструктор</td>\n",
       "      <td>денис вороненков</td>\n",
       "      <td>лазить счётчик</td>\n",
       "      <td>алексей навальный</td>\n",
       "    </tr>\n",
       "    <tr>\n",
       "      <th>14</th>\n",
       "      <td>президент россия</td>\n",
       "      <td>хирургия травматология</td>\n",
       "      <td>акция протест</td>\n",
       "      <td>белые снега</td>\n",
       "      <td>тереза мэй</td>\n",
       "    </tr>\n",
       "    <tr>\n",
       "      <th>15</th>\n",
       "      <td>акция протест</td>\n",
       "      <td>шон спайсер</td>\n",
       "      <td>тысяча человек</td>\n",
       "      <td>саманта пауэр</td>\n",
       "      <td>нью йорк</td>\n",
       "    </tr>\n",
       "    <tr>\n",
       "      <th>16</th>\n",
       "      <td>президент рф</td>\n",
       "      <td>лазить счётчик</td>\n",
       "      <td>президент россия</td>\n",
       "      <td>цертум инвест</td>\n",
       "      <td>пресс секретарь</td>\n",
       "    </tr>\n",
       "    <tr>\n",
       "      <th>17</th>\n",
       "      <td>тысяча человек</td>\n",
       "      <td>кира ярмыш</td>\n",
       "      <td>президент рф</td>\n",
       "      <td>кристина орбакать</td>\n",
       "      <td>акция протест</td>\n",
       "    </tr>\n",
       "    <tr>\n",
       "      <th>18</th>\n",
       "      <td>кубок конфедерация</td>\n",
       "      <td>турнирный таблица</td>\n",
       "      <td>кубок конфедерация</td>\n",
       "      <td>кубок конфедерация</td>\n",
       "      <td>дэвид рокфеллер</td>\n",
       "    </tr>\n",
       "    <tr>\n",
       "      <th>19</th>\n",
       "      <td>глава государство</td>\n",
       "      <td>кушелевый безбородко</td>\n",
       "      <td>глава государство</td>\n",
       "      <td>межпозвоночный остеохондроз</td>\n",
       "      <td>миллиард рубль</td>\n",
       "    </tr>\n",
       "  </tbody>\n",
       "</table>\n",
       "</div>"
      ],
      "text/plain": [
       "              raw_freq                          pmi             t-score  \\\n",
       "0       владимир путин       насильственно помещать      владимир путин   \n",
       "1         прямая линия     петропавловск камчатский        прямая линия   \n",
       "2        дональд трамп                саманта пауэр       дональд трамп   \n",
       "3       курортный сбор            саудовский аравия      курортный сбор   \n",
       "4          риа новость                      оао ржд         риа новость   \n",
       "5      премьер министр  межпозвоночный остеохондроз     премьер министр   \n",
       "6   исаакиевский собор               пастина родион  исаакиевский собор   \n",
       "7    евгений евтушенко            рублево успенский   евгений евтушенко   \n",
       "8    алексей навальный           капитолийский холм   алексей навальный   \n",
       "9        президент сша              сильвий гермона       президент сша   \n",
       "10       чемпионат мир             минтимер шаймиев       чемпионат мир   \n",
       "11      виталий чуркин         копеечка высчитывать      виталий чуркин   \n",
       "12     санкт петербург             галстук виселица     санкт петербург   \n",
       "13    денис вороненков          инженер конструктор    денис вороненков   \n",
       "14    президент россия       хирургия травматология       акция протест   \n",
       "15       акция протест                  шон спайсер      тысяча человек   \n",
       "16        президент рф               лазить счётчик    президент россия   \n",
       "17      тысяча человек                   кира ярмыш        президент рф   \n",
       "18  кубок конфедерация            турнирный таблица  кубок конфедерация   \n",
       "19   глава государство         кушелевый безбородко   глава государство   \n",
       "\n",
       "                           chi2                 llr  \n",
       "0          кушелевый безбородко      владимир путин  \n",
       "1                       оао ржд        прямая линия  \n",
       "2                пастина родион         риа новость  \n",
       "3      петропавловск камчатский       дональд трамп  \n",
       "4             рублево успенский      курортный сбор  \n",
       "5               сильвий гермона  исаакиевский собор  \n",
       "6        хирургия травматология     премьер министр  \n",
       "7             черепный мозговой     санкт петербург  \n",
       "8                    шинна фейн   евгений евтушенко  \n",
       "9          копеечка высчитывать      виталий чуркин  \n",
       "10                     нью йорк    денис вороненков  \n",
       "11            саудовский аравия       чемпионат мир  \n",
       "12       насильственно помещать  кубок конфедерация  \n",
       "13               лазить счётчик   алексей навальный  \n",
       "14                  белые снега          тереза мэй  \n",
       "15                саманта пауэр            нью йорк  \n",
       "16                цертум инвест     пресс секретарь  \n",
       "17            кристина орбакать       акция протест  \n",
       "18           кубок конфедерация     дэвид рокфеллер  \n",
       "19  межпозвоночный остеохондроз      миллиард рубль  "
      ]
     },
     "execution_count": 11,
     "metadata": {},
     "output_type": "execute_result"
    }
   ],
   "source": [
    "rankings = pd.DataFrame({ 'chi2': chi2_ranking, 'llr':llr_ranking, 't-score' : tscore_ranking, 'pmi': pmi_ranking, 'raw_freq':raw_freq_ranking})\n",
    "rankings = rankings[['raw_freq', 'pmi', 't-score', 'chi2', 'llr']]\n",
    "rankings.head(20)"
   ]
  },
  {
   "cell_type": "markdown",
   "metadata": {},
   "source": [
    "Для более формального сравнения посчитаем ранговый коэффициент корреляции Спирмена на топ-100 биграммах:"
   ]
  },
  {
   "cell_type": "code",
   "execution_count": 12,
   "metadata": {},
   "outputs": [
    {
     "name": "stderr",
     "output_type": "stream",
     "text": [
      "/usr/local/lib/python3.6/site-packages/scipy/stats/stats.py:253: RuntimeWarning: The input array could not be properly checked for nan values. nan values will be ignored.\n",
      "  \"values. nan values will be ignored.\", RuntimeWarning)\n"
     ]
    },
    {
     "data": {
      "text/plain": [
       "<matplotlib.axes._subplots.AxesSubplot at 0x10fb273c8>"
      ]
     },
     "execution_count": 12,
     "metadata": {},
     "output_type": "execute_result"
    },
    {
     "data": {
      "image/png": "[encoded data removed]",
      "text/plain": [
       "<matplotlib.figure.Figure at 0x10ca3fb70>"
      ]
     },
     "metadata": {},
     "output_type": "display_data"
    }
   ],
   "source": [
    "from scipy.stats import spearmanr\n",
    "corr = spearmanr(rankings).correlation\n",
    "sns.heatmap(corr, annot=True, xticklabels = list(rankings), yticklabels = list(rankings))"
   ]
  }
 ],
 "metadata": {
  "kernelspec": {
   "display_name": "Python [default]",
   "language": "python",
   "name": "python3"
  },
  "language_info": {
   "codemirror_mode": {
    "name": "ipython",
    "version": 3
   },
   "file_extension": ".py",
   "mimetype": "text/x-python",
   "name": "python",
   "nbconvert_exporter": "python",
   "pygments_lexer": "ipython3",
   "version": "3.5.4"
  }
 },
 "nbformat": 4,
 "nbformat_minor": 2
}
