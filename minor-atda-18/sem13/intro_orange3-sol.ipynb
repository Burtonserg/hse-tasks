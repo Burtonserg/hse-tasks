{
 "cells": [
  {
   "cell_type": "code",
   "execution_count": 1,
   "metadata": {},
   "outputs": [
    {
     "name": "stderr",
     "output_type": "stream",
     "text": [
      "C:\\Users\\panov\\Anaconda3\\lib\\site-packages\\h5py\\__init__.py:36: FutureWarning: Conversion of the second argument of issubdtype from `float` to `np.floating` is deprecated. In future, it will be treated as `np.float64 == np.dtype(float).type`.\n",
      "  from ._conv import register_converters as _register_converters\n"
     ]
    },
    {
     "data": {
      "text/plain": [
       "'3.13.0'"
      ]
     },
     "execution_count": 1,
     "metadata": {},
     "output_type": "execute_result"
    }
   ],
   "source": [
    "import Orange\n",
    "Orange.version.version"
   ]
  },
  {
   "cell_type": "code",
   "execution_count": 2,
   "metadata": {},
   "outputs": [
    {
     "data": {
      "text/plain": [
       "[[n, y, n, y, y, ... | republican],\n",
       " [n, y, n, y, y, ... | republican],\n",
       " [?, y, y, ?, y, ... | democrat],\n",
       " [n, y, y, n, ?, ... | democrat],\n",
       " [y, y, y, n, y, ... | democrat],\n",
       " ...\n",
       "]"
      ]
     },
     "execution_count": 2,
     "metadata": {},
     "output_type": "execute_result"
    }
   ],
   "source": [
    "data = Orange.data.Table(\"voting\")\n",
    "data"
   ]
  },
  {
   "cell_type": "code",
   "execution_count": 3,
   "metadata": {},
   "outputs": [],
   "source": [
    "lr = Orange.classification.LogisticRegressionLearner()\n",
    "rf = Orange.classification.RandomForestLearner(n_estimators=100)\n",
    "res = Orange.evaluation.CrossValidation(data, [lr, rf], k=5)"
   ]
  },
  {
   "cell_type": "code",
   "execution_count": 4,
   "metadata": {},
   "outputs": [
    {
     "name": "stdout",
     "output_type": "stream",
     "text": [
      "Accuracy: [0.95862069 0.96091954]\n",
      "AUC: [0.99237118 0.99038246]\n"
     ]
    }
   ],
   "source": [
    "print(\"Accuracy:\", Orange.evaluation.scoring.CA(res))\n",
    "print(\"AUC:\", Orange.evaluation.scoring.AUC(res))"
   ]
  },
  {
   "cell_type": "code",
   "execution_count": 5,
   "metadata": {},
   "outputs": [
    {
     "data": {
      "text/plain": [
       "[handicapped-infants, water-project-cost-sharing, adoption-of-the-budget-resolution, physician-fee-freeze, el-salvador-aid, religious-groups-in-schools, anti-satellite-test-ban, aid-to-nicaraguan-contras, mx-missile, immigration, synfuels-corporation-cutback, education-spending, superfund-right-to-sue, crime, duty-free-exports, export-administration-act-south-africa | party]"
      ]
     },
     "execution_count": 5,
     "metadata": {},
     "output_type": "execute_result"
    }
   ],
   "source": [
    "data.domain"
   ]
  },
  {
   "cell_type": "code",
   "execution_count": 6,
   "metadata": {},
   "outputs": [],
   "source": [
    "learner = Orange.classification.LogisticRegressionLearner()\n",
    "classifier = learner(data)"
   ]
  },
  {
   "cell_type": "code",
   "execution_count": 7,
   "metadata": {},
   "outputs": [
    {
     "data": {
      "text/plain": [
       "array([0., 0., 1.])"
      ]
     },
     "execution_count": 7,
     "metadata": {},
     "output_type": "execute_result"
    }
   ],
   "source": [
    "classifier(data[:3])"
   ]
  },
  {
   "cell_type": "code",
   "execution_count": 8,
   "metadata": {},
   "outputs": [
    {
     "name": "stdout",
     "output_type": "stream",
     "text": [
      "democrat, originally democrat\n",
      "republican, originally democrat\n",
      "republican, originally republican\n"
     ]
    },
    {
     "name": "stderr",
     "output_type": "stream",
     "text": [
      "C:\\Users\\panov\\Anaconda3\\lib\\site-packages\\ipykernel_launcher.py:1: OrangeDeprecationWarning: Passing data into LogisticRegressionLearner constructor is deprecated. Instead, first make an instance, i.e. LogisticRegressionLearner(), then call it with data.\n",
      "  \"\"\"Entry point for launching an IPython kernel.\n"
     ]
    }
   ],
   "source": [
    "classifier = Orange.classification.LogisticRegressionLearner(data)\n",
    "c_values = data.domain.class_var.values\n",
    "for d in data[5:8]:\n",
    "    c = classifier(d)\n",
    "    print(\"{}, originally {}\".format(c_values[int(classifier(d)[0])], d.get_class()))"
   ]
  },
  {
   "cell_type": "code",
   "execution_count": 9,
   "metadata": {},
   "outputs": [
    {
     "data": {
      "text/plain": [
       "11"
      ]
     },
     "execution_count": 9,
     "metadata": {},
     "output_type": "execute_result"
    }
   ],
   "source": [
    "import numpy as np\n",
    "np.sum(data.Y != classifier(data))"
   ]
  },
  {
   "cell_type": "code",
   "execution_count": 10,
   "metadata": {},
   "outputs": [
    {
     "data": {
      "text/plain": [
       "435"
      ]
     },
     "execution_count": 10,
     "metadata": {},
     "output_type": "execute_result"
    }
   ],
   "source": [
    "len(data)"
   ]
  },
  {
   "cell_type": "code",
   "execution_count": 11,
   "metadata": {},
   "outputs": [
    {
     "name": "stdout",
     "output_type": "stream",
     "text": [
      "Probabilities for democrat:\n",
      "0.9951828171078181 democrat\n",
      "0.16702490870039302 democrat\n",
      "0.08122212559419023 republican\n"
     ]
    }
   ],
   "source": [
    "target_class = 1\n",
    "print(\"Probabilities for %s:\" % data.domain.class_var.values[target_class])\n",
    "probabilities = classifier(data, 1)\n",
    "for p, d in zip(probabilities[5:8], data[5:8]):\n",
    "    print(p[target_class], d.get_class())"
   ]
  },
  {
   "cell_type": "markdown",
   "metadata": {},
   "source": [
    "* Разделить выборку на тестовую и обучающую\n",
    "* Обучить классификаторы: дерево принятия решений, логистическую регрессию и ближайших соседей\n",
    "* Вывести таблицу вероятностей классов для республиканцев в тестовой выборке \n",
    "* Посчитать accuracy и AUC"
   ]
  },
  {
   "cell_type": "code",
   "execution_count": 12,
   "metadata": {},
   "outputs": [
    {
     "name": "stdout",
     "output_type": "stream",
     "text": [
      "Probabilities for republican:\n",
      "original class  tree  knn   logistic regression\n",
      "republican      0.975 1.000 0.917\n",
      "republican      0.975 1.000 0.947\n",
      "democrat        0.008 0.000 0.028\n",
      "republican      0.975 1.000 0.937\n",
      "republican      0.975 0.667 0.793\n"
     ]
    }
   ],
   "source": [
    "import random\n",
    "random.seed(42)\n",
    "data = Orange.data.Table(\"voting\")\n",
    "test = Orange.data.Table(data.domain, random.sample(data, 5))\n",
    "train = Orange.data.Table(data.domain, [d for d in data if d not in test])\n",
    "\n",
    "tree = Orange.classification.tree.TreeLearner(max_depth=3)\n",
    "knn = Orange.classification.knn.KNNLearner(n_neighbors=3)\n",
    "lr = Orange.classification.LogisticRegressionLearner(C=0.1)\n",
    "\n",
    "learners = [tree, knn, lr]\n",
    "classifiers = [learner(train) for learner in learners]\n",
    "\n",
    "target = 0\n",
    "print(\"Probabilities for %s:\" % data.domain.class_var.values[target])\n",
    "print(\"original class \", \" \".join(\"%-5s\" % l.name for l in classifiers))\n",
    "\n",
    "c_values = data.domain.class_var.values\n",
    "for d in test:\n",
    "    print((\"{:<15}\" + \" {:.3f}\"*len(classifiers)).format(c_values[int(d.get_class())], *(c(d, 1)[0][target] for c in classifiers)))"
   ]
  },
  {
   "cell_type": "code",
   "execution_count": 13,
   "metadata": {},
   "outputs": [
    {
     "name": "stdout",
     "output_type": "stream",
     "text": [
      "\n",
      "RM (22.5: 506.0)\n",
      ": <=6.941\n",
      "   LSTAT (19.9: 430.0)\n",
      "   : <=14.4 --> (23.3: 255.0)\n",
      "   : >14.4 --> (15.0: 175.0)\n",
      ": >6.941\n",
      "   RM (37.2: 76.0)\n",
      "   : <=7.437 --> (32.1: 46.0)\n",
      "   : >7.437 --> (45.1: 30.0)\n"
     ]
    }
   ],
   "source": [
    "data = Orange.data.Table(\"housing.tab\")\n",
    "tree_learner = Orange.classification.SimpleTreeLearner(max_depth=2)\n",
    "tree = tree_learner(data)\n",
    "print(tree.to_string())"
   ]
  },
  {
   "cell_type": "code",
   "execution_count": 14,
   "metadata": {},
   "outputs": [],
   "source": [
    "import random\n",
    "random.seed(42)\n",
    "data = Orange.data.Table(\"housing\")"
   ]
  },
  {
   "cell_type": "markdown",
   "metadata": {},
   "source": [
    "* Разделить выборку на тестовую и обучающую\n",
    "* Обучить регрессоры: LinearRegressionLearner, RandomForestRegressionLearner, RidgeRegressionLearner\n",
    "* Проверить на тестовой выборке"
   ]
  },
  {
   "cell_type": "code",
   "execution_count": 15,
   "metadata": {},
   "outputs": [
    {
     "name": "stdout",
     "output_type": "stream",
     "text": [
      "y    linear regression    rf ridge regression\n",
      "22.2   19.3  20.3  19.5\n",
      "31.6   33.2  31.7  33.2\n",
      "21.7   20.9  20.9  21.0\n",
      "10.2   16.9  12.0  16.8\n",
      "14.0   13.6  14.8  13.5\n"
     ]
    }
   ],
   "source": [
    "# ваш код\n",
    "data = Orange.data.Table(\"housing\")\n",
    "test = Orange.data.Table(data.domain, random.sample(data, 5))\n",
    "train = Orange.data.Table(data.domain, [d for d in data if d not in test])\n",
    "\n",
    "lin = Orange.regression.linear.LinearRegressionLearner()\n",
    "rf = Orange.regression.random_forest.RandomForestRegressionLearner()\n",
    "rf.name = \"rf\"\n",
    "ridge = Orange.regression.RidgeRegressionLearner()\n",
    "\n",
    "learners = [lin, rf, ridge]\n",
    "regressors = [learner(train) for learner in learners]\n",
    "\n",
    "print(\"y   \", \" \".join(\"%5s\" % l.name for l in regressors))\n",
    "\n",
    "for d in test:\n",
    "    print((\"{:<5}\" + \" {:5.1f}\"*len(regressors)).format(d.get_class(), *(r(d)[0] for r in regressors)))"
   ]
  },
  {
   "cell_type": "code",
   "execution_count": null,
   "metadata": {
    "collapsed": true
   },
   "outputs": [],
   "source": []
  }
 ],
 "metadata": {
  "kernelspec": {
   "display_name": "Python 3",
   "language": "python",
   "name": "python3"
  },
  "language_info": {
   "codemirror_mode": {
    "name": "ipython",
    "version": 3
   },
   "file_extension": ".py",
   "mimetype": "text/x-python",
   "name": "python",
   "nbconvert_exporter": "python",
   "pygments_lexer": "ipython3",
   "version": "3.6.4"
  }
 },
 "nbformat": 4,
 "nbformat_minor": 2
}
