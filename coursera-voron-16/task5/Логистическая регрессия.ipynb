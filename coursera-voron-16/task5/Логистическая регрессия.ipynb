{
 "cells": [
  {
   "cell_type": "code",
   "execution_count": 39,
   "metadata": {
    "collapsed": true
   },
   "outputs": [],
   "source": [
    "import math\n",
    "import numpy as np\n",
    "import pandas as pd\n",
    "from sklearn.metrics import roc_auc_score"
   ]
  },
  {
   "cell_type": "code",
   "execution_count": 40,
   "metadata": {
    "collapsed": false
   },
   "outputs": [
    {
     "data": {
      "text/html": [
       "<div>\n",
       "<table border=\"1\" class=\"dataframe\">\n",
       "  <thead>\n",
       "    <tr style=\"text-align: right;\">\n",
       "      <th></th>\n",
       "      <th>1</th>\n",
       "      <th>2</th>\n",
       "    </tr>\n",
       "  </thead>\n",
       "  <tbody>\n",
       "    <tr>\n",
       "      <th>0</th>\n",
       "      <td>-0.663827</td>\n",
       "      <td>-0.138526</td>\n",
       "    </tr>\n",
       "    <tr>\n",
       "      <th>1</th>\n",
       "      <td>1.994596</td>\n",
       "      <td>2.468025</td>\n",
       "    </tr>\n",
       "    <tr>\n",
       "      <th>2</th>\n",
       "      <td>-1.247395</td>\n",
       "      <td>0.749425</td>\n",
       "    </tr>\n",
       "    <tr>\n",
       "      <th>3</th>\n",
       "      <td>2.309374</td>\n",
       "      <td>1.899836</td>\n",
       "    </tr>\n",
       "    <tr>\n",
       "      <th>4</th>\n",
       "      <td>0.849143</td>\n",
       "      <td>2.407750</td>\n",
       "    </tr>\n",
       "  </tbody>\n",
       "</table>\n",
       "</div>"
      ],
      "text/plain": [
       "          1         2\n",
       "0 -0.663827 -0.138526\n",
       "1  1.994596  2.468025\n",
       "2 -1.247395  0.749425\n",
       "3  2.309374  1.899836\n",
       "4  0.849143  2.407750"
      ]
     },
     "execution_count": 40,
     "metadata": {},
     "output_type": "execute_result"
    }
   ],
   "source": [
    "df = pd.read_csv('data-logistic.csv', header = None)\n",
    "l = df.shape[0]\n",
    "X = df.iloc[:,[1,2]]\n",
    "y = df[0]\n",
    "X.head()"
   ]
  },
  {
   "cell_type": "code",
   "execution_count": 41,
   "metadata": {
    "collapsed": false
   },
   "outputs": [],
   "source": [
    "def gradient(Creg):\n",
    "    w, wold = [0, 0], [0,0]\n",
    "    steps = 0\n",
    "    k = 0.1\n",
    "    ld = 1\n",
    "    while steps < 10000 and ld > 1e-5:\n",
    "        sm1, sm2 = 0, 0\n",
    "        for i, x in X.iterrows():\n",
    "            ex = math.exp(-y[i] * (w[0] * x[1] + w[1] * x[2]))\n",
    "            sm1 += y[i] * x[1] * (1 - 1 / (1 + ex))\n",
    "            sm2 += y[i] * x[2] * (1 - 1 / (1 + ex))\n",
    "        w[0] = wold[0] * (1 - k * Creg) + k * sm1 / l\n",
    "        w[1] = wold[1] * (1 - k * Creg) + k * sm2 / l\n",
    "        ld = ((w[0] - wold[0]) ** 2 + (w[1] - wold[1]) ** 2) ** 0.5\n",
    "        wold = w[:]\n",
    "        steps += 1\n",
    "\n",
    "    print(steps)\n",
    "    return w"
   ]
  },
  {
   "cell_type": "code",
   "execution_count": null,
   "metadata": {
    "collapsed": false
   },
   "outputs": [],
   "source": [
    "ws = gradient(0)\n",
    "print(ws)\n",
    "ys_scores = [1 / (1 + math.exp(-ws[0] * x[1] - ws[1] * x[2])) for _,x in X.iterrows()]\n",
    "roc_auc_score(y, ys_scores)"
   ]
  },
  {
   "cell_type": "code",
   "execution_count": 43,
   "metadata": {
    "collapsed": false
   },
   "outputs": [
    {
     "name": "stdout",
     "output_type": "stream",
     "text": [
      "8\n",
      "[0.028558754546234223, 0.024780137249735559]\n",
      "0.936 0.936\n"
     ]
    }
   ],
   "source": [
    "wr = gradient(10)\n",
    "print(wr)\n",
    "yr_scores = [1 / (1 + math.exp(-wr[1] * x[1] - wr[1] * x[2])) for _, x in X.iterrows()]\n",
    "\n",
    "print('{0:.3f} {1:.3f}'.format(roc_auc_score(y, ys_scores), roc_auc_score(y, yr_scores)))"
   ]
  },
  {
   "cell_type": "code",
   "execution_count": null,
   "metadata": {
    "collapsed": true
   },
   "outputs": [],
   "source": []
  }
 ],
 "metadata": {
  "kernelspec": {
   "display_name": "Python 3",
   "language": "python",
   "name": "python3"
  },
  "language_info": {
   "codemirror_mode": {
    "name": "ipython",
    "version": 3
   },
   "file_extension": ".py",
   "mimetype": "text/x-python",
   "name": "python",
   "nbconvert_exporter": "python",
   "pygments_lexer": "ipython3",
   "version": "3.5.1"
  }
 },
 "nbformat": 4,
 "nbformat_minor": 0
}
