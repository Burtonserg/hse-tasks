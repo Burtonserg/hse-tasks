{
 "cells": [
  {
   "cell_type": "markdown",
   "metadata": {},
   "source": [
    "## Кластеризация"
   ]
  },
  {
   "cell_type": "markdown",
   "metadata": {},
   "source": [
    "Кластеризация - один из видов алгоритмов машинного обучения без учителя. В этом случае в обучающей выборке отсутствуют значения целевых переменных. Имеются только признаки обучающих объектов. Задача кластеризации - сгруппировать похожие объекты в сгустки, которые называются кластерами. Кластеризация может быть использована, например, в качестве предварительного этапа для определения структуры данных. Одно из практических применений кластеризации - это сжатие изображений. С помощью нее можно уменьшить количество цветов. Для этого необходимо раскластеризовать цвета пикселей изображения, а затем заменить оригинальные цвета пискселей на центроиды получившихся кластеров, соответвующих пикселям.\n",
    "\n",
    "В настоящей лабораторной работе Вам необходимо реализовать алгоритм кластеризации k-средних (k-means) и применить его для сжатия изображения."
   ]
  },
  {
   "cell_type": "code",
   "execution_count": 49,
   "metadata": {
    "collapsed": false
   },
   "outputs": [
    {
     "data": {
      "text/plain": [
       "(512L, 512L, 3L)"
      ]
     },
     "execution_count": 49,
     "metadata": {},
     "output_type": "execute_result"
    }
   ],
   "source": [
    "# Здесь происходит закгрузка изображения\n",
    "# Вы можете скачать любое изображение из интернета или же загрузить стандартные тестовые изображения из skimage.data\n",
    "# Алгоритм k-means имеет достаточно большую сложность, поэтому рекомендуется использовать небольшие изображения для отладки,\n",
    "# не более 128x128 пикселей. \n",
    "\n",
    "import skimage\n",
    "import skimage.data\n",
    "from skimage.io import imread\n",
    "\n",
    "#img_path = \"03.jpg\"\n",
    "#image = imread(img_path)\n",
    "image = skimage.data.astronaut()\n",
    "\n",
    "# Сохраняет исходное изображения под другим имененм. Просто для отладки.\n",
    "save_path = \"orig_image.jpg\"\n",
    "skimage.io.imsave(save_path, image)\n",
    "\n",
    "# Создаем из исходного изображения матрицу ширина х высота х 3 (количество цеветов формата rgb)\n",
    "img_float = skimage.img_as_float(image)\n",
    "img_float.shape"
   ]
  },
  {
   "cell_type": "code",
   "execution_count": 50,
   "metadata": {
    "collapsed": false
   },
   "outputs": [
    {
     "data": {
      "text/plain": [
       "array([[[ 0.60392157,  0.57647059,  0.59215686],\n",
       "        [ 0.42745098,  0.40392157,  0.48627451],\n",
       "        [ 0.24705882,  0.22745098,  0.4       ],\n",
       "        ..., \n",
       "        [ 0.49803922,  0.47058824,  0.45098039],\n",
       "        [ 0.47058824,  0.45882353,  0.41568627],\n",
       "        [ 0.49019608,  0.46666667,  0.43137255]],\n",
       "\n",
       "       [[ 0.69411765,  0.67058824,  0.67058824],\n",
       "        [ 0.56470588,  0.55294118,  0.56078431],\n",
       "        [ 0.44313725,  0.44705882,  0.48627451],\n",
       "        ..., \n",
       "        [ 0.49803922,  0.4627451 ,  0.43921569],\n",
       "        [ 0.48627451,  0.45098039,  0.42352941],\n",
       "        [ 0.4745098 ,  0.45490196,  0.41176471]],\n",
       "\n",
       "       [[ 0.78823529,  0.76078431,  0.75686275],\n",
       "        [ 0.71372549,  0.69803922,  0.68627451],\n",
       "        [ 0.65882353,  0.64705882,  0.64313725],\n",
       "        ..., \n",
       "        [ 0.50196078,  0.47058824,  0.45882353],\n",
       "        [ 0.49411765,  0.45490196,  0.43921569],\n",
       "        [ 0.48627451,  0.44705882,  0.42745098]],\n",
       "\n",
       "       ..., \n",
       "       [[ 0.72941176,  0.66666667,  0.69019608],\n",
       "        [ 0.72941176,  0.66666667,  0.69411765],\n",
       "        [ 0.71764706,  0.65882353,  0.66666667],\n",
       "        ..., \n",
       "        [ 0.        ,  0.        ,  0.        ],\n",
       "        [ 0.        ,  0.        ,  0.00392157],\n",
       "        [ 0.        ,  0.        ,  0.        ]],\n",
       "\n",
       "       [[ 0.71764706,  0.6627451 ,  0.66666667],\n",
       "        [ 0.71372549,  0.65490196,  0.67058824],\n",
       "        [ 0.7254902 ,  0.64313725,  0.69019608],\n",
       "        ..., \n",
       "        [ 0.        ,  0.        ,  0.00392157],\n",
       "        [ 0.00392157,  0.00392157,  0.00392157],\n",
       "        [ 0.        ,  0.        ,  0.        ]],\n",
       "\n",
       "       [[ 0.72156863,  0.65490196,  0.6745098 ],\n",
       "        [ 0.71764706,  0.64705882,  0.6627451 ],\n",
       "        [ 0.70588235,  0.63529412,  0.67058824],\n",
       "        ..., \n",
       "        [ 0.        ,  0.        ,  0.        ],\n",
       "        [ 0.00392157,  0.00392157,  0.00392157],\n",
       "        [ 0.        ,  0.        ,  0.        ]]])"
      ]
     },
     "execution_count": 50,
     "metadata": {},
     "output_type": "execute_result"
    }
   ],
   "source": [
    "img_float"
   ]
  },
  {
   "cell_type": "code",
   "execution_count": 51,
   "metadata": {
    "collapsed": false
   },
   "outputs": [
    {
     "data": {
      "text/plain": [
       "array([[ 0.60392157,  0.57647059,  0.59215686],\n",
       "       [ 0.42745098,  0.40392157,  0.48627451],\n",
       "       [ 0.24705882,  0.22745098,  0.4       ],\n",
       "       [ 0.21176471,  0.2       ,  0.38431373],\n",
       "       [ 0.29803922,  0.29803922,  0.41568627],\n",
       "       [ 0.39215686,  0.39215686,  0.40784314],\n",
       "       [ 0.48627451,  0.4745098 ,  0.47843137],\n",
       "       [ 0.54509804,  0.52941176,  0.52156863],\n",
       "       [ 0.58039216,  0.55294118,  0.54117647],\n",
       "       [ 0.55294118,  0.5254902 ,  0.50980392]])"
      ]
     },
     "execution_count": 51,
     "metadata": {},
     "output_type": "execute_result"
    }
   ],
   "source": [
    "# Разворачиваем исходную матрицу в список обучающих примеров: кол-во пикселей х 3. Получается, что цвета\n",
    "# предсталяют собой признаки каждого обучающего объекта.\n",
    "\n",
    "X = img_float.reshape(img_float.shape[0] * img_float.shape[1], 3)\n",
    "X[:10]"
   ]
  },
  {
   "cell_type": "markdown",
   "metadata": {},
   "source": [
    "## Заготовка класса для k-means"
   ]
  },
  {
   "cell_type": "markdown",
   "metadata": {},
   "source": [
    "Используйте нижележащую заготовку для реализации алгоритма k-means. Вам необходимо реализовать функции _compute_centroids и _determine_closest_centroids. Также рекомендуется реализовать функцию _quality для отладки алгоритма. Формула расчета центроидов кластеров: \n",
    "\n",
    "$ \\mu_y = \\frac{\\sum_{i=1}^l[y^i=y]x^i}{\\sum_{i=1}^l[y^i=y]} $ - усредненное значение векторов, отнесенных к кластеру y.\n",
    "\n",
    "Функциоанл качества кластеризации:\n",
    "\n",
    "$ Q = \\frac{1}{l}\\sum_{i=1}^l(\\rho(x^i,\\mu_{y^i}))^2 $, где $\\rho$ - евклидово расстояние."
   ]
  },
  {
   "cell_type": "code",
   "execution_count": 52,
   "metadata": {
    "collapsed": false
   },
   "outputs": [
    {
     "data": {
      "text/plain": [
       "array([ 2,  2,  4,  6,  6,  8, 10, 12,  8])"
      ]
     },
     "execution_count": 52,
     "metadata": {},
     "output_type": "execute_result"
    }
   ],
   "source": [
    "import numpy as np\n",
    "l1 = np.array([1,1,2,3,3,4,5,6,4])\n",
    "l2 = np.array([1,1,2,3,3,4,5,6,4])\n",
    "sum([l1,l2])"
   ]
  },
  {
   "cell_type": "code",
   "execution_count": 53,
   "metadata": {
    "collapsed": false
   },
   "outputs": [],
   "source": [
    "import logging\n",
    "import random\n",
    "\n",
    "import numpy as np\n",
    "import skimage.data\n",
    "\n",
    "class SimpleKMeans:\n",
    "    def __init__(self, k, max_iterations=100, tol=0.0001, verbose=False, qual=False):\n",
    "        self.k_ = k\n",
    "        self.max_iterations_ = max_iterations\n",
    "        self.centroids_ = np.array([])\n",
    "        self.tol_ = tol\n",
    "        self.verobose_ = verbose\n",
    "        self.qual_ = qual\n",
    "        if verbose:\n",
    "            self.logger = logging.getLogger(self.__class__.__name__)\n",
    "            self.logger.setLevel(logging.DEBUG)\n",
    "\n",
    "    # Функция принимает на вход обучающие объекты X, массив с целочисленными идентификаторами кластеров idx,\n",
    "    # количество кластеров k. Функция возвращает центроиды класторов.\n",
    "    def _compute_centroids(self, X, idx, k):\n",
    "        centroids = np.zeros((k, 3))\n",
    "        for i in range(k):\n",
    "            aver = sum([X[j] for j in range(X.shape[0]) if idx[j] == i])\n",
    "            num = np.count_nonzero(idx == i)\n",
    "            if num > 0:\n",
    "                centroids[i] = aver / num\n",
    "        return centroids\n",
    "\n",
    "    def _init_centroids(self, X, k):\n",
    "        indx = random.sample(range(X.shape[0]), k)\n",
    "        return X[indx]\n",
    "\n",
    "    # Функция принимает на вход обучающие объекты X, центроиды кластеров centroids, количество кластеров k.\n",
    "    # Функция вовращает список целочисленных идентификаторов кластеров для каждого объекта из X (len(X) == len(idx)).\n",
    "    # При назначении кластера объекту ищется тот кластер, квадрат расстояния от объекта до центроида которого\n",
    "    # - наименьшее. Используйте евклидово расстояние.\n",
    "    def _determine_closest_centroids(self, X, centroids, k):\n",
    "        idx = np.zeros(X.shape[0], dtype=np.int)\n",
    "        for i in range(X.shape[0]):\n",
    "            ros = [np.linalg.norm(centroids[j] - X[i]) for j in range(k)]\n",
    "            idx[i] = np.argmin(ros)\n",
    "        return idx\n",
    "\n",
    "    # Функция возращает значения функционала качества кластеризации для текующих центроидов кластеров.\n",
    "    def _quality(self, X, centroids, idx):\n",
    "        Q = sum([np.linalg.norm(centroids[idx[j]] - X[j]) for j in range(X.shape[0])]) / X.shape[0]\n",
    "        return Q\n",
    "\n",
    "    def fit(self, X):\n",
    "        centroids = self._init_centroids(X, self.k_)\n",
    "        self.centroids_ = np.copy(centroids)\n",
    "        for n in range(self.max_iterations_):\n",
    "            if self.verobose_:\n",
    "                self.logger.debug(\"Iteration: %d\", n)\n",
    "\n",
    "            idx = self._determine_closest_centroids(X, centroids, self.k_)\n",
    "            centroids = self._compute_centroids(X, idx, self.k_)\n",
    "\n",
    "            if self.qual_:\n",
    "                qual = self._quality(X, centroids, idx)\n",
    "                self.logger.debug(\"Qual: %f\", qual)\n",
    "\n",
    "            diff = np.linalg.norm(self.centroids_ - centroids)\n",
    "            if self.verobose_:\n",
    "                self.logger.debug(\"Diff: %f\", diff)\n",
    "\n",
    "            self.centroids_ = np.copy(centroids)\n",
    "\n",
    "            if diff < self.tol_:\n",
    "                break\n",
    "\n",
    "    def predict(self, X):\n",
    "        return self._determine_closest_centroids(X, self.centroids_, self.k_)"
   ]
  },
  {
   "cell_type": "code",
   "execution_count": 54,
   "metadata": {
    "collapsed": false
   },
   "outputs": [],
   "source": [
    "# Обучаем кластеризатор, чтобы он мог преобразовать все цвета изображения в k=16 цветов. \n",
    "# Когда verbose = True в ходе бучения будут распечатываться логи обучения.\n",
    "# При qual = True будут также распечатываться значения фукнционала качества. Обратите внимание, что \n",
    "# значения функционала качества должны уменьшаться на каждой итерации, в противном случае в Вашем \n",
    "# коде присутсвует ошибка.\n",
    "\n",
    "cl = SimpleKMeans(k = 16, max_iterations=100, tol=0.01, verbose = False)\n",
    "cl.fit(X)"
   ]
  },
  {
   "cell_type": "code",
   "execution_count": 55,
   "metadata": {
    "collapsed": false
   },
   "outputs": [
    {
     "data": {
      "text/plain": [
       "array([11, 11, 11, 11, 11, 11, 11, 13, 13, 11])"
      ]
     },
     "execution_count": 55,
     "metadata": {},
     "output_type": "execute_result"
    }
   ],
   "source": [
    "# Определяем идентификаторы каждого пискселя (номер цвета).\n",
    "\n",
    "res = cl.predict(X)\n",
    "res[50:60]"
   ]
  },
  {
   "cell_type": "code",
   "execution_count": 56,
   "metadata": {
    "collapsed": false
   },
   "outputs": [],
   "source": [
    "# Преобразуем цвета пикселей изображения. Восстанавливаем исходную матрицу изображения ширина х высота х 3.\n",
    "# Сохарняем получившееся изображение.\n",
    "\n",
    "X_transformed =  cl.centroids_[res]\n",
    "new_image = X_transformed.reshape(img_float.shape[0], img_float.shape[1], 3)\n",
    "new_save_path = \"transformed_image.jpg\"\n",
    "skimage.io.imsave(new_save_path, new_image)"
   ]
  },
  {
   "cell_type": "code",
   "execution_count": null,
   "metadata": {
    "collapsed": true
   },
   "outputs": [],
   "source": []
  }
 ],
 "metadata": {
  "kernelspec": {
   "display_name": "Python 2",
   "language": "python",
   "name": "python2"
  },
  "language_info": {
   "codemirror_mode": {
    "name": "ipython",
    "version": 2
   },
   "file_extension": ".py",
   "mimetype": "text/x-python",
   "name": "python",
   "nbconvert_exporter": "python",
   "pygments_lexer": "ipython2",
   "version": "2.7.11"
  }
 },
 "nbformat": 4,
 "nbformat_minor": 0
}
