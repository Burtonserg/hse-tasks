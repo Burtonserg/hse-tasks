{
 "cells": [
  {
   "cell_type": "code",
   "execution_count": 31,
   "metadata": {
    "collapsed": false
   },
   "outputs": [],
   "source": [
    "import requests\n",
    "import lxml.html\n",
    "import re\n",
    "import urllib\n",
    "from lxml.cssselect import CSSSelector\n",
    "import html\n",
    "import time"
   ]
  },
  {
   "cell_type": "code",
   "execution_count": 32,
   "metadata": {
    "collapsed": true
   },
   "outputs": [],
   "source": [
    "url = 'https://kias.rfbr.ru/application.aspx?id=10399188&reports'\n",
    "cookies_dict = {\n",
    "    'ASP.NET_SessionId': 'du1rzlrn4uzok0455evpg2vc',\n",
    "}\n",
    "selector = CSSSelector('div#ctl00_content_lfReports table tr.data td.value span')"
   ]
  },
  {
   "cell_type": "code",
   "execution_count": null,
   "metadata": {
    "collapsed": false
   },
   "outputs": [
    {
     "name": "stdout",
     "output_type": "stream",
     "text": [
      "0 Подписан\n",
      "1 Подписан\n",
      "2 Подписан\n",
      "3 Подписан\n",
      "4 Подписан\n",
      "5 Подписан\n",
      "6 Подписан\n",
      "7 Подписан\n",
      "8 Подписан\n",
      "9 Подписан\n",
      "10 Подписан\n",
      "11 Подписан\n",
      "12 Подписан\n",
      "13 Подписан\n",
      "14 Подписан\n",
      "15 Подписан\n",
      "16 Подписан\n",
      "17 Подписан\n",
      "18 Подписан\n",
      "19 Подписан\n",
      "20 Подписан\n",
      "21 Подписан\n",
      "22 Подписан\n",
      "23 Подписан\n",
      "24 Подписан\n",
      "25 Подписан\n",
      "26 Подписан\n",
      "27 Подписан\n",
      "28 Подписан\n",
      "29 Подписан\n",
      "30 Подписан\n",
      "31 Подписан\n",
      "32 Подписан\n",
      "33 Подписан\n",
      "34 Подписан\n",
      "35 Подписан\n",
      "36 Подписан\n",
      "37 Подписан\n",
      "38 Подписан\n",
      "39 Подписан\n",
      "40 Подписан\n",
      "41 Подписан\n",
      "42 Подписан\n",
      "43 Подписан\n",
      "44 Подписан\n",
      "45 Подписан\n",
      "46 Подписан\n",
      "47 Подписан\n",
      "48 Подписан\n",
      "49 Подписан\n",
      "50 Подписан\n",
      "51 Зарегистрирован\n",
      "52 Зарегистрирован\n",
      "53 Зарегистрирован\n",
      "54 Зарегистрирован\n",
      "55 Зарегистрирован\n",
      "56 Зарегистрирован\n"
     ]
    }
   ],
   "source": [
    "counter = 0\n",
    "while True:\n",
    "    r = requests.get(url, cookies=cookies_dict)\n",
    "    tree = lxml.html.fromstring(r.text)\n",
    "    results = selector(tree)\n",
    "    print(counter, results[6].text)\n",
    "    counter += 1\n",
    "    time.sleep(30)"
   ]
  },
  {
   "cell_type": "code",
   "execution_count": null,
   "metadata": {
    "collapsed": true
   },
   "outputs": [],
   "source": [
    "requests.get('kias.rfbr.ru/download.aspx?type=report&id=19140297#Export', cookies=cookies_dict)"
   ]
  }
 ],
 "metadata": {
  "anaconda-cloud": {},
  "kernelspec": {
   "display_name": "Python [conda root]",
   "language": "python",
   "name": "conda-root-py"
  },
  "language_info": {
   "codemirror_mode": {
    "name": "ipython",
    "version": 3
   },
   "file_extension": ".py",
   "mimetype": "text/x-python",
   "name": "python",
   "nbconvert_exporter": "python",
   "pygments_lexer": "ipython3",
   "version": "3.5.2"
  }
 },
 "nbformat": 4,
 "nbformat_minor": 2
}
