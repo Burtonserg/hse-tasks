{
 "cells": [
  {
   "cell_type": "markdown",
   "metadata": {
    "collapsed": true
   },
   "source": [
    "<center>\n",
    "<img src=\"../img/ml_theme.png\">\n",
    "# Майнор \"Интеллектуальный анализ данных\" \n",
    "# Курс \"Анализ данных\"\n",
    "<img src=\"../img/faculty_logo.jpg\" height=\"240\" width=\"240\">\n",
    "## Автор материала: преподаватель ФКН НИУ ВШЭ Кашницкий Юрий\n",
    "</center>\n",
    "Материал распространяется на условиях лицензии <a href=\"http://www.microsoft.com/en-us/openness/default.aspx#Ms-RL\">Ms-RL</a>. Можно использовать в любых целях, но с обязательным упоминанием автора курса и аффилиации."
   ]
  },
  {
   "cell_type": "markdown",
   "metadata": {},
   "source": [
    "# Семинар 1. Введение\n",
    "## Часть 1. Обзор курса"
   ]
  },
  {
   "cell_type": "markdown",
   "metadata": {},
   "source": [
    "## Содержание курса (TODO)\n",
    "- **Семинар1. Введение в машинное обучение и анализ данных**\n",
    "\n",
    "- **Семинар 2. Python для анализа данных. Pandas**\n",
    "\n",
    "- **Семинар 3. Линейная алгебра и Python. NumPy**\n",
    "\n",
    "- **Семинар 4. Математический анализ и Python. SciPy**\n",
    "\n",
    "- **Семинар 5. Теория вероятностей и Python**\n",
    "\n",
    "- **Семинар 6. Математичсекая статистика и Python**"
   ]
  },
  {
   "cell_type": "markdown",
   "metadata": {},
   "source": [
    "## Используемые средства"
   ]
  },
  {
   "cell_type": "markdown",
   "metadata": {},
   "source": [
    "<img src=\"../img/anaconda.png\" height=\"240\" width=\"240\">\n",
    "В этом курсе мы используем сборку библиотек <a href=\"http://continuum.io/downloads\">Anaconda</a>, включающую интерпретатор Python, библиотеки для научных вычислений NumPy и SciPy, анализа данных Pandas, машинного обучения Scikit-learn и около 200 других. \n",
    "Следуем инструкциям, проверяем установку. Список установленных пакетов:\n",
    "<p><i><b>>> conda list</b></i></p>\n",
    "\n",
    "Установим jupyter, если его еще нет\n",
    "<p><i><b>>> conda install jupyter</b></i></p>\n",
    "\n",
    "Проверим интерпретатор Python\n",
    "<p><i><b>>> python</b></i></p>\n"
   ]
  },
  {
   "cell_type": "markdown",
   "metadata": {},
   "source": [
    "### Среда разработки PyCharm\n",
    "<a href=\"https://www.jetbrains.com/pycharm/\">PyCharm</a> компании JetBrains - одна из самых популярных сред разработки (IDE) на языке Python. Из плюсов, перечисленных в одном из <a href=\"http://habrahabr.ru/post/122018/\">обзоров</a> и важных для нас в этом курсе:\n",
    " - интуитивно понятная интеграция с Git\n",
    " - удобное автоматическое дополнение текста\n",
    " - множество \"горячих клавиш\" для перехода к определения сущности, списка упоминаний конструкции, подсказок по сигнатуре функций и прочих мелочей\n",
    " - встроенная проверка кода на соответствие стандарту PEP\n",
    " \n",
    " <img src=\"../img/pycharm_screen.png\" height=\"1000\" width=\"769\">\n",
    " \n",
    " <a href=\"http://pythonworld.ru/osnovy/pycharm-python-tutorial.html\">Введение в PyCharm</a>"
   ]
  },
  {
   "cell_type": "markdown",
   "metadata": {},
   "source": [
    "### Тетрадки IPython\n",
    "То, что Вы сейчас видите - это тетрадка IPython (Ipython notebook), интерактивная среда для вычислений, способная совмещать код, картинки, markdown-разметку и графики.\n",
    "\n",
    "<img src=\"../img/ipython_ex.png\" height=\"985\" width=\"916\">\n",
    "\n",
    "Пример с сайта http://ipython.org/\n",
    "\n",
    "Тетрадка IPython имеет расширение *.ipynb* и запускается локально из нужного места командой \n",
    "<p><i><b>>> jupyter notebook</b></i></p>\n",
    "\n",
    "Выполнять и редактировать тетрадку можно в браузере http://localhost:8888/\n",
    "\n",
    "Начиная с версии IPython 4.0, большая часть проекта перешла в Jupyter. <a href=\"http://jupyter.org/\">Jupyter</a> - это веб-приложение для обмена документами, в которых можно выполнять код на 40 популярных в анализе данных языках, включая Python, R, Julia и Scala. \n",
    "\n",
    "Тетрадки IPython - отличный способ представить идею, сразу поделиться кодом, хороши для воспроизводимости исследований, включающих написание кода."
   ]
  },
  {
   "cell_type": "markdown",
   "metadata": {},
   "source": [
    "## Ссылки"
   ]
  },
  {
   "cell_type": "markdown",
   "metadata": {},
   "source": [
    "- <a href=\"https://github.com/Yorko/python_intro\">Репозиторий</a> с тетрадками по языку Python, основным алгоритмам и структурам данных\n",
    "- <a href=\"https://www.coursera.org/learn/machine-learning\">Курс</a> Andrew Ng на Coursera по машинному обучению\n",
    "- <a href=\"https://www.coursera.org/learn/introduction-machine-learning\">Курс</a> К.В. Воронцова на Coursera\n",
    "- Курсы на Udacity по машинному обучению <a href=\"https://www.udacity.com/course/intro-to-machine-learning--ud120\">с учителем</a>, <a href=\"https://www.udacity.com/course/machine-learning-unsupervised-learning--ud741\">без учителя</a> и <a href=\"https://www.udacity.com/course/machine-learning-reinforcement-learning--ud820\">с подкреплением</a>\n",
    "- <a href=\"https://github.com/prakhar1989/awesome-courses\">Репозиторий</a> с обзором множества полезных MOOC\n",
    "- <a href=\"https://yandexdataschool.ru/edu-process/courses/machine-learning\">Лекции</a> Школы Анализа Данных Яндекса по машинному обучению \n",
    "- <a href=\"http://habrahabr.ru/post/248069/\">Обзор</a> некоторых MOOC по компьютерным наукам и анализу данных на Хабрахабре\n",
    "- <a href=\"http://habrahabr.ru/users/akrot/topics\">Цикл статей</a> по практике анализа больших данных \n",
    "- Интерактивные тьюториалы <a href=\"http://dataquest.io\">Dataquest</a>\n",
    "- Курсы <a href=\"https://courses.edx.org/courses/BerkeleyX/CS100.1x/1T2015/info\">\"Введение в анализ больших с Apache Spark\"</a> и <a href=\"https://courses.edx.org/courses/BerkeleyX/CS190.1x/1T2015/info\">\"Масштабируемое машинное обучение\"</a> на EdX\n",
    "- <a href=\"http://machinelearning.ru\">Портал</a> machinelearning.ru\n",
    "- <a href=\"http://mlclass.ru\">Портал</a> mlclass.ru"
   ]
  }
 ],
 "metadata": {
  "kernelspec": {
   "display_name": "Python 2",
   "language": "python",
   "name": "python2"
  },
  "language_info": {
   "codemirror_mode": {
    "name": "ipython",
    "version": 2
   },
   "file_extension": ".py",
   "mimetype": "text/x-python",
   "name": "python",
   "nbconvert_exporter": "python",
   "pygments_lexer": "ipython2",
   "version": "2.7.10"
  },
  "name": "lesson4_part1_Introduction.ipynb"
 },
 "nbformat": 4,
 "nbformat_minor": 0
}
