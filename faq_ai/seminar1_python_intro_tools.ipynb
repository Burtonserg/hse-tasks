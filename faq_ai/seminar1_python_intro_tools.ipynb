{
 "cells": [
  {
   "cell_type": "markdown",
   "metadata": {},
   "source": [
    "<center>\n",
    "<img src=\"../../img/python_theme.png\">\n",
    "# Майнор \"Интеллектуальный анализ данных\" \n",
    "# Курс \"Введение в программирование\"\n",
    "<img src=\"../../img/faculty_logo.jpg\" height=\"240\" width=\"240\">\n",
    "\n",
    "## Автор материала: Юрий Кашницкий, ФКН НИУ ВШЭ\n",
    "</center>\n",
    "Материал распространяется на условиях лицензии <a href=\"https://opensource.org/licenses/MS-RL\">Ms-RL</a>. Можно использовать в любых целях, кроме коммерческих, но с обязательным упоминанием автора материала."
   ]
  },
  {
   "cell_type": "markdown",
   "metadata": {},
   "source": [
    "\"Введение в программирование\" - первый курс майнора, посвящён изучению основ и методологии программирования на основе языка Python, который широко используется для разработки и реализации методов анализа данных. Рассматриваются основные структуры и алгоритмы, работа с данными разного вида (тексты, бинарные файлы, изображения), создание графических пользовательских интерфейсов, инструменты и средства разработки и отладки программ."
   ]
  },
  {
   "cell_type": "markdown",
   "metadata": {},
   "source": [
    "## Программа практических занятий\n",
    "- Семинар 1. Введение в программирование. Знакомство c интерпретатором и со средой разработки PyCharm.\n",
    "- Семинар 2. Простые типы данных. Числа и операции над ними. Условный оператор.\n",
    "- Семинар 3. Циклы.\n",
    "- Семинар 4. Строки. Алгоритмы на строках.\n",
    "- Семинар 5. Списки и кортежи.\n",
    "- Семинар 6. Словари. Множества.\n",
    "- Семинар 7. Функции. Рекурсия.\n",
    "- Семинар 8. Работа с файлами.\n",
    "- Семинар 9. Контрольная работа.\n",
    "- Семинар 10. Алгоритмы. Сортировка и поиск. Задачи на линейный и бинарный поиск.\n",
    "- Семинар 11. Структуры данных. Задачи на использование различных структур данных хранения.\n",
    "- Семинар 12. Элементарные задачи на графы. Способы задания графов. Обход в глубину. Обход в ширину.\n",
    "- Семинар 13. Работа с библиотеками NumPy, Matplotlib, Seaborn.\n",
    "- Семинар 14. Работа с библиотекой Pandas.\n",
    "- Семинар 15. Работа со стандартной библиотекой."
   ]
  },
  {
   "cell_type": "markdown",
   "metadata": {},
   "source": [
    "# Семинар 1. Введение в программирование. Знакомство c интерпретатором и со средой разработки PyCharm"
   ]
  },
  {
   "cell_type": "markdown",
   "metadata": {},
   "source": [
    "### Часть 1. Установка Anaconda"
   ]
  },
  {
   "cell_type": "markdown",
   "metadata": {},
   "source": [
    "<img src=\"../../img/anaconda.png\" height=\"240\" width=\"240\">"
   ]
  },
  {
   "cell_type": "markdown",
   "metadata": {},
   "source": [
    "Python - это свободный интерпретируемый объектно-ориентированный расширяемый встраиваемый язык программирования очень высокого уровня (Г.Россум, Ф.Л.Дж.Дрейк, Д.С.Откидач \"Язык программирования Python\")\n",
    " - свободный - все исходные тексты открыты для любого использования, даже коммерческого\n",
    " - интерпретируемый - использует \"позднее связывание\"\n",
    " - объектно-ориентированный - классическая ОО модель с множественным наследованием\n",
    " - расширяемый - имеет строго определенные API для создания модулей, типов и классов на C или C++\n",
    " - встраиваемый - имеет строго определенные API для встраивания интерпретатора в другие программы\n",
    " - очень высокого уровня - динамическая типизация, встроенные типы данных высокого уровня (например, словари), классы, модули, исключения"
   ]
  },
  {
   "cell_type": "markdown",
   "metadata": {},
   "source": [
    "Код на Python чаще всего намного более читаемый, чем на C или C++, потому что:\n",
    "- типы данных высокого уровня позволяют выражать сложные операции одной или несколькими простыми командами\n",
    "- группирование инструкций выполняется отступами, а не фигурными скобками\n",
    "- не надо объявлять переменные"
   ]
  },
  {
   "cell_type": "markdown",
   "metadata": {},
   "source": [
    "В этом курсе мы используем сборку библиотек <a href=\"http://continuum.io/downloads\">Anaconda</a>, включающую интерпретатор Python, библиотеки для научных вычислений NumPy и SciPy, анализа данных Pandas, машинного обучения Scikit-learn и около 200 других. \n",
    "\n",
    "Следуем инструкциям, проверяем установку. В командной строке набираем"
   ]
  },
  {
   "cell_type": "markdown",
   "metadata": {},
   "source": [
    "<p><i><b>>> python</b></i></p>"
   ]
  },
  {
   "cell_type": "markdown",
   "metadata": {},
   "source": [
    "Дзен языка Python"
   ]
  },
  {
   "cell_type": "code",
   "execution_count": 8,
   "metadata": {
    "collapsed": false
   },
   "outputs": [
    {
     "name": "stdout",
     "output_type": "stream",
     "text": [
      "The Zen of Python, by Tim Peters\n",
      "\n",
      "Beautiful is better than ugly.\n",
      "Explicit is better than implicit.\n",
      "Simple is better than complex.\n",
      "Complex is better than complicated.\n",
      "Flat is better than nested.\n",
      "Sparse is better than dense.\n",
      "Readability counts.\n",
      "Special cases aren't special enough to break the rules.\n",
      "Although practicality beats purity.\n",
      "Errors should never pass silently.\n",
      "Unless explicitly silenced.\n",
      "In the face of ambiguity, refuse the temptation to guess.\n",
      "There should be one-- and preferably only one --obvious way to do it.\n",
      "Although that way may not be obvious at first unless you're Dutch.\n",
      "Now is better than never.\n",
      "Although never is often better than *right* now.\n",
      "If the implementation is hard to explain, it's a bad idea.\n",
      "If the implementation is easy to explain, it may be a good idea.\n",
      "Namespaces are one honking great idea -- let's do more of those!\n"
     ]
    }
   ],
   "source": [
    "import this"
   ]
  },
  {
   "cell_type": "markdown",
   "metadata": {},
   "source": [
    "Интерпретатор можно использовать в качестве настольного калькулятора"
   ]
  },
  {
   "cell_type": "code",
   "execution_count": 2,
   "metadata": {
    "collapsed": false
   },
   "outputs": [
    {
     "name": "stdout",
     "output_type": "stream",
     "text": [
      "4\n",
      "2187\n",
      "4.12\n",
      "Help on built-in function sqrt in module math:\n",
      "\n",
      "sqrt(...)\n",
      "    sqrt(x)\n",
      "    \n",
      "    Return the square root of x.\n",
      "\n"
     ]
    }
   ],
   "source": [
    "print 2 + 2\n",
    "print 3 ** 7\n",
    "import math\n",
    "print round(math.sqrt(17), 2)\n",
    "help(math.sqrt)"
   ]
  },
  {
   "cell_type": "markdown",
   "metadata": {},
   "source": [
    "Но Python способен и на большее :) Выведем все двузначные члены последовательности Фиббоначи. "
   ]
  },
  {
   "cell_type": "code",
   "execution_count": 2,
   "metadata": {
    "collapsed": false
   },
   "outputs": [
    {
     "name": "stdout",
     "output_type": "stream",
     "text": [
      "1,1,2,3,5,8,13,21,34,55,89,"
     ]
    }
   ],
   "source": [
    "a, b = 1, 1\n",
    "while a < 100:\n",
    "    print(a, end=\",\")\n",
    "    a, b = b, a + b"
   ]
  },
  {
   "cell_type": "markdown",
   "metadata": {},
   "source": [
    "Изучать Python продолжим на следующем семинаре, а пока настроим среду для грамотной работы с кодом и решения задач."
   ]
  },
  {
   "cell_type": "markdown",
   "metadata": {
    "collapsed": false
   },
   "source": [
    "### Часть 2. Введение в систему контроля версий git и веб-сервис GitHub "
   ]
  },
  {
   "cell_type": "markdown",
   "metadata": {},
   "source": [
    "Git - популярная система контроля версий, GitHub - популярный веб-сервис для совместной работы над IT-проектами.\n",
    "<a href=\"http://sixrevisions.com/git/interactive-git-tutorials/\">Обзор</a> трех ресурсов для интерактивного введения в Git. <a href=\"http://githowto.com/\">Еще один</a>."
   ]
  },
  {
   "cell_type": "markdown",
   "metadata": {},
   "source": [
    "Скачиваем (клонируем) репозиторий c данной тетрадкой IPython"
   ]
  },
  {
   "cell_type": "markdown",
   "metadata": {},
   "source": [
    "<p><i><b>>> git clone https://github.com/cs-hse/ML_DM_HSE_minor</b></i></p>"
   ]
  },
  {
   "cell_type": "markdown",
   "metadata": {},
   "source": [
    "Добавим файл. Например, файл primes_sum_1000.py с кодом для подсчета суммы всех простых чисел, не превосходящих 1000.  "
   ]
  },
  {
   "cell_type": "markdown",
   "metadata": {},
   "source": [
    "<p><i><b>>> git add primes_sum_1000.py</b></i></p>"
   ]
  },
  {
   "cell_type": "markdown",
   "metadata": {},
   "source": [
    "Внесем локально изменения (зафиксируем их в локальном репозитории)"
   ]
  },
  {
   "cell_type": "markdown",
   "metadata": {},
   "source": [
    "<p><i><b>>> git commit -m \"add primes sum calculator\"</b></i></p>"
   ]
  },
  {
   "cell_type": "markdown",
   "metadata": {},
   "source": [
    "Отправим изменения на сервер в ветку master"
   ]
  },
  {
   "cell_type": "markdown",
   "metadata": {},
   "source": [
    "<p><i><b>>> git push -u origin master</b></i></p>"
   ]
  },
  {
   "cell_type": "markdown",
   "metadata": {},
   "source": [
    "То же самое можно делать используя графический интерфейс, например <a href=\"http://www.syntevo.com/smartgit/\">SmartGit</a>."
   ]
  },
  {
   "cell_type": "markdown",
   "metadata": {},
   "source": [
    "<img src=\"../../img/smart_git.png\" height=100% width=100%>"
   ]
  },
  {
   "cell_type": "markdown",
   "metadata": {},
   "source": [
    "При использовании Git и GitHub приходится иметь дело с разделением ветвей кода (branching), слиянием изменений (merging), восстановлением потерянного кода и другими вопросами, многие из которых рассмотрены в <a href=\"https://www.udacity.com/course/how-to-use-git-and-github--ud775\">курсе</a> на Udacity. <a href=\"http://habrahabr.ru/post/125799/\">Введение</a> в GitHub на русском на Хабрахабре."
   ]
  },
  {
   "cell_type": "markdown",
   "metadata": {},
   "source": [
    "### Часть 3. Среда разработки PyCharm"
   ]
  },
  {
   "cell_type": "markdown",
   "metadata": {},
   "source": [
    "<a href URL=\"https://www.jetbrains.com/pycharm/\">PyCharm</a> компании JetBrains - одна из самых популярных сред разработки (IDE) на языке Python. Из плюсов, перечисленных в одном из <a href URL=\"http://habrahabr.ru/post/122018/\">обзоров</a> и важных для нас в этом курсе:\n",
    " - интуитивно понятная интеграция с Git\n",
    " - удобное автоматическое дополнение текста\n",
    " - множество \"горячих клавиш\" для перехода к определения сущности, списка упоминаний конструкции, подсказок по сигнатуре функций и прочих мелочей\n",
    " - встроенная проверка кода на соответствие стандарту PEP\n",
    " \n",
    " <img src=\"../../img/pycharm_screen.png\">\n",
    " \n",
    " <a href URL=\"http://pythonworld.ru/osnovy/pycharm-python-tutorial.html\">Введение в PyCharm</a>"
   ]
  },
  {
   "cell_type": "markdown",
   "metadata": {},
   "source": [
    "### Часть 4. Домашние задания"
   ]
  },
  {
   "cell_type": "markdown",
   "metadata": {},
   "source": [
    "Сдача и прием задач курса будет проходить на базе платформы Яндекс.Контест."
   ]
  }
 ],
 "metadata": {
  "kernelspec": {
   "display_name": "Python 2",
   "language": "python",
   "name": "python2"
  },
  "language_info": {
   "codemirror_mode": {
    "name": "ipython",
    "version": 2
   },
   "file_extension": ".py",
   "mimetype": "text/x-python",
   "name": "python",
   "nbconvert_exporter": "python",
   "pygments_lexer": "ipython2",
   "version": "2.7.12"
  },
  "name": "seminar1_python_intro_tools.ipynb"
 },
 "nbformat": 4,
 "nbformat_minor": 0
}
