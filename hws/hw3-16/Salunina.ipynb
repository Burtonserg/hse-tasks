{
 "cells": [
  {
   "cell_type": "markdown",
   "metadata": {},
   "source": [
    "# Деревья решений\n",
    "Шестаков А.В., Панов А.И. Майнор по анализу данных 12/04/2016"
   ]
  },
  {
   "cell_type": "code",
   "execution_count": 2,
   "metadata": {
    "collapsed": false
   },
   "outputs": [],
   "source": [
    "import scipy as sp\n",
    "import numpy as np\n",
    "import pandas as pd\n",
    "import scipy.stats as stats\n",
    "import matplotlib.pyplot as plt\n",
    "\n",
    "%matplotlib inline"
   ]
  },
  {
   "cell_type": "markdown",
   "metadata": {},
   "source": [
    "Загрузите [данные](https://www.dropbox.com/s/3t1moa1wpflx2u9/california.dat?dl=0).\n",
    "\n",
    "**Задание 1:** Найти оптимальную глубину дерева.<br/>\n",
    "Разделите выборку на train-test в пропорции 70/30.<br/>\n",
    "Обучите деревья с глубиной от `1` до `30`. Для каждой глубины расчитайте среднюю квадратичную ошибку на train и на test<br/>\n",
    "Изобразите эти ошибки на одном графике, сделайте вывод по поводу оптимальной глубины дерева."
   ]
  },
  {
   "cell_type": "code",
   "execution_count": 4,
   "metadata": {
    "collapsed": false
   },
   "outputs": [
    {
     "data": {
      "text/html": [
       "<div>\n",
       "<table border=\"1\" class=\"dataframe\">\n",
       "  <thead>\n",
       "    <tr style=\"text-align: right;\">\n",
       "      <th></th>\n",
       "      <th>Longitude</th>\n",
       "      <th>Latitude</th>\n",
       "      <th>HousingMedianAge</th>\n",
       "      <th>TotalRooms</th>\n",
       "      <th>TotalBedrooms</th>\n",
       "      <th>Population</th>\n",
       "      <th>Households</th>\n",
       "      <th>MedianIncome</th>\n",
       "      <th>MedianHouseValue</th>\n",
       "    </tr>\n",
       "  </thead>\n",
       "  <tbody>\n",
       "    <tr>\n",
       "      <th>0</th>\n",
       "      <td>-117.03</td>\n",
       "      <td>32.78</td>\n",
       "      <td>17</td>\n",
       "      <td>5481</td>\n",
       "      <td>1618</td>\n",
       "      <td>2957</td>\n",
       "      <td>1537</td>\n",
       "      <td>2.5707</td>\n",
       "      <td>171300</td>\n",
       "    </tr>\n",
       "    <tr>\n",
       "      <th>1</th>\n",
       "      <td>-118.23</td>\n",
       "      <td>33.80</td>\n",
       "      <td>26</td>\n",
       "      <td>239</td>\n",
       "      <td>135</td>\n",
       "      <td>165</td>\n",
       "      <td>112</td>\n",
       "      <td>1.3333</td>\n",
       "      <td>187500</td>\n",
       "    </tr>\n",
       "    <tr>\n",
       "      <th>2</th>\n",
       "      <td>-122.46</td>\n",
       "      <td>37.71</td>\n",
       "      <td>39</td>\n",
       "      <td>2076</td>\n",
       "      <td>482</td>\n",
       "      <td>1738</td>\n",
       "      <td>445</td>\n",
       "      <td>3.1958</td>\n",
       "      <td>232100</td>\n",
       "    </tr>\n",
       "    <tr>\n",
       "      <th>3</th>\n",
       "      <td>-122.06</td>\n",
       "      <td>37.94</td>\n",
       "      <td>19</td>\n",
       "      <td>4005</td>\n",
       "      <td>972</td>\n",
       "      <td>1896</td>\n",
       "      <td>893</td>\n",
       "      <td>2.5268</td>\n",
       "      <td>235700</td>\n",
       "    </tr>\n",
       "    <tr>\n",
       "      <th>4</th>\n",
       "      <td>-122.87</td>\n",
       "      <td>38.68</td>\n",
       "      <td>32</td>\n",
       "      <td>4073</td>\n",
       "      <td>718</td>\n",
       "      <td>2053</td>\n",
       "      <td>629</td>\n",
       "      <td>3.7352</td>\n",
       "      <td>228000</td>\n",
       "    </tr>\n",
       "  </tbody>\n",
       "</table>\n",
       "</div>"
      ],
      "text/plain": [
       "   Longitude  Latitude  HousingMedianAge  TotalRooms  TotalBedrooms  \\\n",
       "0    -117.03     32.78                17        5481           1618   \n",
       "1    -118.23     33.80                26         239            135   \n",
       "2    -122.46     37.71                39        2076            482   \n",
       "3    -122.06     37.94                19        4005            972   \n",
       "4    -122.87     38.68                32        4073            718   \n",
       "\n",
       "   Population  Households  MedianIncome  MedianHouseValue  \n",
       "0        2957        1537        2.5707            171300  \n",
       "1         165         112        1.3333            187500  \n",
       "2        1738         445        3.1958            232100  \n",
       "3        1896         893        2.5268            235700  \n",
       "4        2053         629        3.7352            228000  "
      ]
     },
     "execution_count": 4,
     "metadata": {},
     "output_type": "execute_result"
    }
   ],
   "source": [
    "df = pd.read_csv('california.dat')\n",
    "df.head()"
   ]
  },
  {
   "cell_type": "code",
   "execution_count": 5,
   "metadata": {
    "collapsed": false
   },
   "outputs": [
    {
     "data": {
      "text/plain": [
       "['Longitude',\n",
       " 'Latitude',\n",
       " 'HousingMedianAge',\n",
       " 'TotalRooms',\n",
       " 'TotalBedrooms',\n",
       " 'Population',\n",
       " 'Households',\n",
       " 'MedianIncome']"
      ]
     },
     "execution_count": 5,
     "metadata": {},
     "output_type": "execute_result"
    }
   ],
   "source": [
    "features = list(df.columns.values)\n",
    "features.remove('MedianHouseValue')\n",
    "features"
   ]
  },
  {
   "cell_type": "code",
   "execution_count": 7,
   "metadata": {
    "collapsed": false
   },
   "outputs": [
    {
     "name": "stdout",
     "output_type": "stream",
     "text": [
      "(14447, 9)\n",
      "(6192, 9)\n"
     ]
    }
   ],
   "source": [
    "import sklearn as sk\n",
    "from sklearn.cross_validation import train_test_split\n",
    "a = sk.cross_validation.train_test_split(df, test_size = 0.3, train_size = 0.7)\n",
    "print(np.shape(a[0]))\n",
    "print(np.shape(a[1]))"
   ]
  },
  {
   "cell_type": "code",
   "execution_count": 8,
   "metadata": {
    "collapsed": false
   },
   "outputs": [],
   "source": [
    "target = a[0]['MedianHouseValue']\n",
    "y_true = a[1]['MedianHouseValue']"
   ]
  },
  {
   "cell_type": "code",
   "execution_count": 9,
   "metadata": {
    "collapsed": false
   },
   "outputs": [],
   "source": [
    "del a[0]['MedianHouseValue']\n",
    "del a[1]['MedianHouseValue']"
   ]
  },
  {
   "cell_type": "code",
   "execution_count": 10,
   "metadata": {
    "collapsed": false
   },
   "outputs": [],
   "source": [
    "import sklearn\n",
    "from sklearn.metrics import mean_squared_error\n",
    "MSE_train = []\n",
    "MSE_test = []\n",
    "for x in range(1, 31):\n",
    "    from sklearn import tree\n",
    "    clf = tree.DecisionTreeRegressor(max_depth=x)\n",
    "    clf = clf.fit(a[0], target)\n",
    "    \n",
    "    y_pred = clf.predict(a[1])\n",
    "    test = sklearn.metrics.mean_squared_error(y_true, y_pred)\n",
    "    MSE_test.append(test)\n",
    "    \n",
    "    train_pred = clf.predict(a[0])\n",
    "    train = sklearn.metrics.mean_squared_error(target, train_pred)\n",
    "    MSE_train.append(train)"
   ]
  },
  {
   "cell_type": "code",
   "execution_count": 11,
   "metadata": {
    "collapsed": false,
    "scrolled": true
   },
   "outputs": [],
   "source": [
    "mse_test_df = pd.DataFrame(MSE_test)\n",
    "mse_test_df.index = mse_test_df.index + 1\n",
    "mse_test_df.index.name = 'Depth'\n",
    "mse_test_df.columns = ['Mean squared error for test']"
   ]
  },
  {
   "cell_type": "code",
   "execution_count": 12,
   "metadata": {
    "collapsed": false,
    "scrolled": true
   },
   "outputs": [],
   "source": [
    "mse_train_df = pd.DataFrame(MSE_train)\n",
    "mse_train_df.index = mse_train_df.index + 1\n",
    "mse_train_df.index.name = 'Depth'\n",
    "mse_train_df.columns = ['Mean squared error for train']"
   ]
  },
  {
   "cell_type": "code",
   "execution_count": 13,
   "metadata": {
    "collapsed": false,
    "scrolled": true
   },
   "outputs": [
    {
     "data": {
      "text/html": [
       "<div>\n",
       "<table border=\"1\" class=\"dataframe\">\n",
       "  <thead>\n",
       "    <tr style=\"text-align: right;\">\n",
       "      <th></th>\n",
       "      <th>Mean squared error for test</th>\n",
       "      <th>Mean squared error for train</th>\n",
       "    </tr>\n",
       "    <tr>\n",
       "      <th>Depth</th>\n",
       "      <th></th>\n",
       "      <th></th>\n",
       "    </tr>\n",
       "  </thead>\n",
       "  <tbody>\n",
       "    <tr>\n",
       "      <th>1</th>\n",
       "      <td>9.124289e+09</td>\n",
       "      <td>9.227153e+09</td>\n",
       "    </tr>\n",
       "    <tr>\n",
       "      <th>2</th>\n",
       "      <td>7.389267e+09</td>\n",
       "      <td>7.382779e+09</td>\n",
       "    </tr>\n",
       "    <tr>\n",
       "      <th>3</th>\n",
       "      <td>6.813598e+09</td>\n",
       "      <td>6.726234e+09</td>\n",
       "    </tr>\n",
       "    <tr>\n",
       "      <th>4</th>\n",
       "      <td>5.917550e+09</td>\n",
       "      <td>5.918738e+09</td>\n",
       "    </tr>\n",
       "    <tr>\n",
       "      <th>5</th>\n",
       "      <td>5.396317e+09</td>\n",
       "      <td>5.354607e+09</td>\n",
       "    </tr>\n",
       "    <tr>\n",
       "      <th>6</th>\n",
       "      <td>4.874956e+09</td>\n",
       "      <td>4.757427e+09</td>\n",
       "    </tr>\n",
       "    <tr>\n",
       "      <th>7</th>\n",
       "      <td>4.277594e+09</td>\n",
       "      <td>3.879352e+09</td>\n",
       "    </tr>\n",
       "    <tr>\n",
       "      <th>8</th>\n",
       "      <td>3.922176e+09</td>\n",
       "      <td>3.249793e+09</td>\n",
       "    </tr>\n",
       "    <tr>\n",
       "      <th>9</th>\n",
       "      <td>3.919688e+09</td>\n",
       "      <td>2.709675e+09</td>\n",
       "    </tr>\n",
       "    <tr>\n",
       "      <th>10</th>\n",
       "      <td>3.915253e+09</td>\n",
       "      <td>2.191507e+09</td>\n",
       "    </tr>\n",
       "    <tr>\n",
       "      <th>11</th>\n",
       "      <td>3.858252e+09</td>\n",
       "      <td>1.744787e+09</td>\n",
       "    </tr>\n",
       "    <tr>\n",
       "      <th>12</th>\n",
       "      <td>3.894815e+09</td>\n",
       "      <td>1.315377e+09</td>\n",
       "    </tr>\n",
       "    <tr>\n",
       "      <th>13</th>\n",
       "      <td>4.128263e+09</td>\n",
       "      <td>9.760306e+08</td>\n",
       "    </tr>\n",
       "    <tr>\n",
       "      <th>14</th>\n",
       "      <td>4.150227e+09</td>\n",
       "      <td>7.065479e+08</td>\n",
       "    </tr>\n",
       "    <tr>\n",
       "      <th>15</th>\n",
       "      <td>4.403744e+09</td>\n",
       "      <td>4.803313e+08</td>\n",
       "    </tr>\n",
       "    <tr>\n",
       "      <th>16</th>\n",
       "      <td>4.616807e+09</td>\n",
       "      <td>3.253611e+08</td>\n",
       "    </tr>\n",
       "    <tr>\n",
       "      <th>17</th>\n",
       "      <td>4.705539e+09</td>\n",
       "      <td>2.164439e+08</td>\n",
       "    </tr>\n",
       "    <tr>\n",
       "      <th>18</th>\n",
       "      <td>4.575140e+09</td>\n",
       "      <td>1.424232e+08</td>\n",
       "    </tr>\n",
       "    <tr>\n",
       "      <th>19</th>\n",
       "      <td>4.600661e+09</td>\n",
       "      <td>9.036607e+07</td>\n",
       "    </tr>\n",
       "    <tr>\n",
       "      <th>20</th>\n",
       "      <td>4.735023e+09</td>\n",
       "      <td>5.441975e+07</td>\n",
       "    </tr>\n",
       "    <tr>\n",
       "      <th>21</th>\n",
       "      <td>4.725520e+09</td>\n",
       "      <td>3.231784e+07</td>\n",
       "    </tr>\n",
       "    <tr>\n",
       "      <th>22</th>\n",
       "      <td>4.697941e+09</td>\n",
       "      <td>1.760334e+07</td>\n",
       "    </tr>\n",
       "    <tr>\n",
       "      <th>23</th>\n",
       "      <td>4.729549e+09</td>\n",
       "      <td>9.609852e+06</td>\n",
       "    </tr>\n",
       "    <tr>\n",
       "      <th>24</th>\n",
       "      <td>4.764869e+09</td>\n",
       "      <td>5.220730e+06</td>\n",
       "    </tr>\n",
       "    <tr>\n",
       "      <th>25</th>\n",
       "      <td>4.723971e+09</td>\n",
       "      <td>2.671050e+06</td>\n",
       "    </tr>\n",
       "    <tr>\n",
       "      <th>26</th>\n",
       "      <td>4.731140e+09</td>\n",
       "      <td>1.487914e+06</td>\n",
       "    </tr>\n",
       "    <tr>\n",
       "      <th>27</th>\n",
       "      <td>4.717017e+09</td>\n",
       "      <td>8.495587e+05</td>\n",
       "    </tr>\n",
       "    <tr>\n",
       "      <th>28</th>\n",
       "      <td>4.727196e+09</td>\n",
       "      <td>3.583253e+05</td>\n",
       "    </tr>\n",
       "    <tr>\n",
       "      <th>29</th>\n",
       "      <td>4.690152e+09</td>\n",
       "      <td>9.446711e+04</td>\n",
       "    </tr>\n",
       "    <tr>\n",
       "      <th>30</th>\n",
       "      <td>4.707507e+09</td>\n",
       "      <td>1.159558e+04</td>\n",
       "    </tr>\n",
       "  </tbody>\n",
       "</table>\n",
       "</div>"
      ],
      "text/plain": [
       "       Mean squared error for test  Mean squared error for train\n",
       "Depth                                                           \n",
       "1                     9.124289e+09                  9.227153e+09\n",
       "2                     7.389267e+09                  7.382779e+09\n",
       "3                     6.813598e+09                  6.726234e+09\n",
       "4                     5.917550e+09                  5.918738e+09\n",
       "5                     5.396317e+09                  5.354607e+09\n",
       "6                     4.874956e+09                  4.757427e+09\n",
       "7                     4.277594e+09                  3.879352e+09\n",
       "8                     3.922176e+09                  3.249793e+09\n",
       "9                     3.919688e+09                  2.709675e+09\n",
       "10                    3.915253e+09                  2.191507e+09\n",
       "11                    3.858252e+09                  1.744787e+09\n",
       "12                    3.894815e+09                  1.315377e+09\n",
       "13                    4.128263e+09                  9.760306e+08\n",
       "14                    4.150227e+09                  7.065479e+08\n",
       "15                    4.403744e+09                  4.803313e+08\n",
       "16                    4.616807e+09                  3.253611e+08\n",
       "17                    4.705539e+09                  2.164439e+08\n",
       "18                    4.575140e+09                  1.424232e+08\n",
       "19                    4.600661e+09                  9.036607e+07\n",
       "20                    4.735023e+09                  5.441975e+07\n",
       "21                    4.725520e+09                  3.231784e+07\n",
       "22                    4.697941e+09                  1.760334e+07\n",
       "23                    4.729549e+09                  9.609852e+06\n",
       "24                    4.764869e+09                  5.220730e+06\n",
       "25                    4.723971e+09                  2.671050e+06\n",
       "26                    4.731140e+09                  1.487914e+06\n",
       "27                    4.717017e+09                  8.495587e+05\n",
       "28                    4.727196e+09                  3.583253e+05\n",
       "29                    4.690152e+09                  9.446711e+04\n",
       "30                    4.707507e+09                  1.159558e+04"
      ]
     },
     "execution_count": 13,
     "metadata": {},
     "output_type": "execute_result"
    }
   ],
   "source": [
    "mse = pd.concat([mse_test_df, mse_train_df], axis=1)\n",
    "mse"
   ]
  },
  {
   "cell_type": "code",
   "execution_count": 18,
   "metadata": {
    "collapsed": false
   },
   "outputs": [
    {
     "data": {
      "text/plain": [
       "<matplotlib.text.Text at 0x2dae2176e10>"
      ]
     },
     "execution_count": 18,
     "metadata": {},
     "output_type": "execute_result"
    },
    {
     "data": {
      "image/png": "[encoded data removed]",
      "text/plain": [
       "<matplotlib.figure.Figure at 0x2dae04f17b8>"
      ]
     },
     "metadata": {},
     "output_type": "display_data"
    }
   ],
   "source": [
    "mse.plot(figsize=(16,7))\n",
    "plt.ylabel('MSE')"
   ]
  },
  {
   "cell_type": "code",
   "execution_count": 15,
   "metadata": {
    "collapsed": false,
    "scrolled": true
   },
   "outputs": [
    {
     "data": {
      "text/plain": [
       "Depth\n",
       "11    3.858252e+09\n",
       "12    3.894815e+09\n",
       "10    3.915253e+09\n",
       "9     3.919688e+09\n",
       "8     3.922176e+09\n",
       "13    4.128263e+09\n",
       "14    4.150227e+09\n",
       "7     4.277594e+09\n",
       "15    4.403744e+09\n",
       "18    4.575140e+09\n",
       "19    4.600661e+09\n",
       "16    4.616807e+09\n",
       "29    4.690152e+09\n",
       "22    4.697941e+09\n",
       "17    4.705539e+09\n",
       "30    4.707507e+09\n",
       "27    4.717017e+09\n",
       "25    4.723971e+09\n",
       "21    4.725520e+09\n",
       "28    4.727196e+09\n",
       "23    4.729549e+09\n",
       "26    4.731140e+09\n",
       "20    4.735023e+09\n",
       "24    4.764869e+09\n",
       "6     4.874956e+09\n",
       "5     5.396317e+09\n",
       "4     5.917550e+09\n",
       "3     6.813598e+09\n",
       "2     7.389267e+09\n",
       "1     9.124289e+09\n",
       "Name: Mean squared error for test, dtype: float64"
      ]
     },
     "execution_count": 15,
     "metadata": {},
     "output_type": "execute_result"
    }
   ],
   "source": [
    "# В порядке возрастания значений\n",
    "mse_test_df['Mean squared error for test'].sort_values(0, ascending=True)"
   ]
  },
  {
   "cell_type": "code",
   "execution_count": 16,
   "metadata": {
    "collapsed": false,
    "scrolled": true
   },
   "outputs": [
    {
     "data": {
      "text/plain": [
       "Depth\n",
       "30    1.159558e+04\n",
       "29    9.446711e+04\n",
       "28    3.583253e+05\n",
       "27    8.495587e+05\n",
       "26    1.487914e+06\n",
       "25    2.671050e+06\n",
       "24    5.220730e+06\n",
       "23    9.609852e+06\n",
       "22    1.760334e+07\n",
       "21    3.231784e+07\n",
       "20    5.441975e+07\n",
       "19    9.036607e+07\n",
       "18    1.424232e+08\n",
       "17    2.164439e+08\n",
       "16    3.253611e+08\n",
       "15    4.803313e+08\n",
       "14    7.065479e+08\n",
       "13    9.760306e+08\n",
       "12    1.315377e+09\n",
       "11    1.744787e+09\n",
       "10    2.191507e+09\n",
       "9     2.709675e+09\n",
       "8     3.249793e+09\n",
       "7     3.879352e+09\n",
       "6     4.757427e+09\n",
       "5     5.354607e+09\n",
       "4     5.918738e+09\n",
       "3     6.726234e+09\n",
       "2     7.382779e+09\n",
       "1     9.227153e+09\n",
       "Name: Mean squared error for train, dtype: float64"
      ]
     },
     "execution_count": 16,
     "metadata": {},
     "output_type": "execute_result"
    }
   ],
   "source": [
    "mse_train_df['Mean squared error for train'].sort_values(0, ascending=True)"
   ]
  },
  {
   "cell_type": "markdown",
   "metadata": {},
   "source": [
    "Глядя исключительно на график, можно сказать, что значение оптимальной глубины для тестовой выборки лежит в границах от 5 до 15, поскольку на этом отрезке достигается локальный минимум. Отсортировав значения MSE в порядке возрастания, можем найти оптимальную глубину (на отрезке от 1 до 30), которая равна 11. <br/> <br/> \n",
    "Относительно обучающей выборки можно сказать, что чем больше глубина, тем меньше ошибка (что соответствует правде, ведь, \"углубляясь\", модель с каждым разом делит более точно, увеличивая количество классов)."
   ]
  },
  {
   "cell_type": "markdown",
   "metadata": {},
   "source": [
    "**Задание 2:** Выведите важности признаков. Для этого воспользуйтесь `DecisionTreeRegressor.feature_importances_`"
   ]
  },
  {
   "cell_type": "code",
   "execution_count": 100,
   "metadata": {
    "collapsed": false
   },
   "outputs": [
    {
     "data": {
      "text/plain": [
       "array([ 0.16884155,  0.16916194,  0.06224544,  0.02370916,  0.02171257,\n",
       "        0.029224  ,  0.01778158,  0.50732375])"
      ]
     },
     "execution_count": 100,
     "metadata": {},
     "output_type": "execute_result"
    }
   ],
   "source": [
    "importances = clf.feature_importances_\n",
    "importances"
   ]
  },
  {
   "cell_type": "code",
   "execution_count": 118,
   "metadata": {
    "collapsed": false,
    "scrolled": true
   },
   "outputs": [
    {
     "data": {
      "text/html": [
       "<div>\n",
       "<table border=\"1\" class=\"dataframe\">\n",
       "  <thead>\n",
       "    <tr style=\"text-align: right;\">\n",
       "      <th></th>\n",
       "      <th>Importances</th>\n",
       "    </tr>\n",
       "    <tr>\n",
       "      <th>Features</th>\n",
       "      <th></th>\n",
       "    </tr>\n",
       "  </thead>\n",
       "  <tbody>\n",
       "    <tr>\n",
       "      <th>Longitude</th>\n",
       "      <td>0.168842</td>\n",
       "    </tr>\n",
       "    <tr>\n",
       "      <th>Latitude</th>\n",
       "      <td>0.169162</td>\n",
       "    </tr>\n",
       "    <tr>\n",
       "      <th>HousingMedianAge</th>\n",
       "      <td>0.062245</td>\n",
       "    </tr>\n",
       "    <tr>\n",
       "      <th>TotalRooms</th>\n",
       "      <td>0.023709</td>\n",
       "    </tr>\n",
       "    <tr>\n",
       "      <th>TotalBedrooms</th>\n",
       "      <td>0.021713</td>\n",
       "    </tr>\n",
       "    <tr>\n",
       "      <th>Population</th>\n",
       "      <td>0.029224</td>\n",
       "    </tr>\n",
       "    <tr>\n",
       "      <th>Households</th>\n",
       "      <td>0.017782</td>\n",
       "    </tr>\n",
       "    <tr>\n",
       "      <th>MedianIncome</th>\n",
       "      <td>0.507324</td>\n",
       "    </tr>\n",
       "  </tbody>\n",
       "</table>\n",
       "</div>"
      ],
      "text/plain": [
       "                  Importances\n",
       "Features                     \n",
       "Longitude            0.168842\n",
       "Latitude             0.169162\n",
       "HousingMedianAge     0.062245\n",
       "TotalRooms           0.023709\n",
       "TotalBedrooms        0.021713\n",
       "Population           0.029224\n",
       "Households           0.017782\n",
       "MedianIncome         0.507324"
      ]
     },
     "execution_count": 118,
     "metadata": {},
     "output_type": "execute_result"
    }
   ],
   "source": [
    "imp = pd.DataFrame(importances)\n",
    "imp.index = features\n",
    "imp.index.name = 'Features'\n",
    "imp.columns = ['Importances']\n",
    "imp\n"
   ]
  },
  {
   "cell_type": "code",
   "execution_count": 119,
   "metadata": {
    "collapsed": false
   },
   "outputs": [
    {
     "data": {
      "text/plain": [
       "Features\n",
       "MedianIncome        0.507324\n",
       "Latitude            0.169162\n",
       "Longitude           0.168842\n",
       "HousingMedianAge    0.062245\n",
       "Population          0.029224\n",
       "TotalRooms          0.023709\n",
       "TotalBedrooms       0.021713\n",
       "Households          0.017782\n",
       "Name: Importances, dtype: float64"
      ]
     },
     "execution_count": 119,
     "metadata": {},
     "output_type": "execute_result"
    }
   ],
   "source": [
    "# В порядке убывания значений\n",
    "imp['Importances'].sort_values(0, ascending=False)"
   ]
  },
  {
   "cell_type": "markdown",
   "metadata": {},
   "source": [
    "**Задание 3:** Поразмышляйте на темы:\n",
    "* Обработки пропусков в данных.\n",
    "* Как сделать разделяющие плоскости непараллельные осям?"
   ]
  },
  {
   "cell_type": "markdown",
   "metadata": {},
   "source": [
    "**Обработка пропусков данных** <br/><br/>\n",
    "Зачастую в предложенных данных могут отсутствовать какие-либо значения (по причине отсутсвия записи о значении признака или по любой другой). Однако, если удалять все строки, содержащие пропуски, может сильно сократиться выборка, вследствие чего построенная на подобных данных модель будет недостаточно точно предсказывать значения (по параметру target). Поэтому необходимо каким-то образом заменять пропуски данных. Для этого используют следующие методы:\n",
    "* Заменять наиболее вероятным (в случае непрерывных данных замена производится на среднее значение из наиболее вероятного интервала, число интервалов варьируется в зависимости от объема выборки – чем она больше, тем больше интервалов; в дискретном случае – выбирается значение с наибольшей вероятностью) <br/><br/>\n",
    "* Заменять случайными значениями<br/><br/>\n",
    "* Заменять средним (производится замена пропусков на случайное значение из распределения, параметры которого оцениваются из имеющихся значений в столбце)<br/><br/>\n",
    "* Заменять медианой<br/><br/>\n",
    "* Заменять значением \"Не задано\" (только для дискретных величин) <br/><br/>\n",
    "\n",
    "P.S.: поскольку самостоятельно я придумала только три метода из предложенных (случайное значение из заданного интервала, среднее, медиана), я решила почитать статьи в Интернете на данную тему. В связи с этим остальные методы взяты из данного [источника](https://basegroup.ru/deductor/function/algorithm/filling-gaps) (и неудивительно, что мои методы входят в этот список).\n",
    "<br/><br/>\n",
    "Относительно функций, которые можно использовать при замене missing data, хорошо написано на сайте [pandas](http://pandas.pydata.org/pandas-docs/stable/missing_data.html). Я решила, что копипастить просто не честно."
   ]
  },
  {
   "cell_type": "markdown",
   "metadata": {
    "collapsed": true
   },
   "source": [
    "**Как сделать разделяющие плоскости непараллельные осям?** <br/><br/>\n",
    "\n",
    "\n",
    "Для этого можно использовать другие критерии разделения помимо \"решающего пня\" (при таком способе деления объектов в узлах в большинстве случаев деревья получаются значительно большей высоты и требуется гораздо большее их число для достижения сравнимого качества, чем в случае с произвольно ориентированными линейными (а тем более нелинейными) разделяющими поверхностями), например:\n",
    "* линейный ориентированный критерий: <br/><br/>\n",
    "$C_2(x, w, τ ) = [xw <= τ ]$ <br/><br/>\n",
    "* нелинейный критерий второго порядка: <br/><br/>\n",
    "$C_3(x, w, W, τ ) = [xW x^T + xw <= τ ]$ <br/><br/>\n",
    "\n",
    "[Рыжков, 2015](http://www.machinelearning.ru/wiki/images/d/d8/2015_517_RyzhkovAM.pdf)"
   ]
  },
  {
   "cell_type": "code",
   "execution_count": null,
   "metadata": {
    "collapsed": true
   },
   "outputs": [],
   "source": []
  }
 ],
 "metadata": {
  "kernelspec": {
   "display_name": "Python 3",
   "language": "python",
   "name": "python3"
  },
  "language_info": {
   "codemirror_mode": {
    "name": "ipython",
    "version": 3
   },
   "file_extension": ".py",
   "mimetype": "text/x-python",
   "name": "python",
   "nbconvert_exporter": "python",
   "pygments_lexer": "ipython3",
   "version": "3.5.1"
  }
 },
 "nbformat": 4,
 "nbformat_minor": 0
}
