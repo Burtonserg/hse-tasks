{
 "cells": [
  {
   "cell_type": "markdown",
   "metadata": {},
   "source": [
    "# Деревья решений.Домашнее задание\n",
    "\n"
   ]
  },
  {
   "cell_type": "markdown",
   "metadata": {},
   "source": [
    "дедлайн: 20.05.16"
   ]
  },
  {
   "cell_type": "code",
   "execution_count": 1,
   "metadata": {
    "collapsed": true
   },
   "outputs": [],
   "source": [
    "import math\n",
    "import numpy as np\n",
    "import pandas as pd\n",
    "\n",
    "from sklearn.cross_validation import train_test_split\n",
    "from sklearn import tree\n",
    "from sklearn import metrics\n",
    "\n",
    "import matplotlib.pyplot as plt\n",
    "\n",
    "plt.style.use('ggplot')\n",
    "%matplotlib inline\n",
    "\n",
    "from IPython.core.display import display\n"
   ]
  },
  {
   "cell_type": "markdown",
   "metadata": {},
   "source": [
    "Загрузите [данные](https://www.dropbox.com/s/3t1moa1wpflx2u9/california.dat?dl=0).\n",
    "\n",
    "**Задание 1:** Найти оптимальную глубину дерева.<br/>\n",
    "Разделите выборку на train-test в пропорции 70/30.<br/>\n",
    "Обучите деревья с глубиной от `1` до `30`. Для каждой глубины расчитайте среднюю квадратичную ошибку на train и на test<br/>\n",
    "Изобразите эти ошибки на одном графике, сделайте вывод по поводу оптимальной глубины дерева."
   ]
  },
  {
   "cell_type": "code",
   "execution_count": 2,
   "metadata": {
    "collapsed": false
   },
   "outputs": [
    {
     "name": "stdout",
     "output_type": "stream",
     "text": [
      "Index(['Longitude', 'Latitude', 'HousingMedianAge', 'TotalRooms',\n",
      "       'TotalBedrooms', 'Population', 'Households', 'MedianIncome',\n",
      "       'MedianHouseValue'],\n",
      "      dtype='object')\n"
     ]
    },
    {
     "data": {
      "text/html": [
       "<div>\n",
       "<table border=\"1\" class=\"dataframe\">\n",
       "  <thead>\n",
       "    <tr style=\"text-align: right;\">\n",
       "      <th></th>\n",
       "      <th>Longitude</th>\n",
       "      <th>Latitude</th>\n",
       "      <th>HousingMedianAge</th>\n",
       "      <th>TotalRooms</th>\n",
       "      <th>TotalBedrooms</th>\n",
       "      <th>Population</th>\n",
       "      <th>Households</th>\n",
       "      <th>MedianIncome</th>\n",
       "      <th>MedianHouseValue</th>\n",
       "    </tr>\n",
       "  </thead>\n",
       "  <tbody>\n",
       "    <tr>\n",
       "      <th>0</th>\n",
       "      <td>-117.03</td>\n",
       "      <td>32.78</td>\n",
       "      <td>17</td>\n",
       "      <td>5481</td>\n",
       "      <td>1618</td>\n",
       "      <td>2957</td>\n",
       "      <td>1537</td>\n",
       "      <td>2.5707</td>\n",
       "      <td>171300</td>\n",
       "    </tr>\n",
       "    <tr>\n",
       "      <th>1</th>\n",
       "      <td>-118.23</td>\n",
       "      <td>33.80</td>\n",
       "      <td>26</td>\n",
       "      <td>239</td>\n",
       "      <td>135</td>\n",
       "      <td>165</td>\n",
       "      <td>112</td>\n",
       "      <td>1.3333</td>\n",
       "      <td>187500</td>\n",
       "    </tr>\n",
       "    <tr>\n",
       "      <th>2</th>\n",
       "      <td>-122.46</td>\n",
       "      <td>37.71</td>\n",
       "      <td>39</td>\n",
       "      <td>2076</td>\n",
       "      <td>482</td>\n",
       "      <td>1738</td>\n",
       "      <td>445</td>\n",
       "      <td>3.1958</td>\n",
       "      <td>232100</td>\n",
       "    </tr>\n",
       "    <tr>\n",
       "      <th>3</th>\n",
       "      <td>-122.06</td>\n",
       "      <td>37.94</td>\n",
       "      <td>19</td>\n",
       "      <td>4005</td>\n",
       "      <td>972</td>\n",
       "      <td>1896</td>\n",
       "      <td>893</td>\n",
       "      <td>2.5268</td>\n",
       "      <td>235700</td>\n",
       "    </tr>\n",
       "    <tr>\n",
       "      <th>4</th>\n",
       "      <td>-122.87</td>\n",
       "      <td>38.68</td>\n",
       "      <td>32</td>\n",
       "      <td>4073</td>\n",
       "      <td>718</td>\n",
       "      <td>2053</td>\n",
       "      <td>629</td>\n",
       "      <td>3.7352</td>\n",
       "      <td>228000</td>\n",
       "    </tr>\n",
       "  </tbody>\n",
       "</table>\n",
       "</div>"
      ],
      "text/plain": [
       "   Longitude  Latitude  HousingMedianAge  TotalRooms  TotalBedrooms  \\\n",
       "0    -117.03     32.78                17        5481           1618   \n",
       "1    -118.23     33.80                26         239            135   \n",
       "2    -122.46     37.71                39        2076            482   \n",
       "3    -122.06     37.94                19        4005            972   \n",
       "4    -122.87     38.68                32        4073            718   \n",
       "\n",
       "   Population  Households  MedianIncome  MedianHouseValue  \n",
       "0        2957        1537        2.5707            171300  \n",
       "1         165         112        1.3333            187500  \n",
       "2        1738         445        3.1958            232100  \n",
       "3        1896         893        2.5268            235700  \n",
       "4        2053         629        3.7352            228000  "
      ]
     },
     "metadata": {},
     "output_type": "display_data"
    },
    {
     "data": {
      "text/plain": [
       "(20640, 9)"
      ]
     },
     "execution_count": 2,
     "metadata": {},
     "output_type": "execute_result"
    }
   ],
   "source": [
    "#посмотрим на данные, которые загрузили\n",
    "df = pd.read_table('california.dat', sep = ',')\n",
    "print(df.columns)\n",
    "display(df.head())\n",
    "df.shape"
   ]
  },
  {
   "cell_type": "code",
   "execution_count": 3,
   "metadata": {
    "collapsed": false
   },
   "outputs": [
    {
     "name": "stdout",
     "output_type": "stream",
     "text": [
      "(14448, 9) (6192, 9)\n"
     ]
    }
   ],
   "source": [
    "#разделим выборку в пропорции 70/30\n",
    "train, test = train_test_split(df, test_size = 0.3)\n",
    "print(train.shape, test.shape)"
   ]
  },
  {
   "cell_type": "code",
   "execution_count": 4,
   "metadata": {
    "collapsed": false
   },
   "outputs": [],
   "source": [
    "#разделим признаки и ответы для каждой выборки\n",
    "features = ['Longitude', 'Latitude', 'HousingMedianAge', 'TotalRooms',\n",
    " 'TotalBedrooms', 'Population','Households', 'MedianIncome']\n",
    "target = ['MedianHouseValue']\n",
    "X_train = train[features]\n",
    "Y_train = train[target]\n",
    "X_test = test[features]\n",
    "Y_test = test[target]"
   ]
  },
  {
   "cell_type": "code",
   "execution_count": 5,
   "metadata": {
    "collapsed": false
   },
   "outputs": [],
   "source": [
    "#обучим деревья разной глубины\n",
    "train_error_list = []\n",
    "test_error_list = []\n",
    "for i in range(1, 31):\n",
    "    regr = tree.DecisionTreeRegressor(max_depth = i)\n",
    "    regr.fit(X_train,Y_train)\n",
    "    answer_train = regr.predict(X_train)\n",
    "    answer_test = regr.predict(X_test)\n",
    "    error_train = metrics.mean_squared_error(Y_train, answer_train)\n",
    "    error_test = metrics.mean_squared_error(Y_test, answer_test)\n",
    "    train_error_list.append(error_train)\n",
    "    test_error_list.append(error_test)"
   ]
  },
  {
   "cell_type": "code",
   "execution_count": 6,
   "metadata": {
    "collapsed": false
   },
   "outputs": [
    {
     "data": {
      "text/plain": [
       "<matplotlib.text.Text at 0x78e7d90>"
      ]
     },
     "execution_count": 6,
     "metadata": {},
     "output_type": "execute_result"
    },
    {
     "data": {
      "image/png": "[encoded data removed]",
      "text/plain": [
       "<matplotlib.figure.Figure at 0x7780a10>"
      ]
     },
     "metadata": {},
     "output_type": "display_data"
    }
   ],
   "source": [
    "#графически покажем среднеквадратичные ошибки для обоих выборок\n",
    "plt.plot(np.arange(1,31), train_error_list,  c=\"g\", label = \"train error\", linewidth = 2)\n",
    "plt.plot(np.arange(1,31), test_error_list, c=\"r\", label = \"test error\", linewidth = 2)\n",
    "plt.legend()\n",
    "plt.xlabel(\"depth\")\n",
    "plt.ylabel(\"mean square error\")\n",
    "plt.title(\"Train and test mean square error\")"
   ]
  },
  {
   "cell_type": "code",
   "execution_count": 7,
   "metadata": {
    "collapsed": false
   },
   "outputs": [
    {
     "name": "stdout",
     "output_type": "stream",
     "text": [
      "min train error = 260470.686337(for depth = 30)\n",
      "min test error = 3941889857.27(for depth = 9)\n"
     ]
    }
   ],
   "source": [
    "for i in range(30):\n",
    "    if train_error_list[i] == min(train_error_list):\n",
    "        print(\"min train error = \" + str(min(train_error_list)) + \"(for depth = \" + str(i+1) +')')\n",
    "for i in range(30):\n",
    "    if test_error_list[i] == min(test_error_list):\n",
    "        print(\"min test error = \" + str(min(test_error_list)) + \"(for depth = \" + str(i+1) +')')"
   ]
  },
  {
   "cell_type": "markdown",
   "metadata": {},
   "source": [
    "**Вывод:** Очевидно, что для обучающей выборки оптимальна максимальная глубина дерева(30), так как при достаточно большой глубине дерева всегда можно получить нулевую ошибку. Действительно оптимальной глубиной решающего дерева является оптимальная глубина для тестовой выборки. Для тестовой выборки оптимальная глубина - около 10, так как при такой глубине получется наименьшая ошибка на тестовой выборке.(При нескольких генерациях получались различные ответы про оптимальную глубину: 9, 10, 11..) При глубине, меньшей чем оптимальная, происходит недообучение: алгоритм обладает плохой предсказательной способностью и на обучающей, и на тестовой выборке. При глубине, большей чем оптимальная, происходит переобучение: алгоритм обладает хорошей предсказательной способностью на обучающей,но выдает плохой результат на тестовой выборке. "
   ]
  },
  {
   "cell_type": "markdown",
   "metadata": {},
   "source": [
    "**Задание 2:** Выведите важности признаков. Для этого воспользуйтесь `DecisionTreeRegressor.feature_importances_`"
   ]
  },
  {
   "cell_type": "code",
   "execution_count": 8,
   "metadata": {
    "collapsed": false
   },
   "outputs": [
    {
     "name": "stdout",
     "output_type": "stream",
     "text": [
      "Features importances:\n",
      "imortance of Longitude = 0.172298058499\n",
      "imortance of Latitude = 0.159866042102\n",
      "imortance of HousingMedianAge = 0.0623359133383\n",
      "imortance of TotalRooms = 0.00664979515503\n",
      "imortance of TotalBedrooms = 0.0096687248313\n",
      "imortance of Population = 0.0119006424305\n",
      "imortance of Households = 0.0079601278436\n",
      "imortance of MedianIncome = 0.5693206958\n"
     ]
    }
   ],
   "source": [
    "#выведем важность признаков для оптимальной глубины дерева\n",
    "regr = tree.DecisionTreeRegressor(max_depth = 10)\n",
    "regr.fit(X_train,Y_train)\n",
    "importances = regr.feature_importances_\n",
    "print('Features importances:')\n",
    "for i in range(8):\n",
    "    print(\"imortance of \" + features[i] + \" = \" + str(importances[i]))"
   ]
  },
  {
   "cell_type": "markdown",
   "metadata": {},
   "source": [
    "**Задание 3:** Поразмышляйте на темы:\n",
    "* Обработки пропусков в данных.\n",
    "* Как сделать разделяющие плоскости непараллельные осям?"
   ]
  },
  {
   "cell_type": "markdown",
   "metadata": {},
   "source": [
    "** Обработка пропусков в данных.**\n",
    "\n",
    "*(здесь описаны идеи обработки таблицы с данными для того, чтобы подставить ее в стандартный-встроенный алгоритм предсказания)*\n",
    "\n",
    "Для каждой конкретной задачи должен быть выбран свой способ обработки данных,который будет отвечать требованиям именно этой задачи.\n",
    "\n",
    "1)Представим задачу, в которой содержится очень много данных и процент пропусков незначителен по сравнению с этим количетвом данных. В такой задаче на стадии обучения можно просто \"выкинуть\" из обучающей выборки объекты с пропусками. Предсказание будет довольно точным, так как мы никак не заменяем пропуски, то есть не \"придумываем\" им значение. Однако могут возникнуть проблемы с тестовой выборкой: если там попадется объект с пропуском, алгоритм предсказания не будет знать, что делать с этим объектом.\n",
    "\n",
    "2.1)Представим задачу, в которой нельзя просто \"выкинуть\" объекты с пропусками, тогда можно заменить пропущенные значения, например, на среднее/наиболее часто встречающееся/медианное/и др. значение по конкретному признаку на данной выборке. Такая замена должна быть сделана как на обучающей, так и на тестовой выборке. Однако в каждом отдельном случае нужно чётко понимать, почему именно такая замена уместна в данной задаче.\n",
    "\n",
    "2.2)Если сложно подобрать подходящую замену пропущенному значению(как было описано в пункте 2.1), то можно попробовать построить предсказание пропущенного значения на основе объектов без пропусков.\n",
    "\n",
    "3)Представим задачу, в которой пропуск значения играет большую роль, например, проводится социологический опрос, и люди намеренно утаивают информацию, тогда пропущенное значение может дать нам дополнительный признак, по которому можно строить предсказание. Однако даже в таком случае требуется обработка пропусков в данных, например, пропущенный признак можно заменить дефолтным(очень большим или, наоборот, слишком маленьким) значением, котрое будет характеризовать именно пропуск в данных.\n",
    "Также для получения более точных результатов, можно не только заменить пропущенные значения дефолтными, но и по каждому признаку создать дополнительный столбец, в котором ставить 1, если значение для объекта присутствует, и 0, если пропуск значения. Это поможет лучше разделить дефолтные  и реальные значения.\n",
    "\n",
    "\n",
    "*(если же мы не используем стандартные, уже написанные кем-то, алгоритмы классификации, а, например, вручную программируем алгортим решающего дерева, то к проблеме пропусков в данных можно подойти с точки зрения конструирования решающего дерева)*\n",
    " \n",
    "1)Если мы встечаем пропуск значения в обучающей выборке(допустим, пропуск значения по признаку Х1), то при разделении выборки по признаку Х1 мы просто не учитываем объекты с пропусками при вычислении меры неопределенности.\n",
    "\n",
    "Также при обучении стоит предпринять некоторые действия, которые далее будут использоваться для обработки пропусков данных на тестовой выборке:\n",
    "\n",
    "* для каждой внутренней вершины посчитать долю элементов, уходящих в правую дочернюю вершину, и долю элементов, уходящих в левую дочернюю вершину(используются, как вероятности попасть из данной вершины в правую или левую дочерние вершины)\n",
    "\n",
    "* для каждой листовой вершины посчитать долю элементов, относящихся к, условно, классу +1, и долю элементов, относящихся к классу -1(используются, как вероятности объекта принадлежать тому или иному классу при попадании в данную листовую вершину)\n",
    "\n",
    "2)Когда мы пропускаем объект по уже построенному(как в пункте 1) дереву, в каждой внутренней вершине(разделяющей по признаку Х1) есть два варанта:\n",
    "\n",
    "* либо значение по признаку Х1 не пропущено, тогда объект пропускается только в ту ветвь, которая соответствует значению его признака.\n",
    "\n",
    "* либо значение по признаку Х1 пропущено, тогда объект пропускается в обе дочерние вершины с весами-вероятностями, котрые мы описали в пункте 1, как доли элементов, уходящих в правую и левую вершны.\n",
    "\n",
    "Заметим, что пропуски значений у объекта могут быть по нескольким признакам.\n",
    "После проведения процедуры, которую мы описали выше, объект попадает в несколько(если есть пропуски значений, иначе только в одну) листовых вершин, в каждой из которых посчитана вероятность принадлежности объекта классам +1 и -1. После этого считается апостериорная вероятность принадлежности данного объекта к классу +1 или -1, которая учитывает все веса, с которыми мы пропускали данный объект в разные ветви. Объекту присваивается тот класс, чья апостериорная вероятность больше.\n"
   ]
  },
  {
   "cell_type": "code",
   "execution_count": 9,
   "metadata": {
    "collapsed": false
   },
   "outputs": [
    {
     "data": {
      "text/plain": [
       "False"
      ]
     },
     "execution_count": 9,
     "metadata": {},
     "output_type": "execute_result"
    }
   ],
   "source": [
    "#посмотрим, есть ли пропуски значений в данной таблице\n",
    "df.isnull().any().any()"
   ]
  },
  {
   "cell_type": "markdown",
   "metadata": {},
   "source": [
    "*Отлично, пропусков в данной таблице нет!*"
   ]
  },
  {
   "cell_type": "markdown",
   "metadata": {},
   "source": [
    "**Как сделать разделяющие плоскости непараллельные осям**\n",
    "\n",
    "Рассмотрим данный вопрос на примере двух признаков Х1 и Х2. Стандартный механизм установления разделяющей плоскости выглядит, например, так Х1 = const1, то есть в каждой внутренней вершине рассматривается только один признак, по которому происходит разделение.\n",
    "\n",
    "Можно предложить следующее решение задачи более сложного установления разделяющих плоскостей:\n",
    "\n",
    "* Во-первых, в вершине дерева можно рассмотреть пару признаков, например, объекты, для которых Х1 < const1 одновременно с Х2 < const2, отправляются в правую вершину, а все остальные - в левую.(Разделяющая поверхность, описанная данным механизмом, по-пержнему параллельна осям, в некотором смысле, однако эта поверхность теперь имеет более сложную форму - форму \"уголка\")\n",
    "\n",
    "* Во-вторых, в вершине дерева можно рассмотреть разделяющую плоскость через пару признаков следующим образом: const1xX1 + const2xX2 = const3. При этом объекты, для которых const1xX1 + const2xX2 < const3, отправляются, например, в правую вершину, а все остальные - в левую.(Разделяющая плоскость, описанная данным механизмом, не является параллельной осям, если только не вырожденные случаи)."
   ]
  }
 ],
 "metadata": {
  "kernelspec": {
   "display_name": "Python 3",
   "language": "python",
   "name": "python3"
  },
  "language_info": {
   "codemirror_mode": {
    "name": "ipython",
    "version": 3
   },
   "file_extension": ".py",
   "mimetype": "text/x-python",
   "name": "python",
   "nbconvert_exporter": "python",
   "pygments_lexer": "ipython3",
   "version": "3.5.1"
  }
 },
 "nbformat": 4,
 "nbformat_minor": 0
}
