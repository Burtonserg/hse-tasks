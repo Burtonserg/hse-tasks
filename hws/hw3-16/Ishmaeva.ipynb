{
 "cells": [
  {
   "cell_type": "markdown",
   "metadata": {},
   "source": [
    "# Деревья решений. Домашняя работа №3\n",
    "Ишмаева Бэлла, БЭК 142"
   ]
  },
  {
   "cell_type": "code",
   "execution_count": 12,
   "metadata": {
    "collapsed": false
   },
   "outputs": [],
   "source": [
    "import numpy as np\n",
    "import pandas as pd \n",
    "\n",
    "df = pd.read_csv('california.dat')"
   ]
  },
  {
   "cell_type": "code",
   "execution_count": 13,
   "metadata": {
    "collapsed": false
   },
   "outputs": [
    {
     "data": {
      "text/html": [
       "<div>\n",
       "<table border=\"1\" class=\"dataframe\">\n",
       "  <thead>\n",
       "    <tr style=\"text-align: right;\">\n",
       "      <th></th>\n",
       "      <th>Longitude</th>\n",
       "      <th>Latitude</th>\n",
       "      <th>HousingMedianAge</th>\n",
       "      <th>TotalRooms</th>\n",
       "      <th>TotalBedrooms</th>\n",
       "      <th>Population</th>\n",
       "      <th>Households</th>\n",
       "      <th>MedianIncome</th>\n",
       "      <th>MedianHouseValue</th>\n",
       "    </tr>\n",
       "  </thead>\n",
       "  <tbody>\n",
       "    <tr>\n",
       "      <th>0</th>\n",
       "      <td>-117.03</td>\n",
       "      <td>32.78</td>\n",
       "      <td>17</td>\n",
       "      <td>5481</td>\n",
       "      <td>1618</td>\n",
       "      <td>2957</td>\n",
       "      <td>1537</td>\n",
       "      <td>2.5707</td>\n",
       "      <td>171300</td>\n",
       "    </tr>\n",
       "    <tr>\n",
       "      <th>1</th>\n",
       "      <td>-118.23</td>\n",
       "      <td>33.80</td>\n",
       "      <td>26</td>\n",
       "      <td>239</td>\n",
       "      <td>135</td>\n",
       "      <td>165</td>\n",
       "      <td>112</td>\n",
       "      <td>1.3333</td>\n",
       "      <td>187500</td>\n",
       "    </tr>\n",
       "    <tr>\n",
       "      <th>2</th>\n",
       "      <td>-122.46</td>\n",
       "      <td>37.71</td>\n",
       "      <td>39</td>\n",
       "      <td>2076</td>\n",
       "      <td>482</td>\n",
       "      <td>1738</td>\n",
       "      <td>445</td>\n",
       "      <td>3.1958</td>\n",
       "      <td>232100</td>\n",
       "    </tr>\n",
       "    <tr>\n",
       "      <th>3</th>\n",
       "      <td>-122.06</td>\n",
       "      <td>37.94</td>\n",
       "      <td>19</td>\n",
       "      <td>4005</td>\n",
       "      <td>972</td>\n",
       "      <td>1896</td>\n",
       "      <td>893</td>\n",
       "      <td>2.5268</td>\n",
       "      <td>235700</td>\n",
       "    </tr>\n",
       "    <tr>\n",
       "      <th>4</th>\n",
       "      <td>-122.87</td>\n",
       "      <td>38.68</td>\n",
       "      <td>32</td>\n",
       "      <td>4073</td>\n",
       "      <td>718</td>\n",
       "      <td>2053</td>\n",
       "      <td>629</td>\n",
       "      <td>3.7352</td>\n",
       "      <td>228000</td>\n",
       "    </tr>\n",
       "  </tbody>\n",
       "</table>\n",
       "</div>"
      ],
      "text/plain": [
       "   Longitude  Latitude  HousingMedianAge  TotalRooms  TotalBedrooms  \\\n",
       "0    -117.03     32.78                17        5481           1618   \n",
       "1    -118.23     33.80                26         239            135   \n",
       "2    -122.46     37.71                39        2076            482   \n",
       "3    -122.06     37.94                19        4005            972   \n",
       "4    -122.87     38.68                32        4073            718   \n",
       "\n",
       "   Population  Households  MedianIncome  MedianHouseValue  \n",
       "0        2957        1537        2.5707            171300  \n",
       "1         165         112        1.3333            187500  \n",
       "2        1738         445        3.1958            232100  \n",
       "3        1896         893        2.5268            235700  \n",
       "4        2053         629        3.7352            228000  "
      ]
     },
     "execution_count": 13,
     "metadata": {},
     "output_type": "execute_result"
    }
   ],
   "source": [
    "df.head()"
   ]
  },
  {
   "cell_type": "code",
   "execution_count": 14,
   "metadata": {
    "collapsed": false
   },
   "outputs": [
    {
     "name": "stdout",
     "output_type": "stream",
     "text": [
      "Index(['Longitude', 'Latitude', 'HousingMedianAge', 'TotalRooms',\n",
      "       'TotalBedrooms', 'Population', 'Households', 'MedianIncome',\n",
      "       'MedianHouseValue'],\n",
      "      dtype='object')\n",
      "(20640, 9)\n"
     ]
    }
   ],
   "source": [
    "print(df.columns, df.shape, sep = '\\n')"
   ]
  },
  {
   "cell_type": "markdown",
   "metadata": {},
   "source": [
    "Cредняя квадратичная ошибка\n",
    "$$I(S) = \\frac{1}{|S|} \\sum\\limits_{i \\in S} (y_i - c)^2 $$ \n",
    "$$ c = \\frac{1}{|S|}\\sum\\limits_{i \\in S} y_i $$"
   ]
  },
  {
   "cell_type": "code",
   "execution_count": 15,
   "metadata": {
    "collapsed": false
   },
   "outputs": [],
   "source": [
    "from sklearn.cross_validation import train_test_split\n",
    "from sklearn import tree\n",
    "\n",
    "X = df[df.columns[df.columns != 'MedianHouseValue']] \n",
    "y = df['MedianHouseValue']\n",
    "\n",
    "X_train, X_test, y_train, y_test = train_test_split(X, y, test_size=30/100, random_state=44)"
   ]
  },
  {
   "cell_type": "code",
   "execution_count": 16,
   "metadata": {
    "collapsed": false
   },
   "outputs": [],
   "source": [
    "# Посчитаем ошибку для train\n",
    "from sklearn.metrics import mean_squared_error  #используем функцию, которая посичтает ошибку, \n",
    "                                                #можно, конечно, и по формуле, но долго и лень;(\n",
    "\n",
    "train = []\n",
    "for x in range(1,31):\n",
    "    reg = tree.DecisionTreeRegressor(max_depth = x)\n",
    "    reg = reg.fit(X_train, y_train)\n",
    "    res = reg.predict(X_train)\n",
    "    \n",
    "    mean = mean_squared_error(y_train, res)\n",
    "    train.append(np.sqrt(mean))"
   ]
  },
  {
   "cell_type": "code",
   "execution_count": 17,
   "metadata": {
    "collapsed": true
   },
   "outputs": [],
   "source": [
    "# Посчитаем теперь для test\n",
    "test = []\n",
    "for x in range(1,31):\n",
    "    reg = tree.DecisionTreeRegressor(max_depth = x)\n",
    "    reg = reg.fit(X_train, y_train)\n",
    "    res = reg.predict(X_test)\n",
    "    \n",
    "    mean = mean_squared_error(y_test, res)\n",
    "    test.append(np.sqrt(mean))"
   ]
  },
  {
   "cell_type": "code",
   "execution_count": 18,
   "metadata": {
    "collapsed": false
   },
   "outputs": [],
   "source": [
    "import matplotlib.pyplot as plt\n",
    "\n",
    "plt.style.use('ggplot')\n",
    "\n",
    "%matplotlib inline"
   ]
  },
  {
   "cell_type": "code",
   "execution_count": 19,
   "metadata": {
    "collapsed": false
   },
   "outputs": [
    {
     "data": {
      "text/plain": [
       "<matplotlib.legend.Legend at 0x1141aee10>"
      ]
     },
     "execution_count": 19,
     "metadata": {},
     "output_type": "execute_result"
    },
    {
     "data": {
      "image/png": "[encoded data removed]",
      "text/plain": [
       "<matplotlib.figure.Figure at 0x11a6e5898>"
      ]
     },
     "metadata": {},
     "output_type": "display_data"
    }
   ],
   "source": [
    "x = np.arange(1, 31, 1)\n",
    "plt.figure(figsize = [16,10])\n",
    "plt.scatter(x, train, color = 'blue', label=\"mse for train\")\n",
    "plt.scatter(x, test, color = \"black\",label=\"mse for test\")\n",
    "plt.plot(x, train, color = 'red')\n",
    "plt.plot(x, test, color = 'yellow')\n",
    "\n",
    "plt.xlabel(\"depth\")\n",
    "plt.ylabel(\"mse\")\n",
    "plt.title(\"Mean Squared Error for Train and Test Set\")\n",
    "plt.legend()\n"
   ]
  },
  {
   "cell_type": "markdown",
   "metadata": {},
   "source": [
    "### Видно из графика, что при глубине 10 дотигается минимальная ошибка на тестовой выборке, следовательно, ее и нужно выбрать. Однако проверим"
   ]
  },
  {
   "cell_type": "code",
   "execution_count": 20,
   "metadata": {
    "collapsed": false
   },
   "outputs": [
    {
     "name": "stdout",
     "output_type": "stream",
     "text": [
      "При глубине 10 достигаетсся минимальная ср. кв. ошибка на тестовой выборке\n",
      "Эта ошибка равна 63678.6351027\n",
      "При глубине 30 достигаетсся минимальная ср. кв. ошибка на тренировочной выборке\n",
      "Эта ошибка равна 162.844248759\n"
     ]
    }
   ],
   "source": [
    "for t in range(30):\n",
    "    if test[t] == min(test):\n",
    "        print(\"При глубине\", t+1, 'достигаетсся минимальная ср. кв. ошибка на тестовой выборке')\n",
    "        print(\"Эта ошибка равна\", test[t])\n",
    "    elif train[t] == min(train):\n",
    "        print(\"При глубине\", t+1, 'достигаетсся минимальная ср. кв. ошибка на тренировочной выборке')\n",
    "        print(\"Эта ошибка равна\", train[t])\n",
    "       "
   ]
  },
  {
   "cell_type": "markdown",
   "metadata": {},
   "source": [
    "**Задание 2:** Выведите важности признаков. Для этого воспользуйтесь `DecisionTreeRegressor.feature_importances_`"
   ]
  },
  {
   "cell_type": "code",
   "execution_count": 21,
   "metadata": {
    "collapsed": false
   },
   "outputs": [
    {
     "name": "stdout",
     "output_type": "stream",
     "text": [
      "Важность признака Longitude : 0.162590632133\n",
      "Важность признака Latitude : 0.16472952271\n",
      "Важность признака HousingMedianAge : 0.063575703428\n",
      "Важность признака TotalRooms : 0.0217714844412\n",
      "Важность признака TotalBedrooms : 0.021146154019\n",
      "Важность признака Population : 0.0297826916902\n",
      "Важность признака Households : 0.0172187303286\n",
      "Важность признака MedianIncome : 0.51918508125\n",
      "Самый важный признак: MedianIncome\n"
     ]
    }
   ],
   "source": [
    "reg = tree.DecisionTreeRegressor()\n",
    "reg = reg.fit(X_train, y_train)\n",
    "array = reg.feature_importances_\n",
    "for x in range(8):\n",
    "    print(\"Важность признака\", df.columns[x], \":\", array[x])\n",
    "    if array[x] == max(array):\n",
    "        m = df.columns[x]\n",
    "\n",
    "print(\"Самый важный признак:\", m)"
   ]
  },
  {
   "cell_type": "markdown",
   "metadata": {},
   "source": [
    "**Задание 3:** Поразмышляйте на темы:\n",
    "* Обработки пропусков в данных.\n",
    "* Как сделать разделяющие плоскости непараллельные осям?"
   ]
  },
  {
   "cell_type": "markdown",
   "metadata": {},
   "source": [
    "## Обработка пропусков данных"
   ]
  },
  {
   "cell_type": "markdown",
   "metadata": {
    "collapsed": true
   },
   "source": [
    "#### С использованием вероятности\n",
    "\n",
    "Обработку пропусков данных можно разделить на два этапа:\n",
    "Если мы встретили пропуск во время обучения, можно просто удалить данный объект и продолжать обучение на оставшихся. Однако если мы встретим такой объект на тестовой выборке, просто пропустить его не удастся, поэтому еще на стадии обучения нужно посчитать какая доля объектов в узле дерева данного признака уходит в правую подветвь, а какая в левую - т.е. если имеем признак пол, то посчитать сколько всего мужчин, а сколько женщин. Таким образом, мы будем знать вероятность какогото признака пойти в правую или левую ветвь, поэтому когда на этапе тестовой выборки алгоритм столкнется с пропуском, с полученными ранее вероятностями отправлять объет в правую или левую подветвь.\n",
    "\n",
    "Идея - курсера, курс \"Введение в машинное обучение\"\n",
    "\n",
    "#### Среднее значение\n",
    "\n",
    "Если признак непрерывный. Идея остается такой же, но вместо пропуска берется среднее значение признака для всех объектов. Пример - возраст работника. На обучающей выборке данный работник пропускается, а на тестовой такому работнику будет присвоен возраст равный среднему по всей выборке и затем, с таким \"возрастом\" согласно критерию в вершине дерева он пойдет в левое или правое поддерево."
   ]
  },
  {
   "cell_type": "markdown",
   "metadata": {
    "collapsed": true
   },
   "source": [
    "## Непаралелльные осям разделяющие плоскости"
   ]
  },
  {
   "cell_type": "markdown",
   "metadata": {},
   "source": [
    "Обычно в вершинах деревьях наши условия стостоят в том, является ли признак объекта больше или меньше какого-то граничного значения, или принадлежит ли классу в случае категориального признака. Соответственно разделяющие плоскости будут паралелльными осям, если же в вершине сделать условие, включающее в себя, например, значение двух признаков, то плоскость преобразуется в непаралелльню прямую в пространстве значений двух этих признаков. Например, если использовать линейную комбинацбю признаков возраст и стаж работы, и отправлять в каждую подветвь в зависимости от значения уже не самих значений признаков для объекта, а их линейной комбинации"
   ]
  },
  {
   "cell_type": "code",
   "execution_count": null,
   "metadata": {
    "collapsed": true
   },
   "outputs": [],
   "source": []
  }
 ],
 "metadata": {
  "kernelspec": {
   "display_name": "Python 3",
   "language": "python",
   "name": "python3"
  },
  "language_info": {
   "codemirror_mode": {
    "name": "ipython",
    "version": 3
   },
   "file_extension": ".py",
   "mimetype": "text/x-python",
   "name": "python",
   "nbconvert_exporter": "python",
   "pygments_lexer": "ipython3",
   "version": "3.5.1"
  }
 },
 "nbformat": 4,
 "nbformat_minor": 0
}
