{
 "cells": [
  {
   "cell_type": "markdown",
   "metadata": {},
   "source": [
    "### Домашнее задание"
   ]
  },
  {
   "cell_type": "markdown",
   "metadata": {},
   "source": [
    "Загрузите [данные](https://www.dropbox.com/s/3t1moa1wpflx2u9/california.dat?dl=0).\n",
    "\n",
    "**Задание 1:** Найти оптимальную глубину дерева.<br/>\n",
    "Разделите выборку на train-test в пропорции 70/30.<br/>\n",
    "Обучите деревья с глубиной от `1` до `30`. Для каждой глубины расчитайте среднюю квадратичную ошибку на train и на test<br/>\n",
    "Изобразите эти ошибки на одном графике, сделайте вывод по поводу оптимальной глубины дерева."
   ]
  },
  {
   "cell_type": "code",
   "execution_count": 9,
   "metadata": {
    "collapsed": true
   },
   "outputs": [],
   "source": [
    "import numpy as np\n",
    "import pandas as pd\n",
    "import scipy as sp\n",
    "import sklearn\n",
    "import scipy.stats as stats\n",
    "import matplotlib.pyplot as plt\n",
    "\n",
    "%matplotlib inline"
   ]
  },
  {
   "cell_type": "code",
   "execution_count": 10,
   "metadata": {
    "collapsed": false
   },
   "outputs": [
    {
     "data": {
      "text/html": [
       "<div>\n",
       "<table border=\"1\" class=\"dataframe\">\n",
       "  <thead>\n",
       "    <tr style=\"text-align: right;\">\n",
       "      <th></th>\n",
       "      <th>Longitude</th>\n",
       "      <th>Latitude</th>\n",
       "      <th>HousingMedianAge</th>\n",
       "      <th>TotalRooms</th>\n",
       "      <th>TotalBedrooms</th>\n",
       "      <th>Population</th>\n",
       "      <th>Households</th>\n",
       "      <th>MedianIncome</th>\n",
       "      <th>MedianHouseValue</th>\n",
       "    </tr>\n",
       "  </thead>\n",
       "  <tbody>\n",
       "    <tr>\n",
       "      <th>0</th>\n",
       "      <td>-117.03</td>\n",
       "      <td>32.78</td>\n",
       "      <td>17</td>\n",
       "      <td>5481</td>\n",
       "      <td>1618</td>\n",
       "      <td>2957</td>\n",
       "      <td>1537</td>\n",
       "      <td>2.5707</td>\n",
       "      <td>171300</td>\n",
       "    </tr>\n",
       "    <tr>\n",
       "      <th>1</th>\n",
       "      <td>-118.23</td>\n",
       "      <td>33.80</td>\n",
       "      <td>26</td>\n",
       "      <td>239</td>\n",
       "      <td>135</td>\n",
       "      <td>165</td>\n",
       "      <td>112</td>\n",
       "      <td>1.3333</td>\n",
       "      <td>187500</td>\n",
       "    </tr>\n",
       "    <tr>\n",
       "      <th>2</th>\n",
       "      <td>-122.46</td>\n",
       "      <td>37.71</td>\n",
       "      <td>39</td>\n",
       "      <td>2076</td>\n",
       "      <td>482</td>\n",
       "      <td>1738</td>\n",
       "      <td>445</td>\n",
       "      <td>3.1958</td>\n",
       "      <td>232100</td>\n",
       "    </tr>\n",
       "    <tr>\n",
       "      <th>3</th>\n",
       "      <td>-122.06</td>\n",
       "      <td>37.94</td>\n",
       "      <td>19</td>\n",
       "      <td>4005</td>\n",
       "      <td>972</td>\n",
       "      <td>1896</td>\n",
       "      <td>893</td>\n",
       "      <td>2.5268</td>\n",
       "      <td>235700</td>\n",
       "    </tr>\n",
       "    <tr>\n",
       "      <th>4</th>\n",
       "      <td>-122.87</td>\n",
       "      <td>38.68</td>\n",
       "      <td>32</td>\n",
       "      <td>4073</td>\n",
       "      <td>718</td>\n",
       "      <td>2053</td>\n",
       "      <td>629</td>\n",
       "      <td>3.7352</td>\n",
       "      <td>228000</td>\n",
       "    </tr>\n",
       "  </tbody>\n",
       "</table>\n",
       "</div>"
      ],
      "text/plain": [
       "   Longitude  Latitude  HousingMedianAge  TotalRooms  TotalBedrooms  \\\n",
       "0    -117.03     32.78                17        5481           1618   \n",
       "1    -118.23     33.80                26         239            135   \n",
       "2    -122.46     37.71                39        2076            482   \n",
       "3    -122.06     37.94                19        4005            972   \n",
       "4    -122.87     38.68                32        4073            718   \n",
       "\n",
       "   Population  Households  MedianIncome  MedianHouseValue  \n",
       "0        2957        1537        2.5707            171300  \n",
       "1         165         112        1.3333            187500  \n",
       "2        1738         445        3.1958            232100  \n",
       "3        1896         893        2.5268            235700  \n",
       "4        2053         629        3.7352            228000  "
      ]
     },
     "execution_count": 10,
     "metadata": {},
     "output_type": "execute_result"
    }
   ],
   "source": [
    "df = pd.read_csv('california.dat')\n",
    "df.head()"
   ]
  },
  {
   "cell_type": "code",
   "execution_count": 11,
   "metadata": {
    "collapsed": true
   },
   "outputs": [],
   "source": [
    "features = df.drop(['MedianHouseValue'], axis = 1)\n",
    "from sklearn.cross_validation import train_test_split # разобъём выборку на тестовую и обучающую\n",
    "X_train, X_test, y_train, y_test = train_test_split(features, df.MedianHouseValue,  test_size = 0.3, train_size = 0.7)"
   ]
  },
  {
   "cell_type": "code",
   "execution_count": 12,
   "metadata": {
    "collapsed": true
   },
   "outputs": [],
   "source": [
    "from sklearn.metrics import mean_squared_error\n",
    "from sklearn import tree\n",
    "MSE_test = [] #список со значениями ошибок для тестовой выборки\n",
    "MSE_train = []#список со значениями ошибок для обучающей выборки\n",
    "depth = 30\n",
    "for i in range(1, depth+1):\n",
    "    clf = tree.DecisionTreeRegressor(max_depth=i)\n",
    "    clf = clf.fit(X_train, y_train)\n",
    "    test_predict = clf.predict(X_test)\n",
    "    train_predict = clf.predict(X_train)\n",
    "    error_test = sklearn.metrics.mean_squared_error(y_test, test_predict)\n",
    "    error_train = sklearn.metrics.mean_squared_error(y_train, train_predict)\n",
    "    MSE_test.append(error_test)\n",
    "    MSE_train.append(error_train)"
   ]
  },
  {
   "cell_type": "code",
   "execution_count": 13,
   "metadata": {
    "collapsed": false
   },
   "outputs": [
    {
     "data": {
      "text/html": [
       "<div>\n",
       "<table border=\"1\" class=\"dataframe\">\n",
       "  <thead>\n",
       "    <tr style=\"text-align: right;\">\n",
       "      <th></th>\n",
       "      <th>MSE_test</th>\n",
       "      <th>MSE_train</th>\n",
       "    </tr>\n",
       "    <tr>\n",
       "      <th>Depth</th>\n",
       "      <th></th>\n",
       "      <th></th>\n",
       "    </tr>\n",
       "  </thead>\n",
       "  <tbody>\n",
       "    <tr>\n",
       "      <th>1</th>\n",
       "      <td>9.345338e+09</td>\n",
       "      <td>9.121413e+09</td>\n",
       "    </tr>\n",
       "    <tr>\n",
       "      <th>2</th>\n",
       "      <td>7.563040e+09</td>\n",
       "      <td>7.288775e+09</td>\n",
       "    </tr>\n",
       "    <tr>\n",
       "      <th>3</th>\n",
       "      <td>6.977991e+09</td>\n",
       "      <td>6.637015e+09</td>\n",
       "    </tr>\n",
       "    <tr>\n",
       "      <th>4</th>\n",
       "      <td>6.106814e+09</td>\n",
       "      <td>5.849516e+09</td>\n",
       "    </tr>\n",
       "    <tr>\n",
       "      <th>5</th>\n",
       "      <td>5.575905e+09</td>\n",
       "      <td>5.254570e+09</td>\n",
       "    </tr>\n",
       "    <tr>\n",
       "      <th>6</th>\n",
       "      <td>5.152803e+09</td>\n",
       "      <td>4.617202e+09</td>\n",
       "    </tr>\n",
       "    <tr>\n",
       "      <th>7</th>\n",
       "      <td>4.844762e+09</td>\n",
       "      <td>4.104751e+09</td>\n",
       "    </tr>\n",
       "    <tr>\n",
       "      <th>8</th>\n",
       "      <td>4.639273e+09</td>\n",
       "      <td>3.571764e+09</td>\n",
       "    </tr>\n",
       "    <tr>\n",
       "      <th>9</th>\n",
       "      <td>4.540021e+09</td>\n",
       "      <td>2.993068e+09</td>\n",
       "    </tr>\n",
       "    <tr>\n",
       "      <th>10</th>\n",
       "      <td>4.592799e+09</td>\n",
       "      <td>2.476913e+09</td>\n",
       "    </tr>\n",
       "    <tr>\n",
       "      <th>11</th>\n",
       "      <td>4.564327e+09</td>\n",
       "      <td>1.936089e+09</td>\n",
       "    </tr>\n",
       "    <tr>\n",
       "      <th>12</th>\n",
       "      <td>4.720347e+09</td>\n",
       "      <td>1.523034e+09</td>\n",
       "    </tr>\n",
       "    <tr>\n",
       "      <th>13</th>\n",
       "      <td>4.891732e+09</td>\n",
       "      <td>1.149712e+09</td>\n",
       "    </tr>\n",
       "    <tr>\n",
       "      <th>14</th>\n",
       "      <td>4.976152e+09</td>\n",
       "      <td>8.513978e+08</td>\n",
       "    </tr>\n",
       "    <tr>\n",
       "      <th>15</th>\n",
       "      <td>5.173631e+09</td>\n",
       "      <td>6.200658e+08</td>\n",
       "    </tr>\n",
       "    <tr>\n",
       "      <th>16</th>\n",
       "      <td>5.233781e+09</td>\n",
       "      <td>4.486277e+08</td>\n",
       "    </tr>\n",
       "    <tr>\n",
       "      <th>17</th>\n",
       "      <td>5.190973e+09</td>\n",
       "      <td>3.083688e+08</td>\n",
       "    </tr>\n",
       "    <tr>\n",
       "      <th>18</th>\n",
       "      <td>5.314133e+09</td>\n",
       "      <td>2.105854e+08</td>\n",
       "    </tr>\n",
       "    <tr>\n",
       "      <th>19</th>\n",
       "      <td>5.360208e+09</td>\n",
       "      <td>1.388838e+08</td>\n",
       "    </tr>\n",
       "    <tr>\n",
       "      <th>20</th>\n",
       "      <td>5.325929e+09</td>\n",
       "      <td>9.129728e+07</td>\n",
       "    </tr>\n",
       "    <tr>\n",
       "      <th>21</th>\n",
       "      <td>5.378890e+09</td>\n",
       "      <td>6.093459e+07</td>\n",
       "    </tr>\n",
       "    <tr>\n",
       "      <th>22</th>\n",
       "      <td>5.481637e+09</td>\n",
       "      <td>3.679115e+07</td>\n",
       "    </tr>\n",
       "    <tr>\n",
       "      <th>23</th>\n",
       "      <td>5.540557e+09</td>\n",
       "      <td>2.249327e+07</td>\n",
       "    </tr>\n",
       "    <tr>\n",
       "      <th>24</th>\n",
       "      <td>5.549185e+09</td>\n",
       "      <td>1.453550e+07</td>\n",
       "    </tr>\n",
       "    <tr>\n",
       "      <th>25</th>\n",
       "      <td>5.365305e+09</td>\n",
       "      <td>9.115790e+06</td>\n",
       "    </tr>\n",
       "    <tr>\n",
       "      <th>26</th>\n",
       "      <td>5.424286e+09</td>\n",
       "      <td>4.951589e+06</td>\n",
       "    </tr>\n",
       "    <tr>\n",
       "      <th>27</th>\n",
       "      <td>5.471908e+09</td>\n",
       "      <td>1.975402e+06</td>\n",
       "    </tr>\n",
       "    <tr>\n",
       "      <th>28</th>\n",
       "      <td>5.451995e+09</td>\n",
       "      <td>8.316651e+05</td>\n",
       "    </tr>\n",
       "    <tr>\n",
       "      <th>29</th>\n",
       "      <td>5.409986e+09</td>\n",
       "      <td>2.825700e+05</td>\n",
       "    </tr>\n",
       "    <tr>\n",
       "      <th>30</th>\n",
       "      <td>5.554719e+09</td>\n",
       "      <td>1.080490e+05</td>\n",
       "    </tr>\n",
       "  </tbody>\n",
       "</table>\n",
       "</div>"
      ],
      "text/plain": [
       "           MSE_test     MSE_train\n",
       "Depth                            \n",
       "1      9.345338e+09  9.121413e+09\n",
       "2      7.563040e+09  7.288775e+09\n",
       "3      6.977991e+09  6.637015e+09\n",
       "4      6.106814e+09  5.849516e+09\n",
       "5      5.575905e+09  5.254570e+09\n",
       "6      5.152803e+09  4.617202e+09\n",
       "7      4.844762e+09  4.104751e+09\n",
       "8      4.639273e+09  3.571764e+09\n",
       "9      4.540021e+09  2.993068e+09\n",
       "10     4.592799e+09  2.476913e+09\n",
       "11     4.564327e+09  1.936089e+09\n",
       "12     4.720347e+09  1.523034e+09\n",
       "13     4.891732e+09  1.149712e+09\n",
       "14     4.976152e+09  8.513978e+08\n",
       "15     5.173631e+09  6.200658e+08\n",
       "16     5.233781e+09  4.486277e+08\n",
       "17     5.190973e+09  3.083688e+08\n",
       "18     5.314133e+09  2.105854e+08\n",
       "19     5.360208e+09  1.388838e+08\n",
       "20     5.325929e+09  9.129728e+07\n",
       "21     5.378890e+09  6.093459e+07\n",
       "22     5.481637e+09  3.679115e+07\n",
       "23     5.540557e+09  2.249327e+07\n",
       "24     5.549185e+09  1.453550e+07\n",
       "25     5.365305e+09  9.115790e+06\n",
       "26     5.424286e+09  4.951589e+06\n",
       "27     5.471908e+09  1.975402e+06\n",
       "28     5.451995e+09  8.316651e+05\n",
       "29     5.409986e+09  2.825700e+05\n",
       "30     5.554719e+09  1.080490e+05"
      ]
     },
     "execution_count": 13,
     "metadata": {},
     "output_type": "execute_result"
    }
   ],
   "source": [
    "d = {'MSE_test': MSE_test, 'MSE_train': MSE_train}\n",
    "Table = pd.DataFrame(data=d, index=range(1,31))\n",
    "Table.index.name = 'Depth'\n",
    "Table"
   ]
  },
  {
   "cell_type": "code",
   "execution_count": 14,
   "metadata": {
    "collapsed": false
   },
   "outputs": [
    {
     "name": "stdout",
     "output_type": "stream",
     "text": [
      "           MSE_test     MSE_train\n",
      "Depth                            \n",
      "9      4.540021e+09  2.993068e+09\n",
      "11     4.564327e+09  1.936089e+09\n",
      "10     4.592799e+09  2.476913e+09\n",
      "8      4.639273e+09  3.571764e+09\n",
      "12     4.720347e+09  1.523034e+09\n",
      "----------------------------------\n",
      "           MSE_test     MSE_train\n",
      "Depth                            \n",
      "30     5.554719e+09  1.080490e+05\n",
      "29     5.409986e+09  2.825700e+05\n",
      "28     5.451995e+09  8.316651e+05\n",
      "27     5.471908e+09  1.975402e+06\n",
      "26     5.424286e+09  4.951589e+06\n"
     ]
    }
   ],
   "source": [
    "print(Table.sort_values('MSE_test').head(5)) #здесь выведено по 5 наименьших ошибок для каждой из выборок при разных глубинах\n",
    "print('----------------------------------')\n",
    "print(Table.sort_values('MSE_train').head(5))"
   ]
  },
  {
   "cell_type": "code",
   "execution_count": 15,
   "metadata": {
    "collapsed": false
   },
   "outputs": [
    {
     "data": {
      "text/plain": [
       "<matplotlib.axes._subplots.AxesSubplot at 0xaa7fa20>"
      ]
     },
     "execution_count": 15,
     "metadata": {},
     "output_type": "execute_result"
    },
    {
     "data": {
      "image/png": "[encoded data removed]",
      "text/plain": [
       "<matplotlib.figure.Figure at 0x5b725c0>"
      ]
     },
     "metadata": {},
     "output_type": "display_data"
    }
   ],
   "source": [
    "Table.plot(figsize=(15,5), color = ['b', 'r'])"
   ]
  },
  {
   "cell_type": "markdown",
   "metadata": {},
   "source": [
    "Исходя из построений на графике и из выведенных таблиц видно, что наименьшие ошибки для тестовой выборки наблюдаются где-то при глубине дерева 8-12, сортировка говорит нам, что оптимальная глубина - 9, а для обучающей - 30, что видно как по сортировке значений выведенной таблицы, так и по графику (здесь всё логично, потому что с увеличением глубины на обучающей выборке должна увеличиваться точность предсказания. "
   ]
  },
  {
   "cell_type": "markdown",
   "metadata": {},
   "source": [
    "**Задание 2:** Выведите важности признаков. Для этого воспользуйтесь `DecisionTreeRegressor.feature_importances_`"
   ]
  },
  {
   "cell_type": "code",
   "execution_count": 16,
   "metadata": {
    "collapsed": false
   },
   "outputs": [
    {
     "data": {
      "text/html": [
       "<div>\n",
       "<table border=\"1\" class=\"dataframe\">\n",
       "  <thead>\n",
       "    <tr style=\"text-align: right;\">\n",
       "      <th></th>\n",
       "      <th>Важность признаков</th>\n",
       "    </tr>\n",
       "    <tr>\n",
       "      <th>Признаки</th>\n",
       "      <th></th>\n",
       "    </tr>\n",
       "  </thead>\n",
       "  <tbody>\n",
       "    <tr>\n",
       "      <th>MedianIncome</th>\n",
       "      <td>0.512537</td>\n",
       "    </tr>\n",
       "    <tr>\n",
       "      <th>Longitude</th>\n",
       "      <td>0.152239</td>\n",
       "    </tr>\n",
       "    <tr>\n",
       "      <th>Latitude</th>\n",
       "      <td>0.144018</td>\n",
       "    </tr>\n",
       "    <tr>\n",
       "      <th>HousingMedianAge</th>\n",
       "      <td>0.065576</td>\n",
       "    </tr>\n",
       "    <tr>\n",
       "      <th>Population</th>\n",
       "      <td>0.041837</td>\n",
       "    </tr>\n",
       "    <tr>\n",
       "      <th>TotalBedrooms</th>\n",
       "      <td>0.037429</td>\n",
       "    </tr>\n",
       "    <tr>\n",
       "      <th>TotalRooms</th>\n",
       "      <td>0.024353</td>\n",
       "    </tr>\n",
       "    <tr>\n",
       "      <th>Households</th>\n",
       "      <td>0.022011</td>\n",
       "    </tr>\n",
       "  </tbody>\n",
       "</table>\n",
       "</div>"
      ],
      "text/plain": [
       "                  Важность признаков\n",
       "Признаки                            \n",
       "MedianIncome                0.512537\n",
       "Longitude                   0.152239\n",
       "Latitude                    0.144018\n",
       "HousingMedianAge            0.065576\n",
       "Population                  0.041837\n",
       "TotalBedrooms               0.037429\n",
       "TotalRooms                  0.024353\n",
       "Households                  0.022011"
      ]
     },
     "execution_count": 16,
     "metadata": {},
     "output_type": "execute_result"
    }
   ],
   "source": [
    "feat = X_train.keys()\n",
    "d1 = {'Важность признаков':clf.feature_importances_}\n",
    "Table1 = pd.DataFrame(data=d1, index = feat ).sort_values('Важность признаков', ascending=False)\n",
    "Table1.index.name = 'Признаки'\n",
    "Table1"
   ]
  },
  {
   "cell_type": "markdown",
   "metadata": {},
   "source": [
    "**Задание 3:** Поразмышляйте на темы:\n",
    "* Обработки пропусков в данных.\n",
    "* Как сделать разделяющие плоскости непараллельные осям?"
   ]
  },
  {
   "cell_type": "markdown",
   "metadata": {},
   "source": [
    "#### 1) Обработки пропусков данных:<br/><br/>\n",
    "* пропущенные данные можно просто удалить, однако такой метод не подходит для небольших датасетов, поскольку данные при маленькой выборке для нас слишком ценны, чтобы их удалять. В большой же выборке и при небольшом количестве пропусков мы можем полностью удалить объекты с признаками, где есть пропуски, это несильно скажется на точности предсказания метода. Удаление данных можно произвести, например, с помощью метода dropna. С помощью этого метода мы можем как удалить строки со всеми пропущенными данными, так и те, где есть хотя бы один пропуск.<br/><br/>\n",
    "* при меньшей величине выборки и при особой ценности данных для нас, можно заменить пропущенные данные на среднее, медиану, моду (используется с категориальными признаками), другие статистические характеристики или же на любые интересующие нас числа или какие-то известные нам из других источников значения, близкие к истине. Заполнение пропущенных данных можно осуществить, например, с помощью методов fillna и interpolate.\n",
    "<br/><br/>\n",
    "* есть ещё сложный метод, когда мы используем алгоритмы обучения, чтобы на основании имеющихся данных по другим комбинациям значений признаков объектов машина научилась определять, какое значение должно находиться на местах пропусков при заданном наборе непропущенных значений.<br/><br/>\n",
    "* можно также просто игнорировать пропуски данных, если их не слишком много и нам нужно, к примеру, просто построить какие-то графики (однако с вычислениями так скорее всего не получится и программа будет выдавать ошибки) <br/><br/>\n",
    "Источник:\n",
    "http://pandas.pydata.org/pandas-docs/stable/missing_data.html \n",
    "#### 2) Разделяющие плоскости, параллельные осям:<br/><br/>\n",
    "В узлах дерева решений могут применяться следующие виды разделяющих критериев:<br/><br/>\n",
    "* Решающиий пень: $$C_1(x,\\tau) = [x \\leq \\tau]$$\n",
    "* Линейный (ориентированный) критерий: $$C_2(x,w,\\tau) = [xw \\leq \\tau]$$\n",
    "* Нелинейный критерий второго порядка: $$C_3(x,w,W,\\tau) = [xWx^T+xw \\leq \\tau]$$\n",
    "* Более сложные разделяющие критерии <br/><br/>\n",
    "Здесь $\\tau$ - это пороговое (критическое) значение, w - вектор весов признаков в линейной комбинации, W - матрица из векторов весов признаков, х - объект.<br/><br/>\n",
    "Проблему представляет собой \"решающий пень\", который проводит гиперплоскость параллельно осям, из-за чего деревья получаются большей высоты и их нужно много, чтобы получить точный результат.<br/><br/>\n",
    "Чтобы решить эту проблему нужно тестировать в каждом узле более одного признака, а каждый признак, в свою очередь, должен тестироваться не один раз, что определённо также повысит точность предсказания. Таким образом в каждом узле дерева будет тестироваться какое-то условие по сумме признаков (возможно, ещё и домноженных на их веса), т.е. больше или меньше сумма значений признаков какого-то критического значения. В данном случае разделяющая гипералоскость не будет параллельна осям.<br/>\n",
    "Источники:http://www.machinelearning.ru/wiki/images/d/d8/2015_517_RyzhkovAM.pdf<br/>\n",
    "http://www.site.uottawa.ca/~stan/csi5387/multiv-DTs-Brodley.pdf\n",
    "              "
   ]
  },
  {
   "cell_type": "code",
   "execution_count": null,
   "metadata": {
    "collapsed": true
   },
   "outputs": [],
   "source": []
  }
 ],
 "metadata": {
  "kernelspec": {
   "display_name": "Python 3",
   "language": "python",
   "name": "python3"
  },
  "language_info": {
   "codemirror_mode": {
    "name": "ipython",
    "version": 3
   },
   "file_extension": ".py",
   "mimetype": "text/x-python",
   "name": "python",
   "nbconvert_exporter": "python",
   "pygments_lexer": "ipython3",
   "version": "3.5.1"
  }
 },
 "nbformat": 4,
 "nbformat_minor": 0
}
