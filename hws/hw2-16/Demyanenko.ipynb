{
 "cells": [
  {
   "cell_type": "markdown",
   "metadata": {},
   "source": [
    "# Домашняя работа №2\n",
    "Панов А.А, Шестаков А.В. Майнор по анализу данных 2016"
   ]
  },
  {
   "cell_type": "markdown",
   "metadata": {},
   "source": [
    "<hr\\>\n",
    "**Общая информация**\n",
    "\n",
    "**Срок сдачи:** 19 марта 2016, 23:59 <br\\>\n",
    "**Штраф за опоздание:** -0.5 за каждый день\n",
    "\n",
    "При отправлении ДЗ на почту называйте файл и тему письма в следующем виде:<br\\>\n",
    "** [minor-da-16]*{Фамилия}*_hw*{Номер ДЗ}* **<br\\>\n",
    "\n",
    "\n",
    "Сопровождайте ваш код изображеними, комментариями и выводами. <br\\>\n",
    "Иммейте ввиду, что на некоторые задачи нет единственного верного и полного ответа. Чем больше информации вы сможете извлечь, аргументированных выводов сформулировать, тем лучше.\n",
    "\n",
    "Используйте данный Ipython Notebook при оформлении домашнего задания.\n",
    "<hr\\>"
   ]
  },
  {
   "cell_type": "markdown",
   "metadata": {},
   "source": [
    "## 1. Теория веротяностей. Распределения"
   ]
  },
  {
   "cell_type": "markdown",
   "metadata": {},
   "source": [
    "В SciPy более 80 видов непрерывных и более 12 дискретных распределений, более 70 статистических функций"
   ]
  },
  {
   "cell_type": "code",
   "execution_count": 87,
   "metadata": {
    "collapsed": true
   },
   "outputs": [],
   "source": [
    "import scipy as sp\n",
    "import numpy as np\n",
    "import pandas as pd\n",
    "import scipy.stats as stats\n",
    "import matplotlib.pyplot as plt\n",
    "\n",
    "%matplotlib inline"
   ]
  },
  {
   "cell_type": "markdown",
   "metadata": {},
   "source": [
    "**Задача 1.** Сгенерируйте три распределения: гауссовское с мат. ожиданием 1 и дисперсией 4, хи-квадрат с $k = 3$ и дискртеное пуассоновское с $\\lambda = 10$.<br/> \n",
    "\n",
    "При генерации используйте 500 точек. Посчитайте для каждого из них обчный набор статистик: среднее, минимум, максимум, дисперсию, кривизну и смещенность."
   ]
  },
  {
   "cell_type": "code",
   "execution_count": 179,
   "metadata": {
    "collapsed": false
   },
   "outputs": [
    {
     "name": "stdout",
     "output_type": "stream",
     "text": [
      "посчитаем все для гауссовского распределения:\n",
      "среднее равно 0.847960408789\n",
      "дисперсия равна 3.75588903759\n",
      "кривизна равна -0.15070399438094384\n",
      "смещенность равна 0.008657491620085913\n",
      "минимум равен -5.23425084084\n",
      "максимум равен 6.70565949508\n"
     ]
    }
   ],
   "source": [
    "n=500\n",
    "print('посчитаем все для гауссовского распределения:')\n",
    "norm =  stats.norm.rvs(1, 2, size=n)\n",
    "print('среднее равно',np.mean(norm))\n",
    "print('дисперсия равна',(sp.stats.tstd(norm))**2)\n",
    "print('кривизна равна',stats.kurtosis(norm))\n",
    "print('смещенность равна',stats.skew(norm))\n",
    "print('минимум равен',np.min(norm))\n",
    "print('максимум равен',np.max(norm))"
   ]
  },
  {
   "cell_type": "code",
   "execution_count": 175,
   "metadata": {
    "collapsed": false
   },
   "outputs": [
    {
     "name": "stdout",
     "output_type": "stream",
     "text": [
      "посчитаем все для хи-квадрат распределения:\n",
      "среднее равно 3.06491871499\n",
      "дисперсия равна 6.16220935681\n",
      "кривизна равна 3.150629831179418\n",
      "смещенность равна 1.5134844151881959\n",
      "минимум равен 0.0604233423129\n",
      "максимум равен 17.0352827127\n"
     ]
    }
   ],
   "source": [
    "print('посчитаем все для хи-квадрат распределения:')\n",
    "chisq =  stats.chi2.rvs(3, size=n)\n",
    "print('среднее равно',np.mean(chisq))\n",
    "print('дисперсия равна',(sp.stats.tstd(chisq))**2)\n",
    "print('кривизна равна',stats.kurtosis(chisq))\n",
    "print('смещенность равна',stats.skew(chisq))\n",
    "print('минимум равен',np.min(chisq))\n",
    "print('максимум равен',np.max(chisq))"
   ]
  },
  {
   "cell_type": "code",
   "execution_count": 174,
   "metadata": {
    "collapsed": false
   },
   "outputs": [
    {
     "name": "stdout",
     "output_type": "stream",
     "text": [
      "посчитаем все для пуассоновского распределения:\n",
      "среднее равно 10.006\n",
      "дисперсия равна 9.92982364729\n",
      "кривизна равна -0.3913248917900427\n",
      "смещенность равна 0.13448940631433293\n",
      "минимум равен 2\n",
      "максимум равен 19\n"
     ]
    }
   ],
   "source": [
    "print('посчитаем все для пуассоновского распределения:')\n",
    "poiss=stats.poisson.rvs(10, size=n)\n",
    "print('среднее равно',np.mean(poiss))\n",
    "print('дисперсия равна',(sp.stats.tstd(poiss))**2)\n",
    "print('кривизна равна',stats.kurtosis(poiss))\n",
    "print('смещенность равна',stats.skew(poiss))\n",
    "print('минимум равен',np.min(poiss))\n",
    "print('максимум равен',np.max(poiss))"
   ]
  },
  {
   "cell_type": "markdown",
   "metadata": {},
   "source": [
    "**Задача 2.** Найрисуйте функцию (cdf) и плотность (pdf) распределений. На графиках pdf отметьте среднее значение и медиану."
   ]
  },
  {
   "cell_type": "code",
   "execution_count": 196,
   "metadata": {
    "collapsed": false
   },
   "outputs": [
    {
     "data": {
      "text/plain": [
       "<matplotlib.text.Text at 0x24180b2828>"
      ]
     },
     "execution_count": 196,
     "metadata": {},
     "output_type": "execute_result"
    },
    {
     "data": {
      "image/png": "[encoded data removed]",
      "text/plain": [
       "<matplotlib.figure.Figure at 0x2418665ba8>"
      ]
     },
     "metadata": {},
     "output_type": "display_data"
    }
   ],
   "source": [
    "fig, ax = plt.subplots(1,2)\n",
    "fig.set_size_inches(15,4)\n",
    "\n",
    "x = np.linspace(stats.norm.ppf(0.01, 1, 4), stats.norm.ppf(0.99, 1, 4), 500)\n",
    "#Нормальное (гауссовское)\n",
    "pdfnorm = stats.norm.pdf(x,1,2)\n",
    "cdfnorm = stats.norm.cdf(x,1,2)\n",
    "ax[0].axvline(np.mean(norm), color='r', linestyle='--')\n",
    "ax[0].axvline(np.median(norm), color='b', linestyle='--')\n",
    "ax[0].plot(x, pdfnorm)\n",
    "ax[1].plot(x, cdfnorm)\n",
    "ax[0].set_title('ProbabilityDensity')\n",
    "ax[1].set_title('CumulativeDistribution')"
   ]
  },
  {
   "cell_type": "code",
   "execution_count": 198,
   "metadata": {
    "collapsed": false
   },
   "outputs": [
    {
     "data": {
      "text/plain": [
       "<matplotlib.text.Text at 0x2416a8c2e8>"
      ]
     },
     "execution_count": 198,
     "metadata": {},
     "output_type": "execute_result"
    },
    {
     "data": {
      "image/png": "[encoded data removed]",
      "text/plain": [
       "<matplotlib.figure.Figure at 0x2417cd59e8>"
      ]
     },
     "metadata": {},
     "output_type": "display_data"
    }
   ],
   "source": [
    "fig, bx = plt.subplots(1,2)\n",
    "fig.set_size_inches(18,12)\n",
    "#Хи-квадрат\n",
    "x2 = np.linspace(stats.chi2.ppf(0.01, 1, 4), stats.chi2.ppf(0.99, 1, 4), 500)\n",
    "pdfchi = stats.chi2.pdf(x2, 3)\n",
    "cdfchi = stats.chi2.cdf(x2, 3)\n",
    "bx[0].axvline(np.mean(chisq), color='r', linestyle='--', lw=2)\n",
    "bx[0].axvline(np.median(chisq), color='b', linestyle='--', lw=2)\n",
    "bx[0].plot(x2, pdfchi)\n",
    "bx[1].plot(x2, cdfchi)\n",
    "bx[0].set_title('ProbabilityDensity')\n",
    "bx[1].set_title('CumulativeDistribution')"
   ]
  },
  {
   "cell_type": "code",
   "execution_count": 201,
   "metadata": {
    "collapsed": false
   },
   "outputs": [
    {
     "data": {
      "text/plain": [
       "<matplotlib.text.Text at 0x240f921518>"
      ]
     },
     "execution_count": 201,
     "metadata": {},
     "output_type": "execute_result"
    },
    {
     "data": {
      "image/png": "[encoded data removed]",
      "text/plain": [
       "<matplotlib.figure.Figure at 0x2414f3fac8>"
      ]
     },
     "metadata": {},
     "output_type": "display_data"
    }
   ],
   "source": [
    "fig, dx = plt.subplots(1,2)\n",
    "fig.set_size_inches(18,8)\n",
    "#Пуассоновское\n",
    "x3 = np.arange(stats.poisson.ppf(0.01, 10), stats.poisson.ppf(0.99, 10))\n",
    "poisson = stats.poisson.rvs(10, size=500)\n",
    "\n",
    "\n",
    "pmfpois = stats.poisson.pmf(x3, 10) \n",
    "cdfpois = stats.poisson.cdf(x3, 10) \n",
    "dx[0].axvline(np.mean(poisson), color='r', linestyle='--') \n",
    "dx[0].axvline(np.median(poisson), color='b', linestyle='--') \n",
    "dx[0].plot(x3, pmfpois , 'bo') \n",
    "dx[1].plot(x3, cdfpois, 'bo') \n",
    "dx[0].set_title('ProbabilityMass') \n",
    "dx[1].set_title('CumulativeDistribution')"
   ]
  },
  {
   "cell_type": "markdown",
   "metadata": {},
   "source": [
    "**Задача 3.** Выведите описательные статистики распределений с помощью `scipy.stats.describe`. "
   ]
  },
  {
   "cell_type": "code",
   "execution_count": 96,
   "metadata": {
    "collapsed": false
   },
   "outputs": [
    {
     "name": "stdout",
     "output_type": "stream",
     "text": [
      "Статистика по гауссовскому распределению:\n",
      "DescribeResult(nobs=500, minmax=(-5.3649602404607721, 5.8934652516665818), mean=0.99917213872211708, variance=4.2283394875939919, skewness=-0.15255879108319884, kurtosis=-0.22988910169021937)\n"
     ]
    }
   ],
   "source": [
    "print('Статистика по гауссовскому распределению:')\n",
    "print(sp.stats.describe(norm))"
   ]
  },
  {
   "cell_type": "code",
   "execution_count": 98,
   "metadata": {
    "collapsed": false
   },
   "outputs": [
    {
     "name": "stdout",
     "output_type": "stream",
     "text": [
      "Статистика по пуассоновскому распределению:\n",
      "DescribeResult(nobs=500, minmax=(2, 21), mean=9.9640000000000004, variance=9.2251543086172347, skewness=0.3848284474947218, kurtosis=0.24796392192189787)\n"
     ]
    }
   ],
   "source": [
    "print('Статистика по пуассоновскому распределению:')\n",
    "print(sp.stats.describe(poiss))"
   ]
  },
  {
   "cell_type": "code",
   "execution_count": 97,
   "metadata": {
    "collapsed": false
   },
   "outputs": [
    {
     "name": "stdout",
     "output_type": "stream",
     "text": [
      "Статистика по хи-квадрат распределению:\n",
      "DescribeResult(nobs=500, minmax=(0.011635130948934699, 13.021652219043792), mean=2.9545871050617385, variance=5.259926917448575, skewness=1.3533072927962437, kurtosis=2.1914128272736457)\n"
     ]
    }
   ],
   "source": [
    "print('Статистика по хи-квадрат распределению:')\n",
    "print(sp.stats.describe(chisq))"
   ]
  },
  {
   "cell_type": "markdown",
   "metadata": {},
   "source": [
    "## 2. Теория вероятностей. Корреляция и метод максимального правдоподобия"
   ]
  },
  {
   "cell_type": "markdown",
   "metadata": {},
   "source": [
    "Корреляции с помощью ивестных вам пакетов можно посчитать несколькими способами: pandas.DataFrame.corr и numpy.correlate, numpy.corrcoef и scipy.stats.pearsonr для корреляционного коэффициента Пирсона, scipy.stats.spearmanr для корреляционного коэффициента Спирмена."
   ]
  },
  {
   "cell_type": "markdown",
   "metadata": {},
   "source": [
    "Объясните [разницу](http://support.minitab.com/en-us/minitab-express/1/help-and-how-to/modeling-statistics/regression/supporting-topics/basics/a-comparison-of-the-pearson-and-spearman-correlation-methods/) между коэффициентами корреляции Спирмена и Пирсона."
   ]
  },
  {
   "cell_type": "code",
   "execution_count": null,
   "metadata": {
    "collapsed": true
   },
   "outputs": [],
   "source": [
    "Коэффициент корреляции Пирсона измеряет линейную взаимосвязь двух величин, тогда как\n",
    "коэффициент корреляции Спирмана используется для измерения взаимосвязи двух величин, изменяющихся\n",
    "взаимозависимо, но необязятельно с постоянным темпом. При этом Спирман используется для измерения\n",
    "корреляции порядковых переменных. При почти линейной зависимости положительной коэффициент Пирсона \n",
    "будет точнее оценивать корреляцию, в то время как по Спирману корреляция будет оценена как 1. "
   ]
  },
  {
   "cell_type": "markdown",
   "metadata": {},
   "source": [
    "**Задание 1.** Найдите 3 пары признаков с наибольшей корреляцией. Поясните на конктретных примерах, что означают полученные коэффициенты корреляции."
   ]
  },
  {
   "cell_type": "code",
   "execution_count": 367,
   "metadata": {
    "collapsed": false
   },
   "outputs": [
    {
     "name": "stdout",
     "output_type": "stream",
     "text": [
      "                 correlation\n",
      "married female     -0.319228\n",
      "female  wage       -0.313419\n",
      "educ    service     0.301628\n"
     ]
    }
   ],
   "source": [
    "data = pd.read_csv('beauty.csv', sep=';')\n",
    "c=data.corr(method='pearson', min_periods=1)\n",
    "table = c.mask(np.triu(np.ones(c.shape)).astype(np.bool))\n",
    "\n",
    "\n",
    "p = pd.DataFrame(table.stack())\n",
    "p.columns = ['correlation']\n",
    "p['abs']= p['correlation'].abs()\n",
    "p = p.sort_values(by='abs', ascending=False)\n",
    "p.drop('abs', axis=1, inplace=True)\n",
    "\n",
    "print(p[:3])\n"
   ]
  },
  {
   "cell_type": "code",
   "execution_count": 202,
   "metadata": {
    "collapsed": false
   },
   "outputs": [],
   "source": [
    "data = pd.read_csv('beauty.csv',sep=';')"
   ]
  },
  {
   "cell_type": "markdown",
   "metadata": {},
   "source": [
    "**Задание 2.** На семинаре мы рассмотрели различные распрелеления случайных величин (дискретные и непрерывные). \n",
    "\n",
    "Изобразите гистограммы каждого из признаков.<br/>\n",
    "Определите возможный закон распределения каждого из них и оцените его параметры. Если готовой функции в scipy.stats для распределения нет, то оцените эти параметры сами по методу максимального правдоподобия."
   ]
  },
  {
   "cell_type": "code",
   "execution_count": 370,
   "metadata": {
    "collapsed": false
   },
   "outputs": [
    {
     "name": "stdout",
     "output_type": "stream",
     "text": [
      "хи-квадрат распределение с параметрами: (5.7818995163937998, 0, 1.0907596299313234)\n"
     ]
    },
    {
     "data": {
      "text/plain": [
       "<matplotlib.text.Text at 0x243e2d5978>"
      ]
     },
     "execution_count": 370,
     "metadata": {},
     "output_type": "execute_result"
    },
    {
     "data": {
      "image/png": "[encoded data removed]",
      "text/plain": [
       "<matplotlib.figure.Figure at 0x243ec28fd0>"
      ]
     },
     "metadata": {},
     "output_type": "display_data"
    }
   ],
   "source": [
    "par = stats.chi2.fit(data['wage'], floc=0)\n",
    "print('хи-квадрат распределение с параметрами:',par)\n",
    "inter = np.linspace(stats.chi2.ppf(0.001, par[0], par[1]), stats.chi2.ppf(0.999, par[0], par[1]), 300)\n",
    "fig, qx = plt.subplots(2,2)\n",
    "fig.set_size_inches(20,16)\n",
    "qx[0,0].hist(data['wage'], normed=True, color='r',bins=50)\n",
    "qx[0,0].plot(inter, stats.chi2.pdf(inter, a1[0], a1[1]),lw=3)\n",
    "qx[0,0].set_title('wage')\n",
    "\n",
    "\n",
    "\n"
   ]
  },
  {
   "cell_type": "code",
   "execution_count": 342,
   "metadata": {
    "collapsed": false
   },
   "outputs": [
    {
     "name": "stdout",
     "output_type": "stream",
     "text": [
      "экспоненциальное распределение с параметрами: (5.7818995163937998, 0, 1.0907596299313234)\n"
     ]
    },
    {
     "data": {
      "text/plain": [
       "<matplotlib.text.Text at 0x2432f23f60>"
      ]
     },
     "execution_count": 342,
     "metadata": {},
     "output_type": "execute_result"
    },
    {
     "data": {
      "image/png": "[encoded data removed]",
      "text/plain": [
       "<matplotlib.figure.Figure at 0x24384e0400>"
      ]
     },
     "metadata": {},
     "output_type": "display_data"
    }
   ],
   "source": [
    "par1 = stats.expon.fit(data['exper'], floc=0)\n",
    "print('экспоненциальное распределение с параметрами:',par)\n",
    "inter = np.linspace(stats.expon.ppf(0.001, par1[0], par1[1]), stats.expon.ppf(0.999, par1[0], par1[1]), 300)\n",
    "fig, qx = plt.subplots(2,2)\n",
    "fig.set_size_inches(20,16)\n",
    "qx[0,0].hist(data['exper'], normed=True, color='r',bins=20)\n",
    "qx[0,0].plot(inter, stats.expon.pdf(inter, par1[0], par1[1]),lw=3)\n",
    "qx[0,0].set_title('exper')"
   ]
  },
  {
   "cell_type": "code",
   "execution_count": null,
   "metadata": {
    "collapsed": true
   },
   "outputs": [],
   "source": [
    "Все нижеследующие признаки, значения которых распределены по Бернулли, можно оценить методом максимальног \n",
    "правдоподобия, посчитав кол-во значений 1(вероятность которого p) и 0(вероятность которого 1-p), перемножив\n",
    "вероятности для каждой величины, мы бы получили вероятность получения значений нашей выборки (т.к. мы предполагаем,\n",
    "что события независимы). Промаксимизировав полученное произведение по p, мы бы получили оценку методом ML.                                                                                             "
   ]
  },
  {
   "cell_type": "code",
   "execution_count": 351,
   "metadata": {
    "collapsed": false
   },
   "outputs": [
    {
     "data": {
      "text/plain": [
       "(array([ 917.,    0.,    0.,    0.,    0.,    0.,    0.,    0.,    0.,\n",
       "           0.,    0.,    0.,    0.,    0.,    0.,    0.,    0.,    0.,\n",
       "           0.,    0.,    0.,    0.,    0.,    0.,    0.,    0.,    0.,\n",
       "           0.,    0.,    0.,    0.,    0.,    0.,    0.,    0.,    0.,\n",
       "           0.,    0.,    0.,    0.,    0.,    0.,    0.,    0.,    0.,\n",
       "           0.,    0.,    0.,    0.,  343.]),\n",
       " array([ 0.  ,  0.02,  0.04,  0.06,  0.08,  0.1 ,  0.12,  0.14,  0.16,\n",
       "         0.18,  0.2 ,  0.22,  0.24,  0.26,  0.28,  0.3 ,  0.32,  0.34,\n",
       "         0.36,  0.38,  0.4 ,  0.42,  0.44,  0.46,  0.48,  0.5 ,  0.52,\n",
       "         0.54,  0.56,  0.58,  0.6 ,  0.62,  0.64,  0.66,  0.68,  0.7 ,\n",
       "         0.72,  0.74,  0.76,  0.78,  0.8 ,  0.82,  0.84,  0.86,  0.88,\n",
       "         0.9 ,  0.92,  0.94,  0.96,  0.98,  1.  ]),\n",
       " <a list of 50 Patch objects>)"
      ]
     },
     "execution_count": 351,
     "metadata": {},
     "output_type": "execute_result"
    },
    {
     "data": {
      "image/png": "[encoded data removed]",
      "text/plain": [
       "<matplotlib.figure.Figure at 0x241e51ae48>"
      ]
     },
     "metadata": {},
     "output_type": "display_data"
    }
   ],
   "source": [
    "plt.hist(data['union'],bins=50) #распределена по Бернулли"
   ]
  },
  {
   "cell_type": "code",
   "execution_count": 124,
   "metadata": {
    "collapsed": false
   },
   "outputs": [
    {
     "data": {
      "text/plain": [
       "(array([   84.,     0.,     0.,     0.,     0.,     0.,     0.,     0.,\n",
       "            0.,     0.,     0.,     0.,     0.,     0.,     0.,     0.,\n",
       "            0.,     0.,     0.,     0.,     0.,     0.,     0.,     0.,\n",
       "            0.,     0.,     0.,     0.,     0.,     0.,     0.,     0.,\n",
       "            0.,     0.,     0.,     0.,     0.,     0.,     0.,     0.,\n",
       "            0.,     0.,     0.,     0.,     0.,     0.,     0.,     0.,\n",
       "            0.,  1176.]),\n",
       " array([ 0.  ,  0.02,  0.04,  0.06,  0.08,  0.1 ,  0.12,  0.14,  0.16,\n",
       "         0.18,  0.2 ,  0.22,  0.24,  0.26,  0.28,  0.3 ,  0.32,  0.34,\n",
       "         0.36,  0.38,  0.4 ,  0.42,  0.44,  0.46,  0.48,  0.5 ,  0.52,\n",
       "         0.54,  0.56,  0.58,  0.6 ,  0.62,  0.64,  0.66,  0.68,  0.7 ,\n",
       "         0.72,  0.74,  0.76,  0.78,  0.8 ,  0.82,  0.84,  0.86,  0.88,\n",
       "         0.9 ,  0.92,  0.94,  0.96,  0.98,  1.  ]),\n",
       " <a list of 50 Patch objects>)"
      ]
     },
     "execution_count": 124,
     "metadata": {},
     "output_type": "execute_result"
    },
    {
     "data": {
      "image/png": "[encoded data removed]",
      "text/plain": [
       "<matplotlib.figure.Figure at 0x24132399e8>"
      ]
     },
     "metadata": {},
     "output_type": "display_data"
    }
   ],
   "source": [
    "plt.hist(data['goodhlth'],bins=50) #распределена по Бернулли"
   ]
  },
  {
   "cell_type": "code",
   "execution_count": 125,
   "metadata": {
    "collapsed": false
   },
   "outputs": [
    {
     "data": {
      "text/plain": [
       "(array([ 1167.,     0.,     0.,     0.,     0.,     0.,     0.,     0.,\n",
       "            0.,     0.,     0.,     0.,     0.,     0.,     0.,     0.,\n",
       "            0.,     0.,     0.,     0.,     0.,     0.,     0.,     0.,\n",
       "            0.,     0.,     0.,     0.,     0.,     0.,     0.,     0.,\n",
       "            0.,     0.,     0.,     0.,     0.,     0.,     0.,     0.,\n",
       "            0.,     0.,     0.,     0.,     0.,     0.,     0.,     0.,\n",
       "            0.,    93.]),\n",
       " array([ 0.  ,  0.02,  0.04,  0.06,  0.08,  0.1 ,  0.12,  0.14,  0.16,\n",
       "         0.18,  0.2 ,  0.22,  0.24,  0.26,  0.28,  0.3 ,  0.32,  0.34,\n",
       "         0.36,  0.38,  0.4 ,  0.42,  0.44,  0.46,  0.48,  0.5 ,  0.52,\n",
       "         0.54,  0.56,  0.58,  0.6 ,  0.62,  0.64,  0.66,  0.68,  0.7 ,\n",
       "         0.72,  0.74,  0.76,  0.78,  0.8 ,  0.82,  0.84,  0.86,  0.88,\n",
       "         0.9 ,  0.92,  0.94,  0.96,  0.98,  1.  ]),\n",
       " <a list of 50 Patch objects>)"
      ]
     },
     "execution_count": 125,
     "metadata": {},
     "output_type": "execute_result"
    },
    {
     "data": {
      "image/png": "[encoded data removed]",
      "text/plain": [
       "<matplotlib.figure.Figure at 0x24136584a8>"
      ]
     },
     "metadata": {},
     "output_type": "display_data"
    }
   ],
   "source": [
    "plt.hist(data['black'],bins=50) #распределена по Бернулли"
   ]
  },
  {
   "cell_type": "code",
   "execution_count": 126,
   "metadata": {
    "collapsed": false
   },
   "outputs": [
    {
     "data": {
      "text/plain": [
       "(array([ 824.,    0.,    0.,    0.,    0.,    0.,    0.,    0.,    0.,\n",
       "           0.,    0.,    0.,    0.,    0.,    0.,    0.,    0.,    0.,\n",
       "           0.,    0.,    0.,    0.,    0.,    0.,    0.,    0.,    0.,\n",
       "           0.,    0.,    0.,    0.,    0.,    0.,    0.,    0.,    0.,\n",
       "           0.,    0.,    0.,    0.,    0.,    0.,    0.,    0.,    0.,\n",
       "           0.,    0.,    0.,    0.,  436.]),\n",
       " array([ 0.  ,  0.02,  0.04,  0.06,  0.08,  0.1 ,  0.12,  0.14,  0.16,\n",
       "         0.18,  0.2 ,  0.22,  0.24,  0.26,  0.28,  0.3 ,  0.32,  0.34,\n",
       "         0.36,  0.38,  0.4 ,  0.42,  0.44,  0.46,  0.48,  0.5 ,  0.52,\n",
       "         0.54,  0.56,  0.58,  0.6 ,  0.62,  0.64,  0.66,  0.68,  0.7 ,\n",
       "         0.72,  0.74,  0.76,  0.78,  0.8 ,  0.82,  0.84,  0.86,  0.88,\n",
       "         0.9 ,  0.92,  0.94,  0.96,  0.98,  1.  ]),\n",
       " <a list of 50 Patch objects>)"
      ]
     },
     "execution_count": 126,
     "metadata": {},
     "output_type": "execute_result"
    },
    {
     "data": {
      "image/png": "[encoded data removed]",
      "text/plain": [
       "<matplotlib.figure.Figure at 0x24134520f0>"
      ]
     },
     "metadata": {},
     "output_type": "display_data"
    }
   ],
   "source": [
    "plt.hist(data['female'],bins=50) #распределена по Бернулли"
   ]
  },
  {
   "cell_type": "code",
   "execution_count": 352,
   "metadata": {
    "collapsed": false
   },
   "outputs": [
    {
     "data": {
      "text/plain": [
       "(array([ 389.,    0.,    0.,    0.,    0.,    0.,    0.,    0.,    0.,\n",
       "           0.,    0.,    0.,    0.,    0.,    0.,    0.,    0.,    0.,\n",
       "           0.,    0.,    0.,    0.,    0.,    0.,    0.,    0.,    0.,\n",
       "           0.,    0.,    0.,    0.,    0.,    0.,    0.,    0.,    0.,\n",
       "           0.,    0.,    0.,    0.,    0.,    0.,    0.,    0.,    0.,\n",
       "           0.,    0.,    0.,    0.,  871.]),\n",
       " array([ 0.  ,  0.02,  0.04,  0.06,  0.08,  0.1 ,  0.12,  0.14,  0.16,\n",
       "         0.18,  0.2 ,  0.22,  0.24,  0.26,  0.28,  0.3 ,  0.32,  0.34,\n",
       "         0.36,  0.38,  0.4 ,  0.42,  0.44,  0.46,  0.48,  0.5 ,  0.52,\n",
       "         0.54,  0.56,  0.58,  0.6 ,  0.62,  0.64,  0.66,  0.68,  0.7 ,\n",
       "         0.72,  0.74,  0.76,  0.78,  0.8 ,  0.82,  0.84,  0.86,  0.88,\n",
       "         0.9 ,  0.92,  0.94,  0.96,  0.98,  1.  ]),\n",
       " <a list of 50 Patch objects>)"
      ]
     },
     "execution_count": 352,
     "metadata": {},
     "output_type": "execute_result"
    },
    {
     "data": {
      "image/png": "[encoded data removed]",
      "text/plain": [
       "<matplotlib.figure.Figure at 0x243dac8048>"
      ]
     },
     "metadata": {},
     "output_type": "display_data"
    }
   ],
   "source": [
    "plt.hist(data['married'],bins=50) #распределена по Бернулли"
   ]
  },
  {
   "cell_type": "code",
   "execution_count": 128,
   "metadata": {
    "collapsed": false
   },
   "outputs": [
    {
     "data": {
      "text/plain": [
       "(array([ 915.,    0.,    0.,    0.,    0.,    0.,    0.,    0.,    0.,\n",
       "           0.,    0.,    0.,    0.,    0.,    0.,    0.,    0.,    0.,\n",
       "           0.,    0.,    0.,    0.,    0.,    0.,    0.,    0.,    0.,\n",
       "           0.,    0.,    0.,    0.,    0.,    0.,    0.,    0.,    0.,\n",
       "           0.,    0.,    0.,    0.,    0.,    0.,    0.,    0.,    0.,\n",
       "           0.,    0.,    0.,    0.,  345.]),\n",
       " array([ 0.  ,  0.02,  0.04,  0.06,  0.08,  0.1 ,  0.12,  0.14,  0.16,\n",
       "         0.18,  0.2 ,  0.22,  0.24,  0.26,  0.28,  0.3 ,  0.32,  0.34,\n",
       "         0.36,  0.38,  0.4 ,  0.42,  0.44,  0.46,  0.48,  0.5 ,  0.52,\n",
       "         0.54,  0.56,  0.58,  0.6 ,  0.62,  0.64,  0.66,  0.68,  0.7 ,\n",
       "         0.72,  0.74,  0.76,  0.78,  0.8 ,  0.82,  0.84,  0.86,  0.88,\n",
       "         0.9 ,  0.92,  0.94,  0.96,  0.98,  1.  ]),\n",
       " <a list of 50 Patch objects>)"
      ]
     },
     "execution_count": 128,
     "metadata": {},
     "output_type": "execute_result"
    },
    {
     "data": {
      "image/png": "[encoded data removed]",
      "text/plain": [
       "<matplotlib.figure.Figure at 0x241494d8d0>"
      ]
     },
     "metadata": {},
     "output_type": "display_data"
    }
   ],
   "source": [
    "plt.hist(data['service'],bins=50) #распределена по Бернулли"
   ]
  },
  {
   "cell_type": "code",
   "execution_count": 349,
   "metadata": {
    "collapsed": false
   },
   "outputs": [
    {
     "name": "stdout",
     "output_type": "stream",
     "text": [
      "экспоненциальное распределение с параметрами: (0, 12.563476562500025)\n"
     ]
    },
    {
     "data": {
      "text/plain": [
       "<matplotlib.text.Text at 0x243cf62780>"
      ]
     },
     "execution_count": 349,
     "metadata": {},
     "output_type": "execute_result"
    },
    {
     "data": {
      "image/png": "[encoded data removed]",
      "text/plain": [
       "<matplotlib.figure.Figure at 0x243cf285f8>"
      ]
     },
     "metadata": {},
     "output_type": "display_data"
    }
   ],
   "source": [
    "par = stats.expon.fit(data['educ'], floc=0)\n",
    "print('экспоненциальное распределение с параметрами:',par)\n",
    "inter = np.linspace(stats.expon.ppf(0.001, par[0], par[1]), stats.expon.ppf(0.999, par[0], par[1]), 300)\n",
    "fig, qx = plt.subplots(2,2)\n",
    "fig.set_size_inches(20,16)\n",
    "qx[0,0].hist(data['educ'], normed=True, color='r',bins=10)\n",
    "qx[0,0].plot(inter, stats.expon.pdf(inter, par[0], par[1]),lw=3)\n",
    "qx[0,0].set_title('educ')"
   ]
  },
  {
   "cell_type": "code",
   "execution_count": 130,
   "metadata": {
    "collapsed": false
   },
   "outputs": [
    {
     "data": {
      "text/plain": [
       "(array([  13.,    0.,    0.,    0.,    0.,    0.,    0.,    0.,    0.,\n",
       "           0.,    0.,    0.,  142.,    0.,    0.,    0.,    0.,    0.,\n",
       "           0.,    0.,    0.,    0.,    0.,    0.,    0.,  722.,    0.,\n",
       "           0.,    0.,    0.,    0.,    0.,    0.,    0.,    0.,    0.,\n",
       "           0.,  364.,    0.,    0.,    0.,    0.,    0.,    0.,    0.,\n",
       "           0.,    0.,    0.,    0.,   19.]),\n",
       " array([ 1.  ,  1.08,  1.16,  1.24,  1.32,  1.4 ,  1.48,  1.56,  1.64,\n",
       "         1.72,  1.8 ,  1.88,  1.96,  2.04,  2.12,  2.2 ,  2.28,  2.36,\n",
       "         2.44,  2.52,  2.6 ,  2.68,  2.76,  2.84,  2.92,  3.  ,  3.08,\n",
       "         3.16,  3.24,  3.32,  3.4 ,  3.48,  3.56,  3.64,  3.72,  3.8 ,\n",
       "         3.88,  3.96,  4.04,  4.12,  4.2 ,  4.28,  4.36,  4.44,  4.52,\n",
       "         4.6 ,  4.68,  4.76,  4.84,  4.92,  5.  ]),\n",
       " <a list of 50 Patch objects>)"
      ]
     },
     "execution_count": 130,
     "metadata": {},
     "output_type": "execute_result"
    },
    {
     "data": {
      "image/png": "[encoded data removed]",
      "text/plain": [
       "<matplotlib.figure.Figure at 0x24149c4ef0>"
      ]
     },
     "metadata": {},
     "output_type": "display_data"
    }
   ],
   "source": [
    "plt.hist(data['looks'],bins=50)"
   ]
  },
  {
   "cell_type": "markdown",
   "metadata": {},
   "source": [
    "## 3. Метод наивного Байеса"
   ]
  },
  {
   "cell_type": "markdown",
   "metadata": {},
   "source": [
    "Пояснения по выполнению этого задания будут рассказаны на семинаре 1 марта"
   ]
  },
  {
   "cell_type": "markdown",
   "metadata": {},
   "source": [
    "Обучение методом наивного Байеса основывается на достаточно сильном предположении, что все признаки попарно независимы. По формуле Байеса $$P(y|x_1,\\dots,x_n)=\\frac{P(y)P(x_1,\\dots,x_n|y)}{P(x_1,\\dots,x_n)}.$$ В предположении, что признаки независимы получаем, что $$P(y|x_1,\\dots,x_n)=\\frac{P(y)\\prod_{i=1}^n P(x_i|y)}{P(x_1,\\dots,x_n)}$$\n",
    "Т.к. $$P(x_1,\\dots,x_n)$$ задается условиями задачи, принцип максимального правдоподобия для наивного Байеса запишется следующим образом: $$\\hat y = \\arg\\max_y P(y)\\prod_{i=1}^n P(x_i|y).$$\n",
    "\n",
    "\n",
    "Библиотека `sklearn` поддерживает несколько реализаций наивного Байеса: `sklearn.naive_bayes.GaussianNB`, `sklearn.naive_bayes.MultinomialNB` и др."
   ]
  },
  {
   "cell_type": "code",
   "execution_count": null,
   "metadata": {
    "collapsed": true
   },
   "outputs": [],
   "source": [
    "from sklearn.cross_validation import train_test_split\n",
    "from sklearn.datasets import fetch_20newsgroups\n",
    "from sklearn.naive_bayes import MultinomialNB\n",
    "from sklearn.feature_extraction.text import CountVectorizer"
   ]
  },
  {
   "cell_type": "markdown",
   "metadata": {},
   "source": [
    "**Задание 1.** Выберите 2 категории новостных сообщений из `20newsgroups`. Случайным образом, в пропорции 70/30, разделите наборы текстов на обучающую и контрольную выборки. В результате выполнения данного задания у вас должно получится 5 переменных: `text_all`, `text_train`, `text_test`, `y_train`, `y_test`."
   ]
  },
  {
   "cell_type": "code",
   "execution_count": 260,
   "metadata": {
    "collapsed": true
   },
   "outputs": [],
   "source": [
    "from sklearn.cross_validation import train_test_split\n",
    "from sklearn.datasets import fetch_20newsgroups\n",
    "from sklearn.feature_extraction.text import CountVectorizer\n",
    "from sklearn.naive_bayes import MultinomialNB"
   ]
  },
  {
   "cell_type": "code",
   "execution_count": null,
   "metadata": {
    "collapsed": false
   },
   "outputs": [],
   "source": [
    "# Список новостных заголовков\n",
    "['alt.atheism',\n",
    " 'comp.graphics',\n",
    " 'comp.os.ms-windows.misc',\n",
    " 'comp.sys.ibm.pc.hardware',\n",
    " 'comp.sys.mac.hardware',\n",
    " 'comp.windows.x',\n",
    " 'misc.forsale',\n",
    " 'rec.autos',\n",
    " 'rec.motorcycles',\n",
    " 'rec.sport.baseball',\n",
    " 'rec.sport.hockey',\n",
    " 'sci.crypt',\n",
    " 'sci.electronics',\n",
    " 'sci.med',\n",
    " 'sci.space',\n",
    " 'soc.religion.christian',\n",
    " 'talk.politics.guns',\n",
    " 'talk.politics.mideast',\n",
    " 'talk.politics.misc',\n",
    " 'talk.religion.misc']"
   ]
  },
  {
   "cell_type": "code",
   "execution_count": 262,
   "metadata": {
    "collapsed": false
   },
   "outputs": [],
   "source": [
    "categories = ['sci.electronics', 'sci.med']\n",
    "text = fetch_20newsgroups(subset='all', categories=categories)\n",
    "text_all = text.data\n",
    "text_train, text_test, y_train, y_test = train_test_split(text.data, text.target, test_size = 0.3)\n"
   ]
  },
  {
   "cell_type": "markdown",
   "metadata": {},
   "source": [
    "**Задание 2.** На переменной `text` постройте конвертер из текстов в частотную матрицу с помощью метода `CountVectorizer(analyzer='word', stop_words='english', lowercase=True)`, а затем используйте его на выборках `train` и `test`. В результате вы должны получить 2 матрицы: `X_train` и `X_test`."
   ]
  },
  {
   "cell_type": "code",
   "execution_count": 368,
   "metadata": {
    "collapsed": true
   },
   "outputs": [],
   "source": [
    "text = CountVectorizer(analyzer='word', stop_words='english', lowercase=True)\n",
    "text.fit(text_all)\n",
    "X_train = text.transform(text_train)\n",
    "X_test  = text.transform(text_test)"
   ]
  },
  {
   "cell_type": "markdown",
   "metadata": {},
   "source": [
    "**Задание 3.** По матрице `X_train` найдите 50 самых частотных слов. Соответствия столбцов и слов можно понять по методу `CountVectorizer.get_feature_names()`."
   ]
  },
  {
   "cell_type": "code",
   "execution_count": 364,
   "metadata": {
    "collapsed": false
   },
   "outputs": [
    {
     "data": {
      "text/html": [
       "<div>\n",
       "<table border=\"1\" class=\"dataframe\">\n",
       "  <thead>\n",
       "    <tr style=\"text-align: right;\">\n",
       "      <th></th>\n",
       "      <th>Number of entries</th>\n",
       "      <th>word</th>\n",
       "    </tr>\n",
       "  </thead>\n",
       "  <tbody>\n",
       "    <tr>\n",
       "      <th>10795</th>\n",
       "      <td>2634</td>\n",
       "      <td>edu</td>\n",
       "    </tr>\n",
       "    <tr>\n",
       "      <th>26047</th>\n",
       "      <td>1472</td>\n",
       "      <td>subject</td>\n",
       "    </tr>\n",
       "    <tr>\n",
       "      <th>17036</th>\n",
       "      <td>1464</td>\n",
       "      <td>lines</td>\n",
       "    </tr>\n",
       "    <tr>\n",
       "      <th>7991</th>\n",
       "      <td>1400</td>\n",
       "      <td>com</td>\n",
       "    </tr>\n",
       "    <tr>\n",
       "      <th>20172</th>\n",
       "      <td>1387</td>\n",
       "      <td>organization</td>\n",
       "    </tr>\n",
       "    <tr>\n",
       "      <th>4915</th>\n",
       "      <td>912</td>\n",
       "      <td>article</td>\n",
       "    </tr>\n",
       "    <tr>\n",
       "      <th>29587</th>\n",
       "      <td>912</td>\n",
       "      <td>writes</td>\n",
       "    </tr>\n",
       "    <tr>\n",
       "      <th>28162</th>\n",
       "      <td>693</td>\n",
       "      <td>university</td>\n",
       "    </tr>\n",
       "    <tr>\n",
       "      <th>28343</th>\n",
       "      <td>687</td>\n",
       "      <td>use</td>\n",
       "    </tr>\n",
       "    <tr>\n",
       "      <th>16987</th>\n",
       "      <td>654</td>\n",
       "      <td>like</td>\n",
       "    </tr>\n",
       "    <tr>\n",
       "      <th>16392</th>\n",
       "      <td>626</td>\n",
       "      <td>know</td>\n",
       "    </tr>\n",
       "    <tr>\n",
       "      <th>10316</th>\n",
       "      <td>604</td>\n",
       "      <td>don</td>\n",
       "    </tr>\n",
       "    <tr>\n",
       "      <th>21597</th>\n",
       "      <td>602</td>\n",
       "      <td>posting</td>\n",
       "    </tr>\n",
       "    <tr>\n",
       "      <th>14341</th>\n",
       "      <td>584</td>\n",
       "      <td>host</td>\n",
       "    </tr>\n",
       "    <tr>\n",
       "      <th>19549</th>\n",
       "      <td>569</td>\n",
       "      <td>nntp</td>\n",
       "    </tr>\n",
       "    <tr>\n",
       "      <th>16040</th>\n",
       "      <td>544</td>\n",
       "      <td>just</td>\n",
       "    </tr>\n",
       "    <tr>\n",
       "      <th>10285</th>\n",
       "      <td>515</td>\n",
       "      <td>does</td>\n",
       "    </tr>\n",
       "    <tr>\n",
       "      <th>20869</th>\n",
       "      <td>468</td>\n",
       "      <td>people</td>\n",
       "    </tr>\n",
       "    <tr>\n",
       "      <th>8946</th>\n",
       "      <td>448</td>\n",
       "      <td>cs</td>\n",
       "    </tr>\n",
       "    <tr>\n",
       "      <th>13214</th>\n",
       "      <td>432</td>\n",
       "      <td>good</td>\n",
       "    </tr>\n",
       "    <tr>\n",
       "      <th>6751</th>\n",
       "      <td>424</td>\n",
       "      <td>ca</td>\n",
       "    </tr>\n",
       "    <tr>\n",
       "      <th>27173</th>\n",
       "      <td>420</td>\n",
       "      <td>time</td>\n",
       "    </tr>\n",
       "    <tr>\n",
       "      <th>19383</th>\n",
       "      <td>416</td>\n",
       "      <td>new</td>\n",
       "    </tr>\n",
       "    <tr>\n",
       "      <th>18031</th>\n",
       "      <td>405</td>\n",
       "      <td>medical</td>\n",
       "    </tr>\n",
       "    <tr>\n",
       "      <th>234</th>\n",
       "      <td>388</td>\n",
       "      <td>10</td>\n",
       "    </tr>\n",
       "    <tr>\n",
       "      <th>27044</th>\n",
       "      <td>372</td>\n",
       "      <td>think</td>\n",
       "    </tr>\n",
       "    <tr>\n",
       "      <th>28344</th>\n",
       "      <td>372</td>\n",
       "      <td>used</td>\n",
       "    </tr>\n",
       "    <tr>\n",
       "      <th>28592</th>\n",
       "      <td>371</td>\n",
       "      <td>ve</td>\n",
       "    </tr>\n",
       "    <tr>\n",
       "      <th>13953</th>\n",
       "      <td>363</td>\n",
       "      <td>help</td>\n",
       "    </tr>\n",
       "    <tr>\n",
       "      <th>13877</th>\n",
       "      <td>361</td>\n",
       "      <td>health</td>\n",
       "    </tr>\n",
       "    <tr>\n",
       "      <th>15102</th>\n",
       "      <td>359</td>\n",
       "      <td>information</td>\n",
       "    </tr>\n",
       "    <tr>\n",
       "      <th>19243</th>\n",
       "      <td>336</td>\n",
       "      <td>need</td>\n",
       "    </tr>\n",
       "    <tr>\n",
       "      <th>29509</th>\n",
       "      <td>322</td>\n",
       "      <td>work</td>\n",
       "    </tr>\n",
       "    <tr>\n",
       "      <th>10077</th>\n",
       "      <td>322</td>\n",
       "      <td>disease</td>\n",
       "    </tr>\n",
       "    <tr>\n",
       "      <th>23244</th>\n",
       "      <td>313</td>\n",
       "      <td>research</td>\n",
       "    </tr>\n",
       "    <tr>\n",
       "      <th>6881</th>\n",
       "      <td>312</td>\n",
       "      <td>cancer</td>\n",
       "    </tr>\n",
       "    <tr>\n",
       "      <th>24231</th>\n",
       "      <td>299</td>\n",
       "      <td>science</td>\n",
       "    </tr>\n",
       "    <tr>\n",
       "      <th>29114</th>\n",
       "      <td>299</td>\n",
       "      <td>way</td>\n",
       "    </tr>\n",
       "    <tr>\n",
       "      <th>23173</th>\n",
       "      <td>298</td>\n",
       "      <td>reply</td>\n",
       "    </tr>\n",
       "    <tr>\n",
       "      <th>19749</th>\n",
       "      <td>297</td>\n",
       "      <td>number</td>\n",
       "    </tr>\n",
       "    <tr>\n",
       "      <th>20715</th>\n",
       "      <td>293</td>\n",
       "      <td>patients</td>\n",
       "    </tr>\n",
       "    <tr>\n",
       "      <th>17556</th>\n",
       "      <td>288</td>\n",
       "      <td>make</td>\n",
       "    </tr>\n",
       "    <tr>\n",
       "      <th>10185</th>\n",
       "      <td>288</td>\n",
       "      <td>distribution</td>\n",
       "    </tr>\n",
       "    <tr>\n",
       "      <th>21277</th>\n",
       "      <td>287</td>\n",
       "      <td>pitt</td>\n",
       "    </tr>\n",
       "    <tr>\n",
       "      <th>29026</th>\n",
       "      <td>287</td>\n",
       "      <td>want</td>\n",
       "    </tr>\n",
       "    <tr>\n",
       "      <th>8189</th>\n",
       "      <td>284</td>\n",
       "      <td>computer</td>\n",
       "    </tr>\n",
       "    <tr>\n",
       "      <th>29739</th>\n",
       "      <td>272</td>\n",
       "      <td>years</td>\n",
       "    </tr>\n",
       "    <tr>\n",
       "      <th>21909</th>\n",
       "      <td>265</td>\n",
       "      <td>problem</td>\n",
       "    </tr>\n",
       "    <tr>\n",
       "      <th>14089</th>\n",
       "      <td>260</td>\n",
       "      <td>high</td>\n",
       "    </tr>\n",
       "    <tr>\n",
       "      <th>29528</th>\n",
       "      <td>257</td>\n",
       "      <td>world</td>\n",
       "    </tr>\n",
       "  </tbody>\n",
       "</table>\n",
       "</div>"
      ],
      "text/plain": [
       "       Number of entries          word\n",
       "10795               2634           edu\n",
       "26047               1472       subject\n",
       "17036               1464         lines\n",
       "7991                1400           com\n",
       "20172               1387  organization\n",
       "4915                 912       article\n",
       "29587                912        writes\n",
       "28162                693    university\n",
       "28343                687           use\n",
       "16987                654          like\n",
       "16392                626          know\n",
       "10316                604           don\n",
       "21597                602       posting\n",
       "14341                584          host\n",
       "19549                569          nntp\n",
       "16040                544          just\n",
       "10285                515          does\n",
       "20869                468        people\n",
       "8946                 448            cs\n",
       "13214                432          good\n",
       "6751                 424            ca\n",
       "27173                420          time\n",
       "19383                416           new\n",
       "18031                405       medical\n",
       "234                  388            10\n",
       "27044                372         think\n",
       "28344                372          used\n",
       "28592                371            ve\n",
       "13953                363          help\n",
       "13877                361        health\n",
       "15102                359   information\n",
       "19243                336          need\n",
       "29509                322          work\n",
       "10077                322       disease\n",
       "23244                313      research\n",
       "6881                 312        cancer\n",
       "24231                299       science\n",
       "29114                299           way\n",
       "23173                298         reply\n",
       "19749                297        number\n",
       "20715                293      patients\n",
       "17556                288          make\n",
       "10185                288  distribution\n",
       "21277                287          pitt\n",
       "29026                287          want\n",
       "8189                 284      computer\n",
       "29739                272         years\n",
       "21909                265       problem\n",
       "14089                260          high\n",
       "29528                257         world"
      ]
     },
     "execution_count": 364,
     "metadata": {},
     "output_type": "execute_result"
    }
   ],
   "source": [
    "tab=pd.DataFrame({'Number of entries':np.sum(X_train, axis=0), 'word':text.get_feature_names()})\n",
    "tab.sort_values(by='Number of entries', ascending=False)[:50]"
   ]
  },
  {
   "cell_type": "markdown",
   "metadata": {},
   "source": [
    "**Задание 4.** Обучите наивный байесовский классификатор MultinomialNB с параметром слгаживания `alpha=1` на выборке train. Примените его к данным из тестовой выборке и оцените точность совпадения меток."
   ]
  },
  {
   "cell_type": "code",
   "execution_count": 365,
   "metadata": {
    "collapsed": false
   },
   "outputs": [
    {
     "data": {
      "text/plain": [
       "0.9797639123102867"
      ]
     },
     "execution_count": 365,
     "metadata": {},
     "output_type": "execute_result"
    }
   ],
   "source": [
    "clf = MultinomialNB(alpha=1).fit(X_train, y_train)\n",
    "predicted = clf.predict(X_test)\n",
    "np.mean(predicted == y_test)  "
   ]
  },
  {
   "cell_type": "markdown",
   "metadata": {},
   "source": [
    "**Задание 5.** Обучите наивный байесовский классификатор MultinomialNB с параметром слгаживания `alpha=0` на выборке train. Примените его к данным из тестовой выборки и оцените точность совпадения меток. Поменяются ли результаты? Объясните почему?\n",
    "\n",
    "Учитывайте не только метки, но и вероятности, которые выдает классификатор"
   ]
  },
  {
   "cell_type": "code",
   "execution_count": 366,
   "metadata": {
    "collapsed": false
   },
   "outputs": [
    {
     "data": {
      "text/plain": [
       "0.55311973018549743"
      ]
     },
     "execution_count": 366,
     "metadata": {},
     "output_type": "execute_result"
    }
   ],
   "source": [
    "clf = MultinomialNB(alpha=0).fit(X_train, y_train)\n",
    "predicted = clf.predict(X_test)\n",
    "np.mean(predicted == y_test) "
   ]
  },
  {
   "cell_type": "code",
   "execution_count": null,
   "metadata": {
    "collapsed": true
   },
   "outputs": [],
   "source": [
    "Да, т.к. при alpha=0 вероятность появления какого-то слова в тексте подразумевается нулевая,если оно не встречалось в выборке,\n",
    "т.е. вероятность наступления совокупности событий (появления слов) так же равнялась 0 (т.е. их произведение), т.к. \n",
    "события считаются независимыми.\n",
    "Теперь при alpha=1 вероятность каждого из событий предполагается ненулевая (возможно, что слово из текста\n",
    "не было включено в выборку), ведь мы добавляем к частоте появления единицу, что повышает точность совпадения.\n"
   ]
  }
 ],
 "metadata": {
  "kernelspec": {
   "display_name": "Python 3",
   "language": "python",
   "name": "python3"
  },
  "language_info": {
   "codemirror_mode": {
    "name": "ipython",
    "version": 3
   },
   "file_extension": ".py",
   "mimetype": "text/x-python",
   "name": "python",
   "nbconvert_exporter": "python",
   "pygments_lexer": "ipython3",
   "version": "3.5.1"
  }
 },
 "nbformat": 4,
 "nbformat_minor": 0
}
