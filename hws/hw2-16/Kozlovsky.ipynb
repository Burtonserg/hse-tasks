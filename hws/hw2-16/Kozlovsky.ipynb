{
 "cells": [
  {
   "cell_type": "markdown",
   "metadata": {},
   "source": [
    "# Домашняя работа №2\n",
    "Панов А.А, Шестаков А.В. Майнор по анализу данных 2016"
   ]
  },
  {
   "cell_type": "markdown",
   "metadata": {},
   "source": [
    "<hr\\>\n",
    "**Общая информация**\n",
    "\n",
    "**Срок сдачи:** 12 марта 2016, 23:59 <br\\>\n",
    "**Штраф за опоздание:** -0.5 за каждый день\n",
    "\n",
    "При отправлении ДЗ на почту указывайте фамилию в названии файла, а тему письма оформляйте в следующем виде:<br\\>\n",
    "** [minor-da-16] *{Фамилия}* *{Имя}* ДЗ*{Номер}* **<br\\>\n",
    "\n",
    "\n",
    "Сопровождайте ваш код изображеними, комментариями и выводами. <br\\>\n",
    "Иммейте ввиду, что на некоторые задачи нет единственного верного и полного ответа. Чем больше информации вы сможете извлечь, аргументированных выводов сформулировать, тем лучше.\n",
    "\n",
    "Используйте данный Ipython Notebook при оформлении домашнего задания.\n",
    "<hr\\>"
   ]
  },
  {
   "cell_type": "markdown",
   "metadata": {},
   "source": [
    "## 1. Теория веротяностей. Распределения"
   ]
  },
  {
   "cell_type": "markdown",
   "metadata": {},
   "source": [
    "В SciPy более 80 видов непрерывных и более 12 дискретных распределений, более 70 статистических функций"
   ]
  },
  {
   "cell_type": "code",
   "execution_count": 3,
   "metadata": {
    "collapsed": false
   },
   "outputs": [],
   "source": [
    "import scipy as sp\n",
    "import numpy as np\n",
    "import pandas as pd\n",
    "import matplotlib.pyplot as plt\n",
    "from scipy import stats\n",
    "import matplotlib.mlab as mlab\n",
    "\n",
    "%matplotlib inline"
   ]
  },
  {
   "cell_type": "markdown",
   "metadata": {},
   "source": [
    "**Задача 1.** Сгенерируйте три распределения: гауссовское с мат. ожиданием 1 и дисперсией 4, хи-квадрат с $k = 3$ и дискртеное пуассоновское с $\\lambda = 10$.<br/> \n",
    "\n",
    "При генерации используйте 500 точек. Посчитайте для каждого из них обчный набор статистик: среднее, минимум, максимум, дисперсию, кривизну и смещенность."
   ]
  },
  {
   "cell_type": "code",
   "execution_count": 282,
   "metadata": {
    "collapsed": false
   },
   "outputs": [
    {
     "name": "stdout",
     "output_type": "stream",
     "text": [
      "Основные статистики для выборки размера 500 из нормального распределения с мат.ожиданием 1 и дисперсией 4\n",
      "Среднее: 1.05084824684\n",
      "Минимум: -4.70587829407\n",
      "Максимум: 7.91737108069\n",
      "Дисперсия: 3.52017147571\n",
      "Кривизна: 0.0625440811518\n",
      "Смещенность: 0.04055039307895149\n"
     ]
    }
   ],
   "source": [
    "normal_sample=np.random.normal(1, 2, 500)\n",
    "print('Основные статистики для выборки размера 500 из нормального распределения с мат.ожиданием 1 и дисперсией 4')\n",
    "print('Среднее:',np.mean(normal_sample))\n",
    "print('Минимум:',min(normal_sample))\n",
    "print('Максимум:',max(normal_sample))\n",
    "print('Дисперсия:',np.var(normal_sample))\n",
    "print('Кривизна:',kurtosis(normal_sample))\n",
    "print('Смещенность:',sp.stats.skew(normal_sample))"
   ]
  },
  {
   "cell_type": "code",
   "execution_count": 283,
   "metadata": {
    "collapsed": false
   },
   "outputs": [
    {
     "name": "stdout",
     "output_type": "stream",
     "text": [
      "Основные статистики для выборки размера 500 из хи-квадрат распределения с k=3\n",
      "Среднее: 2.98652638583\n",
      "Минимум: 0.0254841853861\n",
      "Максимум: 15.958180708\n",
      "Дисперсия: 6.02151101422\n",
      "Кривизна: 2.06268268038\n",
      "Смещенность: 1.3428158052536323\n"
     ]
    }
   ],
   "source": [
    "chisquare_sample=np.random.chisquare(3,500)\n",
    "print('Основные статистики для выборки размера 500 из хи-квадрат распределения с k=3')\n",
    "print('Среднее:',np.mean(chisquare_sample))\n",
    "print('Минимум:',min(chisquare_sample))\n",
    "print('Максимум:',max(chisquare_sample))\n",
    "print('Дисперсия:',np.var(chisquare_sample))\n",
    "print('Кривизна:',kurtosis(chisquare_sample))\n",
    "print('Смещенность:',sp.stats.skew(chisquare_sample))"
   ]
  },
  {
   "cell_type": "code",
   "execution_count": 284,
   "metadata": {
    "collapsed": false
   },
   "outputs": [
    {
     "name": "stdout",
     "output_type": "stream",
     "text": [
      "Основные статистики для выборки размера 500 из пуассоновского распределения с lambda=10\n",
      "Среднее: 10.122\n",
      "Минимум: 1\n",
      "Максимум: 22\n",
      "Дисперсия: 10.591116\n",
      "Кривизна: 0.103849912142\n",
      "Смещенность: 0.23464955392317696\n"
     ]
    }
   ],
   "source": [
    "poisson_sample=np.random.poisson(10,500)\n",
    "print('Основные статистики для выборки размера 500 из пуассоновского распределения с lambda=10')\n",
    "print('Среднее:',np.mean(poisson_sample))\n",
    "print('Минимум:',min(poisson_sample))\n",
    "print('Максимум:',max(poisson_sample))\n",
    "print('Дисперсия:',np.var(poisson_sample))\n",
    "print('Кривизна:',kurtosis(poisson_sample))\n",
    "print('Смещенность:',sp.stats.skew(poisson_sample))"
   ]
  },
  {
   "cell_type": "markdown",
   "metadata": {},
   "source": [
    "**Задача 2.** Найрисуйте функцию (cdf) и плотность (pdf) распределений. На графиках pdf отметьте среднее значение и медиану."
   ]
  },
  {
   "cell_type": "code",
   "execution_count": 285,
   "metadata": {
    "collapsed": true
   },
   "outputs": [],
   "source": [
    "#Создаем эмпирическую функцию распределения\n",
    "def cdf(sample, x):\n",
    "  return(len([i for i in sample if i<=x])/sample.size)\n",
    "#Создаем функцию для генерирования np.array, состоящего из значений функции распределения для соответствующих квантилей.\n",
    "def function(sample, quantile):\n",
    "    s = []\n",
    "    for i in quantile:\n",
    "     s.append(cdf(sample,i))\n",
    "    return np.array(s)\n",
    "\n",
    "#Задаем np.array, состоящий из квантилей.\n",
    "range_norm = np.linspace(min(normal_sample), max(normal_sample), 500)\n",
    "range_chis = np.linspace(min(chisquare_sample), max(chisquare_sample), 500)\n",
    "range_poiss = np.linspace(min(poisson_sample), max(poisson_sample), 500)\n",
    "\n",
    "bins_norm = np.linspace(min(normal_sample), max(normal_sample), 20)\n",
    "bins_chis = np.linspace(min(chisquare_sample), max(chisquare_sample), 20)\n",
    "bins_poiss = np.linspace(min(poisson_sample), max(poisson_sample), 10)"
   ]
  },
  {
   "cell_type": "code",
   "execution_count": 290,
   "metadata": {
    "collapsed": false
   },
   "outputs": [
    {
     "name": "stdout",
     "output_type": "stream",
     "text": [
      "Графики распределения и плотности для выборки размера 500 из нормального распределения с мат. ожиданием 1 и дисперсией 4\n"
     ]
    },
    {
     "data": {
      "image/png": "[encoded data removed]",
      "text/plain": [
       "<matplotlib.figure.Figure at 0x10f422d68>"
      ]
     },
     "metadata": {},
     "output_type": "display_data"
    }
   ],
   "source": [
    "print('Графики распределения и плотности для выборки размера 500 из нормального распределения с мат. ожиданием 1 и дисперсией 4')\n",
    "fig = plt.figure(figsize=(12, 5))\n",
    "\n",
    "#Задаем график функции распределения\n",
    "ax = fig.add_subplot(121)\n",
    "ax.plot(range_norm, function(normal_sample,range_norm), '-r', lw=2, label='Normal')\n",
    "ax.set_xlabel('Quantiles')\n",
    "ax.set_ylabel('Cummulative distribution function')\n",
    "ax.legend(fancybox=True, loc='upper left')\n",
    "\n",
    "ax = fig.add_subplot(122)\n",
    "#Задаем гистограмму\n",
    "plt.hist(normal_sample, bins_norm, alpha=0.4, normed=1, label='Histogram')\n",
    "#Вычисляем медиану и среднее\n",
    "plt.axvline(np.median(normal_sample), color='b', linestyle='dashed', linewidth=3, label='Median')\n",
    "plt.axvline(np.mean(normal_sample), color='g', linestyle='dashed', linewidth=3, label='Mean')\n",
    "#Задаем эмпирическую функцию плотности\n",
    "pdf_est_norm = stats.gaussian_kde(normal_sample)\n",
    "pdf_normal = pdf_est_norm.evaluate(bins_norm)\n",
    "plt.plot(bins_norm, pdf_normal, label='Density', color=\"r\")\n",
    "\n",
    "ax.set_xlabel('Quantiles')\n",
    "ax.set_ylabel('Probability density function')\n",
    "ax.legend(fancybox=True, loc='upper left')\n",
    "\n",
    "plt.show()"
   ]
  },
  {
   "cell_type": "code",
   "execution_count": 291,
   "metadata": {
    "collapsed": false
   },
   "outputs": [
    {
     "name": "stdout",
     "output_type": "stream",
     "text": [
      "Графики распределения и плотности для выборки размера 500 из хи-квадрат распределения с k=3\n"
     ]
    },
    {
     "data": {
      "image/png": "[encoded data removed]",
      "text/plain": [
       "<matplotlib.figure.Figure at 0x107f329b0>"
      ]
     },
     "metadata": {},
     "output_type": "display_data"
    }
   ],
   "source": [
    "print('Графики распределения и плотности для выборки размера 500 из хи-квадрат распределения с k=3')\n",
    "fig = plt.figure(figsize=(12, 5))\n",
    "#Задаем график функции распределения\n",
    "ax = fig.add_subplot(121)\n",
    "ax.plot(range_chis, function(chisquare_sample,range_chis), '-r', lw=2, label='Chi-square')\n",
    "ax.set_xlabel('Quantiles')\n",
    "ax.set_ylabel('Cummulative distribution function')\n",
    "ax.legend(fancybox=True, loc='upper left')\n",
    "\n",
    "ax = fig.add_subplot(122)\n",
    "#Задаем гистограмму\n",
    "plt.hist(chisquare_sample, bins_chis, alpha=0.4, normed=1, label='Histogram')\n",
    "#Вычисляем медиану и среднее\n",
    "plt.axvline(np.median(chisquare_sample), color='b', linestyle='dashed', linewidth=3, label='Median')\n",
    "plt.axvline(np.mean(chisquare_sample), color='g', linestyle='dashed', linewidth=3, label='Mean')\n",
    "#Задаем эмпирическую функцию плотности\n",
    "pdf_est_chi = stats.gaussian_kde(chisquare_sample)\n",
    "pdf_chis = pdf_est_chi.evaluate(bins_chis)\n",
    "plt.plot(bins_chis, pdf_chis, label='Density', color=\"r\")\n",
    "\n",
    "ax.set_xlabel('Quantiles')\n",
    "ax.set_ylabel('Probability density function')\n",
    "ax.legend(fancybox=True, loc='upper right')\n",
    "\n",
    "plt.show()"
   ]
  },
  {
   "cell_type": "code",
   "execution_count": 292,
   "metadata": {
    "collapsed": false
   },
   "outputs": [
    {
     "name": "stdout",
     "output_type": "stream",
     "text": [
      "Графики распределения и плотности для выборки размера 500 из пуассоновского распределения с lambda=10\n"
     ]
    },
    {
     "data": {
      "image/png": "[encoded data removed]",
      "text/plain": [
       "<matplotlib.figure.Figure at 0x10f1cbdd8>"
      ]
     },
     "metadata": {},
     "output_type": "display_data"
    }
   ],
   "source": [
    "print('Графики распределения и плотности для выборки размера 500 из пуассоновского распределения с lambda=10')\n",
    "fig = plt.figure(figsize=(12, 5))\n",
    "#Задаем график функции распределения\n",
    "ax = fig.add_subplot(121)\n",
    "ax.plot(range_poiss, function(poisson_sample,range_poiss), '-r', lw=2, label='Poisson')\n",
    "ax.set_xlabel('Quantiles')\n",
    "ax.set_ylabel('Cummulative distribution function')\n",
    "ax.legend(fancybox=True, loc='upper left')\n",
    "\n",
    "ax = fig.add_subplot(122)\n",
    "#Задаем гистограмму\n",
    "plt.hist(poisson_sample, bins_poiss, alpha=0.4, normed=1, label='Histogram')\n",
    "#Вычисляем медиану и среднее\n",
    "plt.axvline(np.median(poisson_sample), color='b', linestyle='dashed', linewidth=3, label='Median')\n",
    "plt.axvline(np.mean(poisson_sample), color='g', linestyle='dashed', linewidth=3, label='Mean')\n",
    "#Задаем эмпирическую функцию плотности\n",
    "pdf_est_poiss = stats.gaussian_kde(poisson_sample)\n",
    "pdf_poiss = pdf_est_poiss.evaluate(bins_poiss)\n",
    "plt.plot(bins_poiss, pdf_poiss, label='Density', color=\"r\")\n",
    "\n",
    "ax.set_xlabel('Quantiles')\n",
    "ax.set_ylabel('Probability density function')\n",
    "ax.legend(fancybox=True, loc='upper right')\n",
    "\n",
    "plt.show()"
   ]
  },
  {
   "cell_type": "markdown",
   "metadata": {},
   "source": [
    "**Задача 3.** Выведите описательные статистики распределений с помощью `scipy.stats.describe`. "
   ]
  },
  {
   "cell_type": "code",
   "execution_count": 293,
   "metadata": {
    "collapsed": false
   },
   "outputs": [
    {
     "name": "stdout",
     "output_type": "stream",
     "text": [
      "Набор статистик для выборки размера 500 из нормального распределения с мат.ожиданием 1 и дисперсией 4\n",
      "Количество наблюдений: 500.000000\n",
      "Среднее: 1.050848\n",
      "Минимум: -4.705878\n",
      "Максисмум: 7.917371\n",
      "Дисперсия: 3.527226\n",
      "Кривизна: 0.074831\n",
      "Смещенность: 0.040550\n",
      "Набор статистик для выборки размера 500 из хи-квадрат распределения с k=3\n",
      "Количество наблюдений: 500.000000\n",
      "Среднее: 2.986526\n",
      "Минимум: 0.025484\n",
      "Максисмум: 15.958181\n",
      "Дисперсия: 6.033578\n",
      "Кривизна: 2.082994\n",
      "Смещенность: 1.342816\n",
      "Набор статистик для выборки размера 500 из пуассоновского распределения с лямбдой, равной 4\n",
      "Количество наблюдений: 500.000000\n",
      "Среднее: 10.122000\n",
      "Минимум: 1.000000\n",
      "Максисмум: 22.000000\n",
      "Дисперсия: 10.612341\n",
      "Кривизна: 0.116303\n",
      "Смещенность: 0.234650\n"
     ]
    }
   ],
   "source": [
    "print('Набор статистик для выборки размера 500 из нормального распределения с мат.ожиданием 1 и дисперсией 4')\n",
    "print(\"Количество наблюдений: {0:8.6f}\".format(sp.stats.describe(normal_sample)[0]))\n",
    "print(\"Среднее: {0:8.6f}\".format(sp.stats.describe(normal_sample)[2]))\n",
    "print(\"Минимум: {0:8.6f}\".format(sp.stats.describe(normal_sample)[1][0]))\n",
    "print(\"Максисмум: {0:8.6f}\".format(sp.stats.describe(normal_sample)[1][1]))\n",
    "print(\"Дисперсия: {0:8.6f}\".format(sp.stats.describe(normal_sample)[3]))\n",
    "print(\"Кривизна: {0:8.6f}\".format(sp.stats.describe(normal_sample)[5]))\n",
    "print(\"Смещенность: {0:8.6f}\".format(sp.stats.describe(normal_sample)[4]))\n",
    "print('Набор статистик для выборки размера 500 из хи-квадрат распределения с k=3')\n",
    "print(\"Количество наблюдений: {0:8.6f}\".format(sp.stats.describe(chisquare_sample)[0]))\n",
    "print(\"Среднее: {0:8.6f}\".format(sp.stats.describe(chisquare_sample)[2]))\n",
    "print(\"Минимум: {0:8.6f}\".format(sp.stats.describe(chisquare_sample)[1][0]))\n",
    "print(\"Максисмум: {0:8.6f}\".format(sp.stats.describe(chisquare_sample)[1][1]))\n",
    "print(\"Дисперсия: {0:8.6f}\".format(sp.stats.describe(chisquare_sample)[3]))\n",
    "print(\"Кривизна: {0:8.6f}\".format(sp.stats.describe(chisquare_sample)[5]))\n",
    "print(\"Смещенность: {0:8.6f}\".format(sp.stats.describe(chisquare_sample)[4]))\n",
    "print('Набор статистик для выборки размера 500 из пуассоновского распределения с лямбдой, равной 4')\n",
    "print(\"Количество наблюдений: {0:8.6f}\".format(sp.stats.describe(poisson_sample)[0]))\n",
    "print(\"Среднее: {0:8.6f}\".format(sp.stats.describe(poisson_sample)[2]))\n",
    "print(\"Минимум: {0:8.6f}\".format(sp.stats.describe(poisson_sample)[1][0]))\n",
    "print(\"Максисмум: {0:8.6f}\".format(sp.stats.describe(poisson_sample)[1][1]))\n",
    "print(\"Дисперсия: {0:8.6f}\".format(sp.stats.describe(poisson_sample)[3]))\n",
    "print(\"Кривизна: {0:8.6f}\".format(sp.stats.describe(poisson_sample)[5]))\n",
    "print(\"Смещенность: {0:8.6f}\".format(sp.stats.describe(poisson_sample)[4]))"
   ]
  },
  {
   "cell_type": "markdown",
   "metadata": {},
   "source": [
    "## 2. Теория вероятностей. Корреляция и метод максимального правдоподобия"
   ]
  },
  {
   "cell_type": "markdown",
   "metadata": {},
   "source": [
    "Корреляции с помощью ивестных вам пакетов можно посчитать несколькими способами: pandas.DataFrame.corr и numpy.correlate, numpy.corrcoef и scipy.stats.pearsonr для корреляционного коэффициента Пирсона, scipy.stats.spearmanr для корреляционного коэффициента Спирмена."
   ]
  },
  {
   "cell_type": "markdown",
   "metadata": {},
   "source": [
    "Объясните [разницу](http://support.minitab.com/en-us/minitab-express/1/help-and-how-to/modeling-statistics/regression/supporting-topics/basics/a-comparison-of-the-pearson-and-spearman-correlation-methods/) между коэффициентами корреляции Спирмена и Пирсона."
   ]
  },
  {
   "cell_type": "code",
   "execution_count": null,
   "metadata": {
    "collapsed": true
   },
   "outputs": [],
   "source": [
    "#Коэффициент Пирсона измеряет только линейную зависимость между переменными (при такой зависимости изменение одной переменной ведет \n",
    "#к пропорциональному изменению другой). Коэффициент Спирмена измеряет монотонную зависимость между переменными, при которой изменение\n",
    "#одной переменной не обязательно ведет к пропорциональному изменению другой переменной."
   ]
  },
  {
   "cell_type": "markdown",
   "metadata": {},
   "source": [
    "В данных из файла [beauty.csv](https://www.dropbox.com/s/xio77e9p0oe1wqw/beauty.csv?dl=0) для каждого опрошенного имеется следующая информация: заработная плата за час работы, опыт работы, образование, внешняя привлекательность (в баллах от 1 до 5), бинарные признаки: пол, семейное положение, состояние здоровья (хорошее/плохое), членство в профсоюзе, цвет кожи (белый/чёрный), занятость в сфере обслуживания (да/нет)."
   ]
  },
  {
   "cell_type": "markdown",
   "metadata": {},
   "source": [
    "**Задание 1.** Найдите 3 пары признаков с наибольшей корреляцией. Поясните на конктретных примерах, что означают полученные коэффициенты корреляции."
   ]
  },
  {
   "cell_type": "code",
   "execution_count": 295,
   "metadata": {
    "collapsed": false
   },
   "outputs": [],
   "source": [
    "#Загружаем файл и создаем dataframe\n",
    "beauty = pd.read_csv('beauty.csv', sep=';')\n",
    "#Создаем список признаков\n",
    "list_names=list(beauty.columns.values)"
   ]
  },
  {
   "cell_type": "code",
   "execution_count": 312,
   "metadata": {
    "collapsed": false
   },
   "outputs": [
    {
     "name": "stdout",
     "output_type": "stream",
     "text": [
      "Топ-3 пары по коррелированности в порядке возрастания\n",
      "[103104.80000000002, 'wage', 'educ', 'positive relation']\n",
      "[161146.34999999998, 'wage', 'exper', 'positive relation']\n",
      "[280846, 'exper', 'educ', 'positive relation']\n"
     ]
    }
   ],
   "source": [
    "spisok1=[]\n",
    "#Выводим топ-3 коррелированных пар признаков.\n",
    "for i in range(len(list_names)):\n",
    "    if i!=len(list_names)-1:\n",
    "        for k in range(i+1,len(list_names)):\n",
    "            spisok1.append([abs(np.correlate(beauty[list_names[i]],beauty[list_names[k]])[0]),list_names[i],\n",
    "                               list_names[k], 'positive relation' if \n",
    "                            np.correlate(beauty[list_names[i]],beauty[list_names[k]])[0]>0 else 'negative relation'])\n",
    "print('Топ-3 пары по коррелированности в порядке возрастания')\n",
    "for i in range(len(spisok1)-3,len(spisok1)):\n",
    "        print(sorted(spisok1)[i])"
   ]
  },
  {
   "cell_type": "code",
   "execution_count": 313,
   "metadata": {
    "collapsed": true
   },
   "outputs": [],
   "source": [
    "#Метод numpy.correlate вычисляет значение взаимнокорреляционной функции для двух последовательностей чисел. Как видим, наиболее\n",
    "#коррелированная пара исходя из этого метода - опыт работы и образование, причем поскольку связь положительная, получаем следующий вывод:\n",
    "#чем выше уровень образования работника, тем выше его опыт работы. Вторая и третья пары по степени коррелированности - зарплата и\n",
    "#опыт работы и зарплата и образование соответственно. Опять же, в силу положительной корреляции получаем следующие зависимости: чем \n",
    "#выше зарплата, тем больше опыт, и чем выше зарплата, тем выше уровень образования."
   ]
  },
  {
   "cell_type": "code",
   "execution_count": 314,
   "metadata": {
    "collapsed": false
   },
   "outputs": [
    {
     "name": "stdout",
     "output_type": "stream",
     "text": [
      "Топ-3 пары по коррелированности в порядке возрастания\n",
      "[0.30162847441178714, 'service', 'educ', 'positive relation']\n",
      "[0.31341944158697133, 'wage', 'female', 'negative relation']\n",
      "[0.31922793439835612, 'female', 'married', 'negative relation']\n"
     ]
    }
   ],
   "source": [
    "spisok2=[]\n",
    "#Выводим топ-3 коррелированных пар признаков.\n",
    "for i in range(len(list_names)):\n",
    "    if i!=len(list_names)-1:\n",
    "        for k in range(i+1,len(list_names)):\n",
    "            spisok2.append([abs(np.corrcoef(beauty[list_names[i]],beauty[list_names[k]])[1][0]),list_names[i],\n",
    "                               list_names[k], 'positive relation' if \n",
    "                        np.corrcoef(beauty[list_names[i]],beauty[list_names[k]])[1][0]>0 else 'negative relation'])\n",
    "print('Топ-3 пары по коррелированности в порядке возрастания')\n",
    "for i in range(len(spisok2)-3,len(spisok2)):\n",
    "        print(sorted(spisok2)[i])"
   ]
  },
  {
   "cell_type": "code",
   "execution_count": 322,
   "metadata": {
    "collapsed": false
   },
   "outputs": [],
   "source": [
    "#Метод np.corrcoef вычисляет коэффициент корреляции Пирсона для двух величин, т.е измеряет линейную зависимость между ними. \n",
    "#Исходя из результатов вычисления можно сделать следующие выводы: вероятность того, что случайно выбранный мужчина женат, выше, чем\n",
    "#вероятность того, что случайно выбранная женщина замужем, также у мужчин при прочих равных зарплаты выше, чем у женщин, и, наконец,\n",
    "#у работников, занятых в сфере обслуживания, при прочих равных уровень образования выше (измеряется количеством лет обучения), чем у \n",
    "#работников из других сфер."
   ]
  },
  {
   "cell_type": "code",
   "execution_count": 316,
   "metadata": {
    "collapsed": false
   },
   "outputs": [
    {
     "name": "stdout",
     "output_type": "stream",
     "text": [
      "Топ-3 пары по коррелированности в порядке возрастания\n",
      "[0.31922793439835601, 'female', 'married', 'negative relation']\n",
      "[0.36086106027985237, 'wage', 'exper', 'positive relation']\n",
      "[0.44884381779273641, 'wage', 'female', 'negative relation']\n"
     ]
    }
   ],
   "source": [
    "spisok3=[]\n",
    "#Выводим топ-3 коррелированных пар признаков.\n",
    "for i in range(len(list_names)):\n",
    "    if i!=len(list_names)-1:\n",
    "        for k in range(i+1,len(list_names)):\n",
    "            spisok3.append([abs(sp.stats.spearmanr(beauty[list_names[i]],beauty[list_names[k]])[0]),list_names[i],\n",
    "                               list_names[k], 'positive relation' if \n",
    "                        sp.stats.spearmanr(beauty[list_names[i]],beauty[list_names[k]])[0]>0 else 'negative relation'])\n",
    "print('Топ-3 пары по коррелированности в порядке возрастания')\n",
    "for i in range(len(spisok3)-3,len(spisok3)):\n",
    "        print(sorted(spisok3)[i])"
   ]
  },
  {
   "cell_type": "code",
   "execution_count": 317,
   "metadata": {
    "collapsed": true
   },
   "outputs": [],
   "source": [
    "#Метод sp.stats.spearmanr вычисляет коэффициент корреляции Спирмена для двух величин, т.е измеряет монотонную зависимость между \n",
    "#ними.Исходя из данного метода при прочих равных у женщин зарплата ниже, чем у мужчин. Также вероятность того, что случайно \n",
    "#выбранный мужчина женат, выше, чем вероятность того, что случайно выбранная женщина замужем. При этом,существует положительная \n",
    "#связь между уровнем зарплаты и опытом работы."
   ]
  },
  {
   "cell_type": "code",
   "execution_count": 321,
   "metadata": {
    "collapsed": false
   },
   "outputs": [
    {
     "name": "stdout",
     "output_type": "stream",
     "text": [
      "Топ-3 пары по коррелированности в порядке возрастания\n",
      "[0.30162847441178731, 'service', 'educ', 'positive relation']\n",
      "[0.31341944158697127, 'wage', 'female', 'negative relation']\n",
      "[0.31922793439835595, 'female', 'married', 'negative relation']\n"
     ]
    }
   ],
   "source": [
    "spisok4=[]\n",
    "#Выводим топ-3 коррелированных пар признаков.\n",
    "for i in range(len(list_names)):\n",
    "    if i!=len(list_names)-1:\n",
    "        for k in range(i+1,len(list_names)):\n",
    "            spisok4.append([abs(sp.stats.pearsonr(beauty[list_names[i]],beauty[list_names[k]])[0]),list_names[i],\n",
    "                               list_names[k], 'positive relation' if \n",
    "                    sp.stats.pearsonr(beauty[list_names[i]],beauty[list_names[k]])[0]>0 else 'negative relation'])\n",
    "print('Топ-3 пары по коррелированности в порядке возрастания')\n",
    "for i in range(len(spisok4)-3,len(spisok4)):\n",
    "        print(sorted(spisok4)[i])"
   ]
  },
  {
   "cell_type": "code",
   "execution_count": 319,
   "metadata": {
    "collapsed": true
   },
   "outputs": [],
   "source": [
    "#Метод sp.stats.pearsonr вычисляет коэффициент корреляции Пирсона для двух величин, т.е измеряет линейную зависимость между ними. \n",
    "#Исходя из результатов вычисления можно сделать следующие выводы: вероятность того, что случайно выбранный мужчина женат, выше, чем\n",
    "#вероятность того, что случайно выбранная женщина замужем, также у мужчин при прочих равных зарплаты выше, чем у женщин, и, наконец,\n",
    "#у работников, занятых в сфере обслуживания, при прочих равных уровень образования выше, чем у работников из других сфер."
   ]
  },
  {
   "cell_type": "code",
   "execution_count": 320,
   "metadata": {
    "collapsed": false
   },
   "outputs": [
    {
     "data": {
      "text/html": [
       "<div>\n",
       "<table border=\"1\" class=\"dataframe\">\n",
       "  <thead>\n",
       "    <tr style=\"text-align: right;\">\n",
       "      <th></th>\n",
       "      <th>wage</th>\n",
       "      <th>exper</th>\n",
       "      <th>union</th>\n",
       "      <th>goodhlth</th>\n",
       "      <th>black</th>\n",
       "      <th>female</th>\n",
       "      <th>married</th>\n",
       "      <th>service</th>\n",
       "      <th>educ</th>\n",
       "      <th>looks</th>\n",
       "    </tr>\n",
       "  </thead>\n",
       "  <tbody>\n",
       "    <tr>\n",
       "      <th>wage</th>\n",
       "      <td>1.000000</td>\n",
       "      <td>0.234632</td>\n",
       "      <td>0.094529</td>\n",
       "      <td>0.006756</td>\n",
       "      <td>-0.059052</td>\n",
       "      <td>-0.313419</td>\n",
       "      <td>0.184521</td>\n",
       "      <td>-0.053653</td>\n",
       "      <td>0.212333</td>\n",
       "      <td>0.055019</td>\n",
       "    </tr>\n",
       "    <tr>\n",
       "      <th>exper</th>\n",
       "      <td>0.234632</td>\n",
       "      <td>1.000000</td>\n",
       "      <td>0.089792</td>\n",
       "      <td>-0.131609</td>\n",
       "      <td>0.007566</td>\n",
       "      <td>-0.247209</td>\n",
       "      <td>0.255607</td>\n",
       "      <td>-0.057328</td>\n",
       "      <td>-0.186200</td>\n",
       "      <td>-0.155035</td>\n",
       "    </tr>\n",
       "    <tr>\n",
       "      <th>union</th>\n",
       "      <td>0.094529</td>\n",
       "      <td>0.089792</td>\n",
       "      <td>1.000000</td>\n",
       "      <td>-0.022398</td>\n",
       "      <td>0.031939</td>\n",
       "      <td>-0.100037</td>\n",
       "      <td>0.053629</td>\n",
       "      <td>-0.103633</td>\n",
       "      <td>-0.096022</td>\n",
       "      <td>-0.043495</td>\n",
       "    </tr>\n",
       "    <tr>\n",
       "      <th>goodhlth</th>\n",
       "      <td>0.006756</td>\n",
       "      <td>-0.131609</td>\n",
       "      <td>-0.022398</td>\n",
       "      <td>1.000000</td>\n",
       "      <td>-0.034073</td>\n",
       "      <td>-0.039684</td>\n",
       "      <td>-0.013315</td>\n",
       "      <td>0.049947</td>\n",
       "      <td>0.107129</td>\n",
       "      <td>0.058558</td>\n",
       "    </tr>\n",
       "    <tr>\n",
       "      <th>black</th>\n",
       "      <td>-0.059052</td>\n",
       "      <td>0.007566</td>\n",
       "      <td>0.031939</td>\n",
       "      <td>-0.034073</td>\n",
       "      <td>1.000000</td>\n",
       "      <td>0.113703</td>\n",
       "      <td>-0.133306</td>\n",
       "      <td>0.017261</td>\n",
       "      <td>-0.138157</td>\n",
       "      <td>0.012098</td>\n",
       "    </tr>\n",
       "    <tr>\n",
       "      <th>female</th>\n",
       "      <td>-0.313419</td>\n",
       "      <td>-0.247209</td>\n",
       "      <td>-0.100037</td>\n",
       "      <td>-0.039684</td>\n",
       "      <td>0.113703</td>\n",
       "      <td>1.000000</td>\n",
       "      <td>-0.319228</td>\n",
       "      <td>0.267961</td>\n",
       "      <td>0.009105</td>\n",
       "      <td>0.017129</td>\n",
       "    </tr>\n",
       "    <tr>\n",
       "      <th>married</th>\n",
       "      <td>0.184521</td>\n",
       "      <td>0.255607</td>\n",
       "      <td>0.053629</td>\n",
       "      <td>-0.013315</td>\n",
       "      <td>-0.133306</td>\n",
       "      <td>-0.319228</td>\n",
       "      <td>1.000000</td>\n",
       "      <td>-0.075082</td>\n",
       "      <td>-0.047674</td>\n",
       "      <td>-0.064636</td>\n",
       "    </tr>\n",
       "    <tr>\n",
       "      <th>service</th>\n",
       "      <td>-0.053653</td>\n",
       "      <td>-0.057328</td>\n",
       "      <td>-0.103633</td>\n",
       "      <td>0.049947</td>\n",
       "      <td>0.017261</td>\n",
       "      <td>0.267961</td>\n",
       "      <td>-0.075082</td>\n",
       "      <td>1.000000</td>\n",
       "      <td>0.301628</td>\n",
       "      <td>0.010213</td>\n",
       "    </tr>\n",
       "    <tr>\n",
       "      <th>educ</th>\n",
       "      <td>0.212333</td>\n",
       "      <td>-0.186200</td>\n",
       "      <td>-0.096022</td>\n",
       "      <td>0.107129</td>\n",
       "      <td>-0.138157</td>\n",
       "      <td>0.009105</td>\n",
       "      <td>-0.047674</td>\n",
       "      <td>0.301628</td>\n",
       "      <td>1.000000</td>\n",
       "      <td>0.153842</td>\n",
       "    </tr>\n",
       "    <tr>\n",
       "      <th>looks</th>\n",
       "      <td>0.055019</td>\n",
       "      <td>-0.155035</td>\n",
       "      <td>-0.043495</td>\n",
       "      <td>0.058558</td>\n",
       "      <td>0.012098</td>\n",
       "      <td>0.017129</td>\n",
       "      <td>-0.064636</td>\n",
       "      <td>0.010213</td>\n",
       "      <td>0.153842</td>\n",
       "      <td>1.000000</td>\n",
       "    </tr>\n",
       "  </tbody>\n",
       "</table>\n",
       "</div>"
      ],
      "text/plain": [
       "              wage     exper     union  goodhlth     black    female  \\\n",
       "wage      1.000000  0.234632  0.094529  0.006756 -0.059052 -0.313419   \n",
       "exper     0.234632  1.000000  0.089792 -0.131609  0.007566 -0.247209   \n",
       "union     0.094529  0.089792  1.000000 -0.022398  0.031939 -0.100037   \n",
       "goodhlth  0.006756 -0.131609 -0.022398  1.000000 -0.034073 -0.039684   \n",
       "black    -0.059052  0.007566  0.031939 -0.034073  1.000000  0.113703   \n",
       "female   -0.313419 -0.247209 -0.100037 -0.039684  0.113703  1.000000   \n",
       "married   0.184521  0.255607  0.053629 -0.013315 -0.133306 -0.319228   \n",
       "service  -0.053653 -0.057328 -0.103633  0.049947  0.017261  0.267961   \n",
       "educ      0.212333 -0.186200 -0.096022  0.107129 -0.138157  0.009105   \n",
       "looks     0.055019 -0.155035 -0.043495  0.058558  0.012098  0.017129   \n",
       "\n",
       "           married   service      educ     looks  \n",
       "wage      0.184521 -0.053653  0.212333  0.055019  \n",
       "exper     0.255607 -0.057328 -0.186200 -0.155035  \n",
       "union     0.053629 -0.103633 -0.096022 -0.043495  \n",
       "goodhlth -0.013315  0.049947  0.107129  0.058558  \n",
       "black    -0.133306  0.017261 -0.138157  0.012098  \n",
       "female   -0.319228  0.267961  0.009105  0.017129  \n",
       "married   1.000000 -0.075082 -0.047674 -0.064636  \n",
       "service  -0.075082  1.000000  0.301628  0.010213  \n",
       "educ     -0.047674  0.301628  1.000000  0.153842  \n",
       "looks    -0.064636  0.010213  0.153842  1.000000  "
      ]
     },
     "execution_count": 320,
     "metadata": {},
     "output_type": "execute_result"
    },
    {
     "data": {
      "image/png": "[encoded data removed]",
      "text/plain": [
       "<matplotlib.figure.Figure at 0x11672ce80>"
      ]
     },
     "metadata": {},
     "output_type": "display_data"
    }
   ],
   "source": [
    "#Создаем функцию, генерирующую корреляционную матрицу\n",
    "def plot_corr(df,size=10):\n",
    "    corr = df.corr()\n",
    "    fig, ax = plt.subplots(figsize=(size, size))\n",
    "    ax.matshow(corr)\n",
    "    plt.xticks(range(len(corr.columns)), corr.columns)\n",
    "    plt.yticks(range(len(corr.columns)), corr.columns)\n",
    "plot_corr(beauty,10)\n",
    "beauty.corr()"
   ]
  },
  {
   "cell_type": "code",
   "execution_count": 33,
   "metadata": {
    "collapsed": true
   },
   "outputs": [],
   "source": [
    "#Наиболее коррелированными (по методу pandas.DataFrame.corr) оказались пары(в порядке убывания абсолютной величины корреляции):\n",
    "#(married, female; корреляция = -0.319228), (wage, female; корреляция = -0.313419), (service, educ; корреляция = 0.301628).\n",
    "#Данные результаты интерпретируются следующим образом: вероятность того, что случайно выбранный мужчина женат, выше, чем\n",
    "#вероятность того, что случайно выбранная женщина замужем, у мужчин при прочих равных зарплаты выше, чем у женщин, и у работников, \n",
    "#занятых в сфере обслуживания, при прочих равных уровень образования выше, чем у работников из других сфер."
   ]
  },
  {
   "cell_type": "markdown",
   "metadata": {},
   "source": [
    "**Задание 2.** На семинаре мы рассмотрели различные распрелеления случайных величин (дискретные и непрерывные). \n",
    "\n",
    "Изобразите гистограммы каждого из признаков.<br/>\n",
    "Определите возможный закон распределения каждого из них и оцените его параметры. Если готовой функции в scipy.stats для распределения нет, то оцените эти параметры сами по методу максимального правдоподобия."
   ]
  },
  {
   "cell_type": "code",
   "execution_count": 323,
   "metadata": {
    "collapsed": false
   },
   "outputs": [],
   "source": [
    "#Создаем отрезки для гистограммы\n",
    "bins_wage = np.linspace(min(beauty['wage']), max(beauty['wage']),15)\n",
    "bins_exper = np.linspace(min(beauty['exper']), max(beauty['exper']),10)\n",
    "bins_union = np.linspace(min(beauty['union']), max(beauty['union']),3)\n",
    "bins_goodhlth = np.linspace(min(beauty['goodhlth']), max(beauty['goodhlth']),3)\n",
    "bins_black = np.linspace(min(beauty['black']), max(beauty['black']),3)\n",
    "bins_female = np.linspace(min(beauty['female']), max(beauty['female']),3)\n",
    "bins_married = np.linspace(min(beauty['married']), max(beauty['married']),3)\n",
    "bins_service = np.linspace(min(beauty['service']), max(beauty['service']),3)\n",
    "bins_educ = np.linspace(min(beauty['educ']), max(beauty['educ']),17)\n",
    "bins_looks = np.linspace(min(beauty['looks']), max(beauty['looks']),5)"
   ]
  },
  {
   "cell_type": "code",
   "execution_count": 324,
   "metadata": {
    "collapsed": false
   },
   "outputs": [
    {
     "name": "stdout",
     "output_type": "stream",
     "text": [
      "Закон распределения зарплаты - Нормальное распределение\n",
      "Параметр x_m: 0.610361284169\n",
      "Параметр k: 1.01923443289\n"
     ]
    },
    {
     "data": {
      "image/png": "[encoded data removed]",
      "text/plain": [
       "<matplotlib.figure.Figure at 0x1166ca940>"
      ]
     },
     "metadata": {},
     "output_type": "display_data"
    }
   ],
   "source": [
    "#Создаем гистограмму\n",
    "fig = plt.figure(figsize=(12, 5))\n",
    "\n",
    "ax = fig.add_subplot(121)\n",
    "\n",
    "plt.hist(beauty['wage'], bins_wage, alpha=0.8, normed=1, label='Wage')\n",
    "ax.set_xlabel('Quantiles')\n",
    "ax.set_ylabel('Distribution of wages')\n",
    "ax.legend(fancybox=True, loc='upper right')\n",
    "#Вычисляем параметры распределения\n",
    "print('Закон распределения зарплаты - Нормальное распределение')\n",
    "print('Параметр x_m:',sp.stats.pareto.fit(beauty['wage'])[0])\n",
    "print('Параметр k:',sp.stats.pareto.fit(beauty['wage'])[2])"
   ]
  },
  {
   "cell_type": "code",
   "execution_count": 325,
   "metadata": {
    "collapsed": false
   },
   "outputs": [
    {
     "name": "stdout",
     "output_type": "stream",
     "text": [
      "Закон распределения опыта - Логнормальное распределение\n",
      "Параметр mu: 0.510244712139\n",
      "Параметр sigma: 0.00168804484164\n"
     ]
    },
    {
     "data": {
      "image/png": "[encoded data removed]",
      "text/plain": [
       "<matplotlib.figure.Figure at 0x1166a3b70>"
      ]
     },
     "metadata": {},
     "output_type": "display_data"
    }
   ],
   "source": [
    "#Создаем гистограмму\n",
    "fig = plt.figure(figsize=(12, 5))\n",
    "\n",
    "ax = fig.add_subplot(121)\n",
    "\n",
    "plt.hist(beauty['exper'], bins_exper, alpha=0.8, normed=1, label='Experience')\n",
    "ax.set_xlabel('Quantiles')\n",
    "ax.set_ylabel('Distribution of working experience')\n",
    "ax.legend(fancybox=True, loc='upper right')\n",
    "#Вычисляем параметры распределения\n",
    "print('Закон распределения опыта - Логнормальное распределение')\n",
    "print('Параметр mu:',sp.stats.lognorm.fit(beauty['exper'])[0])\n",
    "print('Параметр sigma:',np.exp(sp.stats.lognorm.fit(beauty['exper'])[1]))"
   ]
  },
  {
   "cell_type": "code",
   "execution_count": 326,
   "metadata": {
    "collapsed": false
   },
   "outputs": [
    {
     "name": "stdout",
     "output_type": "stream",
     "text": [
      "Закон распределения бинарной величины union(1, если опрошенный входит в профсоюз, 0 - иначе) - распределение Бернулли\n",
      "Вероятность успеха (выпадения 1): 0.2722222222222222\n"
     ]
    },
    {
     "data": {
      "image/png": "[encoded data removed]",
      "text/plain": [
       "<matplotlib.figure.Figure at 0x1166cada0>"
      ]
     },
     "metadata": {},
     "output_type": "display_data"
    }
   ],
   "source": [
    "#Создаем гистограмму\n",
    "fig = plt.figure(figsize=(12, 5))\n",
    "\n",
    "ax = fig.add_subplot(121)\n",
    "\n",
    "plt.hist(beauty['union'], bins_union, alpha=0.8, normed=1, label='Union')\n",
    "ax.set_xlabel('Quantiles')\n",
    "ax.set_ylabel('Distribution of union')\n",
    "ax.legend(fancybox=True, loc='upper right')\n",
    "#Вычисляем параметры распределения\n",
    "print('Закон распределения бинарной величины union(1, если опрошенный входит в профсоюз, 0 - иначе) - распределение Бернулли')\n",
    "print('Вероятность успеха (выпадения 1):',pd.DataFrame.sum(beauty['union'])/len(beauty['union']))"
   ]
  },
  {
   "cell_type": "code",
   "execution_count": 327,
   "metadata": {
    "collapsed": false
   },
   "outputs": [
    {
     "name": "stdout",
     "output_type": "stream",
     "text": [
      "Закон распределения бинарной величины goodhealth(1, если у опрошенного хорошее здоровье, 0 - иначе) - распределение Бернулли\n",
      "Вероятность успеха (выпадения 1): 0.9333333333333333\n"
     ]
    },
    {
     "data": {
      "image/png": "[encoded data removed]",
      "text/plain": [
       "<matplotlib.figure.Figure at 0x1166c0128>"
      ]
     },
     "metadata": {},
     "output_type": "display_data"
    }
   ],
   "source": [
    "#Создаем гистограмму\n",
    "fig = plt.figure(figsize=(12, 5))\n",
    "\n",
    "ax = fig.add_subplot(121)\n",
    "\n",
    "plt.hist(beauty['goodhlth'], bins_goodhlth, alpha=0.8, normed=1, label='Good health')\n",
    "ax.set_xlabel('Quantiles')\n",
    "ax.set_ylabel('Distribution of good health')\n",
    "ax.legend(fancybox=True, loc='upper left')\n",
    "#Вычисляем параметры распределения\n",
    "print('Закон распределения бинарной величины goodhealth(1, если у опрошенного хорошее здоровье, 0 - иначе) - распределение Бернулли')\n",
    "print('Вероятность успеха (выпадения 1):',pd.DataFrame.sum(beauty['goodhlth'])/len(beauty['goodhlth']))"
   ]
  },
  {
   "cell_type": "code",
   "execution_count": 328,
   "metadata": {
    "collapsed": false
   },
   "outputs": [
    {
     "name": "stdout",
     "output_type": "stream",
     "text": [
      "Закон распределения бинарной величины black(1, если опрошенный-темнокожий, 0 - иначе) - распределение Бернулли\n",
      "Вероятность успеха (выпадения 1): 0.07380952380952381\n"
     ]
    },
    {
     "data": {
      "image/png": "[encoded data removed]",
      "text/plain": [
       "<matplotlib.figure.Figure at 0x116663b38>"
      ]
     },
     "metadata": {},
     "output_type": "display_data"
    }
   ],
   "source": [
    "#Создаем гистограмму\n",
    "fig = plt.figure(figsize=(12, 5))\n",
    "\n",
    "ax = fig.add_subplot(121)\n",
    "\n",
    "plt.hist(beauty['black'], bins_black, alpha=0.8, normed=1, label='Black')\n",
    "ax.set_xlabel('Quantiles')\n",
    "ax.set_ylabel('Distribution of black')\n",
    "ax.legend(fancybox=True, loc='upper right')\n",
    "#Вычисляем параметры распределения\n",
    "print('Закон распределения бинарной величины black(1, если опрошенный-темнокожий, 0 - иначе) - распределение Бернулли')\n",
    "print('Вероятность успеха (выпадения 1):',pd.DataFrame.sum(beauty['black'])/len(beauty['black']))"
   ]
  },
  {
   "cell_type": "code",
   "execution_count": 329,
   "metadata": {
    "collapsed": false
   },
   "outputs": [
    {
     "name": "stdout",
     "output_type": "stream",
     "text": [
      "Закон распределения бинарной величины female(1, если женщина, 0 - мужчина) - распределение Бернулли\n",
      "Вероятность успеха (выпадения 1): 0.346031746031746\n"
     ]
    },
    {
     "data": {
      "image/png": "[encoded data removed]",
      "text/plain": [
       "<matplotlib.figure.Figure at 0x116620518>"
      ]
     },
     "metadata": {},
     "output_type": "display_data"
    }
   ],
   "source": [
    "#Создаем гистограмму\n",
    "fig = plt.figure(figsize=(12, 5))\n",
    "\n",
    "ax = fig.add_subplot(121)\n",
    "plt.hist(beauty['female'], bins_female, alpha=0.8, normed=1, label='Female')\n",
    "ax.set_xlabel('Quantiles')\n",
    "ax.set_ylabel('Distribution of female')\n",
    "ax.legend(fancybox=True, loc='upper right')\n",
    "#Вычисляем параметры распределения\n",
    "print('Закон распределения бинарной величины female(1, если женщина, 0 - мужчина) - распределение Бернулли')\n",
    "print('Вероятность успеха (выпадения 1):',pd.DataFrame.sum(beauty['female'])/len(beauty['female']))"
   ]
  },
  {
   "cell_type": "code",
   "execution_count": 330,
   "metadata": {
    "collapsed": false
   },
   "outputs": [
    {
     "name": "stdout",
     "output_type": "stream",
     "text": [
      "Закон распределения бинарной величины married(1, если опрошенный состоит в браке, 0 - иначе) - распределение Бернулли\n",
      "Вероятность успеха (выпадения 1): 0.6912698412698413\n"
     ]
    },
    {
     "data": {
      "image/png": "[encoded data removed]",
      "text/plain": [
       "<matplotlib.figure.Figure at 0x10ee84f98>"
      ]
     },
     "metadata": {},
     "output_type": "display_data"
    }
   ],
   "source": [
    "#Создаем гистограмму\n",
    "fig = plt.figure(figsize=(12, 5))\n",
    "\n",
    "ax = fig.add_subplot(121)\n",
    "\n",
    "plt.hist(beauty['married'], bins_married, alpha=0.8, normed=1, label='Married')\n",
    "ax.set_xlabel('Quantiles')\n",
    "ax.set_ylabel('Distribution of married')\n",
    "ax.legend(fancybox=True, loc='upper left')\n",
    "#Вычисляем параметры распределения\n",
    "print('Закон распределения бинарной величины married(1, если опрошенный состоит в браке, 0 - иначе) - распределение Бернулли')\n",
    "print('Вероятность успеха (выпадения 1):',pd.DataFrame.sum(beauty['married'])/len(beauty['married']))"
   ]
  },
  {
   "cell_type": "code",
   "execution_count": 331,
   "metadata": {
    "collapsed": false
   },
   "outputs": [
    {
     "name": "stdout",
     "output_type": "stream",
     "text": [
      "Закон распределения бинарной величины service(1, если опрошенный занят в сфере услуг, 0 - иначе) - распределение Бернулли\n",
      "Вероятность успеха (выпадения 1): 0.27380952380952384\n"
     ]
    },
    {
     "data": {
      "image/png": "[encoded data removed]",
      "text/plain": [
       "<matplotlib.figure.Figure at 0x10f1cba90>"
      ]
     },
     "metadata": {},
     "output_type": "display_data"
    }
   ],
   "source": [
    "#Создаем гистограмму\n",
    "fig = plt.figure(figsize=(12, 5))\n",
    "\n",
    "ax = fig.add_subplot(121)\n",
    "\n",
    "plt.hist(beauty['service'], bins_service, alpha=0.8, normed=1, label='Service')\n",
    "ax.set_xlabel('Quantiles')\n",
    "ax.set_ylabel('Distribution of employment in service sphere')\n",
    "ax.legend(fancybox=True, loc='upper right')\n",
    "#Вычисляем параметры распределения\n",
    "print('Закон распределения бинарной величины service(1, если опрошенный занят в сфере услуг, 0 - иначе) - распределение Бернулли')\n",
    "print('Вероятность успеха (выпадения 1):',pd.DataFrame.sum(beauty['service'])/len(beauty['service']))"
   ]
  },
  {
   "cell_type": "code",
   "execution_count": 332,
   "metadata": {
    "collapsed": false
   },
   "outputs": [
    {
     "name": "stdout",
     "output_type": "stream",
     "text": [
      "Закон распределения бинарной уровня образования (по количеству лет обучения) - нормальное распределение\n",
      "Мат. ожидание: 12.5634920635\n",
      "Стандартное отклонение: 2.62344748268\n"
     ]
    },
    {
     "data": {
      "image/png": "[encoded data removed]",
      "text/plain": [
       "<matplotlib.figure.Figure at 0x10edefc88>"
      ]
     },
     "metadata": {},
     "output_type": "display_data"
    }
   ],
   "source": [
    "#Создаем гистограмму\n",
    "fig = plt.figure(figsize=(12, 5))\n",
    "\n",
    "ax = fig.add_subplot(121)\n",
    "\n",
    "plt.hist(beauty['educ'], bins_educ, alpha=0.8, normed=1, label='Education')\n",
    "ax.set_xlabel('Quantiles')\n",
    "ax.set_ylabel('Distribution of years of education')\n",
    "ax.legend(fancybox=True, loc='upper left')\n",
    "#Вычисляем параметры распределения\n",
    "print('Закон распределения бинарной уровня образования (по количеству лет обучения) - нормальное распределение')\n",
    "print('Мат. ожидание:',sp.stats.norm.fit(beauty['educ'])[0])\n",
    "print('Стандартное отклонение:',sp.stats.norm.fit(beauty['educ'])[1])"
   ]
  },
  {
   "cell_type": "code",
   "execution_count": 333,
   "metadata": {
    "collapsed": false
   },
   "outputs": [
    {
     "name": "stdout",
     "output_type": "stream",
     "text": [
      "Закон распределения бинарной внешней привлекательности(по шкале от 1 до 5) - нормальное распределение\n",
      "Мат. ожидание: 3.18571428571\n",
      "Стандартное отклонение: 0.684605585178\n"
     ]
    },
    {
     "data": {
      "image/png": "[encoded data removed]",
      "text/plain": [
       "<matplotlib.figure.Figure at 0x107f33898>"
      ]
     },
     "metadata": {},
     "output_type": "display_data"
    }
   ],
   "source": [
    "#Создаем гистограмму\n",
    "fig = plt.figure(figsize=(12, 5))\n",
    "\n",
    "ax = fig.add_subplot(121)\n",
    "\n",
    "plt.hist(beauty['looks'], bins_looks, alpha=0.8, normed=1, label='Looks')\n",
    "ax.set_xlabel('Quantiles')\n",
    "ax.set_ylabel('Distribution of looks')\n",
    "ax.legend(fancybox=True, loc='upper left')\n",
    "#Вычисляем параметры распределения\n",
    "print('Закон распределения бинарной внешней привлекательности(по шкале от 1 до 5) - нормальное распределение')\n",
    "print('Мат. ожидание:',sp.stats.norm.fit(beauty['looks'])[0])\n",
    "print('Стандартное отклонение:',sp.stats.norm.fit(beauty['looks'])[1])"
   ]
  },
  {
   "cell_type": "markdown",
   "metadata": {},
   "source": [
    "## 3. Метод наивного Байеса"
   ]
  },
  {
   "cell_type": "markdown",
   "metadata": {},
   "source": [
    "Пояснения по выполнению этого задания будут рассказаны на семинаре 1 марта"
   ]
  },
  {
   "cell_type": "markdown",
   "metadata": {},
   "source": [
    "Обучение методом наивного Байеса основывается на достаточно сильном предположении, что все признаки попарно независимы. По формуле Байеса $$P(y|x_1,\\dots,x_n)=\\frac{P(y)P(x_1,\\dots,x_n|y)}{P(x_1,\\dots,x_n)}.$$ В предположении, что признаки независимы получаем, что $$P(y|x_1,\\dots,x_n)=\\frac{P(y)\\prod_{i=1}^n P(x_i|y)}{P(x_1,\\dots,x_n)}$$\n",
    "Т.к. $$P(x_1,\\dots,x_n)$$ задается условиями задачи, принцип максимального правдоподобия для наивного Байеса запишется следующим образом: $$\\hat y = \\arg\\max_y P(y)\\prod_{i=1}^n P(x_i|y).$$\n",
    "\n",
    "\n",
    "Библиотека `sklearn` поддерживает несколько реализаций наивного Байеса: `sklearn.naive_bayes.GaussianNB`, `sklearn.naive_bayes.MultinomialNB` и др."
   ]
  },
  {
   "cell_type": "code",
   "execution_count": 242,
   "metadata": {
    "collapsed": true
   },
   "outputs": [],
   "source": [
    "from sklearn.cross_validation import train_test_split\n",
    "from sklearn.datasets import fetch_20newsgroups\n",
    "from sklearn.naive_bayes import MultinomialNB\n",
    "from sklearn.feature_extraction.text import CountVectorizer"
   ]
  },
  {
   "cell_type": "markdown",
   "metadata": {},
   "source": [
    "**Задание 1.** Выберите 2 категории новостных сообщений из `20newsgroups`. Случайным образом, в пропорции 70/30, разделите наборы текстов на обучающую и контрольную выборки. В результате выполнения данного задания у вас должно получится 5 переменных: `text_all`, `text_train`, `text_test`, `y_train`, `y_test`."
   ]
  },
  {
   "cell_type": "code",
   "execution_count": 243,
   "metadata": {
    "collapsed": false
   },
   "outputs": [
    {
     "data": {
      "text/plain": [
       "['alt.atheism',\n",
       " 'comp.graphics',\n",
       " 'comp.os.ms-windows.misc',\n",
       " 'comp.sys.ibm.pc.hardware',\n",
       " 'comp.sys.mac.hardware',\n",
       " 'comp.windows.x',\n",
       " 'misc.forsale',\n",
       " 'rec.autos',\n",
       " 'rec.motorcycles',\n",
       " 'rec.sport.baseball',\n",
       " 'rec.sport.hockey',\n",
       " 'sci.crypt',\n",
       " 'sci.electronics',\n",
       " 'sci.med',\n",
       " 'sci.space',\n",
       " 'soc.religion.christian',\n",
       " 'talk.politics.guns',\n",
       " 'talk.politics.mideast',\n",
       " 'talk.politics.misc',\n",
       " 'talk.religion.misc']"
      ]
     },
     "execution_count": 243,
     "metadata": {},
     "output_type": "execute_result"
    }
   ],
   "source": [
    "# Список новостных заголовков\n",
    "['alt.atheism',\n",
    " 'comp.graphics',\n",
    " 'comp.os.ms-windows.misc',\n",
    " 'comp.sys.ibm.pc.hardware',\n",
    " 'comp.sys.mac.hardware',\n",
    " 'comp.windows.x',\n",
    " 'misc.forsale',\n",
    " 'rec.autos',\n",
    " 'rec.motorcycles',\n",
    " 'rec.sport.baseball',\n",
    " 'rec.sport.hockey',\n",
    " 'sci.crypt',\n",
    " 'sci.electronics',\n",
    " 'sci.med',\n",
    " 'sci.space',\n",
    " 'soc.religion.christian',\n",
    " 'talk.politics.guns',\n",
    " 'talk.politics.mideast',\n",
    " 'talk.politics.misc',\n",
    " 'talk.religion.misc']"
   ]
  },
  {
   "cell_type": "code",
   "execution_count": 244,
   "metadata": {
    "collapsed": false
   },
   "outputs": [],
   "source": [
    "categories = ['sci.med','rec.sport.hockey' ]\n",
    "#Загружаем в датасет нужные нам категории.\n",
    "news = fetch_20newsgroups(subset='all', categories=categories, shuffle=True, random_state=42)\n",
    "text_all = news.data\n",
    "text_train, text_test, y_train, y_test = train_test_split(news.data, news.target, test_size=0.3, random_state=42)"
   ]
  },
  {
   "cell_type": "markdown",
   "metadata": {},
   "source": [
    "**Задание 2.** На переменной `text` постройте конвертер из текстов в частотную матрицу с помощью метода `CountVectorizer(analyzer='word', stop_words='english', lowercase=True)`, а затем используйте его на выборках `train` и `test`. В результате вы должны получить 2 матрицы: `X_train` и `X_test`."
   ]
  },
  {
   "cell_type": "code",
   "execution_count": 245,
   "metadata": {
    "collapsed": false
   },
   "outputs": [
    {
     "name": "stdout",
     "output_type": "stream",
     "text": [
      "[[ 0  0  0 ...,  0  0  0]\n",
      " [ 0  0  0 ...,  0  0  0]\n",
      " [ 0  0  0 ...,  0  0  0]\n",
      " ..., \n",
      " [ 4 12  0 ...,  0  0  0]\n",
      " [ 0  0  0 ...,  0  0  0]\n",
      " [ 0  0  0 ...,  0  0  0]] Размерность матрицы:  (597, 30726)\n",
      "[[0 0 0 ..., 0 0 0]\n",
      " [0 0 0 ..., 0 0 0]\n",
      " [0 0 0 ..., 0 0 0]\n",
      " ..., \n",
      " [1 0 0 ..., 0 0 0]\n",
      " [0 0 0 ..., 0 0 0]\n",
      " [0 0 0 ..., 0 0 0]] Размерность матрицы:  (1392, 30726)\n"
     ]
    }
   ],
   "source": [
    "#Создаем конвертер из текстов в частотную матрицу.\n",
    "count_vect = CountVectorizer(analyzer='word', stop_words='english', lowercase=True)\n",
    "count_vect.fit(text_all)\n",
    "#Создаем частотную матрицу для выборок train и test, в которой элемент a[i,j] равен количеству появлений j-ого слова в i-ом тексте.\n",
    "X_train = count_vect.transform(text_train).toarray()\n",
    "X_test = count_vect.transform(text_test).toarray()\n",
    "print(X_test, 'Размерность матрицы: ',X_test.shape)\n",
    "print(X_train,'Размерность матрицы: ',X_train.shape)"
   ]
  },
  {
   "cell_type": "markdown",
   "metadata": {},
   "source": [
    "**Задание 3.** По матрице `X_train` найдите 50 самых частотных слов. Соответствия столбцов и слов можно понять по методу `CountVectorizer.get_feature_names()`."
   ]
  },
  {
   "cell_type": "code",
   "execution_count": 114,
   "metadata": {
    "collapsed": false
   },
   "outputs": [
    {
     "data": {
      "text/html": [
       "<div>\n",
       "<table border=\"1\" class=\"dataframe\">\n",
       "  <thead>\n",
       "    <tr style=\"text-align: right;\">\n",
       "      <th></th>\n",
       "      <th>Количество вхождений слова в тексты</th>\n",
       "      <th>Слово</th>\n",
       "    </tr>\n",
       "  </thead>\n",
       "  <tbody>\n",
       "    <tr>\n",
       "      <th>11101</th>\n",
       "      <td>2695</td>\n",
       "      <td>edu</td>\n",
       "    </tr>\n",
       "    <tr>\n",
       "      <th>26853</th>\n",
       "      <td>1465</td>\n",
       "      <td>subject</td>\n",
       "    </tr>\n",
       "    <tr>\n",
       "      <th>20713</th>\n",
       "      <td>1414</td>\n",
       "      <td>organization</td>\n",
       "    </tr>\n",
       "    <tr>\n",
       "      <th>17509</th>\n",
       "      <td>1403</td>\n",
       "      <td>lines</td>\n",
       "    </tr>\n",
       "    <tr>\n",
       "      <th>8347</th>\n",
       "      <td>1224</td>\n",
       "      <td>com</td>\n",
       "    </tr>\n",
       "    <tr>\n",
       "      <th>30391</th>\n",
       "      <td>956</td>\n",
       "      <td>writes</td>\n",
       "    </tr>\n",
       "    <tr>\n",
       "      <th>5071</th>\n",
       "      <td>918</td>\n",
       "      <td>article</td>\n",
       "    </tr>\n",
       "    <tr>\n",
       "      <th>7076</th>\n",
       "      <td>877</td>\n",
       "      <td>ca</td>\n",
       "    </tr>\n",
       "    <tr>\n",
       "      <th>28972</th>\n",
       "      <td>814</td>\n",
       "      <td>university</td>\n",
       "    </tr>\n",
       "    <tr>\n",
       "      <th>13099</th>\n",
       "      <td>803</td>\n",
       "      <td>game</td>\n",
       "    </tr>\n",
       "    <tr>\n",
       "      <th>10626</th>\n",
       "      <td>749</td>\n",
       "      <td>don</td>\n",
       "    </tr>\n",
       "    <tr>\n",
       "      <th>27554</th>\n",
       "      <td>685</td>\n",
       "      <td>team</td>\n",
       "    </tr>\n",
       "    <tr>\n",
       "      <th>22195</th>\n",
       "      <td>641</td>\n",
       "      <td>posting</td>\n",
       "    </tr>\n",
       "    <tr>\n",
       "      <th>1868</th>\n",
       "      <td>623</td>\n",
       "      <td>25</td>\n",
       "    </tr>\n",
       "    <tr>\n",
       "      <th>17457</th>\n",
       "      <td>614</td>\n",
       "      <td>like</td>\n",
       "    </tr>\n",
       "    <tr>\n",
       "      <th>16359</th>\n",
       "      <td>608</td>\n",
       "      <td>just</td>\n",
       "    </tr>\n",
       "    <tr>\n",
       "      <th>14679</th>\n",
       "      <td>596</td>\n",
       "      <td>host</td>\n",
       "    </tr>\n",
       "    <tr>\n",
       "      <th>16768</th>\n",
       "      <td>593</td>\n",
       "      <td>know</td>\n",
       "    </tr>\n",
       "    <tr>\n",
       "      <th>20057</th>\n",
       "      <td>588</td>\n",
       "      <td>nntp</td>\n",
       "    </tr>\n",
       "    <tr>\n",
       "      <th>27848</th>\n",
       "      <td>572</td>\n",
       "      <td>think</td>\n",
       "    </tr>\n",
       "    <tr>\n",
       "      <th>234</th>\n",
       "      <td>559</td>\n",
       "      <td>10</td>\n",
       "    </tr>\n",
       "    <tr>\n",
       "      <th>14523</th>\n",
       "      <td>557</td>\n",
       "      <td>hockey</td>\n",
       "    </tr>\n",
       "    <tr>\n",
       "      <th>9258</th>\n",
       "      <td>535</td>\n",
       "      <td>cs</td>\n",
       "    </tr>\n",
       "    <tr>\n",
       "      <th>21459</th>\n",
       "      <td>512</td>\n",
       "      <td>people</td>\n",
       "    </tr>\n",
       "    <tr>\n",
       "      <th>27993</th>\n",
       "      <td>496</td>\n",
       "      <td>time</td>\n",
       "    </tr>\n",
       "    <tr>\n",
       "      <th>13537</th>\n",
       "      <td>494</td>\n",
       "      <td>good</td>\n",
       "    </tr>\n",
       "    <tr>\n",
       "      <th>19874</th>\n",
       "      <td>444</td>\n",
       "      <td>new</td>\n",
       "    </tr>\n",
       "    <tr>\n",
       "      <th>30549</th>\n",
       "      <td>432</td>\n",
       "      <td>year</td>\n",
       "    </tr>\n",
       "    <tr>\n",
       "      <th>21940</th>\n",
       "      <td>412</td>\n",
       "      <td>play</td>\n",
       "    </tr>\n",
       "    <tr>\n",
       "      <th>13102</th>\n",
       "      <td>381</td>\n",
       "      <td>games</td>\n",
       "    </tr>\n",
       "    <tr>\n",
       "      <th>10585</th>\n",
       "      <td>376</td>\n",
       "      <td>does</td>\n",
       "    </tr>\n",
       "    <tr>\n",
       "      <th>21851</th>\n",
       "      <td>372</td>\n",
       "      <td>pitt</td>\n",
       "    </tr>\n",
       "    <tr>\n",
       "      <th>400</th>\n",
       "      <td>372</td>\n",
       "      <td>11</td>\n",
       "    </tr>\n",
       "    <tr>\n",
       "      <th>551</th>\n",
       "      <td>371</td>\n",
       "      <td>12</td>\n",
       "    </tr>\n",
       "    <tr>\n",
       "      <th>18568</th>\n",
       "      <td>371</td>\n",
       "      <td>medical</td>\n",
       "    </tr>\n",
       "    <tr>\n",
       "      <th>2653</th>\n",
       "      <td>359</td>\n",
       "      <td>55</td>\n",
       "    </tr>\n",
       "    <tr>\n",
       "      <th>1570</th>\n",
       "      <td>353</td>\n",
       "      <td>20</td>\n",
       "    </tr>\n",
       "    <tr>\n",
       "      <th>923</th>\n",
       "      <td>337</td>\n",
       "      <td>15</td>\n",
       "    </tr>\n",
       "    <tr>\n",
       "      <th>25046</th>\n",
       "      <td>333</td>\n",
       "      <td>season</td>\n",
       "    </tr>\n",
       "    <tr>\n",
       "      <th>29901</th>\n",
       "      <td>328</td>\n",
       "      <td>way</td>\n",
       "    </tr>\n",
       "    <tr>\n",
       "      <th>19926</th>\n",
       "      <td>326</td>\n",
       "      <td>nhl</td>\n",
       "    </tr>\n",
       "    <tr>\n",
       "      <th>29145</th>\n",
       "      <td>313</td>\n",
       "      <td>use</td>\n",
       "    </tr>\n",
       "    <tr>\n",
       "      <th>23774</th>\n",
       "      <td>312</td>\n",
       "      <td>reply</td>\n",
       "    </tr>\n",
       "    <tr>\n",
       "      <th>21859</th>\n",
       "      <td>310</td>\n",
       "      <td>pittsburgh</td>\n",
       "    </tr>\n",
       "    <tr>\n",
       "      <th>30551</th>\n",
       "      <td>310</td>\n",
       "      <td>years</td>\n",
       "    </tr>\n",
       "    <tr>\n",
       "      <th>23303</th>\n",
       "      <td>306</td>\n",
       "      <td>really</td>\n",
       "    </tr>\n",
       "    <tr>\n",
       "      <th>14198</th>\n",
       "      <td>303</td>\n",
       "      <td>health</td>\n",
       "    </tr>\n",
       "    <tr>\n",
       "      <th>3363</th>\n",
       "      <td>296</td>\n",
       "      <td>92</td>\n",
       "    </tr>\n",
       "    <tr>\n",
       "      <th>10167</th>\n",
       "      <td>294</td>\n",
       "      <td>did</td>\n",
       "    </tr>\n",
       "    <tr>\n",
       "      <th>7216</th>\n",
       "      <td>288</td>\n",
       "      <td>cancer</td>\n",
       "    </tr>\n",
       "  </tbody>\n",
       "</table>\n",
       "</div>"
      ],
      "text/plain": [
       "       Количество вхождений слова в тексты         Слово\n",
       "11101                                 2695           edu\n",
       "26853                                 1465       subject\n",
       "20713                                 1414  organization\n",
       "17509                                 1403         lines\n",
       "8347                                  1224           com\n",
       "30391                                  956        writes\n",
       "5071                                   918       article\n",
       "7076                                   877            ca\n",
       "28972                                  814    university\n",
       "13099                                  803          game\n",
       "10626                                  749           don\n",
       "27554                                  685          team\n",
       "22195                                  641       posting\n",
       "1868                                   623            25\n",
       "17457                                  614          like\n",
       "16359                                  608          just\n",
       "14679                                  596          host\n",
       "16768                                  593          know\n",
       "20057                                  588          nntp\n",
       "27848                                  572         think\n",
       "234                                    559            10\n",
       "14523                                  557        hockey\n",
       "9258                                   535            cs\n",
       "21459                                  512        people\n",
       "27993                                  496          time\n",
       "13537                                  494          good\n",
       "19874                                  444           new\n",
       "30549                                  432          year\n",
       "21940                                  412          play\n",
       "13102                                  381         games\n",
       "10585                                  376          does\n",
       "21851                                  372          pitt\n",
       "400                                    372            11\n",
       "551                                    371            12\n",
       "18568                                  371       medical\n",
       "2653                                   359            55\n",
       "1570                                   353            20\n",
       "923                                    337            15\n",
       "25046                                  333        season\n",
       "29901                                  328           way\n",
       "19926                                  326           nhl\n",
       "29145                                  313           use\n",
       "23774                                  312         reply\n",
       "21859                                  310    pittsburgh\n",
       "30551                                  310         years\n",
       "23303                                  306        really\n",
       "14198                                  303        health\n",
       "3363                                   296            92\n",
       "10167                                  294           did\n",
       "7216                                   288        cancer"
      ]
     },
     "execution_count": 114,
     "metadata": {},
     "output_type": "execute_result"
    }
   ],
   "source": [
    "occurence_data = pd.DataFrame({'Количество вхождений слова в тексты':np.sum(X_train, axis=0),\n",
    "                               'Слово':count_vect.get_feature_names()})\n",
    "top_50_words = occurence_data.sort_values(['Количество вхождений слова в тексты'], ascending = False)[:50]\n",
    "top_50_words"
   ]
  },
  {
   "cell_type": "markdown",
   "metadata": {},
   "source": [
    "**Задание 4.** Обучите наивный байесовский классификатор MultinomialNB с параметром слгаживания `alpha=1` на выборке train. Примените его к данным из тестовой выборке и оцените точность совпадения меток."
   ]
  },
  {
   "cell_type": "code",
   "execution_count": 263,
   "metadata": {
    "collapsed": false
   },
   "outputs": [
    {
     "name": "stdout",
     "output_type": "stream",
     "text": [
      "Точность совпадения меток =  0.994974874372\n",
      "Вероятности: [[  1.00000000e+000   3.77990659e-036]\n",
      " [  4.57317522e-035   1.00000000e+000]\n",
      " [  1.00000000e+000   4.87211937e-020]\n",
      " ..., \n",
      " [  1.00000000e+000   0.00000000e+000]\n",
      " [  1.91367191e-025   1.00000000e+000]\n",
      " [  4.05037356e-138   1.00000000e+000]]\n"
     ]
    }
   ],
   "source": [
    "clf1 = MultinomialNB(alpha = 1).fit(X_train, y_train)\n",
    "prediction1 = clf1.predict(X_test)\n",
    "probabilities1 = clf1.predict_proba(X_test)\n",
    "print('Точность совпадения меток = ', np.mean(prediction1 == y_test)) \n",
    "print('Вероятности:', probabilities1)"
   ]
  },
  {
   "cell_type": "markdown",
   "metadata": {},
   "source": [
    "**Задание 5.** Обучите наивный байесовский классификатор MultinomialNB с параметром слгаживания `alpha=0` на выборке train. Примените его к данным из тестовой выборки и оцените точность совпадения меток. Поменяются ли результаты? Объясните почему?\n",
    "\n",
    "Учитывайте не только метки, но и вероятности, которые выдает классификатор"
   ]
  },
  {
   "cell_type": "code",
   "execution_count": 265,
   "metadata": {
    "collapsed": false
   },
   "outputs": [
    {
     "name": "stdout",
     "output_type": "stream",
     "text": [
      "Точность совпадения меток: 0.509212730318\n",
      "Вероятности: [[ nan  nan]\n",
      " [ nan  nan]\n",
      " [ nan  nan]\n",
      " ..., \n",
      " [ nan  nan]\n",
      " [ nan  nan]\n",
      " [ nan  nan]]\n"
     ]
    }
   ],
   "source": [
    "clf2 = MultinomialNB(alpha = 0).fit(X_train, y_train)\n",
    "prediction2 = clf2.predict(X_test)\n",
    "probabilities2 = clf2.predict_proba(X_test)\n",
    "print('Точность совпадения меток:', np.mean(prediction2 == y_test))\n",
    "print('Вероятности:', probabilities2)"
   ]
  },
  {
   "cell_type": "markdown",
   "metadata": {
    "collapsed": true
   },
   "source": [
    "Точность оценки снизилась до 0.5. Для того чтобы понять причину данного изменения, нужно сначала разобраться, за что отвечает параметр alpha. Вероятность того, что какое-либо слово $w$ встретится в тексте из класса $C$, равна $P(w|C)=\\frac{x}{N}$, где $x$ - количество раз, когда слово $w$ встречалось в текстах из класса $C$, а $N$ - общее количество слов в текстах (из выборки) из класса $C$. При применении классификатора на тестовой выборке может случиться так, что в тексте, принадлежащему классу $M$, встречается слово $p$, которое не встречалось ни в одном из обучающих текстов, принадлежащих классу $M$, т.е. $P(p|M)=0$, что равносильно тому, что вероятность того, что данный текст принадлежит классу $M$, равна нулю несмотря на то, что этот текст действительно принадлежит классу $M$. В итоге данный текст скорее всего будет отнесен к другому классу. Однако если считать вероятность того, что какое-либо слово $w$ встретится в тексте из класса $C$, как $P(w|C)=\\frac{x+\\alpha}{N+\\alpha*d}$, то при ненулевом alpha даже если в обучающих текстах, принадлежащих классу $C$, не встречалось слово $w$, вероятность $P(w|C)$ ненулевая и, таким образом, шанс ошибочной классификации, описанной на примере класса $M$ и слова $p$, уменьшается и мы получаем более высокую точность оценки."
   ]
  }
 ],
 "metadata": {
  "kernelspec": {
   "display_name": "Python 3",
   "language": "python",
   "name": "python3"
  },
  "language_info": {
   "codemirror_mode": {
    "name": "ipython",
    "version": 3
   },
   "file_extension": ".py",
   "mimetype": "text/x-python",
   "name": "python",
   "nbconvert_exporter": "python",
   "pygments_lexer": "ipython3",
   "version": "3.5.1"
  }
 },
 "nbformat": 4,
 "nbformat_minor": 0
}
