{
 "cells": [
  {
   "cell_type": "markdown",
   "metadata": {},
   "source": [
    "# Домашняя работа №2\n",
    "Панов А.А, Шестаков А.В. Майнор по анализу данных 2016"
   ]
  },
  {
   "cell_type": "markdown",
   "metadata": {},
   "source": [
    "<hr\\>\n",
    "**Общая информация**\n",
    "\n",
    "**Срок сдачи:** 19 марта 2016, 23:59 <br\\>\n",
    "**Штраф за опоздание:** -0.5 за каждый день\n",
    "\n",
    "При отправлении ДЗ на почту называйте файл и тему письма в следующем виде:<br\\>\n",
    "** [minor-da-16]*{Фамилия}*_hw*{Номер ДЗ}* **<br\\>\n",
    "\n",
    "\n",
    "Сопровождайте ваш код изображеними, комментариями и выводами. <br\\>\n",
    "Иммейте ввиду, что на некоторые задачи нет единственного верного и полного ответа. Чем больше информации вы сможете извлечь, аргументированных выводов сформулировать, тем лучше.\n",
    "\n",
    "Используйте данный Ipython Notebook при оформлении домашнего задания.\n",
    "<hr\\>"
   ]
  },
  {
   "cell_type": "markdown",
   "metadata": {},
   "source": [
    "## 1. Теория веротяностей. Распределения"
   ]
  },
  {
   "cell_type": "markdown",
   "metadata": {},
   "source": [
    "В SciPy более 80 видов непрерывных и более 12 дискретных распределений, более 70 статистических функций"
   ]
  },
  {
   "cell_type": "code",
   "execution_count": 2,
   "metadata": {
    "collapsed": true
   },
   "outputs": [],
   "source": [
    "import scipy as sp\n",
    "import numpy as np\n",
    "import pandas as pd\n",
    "import scipy.stats as stats\n",
    "import matplotlib.pyplot as plt\n",
    "\n",
    "%matplotlib inline"
   ]
  },
  {
   "cell_type": "markdown",
   "metadata": {},
   "source": [
    "**Задача 1.** Сгенерируйте три распределения: гауссовское с мат. ожиданием 1 и дисперсией 4, хи-квадрат с $k = 3$ и дискртеное пуассоновское с $\\lambda = 10$.<br/> \n",
    "\n",
    "\n",
    "При генерации используйте 500 точек. Посчитайте для каждого из них обчный набор статистик: среднее, минимум, максимум, дисперсию, кривизну и смещенность."
   ]
  },
  {
   "cell_type": "markdown",
   "metadata": {
    "collapsed": true
   },
   "source": [
    "Сначала сгенерировали три распределения с помощью stats.\"распределение\".rvs \n",
    "\n",
    "Использыем .var(ddof = 1) для подсчета несмещенной дисперсии.\n",
    "\n",
    "1)Гауссовское:\n",
    "мат ожидание = loc, дисперсия = $ (scale)^2$\n",
    "\n",
    "2)Хи-квадрат:\n",
    "степень свободы = df\n",
    "\n",
    "3)Пуассоновское:\n",
    "лямбда = mu\n",
    "\n",
    "Затем создаем dataFrame, содержащее данные статистик по всем распределениям."
   ]
  },
  {
   "cell_type": "code",
   "execution_count": 3,
   "metadata": {
    "collapsed": false
   },
   "outputs": [],
   "source": [
    "N = 500\n",
    "dist_norm = stats.norm.rvs(loc = 1, scale = 2, size = N)\n",
    "dist_chi = stats.chi2.rvs(df = 3, size = N)\n",
    "dist_pois = stats.poisson.rvs(mu = 10, size = N)\n"
   ]
  },
  {
   "cell_type": "code",
   "execution_count": 4,
   "metadata": {
    "collapsed": false
   },
   "outputs": [],
   "source": [
    "a1,b1,c1,d1,e1,f1 = (dist_norm.mean(), dist_norm.min(),\n",
    "                     dist_norm.max(), dist_norm.var(ddof = 1),\n",
    "                     stats.skew(dist_norm),stats.kurtosis(dist_norm))\n",
    "\n",
    "a2,b2,c2,d2,e2,f2 = (dist_chi.mean(), dist_chi.min(), \n",
    "                     dist_chi.max(), dist_chi.var(ddof = 1),\n",
    "                     stats.skew(dist_chi),stats.kurtosis(dist_chi))\n",
    "\n",
    "a3,b3,c3,d3,e3,f3 = (dist_pois.mean(), dist_pois.min(), \n",
    "                     dist_pois.max(), dist_pois.var(ddof = 1),\n",
    "                     stats.skew(dist_pois),stats.kurtosis(dist_pois))\n"
   ]
  },
  {
   "cell_type": "code",
   "execution_count": 5,
   "metadata": {
    "collapsed": false
   },
   "outputs": [
    {
     "data": {
      "text/html": [
       "<div>\n",
       "<table border=\"1\" class=\"dataframe\">\n",
       "  <thead>\n",
       "    <tr style=\"text-align: right;\">\n",
       "      <th></th>\n",
       "      <th>Дисперсия</th>\n",
       "      <th>Кривизна</th>\n",
       "      <th>Максимум</th>\n",
       "      <th>Минимум</th>\n",
       "      <th>Смещенность</th>\n",
       "      <th>Среднее</th>\n",
       "    </tr>\n",
       "  </thead>\n",
       "  <tbody>\n",
       "    <tr>\n",
       "      <th>normal</th>\n",
       "      <td>4.049824</td>\n",
       "      <td>-0.218675</td>\n",
       "      <td>6.394051</td>\n",
       "      <td>-5.891374</td>\n",
       "      <td>0.071253</td>\n",
       "      <td>1.003269</td>\n",
       "    </tr>\n",
       "    <tr>\n",
       "      <th>chi2</th>\n",
       "      <td>5.853157</td>\n",
       "      <td>1.642253</td>\n",
       "      <td>17.009470</td>\n",
       "      <td>0.023819</td>\n",
       "      <td>3.816451</td>\n",
       "      <td>2.866180</td>\n",
       "    </tr>\n",
       "    <tr>\n",
       "      <th>poisson</th>\n",
       "      <td>10.140517</td>\n",
       "      <td>0.470673</td>\n",
       "      <td>22.000000</td>\n",
       "      <td>3.000000</td>\n",
       "      <td>0.336725</td>\n",
       "      <td>9.958000</td>\n",
       "    </tr>\n",
       "  </tbody>\n",
       "</table>\n",
       "</div>"
      ],
      "text/plain": [
       "         Дисперсия  Кривизна   Максимум   Минимум  Смещенность   Среднее\n",
       "normal    4.049824 -0.218675   6.394051 -5.891374     0.071253  1.003269\n",
       "chi2      5.853157  1.642253  17.009470  0.023819     3.816451  2.866180\n",
       "poisson  10.140517  0.470673  22.000000  3.000000     0.336725  9.958000"
      ]
     },
     "execution_count": 5,
     "metadata": {},
     "output_type": "execute_result"
    }
   ],
   "source": [
    "df = pd.DataFrame({'Среднее': (a1,a2,a3),\n",
    "                   'Минимум': (b1,b2,b3),\n",
    "                   'Максимум':(c1,c2,c3),\n",
    "                   'Дисперсия':(d1,d2,d3),\n",
    "                   'Кривизна':(e1,e2,e3),\n",
    "                   'Смещенность':(f1,f2,f3)}, index = [\"normal\", \"chi2\", \"poisson\"])\n",
    "df"
   ]
  },
  {
   "cell_type": "markdown",
   "metadata": {},
   "source": [
    "**Задача 2.** Найрисуйте функцию (cdf) и плотность (pdf) распределений. На графиках pdf отметьте среднее значение и медиану."
   ]
  },
  {
   "cell_type": "markdown",
   "metadata": {},
   "source": [
    "С помощью plt на двух подграфиках рисуем функцию плотности и распределения для каждого распределения. Медиана и среднее показаны на графике функции плотности как вертикальные прямые в соответствующей точке. Для каждого распределения используем rv, чтобы зафиксировать параметры распределения."
   ]
  },
  {
   "cell_type": "code",
   "execution_count": 12,
   "metadata": {
    "collapsed": false
   },
   "outputs": [
    {
     "name": "stdout",
     "output_type": "stream",
     "text": [
      "Mean =  1.0\n",
      "Median = 1.0\n"
     ]
    },
    {
     "data": {
      "image/png": "[encoded data removed]",
      "text/plain": [
       "<matplotlib.figure.Figure at 0x793a1beba8>"
      ]
     },
     "metadata": {},
     "output_type": "display_data"
    }
   ],
   "source": [
    "loc = 1\n",
    "scale = 2\n",
    "\n",
    "fig, ax = plt.subplots(1,2)\n",
    "fig.set_size_inches(14,6)\n",
    "x = np.arange(loc - 3*scale, loc + 3*scale, 0.2) # шаг 0.2, чтобы график был гладким\n",
    "\n",
    "rv = stats.norm(loc, scale)\n",
    "\n",
    "mn = rv.mean()\n",
    "md = rv.median()\n",
    "\n",
    "norm_dens = rv.pdf(x)\n",
    "norm = rv.cdf(x)\n",
    "\n",
    "ax[0].plot(x,norm_dens)\n",
    "ax[0].plot([mn, mn], [0.23, 0], \"r-\", lw = 2, label = \"mean\")\n",
    "ax[0].plot([md, md], [0.21, 0], \"y-\", lw = 2, label = \"median\")\n",
    "ax[0].legend(loc = \"best\")\n",
    "ax[1].plot(x, norm)\n",
    "\n",
    "\n",
    "ax[0].set_title(\"Probability dencity function\")\n",
    "ax[1].set_title(\"Cumulative distribution function\")\n",
    "\n",
    "print(\"Mean = \", mn)\n",
    "print(\"Median =\", md)\n"
   ]
  },
  {
   "cell_type": "code",
   "execution_count": 13,
   "metadata": {
    "collapsed": false
   },
   "outputs": [
    {
     "name": "stdout",
     "output_type": "stream",
     "text": [
      "Mean =  3.0\n",
      "Median = 2.36597388438\n"
     ]
    },
    {
     "data": {
      "image/png": "[encoded data removed]",
      "text/plain": [
       "<matplotlib.figure.Figure at 0x79414098d0>"
      ]
     },
     "metadata": {},
     "output_type": "display_data"
    }
   ],
   "source": [
    "df = 3\n",
    "fig, ax = plt.subplots(1,2)\n",
    "fig.set_size_inches(14,6)\n",
    "x = np.arange(0, 6*df, 0.2)\n",
    "\n",
    "rv = stats.chi2(df)\n",
    "mn = rv.mean()\n",
    "md = rv.median()\n",
    "\n",
    "chi_dens = rv.pdf(x)\n",
    "chi = rv.cdf(x)\n",
    "\n",
    "ax[0].plot(x, chi_dens)\n",
    "ax[0].plot([mn, mn], [0.23, 0], \"r-\", lw = 2, label = \"mean\")\n",
    "ax[0].plot([md, md], [0.23, 0], \"y-\", lw = 2, label = \"median\")\n",
    "ax[0].legend(loc = \"best\")\n",
    "ax[1].plot(x, chi)\n",
    "\n",
    "ax[0].set_title(\"Probability dencity function\")\n",
    "ax[1].set_title(\"Cumulative distribution function\")\n",
    "\n",
    "print(\"Mean = \", mn)\n",
    "print(\"Median =\", md)"
   ]
  },
  {
   "cell_type": "code",
   "execution_count": 14,
   "metadata": {
    "collapsed": false
   },
   "outputs": [
    {
     "name": "stdout",
     "output_type": "stream",
     "text": [
      "Mean =  10.0\n",
      "Median = 10.0\n"
     ]
    },
    {
     "data": {
      "image/png": "[encoded data removed]",
      "text/plain": [
       "<matplotlib.figure.Figure at 0x7944306d30>"
      ]
     },
     "metadata": {},
     "output_type": "display_data"
    }
   ],
   "source": [
    "mu = 10\n",
    "fig, ax = plt.subplots(1,2)\n",
    "fig.set_size_inches(14,6)\n",
    "x = np.arange(0, 2*mu)\n",
    "\n",
    "rv = stats.poisson(mu)\n",
    "mn = rv.mean()\n",
    "md = rv.median()\n",
    "\n",
    "pois_dens = rv.pmf(x)\n",
    "pois = rv.cdf(x)\n",
    "\n",
    "ax[0].bar(x, pois_dens)\n",
    "ax[0].plot([mn, mn], [0.14, 0], \"r-\", lw = 2, label = \"mean\")\n",
    "ax[0].plot([md, md], [0.13, 0], \"y-\", lw = 2, label = \"median\")\n",
    "ax[0].legend(loc = \"best\")\n",
    "ax[1].plot(x, pois)\n",
    "\n",
    "ax[0].set_title(\"Probability dencity function\")\n",
    "ax[1].set_title(\"Cumulative distribution function\")\n",
    "\n",
    "print(\"Mean = \", mn)\n",
    "print(\"Median =\", md)"
   ]
  },
  {
   "cell_type": "markdown",
   "metadata": {},
   "source": [
    "**Задача 3.** Выведите описательные статистики распределений с помощью `scipy.stats.describe`. "
   ]
  },
  {
   "cell_type": "code",
   "execution_count": 15,
   "metadata": {
    "collapsed": false
   },
   "outputs": [
    {
     "name": "stdout",
     "output_type": "stream",
     "text": [
      "Нормальное распределение:\n",
      "\n",
      " DescribeResult(nobs=500, minmax=(-5.8913741309637837, 6.3940506281865899), mean=1.0032688319123955, variance=4.0498235672088123, skewness=-0.21867538250456084, kurtosis=0.07125291928368771) \n",
      "\n",
      " Хи-квадрат распределение:\n",
      "\n",
      " DescribeResult(nobs=500, minmax=(0.023819098635287743, 17.009469941585081), mean=2.8661800799235082, variance=5.8531568765837818, skewness=1.6422529707411317, kurtosis=3.8164511487982438) \n",
      "\n",
      " Пуассоновское распределение:\n",
      "\n",
      " DescribeResult(nobs=500, minmax=(3, 22), mean=9.9580000000000002, variance=10.140517034068138, skewness=0.4706727745288868, kurtosis=0.33672498587145183)\n"
     ]
    }
   ],
   "source": [
    "a,b,c = (stats.describe(dist_norm), stats.describe(dist_chi), stats.describe(dist_pois))\n",
    "print(\"Нормальное распределение:\\n\\n\",a,\"\\n\\n\", \"Хи-квадрат распределение:\\n\\n\",b,\"\\n\\n\", \"Пуассоновское распределение:\\n\\n\",c)"
   ]
  },
  {
   "cell_type": "markdown",
   "metadata": {},
   "source": [
    "## 2. Теория вероятностей. Корреляция и метод максимального правдоподобия"
   ]
  },
  {
   "cell_type": "markdown",
   "metadata": {},
   "source": [
    "Корреляции с помощью ивестных вам пакетов можно посчитать несколькими способами: pandas.DataFrame.corr и numpy.correlate, numpy.corrcoef и scipy.stats.pearsonr для корреляционного коэффициента Пирсона, scipy.stats.spearmanr для корреляционного коэффициента Спирмена."
   ]
  },
  {
   "cell_type": "markdown",
   "metadata": {},
   "source": [
    "Объясните [разницу](http://support.minitab.com/en-us/minitab-express/1/help-and-how-to/modeling-statistics/regression/supporting-topics/basics/a-comparison-of-the-pearson-and-spearman-correlation-methods/) между коэффициентами корреляции Спирмена и Пирсона."
   ]
  },
  {
   "cell_type": "markdown",
   "metadata": {},
   "source": [
    "В данных из файла [beauty.csv](https://www.dropbox.com/s/xio77e9p0oe1wqw/beauty.csv?dl=0) для каждого опрошенного имеется следующая информация: заработная плата за час работы, опыт работы, образование, внешняя привлекательность (в баллах от 1 до 5), бинарные признаки: пол, семейное положение, состояние здоровья (хорошее/плохое), членство в профсоюзе, цвет кожи (белый/чёрный), занятость в сфере обслуживания (да/нет)."
   ]
  },
  {
   "cell_type": "markdown",
   "metadata": {},
   "source": [
    "**Задание 1.** Найдите 3 пары признаков с наибольшей корреляцией. Поясните на конктретных примерах, что означают полученные коэффициенты корреляции."
   ]
  },
  {
   "cell_type": "markdown",
   "metadata": {
    "collapsed": true
   },
   "source": [
    "Коэффициент корреляции Пирсона определяет линейную зависимость между переменнами: изменение значения одной переменной влечет пропорциональное изменение значения другой.\n",
    "\n",
    "Кэффициент Спирмена может определить не только линейную, но и монотонную зависимость."
   ]
  },
  {
   "cell_type": "code",
   "execution_count": 132,
   "metadata": {
    "collapsed": false
   },
   "outputs": [
    {
     "data": {
      "text/html": [
       "<div>\n",
       "<table border=\"1\" class=\"dataframe\">\n",
       "  <thead>\n",
       "    <tr style=\"text-align: right;\">\n",
       "      <th></th>\n",
       "      <th>wage;exper;union;goodhlth;black;female;married;service;educ;looks</th>\n",
       "    </tr>\n",
       "  </thead>\n",
       "  <tbody>\n",
       "    <tr>\n",
       "      <th>0</th>\n",
       "      <td>5.73;30;0;1;0;1;1;1;14;4</td>\n",
       "    </tr>\n",
       "    <tr>\n",
       "      <th>1</th>\n",
       "      <td>4.28;28;0;1;0;1;1;0;12;3</td>\n",
       "    </tr>\n",
       "    <tr>\n",
       "      <th>2</th>\n",
       "      <td>7.96;35;0;1;0;1;0;0;10;4</td>\n",
       "    </tr>\n",
       "    <tr>\n",
       "      <th>3</th>\n",
       "      <td>11.57;38;0;1;0;0;1;1;16;3</td>\n",
       "    </tr>\n",
       "    <tr>\n",
       "      <th>4</th>\n",
       "      <td>11.42;27;0;1;0;0;1;0;16;3</td>\n",
       "    </tr>\n",
       "  </tbody>\n",
       "</table>\n",
       "</div>"
      ],
      "text/plain": [
       "  wage;exper;union;goodhlth;black;female;married;service;educ;looks\n",
       "0                           5.73;30;0;1;0;1;1;1;14;4               \n",
       "1                           4.28;28;0;1;0;1;1;0;12;3               \n",
       "2                           7.96;35;0;1;0;1;0;0;10;4               \n",
       "3                          11.57;38;0;1;0;0;1;1;16;3               \n",
       "4                          11.42;27;0;1;0;0;1;0;16;3               "
      ]
     },
     "execution_count": 132,
     "metadata": {},
     "output_type": "execute_result"
    }
   ],
   "source": [
    "result = pd.read_csv(\"beauty.csv\")\n",
    "result.head(5)"
   ]
  },
  {
   "cell_type": "markdown",
   "metadata": {},
   "source": [
    "Чтобы было удобнее работать, нужно разделить данный файла по столбцам. Все значения разделены знаком \";\", поэтому при загрузке файла укажем, что разделение будет по символу \";\""
   ]
  },
  {
   "cell_type": "code",
   "execution_count": 133,
   "metadata": {
    "collapsed": false
   },
   "outputs": [],
   "source": [
    "beauty = pd.read_csv(\"beauty.csv\", sep = \";\")\n"
   ]
  },
  {
   "cell_type": "code",
   "execution_count": 18,
   "metadata": {
    "collapsed": false
   },
   "outputs": [
    {
     "data": {
      "text/html": [
       "<div>\n",
       "<table border=\"1\" class=\"dataframe\">\n",
       "  <thead>\n",
       "    <tr style=\"text-align: right;\">\n",
       "      <th></th>\n",
       "      <th>wage</th>\n",
       "      <th>exper</th>\n",
       "      <th>union</th>\n",
       "      <th>goodhlth</th>\n",
       "      <th>black</th>\n",
       "      <th>female</th>\n",
       "      <th>married</th>\n",
       "      <th>service</th>\n",
       "      <th>educ</th>\n",
       "      <th>looks</th>\n",
       "    </tr>\n",
       "  </thead>\n",
       "  <tbody>\n",
       "    <tr>\n",
       "      <th>0</th>\n",
       "      <td>5.73</td>\n",
       "      <td>30</td>\n",
       "      <td>0</td>\n",
       "      <td>1</td>\n",
       "      <td>0</td>\n",
       "      <td>1</td>\n",
       "      <td>1</td>\n",
       "      <td>1</td>\n",
       "      <td>14</td>\n",
       "      <td>4</td>\n",
       "    </tr>\n",
       "    <tr>\n",
       "      <th>1</th>\n",
       "      <td>4.28</td>\n",
       "      <td>28</td>\n",
       "      <td>0</td>\n",
       "      <td>1</td>\n",
       "      <td>0</td>\n",
       "      <td>1</td>\n",
       "      <td>1</td>\n",
       "      <td>0</td>\n",
       "      <td>12</td>\n",
       "      <td>3</td>\n",
       "    </tr>\n",
       "    <tr>\n",
       "      <th>2</th>\n",
       "      <td>7.96</td>\n",
       "      <td>35</td>\n",
       "      <td>0</td>\n",
       "      <td>1</td>\n",
       "      <td>0</td>\n",
       "      <td>1</td>\n",
       "      <td>0</td>\n",
       "      <td>0</td>\n",
       "      <td>10</td>\n",
       "      <td>4</td>\n",
       "    </tr>\n",
       "    <tr>\n",
       "      <th>3</th>\n",
       "      <td>11.57</td>\n",
       "      <td>38</td>\n",
       "      <td>0</td>\n",
       "      <td>1</td>\n",
       "      <td>0</td>\n",
       "      <td>0</td>\n",
       "      <td>1</td>\n",
       "      <td>1</td>\n",
       "      <td>16</td>\n",
       "      <td>3</td>\n",
       "    </tr>\n",
       "    <tr>\n",
       "      <th>4</th>\n",
       "      <td>11.42</td>\n",
       "      <td>27</td>\n",
       "      <td>0</td>\n",
       "      <td>1</td>\n",
       "      <td>0</td>\n",
       "      <td>0</td>\n",
       "      <td>1</td>\n",
       "      <td>0</td>\n",
       "      <td>16</td>\n",
       "      <td>3</td>\n",
       "    </tr>\n",
       "    <tr>\n",
       "      <th>5</th>\n",
       "      <td>3.91</td>\n",
       "      <td>20</td>\n",
       "      <td>0</td>\n",
       "      <td>0</td>\n",
       "      <td>0</td>\n",
       "      <td>1</td>\n",
       "      <td>1</td>\n",
       "      <td>0</td>\n",
       "      <td>12</td>\n",
       "      <td>3</td>\n",
       "    </tr>\n",
       "    <tr>\n",
       "      <th>6</th>\n",
       "      <td>8.76</td>\n",
       "      <td>12</td>\n",
       "      <td>0</td>\n",
       "      <td>1</td>\n",
       "      <td>0</td>\n",
       "      <td>0</td>\n",
       "      <td>1</td>\n",
       "      <td>0</td>\n",
       "      <td>16</td>\n",
       "      <td>3</td>\n",
       "    </tr>\n",
       "    <tr>\n",
       "      <th>7</th>\n",
       "      <td>7.69</td>\n",
       "      <td>5</td>\n",
       "      <td>1</td>\n",
       "      <td>1</td>\n",
       "      <td>0</td>\n",
       "      <td>0</td>\n",
       "      <td>0</td>\n",
       "      <td>0</td>\n",
       "      <td>16</td>\n",
       "      <td>4</td>\n",
       "    </tr>\n",
       "    <tr>\n",
       "      <th>8</th>\n",
       "      <td>5.00</td>\n",
       "      <td>5</td>\n",
       "      <td>0</td>\n",
       "      <td>1</td>\n",
       "      <td>0</td>\n",
       "      <td>1</td>\n",
       "      <td>0</td>\n",
       "      <td>0</td>\n",
       "      <td>16</td>\n",
       "      <td>3</td>\n",
       "    </tr>\n",
       "    <tr>\n",
       "      <th>9</th>\n",
       "      <td>3.89</td>\n",
       "      <td>12</td>\n",
       "      <td>0</td>\n",
       "      <td>1</td>\n",
       "      <td>0</td>\n",
       "      <td>1</td>\n",
       "      <td>0</td>\n",
       "      <td>0</td>\n",
       "      <td>12</td>\n",
       "      <td>3</td>\n",
       "    </tr>\n",
       "  </tbody>\n",
       "</table>\n",
       "</div>"
      ],
      "text/plain": [
       "    wage  exper  union  goodhlth  black  female  married  service  educ  looks\n",
       "0   5.73     30      0         1      0       1        1        1    14      4\n",
       "1   4.28     28      0         1      0       1        1        0    12      3\n",
       "2   7.96     35      0         1      0       1        0        0    10      4\n",
       "3  11.57     38      0         1      0       0        1        1    16      3\n",
       "4  11.42     27      0         1      0       0        1        0    16      3\n",
       "5   3.91     20      0         0      0       1        1        0    12      3\n",
       "6   8.76     12      0         1      0       0        1        0    16      3\n",
       "7   7.69      5      1         1      0       0        0        0    16      4\n",
       "8   5.00      5      0         1      0       1        0        0    16      3\n",
       "9   3.89     12      0         1      0       1        0        0    12      3"
      ]
     },
     "execution_count": 18,
     "metadata": {},
     "output_type": "execute_result"
    }
   ],
   "source": [
    "beauty.shape\n",
    "beauty.head(10)"
   ]
  },
  {
   "cell_type": "markdown",
   "metadata": {
    "collapsed": true
   },
   "source": [
    "Теперь с помощью DataFrame.corr найдем коэффициент корреляции Пирсона и Спирмена по всем признакам."
   ]
  },
  {
   "cell_type": "code",
   "execution_count": 19,
   "metadata": {
    "collapsed": false,
    "scrolled": false
   },
   "outputs": [
    {
     "data": {
      "text/html": [
       "<div>\n",
       "<table border=\"1\" class=\"dataframe\">\n",
       "  <thead>\n",
       "    <tr style=\"text-align: right;\">\n",
       "      <th></th>\n",
       "      <th>wage</th>\n",
       "      <th>exper</th>\n",
       "      <th>union</th>\n",
       "      <th>goodhlth</th>\n",
       "      <th>black</th>\n",
       "      <th>female</th>\n",
       "      <th>married</th>\n",
       "      <th>service</th>\n",
       "      <th>educ</th>\n",
       "      <th>looks</th>\n",
       "    </tr>\n",
       "  </thead>\n",
       "  <tbody>\n",
       "    <tr>\n",
       "      <th>wage</th>\n",
       "      <td>1.000000</td>\n",
       "      <td>0.234632</td>\n",
       "      <td>0.094529</td>\n",
       "      <td>0.006756</td>\n",
       "      <td>-0.059052</td>\n",
       "      <td>-0.313419</td>\n",
       "      <td>0.184521</td>\n",
       "      <td>-0.053653</td>\n",
       "      <td>0.212333</td>\n",
       "      <td>0.055019</td>\n",
       "    </tr>\n",
       "    <tr>\n",
       "      <th>exper</th>\n",
       "      <td>0.234632</td>\n",
       "      <td>1.000000</td>\n",
       "      <td>0.089792</td>\n",
       "      <td>-0.131609</td>\n",
       "      <td>0.007566</td>\n",
       "      <td>-0.247209</td>\n",
       "      <td>0.255607</td>\n",
       "      <td>-0.057328</td>\n",
       "      <td>-0.186200</td>\n",
       "      <td>-0.155035</td>\n",
       "    </tr>\n",
       "    <tr>\n",
       "      <th>union</th>\n",
       "      <td>0.094529</td>\n",
       "      <td>0.089792</td>\n",
       "      <td>1.000000</td>\n",
       "      <td>-0.022398</td>\n",
       "      <td>0.031939</td>\n",
       "      <td>-0.100037</td>\n",
       "      <td>0.053629</td>\n",
       "      <td>-0.103633</td>\n",
       "      <td>-0.096022</td>\n",
       "      <td>-0.043495</td>\n",
       "    </tr>\n",
       "    <tr>\n",
       "      <th>goodhlth</th>\n",
       "      <td>0.006756</td>\n",
       "      <td>-0.131609</td>\n",
       "      <td>-0.022398</td>\n",
       "      <td>1.000000</td>\n",
       "      <td>-0.034073</td>\n",
       "      <td>-0.039684</td>\n",
       "      <td>-0.013315</td>\n",
       "      <td>0.049947</td>\n",
       "      <td>0.107129</td>\n",
       "      <td>0.058558</td>\n",
       "    </tr>\n",
       "    <tr>\n",
       "      <th>black</th>\n",
       "      <td>-0.059052</td>\n",
       "      <td>0.007566</td>\n",
       "      <td>0.031939</td>\n",
       "      <td>-0.034073</td>\n",
       "      <td>1.000000</td>\n",
       "      <td>0.113703</td>\n",
       "      <td>-0.133306</td>\n",
       "      <td>0.017261</td>\n",
       "      <td>-0.138157</td>\n",
       "      <td>0.012098</td>\n",
       "    </tr>\n",
       "    <tr>\n",
       "      <th>female</th>\n",
       "      <td>-0.313419</td>\n",
       "      <td>-0.247209</td>\n",
       "      <td>-0.100037</td>\n",
       "      <td>-0.039684</td>\n",
       "      <td>0.113703</td>\n",
       "      <td>1.000000</td>\n",
       "      <td>-0.319228</td>\n",
       "      <td>0.267961</td>\n",
       "      <td>0.009105</td>\n",
       "      <td>0.017129</td>\n",
       "    </tr>\n",
       "    <tr>\n",
       "      <th>married</th>\n",
       "      <td>0.184521</td>\n",
       "      <td>0.255607</td>\n",
       "      <td>0.053629</td>\n",
       "      <td>-0.013315</td>\n",
       "      <td>-0.133306</td>\n",
       "      <td>-0.319228</td>\n",
       "      <td>1.000000</td>\n",
       "      <td>-0.075082</td>\n",
       "      <td>-0.047674</td>\n",
       "      <td>-0.064636</td>\n",
       "    </tr>\n",
       "    <tr>\n",
       "      <th>service</th>\n",
       "      <td>-0.053653</td>\n",
       "      <td>-0.057328</td>\n",
       "      <td>-0.103633</td>\n",
       "      <td>0.049947</td>\n",
       "      <td>0.017261</td>\n",
       "      <td>0.267961</td>\n",
       "      <td>-0.075082</td>\n",
       "      <td>1.000000</td>\n",
       "      <td>0.301628</td>\n",
       "      <td>0.010213</td>\n",
       "    </tr>\n",
       "    <tr>\n",
       "      <th>educ</th>\n",
       "      <td>0.212333</td>\n",
       "      <td>-0.186200</td>\n",
       "      <td>-0.096022</td>\n",
       "      <td>0.107129</td>\n",
       "      <td>-0.138157</td>\n",
       "      <td>0.009105</td>\n",
       "      <td>-0.047674</td>\n",
       "      <td>0.301628</td>\n",
       "      <td>1.000000</td>\n",
       "      <td>0.153842</td>\n",
       "    </tr>\n",
       "    <tr>\n",
       "      <th>looks</th>\n",
       "      <td>0.055019</td>\n",
       "      <td>-0.155035</td>\n",
       "      <td>-0.043495</td>\n",
       "      <td>0.058558</td>\n",
       "      <td>0.012098</td>\n",
       "      <td>0.017129</td>\n",
       "      <td>-0.064636</td>\n",
       "      <td>0.010213</td>\n",
       "      <td>0.153842</td>\n",
       "      <td>1.000000</td>\n",
       "    </tr>\n",
       "  </tbody>\n",
       "</table>\n",
       "</div>"
      ],
      "text/plain": [
       "              wage     exper     union  goodhlth     black    female  \\\n",
       "wage      1.000000  0.234632  0.094529  0.006756 -0.059052 -0.313419   \n",
       "exper     0.234632  1.000000  0.089792 -0.131609  0.007566 -0.247209   \n",
       "union     0.094529  0.089792  1.000000 -0.022398  0.031939 -0.100037   \n",
       "goodhlth  0.006756 -0.131609 -0.022398  1.000000 -0.034073 -0.039684   \n",
       "black    -0.059052  0.007566  0.031939 -0.034073  1.000000  0.113703   \n",
       "female   -0.313419 -0.247209 -0.100037 -0.039684  0.113703  1.000000   \n",
       "married   0.184521  0.255607  0.053629 -0.013315 -0.133306 -0.319228   \n",
       "service  -0.053653 -0.057328 -0.103633  0.049947  0.017261  0.267961   \n",
       "educ      0.212333 -0.186200 -0.096022  0.107129 -0.138157  0.009105   \n",
       "looks     0.055019 -0.155035 -0.043495  0.058558  0.012098  0.017129   \n",
       "\n",
       "           married   service      educ     looks  \n",
       "wage      0.184521 -0.053653  0.212333  0.055019  \n",
       "exper     0.255607 -0.057328 -0.186200 -0.155035  \n",
       "union     0.053629 -0.103633 -0.096022 -0.043495  \n",
       "goodhlth -0.013315  0.049947  0.107129  0.058558  \n",
       "black    -0.133306  0.017261 -0.138157  0.012098  \n",
       "female   -0.319228  0.267961  0.009105  0.017129  \n",
       "married   1.000000 -0.075082 -0.047674 -0.064636  \n",
       "service  -0.075082  1.000000  0.301628  0.010213  \n",
       "educ     -0.047674  0.301628  1.000000  0.153842  \n",
       "looks    -0.064636  0.010213  0.153842  1.000000  "
      ]
     },
     "execution_count": 19,
     "metadata": {},
     "output_type": "execute_result"
    }
   ],
   "source": [
    "res1 = beauty.corr(method='pearson', min_periods=1)\n",
    "res1"
   ]
  },
  {
   "cell_type": "code",
   "execution_count": 20,
   "metadata": {
    "collapsed": false
   },
   "outputs": [
    {
     "data": {
      "text/html": [
       "<div>\n",
       "<table border=\"1\" class=\"dataframe\">\n",
       "  <thead>\n",
       "    <tr style=\"text-align: right;\">\n",
       "      <th></th>\n",
       "      <th>wage</th>\n",
       "      <th>exper</th>\n",
       "      <th>union</th>\n",
       "      <th>goodhlth</th>\n",
       "      <th>black</th>\n",
       "      <th>female</th>\n",
       "      <th>married</th>\n",
       "      <th>service</th>\n",
       "      <th>educ</th>\n",
       "      <th>looks</th>\n",
       "    </tr>\n",
       "  </thead>\n",
       "  <tbody>\n",
       "    <tr>\n",
       "      <th>wage</th>\n",
       "      <td>1.000000</td>\n",
       "      <td>0.360861</td>\n",
       "      <td>0.206118</td>\n",
       "      <td>0.047938</td>\n",
       "      <td>-0.125665</td>\n",
       "      <td>-0.448844</td>\n",
       "      <td>0.217270</td>\n",
       "      <td>-0.126311</td>\n",
       "      <td>0.262666</td>\n",
       "      <td>0.038234</td>\n",
       "    </tr>\n",
       "    <tr>\n",
       "      <th>exper</th>\n",
       "      <td>0.360861</td>\n",
       "      <td>1.000000</td>\n",
       "      <td>0.093393</td>\n",
       "      <td>-0.121028</td>\n",
       "      <td>-0.011096</td>\n",
       "      <td>-0.250583</td>\n",
       "      <td>0.285990</td>\n",
       "      <td>-0.041593</td>\n",
       "      <td>-0.138599</td>\n",
       "      <td>-0.152729</td>\n",
       "    </tr>\n",
       "    <tr>\n",
       "      <th>union</th>\n",
       "      <td>0.206118</td>\n",
       "      <td>0.093393</td>\n",
       "      <td>1.000000</td>\n",
       "      <td>-0.022398</td>\n",
       "      <td>0.031939</td>\n",
       "      <td>-0.100037</td>\n",
       "      <td>0.053629</td>\n",
       "      <td>-0.103633</td>\n",
       "      <td>-0.117902</td>\n",
       "      <td>-0.051098</td>\n",
       "    </tr>\n",
       "    <tr>\n",
       "      <th>goodhlth</th>\n",
       "      <td>0.047938</td>\n",
       "      <td>-0.121028</td>\n",
       "      <td>-0.022398</td>\n",
       "      <td>1.000000</td>\n",
       "      <td>-0.034073</td>\n",
       "      <td>-0.039684</td>\n",
       "      <td>-0.013315</td>\n",
       "      <td>0.049947</td>\n",
       "      <td>0.093197</td>\n",
       "      <td>0.057166</td>\n",
       "    </tr>\n",
       "    <tr>\n",
       "      <th>black</th>\n",
       "      <td>-0.125665</td>\n",
       "      <td>-0.011096</td>\n",
       "      <td>0.031939</td>\n",
       "      <td>-0.034073</td>\n",
       "      <td>1.000000</td>\n",
       "      <td>0.113703</td>\n",
       "      <td>-0.133306</td>\n",
       "      <td>0.017261</td>\n",
       "      <td>-0.111132</td>\n",
       "      <td>0.015194</td>\n",
       "    </tr>\n",
       "    <tr>\n",
       "      <th>female</th>\n",
       "      <td>-0.448844</td>\n",
       "      <td>-0.250583</td>\n",
       "      <td>-0.100037</td>\n",
       "      <td>-0.039684</td>\n",
       "      <td>0.113703</td>\n",
       "      <td>1.000000</td>\n",
       "      <td>-0.319228</td>\n",
       "      <td>0.267961</td>\n",
       "      <td>0.008033</td>\n",
       "      <td>0.021438</td>\n",
       "    </tr>\n",
       "    <tr>\n",
       "      <th>married</th>\n",
       "      <td>0.217270</td>\n",
       "      <td>0.285990</td>\n",
       "      <td>0.053629</td>\n",
       "      <td>-0.013315</td>\n",
       "      <td>-0.133306</td>\n",
       "      <td>-0.319228</td>\n",
       "      <td>1.000000</td>\n",
       "      <td>-0.075082</td>\n",
       "      <td>-0.061963</td>\n",
       "      <td>-0.066235</td>\n",
       "    </tr>\n",
       "    <tr>\n",
       "      <th>service</th>\n",
       "      <td>-0.126311</td>\n",
       "      <td>-0.041593</td>\n",
       "      <td>-0.103633</td>\n",
       "      <td>0.049947</td>\n",
       "      <td>0.017261</td>\n",
       "      <td>0.267961</td>\n",
       "      <td>-0.075082</td>\n",
       "      <td>1.000000</td>\n",
       "      <td>0.307787</td>\n",
       "      <td>0.016089</td>\n",
       "    </tr>\n",
       "    <tr>\n",
       "      <th>educ</th>\n",
       "      <td>0.262666</td>\n",
       "      <td>-0.138599</td>\n",
       "      <td>-0.117902</td>\n",
       "      <td>0.093197</td>\n",
       "      <td>-0.111132</td>\n",
       "      <td>0.008033</td>\n",
       "      <td>-0.061963</td>\n",
       "      <td>0.307787</td>\n",
       "      <td>1.000000</td>\n",
       "      <td>0.141147</td>\n",
       "    </tr>\n",
       "    <tr>\n",
       "      <th>looks</th>\n",
       "      <td>0.038234</td>\n",
       "      <td>-0.152729</td>\n",
       "      <td>-0.051098</td>\n",
       "      <td>0.057166</td>\n",
       "      <td>0.015194</td>\n",
       "      <td>0.021438</td>\n",
       "      <td>-0.066235</td>\n",
       "      <td>0.016089</td>\n",
       "      <td>0.141147</td>\n",
       "      <td>1.000000</td>\n",
       "    </tr>\n",
       "  </tbody>\n",
       "</table>\n",
       "</div>"
      ],
      "text/plain": [
       "              wage     exper     union  goodhlth     black    female  \\\n",
       "wage      1.000000  0.360861  0.206118  0.047938 -0.125665 -0.448844   \n",
       "exper     0.360861  1.000000  0.093393 -0.121028 -0.011096 -0.250583   \n",
       "union     0.206118  0.093393  1.000000 -0.022398  0.031939 -0.100037   \n",
       "goodhlth  0.047938 -0.121028 -0.022398  1.000000 -0.034073 -0.039684   \n",
       "black    -0.125665 -0.011096  0.031939 -0.034073  1.000000  0.113703   \n",
       "female   -0.448844 -0.250583 -0.100037 -0.039684  0.113703  1.000000   \n",
       "married   0.217270  0.285990  0.053629 -0.013315 -0.133306 -0.319228   \n",
       "service  -0.126311 -0.041593 -0.103633  0.049947  0.017261  0.267961   \n",
       "educ      0.262666 -0.138599 -0.117902  0.093197 -0.111132  0.008033   \n",
       "looks     0.038234 -0.152729 -0.051098  0.057166  0.015194  0.021438   \n",
       "\n",
       "           married   service      educ     looks  \n",
       "wage      0.217270 -0.126311  0.262666  0.038234  \n",
       "exper     0.285990 -0.041593 -0.138599 -0.152729  \n",
       "union     0.053629 -0.103633 -0.117902 -0.051098  \n",
       "goodhlth -0.013315  0.049947  0.093197  0.057166  \n",
       "black    -0.133306  0.017261 -0.111132  0.015194  \n",
       "female   -0.319228  0.267961  0.008033  0.021438  \n",
       "married   1.000000 -0.075082 -0.061963 -0.066235  \n",
       "service  -0.075082  1.000000  0.307787  0.016089  \n",
       "educ     -0.061963  0.307787  1.000000  0.141147  \n",
       "looks    -0.066235  0.016089  0.141147  1.000000  "
      ]
     },
     "execution_count": 20,
     "metadata": {},
     "output_type": "execute_result"
    }
   ],
   "source": [
    "res2 = beauty.corr(method='spearman', min_periods=1)\n",
    "res2"
   ]
  },
  {
   "cell_type": "markdown",
   "metadata": {},
   "source": [
    "Воспользуемся таблицей коэффициентов Спирмена (аналогично можно рассмотреть коэф. Пирсона). Сначала возьмем по модулю все значения в таблице, чтобы учесть также и отрицательную зависимость. Найдем максимальные значения с помощью \".apply(np.max)\", исключая единицу, т.к. они в таблице показывают корреляцию между одним и тем же параметром(находятся на диагонали). Получим максимальные значения по каждому столбцу. Некоторые значения повторяются, потому что таблица корреляций симметрична относительно диагонали, поэтому воспользуемся \".drop.duplicates()\", которое удалит повторяющиеся значения. Затем отсортируем по убыванию и возьмем первые 3 значения коэффициентов. Далее, зная сами коэффициенты, нужно найти к каким параметрам они относятся. Для этого к таблице res_abs применим условие, что коэффициенты равны нашим найденным максимальным. Получим таблицу, где есть только три коэффициента, а остальные значения = NaN, затем с помощью .dropna() удалим ненужные строки и получим сокращенную таблицу."
   ]
  },
  {
   "cell_type": "code",
   "execution_count": 21,
   "metadata": {
    "collapsed": false
   },
   "outputs": [
    {
     "name": "stdout",
     "output_type": "stream",
     "text": [
      "Кэффициент корреляции Пирсона между признаками female-wage = -0.313419\n",
      "Кэффициент корреляции Пирсона между признаками married-female = -0.319228\n",
      "Кэффициент корреляции Пирсона между признаками educ-service = 0.301628\n",
      "\n",
      "\n",
      "Кэффициент корреляции Cпирмена между признаками wage-exper = 0.234632\n",
      "Кэффициент корреляции Cпирмена между признаками female-wage = -0.313419\n",
      "Кэффициент корреляции Cпирмена между признаками female-married = -0.319228\n"
     ]
    }
   ],
   "source": [
    "res1_abs = res1.apply(np.abs)\n",
    "res1_max = res1_abs[res1_abs < 1].apply(np.max).drop_duplicates().sort_values(ascending = False).head(3)\n",
    "res1_max = res1_abs[res1_abs == res1_max].dropna(axis = (0,1), how = 'all')\n",
    "\n",
    "res2_abs = res2.apply(np.abs)\n",
    "res2_max = res2_abs[res2_abs < 1].apply(np.max).drop_duplicates().sort_values(ascending = False).head(3)\n",
    "res2_max = res2_abs[res2_abs == res2_max].dropna(axis = (0,1), how = 'all')\n",
    "\n",
    "\n",
    "for i in res1_max.index:\n",
    "    for l in res1_max.columns:\n",
    "        if not np.isnan(res1_max.at[i,l]):\n",
    "            print('Кэффициент корреляции Пирсона между признаками %s-%s = %f' %(i,l,res1.at[i,l]))\n",
    "print(\"\\n\")    \n",
    "for i in res2_max.index:\n",
    "    for l in res2_max.columns:\n",
    "        if not np.isnan(res2_max.at[i,l]):\n",
    "            print('Кэффициент корреляции Cпирмена между признаками %s-%s = %f' %(i,l,res1.at[i,l]))    "
   ]
  },
  {
   "cell_type": "markdown",
   "metadata": {},
   "source": [
    "1) Female - wage: отрицательная зависимость означает, что у мужчин зарботная плата выше.\n",
    "\n",
    "2) Married - female: мужчины\n",
    "\n",
    "3) Education - service: если человек занят в сфере обслуживания, мы будем предполагать, что его образование выше, чем если бы у нас не было такой информации.\n",
    "\n",
    "4) Wage - experience: Чем больше у человека опыта работы, тем более высокую заработную плату он будет получать."
   ]
  },
  {
   "cell_type": "markdown",
   "metadata": {},
   "source": [
    "**Задание 2.** На семинаре мы рассмотрели различные распрелеления случайных величин (дискретные и непрерывные). \n",
    "\n",
    "Изобразите гистограммы каждого из признаков.<br/>\n",
    "Определите возможный закон распределения каждого из них и оцените его параметры. Если готовой функции в scipy.stats для распределения нет, то оцените эти параметры сами по методу максимального правдоподобия."
   ]
  },
  {
   "cell_type": "markdown",
   "metadata": {},
   "source": [
    "Изобразим гистограммы сразу по всем столбцам нашей таблицы."
   ]
  },
  {
   "cell_type": "code",
   "execution_count": 22,
   "metadata": {
    "collapsed": false
   },
   "outputs": [
    {
     "data": {
      "image/png": "[encoded data removed]",
      "text/plain": [
       "<matplotlib.figure.Figure at 0x79444b6f28>"
      ]
     },
     "metadata": {},
     "output_type": "display_data"
    }
   ],
   "source": [
    "beauty.hist(figsize = (16,13))\n",
    "plt.show()"
   ]
  },
  {
   "cell_type": "markdown",
   "metadata": {},
   "source": [
    "У нас имеется 6 бинарных признаков, имеющих распределение Бернулли. Чтобы оценить параметр р методом максимального правдоподобия, создадим функцию, которая по названию параметра будет выводить искомую вероятность.\n",
    "\n",
    "Отметим, что значения \"0\" и \"1\" для каждого признака - независимые величины, т.е. вероятность объединения событий = произведение вероятностей этих событий. Также при максимизации функции ML удобнее взять логарифм этой функции.\n",
    "\n",
    "Сначала мы находим из нашего dataFrame количество \"0\" и \"1\" для признака х. Затем, используя пакет sympy, мы вводим параметр р как символ, составляем функцию максимального правдоподобия, зависящую от него, и максимизируем ее. В итоге, получаем оценку вероятности.\n",
    "\n",
    "Создав список из данных 6 признаков, в цикле вызываем нашу функцию для каждого из них и выводим ответ на экран.\n",
    "\n"
   ]
  },
  {
   "cell_type": "code",
   "execution_count": 23,
   "metadata": {
    "collapsed": false
   },
   "outputs": [
    {
     "name": "stdout",
     "output_type": "stream",
     "text": [
      "Оценка вероятности для распределения признака union : [49/180]\n",
      "Оценка вероятности для распределения признака goodhlth : [14/15]\n",
      "Оценка вероятности для распределения признака black : [31/420]\n",
      "Оценка вероятности для распределения признака female : [109/315]\n",
      "Оценка вероятности для распределения признака married : [871/1260]\n",
      "Оценка вероятности для распределения признака service : [23/84]\n"
     ]
    }
   ],
   "source": [
    "import sympy\n",
    "\n",
    "# F_ml = p^(n_1)*(1-p)^(n_0)\n",
    "#ML = ln(F_ml) = (n_1)*ln(p) + (n_0)*ln(1-p)\n",
    "\n",
    "def probability(x):\n",
    "    n_1 = beauty[x][beauty[x] == 1].value_counts()[1]\n",
    "    n_0 = beauty[x][beauty[x] == 0].value_counts()[0]\n",
    "    p, ML = sympy.symbols(\"p ML\")\n",
    "    ML = (n_1)*sympy.log(p) + (n_0)*sympy.log(1-p)\n",
    "    res_p = sympy.solve(sympy.diff(ML,p), p)\n",
    "    return res_p\n",
    "list_1 = [\"union\", \"goodhlth\", \"black\", \"female\", \"married\", \"service\"]\n",
    "\n",
    "for i in range(len(list_1)):\n",
    "    print(\"Оценка вероятности для распределения признака\",list_1[i],\":\", probability(list_1[i]))\n",
    "    i += 1\n",
    "    \n",
    "   "
   ]
  },
  {
   "cell_type": "markdown",
   "metadata": {},
   "source": [
    "Теперь рассмотрим оставшиеся признаки:\"educ\",\"exper\",\"looks\",\"wage\". Рассмотрим 3 основных непрерывных распределения: нормальное, chi2 и экспоненциальное. Для каждого из признака найдем выборочное среднее, выборочную дисперсию и  выборочное стандартное отклонение. С помощью метода fit, использующего оцнку максимального правдоподобия, получим оценку для нужных нам параметров.\n"
   ]
  },
  {
   "cell_type": "code",
   "execution_count": 269,
   "metadata": {
    "collapsed": false
   },
   "outputs": [
    {
     "name": "stdout",
     "output_type": "stream",
     "text": [
      "Мат.ожидание по выборке: 18.206349206349206\n",
      "Мат.ожидание распределения chi2: 18.2063476679\n"
     ]
    },
    {
     "data": {
      "text/plain": [
       "[<matplotlib.lines.Line2D at 0xc424425e10>]"
      ]
     },
     "execution_count": 269,
     "metadata": {},
     "output_type": "execute_result"
    },
    {
     "data": {
      "image/png": "[encoded data removed]",
      "text/plain": [
       "<matplotlib.figure.Figure at 0xc4246e9e80>"
      ]
     },
     "metadata": {},
     "output_type": "display_data"
    }
   ],
   "source": [
    "# Для exper подходит хи - квадрат\n",
    "mean= beauty[\"exper\"].mean() # параметры по нашей выборке\n",
    "var = beauty[\"exper\"].var()\n",
    "\n",
    "\n",
    "res2 = stats.chi2.fit(beauty['exper']) \n",
    "\n",
    "dchi = stats.chi2(df = res2[0], loc = res2[1], scale = res2[2]) # Создадим оценочное распределение с параметрами, которое получили с помощью функции fit\n",
    "\n",
    "\n",
    "\n",
    "print(\"Мат.ожидание по выборке:\", mean)\n",
    "print(\"Мат.ожидание распределения chi2:\", dchi.mean())\n",
    "dchi_d = dchi.pdf(np.linspace(0, 50))\n",
    "plt.hist(beauty[\"exper\"], bins = 30, normed = True)\n",
    "plt.plot(np.linspace(0, 50), dchi_d, linewidth = 4, color = \"yellow\")\n",
    "\n"
   ]
  },
  {
   "cell_type": "code",
   "execution_count": 270,
   "metadata": {
    "collapsed": false
   },
   "outputs": [
    {
     "name": "stdout",
     "output_type": "stream",
     "text": [
      "Мат.ожидание по выборке: 6.306690476190469\n",
      "Мат.ожидание распределения chi2: 6.22175507228\n"
     ]
    },
    {
     "data": {
      "text/plain": [
       "[<matplotlib.lines.Line2D at 0xc425ae48d0>]"
      ]
     },
     "execution_count": 270,
     "metadata": {},
     "output_type": "execute_result"
    },
    {
     "data": {
      "image/png": "[encoded data removed]",
      "text/plain": [
       "<matplotlib.figure.Figure at 0xc425af0c88>"
      ]
     },
     "metadata": {},
     "output_type": "display_data"
    }
   ],
   "source": [
    "# Для wage подходит хи - квадрат\n",
    "mean= beauty[\"wage\"].mean() # параметры по нашей выборке\n",
    "var = beauty[\"wage\"].var()\n",
    "\n",
    "\n",
    "res2 = stats.chi2.fit(beauty['wage'][beauty['wage'] < 40]) \n",
    "# Оценочные параметры для данных распределений. Используем значения < 40, \n",
    "# чтобы удиничные выбросы, \"не портили\" распределение chi2\n",
    "dchi = stats.chi2(df = res2[0], loc = res2[1], scale = res2[2]) # Создадим оценочное распределение с параметрами, которое получили с помощью функции fit\n",
    "\n",
    "\n",
    "\n",
    "print(\"Мат.ожидание по выборке:\", mean)\n",
    "print(\"Мат.ожидание распределения chi2:\", dchi.mean())\n",
    "dchi_d = dchi.pdf(np.linspace(0, 50))\n",
    "plt.hist(beauty[\"wage\"], bins = 30, normed = True)\n",
    "plt.plot(np.linspace(0, 50), dchi_d, linewidth = 4, color = \"yellow\")"
   ]
  },
  {
   "cell_type": "code",
   "execution_count": 277,
   "metadata": {
    "collapsed": false
   },
   "outputs": [
    {
     "name": "stdout",
     "output_type": "stream",
     "text": [
      "Мат.ожидание по выборке: 3.1857142857142855\n",
      "Мат.ожидание распределения norm: 3.18571428571\n"
     ]
    },
    {
     "data": {
      "text/plain": [
       "[<matplotlib.lines.Line2D at 0xc4266540b8>]"
      ]
     },
     "execution_count": 277,
     "metadata": {},
     "output_type": "execute_result"
    },
    {
     "data": {
      "image/png": "[encoded data removed]",
      "text/plain": [
       "<matplotlib.figure.Figure at 0xc426654198>"
      ]
     },
     "metadata": {},
     "output_type": "display_data"
    }
   ],
   "source": [
    "# Для looks подходит нормальное распределение\n",
    "mean= beauty[\"looks\"].mean() # параметры по нашей выборке\n",
    "var = beauty[\"looks\"].var()\n",
    "\n",
    "\n",
    "res2 = stats.norm.fit(beauty['looks']) \n",
    "\n",
    "dnorm = stats.norm(loc = res2[0], scale = res2[1]) # Создадим оценочное распределение с параметрами, которое получили с помощью функции fit\n",
    "\n",
    "\n",
    "\n",
    "print(\"Мат.ожидание по выборке:\", mean)\n",
    "print(\"Мат.ожидание распределения norm:\", dnorm.mean())\n",
    "dnorm_d = dnorm.pdf(np.linspace(0, 10))\n",
    "plt.hist(beauty[\"looks\"], bins = 30, normed = True)\n",
    "plt.plot(np.linspace(0, 10), dnorm_d, linewidth = 4, color = \"yellow\")"
   ]
  },
  {
   "cell_type": "code",
   "execution_count": 273,
   "metadata": {
    "collapsed": false
   },
   "outputs": [
    {
     "name": "stdout",
     "output_type": "stream",
     "text": [
      "Мат.ожидание по выборке: 12.563492063492063\n",
      "Мат.ожидание распределения norm: 12.5634920635\n"
     ]
    },
    {
     "data": {
      "text/plain": [
       "[<matplotlib.lines.Line2D at 0xc424762a58>]"
      ]
     },
     "execution_count": 273,
     "metadata": {},
     "output_type": "execute_result"
    },
    {
     "data": {
      "image/png": "[encoded data removed]",
      "text/plain": [
       "<matplotlib.figure.Figure at 0xc425c6e4e0>"
      ]
     },
     "metadata": {},
     "output_type": "display_data"
    }
   ],
   "source": [
    "# Для educ подходит нормальное распределение\n",
    "mean= beauty[\"educ\"].mean() # параметры по нашей выборке\n",
    "var = beauty[\"educ\"].var()\n",
    "\n",
    "\n",
    "res2 = stats.norm.fit(beauty['educ']) \n",
    "\n",
    "dnorm = stats.norm(loc = res2[0], scale = res2[1]) # Создадим оценочное распределение с параметрами, которое получили с помощью функции fit\n",
    "\n",
    "\n",
    "\n",
    "print(\"Мат.ожидание по выборке:\", mean)\n",
    "print(\"Мат.ожидание распределения norm:\", dnorm.mean())\n",
    "dnorm_d = dnorm.pdf(np.linspace(0, 50))\n",
    "plt.hist(beauty[\"educ\"], bins = 30, normed = True)\n",
    "plt.plot(np.linspace(0, 50), dnorm_d, linewidth = 4, color = \"yellow\")"
   ]
  },
  {
   "cell_type": "markdown",
   "metadata": {},
   "source": [
    "## 3. Метод наивного Байеса"
   ]
  },
  {
   "cell_type": "markdown",
   "metadata": {},
   "source": [
    "Пояснения по выполнению этого задания будут рассказаны на семинаре 1 марта"
   ]
  },
  {
   "cell_type": "markdown",
   "metadata": {},
   "source": [
    "Обучение методом наивного Байеса основывается на достаточно сильном предположении, что все признаки попарно независимы. По формуле Байеса $$P(y|x_1,\\dots,x_n)=\\frac{P(y)P(x_1,\\dots,x_n|y)}{P(x_1,\\dots,x_n)}.$$ В предположении, что признаки независимы получаем, что $$P(y|x_1,\\dots,x_n)=\\frac{P(y)\\prod_{i=1}^n P(x_i|y)}{P(x_1,\\dots,x_n)}$$\n",
    "Т.к. $$P(x_1,\\dots,x_n)$$ задается условиями задачи, принцип максимального правдоподобия для наивного Байеса запишется следующим образом: $$\\hat y = \\arg\\max_y P(y)\\prod_{i=1}^n P(x_i|y).$$\n",
    "\n",
    "\n",
    "Библиотека `sklearn` поддерживает несколько реализаций наивного Байеса: `sklearn.naive_bayes.GaussianNB`, `sklearn.naive_bayes.MultinomialNB` и др."
   ]
  },
  {
   "cell_type": "code",
   "execution_count": 171,
   "metadata": {
    "collapsed": true
   },
   "outputs": [],
   "source": [
    "from sklearn.cross_validation import train_test_split\n",
    "from sklearn.datasets import fetch_20newsgroups\n",
    "from sklearn.naive_bayes import MultinomialNB\n",
    "from sklearn.feature_extraction.text import CountVectorizer"
   ]
  },
  {
   "cell_type": "markdown",
   "metadata": {},
   "source": [
    "**Задание 1.** Выберите 2 категории новостных сообщений из `20newsgroups`. Случайным образом, в пропорции 70/30, разделите наборы текстов на обучающую и контрольную выборки. В результате выполнения данного задания у вас должно получится 5 переменных: `text_all`, `text_train`, `text_test`, `y_train`, `y_test`."
   ]
  },
  {
   "cell_type": "code",
   "execution_count": 172,
   "metadata": {
    "collapsed": false
   },
   "outputs": [
    {
     "data": {
      "text/plain": [
       "['alt.atheism',\n",
       " 'comp.graphics',\n",
       " 'comp.os.ms-windows.misc',\n",
       " 'comp.sys.ibm.pc.hardware',\n",
       " 'comp.sys.mac.hardware',\n",
       " 'comp.windows.x',\n",
       " 'misc.forsale',\n",
       " 'rec.autos',\n",
       " 'rec.motorcycles',\n",
       " 'rec.sport.baseball',\n",
       " 'rec.sport.hockey',\n",
       " 'sci.crypt',\n",
       " 'sci.electronics',\n",
       " 'sci.med',\n",
       " 'sci.space',\n",
       " 'soc.religion.christian',\n",
       " 'talk.politics.guns',\n",
       " 'talk.politics.mideast',\n",
       " 'talk.politics.misc',\n",
       " 'talk.religion.misc']"
      ]
     },
     "execution_count": 172,
     "metadata": {},
     "output_type": "execute_result"
    }
   ],
   "source": [
    "# Список новостных заголовков\n",
    "['alt.atheism',\n",
    " 'comp.graphics',\n",
    " 'comp.os.ms-windows.misc',\n",
    " 'comp.sys.ibm.pc.hardware',\n",
    " 'comp.sys.mac.hardware',\n",
    " 'comp.windows.x',\n",
    " 'misc.forsale',\n",
    " 'rec.autos',\n",
    " 'rec.motorcycles',\n",
    " 'rec.sport.baseball',\n",
    " 'rec.sport.hockey',\n",
    " 'sci.crypt',\n",
    " 'sci.electronics',\n",
    " 'sci.med',\n",
    " 'sci.space',\n",
    " 'soc.religion.christian',\n",
    " 'talk.politics.guns',\n",
    " 'talk.politics.mideast',\n",
    " 'talk.politics.misc',\n",
    " 'talk.religion.misc']"
   ]
  },
  {
   "cell_type": "markdown",
   "metadata": {},
   "source": [
    "С помощью функции fetch_20newsgroups() выбираем 2 категории из \"all\". Затем создаем 4 переменные посредством разделения text_all на 2 части: тренировочную и тестовую, и разделения соответствующих им категорий."
   ]
  },
  {
   "cell_type": "code",
   "execution_count": 173,
   "metadata": {
    "collapsed": false
   },
   "outputs": [],
   "source": [
    "text_all = fetch_20newsgroups(subset = \"all\",\n",
    "                              categories = [\"sci.med\",\"talk.politics.mideast\"],\n",
    "                              random_state = 50)\n",
    "text_train, text_test, y_train, y_test = train_test_split(text_all.data, text_all.target, test_size = 0.3, random_state = 50)"
   ]
  },
  {
   "cell_type": "code",
   "execution_count": 174,
   "metadata": {
    "collapsed": false
   },
   "outputs": [
    {
     "name": "stdout",
     "output_type": "stream",
     "text": [
      "1930\n",
      "[1 0 1 0 0 1 0 1 0 0 1 1 1 0 1 0 0 0 1 0 0 0 0 0 0 0 1 0 1 0 1 0 1]\n",
      "talk.politics.mideast\n",
      "sci.med\n",
      "talk.politics.mideast\n",
      "sci.med\n",
      "sci.med\n",
      "talk.politics.mideast\n",
      "sci.med\n",
      "talk.politics.mideast\n",
      "sci.med\n",
      "sci.med\n",
      "talk.politics.mideast\n",
      "talk.politics.mideast\n",
      "talk.politics.mideast\n",
      "sci.med\n",
      "talk.politics.mideast\n",
      "sci.med\n",
      "sci.med\n",
      "sci.med\n",
      "talk.politics.mideast\n",
      "sci.med\n",
      "sci.med\n",
      "sci.med\n",
      "sci.med\n",
      "sci.med\n",
      "sci.med\n",
      "sci.med\n",
      "talk.politics.mideast\n",
      "sci.med\n",
      "talk.politics.mideast\n",
      "sci.med\n",
      "talk.politics.mideast\n",
      "sci.med\n",
      "talk.politics.mideast\n",
      "From: farzin@apollo3.ntt.jp (Farzin Mokhtarian)\n",
      "Subject: News briefs from KH # 1026\n",
      "Originator: sehari@vincent1.iastate.edu\n",
      "Organization: NTT Corp. Japan\n",
      "Lines: 31\n",
      "\n",
      "\n",
      "From:  Kayhan Havai # 1026\n",
      "--------------------------\n",
      "                    \n",
      "                         \n",
      "o Dr. Namaki,  deputy minister of health stated that infant\n",
      "  mortality (under one year old) in Iran went down from 120 \n",
      "  per  thousand before the revolution to 33 per thousand at\n",
      "  the end of 1371 (last month).\n",
      "    \n",
      "o Dr Namaki also stated that before the revolution only\n",
      "  254f children received vaccinations to protect them\n",
      "  from various deseases but this figure reached 93at\n",
      "  the end of 1371.\n",
      "    \n",
      "o Dr. Malekzadeh, the minister of health mentioned that\n",
      "  the population growth rate in Iran at the end of 1371\n",
      "  went below 2.7\n",
      "   \n",
      "o During the visit of Mahathir Mohammad, the prime minister\n",
      "  of Malaysia, to Iran, agreements for cooperation in the\n",
      "  areas of industry, trade, education and tourism were\n",
      "  signed. According to one agreement, Iran will be in\n",
      "  charge of building Malaysia's natural gas network.\n",
      "                          \n",
      "----------------------------------------------------------\n",
      "                 \n",
      " - Farzin Mokhtarian\n",
      "                       \n",
      "\n",
      "-- \n",
      "\n"
     ]
    }
   ],
   "source": [
    "text_all.target_names  #посмотрим, что хранится в text_all\n",
    "print(len(text_all.target))\n",
    "print(text_all.target[:33])\n",
    "for i in text_all.target[:33]:\n",
    "    print(text_all.target_names[i])\n",
    "print(text_all.data[0])"
   ]
  },
  {
   "cell_type": "markdown",
   "metadata": {},
   "source": [
    "**Задание 2.** На переменной `text` постройте конвертер из текстов в частотную матрицу с помощью метода `CountVectorizer(analyzer='word', stop_words='english', lowercase=True)`, а затем используйте его на выборках `train` и `test`. В результате вы должны получить 2 матрицы: `X_train` и `X_test`."
   ]
  },
  {
   "cell_type": "markdown",
   "metadata": {},
   "source": [
    "Переведем данные в матрицы, где будет храниться информация о словах, которые встречались в text_train и text_test, их количестве."
   ]
  },
  {
   "cell_type": "code",
   "execution_count": 244,
   "metadata": {
    "collapsed": false
   },
   "outputs": [],
   "source": [
    "text = CountVectorizer(analyzer = \"word\", stop_words = \"english\", lowercase = True)\n",
    "text.fit(text_all.data)\n",
    "X_test = text.transform(text_test)\n",
    "X_train = text.transform(text_train)\n",
    "\n"
   ]
  },
  {
   "cell_type": "code",
   "execution_count": 245,
   "metadata": {
    "collapsed": false
   },
   "outputs": [
    {
     "name": "stdout",
     "output_type": "stream",
     "text": [
      "(1351, 34481)\n"
     ]
    },
    {
     "data": {
      "text/plain": [
       "scipy.sparse.csr.csr_matrix"
      ]
     },
     "execution_count": 245,
     "metadata": {},
     "output_type": "execute_result"
    }
   ],
   "source": [
    "print(X_train.shape) \n",
    "type(X_train)\n"
   ]
  },
  {
   "cell_type": "markdown",
   "metadata": {},
   "source": [
    "**Задание 3.** По матрице `X_train` найдите 50 самых частотных слов. Соответствия столбцов и слов можно понять по методу `CountVectorizer.get_feature_names()`."
   ]
  },
  {
   "cell_type": "markdown",
   "metadata": {},
   "source": [
    "Сначала просуммируем значения в матрице X_train по всем индексам, затем создадим датафрейм из слов и их количества, отсортируем и выведем первые 50 значений."
   ]
  },
  {
   "cell_type": "code",
   "execution_count": 246,
   "metadata": {
    "collapsed": false
   },
   "outputs": [
    {
     "data": {
      "text/html": [
       "<div>\n",
       "<table border=\"1\" class=\"dataframe\">\n",
       "  <thead>\n",
       "    <tr style=\"text-align: right;\">\n",
       "      <th></th>\n",
       "      <th>Counts</th>\n",
       "      <th>Words</th>\n",
       "    </tr>\n",
       "  </thead>\n",
       "  <tbody>\n",
       "    <tr>\n",
       "      <th>11994</th>\n",
       "      <td>2982</td>\n",
       "      <td>edu</td>\n",
       "    </tr>\n",
       "    <tr>\n",
       "      <th>30105</th>\n",
       "      <td>1485</td>\n",
       "      <td>subject</td>\n",
       "    </tr>\n",
       "    <tr>\n",
       "      <th>24025</th>\n",
       "      <td>1396</td>\n",
       "      <td>people</td>\n",
       "    </tr>\n",
       "    <tr>\n",
       "      <th>19640</th>\n",
       "      <td>1368</td>\n",
       "      <td>lines</td>\n",
       "    </tr>\n",
       "    <tr>\n",
       "      <th>8682</th>\n",
       "      <td>1331</td>\n",
       "      <td>com</td>\n",
       "    </tr>\n",
       "    <tr>\n",
       "      <th>23201</th>\n",
       "      <td>1317</td>\n",
       "      <td>organization</td>\n",
       "    </tr>\n",
       "    <tr>\n",
       "      <th>34037</th>\n",
       "      <td>1185</td>\n",
       "      <td>writes</td>\n",
       "    </tr>\n",
       "    <tr>\n",
       "      <th>4983</th>\n",
       "      <td>1170</td>\n",
       "      <td>article</td>\n",
       "    </tr>\n",
       "    <tr>\n",
       "      <th>17894</th>\n",
       "      <td>1035</td>\n",
       "      <td>israel</td>\n",
       "    </tr>\n",
       "    <tr>\n",
       "      <th>32497</th>\n",
       "      <td>868</td>\n",
       "      <td>university</td>\n",
       "    </tr>\n",
       "    <tr>\n",
       "      <th>19593</th>\n",
       "      <td>851</td>\n",
       "      <td>like</td>\n",
       "    </tr>\n",
       "    <tr>\n",
       "      <th>11492</th>\n",
       "      <td>834</td>\n",
       "      <td>don</td>\n",
       "    </tr>\n",
       "    <tr>\n",
       "      <th>18877</th>\n",
       "      <td>823</td>\n",
       "      <td>know</td>\n",
       "    </tr>\n",
       "    <tr>\n",
       "      <th>27615</th>\n",
       "      <td>807</td>\n",
       "      <td>said</td>\n",
       "    </tr>\n",
       "    <tr>\n",
       "      <th>18394</th>\n",
       "      <td>782</td>\n",
       "      <td>just</td>\n",
       "    </tr>\n",
       "    <tr>\n",
       "      <th>4893</th>\n",
       "      <td>777</td>\n",
       "      <td>armenian</td>\n",
       "    </tr>\n",
       "    <tr>\n",
       "      <th>32007</th>\n",
       "      <td>688</td>\n",
       "      <td>turkish</td>\n",
       "    </tr>\n",
       "    <tr>\n",
       "      <th>4895</th>\n",
       "      <td>686</td>\n",
       "      <td>armenians</td>\n",
       "    </tr>\n",
       "    <tr>\n",
       "      <th>18162</th>\n",
       "      <td>662</td>\n",
       "      <td>jews</td>\n",
       "    </tr>\n",
       "    <tr>\n",
       "      <th>31370</th>\n",
       "      <td>627</td>\n",
       "      <td>time</td>\n",
       "    </tr>\n",
       "    <tr>\n",
       "      <th>31210</th>\n",
       "      <td>611</td>\n",
       "      <td>think</td>\n",
       "    </tr>\n",
       "    <tr>\n",
       "      <th>33969</th>\n",
       "      <td>605</td>\n",
       "      <td>world</td>\n",
       "    </tr>\n",
       "    <tr>\n",
       "      <th>9824</th>\n",
       "      <td>598</td>\n",
       "      <td>cs</td>\n",
       "    </tr>\n",
       "    <tr>\n",
       "      <th>17895</th>\n",
       "      <td>588</td>\n",
       "      <td>israeli</td>\n",
       "    </tr>\n",
       "    <tr>\n",
       "      <th>24844</th>\n",
       "      <td>587</td>\n",
       "      <td>posting</td>\n",
       "    </tr>\n",
       "    <tr>\n",
       "      <th>11449</th>\n",
       "      <td>536</td>\n",
       "      <td>does</td>\n",
       "    </tr>\n",
       "    <tr>\n",
       "      <th>22271</th>\n",
       "      <td>530</td>\n",
       "      <td>new</td>\n",
       "    </tr>\n",
       "    <tr>\n",
       "      <th>33558</th>\n",
       "      <td>509</td>\n",
       "      <td>way</td>\n",
       "    </tr>\n",
       "    <tr>\n",
       "      <th>16360</th>\n",
       "      <td>507</td>\n",
       "      <td>host</td>\n",
       "    </tr>\n",
       "    <tr>\n",
       "      <th>10937</th>\n",
       "      <td>506</td>\n",
       "      <td>did</td>\n",
       "    </tr>\n",
       "    <tr>\n",
       "      <th>34194</th>\n",
       "      <td>501</td>\n",
       "      <td>years</td>\n",
       "    </tr>\n",
       "    <tr>\n",
       "      <th>22461</th>\n",
       "      <td>497</td>\n",
       "      <td>nntp</td>\n",
       "    </tr>\n",
       "    <tr>\n",
       "      <th>27126</th>\n",
       "      <td>474</td>\n",
       "      <td>right</td>\n",
       "    </tr>\n",
       "    <tr>\n",
       "      <th>18159</th>\n",
       "      <td>462</td>\n",
       "      <td>jewish</td>\n",
       "    </tr>\n",
       "    <tr>\n",
       "      <th>27817</th>\n",
       "      <td>453</td>\n",
       "      <td>say</td>\n",
       "    </tr>\n",
       "    <tr>\n",
       "      <th>4761</th>\n",
       "      <td>443</td>\n",
       "      <td>arab</td>\n",
       "    </tr>\n",
       "    <tr>\n",
       "      <th>29725</th>\n",
       "      <td>419</td>\n",
       "      <td>state</td>\n",
       "    </tr>\n",
       "    <tr>\n",
       "      <th>20702</th>\n",
       "      <td>417</td>\n",
       "      <td>medical</td>\n",
       "    </tr>\n",
       "    <tr>\n",
       "      <th>4892</th>\n",
       "      <td>415</td>\n",
       "      <td>armenia</td>\n",
       "    </tr>\n",
       "    <tr>\n",
       "      <th>14983</th>\n",
       "      <td>415</td>\n",
       "      <td>government</td>\n",
       "    </tr>\n",
       "    <tr>\n",
       "      <th>32722</th>\n",
       "      <td>401</td>\n",
       "      <td>use</td>\n",
       "    </tr>\n",
       "    <tr>\n",
       "      <th>26673</th>\n",
       "      <td>396</td>\n",
       "      <td>reply</td>\n",
       "    </tr>\n",
       "    <tr>\n",
       "      <th>26758</th>\n",
       "      <td>391</td>\n",
       "      <td>research</td>\n",
       "    </tr>\n",
       "    <tr>\n",
       "      <th>33952</th>\n",
       "      <td>385</td>\n",
       "      <td>work</td>\n",
       "    </tr>\n",
       "    <tr>\n",
       "      <th>14944</th>\n",
       "      <td>381</td>\n",
       "      <td>good</td>\n",
       "    </tr>\n",
       "    <tr>\n",
       "      <th>33459</th>\n",
       "      <td>377</td>\n",
       "      <td>war</td>\n",
       "    </tr>\n",
       "    <tr>\n",
       "      <th>32986</th>\n",
       "      <td>376</td>\n",
       "      <td>ve</td>\n",
       "    </tr>\n",
       "    <tr>\n",
       "      <th>1</th>\n",
       "      <td>367</td>\n",
       "      <td>000</td>\n",
       "    </tr>\n",
       "    <tr>\n",
       "      <th>17257</th>\n",
       "      <td>364</td>\n",
       "      <td>information</td>\n",
       "    </tr>\n",
       "    <tr>\n",
       "      <th>20191</th>\n",
       "      <td>358</td>\n",
       "      <td>make</td>\n",
       "    </tr>\n",
       "  </tbody>\n",
       "</table>\n",
       "</div>"
      ],
      "text/plain": [
       "       Counts         Words\n",
       "11994    2982           edu\n",
       "30105    1485       subject\n",
       "24025    1396        people\n",
       "19640    1368         lines\n",
       "8682     1331           com\n",
       "23201    1317  organization\n",
       "34037    1185        writes\n",
       "4983     1170       article\n",
       "17894    1035        israel\n",
       "32497     868    university\n",
       "19593     851          like\n",
       "11492     834           don\n",
       "18877     823          know\n",
       "27615     807          said\n",
       "18394     782          just\n",
       "4893      777      armenian\n",
       "32007     688       turkish\n",
       "4895      686     armenians\n",
       "18162     662          jews\n",
       "31370     627          time\n",
       "31210     611         think\n",
       "33969     605         world\n",
       "9824      598            cs\n",
       "17895     588       israeli\n",
       "24844     587       posting\n",
       "11449     536          does\n",
       "22271     530           new\n",
       "33558     509           way\n",
       "16360     507          host\n",
       "10937     506           did\n",
       "34194     501         years\n",
       "22461     497          nntp\n",
       "27126     474         right\n",
       "18159     462        jewish\n",
       "27817     453           say\n",
       "4761      443          arab\n",
       "29725     419         state\n",
       "20702     417       medical\n",
       "4892      415       armenia\n",
       "14983     415    government\n",
       "32722     401           use\n",
       "26673     396         reply\n",
       "26758     391      research\n",
       "33952     385          work\n",
       "14944     381          good\n",
       "33459     377           war\n",
       "32986     376            ve\n",
       "1         367           000\n",
       "17257     364   information\n",
       "20191     358          make"
      ]
     },
     "execution_count": 246,
     "metadata": {},
     "output_type": "execute_result"
    }
   ],
   "source": [
    "X_train_sum = X_train.sum(axis = 0)\n",
    "X_train_values = text.get_feature_names()\n",
    "df_train = pd.DataFrame({\"Counts\":X_train_sum.tolist()[0],\n",
    "                         \"Words\":X_train_values})\n",
    "df_train.sort_values(by = \"Counts\", ascending = False).head(50)"
   ]
  },
  {
   "cell_type": "markdown",
   "metadata": {},
   "source": [
    "**Задание 4.** Обучите наивный байесовский классификатор MultinomialNB с параметром слгаживания `alpha=1` на выборке train. Примените его к данным из тестовой выборке и оцените точность совпадения меток."
   ]
  },
  {
   "cell_type": "markdown",
   "metadata": {},
   "source": [
    "Применив классификатор к тестовой выборке, оцениваем точность с помощью .score, который возвращает среднее значение правильных предсказаний, т.е. точность совпадения."
   ]
  },
  {
   "cell_type": "code",
   "execution_count": 247,
   "metadata": {
    "collapsed": false
   },
   "outputs": [
    {
     "data": {
      "text/plain": [
       "0.99654576856649391"
      ]
     },
     "execution_count": 247,
     "metadata": {},
     "output_type": "execute_result"
    }
   ],
   "source": [
    "clf_1 = MultinomialNB(alpha = 1)\n",
    "rfit_1 = clf_1.fit(X_train, y_train)\n",
    "\n",
    "a = rfit_1.score(X_test, y_test)\n",
    "a"
   ]
  },
  {
   "cell_type": "markdown",
   "metadata": {},
   "source": [
    "**Задание 5.** Обучите наивный байесовский классификатор MultinomialNB с параметром слгаживания `alpha=0` на выборке train. Примените его к данным из тестовой выборки и оцените точность совпадения меток. Поменяются ли результаты? Объясните почему?\n",
    "\n",
    "Учитывайте не только метки, но и вероятности, которые выдает классификатор"
   ]
  },
  {
   "cell_type": "code",
   "execution_count": 248,
   "metadata": {
    "collapsed": false
   },
   "outputs": [
    {
     "data": {
      "text/plain": [
       "0.60449050086355782"
      ]
     },
     "execution_count": 248,
     "metadata": {},
     "output_type": "execute_result"
    }
   ],
   "source": [
    "clf_2 = MultinomialNB(alpha = 0)\n",
    "rfit_2 = clf_2.fit(X_train, y_train)\n",
    "b = rfit_2.score(X_test, y_test)\n",
    "b"
   ]
  },
  {
   "cell_type": "markdown",
   "metadata": {},
   "source": [
    "Точность совпадения намного меньше. В тестовой выборке может оказаться слово, которого не было в выборке трэйн, тогда, считая вероятность по формуле Байеса, получим, что P(x|y) = 0, а значит и вероятность того, что текст принадлежит данной категории будет нулевой. Чем больше сглаживания, тем меньшее влияние имеют такие \"выбросы\" на итоговую точность.\n"
   ]
  }
 ],
 "metadata": {
  "kernelspec": {
   "display_name": "Python 3",
   "language": "python",
   "name": "python3"
  },
  "language_info": {
   "codemirror_mode": {
    "name": "ipython",
    "version": 3
   },
   "file_extension": ".py",
   "mimetype": "text/x-python",
   "name": "python",
   "nbconvert_exporter": "python",
   "pygments_lexer": "ipython3",
   "version": "3.5.1"
  }
 },
 "nbformat": 4,
 "nbformat_minor": 0
}
