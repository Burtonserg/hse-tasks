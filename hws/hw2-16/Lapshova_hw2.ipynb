{
 "cells": [
  {
   "cell_type": "markdown",
   "metadata": {},
   "source": [
    "# Домашняя работа №2\n",
    "Панов А.А, Шестаков А.В. Майнор по анализу данных 2016"
   ]
  },
  {
   "cell_type": "markdown",
   "metadata": {},
   "source": [
    "<hr\\>\n",
    "**Общая информация**\n",
    "\n",
    "**Срок сдачи:** 12 марта 2016, 23:59 <br\\>\n",
    "**Штраф за опоздание:** -0.5 за каждый день\n",
    "\n",
    "При отправлении ДЗ на почту указывайте фамилию в названии файла, а тему письма оформляйте в следующем виде:<br\\>\n",
    "** [minor-da-16] *{Фамилия}* *{Имя}* ДЗ*{Номер}* **<br\\>\n",
    "\n",
    "\n",
    "Сопровождайте ваш код изображеними, комментариями и выводами. <br\\>\n",
    "Иммейте ввиду, что на некоторые задачи нет единственного верного и полного ответа. Чем больше информации вы сможете извлечь, аргументированных выводов сформулировать, тем лучше.\n",
    "\n",
    "Используйте данный Ipython Notebook при оформлении домашнего задания.\n",
    "<hr\\>"
   ]
  },
  {
   "cell_type": "markdown",
   "metadata": {},
   "source": [
    "## 1. Теория веротяностей. Распределения"
   ]
  },
  {
   "cell_type": "markdown",
   "metadata": {},
   "source": [
    "В SciPy более 80 видов непрерывных и более 12 дискретных распределений, более 70 статистических функций"
   ]
  },
  {
   "cell_type": "code",
   "execution_count": 1,
   "metadata": {
    "collapsed": true
   },
   "outputs": [],
   "source": [
    "import scipy as sp\n",
    "import numpy as np\n",
    "import pandas as pd\n",
    "import matplotlib.pyplot as plt\n",
    "\n",
    "%matplotlib inline"
   ]
  },
  {
   "cell_type": "markdown",
   "metadata": {},
   "source": [
    "**Задача 1.** Сгенерируйте три распределения: гауссовское с мат. ожиданием 1 и дисперсией 4, хи-квадрат с $k = 3$ и дискртеное пуассоновское с $\\lambda = 10$.<br/> \n",
    "\n",
    "При генерации используйте 500 точек. Посчитайте для каждого из них обчный набор статистик: среднее, минимум, максимум, дисперсию, кривизну и смещенность."
   ]
  },
  {
   "cell_type": "code",
   "execution_count": 2,
   "metadata": {
    "collapsed": false
   },
   "outputs": [
    {
     "data": {
      "text/plain": [
       "array([  3.09879078e+00,   5.31491928e-01,   2.15493287e+00,\n",
       "        -1.12778806e+00,   1.11493850e+00,   2.71734617e+00,\n",
       "         1.87839478e+00,   6.61073418e-01,  -1.45496251e+00,\n",
       "         4.03905902e+00,  -6.24468366e-01,  -1.59645537e+00,\n",
       "         1.58371950e-01,  -1.33613405e+00,   8.17468796e-01,\n",
       "         3.89910442e+00,   7.64512284e-01,  -2.56492541e+00,\n",
       "         1.79777992e+00,   1.13508387e+00,  -1.37780967e+00,\n",
       "        -1.07293536e+00,   4.32258635e+00,   4.47323266e+00,\n",
       "         2.45620053e+00,  -1.63488632e+00,   1.32577899e+00,\n",
       "         9.59065093e-01,   9.03619252e-01,  -7.59839090e-01,\n",
       "        -1.24130786e+00,  -2.26484803e+00,   1.62814585e+00,\n",
       "         4.77030590e+00,  -9.10809542e-01,   1.13382190e+00,\n",
       "         2.79465311e+00,  -2.45861878e+00,   3.01136053e+00,\n",
       "         2.54692554e+00,   1.49700205e+00,  -1.10066173e+00,\n",
       "         4.21430520e+00,  -1.76333458e+00,   6.01941905e-01,\n",
       "         8.74385673e-01,   3.52803202e+00,   1.02930294e+00,\n",
       "         9.81388841e-01,   1.98207002e+00,   2.60774374e+00,\n",
       "         5.13979929e+00,   1.09410838e+00,  -9.98714039e-01,\n",
       "        -8.07490638e-02,   4.15030831e+00,   3.71539953e-01,\n",
       "         9.01590591e-01,   1.93791895e+00,  -2.59911380e+00,\n",
       "        -2.53697582e-01,   1.57177220e+00,   6.79086843e-01,\n",
       "         1.66932102e+00,   9.13783039e-01,  -2.45033596e+00,\n",
       "         6.33003194e-01,  -3.80978090e+00,   8.87496919e-01,\n",
       "        -8.15707143e-01,   4.89819172e-01,  -2.10763553e+00,\n",
       "        -1.68123625e+00,   2.19156747e+00,  -4.11346181e+00,\n",
       "        -7.59591056e-01,   1.00324851e+00,   5.13774935e+00,\n",
       "         1.69704260e+00,   1.98891968e-01,  -8.86143983e-01,\n",
       "         1.76209342e+00,  -2.49985919e+00,   2.28542147e+00,\n",
       "         3.20724956e-01,   4.37810512e+00,  -1.72399022e+00,\n",
       "        -9.97422092e-01,   1.00892825e+00,   3.14929137e+00,\n",
       "         3.35847452e+00,   1.43596103e+00,   2.15492125e+00,\n",
       "        -3.35917645e-03,  -2.77438780e-02,   1.46534611e+00,\n",
       "         2.88030386e+00,  -4.71732668e-01,   1.09393836e+00,\n",
       "         1.91780782e+00,   2.53494788e+00,   1.45321546e+00,\n",
       "         3.96436033e+00,   3.36522011e-01,   1.92196869e+00,\n",
       "        -2.93396528e-01,   4.33983522e+00,   3.68888285e+00,\n",
       "         1.75917461e+00,  -3.28546229e+00,   9.92562754e-01,\n",
       "        -1.25567274e+00,   2.01890387e+00,   7.60472570e-01,\n",
       "         1.32951952e+00,  -8.78859288e-01,  -6.72472806e-01,\n",
       "         5.38910599e+00,   1.75960185e+00,   3.41858045e+00,\n",
       "         4.82435327e+00,   3.58747507e+00,   7.49426799e-01,\n",
       "        -3.03982046e+00,   2.25241822e+00,   1.27842079e+00,\n",
       "         1.39612695e+00,   2.02930299e+00,   1.42948216e+00,\n",
       "         1.44130643e+00,  -1.68413249e+00,  -7.93388167e-01,\n",
       "         1.12521828e+00,   2.07674911e+00,  -2.97232703e+00,\n",
       "         1.24841598e+00,  -1.73417585e+00,   4.33426761e-01,\n",
       "         1.21192199e-01,   1.76772733e+00,   3.85064738e+00,\n",
       "        -2.01051300e+00,   2.12581285e+00,   2.91670138e+00,\n",
       "         9.30798074e-01,  -6.41990953e-01,  -1.11504097e+00,\n",
       "         8.88403915e-01,   6.99867233e-01,  -1.75524699e+00,\n",
       "         3.89040113e+00,   1.23529427e+00,  -3.44560076e-01,\n",
       "         1.84164700e+00,   2.21849264e+00,   2.89138573e+00,\n",
       "         3.64204363e-01,  -1.49870744e+00,   8.24304617e-01,\n",
       "         4.89940584e+00,  -1.54636773e+00,  -5.47176026e+00,\n",
       "        -1.37732607e+00,   2.98456733e+00,  -8.56912220e-02,\n",
       "        -1.72428088e+00,   1.11404052e+00,  -1.42356942e+00,\n",
       "         3.40239880e+00,   1.15932649e+00,   5.24022632e+00,\n",
       "         1.35630865e+00,   2.90572626e+00,   8.62734897e-01,\n",
       "        -8.31035870e-01,  -4.21118463e-01,   6.10660366e+00,\n",
       "         1.31972181e-01,   4.43610833e+00,   3.82181782e+00,\n",
       "         2.76292790e+00,   8.11075810e-01,   6.98671577e-03,\n",
       "         3.07282009e+00,   2.77010694e+00,   1.87302501e+00,\n",
       "        -4.24261411e-01,  -2.91114519e+00,   2.71325534e+00,\n",
       "        -9.12526211e-01,   1.98847798e+00,   4.02586423e+00,\n",
       "         3.30148931e+00,   7.14160708e-01,   2.45161855e+00,\n",
       "         1.77026044e+00,   1.45260956e+00,   3.53242867e+00,\n",
       "         4.75702313e+00,   1.18081950e+00,   4.01272457e+00,\n",
       "         9.36577422e-01,   1.07949895e+00,  -1.61743910e+00,\n",
       "         3.65193135e+00,   1.44105728e+00,  -3.84981958e-01,\n",
       "         4.37120341e+00,   3.06945777e+00,  -2.54129574e+00,\n",
       "        -6.44374672e-01,  -9.17581192e-01,   1.92602230e+00,\n",
       "         1.73499002e+00,  -1.70063506e+00,   5.68355138e-01,\n",
       "         1.60480052e+00,  -3.09048327e-01,  -1.36703209e+00,\n",
       "         8.89846850e-01,   7.33527024e-01,   4.50194769e+00,\n",
       "         2.48894887e+00,   6.99559025e-01,  -6.34052347e-01,\n",
       "         7.01520908e-01,   1.93732881e+00,   1.60605627e+00,\n",
       "        -7.06923547e-01,   6.13979431e-01,   2.34909737e+00,\n",
       "         1.33679461e+00,   2.63215368e+00,  -1.75653178e+00,\n",
       "         5.09618540e+00,   1.97800485e+00,   2.95714396e+00,\n",
       "         1.32807080e-01,  -1.87390948e+00,  -2.45785472e-01,\n",
       "         1.59067045e+00,  -7.48562861e-01,  -1.56967166e+00,\n",
       "        -3.37997700e+00,   5.73017601e-01,  -5.16091849e-01,\n",
       "        -3.06498653e-01,   2.20289343e+00,  -5.51652930e-01,\n",
       "         6.72113005e-01,   6.02077693e-01,   1.53613731e+00,\n",
       "         1.07895300e+00,   3.73812384e+00,  -2.45483850e+00,\n",
       "         6.58916238e-01,   1.80293011e+00,   1.22556929e+00,\n",
       "         1.41157311e+00,   3.02244318e+00,   2.16847752e+00,\n",
       "        -1.67129620e-01,  -1.12350984e+00,   1.44386749e+00,\n",
       "         6.14584259e-01,   8.47327232e-01,  -5.04001861e-01,\n",
       "         3.52208712e-01,   8.06573093e-01,   2.45815824e+00,\n",
       "        -2.78834527e+00,   7.58152173e-03,  -6.39044820e-01,\n",
       "         7.56757894e-01,  -3.03053714e-01,   2.12362826e+00,\n",
       "        -2.12156382e+00,  -1.39470501e-01,   2.05183593e+00,\n",
       "         1.75451850e+00,   3.78076230e+00,   8.41197851e-01,\n",
       "        -2.89018602e+00,  -2.23112959e+00,  -2.96477235e+00,\n",
       "        -1.00883668e+00,   3.73434741e-01,   1.11277784e+00,\n",
       "        -3.16474386e-02,   8.26640254e-01,   3.68239976e+00,\n",
       "         7.35347375e-01,   2.16921553e+00,   1.49602923e+00,\n",
       "        -1.04048429e+00,   3.62069899e+00,  -2.42450175e+00,\n",
       "        -1.47023770e-01,   1.17524182e+00,   3.02429101e+00,\n",
       "        -4.66095848e-01,   2.08665069e+00,   1.21327032e+00,\n",
       "         2.45066288e+00,   3.17340450e+00,   1.28160639e+00,\n",
       "         4.49761516e-01,   7.58482099e-01,   3.34090365e+00,\n",
       "        -2.48999826e-01,   4.99640668e-01,   3.12118600e+00,\n",
       "         1.41335421e+00,   1.00348230e+00,   1.48302628e+00,\n",
       "         1.04198444e+00,  -2.90298784e-01,  -2.63343724e+00,\n",
       "         2.45527489e+00,   7.59883845e-01,  -2.08982424e+00,\n",
       "        -1.92479254e+00,  -1.65501306e+00,   4.79850111e+00,\n",
       "        -2.85443480e+00,  -1.56565284e-01,   2.33505312e-01,\n",
       "         3.47956359e+00,   3.85746265e+00,  -5.44140771e-01,\n",
       "        -1.79019623e+00,   1.84450843e+00,   2.02339160e+00,\n",
       "         2.56047895e+00,  -1.20110013e+00,  -2.69770607e+00,\n",
       "        -1.66911875e+00,  -1.43937649e+00,   4.46466745e-01,\n",
       "         1.90594425e-01,  -2.81177411e-01,   1.71542685e+00,\n",
       "         2.50073806e+00,  -2.13110328e+00,   5.45485917e+00,\n",
       "        -1.51198832e+00,  -1.48769406e+00,   1.70979924e+00,\n",
       "         1.89040892e+00,   9.97664891e-02,   1.62294659e+00,\n",
       "         2.43898812e+00,   1.67493972e+00,  -3.37718355e-01,\n",
       "         2.80029975e+00,  -2.11190049e+00,   4.49776827e-01,\n",
       "         1.92827103e+00,   1.50876878e+00,  -1.05378558e+00,\n",
       "        -1.40226225e+00,   4.54885037e-01,  -9.46065838e-01,\n",
       "         1.15595125e+00,  -1.98429108e+00,   1.12786086e+00,\n",
       "         2.18666385e+00,   2.11195317e-01,  -1.19033931e+00,\n",
       "         1.71849287e+00,   5.64912658e-03,   4.20704992e+00,\n",
       "         1.97923133e+00,  -4.60382483e-01,   1.87822635e+00,\n",
       "         2.38520207e+00,   4.13250915e-01,  -6.39020413e-01,\n",
       "         1.48991172e+00,   2.12688634e+00,   3.47730047e+00,\n",
       "        -2.51063225e-01,  -4.25310218e-01,  -2.15437152e+00,\n",
       "        -3.19198190e+00,  -1.23799710e-02,   5.13710184e-01,\n",
       "         5.62058761e+00,   3.63686413e+00,   3.18867836e-01,\n",
       "         2.06598894e-02,   2.36237451e+00,   4.25568860e-01,\n",
       "        -4.95549073e-01,   3.57779982e+00,   1.29626340e+00,\n",
       "         6.95647889e-01,   1.60218244e-01,  -1.56717989e+00,\n",
       "         1.97291516e+00,  -4.75530734e-01,   4.16182454e+00,\n",
       "         2.68424623e-01,   4.39108387e-01,   4.52174108e+00,\n",
       "        -1.08965659e+00,   2.07358068e+00,  -1.95271689e+00,\n",
       "         1.63921748e-01,  -4.01565377e-03,   8.31874141e-01,\n",
       "        -1.72362514e+00,   3.71331439e-01,   7.23896228e-01,\n",
       "         2.57893745e+00,   9.09425244e-01,   6.88762033e+00,\n",
       "         1.84055309e+00,  -4.41522199e-01,   2.51284625e+00,\n",
       "        -1.27668874e+00,   2.77742919e+00,   4.68401044e-01,\n",
       "        -7.11827731e-02,   7.35942790e-01,   5.26140401e+00,\n",
       "        -1.05525188e-01,   1.57838175e+00,   4.82522036e+00,\n",
       "         3.91160171e+00,   2.25081427e+00,   2.14524622e+00,\n",
       "         4.43249162e+00,  -1.67133042e+00,  -1.43016148e-01,\n",
       "         1.29429953e+00,   2.72176954e+00,   2.39809787e+00,\n",
       "         3.41771770e-02,   2.45641995e+00,   3.34698732e+00,\n",
       "         1.19945716e+00,   2.45007615e+00,   1.63613746e+00,\n",
       "         2.78977764e+00,  -1.58271662e-01,   1.36330275e+00,\n",
       "         4.24408538e+00,  -4.30659486e-01,  -1.13139865e+00,\n",
       "        -6.87810471e-01,  -1.13477174e+00,   3.76021204e+00,\n",
       "         2.25417905e+00,   4.05608766e-01,  -4.90763465e-01,\n",
       "        -1.39826103e+00,   5.43035468e-01,   4.53089371e+00,\n",
       "        -4.94063195e-01,  -1.12229056e+00,  -1.49475581e+00,\n",
       "        -4.15159955e-01,  -2.42161407e+00,   8.01583250e-01,\n",
       "         3.11178146e+00,   3.72773357e-01,  -1.21175981e+00,\n",
       "        -1.22016928e+00,   4.05660554e+00,   1.23904191e+00,\n",
       "         1.46937359e+00,   1.68784289e+00,  -6.04002288e-01,\n",
       "         4.01204506e+00,  -1.72606487e+00,   2.37925232e+00,\n",
       "         1.37527365e+00,   2.44919853e+00,  -1.90306478e-01,\n",
       "        -2.31290934e+00,   2.13747798e+00,  -2.81982223e+00,\n",
       "         2.13279884e+00,  -1.17848402e+00,   1.82301350e+00,\n",
       "        -1.16156147e+00,   1.74751640e+00,   2.83257932e+00,\n",
       "        -2.92216898e-01,   5.73460751e-02,  -8.18246137e-02,\n",
       "         3.63971673e+00,  -2.59994032e-01,   1.89298189e+00,\n",
       "         1.75593432e+00,   3.28475901e+00,  -3.05102056e+00,\n",
       "         4.08576829e-01,   4.05241924e+00])"
      ]
     },
     "execution_count": 2,
     "metadata": {},
     "output_type": "execute_result"
    }
   ],
   "source": [
    "from scipy.stats import norm\n",
    "gauss = norm.rvs(loc = 1, scale =  2, size  = 500)\n",
    "gauss"
   ]
  },
  {
   "cell_type": "code",
   "execution_count": 3,
   "metadata": {
    "collapsed": false
   },
   "outputs": [
    {
     "name": "stdout",
     "output_type": "stream",
     "text": [
      "GAUSS\n",
      "mean = 0.900453386787\n",
      "minimum = -5.47176026318\n",
      "maximum = 6.88762032814\n",
      "variation = 3.98778376261\n",
      "skewness = 0.059954719776503976\n",
      "kurtosis = -0.2631188702195493\n"
     ]
    }
   ],
   "source": [
    "print('GAUSS')\n",
    "print('mean =' ,np.mean(gauss))\n",
    "print('minimum =',np.min(gauss))\n",
    "print('maximum =',np.max(gauss))\n",
    "print('variation =', np.var(gauss))\n",
    "print('skewness =', sp.stats.skew(gauss))\n",
    "print('kurtosis =',sp.stats.kurtosis(gauss))"
   ]
  },
  {
   "cell_type": "code",
   "execution_count": 4,
   "metadata": {
    "collapsed": false
   },
   "outputs": [
    {
     "data": {
      "text/plain": [
       "array([  3.09422361,   0.07954452,   3.35299071,   1.56278359,\n",
       "         1.2598331 ,   4.41601419,   0.49574166,   4.89374959,\n",
       "         4.49473193,   1.08669076,   3.74252358,   9.9762002 ,\n",
       "         7.41823274,   6.35517998,   5.29956345,   3.13630235,\n",
       "         1.47747677,   0.70639503,   0.19740224,   3.33598457,\n",
       "         2.94933452,   2.86612295,   5.01694514,   6.4368286 ,\n",
       "         2.32673085,   0.28950169,   4.25229939,   0.73333905,\n",
       "         0.17383127,   0.95374413,   7.10067511,   1.44325096,\n",
       "         8.46453708,   0.78381673,   1.14209761,   1.72561447,\n",
       "         0.47617888,   0.36253263,   3.06074801,   9.563033  ,\n",
       "         7.6645742 ,   0.19878376,   3.27209174,   6.59182108,\n",
       "         5.69060261,   2.34000804,   1.57388268,   0.85968005,\n",
       "         2.17030957,   0.40069804,   1.56150634,   3.25433541,\n",
       "         1.12938277,   0.83602393,   1.26091743,   1.34445197,\n",
       "         6.19289975,   3.13742382,   0.34405902,   5.26033356,\n",
       "         1.62017537,   4.08519281,   1.94296877,   1.55450552,\n",
       "         0.74854312,   5.68747257,   1.31543511,   3.09504496,\n",
       "         2.4171183 ,   4.27965752,   1.36548105,   2.8205867 ,\n",
       "         4.66448914,   4.55934263,  12.14469322,   4.30031959,\n",
       "         2.29412244,   5.06940193,   3.13172805,   1.72776527,\n",
       "         0.93199861,   5.01683568,   1.43851828,   4.17614953,\n",
       "         0.4739412 ,   2.61823947,   1.83124957,   1.45444672,\n",
       "         2.60507522,   3.30995812,   1.79009351,   2.93463223,\n",
       "         4.19884027,   0.88183192,   1.80947491,   0.30248286,\n",
       "         3.70549473,  10.0390104 ,   6.04434924,   0.49623916,\n",
       "         2.80187674,   5.27121395,   0.76575079,   1.58552603,\n",
       "         1.81676725,   3.7689549 ,   8.05102581,   0.57794282,\n",
       "         1.14097078,   2.16379947,   3.3192768 ,   5.11865675,\n",
       "         8.63930953,   0.65955609,   3.35499974,   4.02909571,\n",
       "         1.5028274 ,   2.55772141,   0.0543125 ,   2.73005273,\n",
       "         5.0439918 ,   2.67345896,   2.25111266,   3.30059493,\n",
       "         2.20162774,   1.49839641,   2.73786073,   2.62652317,\n",
       "         2.49315855,   4.40050179,   6.77402728,   5.68196664,\n",
       "         3.4901309 ,   0.91445546,   1.42240993,   6.52831636,\n",
       "         3.90348458,   1.85280468,   1.12519681,   2.22719329,\n",
       "         4.12622333,   1.93108621,   4.14375748,   8.04311127,\n",
       "         0.63085833,   0.8195481 ,   7.30795224,   2.43362329,\n",
       "         1.25383732,   4.05405501,   2.07549398,   3.7082183 ,\n",
       "         0.92363423,   0.8179621 ,   2.61821965,   3.33977128,\n",
       "         1.14322093,   0.67856032,   0.69679457,   0.36974108,\n",
       "         0.1227332 ,   5.61577903,   6.04859006,   1.92687685,\n",
       "         4.61078576,   2.73466686,   3.76479618,   2.84737335,\n",
       "         4.05037581,   1.07661382,   0.20633779,   8.79167322,\n",
       "         1.75197951,   3.33482257,   0.4390768 ,   3.48789188,\n",
       "         0.96604987,   3.32986213,   0.71841294,   0.27159382,\n",
       "         0.54352142,   2.62581072,   3.9432263 ,   4.06276789,\n",
       "         2.66207897,   1.2326081 ,   0.51588329,   2.70747531,\n",
       "         2.27708761,   2.54178564,   2.38790785,   1.7525974 ,\n",
       "         1.69909443,   7.94855027,   0.92397757,   1.23429013,\n",
       "         2.13521873,   2.79350731,   2.1855672 ,   1.4243093 ,\n",
       "         0.92180045,   3.51110896,   2.20048131,   5.16542801,\n",
       "         3.62096084,   7.57619179,   2.69140792,   1.21102505,\n",
       "         1.84944951,   5.40571857,   2.27453309,  11.60499665,\n",
       "         1.44353799,   6.76486159,   0.20746766,   1.23868842,\n",
       "         1.32397072,   0.6938268 ,   4.41665062,   0.32782815,\n",
       "         1.93292406,   1.2729423 ,   6.11347513,   7.01220953,\n",
       "         0.85765234,   4.92122924,   1.92009499,   0.68086853,\n",
       "         4.07069131,   3.36533865,   0.6976512 ,   5.39845767,\n",
       "         0.42722019,   2.75187414,   6.38915811,   0.83703211,\n",
       "         2.25460069,   1.09896819,   1.47564298,   5.71744597,\n",
       "         3.69541507,   0.21527919,   4.87269316,   3.2237175 ,\n",
       "         1.54082093,   2.04087303,   1.18238836,   2.32215055,\n",
       "         5.01865725,   3.55381012,   7.20374378,   0.10343182,\n",
       "         0.83935415,   4.18687061,   1.13969731,   4.198516  ,\n",
       "         0.91910441,   3.03079673,   4.76904363,   0.89809877,\n",
       "         0.99903266,   3.01758242,   0.73206673,   2.96681854,\n",
       "         1.55782737,   3.87674789,   4.79000527,   3.16795854,\n",
       "         1.80782984,   3.03094954,   7.03874401,   3.30577448,\n",
       "         0.96295858,   3.70642512,   0.91597412,   4.16699767,\n",
       "         0.96631747,   0.98028991,   1.96284593,   5.99980019,\n",
       "         0.32537996,  11.97810979,   4.35517529,   2.50135937,\n",
       "         3.14708607,   9.75967319,   0.87481724,   0.58144181,\n",
       "         1.82242745,   2.11850808,   4.83908002,   1.9806742 ,\n",
       "         0.8994402 ,   3.42349744,   1.92457457,   7.04152836,\n",
       "         3.6072071 ,   3.64381109,   7.02798521,   2.03515437,\n",
       "         0.20621119,   2.43636487,   1.59040855,   0.27415652,\n",
       "         5.4002616 ,   1.98733986,   4.39316491,   6.55440363,\n",
       "         1.77341876,   8.94648062,   1.78740891,   3.28241236,\n",
       "         8.99788472,   2.47226191,   0.58649942,   4.11687621,\n",
       "         0.21988463,   0.985307  ,   1.32547227,   2.94741443,\n",
       "         5.2097373 ,   3.11767643,   3.78857363,   6.10275486,\n",
       "         6.98617182,   0.26618309,   0.76275989,   0.29490057,\n",
       "         3.46488656,   1.23258808,   1.59880753,   4.00131832,\n",
       "         0.89477376,   1.48879742,   1.003438  ,   1.19229526,\n",
       "         0.20691842,   2.06092032,   1.95895951,   0.86020539,\n",
       "         0.62545013,   3.16954144,   0.95294511,   2.60673546,\n",
       "         5.80561522,   6.18618513,   4.56627871,   1.99131568,\n",
       "         6.79224401,   4.31229819,   6.70214541,   5.74873748,\n",
       "         6.9042028 ,   4.30219002,   1.30720861,   1.20746397,\n",
       "         3.31213812,   2.05282361,   0.62664252,   1.50059062,\n",
       "         4.34474087,   1.61865762,   2.13170824,   0.4058454 ,\n",
       "         0.03698806,   0.65050527,  10.01447447,   7.87073021,\n",
       "         4.14087159,  10.0429956 ,   7.02778164,   1.25103995,\n",
       "         2.6222289 ,   0.20869026,   2.01837683,   2.53380178,\n",
       "         3.29455546,   4.54620323,   1.21659452,   5.53149953,\n",
       "         8.85738144,   7.31663857,   4.61997343,   3.77203518,\n",
       "         2.7358539 ,   1.66484897,   4.58451022,   0.31888285,\n",
       "         0.50450503,   5.72613473,   3.22703006,   2.5238832 ,\n",
       "         1.88137979,   0.23437482,   5.40023042,   3.4753378 ,\n",
       "         4.67600882,   1.26596373,   5.29040646,   4.40424977,\n",
       "         1.839412  ,   7.16392617,   0.29525283,   1.86035519,\n",
       "         3.06405417,   0.73671132,   5.55846914,   3.39804738,\n",
       "         0.49078226,   2.3956119 ,   2.51826671,   6.64355422,\n",
       "         3.58711419,   2.41617833,   3.2660533 ,   3.07748605,\n",
       "         4.13682071,   4.85436025,   0.87281928,   1.55217238,\n",
       "         5.54411416,   3.40513792,   3.15694382,   1.04235932,\n",
       "         4.0288337 ,   1.4481385 ,   3.18489261,   1.38847712,\n",
       "         2.62117985,   1.3873595 ,   7.32073556,   2.27542822,\n",
       "         0.96590691,   1.00396911,   4.74541156,   1.02367945,\n",
       "         2.09695702,   5.03424046,   0.85633007,   0.19275208,\n",
       "         0.34748975,   1.45255757,   4.2491756 ,   3.27351395,\n",
       "         3.39657724,   0.68366271,   0.82959082,   4.93482353,\n",
       "         0.45958103,   1.23654489,   0.85757679,   0.77474032,\n",
       "         0.81372107,   1.31029732,   1.13484313,   4.01872303,\n",
       "         0.83101807,   2.89204135,   0.4758093 ,   0.48986652,\n",
       "         2.15778384,   0.58114521,   1.64223911,   3.01726379,\n",
       "         0.31905734,   2.85811301,   1.49052954,   1.38337083,\n",
       "         0.12826226,   0.43394704,   1.72417881,   7.08876139,\n",
       "         2.95031724,   1.11300024,   5.55662615,   5.70531361,\n",
       "         3.72492812,   0.86930808,   7.39604945,   4.62464779,\n",
       "         8.46405366,   2.71015839,   4.13245587,   1.28686469,\n",
       "         1.29113422,   6.09086613,   1.68647768,   3.02549731,\n",
       "         4.10534618,   1.76430894,   1.86943298,   0.15422682,\n",
       "         3.17664554,   1.75499729,   1.40623393,   6.01799459,\n",
       "         3.00875677,   0.5568477 ,   2.61139949,   5.01278903])"
      ]
     },
     "execution_count": 4,
     "metadata": {},
     "output_type": "execute_result"
    }
   ],
   "source": [
    "from scipy.stats import chi2\n",
    "chisquare = chi2.rvs(df = 3, size = 500)\n",
    "chisquare"
   ]
  },
  {
   "cell_type": "code",
   "execution_count": 5,
   "metadata": {
    "collapsed": false
   },
   "outputs": [
    {
     "name": "stdout",
     "output_type": "stream",
     "text": [
      "CHISQUARE\n",
      "mean = 2.95203198589\n",
      "minimum = 0.0369880639162\n",
      "maximum = 12.1446932226\n",
      "variation = 5.26666072404\n",
      "skewness = 1.1523791377989667\n",
      "kurtosis = 1.2192286182691277\n"
     ]
    }
   ],
   "source": [
    "print('CHISQUARE')\n",
    "print('mean =' ,np.mean(chisquare))\n",
    "print('minimum =',np.min(chisquare))\n",
    "print('maximum =',np.max(chisquare))\n",
    "print('variation =', np.var(chisquare))\n",
    "print('skewness =', sp.stats.skew(chisquare))\n",
    "print('kurtosis =',sp.stats.kurtosis(chisquare))"
   ]
  },
  {
   "cell_type": "code",
   "execution_count": 6,
   "metadata": {
    "collapsed": false
   },
   "outputs": [
    {
     "data": {
      "text/plain": [
       "array([ 7,  4, 10,  8, 11, 13,  9,  5, 12, 10, 11,  6,  5, 12,  7, 13, 14,\n",
       "       17, 11,  8,  8,  9,  4, 14, 16, 15,  8, 11, 12,  7,  5,  9, 12, 10,\n",
       "       10, 13,  9, 13,  9,  7,  9,  9, 13, 12,  9, 12,  9, 12, 10, 12, 11,\n",
       "        5, 10, 16,  9, 10,  8,  6,  7, 10,  9, 17,  9,  9,  6, 10, 14, 11,\n",
       "        9,  8, 12, 11, 11,  9, 12,  8, 17,  7, 11, 10,  9,  7, 14,  6, 11,\n",
       "        9,  7, 16, 15, 13,  8,  5, 11, 10, 10,  9,  9,  6, 13, 12,  7,  6,\n",
       "        7, 10,  8, 13,  8,  5, 12, 13, 12, 11,  9,  9,  6, 11,  9,  8, 16,\n",
       "        9, 10, 13, 11,  5, 10, 12, 12,  3,  7,  9,  9, 13,  9,  9,  8,  9,\n",
       "       16, 11,  8, 12,  9, 11, 10, 12, 10, 14,  7, 10, 11, 17, 11,  8, 12,\n",
       "       13, 10, 14, 12,  7, 14,  7,  7,  7, 10, 10,  5, 14,  5,  9,  9,  4,\n",
       "       14, 14,  9, 11, 10,  7, 12, 10, 18, 13, 10,  9, 13, 16, 15, 12, 14,\n",
       "       10, 14, 10, 10,  8, 12, 17, 13, 16, 13,  8,  8,  7, 15, 12,  9, 13,\n",
       "        6,  9,  9, 11,  4,  6, 14, 14, 16, 10, 14, 15,  6,  9,  8, 10, 14,\n",
       "       13, 12, 11, 11,  6,  8,  9, 10,  9, 12,  6, 12, 10, 15,  9,  7, 13,\n",
       "        7,  6, 10, 12, 12,  7,  7,  6,  8,  9, 12,  6, 14, 17,  8,  5,  9,\n",
       "        9,  9, 12, 11, 11, 14, 15,  5,  8, 11, 12,  8, 10, 11, 12, 11, 10,\n",
       "       10, 10, 11,  9, 11, 10, 12,  5, 12, 10, 13, 10,  8, 14,  2,  8, 14,\n",
       "        8, 17,  7,  7, 12, 11, 10,  8, 10, 13, 13,  6,  6, 14, 17,  9, 10,\n",
       "        4, 13, 11, 11,  7,  8, 12,  8,  8,  6, 11, 12, 11, 13, 13,  8, 15,\n",
       "        3, 10, 12, 17,  8,  6,  8,  6,  6, 13, 11,  6, 12, 13, 10,  5,  6,\n",
       "       14,  7, 11, 11,  8, 11,  4,  8, 14,  4, 12, 10,  5,  8, 14, 11, 12,\n",
       "        7, 12, 15, 12, 16,  9, 14,  8, 19, 10,  8, 12, 11, 15,  6, 10, 10,\n",
       "        6,  8, 10,  6, 10,  4,  9,  8, 13,  8, 15, 10,  5,  9,  9, 12,  4,\n",
       "       12, 10,  6, 11,  4,  8,  3,  7,  7, 13,  8,  8,  7,  8,  6, 12, 16,\n",
       "        6, 14,  7,  8, 13, 12, 13,  8,  6, 10, 11, 13, 13, 12,  8, 14, 10,\n",
       "       13,  7,  8,  8, 15, 11, 11, 12,  9, 12,  9,  7,  8,  9,  6, 12,  8,\n",
       "       11,  8,  9,  7, 13, 10, 13, 11,  6, 13, 11, 11, 14, 13, 16,  9, 15,\n",
       "        8,  5, 10,  8, 10, 13, 11, 17,  5,  9,  9, 11,  9,  7,  9,  9, 10,\n",
       "       11, 11, 11, 15, 11, 13,  7,  9,  6,  7, 12, 12, 13,  9, 12, 13,  7,\n",
       "        5, 12, 12, 10, 12, 11,  5])"
      ]
     },
     "execution_count": 6,
     "metadata": {},
     "output_type": "execute_result"
    }
   ],
   "source": [
    "from scipy.stats import poisson\n",
    "poiss = poisson.rvs(mu = 10, size=500)\n",
    "poiss"
   ]
  },
  {
   "cell_type": "code",
   "execution_count": 7,
   "metadata": {
    "collapsed": false
   },
   "outputs": [
    {
     "name": "stdout",
     "output_type": "stream",
     "text": [
      "POISSON\n",
      "mean = 10.06\n",
      "minimum = 2\n",
      "maximum = 19\n",
      "variation = 9.3804\n",
      "skewness = 0.1170671700081243\n",
      "kurtosis = -0.33332085764013675\n"
     ]
    }
   ],
   "source": [
    "print('POISSON')\n",
    "print('mean =' ,np.mean(poiss))\n",
    "print('minimum =',np.min(poiss))\n",
    "print('maximum =',np.max(poiss))\n",
    "print('variation =', np.var(poiss))\n",
    "print('skewness =', sp.stats.skew(poiss))\n",
    "print('kurtosis =',sp.stats.kurtosis(poiss))"
   ]
  },
  {
   "cell_type": "markdown",
   "metadata": {},
   "source": [
    "**Задача 2.** Найрисуйте функцию (cdf) и плотность (pdf) распределений. На графиках pdf отметьте среднее значение и медиану."
   ]
  },
  {
   "cell_type": "code",
   "execution_count": 8,
   "metadata": {
    "collapsed": false
   },
   "outputs": [
    {
     "data": {
      "text/plain": [
       "<matplotlib.text.Text at 0x7a19710>"
      ]
     },
     "execution_count": 8,
     "metadata": {},
     "output_type": "execute_result"
    },
    {
     "data": {
      "image/png": "[encoded data removed]",
      "text/plain": [
       "<matplotlib.figure.Figure at 0x79c2e90>"
      ]
     },
     "metadata": {},
     "output_type": "display_data"
    }
   ],
   "source": [
    "a = np.linspace(sp.stats.norm.ppf(0.01,1, 2), sp.stats.norm.ppf(0.99, 1, 2), 500) \n",
    "mm1= [np.mean(gauss), np.median(gauss)] # красная линия - это медиана распределения, а чёрная - это среднеее\n",
    "fig, ax = plt.subplots(1,2) \n",
    "fig.set_size_inches(22,10) \n",
    "ax[0].plot(a, norm.pdf(a,1,2), 'b-', lw=2) \n",
    "ax[0].hist(gauss, color='lightgreen', normed=True, alpha=0.9) \n",
    "ax[0].axvline(mm1[0], color='black', linestyle='--', lw=2) \n",
    "ax[0].axvline(mm1[1], color='red', linestyle='--', lw=2)\n",
    "ax[1].plot(a, norm.cdf(a,1,2), 'b-', lw=2)\n",
    "ax[0].set_title('pdf Gauss', size = 20)\n",
    "ax[1].set_title('cdf Gauss', size = 20)"
   ]
  },
  {
   "cell_type": "code",
   "execution_count": 9,
   "metadata": {
    "collapsed": false
   },
   "outputs": [
    {
     "data": {
      "text/plain": [
       "<matplotlib.text.Text at 0x7afe790>"
      ]
     },
     "execution_count": 9,
     "metadata": {},
     "output_type": "execute_result"
    },
    {
     "data": {
      "image/png": "[encoded data removed]",
      "text/plain": [
       "<matplotlib.figure.Figure at 0x79c27d0>"
      ]
     },
     "metadata": {},
     "output_type": "display_data"
    }
   ],
   "source": [
    "b = np.linspace(sp.stats.chi2.ppf(q = 0.01, df = 3), sp.stats.chi2.ppf(q = 0.99, df = 3), 500) \n",
    "mm2= [np.mean(chisquare), np.median(chisquare)] \n",
    "fig, ax = plt.subplots(1,2) \n",
    "fig.set_size_inches(22,10) \n",
    "ax[0].plot(b, chi2.pdf(x = b, df = 3), 'b-', lw=2) \n",
    "ax[0].hist(chisquare, color='lightgreen', normed=True, alpha=0.9) \n",
    "ax[0].axvline(mm2[0], color='black', linestyle='--', lw=2) \n",
    "ax[0].axvline(mm2[1], color='red', linestyle='--', lw=2)\n",
    "ax[1].plot(b, chi2.cdf(x = b, df = 3), 'b-', lw=2)\n",
    "ax[0].set_title('pdf Chisquare', size = 20)\n",
    "ax[1].set_title('cdf Chisquare', size = 20)"
   ]
  },
  {
   "cell_type": "code",
   "execution_count": 10,
   "metadata": {
    "collapsed": false
   },
   "outputs": [
    {
     "data": {
      "text/plain": [
       "<matplotlib.text.Text at 0x83b0ab0>"
      ]
     },
     "execution_count": 10,
     "metadata": {},
     "output_type": "execute_result"
    },
    {
     "data": {
      "image/png": "[encoded data removed]",
      "text/plain": [
       "<matplotlib.figure.Figure at 0x79c2370>"
      ]
     },
     "metadata": {},
     "output_type": "display_data"
    }
   ],
   "source": [
    "c = np.arange(sp.stats.poisson.ppf(q = 0.01, mu = 10), sp.stats.poisson.ppf(q = 0.99, mu = 10)) \n",
    "mm3= [np.mean(poiss), np.median(poiss)] # красная линия - это медиана распределения, а чёрная - это среднее\n",
    "fig, ax = plt.subplots(1,2) \n",
    "fig.set_size_inches(22,10) \n",
    "ax[0].plot(c, sp.stats.poisson.pmf(c, 10), 'bo', ms = 20) \n",
    "ax[0].hist(poiss, color='lightgreen', normed=True, alpha=0.9) \n",
    "ax[0].axvline(mm3[0], color='black', linestyle='--', lw=2) \n",
    "ax[0].axvline(mm3[1], color='red', linestyle='--', lw=2)\n",
    "ax[1].plot(c, poisson.cdf(c, 10), 'bo', ms=20)\n",
    "ax[0].set_title('pmf Poisson', size = 20)\n",
    "ax[1].set_title('cdf Poisson', size = 20)"
   ]
  },
  {
   "cell_type": "markdown",
   "metadata": {},
   "source": [
    "**Задача 3.** Выведите описательные статистики распределений с помощью `scipy.stats.describe`. "
   ]
  },
  {
   "cell_type": "code",
   "execution_count": 11,
   "metadata": {
    "collapsed": false
   },
   "outputs": [
    {
     "name": "stdout",
     "output_type": "stream",
     "text": [
      "Статистика для нормального распределения\n",
      "\n",
      "DescribeResult(nobs=500, minmax=(-5.4717602631845814, 6.8876203281404758), mean=0.90045338678655162, variance=3.995775313237707, skewness=0.059954719776503976, kurtosis=-0.2631188702195493)\n",
      "\n",
      "Статистика для распределения хи-квадрат\n",
      "\n",
      "DescribeResult(nobs=500, minmax=(0.036988063916190618, 12.144693222620049), mean=2.9520319858860193, variance=5.2772151543528771, skewness=1.1523791377989667, kurtosis=1.2192286182691277)\n",
      "\n",
      "Статистика для распределения Пуассона\n",
      "\n",
      "DescribeResult(nobs=500, minmax=(2, 19), mean=10.06, variance=9.3991983967935848, skewness=0.1170671700081243, kurtosis=-0.33332085764013675)\n"
     ]
    }
   ],
   "source": [
    "print('Статистика для нормального распределения')\n",
    "print()\n",
    "print(sp.stats.describe(gauss))\n",
    "print()\n",
    "print('Статистика для распределения хи-квадрат')\n",
    "print()\n",
    "print(sp.stats.describe(chisquare))\n",
    "print()\n",
    "print('Статистика для распределения Пуассона')\n",
    "print()\n",
    "print(sp.stats.describe(poiss))"
   ]
  },
  {
   "cell_type": "markdown",
   "metadata": {},
   "source": [
    "## 2. Теория вероятностей. Корреляция и метод максимального правдоподобия"
   ]
  },
  {
   "cell_type": "markdown",
   "metadata": {},
   "source": [
    "Корреляции с помощью ивестных вам пакетов можно посчитать несколькими способами: pandas.DataFrame.corr и numpy.correlate, numpy.corrcoef и scipy.stats.pearsonr для корреляционного коэффициента Пирсона, scipy.stats.spearmanr для корреляционного коэффициента Спирмена."
   ]
  },
  {
   "cell_type": "markdown",
   "metadata": {},
   "source": [
    "Объясните [разницу](http://support.minitab.com/en-us/minitab-express/1/help-and-how-to/modeling-statistics/regression/supporting-topics/basics/a-comparison-of-the-pearson-and-spearman-correlation-methods/) между коэффициентами корреляции Спирмена и Пирсона."
   ]
  },
  {
   "cell_type": "markdown",
   "metadata": {
    "collapsed": true
   },
   "source": [
    "# Объяснение\n",
    "Когда одна величина растёт, а другая также растёт вместе с ней в постоянно одинаковом количестве, оба коэффициента корреляции покажут единицу, однако когда изменения второй величины будут совпадать с изменениями первой по направлению, но не в постоянном количестве, коэффициент Пирсона покажет корреляцию меньше 1, в то время как коэффициент Спирмена останется прежним, равным 1.\n",
    "Аналогично выглядит ситуация для обратной зависимости двух величин. Если величины обратно связаны, но с увеличением первой вторая уменьшается не на одну и ту же величину, Коэффициент Пирсона покажет величину меньше, чем -1 по модулю, а Спирмена  - равный -1.\n",
    "\n",
    "Таким образом, метод Пирсона измеряет линейную зависимость, учитывает величину взаимозависимых изменений и показывает точность описания связи двух величин прямой, а метод Спирмена используется только для измерения монотонных зависимостей, поскольку он показывает лишь направление, порядок совместных изменений, но не их величину."
   ]
  },
  {
   "cell_type": "markdown",
   "metadata": {},
   "source": [
    "В данных из файла [beauty.csv](https://www.dropbox.com/s/xio77e9p0oe1wqw/beauty.csv?dl=0) для каждого опрошенного имеется следующая информация: заработная плата за час работы, опыт работы, образование, внешняя привлекательность (в баллах от 1 до 5), бинарные признаки: пол, семейное положение, состояние здоровья (хорошее/плохое), членство в профсоюзе, цвет кожи (белый/чёрный), занятость в сфере обслуживания (да/нет)."
   ]
  },
  {
   "cell_type": "markdown",
   "metadata": {},
   "source": [
    "**Задание 1.** Найдите 3 пары признаков с наибольшей корреляцией. Поясните на конктретных примерах, что означают полученные коэффициенты корреляции."
   ]
  },
  {
   "cell_type": "code",
   "execution_count": 12,
   "metadata": {
    "collapsed": false
   },
   "outputs": [
    {
     "data": {
      "text/html": [
       "<div>\n",
       "<table border=\"1\" class=\"dataframe\">\n",
       "  <thead>\n",
       "    <tr style=\"text-align: right;\">\n",
       "      <th></th>\n",
       "      <th>wage</th>\n",
       "      <th>exper</th>\n",
       "      <th>union</th>\n",
       "      <th>goodhlth</th>\n",
       "      <th>black</th>\n",
       "      <th>female</th>\n",
       "      <th>married</th>\n",
       "      <th>service</th>\n",
       "      <th>educ</th>\n",
       "      <th>looks</th>\n",
       "    </tr>\n",
       "  </thead>\n",
       "  <tbody>\n",
       "    <tr>\n",
       "      <th>0</th>\n",
       "      <td>5.73</td>\n",
       "      <td>30</td>\n",
       "      <td>0</td>\n",
       "      <td>1</td>\n",
       "      <td>0</td>\n",
       "      <td>1</td>\n",
       "      <td>1</td>\n",
       "      <td>1</td>\n",
       "      <td>14</td>\n",
       "      <td>4</td>\n",
       "    </tr>\n",
       "    <tr>\n",
       "      <th>1</th>\n",
       "      <td>4.28</td>\n",
       "      <td>28</td>\n",
       "      <td>0</td>\n",
       "      <td>1</td>\n",
       "      <td>0</td>\n",
       "      <td>1</td>\n",
       "      <td>1</td>\n",
       "      <td>0</td>\n",
       "      <td>12</td>\n",
       "      <td>3</td>\n",
       "    </tr>\n",
       "    <tr>\n",
       "      <th>2</th>\n",
       "      <td>7.96</td>\n",
       "      <td>35</td>\n",
       "      <td>0</td>\n",
       "      <td>1</td>\n",
       "      <td>0</td>\n",
       "      <td>1</td>\n",
       "      <td>0</td>\n",
       "      <td>0</td>\n",
       "      <td>10</td>\n",
       "      <td>4</td>\n",
       "    </tr>\n",
       "    <tr>\n",
       "      <th>3</th>\n",
       "      <td>11.57</td>\n",
       "      <td>38</td>\n",
       "      <td>0</td>\n",
       "      <td>1</td>\n",
       "      <td>0</td>\n",
       "      <td>0</td>\n",
       "      <td>1</td>\n",
       "      <td>1</td>\n",
       "      <td>16</td>\n",
       "      <td>3</td>\n",
       "    </tr>\n",
       "    <tr>\n",
       "      <th>4</th>\n",
       "      <td>11.42</td>\n",
       "      <td>27</td>\n",
       "      <td>0</td>\n",
       "      <td>1</td>\n",
       "      <td>0</td>\n",
       "      <td>0</td>\n",
       "      <td>1</td>\n",
       "      <td>0</td>\n",
       "      <td>16</td>\n",
       "      <td>3</td>\n",
       "    </tr>\n",
       "    <tr>\n",
       "      <th>5</th>\n",
       "      <td>3.91</td>\n",
       "      <td>20</td>\n",
       "      <td>0</td>\n",
       "      <td>0</td>\n",
       "      <td>0</td>\n",
       "      <td>1</td>\n",
       "      <td>1</td>\n",
       "      <td>0</td>\n",
       "      <td>12</td>\n",
       "      <td>3</td>\n",
       "    </tr>\n",
       "    <tr>\n",
       "      <th>6</th>\n",
       "      <td>8.76</td>\n",
       "      <td>12</td>\n",
       "      <td>0</td>\n",
       "      <td>1</td>\n",
       "      <td>0</td>\n",
       "      <td>0</td>\n",
       "      <td>1</td>\n",
       "      <td>0</td>\n",
       "      <td>16</td>\n",
       "      <td>3</td>\n",
       "    </tr>\n",
       "    <tr>\n",
       "      <th>7</th>\n",
       "      <td>7.69</td>\n",
       "      <td>5</td>\n",
       "      <td>1</td>\n",
       "      <td>1</td>\n",
       "      <td>0</td>\n",
       "      <td>0</td>\n",
       "      <td>0</td>\n",
       "      <td>0</td>\n",
       "      <td>16</td>\n",
       "      <td>4</td>\n",
       "    </tr>\n",
       "    <tr>\n",
       "      <th>8</th>\n",
       "      <td>5.00</td>\n",
       "      <td>5</td>\n",
       "      <td>0</td>\n",
       "      <td>1</td>\n",
       "      <td>0</td>\n",
       "      <td>1</td>\n",
       "      <td>0</td>\n",
       "      <td>0</td>\n",
       "      <td>16</td>\n",
       "      <td>3</td>\n",
       "    </tr>\n",
       "    <tr>\n",
       "      <th>9</th>\n",
       "      <td>3.89</td>\n",
       "      <td>12</td>\n",
       "      <td>0</td>\n",
       "      <td>1</td>\n",
       "      <td>0</td>\n",
       "      <td>1</td>\n",
       "      <td>0</td>\n",
       "      <td>0</td>\n",
       "      <td>12</td>\n",
       "      <td>3</td>\n",
       "    </tr>\n",
       "  </tbody>\n",
       "</table>\n",
       "</div>"
      ],
      "text/plain": [
       "    wage  exper  union  goodhlth  black  female  married  service  educ  looks\n",
       "0   5.73     30      0         1      0       1        1        1    14      4\n",
       "1   4.28     28      0         1      0       1        1        0    12      3\n",
       "2   7.96     35      0         1      0       1        0        0    10      4\n",
       "3  11.57     38      0         1      0       0        1        1    16      3\n",
       "4  11.42     27      0         1      0       0        1        0    16      3\n",
       "5   3.91     20      0         0      0       1        1        0    12      3\n",
       "6   8.76     12      0         1      0       0        1        0    16      3\n",
       "7   7.69      5      1         1      0       0        0        0    16      4\n",
       "8   5.00      5      0         1      0       1        0        0    16      3\n",
       "9   3.89     12      0         1      0       1        0        0    12      3"
      ]
     },
     "execution_count": 12,
     "metadata": {},
     "output_type": "execute_result"
    }
   ],
   "source": [
    "df = pd.read_csv('beauty.csv', sep = ';')\n",
    "df.head(10)"
   ]
  },
  {
   "cell_type": "code",
   "execution_count": 13,
   "metadata": {
    "collapsed": false
   },
   "outputs": [
    {
     "data": {
      "text/html": [
       "<div>\n",
       "<table border=\"1\" class=\"dataframe\">\n",
       "  <thead>\n",
       "    <tr style=\"text-align: right;\">\n",
       "      <th></th>\n",
       "      <th>wage</th>\n",
       "      <th>exper</th>\n",
       "      <th>union</th>\n",
       "      <th>goodhlth</th>\n",
       "      <th>black</th>\n",
       "      <th>female</th>\n",
       "      <th>married</th>\n",
       "      <th>service</th>\n",
       "      <th>educ</th>\n",
       "      <th>looks</th>\n",
       "    </tr>\n",
       "  </thead>\n",
       "  <tbody>\n",
       "    <tr>\n",
       "      <th>wage</th>\n",
       "      <td>1.000000</td>\n",
       "      <td>0.234632</td>\n",
       "      <td>0.094529</td>\n",
       "      <td>0.006756</td>\n",
       "      <td>-0.059052</td>\n",
       "      <td>-0.313419</td>\n",
       "      <td>0.184521</td>\n",
       "      <td>-0.053653</td>\n",
       "      <td>0.212333</td>\n",
       "      <td>0.055019</td>\n",
       "    </tr>\n",
       "    <tr>\n",
       "      <th>exper</th>\n",
       "      <td>0.234632</td>\n",
       "      <td>1.000000</td>\n",
       "      <td>0.089792</td>\n",
       "      <td>-0.131609</td>\n",
       "      <td>0.007566</td>\n",
       "      <td>-0.247209</td>\n",
       "      <td>0.255607</td>\n",
       "      <td>-0.057328</td>\n",
       "      <td>-0.186200</td>\n",
       "      <td>-0.155035</td>\n",
       "    </tr>\n",
       "    <tr>\n",
       "      <th>union</th>\n",
       "      <td>0.094529</td>\n",
       "      <td>0.089792</td>\n",
       "      <td>1.000000</td>\n",
       "      <td>-0.022398</td>\n",
       "      <td>0.031939</td>\n",
       "      <td>-0.100037</td>\n",
       "      <td>0.053629</td>\n",
       "      <td>-0.103633</td>\n",
       "      <td>-0.096022</td>\n",
       "      <td>-0.043495</td>\n",
       "    </tr>\n",
       "    <tr>\n",
       "      <th>goodhlth</th>\n",
       "      <td>0.006756</td>\n",
       "      <td>-0.131609</td>\n",
       "      <td>-0.022398</td>\n",
       "      <td>1.000000</td>\n",
       "      <td>-0.034073</td>\n",
       "      <td>-0.039684</td>\n",
       "      <td>-0.013315</td>\n",
       "      <td>0.049947</td>\n",
       "      <td>0.107129</td>\n",
       "      <td>0.058558</td>\n",
       "    </tr>\n",
       "    <tr>\n",
       "      <th>black</th>\n",
       "      <td>-0.059052</td>\n",
       "      <td>0.007566</td>\n",
       "      <td>0.031939</td>\n",
       "      <td>-0.034073</td>\n",
       "      <td>1.000000</td>\n",
       "      <td>0.113703</td>\n",
       "      <td>-0.133306</td>\n",
       "      <td>0.017261</td>\n",
       "      <td>-0.138157</td>\n",
       "      <td>0.012098</td>\n",
       "    </tr>\n",
       "    <tr>\n",
       "      <th>female</th>\n",
       "      <td>-0.313419</td>\n",
       "      <td>-0.247209</td>\n",
       "      <td>-0.100037</td>\n",
       "      <td>-0.039684</td>\n",
       "      <td>0.113703</td>\n",
       "      <td>1.000000</td>\n",
       "      <td>-0.319228</td>\n",
       "      <td>0.267961</td>\n",
       "      <td>0.009105</td>\n",
       "      <td>0.017129</td>\n",
       "    </tr>\n",
       "    <tr>\n",
       "      <th>married</th>\n",
       "      <td>0.184521</td>\n",
       "      <td>0.255607</td>\n",
       "      <td>0.053629</td>\n",
       "      <td>-0.013315</td>\n",
       "      <td>-0.133306</td>\n",
       "      <td>-0.319228</td>\n",
       "      <td>1.000000</td>\n",
       "      <td>-0.075082</td>\n",
       "      <td>-0.047674</td>\n",
       "      <td>-0.064636</td>\n",
       "    </tr>\n",
       "    <tr>\n",
       "      <th>service</th>\n",
       "      <td>-0.053653</td>\n",
       "      <td>-0.057328</td>\n",
       "      <td>-0.103633</td>\n",
       "      <td>0.049947</td>\n",
       "      <td>0.017261</td>\n",
       "      <td>0.267961</td>\n",
       "      <td>-0.075082</td>\n",
       "      <td>1.000000</td>\n",
       "      <td>0.301628</td>\n",
       "      <td>0.010213</td>\n",
       "    </tr>\n",
       "    <tr>\n",
       "      <th>educ</th>\n",
       "      <td>0.212333</td>\n",
       "      <td>-0.186200</td>\n",
       "      <td>-0.096022</td>\n",
       "      <td>0.107129</td>\n",
       "      <td>-0.138157</td>\n",
       "      <td>0.009105</td>\n",
       "      <td>-0.047674</td>\n",
       "      <td>0.301628</td>\n",
       "      <td>1.000000</td>\n",
       "      <td>0.153842</td>\n",
       "    </tr>\n",
       "    <tr>\n",
       "      <th>looks</th>\n",
       "      <td>0.055019</td>\n",
       "      <td>-0.155035</td>\n",
       "      <td>-0.043495</td>\n",
       "      <td>0.058558</td>\n",
       "      <td>0.012098</td>\n",
       "      <td>0.017129</td>\n",
       "      <td>-0.064636</td>\n",
       "      <td>0.010213</td>\n",
       "      <td>0.153842</td>\n",
       "      <td>1.000000</td>\n",
       "    </tr>\n",
       "  </tbody>\n",
       "</table>\n",
       "</div>"
      ],
      "text/plain": [
       "              wage     exper     union  goodhlth     black    female  \\\n",
       "wage      1.000000  0.234632  0.094529  0.006756 -0.059052 -0.313419   \n",
       "exper     0.234632  1.000000  0.089792 -0.131609  0.007566 -0.247209   \n",
       "union     0.094529  0.089792  1.000000 -0.022398  0.031939 -0.100037   \n",
       "goodhlth  0.006756 -0.131609 -0.022398  1.000000 -0.034073 -0.039684   \n",
       "black    -0.059052  0.007566  0.031939 -0.034073  1.000000  0.113703   \n",
       "female   -0.313419 -0.247209 -0.100037 -0.039684  0.113703  1.000000   \n",
       "married   0.184521  0.255607  0.053629 -0.013315 -0.133306 -0.319228   \n",
       "service  -0.053653 -0.057328 -0.103633  0.049947  0.017261  0.267961   \n",
       "educ      0.212333 -0.186200 -0.096022  0.107129 -0.138157  0.009105   \n",
       "looks     0.055019 -0.155035 -0.043495  0.058558  0.012098  0.017129   \n",
       "\n",
       "           married   service      educ     looks  \n",
       "wage      0.184521 -0.053653  0.212333  0.055019  \n",
       "exper     0.255607 -0.057328 -0.186200 -0.155035  \n",
       "union     0.053629 -0.103633 -0.096022 -0.043495  \n",
       "goodhlth -0.013315  0.049947  0.107129  0.058558  \n",
       "black    -0.133306  0.017261 -0.138157  0.012098  \n",
       "female   -0.319228  0.267961  0.009105  0.017129  \n",
       "married   1.000000 -0.075082 -0.047674 -0.064636  \n",
       "service  -0.075082  1.000000  0.301628  0.010213  \n",
       "educ     -0.047674  0.301628  1.000000  0.153842  \n",
       "looks    -0.064636  0.010213  0.153842  1.000000  "
      ]
     },
     "execution_count": 13,
     "metadata": {},
     "output_type": "execute_result"
    }
   ],
   "source": [
    "correlation_table = pd.DataFrame.corr(df)\n",
    "correlation_table"
   ]
  },
  {
   "cell_type": "code",
   "execution_count": 14,
   "metadata": {
    "collapsed": false
   },
   "outputs": [
    {
     "name": "stdout",
     "output_type": "stream",
     "text": [
      "The most correlated parameters\n",
      "female-married, corr =-0.319227934398\n",
      "wage-female, corr =-0.313419441587\n",
      "service-educ, corr =0.301628474412\n"
     ]
    }
   ],
   "source": [
    "correlation_table['wage'].sort_values(ascending = False)[1]\n",
    "l = []\n",
    "for column_name, column in correlation_table.transpose().iterrows():\n",
    "    for row_name, row in correlation_table.iterrows():\n",
    "        if correlation_table[column_name][row_name]!= 1 and  abs(correlation_table[row_name][column_name])not in l:\n",
    "            l.append(abs(correlation_table[column_name][row_name]))\n",
    "l.sort(reverse = True)\n",
    "s = ''\n",
    "print('The most correlated parameters')\n",
    "for i in range (len(l[0:3])):\n",
    "    for column_name, column in correlation_table.transpose().iterrows():\n",
    "        for row_name, row in correlation_table.iterrows():\n",
    "            if l[i] ==  abs(correlation_table[column_name][row_name]) and row_name + '-'+column_name+', ' not in s :\n",
    "                s = s+ column_name + '-'+row_name+', ' + 'corr =' + str(correlation_table[column_name][row_name])\n",
    "                print(column_name + '-'+row_name+', ' + 'corr =' + str(correlation_table[column_name][row_name]))\n",
    "\n"
   ]
  },
  {
   "cell_type": "markdown",
   "metadata": {},
   "source": [
    "# Пояснение\n",
    "\n",
    "1. female-married, corr =-0.319227934398\n",
    "\n",
    "Поскольку оба эти признака бинарные,  то отрицательный коэффициент корреляции указывает на то, что в нашей выборке человек с полом 1 чаще не состоит в браке, а человек с полом 0 вероятнее в браке, чем человек с полом 1. \n",
    "\n",
    "2. wage-female, corr =-0.313419441587\n",
    "\n",
    "Отрицательный коэффициент корреляции показывает, что человек с полом 0 получает зарплату выше, чем человек с полом 1 (обратная зависимость) и наоборот, если человек получает высокую зарплату, его пол скорее всего 0. По крайней мере в нашей выборке такая зависимость\n",
    "\n",
    "3. service-educ, corr =0.301628474412\n",
    "\n",
    "Положительная корреляция, значит, если у человека пол 1, то скорее всего он занят в сфере обслуживания, и наоборот, если человек занят в сфере обслуживания, его пол скорее всего 1."
   ]
  },
  {
   "cell_type": "markdown",
   "metadata": {},
   "source": [
    "**Задание 2.** На семинаре мы рассмотрели различные распрелеления случайных величин (дискретные и непрерывные). \n",
    "\n",
    "Изобразите гистограммы каждого из признаков.<br/>\n",
    "Определите возможный закон распределения каждого из них и оцените его параметры. Если готовой функции в scipy.stats для распределения нет, то оцените эти параметры сами по методу максимального правдоподобия."
   ]
  },
  {
   "cell_type": "code",
   "execution_count": 15,
   "metadata": {
    "collapsed": false
   },
   "outputs": [
    {
     "data": {
      "text/plain": [
       "Index(['wage', 'exper', 'union', 'goodhlth', 'black', 'female', 'married',\n",
       "       'service', 'educ', 'looks'],\n",
       "      dtype='object')"
      ]
     },
     "execution_count": 15,
     "metadata": {},
     "output_type": "execute_result"
    }
   ],
   "source": [
    "df.keys()"
   ]
  },
  {
   "cell_type": "code",
   "execution_count": 16,
   "metadata": {
    "collapsed": false
   },
   "outputs": [
    {
     "data": {
      "text/plain": [
       "[<matplotlib.lines.Line2D at 0x892f8f0>]"
      ]
     },
     "execution_count": 16,
     "metadata": {},
     "output_type": "execute_result"
    },
    {
     "data": {
      "image/png": "[encoded data removed]",
      "text/plain": [
       "<matplotlib.figure.Figure at 0x83f4dd0>"
      ]
     },
     "metadata": {},
     "output_type": "display_data"
    }
   ],
   "source": [
    "fig, ax = plt.subplots(2,5)\n",
    "fig.set_size_inches(20,14)\n",
    "#гистограммы признаком\n",
    "ax[0,0].hist(df['wage'], normed=True, color='r', alpha=0.9)\n",
    "ax[0,0].set_title('wage')\n",
    "ax[0,1].hist(df['exper'], normed=True, color='r', alpha=0.9)\n",
    "ax[0,1].set_title('exper')\n",
    "ax[0,2].hist(df['union'], normed=True, color='b', alpha=0.9)\n",
    "ax[0,2].set_title('union')\n",
    "ax[0,3].hist(df['goodhlth'], normed=True, color='b', alpha=0.9)\n",
    "ax[0,3].set_title('goodhlth')\n",
    "ax[0,4].hist(df['black'], normed=True, color='b', alpha=0.9)\n",
    "ax[0,4].set_title('black')\n",
    "ax[1,0].hist(df['female'], normed=True, color='b', alpha=0.9)\n",
    "ax[1,0].set_title('female')\n",
    "ax[1,1].hist(df['married'], normed=True, color='b', alpha=0.9)\n",
    "ax[1,1].set_title('married')\n",
    "ax[1,2].hist(df['service'], normed=True, color='b', alpha=0.9)\n",
    "ax[1,2].set_title('service')\n",
    "ax[1,3].hist(df['educ'], normed=True, color='b', alpha=0.9)\n",
    "ax[1,3].set_title('educ')\n",
    "ax[1,4].hist(df['looks'], normed=True, color='b', alpha=0.9)\n",
    "ax[1,4].set_title('looks')\n",
    "\n",
    "#законы распределения и параметры\n",
    "wage = sp.stats.expon.fit(df['wage'])\n",
    "wage_1 = np.linspace(sp.stats.expon.ppf(0.01, wage[0], wage[1]), sp.stats.expon.ppf(0.99, wage[0], wage[1]), 500)\n",
    "ax[0,0].plot(wage_1, sp.stats.expon.pdf(wage_1, wage[0], wage[1]),'k-', lw=2)\n",
    "\n",
    "\n",
    "exper = sp.stats.chi2.fit(df['exper'])\n",
    "exper_1 = np.linspace(sp.stats.chi2.ppf(0.01, exper[0], exper[1], exper[2]), sp.stats.chi2.ppf(0.99, exper[0], exper[1], exper[2]), 500)\n",
    "ax[0,1].plot(exper_1, sp.stats.chi2.pdf(exper_1, exper[0], exper[1], exper[2]),'k-', lw=2)\n",
    "\n"
   ]
  },
  {
   "cell_type": "code",
   "execution_count": 17,
   "metadata": {
    "collapsed": false
   },
   "outputs": [
    {
     "name": "stdout",
     "output_type": "stream",
     "text": [
      "wage: exponential distribution: lambda = 5.28668933293\n",
      "\n",
      "exper: chi-squared distribution: df =  4.15415390907\n"
     ]
    }
   ],
   "source": [
    "print('wage: exponential distribution:','lambda =', wage[1])\n",
    "print()\n",
    "print('exper: chi-squared distribution:', 'df = ', exper[0])"
   ]
  },
  {
   "cell_type": "markdown",
   "metadata": {},
   "source": [
    "## 3. Метод наивного Байеса"
   ]
  },
  {
   "cell_type": "markdown",
   "metadata": {},
   "source": [
    "Пояснения по выполнению этого задания будут рассказаны на семинаре 1 марта"
   ]
  },
  {
   "cell_type": "markdown",
   "metadata": {},
   "source": [
    "Обучение методом наивного Байеса основывается на достаточно сильном предположении, что все признаки попарно независимы. По формуле Байеса $$P(y|x_1,\\dots,x_n)=\\frac{P(y)P(x_1,\\dots,x_n|y)}{P(x_1,\\dots,x_n)}.$$ В предположении, что признаки независимы получаем, что $$P(y|x_1,\\dots,x_n)=\\frac{P(y)\\prod_{i=1}^n P(x_i|y)}{P(x_1,\\dots,x_n)}$$\n",
    "Т.к. $$P(x_1,\\dots,x_n)$$ задается условиями задачи, принцип максимального правдоподобия для наивного Байеса запишется следующим образом: $$\\hat y = \\arg\\max_y P(y)\\prod_{i=1}^n P(x_i|y).$$\n",
    "\n",
    "\n",
    "Библиотека `sklearn` поддерживает несколько реализаций наивного Байеса: `sklearn.naive_bayes.GaussianNB`, `sklearn.naive_bayes.MultinomialNB` и др."
   ]
  },
  {
   "cell_type": "code",
   "execution_count": 18,
   "metadata": {
    "collapsed": true
   },
   "outputs": [],
   "source": [
    "from sklearn.cross_validation import train_test_split\n",
    "from sklearn.datasets import fetch_20newsgroups\n",
    "from sklearn.naive_bayes import MultinomialNB\n",
    "from sklearn.feature_extraction.text import CountVectorizer"
   ]
  },
  {
   "cell_type": "markdown",
   "metadata": {},
   "source": [
    "**Задание 1.** Выберите 2 категории новостных сообщений из `20newsgroups`. Случайным образом, в пропорции 70/30, разделите наборы текстов на обучающую и контрольную выборки. В результате выполнения данного задания у вас должно получится 5 переменных: `text_all`, `text_train`, `text_test`, `y_train`, `y_test`."
   ]
  },
  {
   "cell_type": "code",
   "execution_count": 19,
   "metadata": {
    "collapsed": false
   },
   "outputs": [
    {
     "data": {
      "text/plain": [
       "['alt.atheism',\n",
       " 'comp.graphics',\n",
       " 'comp.os.ms-windows.misc',\n",
       " 'comp.sys.ibm.pc.hardware',\n",
       " 'comp.sys.mac.hardware',\n",
       " 'comp.windows.x',\n",
       " 'misc.forsale',\n",
       " 'rec.autos',\n",
       " 'rec.motorcycles',\n",
       " 'rec.sport.baseball',\n",
       " 'rec.sport.hockey',\n",
       " 'sci.crypt',\n",
       " 'sci.electronics',\n",
       " 'sci.med',\n",
       " 'sci.space',\n",
       " 'soc.religion.christian',\n",
       " 'talk.politics.guns',\n",
       " 'talk.politics.mideast',\n",
       " 'talk.politics.misc',\n",
       " 'talk.religion.misc']"
      ]
     },
     "execution_count": 19,
     "metadata": {},
     "output_type": "execute_result"
    }
   ],
   "source": [
    "# Список новостных заголовков\n",
    "['alt.atheism',\n",
    " 'comp.graphics',\n",
    " 'comp.os.ms-windows.misc',\n",
    " 'comp.sys.ibm.pc.hardware',\n",
    " 'comp.sys.mac.hardware',\n",
    " 'comp.windows.x',\n",
    " 'misc.forsale',\n",
    " 'rec.autos',\n",
    " 'rec.motorcycles',\n",
    " 'rec.sport.baseball',\n",
    " 'rec.sport.hockey',\n",
    " 'sci.crypt',\n",
    " 'sci.electronics',\n",
    " 'sci.med',\n",
    " 'sci.space',\n",
    " 'soc.religion.christian',\n",
    " 'talk.politics.guns',\n",
    " 'talk.politics.mideast',\n",
    " 'talk.politics.misc',\n",
    " 'talk.religion.misc']"
   ]
  },
  {
   "cell_type": "code",
   "execution_count": 20,
   "metadata": {
    "collapsed": false
   },
   "outputs": [
    {
     "name": "stdout",
     "output_type": "stream",
     "text": [
      "строк в text_all: 1187\n",
      "строк в text_train: 830\n",
      "строк в text_test: 357\n",
      "строк в y_train: 830\n",
      "строк в y_test: 357\n"
     ]
    }
   ],
   "source": [
    "# Пусть выбранные мною категории  - 'sci.med' и 'sci.space'\n",
    "categ = ['sci.med','sci.space']\n",
    "newsgroups_2 = fetch_20newsgroups(subset='train', categories=categ)\n",
    "text_all = newsgroups_2.data\n",
    "text_train, text_test, y_train, y_test = train_test_split(newsgroups_2.data, newsgroups_2.target, test_size=0.3)\n",
    "# Вот мы и получили 5 переменных со следующим количеством строк:\n",
    "\n",
    "print ('строк в text_all:', len(text_all))\n",
    "print ('строк в text_train:', len(text_train))\n",
    "print ('строк в text_test:', len(text_test))\n",
    "print ('строк в y_train:', len(y_train))\n",
    "print ('строк в y_test:', len(y_test))"
   ]
  },
  {
   "cell_type": "markdown",
   "metadata": {},
   "source": [
    "**Задание 2.** На переменной `text` постройте конвертер из текстов в частотную матрицу с помощью метода `CountVectorizer(analyzer='word', stop_words='english', lowercase=True)`, а затем используйте его на выборках `train` и `test`. В результате вы должны получить 2 матрицы: `X_train` и `X_test`."
   ]
  },
  {
   "cell_type": "code",
   "execution_count": 21,
   "metadata": {
    "collapsed": false
   },
   "outputs": [
    {
     "name": "stdout",
     "output_type": "stream",
     "text": [
      "X_train\n",
      "[[0 0 0 ..., 0 0 0]\n",
      " [0 0 0 ..., 0 0 0]\n",
      " [0 0 0 ..., 0 0 0]\n",
      " ..., \n",
      " [0 0 0 ..., 0 0 0]\n",
      " [0 0 0 ..., 0 0 0]\n",
      " [0 0 0 ..., 0 0 0]]\n",
      "X_test\n",
      "[[0 0 0 ..., 0 0 0]\n",
      " [0 0 0 ..., 0 0 0]\n",
      " [0 0 0 ..., 0 0 0]\n",
      " ..., \n",
      " [0 0 0 ..., 0 0 0]\n",
      " [0 1 0 ..., 0 0 0]\n",
      " [0 0 0 ..., 0 0 0]]\n"
     ]
    }
   ],
   "source": [
    "vect = CountVectorizer(analyzer='word', stop_words='english', lowercase=True).fit(text_all)\n",
    "X_train = vect.transform(text_train).toarray()\n",
    "X_test = vect.transform(text_test).toarray()\n",
    "print('X_train')\n",
    "print(X_train)\n",
    "print('X_test')\n",
    "print(X_test)"
   ]
  },
  {
   "cell_type": "markdown",
   "metadata": {},
   "source": [
    "**Задание 3.** По матрице `X_train` найдите 50 самых частотных слов. Соответствия столбцов и слов можно понять по методу `CountVectorizer.get_feature_names()`."
   ]
  },
  {
   "cell_type": "code",
   "execution_count": 22,
   "metadata": {
    "collapsed": false
   },
   "outputs": [
    {
     "data": {
      "text/html": [
       "<div>\n",
       "<table border=\"1\" class=\"dataframe\">\n",
       "  <thead>\n",
       "    <tr style=\"text-align: right;\">\n",
       "      <th></th>\n",
       "      <th>frequency of occurrences</th>\n",
       "      <th>words</th>\n",
       "    </tr>\n",
       "  </thead>\n",
       "  <tbody>\n",
       "    <tr>\n",
       "      <th>9100</th>\n",
       "      <td>1685</td>\n",
       "      <td>edu</td>\n",
       "    </tr>\n",
       "    <tr>\n",
       "      <th>6737</th>\n",
       "      <td>953</td>\n",
       "      <td>com</td>\n",
       "    </tr>\n",
       "    <tr>\n",
       "      <th>22122</th>\n",
       "      <td>880</td>\n",
       "      <td>subject</td>\n",
       "    </tr>\n",
       "    <tr>\n",
       "      <th>17034</th>\n",
       "      <td>843</td>\n",
       "      <td>organization</td>\n",
       "    </tr>\n",
       "    <tr>\n",
       "      <th>14433</th>\n",
       "      <td>842</td>\n",
       "      <td>lines</td>\n",
       "    </tr>\n",
       "    <tr>\n",
       "      <th>21464</th>\n",
       "      <td>772</td>\n",
       "      <td>space</td>\n",
       "    </tr>\n",
       "    <tr>\n",
       "      <th>4163</th>\n",
       "      <td>667</td>\n",
       "      <td>article</td>\n",
       "    </tr>\n",
       "    <tr>\n",
       "      <th>25093</th>\n",
       "      <td>648</td>\n",
       "      <td>writes</td>\n",
       "    </tr>\n",
       "    <tr>\n",
       "      <th>16114</th>\n",
       "      <td>536</td>\n",
       "      <td>nasa</td>\n",
       "    </tr>\n",
       "    <tr>\n",
       "      <th>14393</th>\n",
       "      <td>451</td>\n",
       "      <td>like</td>\n",
       "    </tr>\n",
       "    <tr>\n",
       "      <th>13570</th>\n",
       "      <td>428</td>\n",
       "      <td>just</td>\n",
       "    </tr>\n",
       "    <tr>\n",
       "      <th>8716</th>\n",
       "      <td>415</td>\n",
       "      <td>don</td>\n",
       "    </tr>\n",
       "    <tr>\n",
       "      <th>17599</th>\n",
       "      <td>385</td>\n",
       "      <td>people</td>\n",
       "    </tr>\n",
       "    <tr>\n",
       "      <th>18221</th>\n",
       "      <td>376</td>\n",
       "      <td>posting</td>\n",
       "    </tr>\n",
       "    <tr>\n",
       "      <th>7584</th>\n",
       "      <td>367</td>\n",
       "      <td>cs</td>\n",
       "    </tr>\n",
       "    <tr>\n",
       "      <th>23889</th>\n",
       "      <td>346</td>\n",
       "      <td>university</td>\n",
       "    </tr>\n",
       "    <tr>\n",
       "      <th>13847</th>\n",
       "      <td>346</td>\n",
       "      <td>know</td>\n",
       "    </tr>\n",
       "    <tr>\n",
       "      <th>20517</th>\n",
       "      <td>344</td>\n",
       "      <td>science</td>\n",
       "    </tr>\n",
       "    <tr>\n",
       "      <th>12147</th>\n",
       "      <td>328</td>\n",
       "      <td>host</td>\n",
       "    </tr>\n",
       "    <tr>\n",
       "      <th>16462</th>\n",
       "      <td>324</td>\n",
       "      <td>nntp</td>\n",
       "    </tr>\n",
       "    <tr>\n",
       "      <th>23078</th>\n",
       "      <td>313</td>\n",
       "      <td>time</td>\n",
       "    </tr>\n",
       "    <tr>\n",
       "      <th>22963</th>\n",
       "      <td>305</td>\n",
       "      <td>think</td>\n",
       "    </tr>\n",
       "    <tr>\n",
       "      <th>24042</th>\n",
       "      <td>300</td>\n",
       "      <td>use</td>\n",
       "    </tr>\n",
       "    <tr>\n",
       "      <th>11284</th>\n",
       "      <td>292</td>\n",
       "      <td>gov</td>\n",
       "    </tr>\n",
       "    <tr>\n",
       "      <th>16322</th>\n",
       "      <td>279</td>\n",
       "      <td>new</td>\n",
       "    </tr>\n",
       "    <tr>\n",
       "      <th>8689</th>\n",
       "      <td>250</td>\n",
       "      <td>does</td>\n",
       "    </tr>\n",
       "    <tr>\n",
       "      <th>17928</th>\n",
       "      <td>249</td>\n",
       "      <td>pitt</td>\n",
       "    </tr>\n",
       "    <tr>\n",
       "      <th>19644</th>\n",
       "      <td>241</td>\n",
       "      <td>research</td>\n",
       "    </tr>\n",
       "    <tr>\n",
       "      <th>25042</th>\n",
       "      <td>238</td>\n",
       "      <td>world</td>\n",
       "    </tr>\n",
       "    <tr>\n",
       "      <th>25027</th>\n",
       "      <td>236</td>\n",
       "      <td>work</td>\n",
       "    </tr>\n",
       "    <tr>\n",
       "      <th>25208</th>\n",
       "      <td>236</td>\n",
       "      <td>years</td>\n",
       "    </tr>\n",
       "    <tr>\n",
       "      <th>205</th>\n",
       "      <td>226</td>\n",
       "      <td>10</td>\n",
       "    </tr>\n",
       "    <tr>\n",
       "      <th>15927</th>\n",
       "      <td>224</td>\n",
       "      <td>msg</td>\n",
       "    </tr>\n",
       "    <tr>\n",
       "      <th>3053</th>\n",
       "      <td>218</td>\n",
       "      <td>access</td>\n",
       "    </tr>\n",
       "    <tr>\n",
       "      <th>5720</th>\n",
       "      <td>216</td>\n",
       "      <td>ca</td>\n",
       "    </tr>\n",
       "    <tr>\n",
       "      <th>11259</th>\n",
       "      <td>216</td>\n",
       "      <td>good</td>\n",
       "    </tr>\n",
       "    <tr>\n",
       "      <th>11785</th>\n",
       "      <td>211</td>\n",
       "      <td>health</td>\n",
       "    </tr>\n",
       "    <tr>\n",
       "      <th>14570</th>\n",
       "      <td>204</td>\n",
       "      <td>long</td>\n",
       "    </tr>\n",
       "    <tr>\n",
       "      <th>19580</th>\n",
       "      <td>204</td>\n",
       "      <td>reply</td>\n",
       "    </tr>\n",
       "    <tr>\n",
       "      <th>875</th>\n",
       "      <td>204</td>\n",
       "      <td>1993</td>\n",
       "    </tr>\n",
       "    <tr>\n",
       "      <th>11269</th>\n",
       "      <td>203</td>\n",
       "      <td>gordon</td>\n",
       "    </tr>\n",
       "    <tr>\n",
       "      <th>14855</th>\n",
       "      <td>201</td>\n",
       "      <td>make</td>\n",
       "    </tr>\n",
       "    <tr>\n",
       "      <th>25206</th>\n",
       "      <td>200</td>\n",
       "      <td>year</td>\n",
       "    </tr>\n",
       "    <tr>\n",
       "      <th>15233</th>\n",
       "      <td>195</td>\n",
       "      <td>medical</td>\n",
       "    </tr>\n",
       "    <tr>\n",
       "      <th>4638</th>\n",
       "      <td>195</td>\n",
       "      <td>banks</td>\n",
       "    </tr>\n",
       "    <tr>\n",
       "      <th>8599</th>\n",
       "      <td>193</td>\n",
       "      <td>distribution</td>\n",
       "    </tr>\n",
       "    <tr>\n",
       "      <th>17000</th>\n",
       "      <td>188</td>\n",
       "      <td>orbit</td>\n",
       "    </tr>\n",
       "    <tr>\n",
       "      <th>11949</th>\n",
       "      <td>187</td>\n",
       "      <td>high</td>\n",
       "    </tr>\n",
       "    <tr>\n",
       "      <th>1044</th>\n",
       "      <td>186</td>\n",
       "      <td>20</td>\n",
       "    </tr>\n",
       "    <tr>\n",
       "      <th>10943</th>\n",
       "      <td>186</td>\n",
       "      <td>geb</td>\n",
       "    </tr>\n",
       "  </tbody>\n",
       "</table>\n",
       "</div>"
      ],
      "text/plain": [
       "       frequency of occurrences         words\n",
       "9100                       1685           edu\n",
       "6737                        953           com\n",
       "22122                       880       subject\n",
       "17034                       843  organization\n",
       "14433                       842         lines\n",
       "21464                       772         space\n",
       "4163                        667       article\n",
       "25093                       648        writes\n",
       "16114                       536          nasa\n",
       "14393                       451          like\n",
       "13570                       428          just\n",
       "8716                        415           don\n",
       "17599                       385        people\n",
       "18221                       376       posting\n",
       "7584                        367            cs\n",
       "23889                       346    university\n",
       "13847                       346          know\n",
       "20517                       344       science\n",
       "12147                       328          host\n",
       "16462                       324          nntp\n",
       "23078                       313          time\n",
       "22963                       305         think\n",
       "24042                       300           use\n",
       "11284                       292           gov\n",
       "16322                       279           new\n",
       "8689                        250          does\n",
       "17928                       249          pitt\n",
       "19644                       241      research\n",
       "25042                       238         world\n",
       "25027                       236          work\n",
       "25208                       236         years\n",
       "205                         226            10\n",
       "15927                       224           msg\n",
       "3053                        218        access\n",
       "5720                        216            ca\n",
       "11259                       216          good\n",
       "11785                       211        health\n",
       "14570                       204          long\n",
       "19580                       204         reply\n",
       "875                         204          1993\n",
       "11269                       203        gordon\n",
       "14855                       201          make\n",
       "25206                       200          year\n",
       "15233                       195       medical\n",
       "4638                        195         banks\n",
       "8599                        193  distribution\n",
       "17000                       188         orbit\n",
       "11949                       187          high\n",
       "1044                        186            20\n",
       "10943                       186           geb"
      ]
     },
     "execution_count": 22,
     "metadata": {},
     "output_type": "execute_result"
    }
   ],
   "source": [
    "occurrences = np.sum(X_train, axis=0)# - вектор, суммирующий все вхождения в X_train по колонкам,\n",
    "#покажет количество раз, когда встретилось слово\n",
    "pd.DataFrame({'frequency of occurrences':occurrences, 'words':vect.get_feature_names()}).sort_values(by='frequency of occurrences', ascending=False).head(50)"
   ]
  },
  {
   "cell_type": "markdown",
   "metadata": {},
   "source": [
    "**Задание 4.** Обучите наивный байесовский классификатор MultinomialNB с параметром слгаживания `alpha=1` на выборке train. Примените его к данным из тестовой выборке и оцените точность совпадения меток."
   ]
  },
  {
   "cell_type": "code",
   "execution_count": 23,
   "metadata": {
    "collapsed": false
   },
   "outputs": [
    {
     "name": "stdout",
     "output_type": "stream",
     "text": [
      "Counter({True: 349, False: 8})\n",
      "Number of coincidences: 349\n",
      "number of elements, total: 357\n",
      "precision/percentage of coincidence: 0.9775910364145658\n"
     ]
    }
   ],
   "source": [
    "clf = MultinomialNB()#по умолчанию там уже стоит параметр сглаживания 1\n",
    "clf.fit(X_train, y_train)\n",
    "predictions = clf.predict(X_test)\n",
    "proba = clf.predict_proba(X_test) # - вероятности\n",
    "coincidence = (predictions == y_test)\n",
    "import collections\n",
    "Tr_Fl = collections.Counter(coincidence) # - подсчитываем число совпадений и несовпадений\n",
    "print(Tr_Fl)\n",
    "Tr = collections.Counter(coincidence)[True]# - количество совпадений отдельно\n",
    "print('Number of coincidences:',Tr)\n",
    "length= len(coincidence)# - всего элементов\n",
    "print('number of elements, total:',length)\n",
    "print('precision/percentage of coincidence:', Tr/length)# - процент совпадений, точность совпадения меток"
   ]
  },
  {
   "cell_type": "code",
   "execution_count": 24,
   "metadata": {
    "collapsed": false
   },
   "outputs": [
    {
     "name": "stdout",
     "output_type": "stream",
     "text": [
      "predictions\n",
      "[1 0 0 0 0 0 1 1 0 1 1 1 0 1 0 0 0 0 0 1 0 1 1 1 1 1 0 0 1 0 1 0 1 0 0 0 1\n",
      " 0 0 1 1 0 1 1 1 0 1 1 0 1 1 1 1 1 1 1 1 0 1 0 1 0 1 0 0 1 1 0 1 1 0 1 1 1\n",
      " 1 1 0 1 0 1 0 0 1 0 1 1 0 0 0 0 1 0 1 1 1 1 1 0 0 1 0 0 0 0 1 1 1 1 1 1 1\n",
      " 0 0 0 1 0 1 0 1 1 0 1 1 1 0 1 0 0 1 1 1 1 0 0 0 0 1 0 0 0 0 0 0 0 0 0 0 1\n",
      " 1 0 0 1 0 1 0 0 1 1 0 0 0 1 1 0 1 0 1 1 0 0 0 1 0 0 0 0 1 0 1 1 0 0 1 1 1\n",
      " 0 1 0 0 1 1 0 1 0 1 0 1 0 1 0 0 1 0 0 1 1 1 0 1 0 0 1 1 0 1 0 0 1 0 1 0 1\n",
      " 0 0 0 1 0 0 0 0 0 0 1 1 0 1 0 1 0 1 0 0 0 1 0 0 1 0 1 1 1 1 1 0 1 1 1 1 0\n",
      " 1 0 0 0 0 1 0 0 0 1 0 1 0 0 0 1 0 0 1 0 0 0 1 1 0 1 1 1 1 1 0 1 0 1 0 1 0\n",
      " 0 1 1 0 0 0 1 0 1 1 1 1 0 1 1 0 1 0 1 1 0 1 1 0 1 0 1 1 1 0 1 0 0 1 0 1 1\n",
      " 0 0 0 1 1 1 1 0 1 0 1 1 1 1 1 1 0 1 1 1 0 1 0 0]\n",
      "\n",
      "coincidence\n",
      "[ True  True  True  True  True  True  True  True  True  True  True  True\n",
      "  True  True  True  True  True  True  True  True  True  True  True  True\n",
      "  True  True  True  True  True  True  True  True  True  True  True  True\n",
      "  True  True  True  True  True  True  True  True  True  True  True  True\n",
      "  True  True  True  True  True  True  True  True  True False  True  True\n",
      "  True  True  True  True  True  True  True  True  True  True  True  True\n",
      "  True  True  True  True  True  True  True  True  True  True  True  True\n",
      "  True  True  True  True  True  True  True  True  True False  True  True\n",
      "  True  True  True  True  True  True  True  True  True  True  True  True\n",
      "  True  True  True  True  True  True  True  True  True  True  True False\n",
      "  True  True  True  True  True  True  True  True  True  True  True  True\n",
      "  True  True  True  True  True  True  True  True  True  True  True  True\n",
      "  True  True  True  True  True  True  True  True  True  True  True  True\n",
      "  True  True  True  True  True  True  True  True  True  True False False\n",
      "  True  True  True  True  True  True  True  True  True  True  True  True\n",
      "  True  True  True  True  True  True  True  True  True  True  True  True\n",
      "  True  True  True  True  True  True  True  True  True  True  True  True\n",
      "  True  True  True  True  True  True  True False  True  True  True  True\n",
      "  True  True  True  True  True  True  True  True  True  True  True  True\n",
      "  True  True  True  True  True  True  True  True  True  True  True  True\n",
      "  True  True  True  True  True  True  True  True  True  True  True  True\n",
      "  True  True  True  True  True  True  True  True  True  True  True  True\n",
      "  True  True  True False  True  True  True  True  True  True  True  True\n",
      "  True  True  True  True  True  True  True  True  True  True False  True\n",
      "  True  True  True  True  True  True  True  True  True  True  True  True\n",
      "  True  True  True  True  True  True  True  True  True  True  True  True\n",
      "  True  True  True  True  True  True  True  True  True  True  True  True\n",
      "  True  True  True  True  True  True  True  True  True  True  True  True\n",
      "  True  True  True  True  True  True  True  True  True  True  True  True\n",
      "  True  True  True  True  True  True  True  True  True]\n",
      "\n",
      "accuracy_score\n",
      "0.977591036415\n",
      "\n",
      "probabilities\n",
      "[[  2.54399786e-100   1.00000000e+000]\n",
      " [  1.00000000e+000   3.95290721e-010]\n",
      " [  1.00000000e+000   7.49058236e-052]\n",
      " [  1.00000000e+000   1.22923468e-013]\n",
      " [  1.00000000e+000   1.45314536e-041]\n",
      " [  1.00000000e+000   2.69152623e-049]\n",
      " [  1.12709199e-026   1.00000000e+000]\n",
      " [  2.95267020e-142   1.00000000e+000]\n",
      " [  1.00000000e+000   3.93497916e-019]\n",
      " [  2.98495780e-072   1.00000000e+000]]\n"
     ]
    }
   ],
   "source": [
    "print('predictions')\n",
    "print(predictions)\n",
    "print()\n",
    "print('coincidence')\n",
    "print (coincidence)\n",
    "print()\n",
    "from sklearn.metrics import accuracy_score\n",
    "print('accuracy_score')\n",
    "print(accuracy_score(y_test, predictions))\n",
    "print()\n",
    "print('probabilities')\n",
    "print(proba[:10])"
   ]
  },
  {
   "cell_type": "code",
   "execution_count": 25,
   "metadata": {
    "collapsed": false
   },
   "outputs": [
    {
     "name": "stdout",
     "output_type": "stream",
     "text": [
      "             precision    recall  f1-score   support\n",
      "\n",
      "    sci.med       0.99      0.97      0.98       179\n",
      "  sci.space       0.97      0.99      0.98       178\n",
      "\n",
      "avg / total       0.98      0.98      0.98       357\n",
      "\n"
     ]
    }
   ],
   "source": [
    "from sklearn.metrics import classification_report\n",
    "print(classification_report(y_test, predictions, target_names=newsgroups_2.target_names))\n",
    " #применяет оценку по отдельности к каждой категории, а также ко всем в целом"
   ]
  },
  {
   "cell_type": "markdown",
   "metadata": {},
   "source": [
    "**Задание 5.** Обучите наивный байесовский классификатор MultinomialNB с параметром слгаживания `alpha=0` на выборке train. Примените его к данным из тестовой выборки и оцените точность совпадения меток. Поменяются ли результаты? Объясните почему?\n",
    "\n",
    "Учитывайте не только метки, но и вероятности, которые выдает классификатор"
   ]
  },
  {
   "cell_type": "code",
   "execution_count": 26,
   "metadata": {
    "collapsed": false
   },
   "outputs": [
    {
     "name": "stdout",
     "output_type": "stream",
     "text": [
      "Counter({True: 179, False: 178})\n",
      "Number of coincidences: 179\n",
      "number of elements, total: 357\n",
      "precision/percentage of coincidence: 0.5014005602240896\n"
     ]
    }
   ],
   "source": [
    "clf_2 = MultinomialNB(alpha=0)\n",
    "clf_2.fit(X_train, y_train)\n",
    "predictions_2 = clf_2.predict(X_test)\n",
    "proba_2 = clf_2.predict_proba(X_test)\n",
    "coincidence_2 = (predictions_2 == y_test)\n",
    "import collections\n",
    "Tr_Fl_2 = collections.Counter(coincidence_2)\n",
    "print(Tr_Fl_2)\n",
    "Tr_2 = collections.Counter(coincidence_2)[True]\n",
    "print('Number of coincidences:',Tr_2)\n",
    "length_2 = len(coincidence_2)\n",
    "print('number of elements, total:',length_2)\n",
    "print('precision/percentage of coincidence:', Tr_2/length_2)"
   ]
  },
  {
   "cell_type": "code",
   "execution_count": 27,
   "metadata": {
    "collapsed": false
   },
   "outputs": [
    {
     "name": "stdout",
     "output_type": "stream",
     "text": [
      "predictions\n",
      "[0 0 0 0 0 0 0 0 0 0 0 0 0 0 0 0 0 0 0 0 0 0 0 0 0 0 0 0 0 0 0 0 0 0 0 0 0\n",
      " 0 0 0 0 0 0 0 0 0 0 0 0 0 0 0 0 0 0 0 0 0 0 0 0 0 0 0 0 0 0 0 0 0 0 0 0 0\n",
      " 0 0 0 0 0 0 0 0 0 0 0 0 0 0 0 0 0 0 0 0 0 0 0 0 0 0 0 0 0 0 0 0 0 0 0 0 0\n",
      " 0 0 0 0 0 0 0 0 0 0 0 0 0 0 0 0 0 0 0 0 0 0 0 0 0 0 0 0 0 0 0 0 0 0 0 0 0\n",
      " 0 0 0 0 0 0 0 0 0 0 0 0 0 0 0 0 0 0 0 0 0 0 0 0 0 0 0 0 0 0 0 0 0 0 0 0 0\n",
      " 0 0 0 0 0 0 0 0 0 0 0 0 0 0 0 0 0 0 0 0 0 0 0 0 0 0 0 0 0 0 0 0 0 0 0 0 0\n",
      " 0 0 0 0 0 0 0 0 0 0 0 0 0 0 0 0 0 0 0 0 0 0 0 0 0 0 0 0 0 0 0 0 0 0 0 0 0\n",
      " 0 0 0 0 0 0 0 0 0 0 0 0 0 0 0 0 0 0 0 0 0 0 0 0 0 0 0 0 0 0 0 0 0 0 0 0 0\n",
      " 0 0 0 0 0 0 0 0 0 0 0 0 0 0 0 0 0 0 0 0 0 0 0 0 0 0 0 0 0 0 0 0 0 0 0 0 0\n",
      " 0 0 0 0 0 0 0 0 0 0 0 0 0 0 0 0 0 0 0 0 0 0 0 0]\n",
      "\n",
      "coincidence\n",
      "[False  True  True  True  True  True False False  True False False False\n",
      "  True False  True  True  True  True  True False  True False False False\n",
      " False False  True  True False  True False  True False  True  True  True\n",
      " False  True  True False False  True False False False  True False False\n",
      "  True False False False False False False False False False False  True\n",
      " False  True False  True  True False False  True False False  True False\n",
      " False False False False  True False  True False  True  True False  True\n",
      " False False  True  True  True  True False  True False  True False False\n",
      " False  True  True False  True  True  True  True False False False False\n",
      " False False False  True  True  True False  True False  True False  True\n",
      "  True False False False  True False  True  True False False False False\n",
      "  True  True  True  True False  True  True  True  True  True  True  True\n",
      "  True  True  True False False  True  True False  True False  True  True\n",
      " False False  True  True  True False False  True False  True  True  True\n",
      "  True  True  True False  True  True  True  True False  True False False\n",
      "  True  True False False False  True False  True  True False False  True\n",
      " False  True False  True False  True False  True  True False  True  True\n",
      " False False False  True False  True  True  True False  True False  True\n",
      "  True False  True False  True False  True  True  True False  True  True\n",
      "  True  True  True  True False False  True False  True False  True False\n",
      "  True  True  True False  True  True False  True False False False False\n",
      " False  True False False False False  True False  True  True  True  True\n",
      " False  True  True False False  True False  True  True  True False  True\n",
      "  True False  True  True  True False False  True False False  True False\n",
      " False  True False  True False  True False  True  True False False  True\n",
      "  True  True False  True False False False False  True False False  True\n",
      " False  True False False  True False False  True False  True False False\n",
      " False  True False  True  True False  True False False  True  True  True\n",
      " False False False False  True False  True False False False False False\n",
      " False  True False False False  True False  True  True]\n",
      "\n",
      "accuracy_score_2\n",
      "0.501400560224\n",
      "\n",
      "probabilities\n",
      "[[ nan  nan]\n",
      " [ nan  nan]\n",
      " [ nan  nan]\n",
      " [ nan  nan]\n",
      " [ nan  nan]\n",
      " [ nan  nan]\n",
      " [ nan  nan]\n",
      " [ nan  nan]\n",
      " [ nan  nan]\n",
      " [ nan  nan]]\n"
     ]
    }
   ],
   "source": [
    "print('predictions')\n",
    "print(predictions_2)\n",
    "print()\n",
    "print('coincidence')\n",
    "print (coincidence_2)\n",
    "print()\n",
    "from sklearn.metrics import accuracy_score\n",
    "print('accuracy_score_2')\n",
    "print(accuracy_score(y_test, predictions_2))\n",
    "print()\n",
    "print('probabilities')\n",
    "print(proba_2[:10])"
   ]
  },
  {
   "cell_type": "code",
   "execution_count": 28,
   "metadata": {
    "collapsed": false
   },
   "outputs": [
    {
     "name": "stdout",
     "output_type": "stream",
     "text": [
      "             precision    recall  f1-score   support\n",
      "\n",
      "    sci.med       0.50      1.00      0.67       179\n",
      "  sci.space       0.00      0.00      0.00       178\n",
      "\n",
      "avg / total       0.25      0.50      0.33       357\n",
      "\n"
     ]
    },
    {
     "name": "stderr",
     "output_type": "stream",
     "text": [
      "C:\\Users\\Полина\\Anaconda3\\lib\\site-packages\\sklearn\\metrics\\classification.py:1074: UndefinedMetricWarning: Precision and F-score are ill-defined and being set to 0.0 in labels with no predicted samples.\n",
      "  'precision', 'predicted', average, warn_for)\n"
     ]
    }
   ],
   "source": [
    "from sklearn.metrics import classification_report\n",
    "print(classification_report(y_test, predictions_2, target_names=newsgroups_2.target_names))"
   ]
  },
  {
   "cell_type": "markdown",
   "metadata": {},
   "source": [
    "# Пояснение\n",
    "Поменялись как результаты точности, так и таблица вероятности встречи слова. Когда мы ставим параметр сглаживания `alpha=0`, то подразумеваем, что если слово в нашей выборке не встретилось в тексте ни одного раза, то какую бы выборку мы не взяли, вероятность успеха (т.е. вероятность того, что мы встретим это слово) равна 0. Основное предположение метода наивного Байеса заключается в том, что признаки независимы между собой, т.е. при подсчёте вероятности того, что текст принадлежит какой-либо из выбранных нами категорий будет находиться из произведения вероятностей вхождения каждого слова (следует из независимости). А так как некоторые из этих перемножаемых вероятностей равны нулю, то и всё произведение даст 0. Итого вероятность того, что какой-то выборочный текст принадлежит одной из наших категорий равна нулю.\n",
    "Таким образом, мы совершенно отбрасываем возможность того, что  слово на самом деле присутствует в данных, просто наша выборка такова, что это слово в ней не встретилось. Тогда нужно применять какие-либо методы, которые в случае \"невстречи\" слова из выборки в данных припишут ей вероятность несколько большую, чем нулевую, чтобы всё произведение вероятностей не свелось к 0."
   ]
  }
 ],
 "metadata": {
  "kernelspec": {
   "display_name": "Python 3",
   "language": "python",
   "name": "python3"
  },
  "language_info": {
   "codemirror_mode": {
    "name": "ipython",
    "version": 3
   },
   "file_extension": ".py",
   "mimetype": "text/x-python",
   "name": "python",
   "nbconvert_exporter": "python",
   "pygments_lexer": "ipython3",
   "version": "3.5.1"
  }
 },
 "nbformat": 4,
 "nbformat_minor": 0
}
