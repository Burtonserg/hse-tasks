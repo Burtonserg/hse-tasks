{
 "cells": [
  {
   "cell_type": "markdown",
   "metadata": {},
   "source": [
    "# Домашняя работа №2\n",
    "Панов А.А, Шестаков А.В. Майнор по анализу данных 2016"
   ]
  },
  {
   "cell_type": "markdown",
   "metadata": {},
   "source": [
    "<hr\\>\n",
    "**Общая информация**\n",
    "\n",
    "**Срок сдачи:** 12 марта 2016, 23:59 <br\\>\n",
    "**Штраф за опоздание:** -0.5 за каждый день\n",
    "\n",
    "При отправлении ДЗ на почту указывайте фамилию в названии файла, а тему письма оформляйте в следующем виде:<br\\>\n",
    "** [minor-da-16] *{Фамилия}* *{Имя}* ДЗ*{Номер}* **<br\\>\n",
    "\n",
    "\n",
    "Сопровождайте ваш код изображеними, комментариями и выводами. <br\\>\n",
    "Иммейте ввиду, что на некоторые задачи нет единственного верного и полного ответа. Чем больше информации вы сможете извлечь, аргументированных выводов сформулировать, тем лучше.\n",
    "\n",
    "Используйте данный Ipython Notebook при оформлении домашнего задания.\n",
    "<hr\\>"
   ]
  },
  {
   "cell_type": "markdown",
   "metadata": {},
   "source": [
    "## 1. Теория веротяностей. Распределения"
   ]
  },
  {
   "cell_type": "markdown",
   "metadata": {},
   "source": [
    "В SciPy более 80 видов непрерывных и более 12 дискретных распределений, более 70 статистических функций"
   ]
  },
  {
   "cell_type": "code",
   "execution_count": 557,
   "metadata": {
    "collapsed": true
   },
   "outputs": [],
   "source": [
    "import scipy as sp\n",
    "import numpy as np\n",
    "import pandas as pd\n",
    "import scipy.stats as stats\n",
    "import matplotlib.pyplot as plt\n",
    "import math\n",
    "%matplotlib inline\n",
    "\n",
    "plt.style.use('ggplot')\n",
    "font = {'family': 'Verdana',\n",
    "        'weight': 'normal'}\n",
    "plt.rc('font', **font)"
   ]
  },
  {
   "cell_type": "markdown",
   "metadata": {},
   "source": [
    "**Задача 1.** Сгенерируйте три распределения: гауссовское с мат. ожиданием 1 и дисперсией 4, хи-квадрат с $k = 3$ и дискртеное пуассоновское с $\\lambda = 10$.<br/> \n",
    "\n",
    "При генерации используйте 500 точек. Посчитайте для каждого из них обчный набор статистик: среднее, минимум, максимум, дисперсию, кривизну и смещенность."
   ]
  },
  {
   "cell_type": "code",
   "execution_count": null,
   "metadata": {
    "collapsed": true
   },
   "outputs": [],
   "source": [
    "можно сделать все в виде цикла, чтоб было для всех функций сразу"
   ]
  },
  {
   "cell_type": "code",
   "execution_count": 531,
   "metadata": {
    "collapsed": false
   },
   "outputs": [
    {
     "name": "stdout",
     "output_type": "stream",
     "text": [
      "среднее значение: 1.05634376018\n",
      "дисперсия: 3.85893985225\n",
      "минимальное значение: -4.94902511475\n",
      "максимальное значение: 7.22689883224\n",
      "кривизна: 0.054182117685553255\n",
      "смещенность: 0.20460945025364358 - смещено вправо\n"
     ]
    },
    {
     "data": {
      "image/png": "[encoded data removed]",
      "text/plain": [
       "<matplotlib.figure.Figure at 0x189ca93dfd0>"
      ]
     },
     "metadata": {},
     "output_type": "display_data"
    }
   ],
   "source": [
    "# Гауссовское(нормальное) распределение с мат. ожиданием 1 и диспресией 4:\n",
    "x_norm= stats.norm.rvs(1, math.sqrt(4), size=500)\n",
    "plt.hist(x_norm, bins = 30)\n",
    "meanX = np.mean(x_norm)\n",
    "print('среднее значение:', meanX )\n",
    "varX = (np.std(x_norm))**2\n",
    "print('дисперсия:', varX)\n",
    "minX = np.min(x_norm)\n",
    "print('минимальное значение:', minX)\n",
    "maxX = np.max(x_norm)\n",
    "print('максимальное значение:', maxX)\n",
    "kurX = stats.kurtosis(x_norm)\n",
    "print('кривизна:', kurX)\n",
    "skewX = stats.skew(x_norm)\n",
    "if skewX < 0:\n",
    "    print('смещенность:', skewX, '-', 'смещено влево')\n",
    "else:\n",
    "    print('смещенность:', skewX, '-', 'смещено вправо')\n"
   ]
  },
  {
   "cell_type": "code",
   "execution_count": 530,
   "metadata": {
    "collapsed": false
   },
   "outputs": [
    {
     "name": "stdout",
     "output_type": "stream",
     "text": [
      "среднее значение: 2.95603730286\n",
      "дисперсия: 5.48175185815\n",
      "минимальное значение: 0.0648820106591\n",
      "максимальное значение: 16.1588899385\n",
      "кривизна: 3.461291404109012\n",
      "смещенность: 1.5554223265404132 - смещено вправо\n"
     ]
    },
    {
     "data": {
      "image/png": "[encoded data removed]",
      "text/plain": [
       "<matplotlib.figure.Figure at 0x189ca1e7dd8>"
      ]
     },
     "metadata": {},
     "output_type": "display_data"
    }
   ],
   "source": [
    "# Распределение хи-квадрат со стеепенью свободы k=3\n",
    "x_chi2= stats.chi2.rvs(3, size=500)\n",
    "plt.hist(x_chi2, bins = 30)\n",
    "meanX1 = np.mean(x_chi2)\n",
    "print('среднее значение:', meanX1 )\n",
    "varX1 = (np.std(x_chi2))**2\n",
    "print('дисперсия:', varX1)\n",
    "minX1 = np.min(x_chi2)\n",
    "print('минимальное значение:', minX1)\n",
    "maxX1 = np.max(x_chi2)\n",
    "print('максимальное значение:', maxX1)\n",
    "kurX1 = stats.kurtosis(x_chi2)\n",
    "print('кривизна:', kurX1)\n",
    "skewX1 = stats.skew(x_chi2)\n",
    "if skewX1 < 0:\n",
    "    print('смещенность:', skewX1, '-', 'смещено влево')\n",
    "else:\n",
    "    print('смещенность:', skewX1, '-', 'смещено вправо')\n"
   ]
  },
  {
   "cell_type": "code",
   "execution_count": 532,
   "metadata": {
    "collapsed": false
   },
   "outputs": [
    {
     "name": "stdout",
     "output_type": "stream",
     "text": [
      "среднее значение: 10.14\n",
      "дисперсия: 11.6804\n",
      "минимальное значение: 1\n",
      "максимальное значение: 20\n",
      "кривизна: -0.13696742700939968\n",
      "смещенность: 0.2929758171533516 - смещено вправо\n"
     ]
    },
    {
     "data": {
      "image/png": "[encoded data removed]",
      "text/plain": [
       "<matplotlib.figure.Figure at 0x189ca940be0>"
      ]
     },
     "metadata": {},
     "output_type": "display_data"
    }
   ],
   "source": [
    "# Распределение Пуассона(λ=10)\n",
    "x_po= stats.poisson.rvs(10, size=500)\n",
    "plt.hist(x_po, bins = 30)\n",
    "meanX2 = np.mean(x_po)\n",
    "print('среднее значение:', meanX2 )\n",
    "varX2 = (np.std(x_po))**2\n",
    "print('дисперсия:', varX2)\n",
    "minX2 = np.min(x_po)\n",
    "print('минимальное значение:', minX2)\n",
    "maxX2 = np.max(x_po)\n",
    "print('максимальное значение:', maxX2)\n",
    "kurX2 = stats.kurtosis(x_po)\n",
    "print('кривизна:', kurX2)\n",
    "skewX2 = stats.skew(x_po)\n",
    "if skewX2 < 0:\n",
    "    print('смещенность:', skewX2, '-', 'смещено влево')\n",
    "else:\n",
    "    print('смещенность:', skewX2, '-', 'смещено вправо')\n"
   ]
  },
  {
   "cell_type": "markdown",
   "metadata": {},
   "source": [
    "**Задача 2.** Найрисуйте функцию (cdf) и плотность (pdf) распределений. На графиках pdf отметьте среднее значение и медиану."
   ]
  },
  {
   "cell_type": "code",
   "execution_count": 537,
   "metadata": {
    "collapsed": false
   },
   "outputs": [
    {
     "data": {
      "text/plain": [
       "<matplotlib.text.Text at 0x189ca952710>"
      ]
     },
     "execution_count": 537,
     "metadata": {},
     "output_type": "execute_result"
    },
    {
     "data": {
      "image/png": "[encoded data removed]",
      "text/plain": [
       "<matplotlib.figure.Figure at 0x189cab27c50>"
      ]
     },
     "metadata": {},
     "output_type": "display_data"
    }
   ],
   "source": [
    "mu = 1\n",
    "sig = 2\n",
    "\n",
    "fig, ax = plt.subplots(1,2)\n",
    "fig.set_size_inches(14,6)\n",
    "x = np.arange(-7, 9)\n",
    "prob_dens = stats.norm.pdf(x, mu, sig)\n",
    "prob = stats.norm.cdf(x, mu, sig)\n",
    "ax[0].bar(x,prob_dens)\n",
    "ax[1].plot(x, prob)\n",
    "\n",
    "ax[0].set_title(u'Плотность распределения')\n",
    "ax[1].set_title(u'Функция распределения')\n"
   ]
  },
  {
   "cell_type": "code",
   "execution_count": 526,
   "metadata": {
    "collapsed": false
   },
   "outputs": [
    {
     "data": {
      "text/plain": [
       "<matplotlib.text.Text at 0x189c9b2db38>"
      ]
     },
     "execution_count": 526,
     "metadata": {},
     "output_type": "execute_result"
    },
    {
     "data": {
      "image/png": "[encoded data removed]",
      "text/plain": [
       "<matplotlib.figure.Figure at 0x189c9a96be0>"
      ]
     },
     "metadata": {},
     "output_type": "display_data"
    }
   ],
   "source": [
    "n = 15\n",
    "k = 3\n",
    "\n",
    "fig, ax = plt.subplots(1,2)\n",
    "fig.set_size_inches(14,6)\n",
    "x = np.arange(0, n)\n",
    "prob_dens = stats.chi2.pdf(x, k)\n",
    "prob = stats.chi2.cdf(x, k)\n",
    "ax[0].bar(x,prob_dens)\n",
    "ax[1].plot(x, prob)\n",
    "\n",
    "ax[0].set_title(u'Плотность распределения')\n",
    "ax[1].set_title(u'Функция распределения')"
   ]
  },
  {
   "cell_type": "code",
   "execution_count": 529,
   "metadata": {
    "collapsed": false
   },
   "outputs": [
    {
     "data": {
      "text/plain": [
       "<matplotlib.text.Text at 0x189ca296e10>"
      ]
     },
     "execution_count": 529,
     "metadata": {},
     "output_type": "execute_result"
    },
    {
     "data": {
      "image/png": "[encoded data removed]",
      "text/plain": [
       "<matplotlib.figure.Figure at 0x189ca268390>"
      ]
     },
     "metadata": {},
     "output_type": "display_data"
    }
   ],
   "source": [
    "n = 15\n",
    "lamb = 10\n",
    "\n",
    "fig, ax = plt.subplots(1,2)\n",
    "fig.set_size_inches(14,6)\n",
    "x = np.arange(0, 2*n)\n",
    "prob_dens = stats.poisson.pmf(x, lamb)\n",
    "prob = stats.poisson.cdf(x, lamb)\n",
    "ax[0].bar(x, prob_dens)\n",
    "ax[1].plot(x, prob)\n",
    "\n",
    "ax[0].set_title(u'Плотность распределения')\n",
    "ax[1].set_title(u'Функция распределения')"
   ]
  },
  {
   "cell_type": "markdown",
   "metadata": {},
   "source": [
    "**Задача 3.** Выведите описательные статистики распределений с помощью `scipy.stats.describe`. "
   ]
  },
  {
   "cell_type": "code",
   "execution_count": 425,
   "metadata": {
    "collapsed": false
   },
   "outputs": [
    {
     "name": "stdout",
     "output_type": "stream",
     "text": [
      "Нормальное распределение:\n",
      "DescribeResult(nobs=500, minmax=(-6.1485895990549801, 7.4047647725448362), mean=0.9767371647859634, variance=4.3244345011522309, skewness=0.023218215371564353, kurtosis=0.15101508936593522)\n",
      "Распределение хи-квадрат:\n",
      "DescribeResult(nobs=500, minmax=(0.042603129553406741, 17.311323506948479), mean=3.0889386152637508, variance=7.6667044503427872, skewness=2.033320211525297, kurtosis=5.4135140118696246)\n",
      "Распределение Пуассона:\n",
      "DescribeResult(nobs=500, minmax=(0, 11), mean=3.04, variance=2.9162324649298603, skewness=0.6965982266570838, kurtosis=0.9528896163851046)\n"
     ]
    }
   ],
   "source": [
    "list1 = ['Нормальное распределение:', 'Распределение хи-квадрат:','Распределение Пуассона:']\n",
    "list = [x_norm, x_chi2, x_po]\n",
    "for i in range(len(list)):\n",
    "    a = str(list1[i])\n",
    "    print(a, sp.stats.describe(list[i]) , sep='\\n' )\n",
    "    "
   ]
  },
  {
   "cell_type": "markdown",
   "metadata": {},
   "source": [
    "## 2. Теория вероятностей. Корреляция и метод максимального правдоподобия"
   ]
  },
  {
   "cell_type": "markdown",
   "metadata": {},
   "source": [
    "Корреляции с помощью ивестных вам пакетов можно посчитать несколькими способами: pandas.DataFrame.corr и numpy.correlate, numpy.corrcoef и scipy.stats.pearsonr для корреляционного коэффициента Пирсона, scipy.stats.spearmanr для корреляционного коэффициента Спирмена."
   ]
  },
  {
   "cell_type": "markdown",
   "metadata": {},
   "source": [
    "Объясните [разницу](http://support.minitab.com/en-us/minitab-express/1/help-and-how-to/modeling-statistics/regression/supporting-topics/basics/a-comparison-of-the-pearson-and-spearman-correlation-methods/) между коэффициентами корреляции Спирмена и Пирсона."
   ]
  },
  {
   "cell_type": "markdown",
   "metadata": {
    "collapsed": true
   },
   "source": [
    "В качестве коэффициента корреляции между переменными, принадлежащими порядковой шкале применяется коэффициент Спирмена, а для переменных, принадлежащих к интервальной шкале — коэффициент корреляции Пирсона (момент произведений). При этом следует учесть, что каждую дихотомическую переменную, то есть переменную, принадлежащую к номинальной шкале и имеющую две категории, можно рассматривать как порядковую.\n",
    "коэффициент Пирсона измеряет линейную взаимосвязь между переменными: изменения одной переменной приводят к изменению другой, коэффициент Спирмена определяет корреляцию в случае монотонного изменения переменных:изменяются в одном направлении но не обяательно с постоянным темпом"
   ]
  },
  {
   "cell_type": "markdown",
   "metadata": {},
   "source": [
    "В данных из файла [beauty.csv](https://www.dropbox.com/s/xio77e9p0oe1wqw/beauty.csv?dl=0) для каждого опрошенного имеется следующая информация: заработная плата за час работы, опыт работы, образование, внешняя привлекательность (в баллах от 1 до 5), бинарные признаки: пол, семейное положение, состояние здоровья (хорошее/плохое), членство в профсоюзе, цвет кожи (белый/чёрный), занятость в сфере обслуживания (да/нет)."
   ]
  },
  {
   "cell_type": "markdown",
   "metadata": {},
   "source": [
    "**Задание 1.** Найдите 3 пары признаков с наибольшей корреляцией. Поясните на конктретных примерах, что означают полученные коэффициенты корреляции."
   ]
  },
  {
   "cell_type": "code",
   "execution_count": 426,
   "metadata": {
    "collapsed": false
   },
   "outputs": [],
   "source": [
    "dataframe = pd.read_csv('beauty.csv', sep = ';')"
   ]
  },
  {
   "cell_type": "code",
   "execution_count": 427,
   "metadata": {
    "collapsed": false
   },
   "outputs": [
    {
     "data": {
      "text/html": [
       "<div>\n",
       "<table border=\"1\" class=\"dataframe\">\n",
       "  <thead>\n",
       "    <tr style=\"text-align: right;\">\n",
       "      <th></th>\n",
       "      <th>wage</th>\n",
       "      <th>exper</th>\n",
       "      <th>union</th>\n",
       "      <th>goodhlth</th>\n",
       "      <th>black</th>\n",
       "      <th>female</th>\n",
       "      <th>married</th>\n",
       "      <th>service</th>\n",
       "      <th>educ</th>\n",
       "      <th>looks</th>\n",
       "    </tr>\n",
       "  </thead>\n",
       "  <tbody>\n",
       "    <tr>\n",
       "      <th>0</th>\n",
       "      <td>5.73</td>\n",
       "      <td>30</td>\n",
       "      <td>0</td>\n",
       "      <td>1</td>\n",
       "      <td>0</td>\n",
       "      <td>1</td>\n",
       "      <td>1</td>\n",
       "      <td>1</td>\n",
       "      <td>14</td>\n",
       "      <td>4</td>\n",
       "    </tr>\n",
       "    <tr>\n",
       "      <th>1</th>\n",
       "      <td>4.28</td>\n",
       "      <td>28</td>\n",
       "      <td>0</td>\n",
       "      <td>1</td>\n",
       "      <td>0</td>\n",
       "      <td>1</td>\n",
       "      <td>1</td>\n",
       "      <td>0</td>\n",
       "      <td>12</td>\n",
       "      <td>3</td>\n",
       "    </tr>\n",
       "    <tr>\n",
       "      <th>2</th>\n",
       "      <td>7.96</td>\n",
       "      <td>35</td>\n",
       "      <td>0</td>\n",
       "      <td>1</td>\n",
       "      <td>0</td>\n",
       "      <td>1</td>\n",
       "      <td>0</td>\n",
       "      <td>0</td>\n",
       "      <td>10</td>\n",
       "      <td>4</td>\n",
       "    </tr>\n",
       "    <tr>\n",
       "      <th>3</th>\n",
       "      <td>11.57</td>\n",
       "      <td>38</td>\n",
       "      <td>0</td>\n",
       "      <td>1</td>\n",
       "      <td>0</td>\n",
       "      <td>0</td>\n",
       "      <td>1</td>\n",
       "      <td>1</td>\n",
       "      <td>16</td>\n",
       "      <td>3</td>\n",
       "    </tr>\n",
       "    <tr>\n",
       "      <th>4</th>\n",
       "      <td>11.42</td>\n",
       "      <td>27</td>\n",
       "      <td>0</td>\n",
       "      <td>1</td>\n",
       "      <td>0</td>\n",
       "      <td>0</td>\n",
       "      <td>1</td>\n",
       "      <td>0</td>\n",
       "      <td>16</td>\n",
       "      <td>3</td>\n",
       "    </tr>\n",
       "  </tbody>\n",
       "</table>\n",
       "</div>"
      ],
      "text/plain": [
       "    wage  exper  union  goodhlth  black  female  married  service  educ  looks\n",
       "0   5.73     30      0         1      0       1        1        1    14      4\n",
       "1   4.28     28      0         1      0       1        1        0    12      3\n",
       "2   7.96     35      0         1      0       1        0        0    10      4\n",
       "3  11.57     38      0         1      0       0        1        1    16      3\n",
       "4  11.42     27      0         1      0       0        1        0    16      3"
      ]
     },
     "execution_count": 427,
     "metadata": {},
     "output_type": "execute_result"
    }
   ],
   "source": [
    "dataframe.head(5)"
   ]
  },
  {
   "cell_type": "markdown",
   "metadata": {},
   "source": [
    "из данной таблицы можно увидеть, что переменные **union**, **goodhealth**, **female**, **married**, **service** имеют только две категории, соответственно, их можно рассматривать как порядковые, а корреляцию считать по коэффициенту Спирмена."
   ]
  },
  {
   "cell_type": "code",
   "execution_count": 428,
   "metadata": {
    "collapsed": false
   },
   "outputs": [
    {
     "name": "stdout",
     "output_type": "stream",
     "text": [
      "Корреляция переменных по коэффициенту Пирсона: \n",
      "\n",
      "service&educ 0.301628474412\n",
      "female&service 0.267961340417\n",
      "exper&married 0.255606932275\n",
      "\n",
      "\n",
      "Корреляция переменных по коэффициенту Спирмена: \n",
      "\n",
      "wage&exper 0.36086106028\n",
      "service&educ 0.307786682255\n",
      "exper&married 0.285989844338\n"
     ]
    }
   ],
   "source": [
    "# создадим список, содержащий названия переменных и списки, в которых будут хранится коэффициенты корреляции \n",
    "# и наименования коррелирующих пеменных\n",
    "# найдем коэффициент корреляции Пирсена и Спирмена для пар, составленных из всех имеющихся переменных\n",
    "a = dataframe.columns\n",
    "Spearman = []\n",
    "Pearson = []\n",
    "names = []\n",
    "\n",
    "for i in range(len(a)-1):\n",
    "    c = a[i]\n",
    "    for g in range(i+1, len(a)):\n",
    "        b = a[g] \n",
    "        if c != b:\n",
    "            c1, b1 = dataframe[c], dataframe[b]\n",
    "            St1 = sp.stats.pearsonr(c1, b1)\n",
    "            St2 = sp.stats.spearmanr(c1, b1)\n",
    "            Pearson.append(St1[0])\n",
    "            Spearman.append(St2[0])\n",
    "            name = c+'&'+b\n",
    "            names.append(name)\n",
    "# создадим и отсортируем список коэф корреляции\n",
    "p = sorted(Pearson, reverse=True)[0:3]\n",
    "s = sorted(Spearman, reverse=True)[0:3]\n",
    "# сформируем словари из коэффициентов и переменных\n",
    "result_pearson = dict(zip(Pearson, names))\n",
    "result_spearman = dict(zip(Spearman, names))\n",
    "\n",
    "print('Корреляция переменных по коэффициенту Пирсона:', '\\n')\n",
    "for key in p:\n",
    "    print(result_pearson[key], key)\n",
    "print('\\n')\n",
    "\n",
    "print('Корреляция переменных по коэффициенту Спирмена:', '\\n')\n",
    "for key1 in s:\n",
    "    print(result_spearman[key1], key1)\n",
    "\n"
   ]
  },
  {
   "cell_type": "code",
   "execution_count": 553,
   "metadata": {
    "collapsed": false
   },
   "outputs": [
    {
     "name": "stdout",
     "output_type": "stream",
     "text": [
      "Корреляция переменных по коэффициенту Пирсона: \n",
      "\n",
      "wage&exper 0.234632211846\n",
      "wage&educ 0.212332821478\n",
      "educ&looks 0.153841721638\n",
      "\n",
      "\n",
      "Корреляция переменных по коэффициенту Спирмена: \n",
      "\n",
      "female&service 0.267961340417\n",
      "union&married 0.0536285587653\n",
      "goodhlth&service 0.0499465145149\n"
     ]
    }
   ],
   "source": [
    "# разбив переменные на интервальные и порядковые, найдем коэффициент корреляции Пирсена и Спирмена\n",
    "a = dataframe.columns\n",
    "Spearman = []\n",
    "Pearson = []\n",
    "S = ['union', 'goodhlth', 'female', 'married', 'service']\n",
    "P = ['wage','exper','educ','looks']\n",
    "names_S = []\n",
    "names_P = []\n",
    "\n",
    "for i in range(len(S)-1):\n",
    "    c = str(S[i])\n",
    "    for g in range(i+1, len(S)):\n",
    "        b = str(S[g]) \n",
    "        if c != b:\n",
    "            c1, b1 = dataframe[c], dataframe[b]\n",
    "            St1 = sp.stats.spearmanr(c1, b1)\n",
    "            Spearman.append(St1[0])\n",
    "            name = c+'&'+b\n",
    "            names_S.append(name)\n",
    "\n",
    "for i in range(len(P)-1):\n",
    "    c = str(P[i])\n",
    "    for g in range(i+1, len(P)):\n",
    "        b = str(P[g]) \n",
    "        if c != b:\n",
    "            c1, b1 = dataframe[c], dataframe[b]\n",
    "            St2 = sp.stats.pearsonr(c1, b1)\n",
    "            Pearson.append(St2[0])\n",
    "            name = c+'&'+b\n",
    "            names_P.append(name)\n",
    "\n",
    "# создадим и отсортируем список коэф корреляции\n",
    "p = sorted(Pearson, reverse=True)[0:3]\n",
    "s = sorted(Spearman, reverse=True)[0:3]\n",
    "# сформируем словари из коэффициентов и переменных\n",
    "result_pearson = dict(zip(Pearson, names_P))\n",
    "result_spearman = dict(zip(Spearman, names_S))\n",
    "\n",
    "print('Корреляция переменных по коэффициенту Пирсона:', '\\n')\n",
    "for key in p:\n",
    "    print(result_pearson[key], key)\n",
    "print('\\n')\n",
    "\n",
    "print('Корреляция переменных по коэффициенту Спирмена:', '\\n')\n",
    "for key1 in s:\n",
    "    print(result_spearman[key1], key1)\n",
    "\n"
   ]
  },
  {
   "cell_type": "markdown",
   "metadata": {},
   "source": [
    "**Задание 2.** На семинаре мы рассмотрели различные распрелеления случайных величин (дискретные и непрерывные). \n",
    "\n",
    "Изобразите гистограммы каждого из признаков.<br/>\n",
    "Определите возможный закон распределения каждого из них и оцените его параметры. Если готовой функции в scipy.stats для распределения нет, то оцените эти параметры сами по методу максимального правдоподобия."
   ]
  },
  {
   "cell_type": "code",
   "execution_count": 432,
   "metadata": {
    "collapsed": false
   },
   "outputs": [
    {
     "name": "stdout",
     "output_type": "stream",
     "text": [
      "wage\n",
      "DescribeResult(nobs=1260, minmax=(1.02, 77.719999999999999), mean=6.3066904761904752, variance=21.721556234539882, skewness=4.813465447482802, kurtosis=51.013410015044414)\n",
      "\n",
      "\n",
      "exper\n",
      "DescribeResult(nobs=1260, minmax=(0, 48), mean=18.206349206349206, variance=143.12497951258871, skewness=0.5654052848044664, kurtosis=-0.7491921833011848)\n",
      "\n",
      "\n",
      "union\n",
      "DescribeResult(nobs=1260, minmax=(0, 1), mean=0.2722222222222222, variance=0.19827464477980761, skewness=1.023481894945788, kurtosis=-0.9524848107181789)\n",
      "\n",
      "\n",
      "goodhlth\n",
      "DescribeResult(nobs=1260, minmax=(0, 1), mean=0.93333333333333335, variance=0.062271644162033367, skewness=-3.474396144861516, kurtosis=10.071428571428571)\n",
      "\n",
      "\n",
      "black\n",
      "DescribeResult(nobs=1260, minmax=(0, 1), mean=0.073809523809523811, variance=0.068415976398502221, skewness=3.260073406149577, kurtosis=8.628078613483707)\n",
      "\n",
      "\n",
      "female\n",
      "DescribeResult(nobs=1260, minmax=(0, 1), mean=0.34603174603174602, variance=0.22647351765699664, skewness=0.6473287190237791, kurtosis=-1.5809655295270335)\n",
      "\n",
      "\n",
      "married\n",
      "DescribeResult(nobs=1260, minmax=(0, 1), mean=0.69126984126984126, variance=0.21358536001109474, skewness=-0.8280625812900059, kurtosis=-1.3143123614673324)\n",
      "\n",
      "\n",
      "service\n",
      "DescribeResult(nobs=1260, minmax=(0, 1), mean=0.27380952380952384, variance=0.1989958016566436, skewness=1.0145063298823458, kurtosis=-0.9707769066286529)\n",
      "\n",
      "\n",
      "educ\n",
      "DescribeResult(nobs=1260, minmax=(5, 17), mean=12.563492063492063, variance=6.8879433160608707, skewness=-0.37173603705025887, kurtosis=0.8796442180406299)\n",
      "\n",
      "\n",
      "looks\n",
      "DescribeResult(nobs=1260, minmax=(1, 5), mean=3.1857142857142855, variance=0.46905707477589931, skewness=-0.16593911083266713, kurtosis=0.411144254069042)\n",
      "\n",
      "\n"
     ]
    },
    {
     "data": {
      "image/png": "[encoded data removed]",
      "text/plain": [
       "<matplotlib.figure.Figure at 0x189c8c1be48>"
      ]
     },
     "metadata": {},
     "output_type": "display_data"
    }
   ],
   "source": [
    "\n",
    "fig, ax = plt.subplots(1,len(a))\n",
    "fig.set_size_inches(25,6)\n",
    "for i in range(len(a)):\n",
    "    ax[i].hist(dataframe[a[i]])\n",
    "    ax[i].set_title(a[i])\n",
    "    d = sp.stats.describe(dataframe[a[i]])\n",
    "    print(a[i], d, sep='\\n')\n",
    "    print('\\n')\n",
    "   "
   ]
  },
  {
   "cell_type": "markdown",
   "metadata": {
    "collapsed": true
   },
   "source": [
    "о распределении мы можем судить исходя из полученных гистограмм (http://sixsigmaonline.ru/load/22-1-0-229):\n",
    "\n",
    "для переменной **'wage'** и **'exper'** гистограмма имеет вид (примерно) распределения хи-квадрат\n",
    "\n",
    "для переменных **'union','goodhlth', 'black', 'femail', 'maried', 'service'** гистограмма имеет вид биноминального распределения "
   ]
  },
  {
   "cell_type": "markdown",
   "metadata": {},
   "source": [
    "функция **sp.stats.probplot** формирует вероятностный график выборки данных и соответствующих квантилей указаного теоретическое распределения, чем реальные данные ближе к теоретическому распределению, тем выше R-квадрат и теб ближе точки к линии тренда"
   ]
  },
  {
   "cell_type": "code",
   "execution_count": 496,
   "metadata": {
    "collapsed": false
   },
   "outputs": [
    {
     "data": {
      "text/plain": [
       "<matplotlib.text.Text at 0x1899a542208>"
      ]
     },
     "execution_count": 496,
     "metadata": {},
     "output_type": "execute_result"
    },
    {
     "data": {
      "image/png": "[encoded data removed]",
      "text/plain": [
       "<matplotlib.figure.Figure at 0x189c9636710>"
      ]
     },
     "metadata": {},
     "output_type": "display_data"
    }
   ],
   "source": [
    "fig = plt.figure()\n",
    "fig.set_size_inches(14,14)\n",
    "ax = fig.add_subplot(224)\n",
    "a = stats.probplot(dataframe['exper'], dist=stats.chi2, sparams=(np.std(dataframe['exper']),), plot=ax)\n",
    "ax.set_title(\"Соответствие параметра exper распределению хи-квадрат\")"
   ]
  },
  {
   "cell_type": "code",
   "execution_count": 484,
   "metadata": {
    "collapsed": false
   },
   "outputs": [
    {
     "data": {
      "text/plain": [
       "<matplotlib.text.Text at 0x189c91f29b0>"
      ]
     },
     "execution_count": 484,
     "metadata": {},
     "output_type": "execute_result"
    },
    {
     "data": {
      "image/png": "[encoded data removed]",
      "text/plain": [
       "<matplotlib.figure.Figure at 0x189bd934710>"
      ]
     },
     "metadata": {},
     "output_type": "display_data"
    }
   ],
   "source": [
    "fig = plt.figure()\n",
    "fig.set_size_inches(14,14)\n",
    "ax = fig.add_subplot(224)\n",
    "a = stats.probplot(dataframe['wage'], dist=stats.chi2, sparams=(np.std(dataframe['wage'])), plot=ax)\n",
    "ax.set_title(\"Соответствие параметра wage распределению хи-квадрат\")"
   ]
  },
  {
   "cell_type": "code",
   "execution_count": 516,
   "metadata": {
    "collapsed": false
   },
   "outputs": [
    {
     "name": "stdout",
     "output_type": "stream",
     "text": [
      "переменная education, оцененная по методу максимального правдоподобия\n",
      "mean: 12.5634920635\n",
      "standard deviation: 2.62344748268\n"
     ]
    }
   ],
   "source": [
    "mean, standard_deviation = sp.stats.norm.fit(dataframe['educ'])\n",
    "print('переменная education, оцененная по методу максимального правдоподобия')\n",
    "print('mean:', mean)\n",
    "print('standard deviation:', standard_deviation)"
   ]
  },
  {
   "cell_type": "code",
   "execution_count": 517,
   "metadata": {
    "collapsed": false
   },
   "outputs": [
    {
     "name": "stdout",
     "output_type": "stream",
     "text": [
      "переменная looks, оцененная по методу максимального правдоподобия\n",
      "mean: 3.18571428571\n",
      "standard deviation: 0.684605585178\n"
     ]
    }
   ],
   "source": [
    "mean, standard_deviation = sp.stats.norm.fit(dataframe['looks'])\n",
    "print('переменная looks, оцененная по методу максимального правдоподобия')\n",
    "print('mean:', mean)\n",
    "print('standard deviation:', standard_deviation)"
   ]
  },
  {
   "cell_type": "markdown",
   "metadata": {},
   "source": [
    "## 3. Метод наивного Байеса"
   ]
  },
  {
   "cell_type": "markdown",
   "metadata": {},
   "source": [
    "Пояснения по выполнению этого задания будут рассказаны на семинаре 1 марта"
   ]
  },
  {
   "cell_type": "markdown",
   "metadata": {},
   "source": [
    "Обучение методом наивного Байеса основывается на достаточно сильном предположении, что все признаки попарно независимы. По формуле Байеса $$P(y|x_1,\\dots,x_n)=\\frac{P(y)P(x_1,\\dots,x_n|y)}{P(x_1,\\dots,x_n)}.$$ В предположении, что признаки независимы получаем, что $$P(y|x_1,\\dots,x_n)=\\frac{P(y)\\prod_{i=1}^n P(x_i|y)}{P(x_1,\\dots,x_n)}$$\n",
    "Т.к. $$P(x_1,\\dots,x_n)$$ задается условиями задачи, принцип максимального правдоподобия для наивного Байеса запишется следующим образом: $$\\hat y = \\arg\\max_y P(y)\\prod_{i=1}^n P(x_i|y).$$\n",
    "\n",
    "\n",
    "Библиотека `sklearn` поддерживает несколько реализаций наивного Байеса: `sklearn.naive_bayes.GaussianNB`, `sklearn.naive_bayes.MultinomialNB` и др."
   ]
  },
  {
   "cell_type": "code",
   "execution_count": 392,
   "metadata": {
    "collapsed": true
   },
   "outputs": [],
   "source": [
    "from sklearn.cross_validation import train_test_split\n",
    "from sklearn.datasets import fetch_20newsgroups\n",
    "from sklearn.naive_bayes import MultinomialNB\n",
    "from sklearn.feature_extraction.text import CountVectorizer\n",
    "from sklearn import metrics"
   ]
  },
  {
   "cell_type": "markdown",
   "metadata": {},
   "source": [
    "**Задание 1.** Выберите 2 категории новостных сообщений из `20newsgroups`. Случайным образом, в пропорции 70/30, разделите наборы текстов на обучающую и контрольную выборки. В результате выполнения данного задания у вас должно получится 5 переменных: `text_all`, `text_train`, `text_test`, `y_train`, `y_test`."
   ]
  },
  {
   "cell_type": "code",
   "execution_count": 6,
   "metadata": {
    "collapsed": false
   },
   "outputs": [],
   "source": [
    "# Список новостных заголовков\n",
    "['alt.atheism',\n",
    " 'comp.graphics',\n",
    " 'comp.os.ms-windows.misc',\n",
    " 'comp.sys.ibm.pc.hardware',\n",
    " 'comp.sys.mac.hardware',\n",
    " 'comp.windows.x',\n",
    " 'misc.forsale',\n",
    " 'rec.autos',\n",
    " 'rec.motorcycles',\n",
    " 'rec.sport.baseball',\n",
    " 'rec.sport.hockey',\n",
    " 'sci.crypt',\n",
    " 'sci.electronics',\n",
    " 'sci.med',\n",
    " 'sci.space',\n",
    " 'soc.religion.christian',\n",
    " 'talk.politics.guns',\n",
    " 'talk.politics.mideast',\n",
    " 'talk.politics.misc',\n",
    " 'talk.religion.misc']\n"
   ]
  },
  {
   "cell_type": "code",
   "execution_count": 415,
   "metadata": {
    "collapsed": false
   },
   "outputs": [
    {
     "name": "stdout",
     "output_type": "stream",
     "text": [
      "1380 591\n",
      "1380\n",
      "591\n"
     ]
    }
   ],
   "source": [
    "print(len(text_train), len(text_test))\n",
    "print(round(len(text_all.data)*0.7)) #количество элементов в обучающей выборке\n",
    "print(len(text_all.data)-round(len(text_all.data)*0.7)) #количество элементов в контрольной выборке"
   ]
  },
  {
   "cell_type": "code",
   "execution_count": 377,
   "metadata": {
    "collapsed": false
   },
   "outputs": [],
   "source": [
    "# fetch_20newsgroups(subset='all') перемешивает переменные, соответсвенно можно будет разделить список используя слои\n",
    "news = ['sci.electronics','sci.space']\n",
    "text_all = fetch_20newsgroups(subset='all', categories = news)\n",
    "text_train = text_all.data[:1380]\n",
    "text_test = text_all.data[1380:]\n",
    "y_train = text_all.target[:1380]\n",
    "y_test = text_all.target[1380:]\n"
   ]
  },
  {
   "cell_type": "markdown",
   "metadata": {},
   "source": [
    "**Задание 2.** На переменной `text` постройте конвертер из текстов в частотную матрицу с помощью метода `CountVectorizer(analyzer='word', stop_words='english', lowercase=True)`, а затем используйте его на выборках `train` и `test`. В результате вы должны получить 2 матрицы: `X_train` и `X_test`."
   ]
  },
  {
   "cell_type": "code",
   "execution_count": 393,
   "metadata": {
    "collapsed": false
   },
   "outputs": [],
   "source": [
    "count_vect = CountVectorizer(analyzer='word', stop_words='english', lowercase=True)\n",
    "X_test = count_vect.fit_transform(text_test)\n",
    "X_train = count_vect.fit_transform(text_train)\n"
   ]
  },
  {
   "cell_type": "markdown",
   "metadata": {},
   "source": [
    "**Задание 3.** По матрице `X_train` найдите 50 самых частотных слов. Соответствия столбцов и слов можно понять по методу `CountVectorizer.get_feature_names()`."
   ]
  },
  {
   "cell_type": "code",
   "execution_count": 568,
   "metadata": {
    "collapsed": false
   },
   "outputs": [
    {
     "name": "stdout",
     "output_type": "stream",
     "text": [
      "23429\n",
      "количество столбцов в обучающей выборке и длина списка значений совпадают: работаем с X_train\n",
      "\n",
      "\n",
      "50 самых частотных слов: \n",
      "\n",
      "toronto\n",
      "long\n",
      "years\n",
      "shuttle\n",
      "program\n",
      "program\n",
      "want\n",
      "want\n",
      "way\n",
      "launch\n",
      "orbit\n",
      "10\n",
      "make\n",
      "world\n",
      "people\n",
      "need\n",
      "power\n",
      "power\n",
      "used\n",
      "used\n",
      "work\n",
      "distribution\n",
      "data\n",
      "access\n",
      "think\n",
      "think\n",
      "new\n",
      "earth\n",
      "gov\n",
      "does\n",
      "time\n",
      "ca\n",
      "know\n",
      "use\n",
      "use\n",
      "university\n",
      "nntp\n",
      "just\n",
      "host\n",
      "posting\n",
      "like\n",
      "nasa\n",
      "article\n",
      "writes\n",
      "com\n",
      "organization\n",
      "space\n",
      "lines\n",
      "subject\n",
      "edu\n"
     ]
    }
   ],
   "source": [
    "values = count_vect.get_feature_names()\n",
    "print(len(values))\n",
    "if X_train.shape[1] == len(values):\n",
    "    print('количество столбцов в обучающей выборке и длина списка значений совпадают: работаем с X_train')\n",
    "print('\\n')\n",
    "\n",
    "# определим количество повторений слов, просуммировав построчно\n",
    "a = sum(X_train[:,0:23429])\n",
    "a1 = a.toarray()\n",
    "d = [i for i in range(0,23429)]\n",
    "res = dict(zip(a1[0], d))\n",
    "a1[0].sort()\n",
    "freq = a1[0][23429-50:23429]\n",
    "    \n",
    "li = [] # лист с порядковыми номерами значений столбцов в матрице X_train\n",
    "for key in freq:\n",
    "    ult = res[key]\n",
    "    li.append(ult)\n",
    "    \n",
    "print('50 самых частотных слов:', '\\n')\n",
    "for i in li:\n",
    "    a = values[i]\n",
    "    print(a, sep='\\n')"
   ]
  },
  {
   "cell_type": "markdown",
   "metadata": {},
   "source": [
    "**Задание 4.** Обучите наивный байесовский классификатор MultinomialNB с параметром слгаживания `alpha=1` на выборке train. Примените его к данным из тестовой выборке и оцените точность совпадения меток."
   ]
  },
  {
   "cell_type": "markdown",
   "metadata": {},
   "source": [
    "метод from **sklearn.pipeline import Pipeline** взят из http://scikit-learn.org/stable/tutorial/text_analytics/working_with_text_data.html#parameter-tuning-using-grid-search"
   ]
  },
  {
   "cell_type": "code",
   "execution_count": 407,
   "metadata": {
    "collapsed": false
   },
   "outputs": [
    {
     "data": {
      "text/plain": [
       "0.99153976311336722"
      ]
     },
     "execution_count": 407,
     "metadata": {},
     "output_type": "execute_result"
    }
   ],
   "source": [
    "from sklearn.pipeline import Pipeline\n",
    "text_bayes = Pipeline([('vect', CountVectorizer()),\n",
    "                     ('bayes', MultinomialNB(alpha=1)),\n",
    "])\n",
    "text_bayes = text_bayes.fit(text_train, y_train)\n",
    "predicted = text_bayes.predict(text_test)\n",
    "np.mean(predicted == y_test)\n"
   ]
  },
  {
   "cell_type": "code",
   "execution_count": 409,
   "metadata": {
    "collapsed": false
   },
   "outputs": [
    {
     "name": "stdout",
     "output_type": "stream",
     "text": [
      "                 precision    recall  f1-score   support\n",
      "\n",
      "sci.electronics       0.99      0.99      0.99       306\n",
      "      sci.space       0.99      0.99      0.99       285\n",
      "\n",
      "    avg / total       0.99      0.99      0.99       591\n",
      "\n"
     ]
    }
   ],
   "source": [
    "print(metrics.classification_report(y_test, predicted, target_names = text_all.target_names))"
   ]
  },
  {
   "cell_type": "markdown",
   "metadata": {},
   "source": [
    "**Задание 5.** Обучите наивный байесовский классификатор MultinomialNB с параметром слгаживания `alpha=0` на выборке train. Примените его к данным из тестовой выборки и оцените точность совпадения меток. Поменяются ли результаты? Объясните почему?\n",
    "\n",
    "Учитывайте не только метки, но и вероятности, которые выдает классификатор"
   ]
  },
  {
   "cell_type": "code",
   "execution_count": 414,
   "metadata": {
    "collapsed": false
   },
   "outputs": [
    {
     "data": {
      "text/plain": [
       "0.73265651438240276"
      ]
     },
     "execution_count": 414,
     "metadata": {},
     "output_type": "execute_result"
    }
   ],
   "source": [
    "text_bayes1 = Pipeline([('vect', CountVectorizer()),\n",
    "                     ('bayes', MultinomialNB(alpha=0)),\n",
    "])\n",
    "text_bayes1 = text_bayes1.fit(text_train, y_train)\n",
    "predicted1 = text_bayes1.predict(text_test)\n",
    "np.mean(predicted1 == y_test)"
   ]
  },
  {
   "cell_type": "markdown",
   "metadata": {},
   "source": [
    "Наименьшую ошибку классификации на **два класса** имеет методика анализа, построенная на байесовском классификаторе с **параметром сглаживания равным единице**.  Классификатору может попасться какое-нибудь редкое слово (опечатка, синоним и т.п.), которое ранее не встречалось ни в одном документе. В таком случае к значению просто прибавляется единица. Данный подход называется сглаживанием Лапласа и помогает избежать нулевых вероятностей\n"
   ]
  },
  {
   "cell_type": "code",
   "execution_count": 405,
   "metadata": {
    "collapsed": false
   },
   "outputs": [
    {
     "name": "stdout",
     "output_type": "stream",
     "text": [
      "                 precision    recall  f1-score   support\n",
      "\n",
      "sci.electronics       0.66      1.00      0.79       306\n",
      "      sci.space       0.99      0.45      0.62       285\n",
      "\n",
      "    avg / total       0.82      0.73      0.71       591\n",
      "\n"
     ]
    }
   ],
   "source": [
    "print(metrics.classification_report(y_test, predicted1, target_names = text_all.target_names))"
   ]
  },
  {
   "cell_type": "code",
   "execution_count": null,
   "metadata": {
    "collapsed": true
   },
   "outputs": [],
   "source": []
  }
 ],
 "metadata": {
  "kernelspec": {
   "display_name": "Python 3",
   "language": "python",
   "name": "python3"
  },
  "language_info": {
   "codemirror_mode": {
    "name": "ipython",
    "version": 3
   },
   "file_extension": ".py",
   "mimetype": "text/x-python",
   "name": "python",
   "nbconvert_exporter": "python",
   "pygments_lexer": "ipython3",
   "version": "3.5.1"
  }
 },
 "nbformat": 4,
 "nbformat_minor": 0
}
