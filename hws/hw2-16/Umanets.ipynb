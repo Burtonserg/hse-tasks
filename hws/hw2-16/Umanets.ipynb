{
 "cells": [
  {
   "cell_type": "markdown",
   "metadata": {},
   "source": [
    "# Домашняя работа №2\n",
    "Панов А.А, Шестаков А.В. Майнор по анализу данных 2016"
   ]
  },
  {
   "cell_type": "markdown",
   "metadata": {},
   "source": [
    "<hr\\>\n",
    "**Общая информация**\n",
    "\n",
    "**Срок сдачи:** 19 марта 2016, 23:59 <br\\>\n",
    "**Штраф за опоздание:** -0.5 за каждый день\n",
    "\n",
    "При отправлении ДЗ на почту указывайте фамилию в названии файла, а тему письма оформляйте в следующем виде:<br\\>\n",
    "** [minor-da-16] *{Фамилия}* *{Имя}* ДЗ*{Номер}* **<br\\>\n",
    "\n",
    "\n",
    "Сопровождайте ваш код изображеними, комментариями и выводами. <br\\>\n",
    "Иммейте ввиду, что на некоторые задачи нет единственного верного и полного ответа. Чем больше информации вы сможете извлечь, аргументированных выводов сформулировать, тем лучше.\n",
    "\n",
    "Используйте данный Ipython Notebook при оформлении домашнего задания.\n",
    "<hr\\>"
   ]
  },
  {
   "cell_type": "markdown",
   "metadata": {},
   "source": [
    "## 1. Теория веротяностей. Распределения"
   ]
  },
  {
   "cell_type": "markdown",
   "metadata": {},
   "source": [
    "В SciPy более 80 видов непрерывных и более 12 дискретных распределений, более 70 статистических функций"
   ]
  },
  {
   "cell_type": "code",
   "execution_count": 91,
   "metadata": {
    "collapsed": true
   },
   "outputs": [],
   "source": [
    "import scipy as sp\n",
    "import numpy as np\n",
    "import pandas as pd\n",
    "import matplotlib.pyplot as plt\n",
    "\n",
    "%matplotlib inline"
   ]
  },
  {
   "cell_type": "code",
   "execution_count": 14,
   "metadata": {
    "collapsed": true
   },
   "outputs": [],
   "source": [
    "import numpy as np\n",
    "import scipy.stats as stats\n",
    "import matplotlib.pyplot as plt \n",
    "\n",
    "plt.style.use('ggplot')\n",
    "\n",
    "font = {'family': 'Verdana',\n",
    "        'weight': 'normal'}\n",
    "plt.rc('font', **font)\n",
    "\n",
    "%matplotlib inline"
   ]
  },
  {
   "cell_type": "markdown",
   "metadata": {},
   "source": [
    "**Задача 1.** Сгенерируйте три распределения: гауссовское с мат. ожиданием 1 и дисперсией 4, хи-квадрат с $k = 3$ и дискртеное пуассоновское с $\\lambda = 10$.<br/> \n",
    "\n",
    "При генерации используйте 500 точек. Посчитайте для каждого из них обчный набор статистик: среднее, минимум, максимум, дисперсию, кривизну и смещенность."
   ]
  },
  {
   "cell_type": "code",
   "execution_count": 94,
   "metadata": {
    "collapsed": false,
    "scrolled": true
   },
   "outputs": [
    {
     "name": "stdout",
     "output_type": "stream",
     "text": [
      "Хи-квадрат\n",
      "среднее= 2.971 , минимум= 0.021 , максимум= 20.913 , дисперсия= 6.285 , смещенность= 2.112 , крутизна= 7.892\n",
      "\n",
      "Гаусовское\n",
      "среднее= 1.002 , минимум= -4.929 , максимум= 6.73 , дисперсия= 4.059 , смещенность= -0.035 , крутизна= -0.262\n",
      "\n",
      "Пуассоновское\n",
      "среднее= 10.12 , минимум= 3.0 , максимум= 21.0 , дисперсия= 10.338 , смещенность= 0.459 , крутизна= 0.025\n",
      "\n"
     ]
    }
   ],
   "source": [
    "name=['Хи-квадрат','Гаусовское','Пуассоновское']\n",
    "arr=np.array([stats.chi2.rvs(df=3,size=500),stats.norm.rvs(loc=1, scale=2,size=500),stats.poisson.rvs(10, size=500)])\n",
    "for i in range(len(name)):\n",
    "    k=float(stats.tmin(arr[i]))\n",
    "    k1=float(stats.tmax(arr[i]))\n",
    "    print(name[i])\n",
    "    print('среднее=',round(stats.tmean(arr[i]),3),', минимум=', round(k,3) ,', максимум=', round(k1,3),\n",
    "          ', дисперсия=',round(stats.tstd(arr[i])**2,3),', смещенность=',round(stats.skew(arr[i]),3),\n",
    "          ', крутизна=',round(stats.kurtosis(arr[i]),3))\n",
    "    print()"
   ]
  },
  {
   "cell_type": "markdown",
   "metadata": {},
   "source": [
    "**Задача 2.** Найрисуйте функцию (cdf) и плотность (pdf) распределений. На графиках pdf отметьте среднее значение и медиану."
   ]
  },
  {
   "cell_type": "code",
   "execution_count": 95,
   "metadata": {
    "collapsed": false
   },
   "outputs": [],
   "source": [
    "ch,norm1,pois=arr[0],arr[1],arr[2]"
   ]
  },
  {
   "cell_type": "code",
   "execution_count": 96,
   "metadata": {
    "collapsed": false
   },
   "outputs": [
    {
     "data": {
      "text/plain": [
       "<matplotlib.text.Text at 0x40bc112198>"
      ]
     },
     "execution_count": 96,
     "metadata": {},
     "output_type": "execute_result"
    },
    {
     "data": {
      "image/png": "[encoded data removed]",
      "text/plain": [
       "<matplotlib.figure.Figure at 0x40b6af0f28>"
      ]
     },
     "metadata": {},
     "output_type": "display_data"
    }
   ],
   "source": [
    "#Хи-квадрат\n",
    "import numpy as np\n",
    "import matplotlib.pyplot as plt\n",
    "from scipy.stats import norm\n",
    "fig, ax = plt.subplots(1,2)\n",
    "fig.set_size_inches(11,5)\n",
    "\n",
    "x=np.sort(ch)\n",
    "\n",
    "prob_mass = stats.chi2.pdf(x,df=3)\n",
    "prob = stats.chi2.cdf(x, df=3)\n",
    "\n",
    "x1=[np.mean(x), (stats.chi2.pdf(np.mean(x),df=3))]\n",
    "x2=[x[255],(stats.chi2.pdf(x[255],df=3))]\n",
    "ax[0].plot(x1[0],x1[1],'ro',color=\"black\",label='mean')\n",
    "ax[0].plot(x2[0],x2[1],'ro',color=\"red\",label='mediana')\n",
    "\n",
    "ax[0].legend(loc='upper right', numpoints=1)\n",
    "ax[0].plot(x,prob_mass,'blue')\n",
    "ax[1].plot(x, prob,\"blue\")\n",
    "\n",
    "ax[0].set_title(u'Функция плотности')\n",
    "ax[1].set_title(u'Функция распределения')\n"
   ]
  },
  {
   "cell_type": "markdown",
   "metadata": {},
   "source": [
    "Мы просто взяли и подставили наши сгенерированные значения в функцию плотности для хи-квадрат. Посмотрим, как выглядит выборочная функция распределения. Для этого найдем P(X<x).\n",
    "\n",
    "Аналогично поступим для остальных распределений"
   ]
  },
  {
   "cell_type": "code",
   "execution_count": 97,
   "metadata": {
    "collapsed": false
   },
   "outputs": [
    {
     "data": {
      "text/plain": [
       "<matplotlib.text.Text at 0x40bc202390>"
      ]
     },
     "execution_count": 97,
     "metadata": {},
     "output_type": "execute_result"
    },
    {
     "data": {
      "image/png": "[encoded data removed]",
      "text/plain": [
       "<matplotlib.figure.Figure at 0x40bbbc96a0>"
      ]
     },
     "metadata": {},
     "output_type": "display_data"
    }
   ],
   "source": [
    "fig, ax = plt.subplots(1,2)\n",
    "fig.set_size_inches(11,5)\n",
    "P_x=[]\n",
    "for i in range(len(x)):\n",
    "    P_x.append((i+1)/len(x))\n",
    "ax[0].hist(x,color=\"blue\",normed=True)\n",
    "ax[1].plot(x,P_x,color=\"blue\")\n",
    "ax[0].set_title(u'Функция плотности выборочная')\n",
    "ax[1].set_title(u'Выборочная функция распределения')    "
   ]
  },
  {
   "cell_type": "code",
   "execution_count": 98,
   "metadata": {
    "collapsed": false
   },
   "outputs": [
    {
     "data": {
      "text/plain": [
       "<matplotlib.text.Text at 0x40bca62978>"
      ]
     },
     "execution_count": 98,
     "metadata": {},
     "output_type": "execute_result"
    },
    {
     "data": {
      "image/png": "[encoded data removed]",
      "text/plain": [
       "<matplotlib.figure.Figure at 0x40bcb288d0>"
      ]
     },
     "metadata": {},
     "output_type": "display_data"
    }
   ],
   "source": [
    "#Гаусовское\n",
    "fig, ax = plt.subplots(2,2)\n",
    "fig.set_size_inches(15,8)\n",
    "x=np.sort(norm1)\n",
    "P_x=[]\n",
    "for i in range(len(x)):\n",
    "    P_x.append((i+1)/len(x))\n",
    "\n",
    "prob_mass = stats.norm.pdf(x, np.mean(norm1),np.std(norm1))\n",
    "prob = stats.norm.cdf(x, np.mean(x),np.std(x))\n",
    "x1=[np.mean(x), (stats.norm.pdf(np.mean(x),np.mean(x),np.std(x)))]\n",
    "x2=[x[255],(stats.norm.pdf(x[255],np.mean(x),np.std(x)))]\n",
    "ax[0][0].plot(x1[0],x1[1],'ro',color=\"black\",label='mean')\n",
    "ax[0][0].plot(x2[0],x2[1],'ro',color=\"red\",label='mediana')\n",
    "ax[0][0].legend(loc='upper right', numpoints=1)\n",
    "ax[0][0].plot(x,prob_mass,\"magenta\",)\n",
    "ax[0][1].plot(x, prob,\"magenta\")\n",
    "\n",
    "ax[0][0].set_title(u'Функция плотности')\n",
    "ax[0][1].set_title(u'Функция распределения')\n",
    "\n",
    "ax[1][0].hist(x,color=\"magenta\",normed=True,)\n",
    "ax[1][1].plot(x,P_x,color=\"magenta\")\n",
    "ax[1][0].set_title(u'Функция плотности выборочная')\n",
    "ax[1][1].set_title(u'Функция распределения выборочная')\n"
   ]
  },
  {
   "cell_type": "code",
   "execution_count": 99,
   "metadata": {
    "collapsed": false,
    "scrolled": true
   },
   "outputs": [
    {
     "data": {
      "text/plain": [
       "<matplotlib.text.Text at 0x40bcddd320>"
      ]
     },
     "execution_count": 99,
     "metadata": {},
     "output_type": "execute_result"
    },
    {
     "data": {
      "image/png": "[encoded data removed]",
      "text/plain": [
       "<matplotlib.figure.Figure at 0x40bc96b6a0>"
      ]
     },
     "metadata": {},
     "output_type": "display_data"
    }
   ],
   "source": [
    "#Распределение Пуасона\n",
    "fig, ax = plt.subplots(2,2)\n",
    "fig.set_size_inches(15,8)\n",
    "x=np.sort(pois)\n",
    "prob_dens = stats.poisson.pmf(x, 10)\n",
    "prob = stats.poisson.cdf(x, 10)\n",
    "\n",
    "x1=[np.mean(x), (stats.poisson.pmf(np.mean(x),10))]\n",
    "x2=[x[255],(stats.poisson.pmf(x[255],10))]\n",
    "ax[1][0].plot(x1[0],x1[1],'ro',color=\"black\",label='mean')\n",
    "ax[1][0].plot(x2[0],x2[1],'ro',color=\"red\",label='mediana')\n",
    "ax[1][0].legend(loc='upper right', numpoints=1)\n",
    "\n",
    "ax[0][0].bar(x, prob_dens, color=\"green\")\n",
    "ax[0][1].plot(x, prob,'ro',color=\"green\")\n",
    "\n",
    "ax[0][0].set_title(u'Плотность распределения')\n",
    "ax[0][1].set_title(u'Функция распределения')\n",
    "P_x=[]\n",
    "for i in range(len(x)):\n",
    "    P_x.append((i+1)/len(x))\n",
    "ax[1][0].hist(x,bins = 20,color=\"green\",normed=True)\n",
    "ax[1][1].plot(x,P_x,color=\"green\")\n",
    "ax[1][0].set_title(u'Плотность распределения выборочная')\n",
    "ax[1][1].set_title(u'Выборочная функция распределения')\n"
   ]
  },
  {
   "cell_type": "code",
   "execution_count": null,
   "metadata": {
    "collapsed": false
   },
   "outputs": [],
   "source": []
  },
  {
   "cell_type": "markdown",
   "metadata": {},
   "source": [
    "**Задача 3.** Выведите описательные статистики распределений с помощью `scipy.stats.describe`. "
   ]
  },
  {
   "cell_type": "code",
   "execution_count": 100,
   "metadata": {
    "collapsed": false
   },
   "outputs": [
    {
     "name": "stdout",
     "output_type": "stream",
     "text": [
      "хи-квадра: DescribeResult(nobs=500, minmax=(0.020831395959205423, 20.913399877397428), mean=2.9712019315882645, variance=6.2849922743389399, skewness=2.112010356330859, kurtosis=7.891745676091654)\n",
      "\n",
      "Гаусовское: DescribeResult(nobs=500, minmax=(-4.9290941161884527, 6.7297295481917683), mean=1.0022754850135485, variance=4.0587160007608318, skewness=-0.03486379021311322, kurtosis=-0.26181591189943143)\n",
      "\n",
      "Пуасон: DescribeResult(nobs=500, minmax=(3.0, 21.0), mean=10.119999999999999, variance=10.338276553106212, skewness=0.45888329273954526, kurtosis=0.024705143655866735)\n"
     ]
    }
   ],
   "source": [
    "print('хи-квадра:',stats.describe(ch))\n",
    "print()\n",
    "print('Гаусовское:',stats.describe(norm1))\n",
    "print()\n",
    "print('Пуасон:',stats.describe(pois))"
   ]
  },
  {
   "cell_type": "markdown",
   "metadata": {},
   "source": [
    "## 2. Теория вероятностей. Корреляция и метод максимального правдоподобия"
   ]
  },
  {
   "cell_type": "markdown",
   "metadata": {},
   "source": [
    "Корреляции с помощью ивестных вам пакетов можно посчитать несколькими способами: pandas.DataFrame.corr и numpy.correlate, numpy.corrcoef и scipy.stats.pearsonr для корреляционного коэффициента Пирсона, scipy.stats.spearmanr для корреляционного коэффициента Спирмена."
   ]
  },
  {
   "cell_type": "markdown",
   "metadata": {},
   "source": [
    "Объясните [разницу](http://support.minitab.com/en-us/minitab-express/1/help-and-how-to/modeling-statistics/regression/supporting-topics/basics/a-comparison-of-the-pearson-and-spearman-correlation-methods/) между коэффициентами корреляции Спирмена и Пирсона."
   ]
  },
  {
   "cell_type": "code",
   "execution_count": null,
   "metadata": {
    "collapsed": true
   },
   "outputs": [],
   "source": [
    "Корреляция Спирмена применяется для двух ранговых переменных( или если хотя бы одна переменная - ранговая).\n",
    "Коэффициент пирсона применяется для измерения корреляции двух метрических величин"
   ]
  },
  {
   "cell_type": "code",
   "execution_count": 2,
   "metadata": {
    "collapsed": false
   },
   "outputs": [],
   "source": [
    "import scipy as sp\n",
    "import numpy as np\n",
    "import pandas as pd\n",
    "import matplotlib.pyplot as plt\n",
    "\n",
    "%matplotlib inline\n"
   ]
  },
  {
   "cell_type": "markdown",
   "metadata": {},
   "source": [
    "В данных из файла [beauty.csv](https://www.dropbox.com/s/xio77e9p0oe1wqw/beauty.csv?dl=0) для каждого опрошенного имеется следующая информация: заработная плата за час работы, опыт работы, образование, внешняя привлекательность (в баллах от 1 до 5), бинарные признаки: пол, семейное положение, состояние здоровья (хорошее/плохое), членство в профсоюзе, цвет кожи (белый/чёрный), занятость в сфере обслуживания (да/нет)."
   ]
  },
  {
   "cell_type": "markdown",
   "metadata": {},
   "source": [
    "**Задание 1.** Найдите 3 пары признаков с наибольшей корреляцией. Поясните на конктретных примерах, что означают полученные коэффициенты корреляции."
   ]
  },
  {
   "cell_type": "code",
   "execution_count": 3,
   "metadata": {
    "collapsed": false
   },
   "outputs": [
    {
     "data": {
      "text/html": [
       "<div>\n",
       "<table border=\"1\" class=\"dataframe\">\n",
       "  <thead>\n",
       "    <tr style=\"text-align: right;\">\n",
       "      <th></th>\n",
       "      <th>wage</th>\n",
       "      <th>exper</th>\n",
       "      <th>union</th>\n",
       "      <th>goodhlth</th>\n",
       "      <th>black</th>\n",
       "      <th>female</th>\n",
       "      <th>married</th>\n",
       "      <th>service</th>\n",
       "      <th>educ</th>\n",
       "      <th>looks</th>\n",
       "    </tr>\n",
       "  </thead>\n",
       "  <tbody>\n",
       "    <tr>\n",
       "      <th>0</th>\n",
       "      <td>5.73</td>\n",
       "      <td>30</td>\n",
       "      <td>0</td>\n",
       "      <td>1</td>\n",
       "      <td>0</td>\n",
       "      <td>1</td>\n",
       "      <td>1</td>\n",
       "      <td>1</td>\n",
       "      <td>14</td>\n",
       "      <td>4</td>\n",
       "    </tr>\n",
       "    <tr>\n",
       "      <th>1</th>\n",
       "      <td>4.28</td>\n",
       "      <td>28</td>\n",
       "      <td>0</td>\n",
       "      <td>1</td>\n",
       "      <td>0</td>\n",
       "      <td>1</td>\n",
       "      <td>1</td>\n",
       "      <td>0</td>\n",
       "      <td>12</td>\n",
       "      <td>3</td>\n",
       "    </tr>\n",
       "    <tr>\n",
       "      <th>2</th>\n",
       "      <td>7.96</td>\n",
       "      <td>35</td>\n",
       "      <td>0</td>\n",
       "      <td>1</td>\n",
       "      <td>0</td>\n",
       "      <td>1</td>\n",
       "      <td>0</td>\n",
       "      <td>0</td>\n",
       "      <td>10</td>\n",
       "      <td>4</td>\n",
       "    </tr>\n",
       "    <tr>\n",
       "      <th>3</th>\n",
       "      <td>11.57</td>\n",
       "      <td>38</td>\n",
       "      <td>0</td>\n",
       "      <td>1</td>\n",
       "      <td>0</td>\n",
       "      <td>0</td>\n",
       "      <td>1</td>\n",
       "      <td>1</td>\n",
       "      <td>16</td>\n",
       "      <td>3</td>\n",
       "    </tr>\n",
       "    <tr>\n",
       "      <th>4</th>\n",
       "      <td>11.42</td>\n",
       "      <td>27</td>\n",
       "      <td>0</td>\n",
       "      <td>1</td>\n",
       "      <td>0</td>\n",
       "      <td>0</td>\n",
       "      <td>1</td>\n",
       "      <td>0</td>\n",
       "      <td>16</td>\n",
       "      <td>3</td>\n",
       "    </tr>\n",
       "  </tbody>\n",
       "</table>\n",
       "</div>"
      ],
      "text/plain": [
       "    wage  exper  union  goodhlth  black  female  married  service  educ  looks\n",
       "0   5.73     30      0         1      0       1        1        1    14      4\n",
       "1   4.28     28      0         1      0       1        1        0    12      3\n",
       "2   7.96     35      0         1      0       1        0        0    10      4\n",
       "3  11.57     38      0         1      0       0        1        1    16      3\n",
       "4  11.42     27      0         1      0       0        1        0    16      3"
      ]
     },
     "execution_count": 3,
     "metadata": {},
     "output_type": "execute_result"
    }
   ],
   "source": [
    "import scipy as sp\n",
    "import numpy as np\n",
    "import pandas as pd\n",
    "from scipy.stats import pearsonr\n",
    "import matplotlib.pyplot as plt\n",
    "d=pd.read_csv(\"beauty.csv\", sep=';')\n",
    "d.head()"
   ]
  },
  {
   "cell_type": "code",
   "execution_count": 16,
   "metadata": {
    "collapsed": false,
    "scrolled": true
   },
   "outputs": [
    {
     "name": "stdout",
     "output_type": "stream",
     "text": [
      "correlation  female-married = -0.319\n",
      "correlation  wage-female = -0.313\n",
      "correlation  service-educ = 0.302\n"
     ]
    }
   ],
   "source": [
    "names=['wage', 'exper', 'union', 'goodhlth', 'black', 'female', 'married',\n",
    "       'service', 'educ', 'looks']\n",
    "name_features=[]\n",
    "cor=[]\n",
    "sign=[]\n",
    "\n",
    "for i in range(len(names)):\n",
    "    for j in range(i+1,len(names)):\n",
    "        name_features.append(names[i]+'-'+names[j])\n",
    "        corr=(sp.stats.pearsonr(d[names[i]],d[names[j]]))\n",
    "        cor.append(abs(corr[0])) \n",
    "        if corr[0]<0:\n",
    "            sign.append(-1)\n",
    "        else:\n",
    "            sign.append(1)\n",
    "t=pd.DataFrame({'name_features':name_features,'correlation':cor,'sing':sign}).sort_values('correlation',ascending=False)\n",
    "i=0\n",
    "while i<3:\n",
    "    c=t.iloc[i]\n",
    "    \n",
    "    print('correlation ', c[1],'=',round(c[0],3)*round(c[2]))\n",
    "    i=i+1\n"
   ]
  },
  {
   "cell_type": "markdown",
   "metadata": {},
   "source": [
    "**Задание 2.** На семинаре мы рассмотрели различные распрелеления случайных величин (дискретные и непрерывные). \n",
    "\n",
    "Изобразите гистограммы каждого из признаков.<br/>\n",
    "Определите возможный закон распределения каждого из них и оцените его параметры. Если готовой функции в scipy.stats для распределения нет, то оцените эти параметры сами по методу максимального правдоподобия."
   ]
  },
  {
   "cell_type": "code",
   "execution_count": 65,
   "metadata": {
    "collapsed": false,
    "scrolled": false
   },
   "outputs": [
    {
     "data": {
      "image/png": "[encoded data removed]",
      "text/plain": [
       "<matplotlib.figure.Figure at 0xd41b5999e8>"
      ]
     },
     "metadata": {},
     "output_type": "display_data"
    }
   ],
   "source": [
    "import sympy\n",
    "#'union', 'goodhlth', 'black', 'female', 'married', 'service'-бернулевский закон распределения\n",
    "fig, ax = plt.subplots(3,2)\n",
    "fig.set_size_inches(20,15)\n",
    "c=['union', 'goodhlth', 'black', 'female', 'married', 'service']\n",
    "k=[[0,0],[0,1],[1,0],[1,1],[2,0],[2,1]]\n",
    "colors=['y','m','c','r','g','b']\n",
    "j=0\n",
    "for i in c:\n",
    "    j1=k[j][0]\n",
    "    j2=k[j][1]\n",
    "    ax[j1][j2].hist(d[i],bins=10,color=colors[j],align='right')\n",
    "    ax[j1][j2].set_title('Гистограмма '+ i)\n",
    "    j=j+1\n",
    "    \n",
    "    "
   ]
  },
  {
   "cell_type": "code",
   "execution_count": 19,
   "metadata": {
    "collapsed": false
   },
   "outputs": [
    {
     "name": "stdout",
     "output_type": "stream",
     "text": [
      "union ~ bernoulli(1, 49/180 )\n",
      "goodhlth ~ bernoulli(1, 14/15 )\n",
      "black ~ bernoulli(1, 31/420 )\n",
      "female ~ bernoulli(1, 109/315 )\n",
      "married ~ bernoulli(1, 871/1260 )\n",
      "service ~ bernoulli(1, 23/84 )\n"
     ]
    }
   ],
   "source": [
    "#мы знаем, что это бернулевское распределениее X~bernoulli(1,p). Видимо, к нему не применим метод fit. Воспользуемся ММП для вычисления р\n",
    "c=['union', 'goodhlth', 'black', 'female', 'married', 'service']\n",
    "for i in c:\n",
    "    n=len(d[d[i]==1])\n",
    "    m=len(d[i])-n\n",
    "    p=sympy.Symbol('p')\n",
    "    L=sympy.diff(((1-p)**m)*(p**n), p)\n",
    "    print(i,'~ bernoulli(1,',sympy.solve(L,p)[1],')')\n",
    "    \n",
    "    "
   ]
  },
  {
   "cell_type": "code",
   "execution_count": 62,
   "metadata": {
    "collapsed": false
   },
   "outputs": [
    {
     "data": {
      "image/png": "[encoded data removed]",
      "text/plain": [
       "<matplotlib.figure.Figure at 0xd41ca3b240>"
      ]
     },
     "metadata": {},
     "output_type": "display_data"
    },
    {
     "name": "stdout",
     "output_type": "stream",
     "text": [
      "wage ~ pareto (a= 0.610361284169 )\n"
     ]
    }
   ],
   "source": [
    "#wage\n",
    "plt.hist(d['wage'],bins=20,color='y',normed=True)\n",
    "plt.show()#похоже на Степенной закон\n",
    "arr=stats.pareto.fit(d['wage'])\n",
    "a=arr[0]\n",
    "mu=arr[1]\n",
    "std=arr[2]\n",
    "print('wage ~ pareto (a=',arr[0],')')"
   ]
  },
  {
   "cell_type": "code",
   "execution_count": 61,
   "metadata": {
    "collapsed": false,
    "scrolled": true
   },
   "outputs": [
    {
     "data": {
      "image/png": "[encoded data removed]",
      "text/plain": [
       "<matplotlib.figure.Figure at 0xd41dca26d8>"
      ]
     },
     "metadata": {},
     "output_type": "display_data"
    },
    {
     "name": "stdout",
     "output_type": "stream",
     "text": [
      "exper ~ chi2 (df= 4.15415390907 )\n"
     ]
    }
   ],
   "source": [
    "#exper\n",
    "plt.hist(d['exper'],bins=20,color='g',normed=True)\n",
    "plt.show()#похоже на хи-квадрат\n",
    "arr=stats.chi2.fit(d['exper'])\n",
    "\n",
    "print('exper ~ chi2 (df=',arr[0],')')"
   ]
  },
  {
   "cell_type": "code",
   "execution_count": 36,
   "metadata": {
    "collapsed": false,
    "scrolled": true
   },
   "outputs": [
    {
     "data": {
      "image/png": "[encoded data removed]",
      "text/plain": [
       "<matplotlib.figure.Figure at 0xd41ca65860>"
      ]
     },
     "metadata": {},
     "output_type": "display_data"
    },
    {
     "name": "stdout",
     "output_type": "stream",
     "text": [
      "looks~ Poisson(l= 3.186 )\n"
     ]
    }
   ],
   "source": [
    "#looks\n",
    "from scipy.special import factorial\n",
    "\n",
    "plt.hist(d['looks'],bins=20,color='g',normed=True)\n",
    "plt.show()#Распределение Пуассона. оценим  ММП\n",
    "x=[float(i) for i in d['looks']]\n",
    "l=sympy.Symbol('l')\n",
    "n=len(x)\n",
    "Ln=sympy.diff(-n*l+sum(x)*sympy.ln(l),l)\n",
    "\n",
    "print('looks~ Poisson(l=',round(sympy.solve(Ln,l)[0],3),')')"
   ]
  },
  {
   "cell_type": "code",
   "execution_count": 57,
   "metadata": {
    "collapsed": false
   },
   "outputs": [
    {
     "data": {
      "image/png": "[encoded data removed]",
      "text/plain": [
       "<matplotlib.figure.Figure at 0xd419770c18>"
      ]
     },
     "metadata": {},
     "output_type": "display_data"
    },
    {
     "name": "stdout",
     "output_type": "stream",
     "text": [
      "educ ~ norm(mu= 12.5634920635 , std= 2.62344748268 )\n"
     ]
    }
   ],
   "source": [
    "#educ\n",
    "plt.hist(d['educ'],bins=20,color='g',normed=True)\n",
    "plt.show()\n",
    "#нормальное распределение\n",
    "print('educ ~ norm(mu=',stats.norm.fit(d['educ'])[0],', std=',stats.norm.fit(d['educ'])[1],')')"
   ]
  },
  {
   "cell_type": "markdown",
   "metadata": {},
   "source": [
    "## 3. Метод наивного Байеса"
   ]
  },
  {
   "cell_type": "markdown",
   "metadata": {},
   "source": [
    "Пояснения по выполнению этого задания будут рассказаны на семинаре 1 марта"
   ]
  },
  {
   "cell_type": "markdown",
   "metadata": {},
   "source": [
    "Обучение методом наивного Байеса основывается на достаточно сильном предположении, что все признаки попарно независимы. По формуле Байеса $$P(y|x_1,\\dots,x_n)=\\frac{P(y)P(x_1,\\dots,x_n|y)}{P(x_1,\\dots,x_n)}.$$ В предположении, что признаки независимы получаем, что $$P(y|x_1,\\dots,x_n)=\\frac{P(y)\\prod_{i=1}^n P(x_i|y)}{P(x_1,\\dots,x_n)}$$\n",
    "Т.к. $$P(x_1,\\dots,x_n)$$ задается условиями задачи, принцип максимального правдоподобия для наивного Байеса запишется следующим образом: $$\\hat y = \\arg\\max_y P(y)\\prod_{i=1}^n P(x_i|y).$$\n",
    "\n",
    "\n",
    "Библиотека `sklearn` поддерживает несколько реализаций наивного Байеса: `sklearn.naive_bayes.GaussianNB`, `sklearn.naive_bayes.MultinomialNB` и др."
   ]
  },
  {
   "cell_type": "code",
   "execution_count": null,
   "metadata": {
    "collapsed": true
   },
   "outputs": [],
   "source": [
    "# Список новостных заголовков\n",
    "['alt.atheism',\n",
    " 'comp.graphics',\n",
    " 'comp.os.ms-windows.misc',\n",
    " 'comp.sys.ibm.pc.hardware',\n",
    " 'comp.sys.mac.hardware',\n",
    " 'comp.windows.x',\n",
    " 'misc.forsale',\n",
    " 'rec.autos',\n",
    " 'rec.motorcycles',\n",
    " 'rec.sport.baseball',\n",
    " 'rec.sport.hockey',\n",
    " 'sci.crypt',\n",
    " 'sci.electronics',\n",
    " 'sci.med',\n",
    " 'sci.space',\n",
    " 'soc.religion.christian',\n",
    " 'talk.politics.guns',\n",
    " 'talk.politics.mideast',\n",
    " 'talk.politics.misc',\n",
    " 'talk.religion.misc']"
   ]
  },
  {
   "cell_type": "code",
   "execution_count": 262,
   "metadata": {
    "collapsed": true
   },
   "outputs": [],
   "source": [
    "from sklearn.cross_validation import train_test_split\n",
    "from sklearn.datasets import fetch_20newsgroups\n",
    "from sklearn.naive_bayes import MultinomialNB\n",
    "from sklearn.feature_extraction.text import CountVectorizer"
   ]
  },
  {
   "cell_type": "markdown",
   "metadata": {},
   "source": [
    "**Задание 1.** Выберите 2 категории новостных сообщений из `20newsgroups`. Случайным образом, в пропорции 70/30, разделите наборы текстов на обучающую и контрольную выборки. В результате выполнения данного задания у вас должно получится 5 переменных: `text_all`, `text_train`, `text_test`, `y_train`, `y_test`."
   ]
  },
  {
   "cell_type": "code",
   "execution_count": 263,
   "metadata": {
    "collapsed": false,
    "scrolled": true
   },
   "outputs": [],
   "source": [
    "categories = ['talk.politics.guns', 'talk.politics.mideast']\n",
    "\n",
    "text = fetch_20newsgroups(subset='train',categories=categories, shuffle=True, random_state=0)\n",
    "\n",
    "\n",
    "text_train,text_test,y_train, y_test=train_test_split(text.data,text.target,test_size =0.3)\n",
    "\n",
    "text_all=text.data\n"
   ]
  },
  {
   "cell_type": "markdown",
   "metadata": {},
   "source": [
    "**Задание 2.** На переменной `text` постройте конвертер из текстов в частотную матрицу с помощью метода `CountVectorizer(analyzer='word', stop_words='english', lowercase=True)`, а затем используйте его на выборках `train` и `test`. В результате вы должны получить 2 матрицы: `X_train` и `X_test`."
   ]
  },
  {
   "cell_type": "code",
   "execution_count": 285,
   "metadata": {
    "collapsed": false
   },
   "outputs": [],
   "source": [
    "text = CountVectorizer(analyzer='word', stop_words='english', lowercase=True)"
   ]
  },
  {
   "cell_type": "code",
   "execution_count": 286,
   "metadata": {
    "collapsed": false
   },
   "outputs": [],
   "source": [
    "text.fit(text_all)\n",
    "X_train = text.transform(text_train)\n",
    "X_test  = text.transform(text_test)\n"
   ]
  },
  {
   "cell_type": "markdown",
   "metadata": {},
   "source": [
    "**Задание 3.** По матрице `X_train` найдите 50 самых частотных слов. Соответствия столбцов и слов можно понять по методу `CountVectorizer.get_feature_names()`."
   ]
  },
  {
   "cell_type": "code",
   "execution_count": 288,
   "metadata": {
    "collapsed": false,
    "scrolled": true
   },
   "outputs": [
    {
     "data": {
      "text/html": [
       "<div>\n",
       "<table border=\"1\" class=\"dataframe\">\n",
       "  <thead>\n",
       "    <tr style=\"text-align: right;\">\n",
       "      <th></th>\n",
       "      <th>result_data</th>\n",
       "      <th>result_indices</th>\n",
       "    </tr>\n",
       "  </thead>\n",
       "  <tbody>\n",
       "    <tr>\n",
       "      <th>70943</th>\n",
       "      <td>289</td>\n",
       "      <td>10548</td>\n",
       "    </tr>\n",
       "    <tr>\n",
       "      <th>37751</th>\n",
       "      <td>102</td>\n",
       "      <td>24236</td>\n",
       "    </tr>\n",
       "    <tr>\n",
       "      <th>71030</th>\n",
       "      <td>98</td>\n",
       "      <td>11781</td>\n",
       "    </tr>\n",
       "    <tr>\n",
       "      <th>37312</th>\n",
       "      <td>93</td>\n",
       "      <td>13944</td>\n",
       "    </tr>\n",
       "    <tr>\n",
       "      <th>8750</th>\n",
       "      <td>70</td>\n",
       "      <td>18380</td>\n",
       "    </tr>\n",
       "    <tr>\n",
       "      <th>8281</th>\n",
       "      <td>62</td>\n",
       "      <td>8492</td>\n",
       "    </tr>\n",
       "    <tr>\n",
       "      <th>28211</th>\n",
       "      <td>61</td>\n",
       "      <td>1</td>\n",
       "    </tr>\n",
       "    <tr>\n",
       "      <th>60470</th>\n",
       "      <td>61</td>\n",
       "      <td>21107</td>\n",
       "    </tr>\n",
       "    <tr>\n",
       "      <th>70659</th>\n",
       "      <td>59</td>\n",
       "      <td>7125</td>\n",
       "    </tr>\n",
       "    <tr>\n",
       "      <th>37750</th>\n",
       "      <td>56</td>\n",
       "      <td>24232</td>\n",
       "    </tr>\n",
       "    <tr>\n",
       "      <th>70677</th>\n",
       "      <td>54</td>\n",
       "      <td>7310</td>\n",
       "    </tr>\n",
       "    <tr>\n",
       "      <th>70951</th>\n",
       "      <td>50</td>\n",
       "      <td>10600</td>\n",
       "    </tr>\n",
       "    <tr>\n",
       "      <th>59692</th>\n",
       "      <td>50</td>\n",
       "      <td>8886</td>\n",
       "    </tr>\n",
       "    <tr>\n",
       "      <th>49936</th>\n",
       "      <td>49</td>\n",
       "      <td>21422</td>\n",
       "    </tr>\n",
       "    <tr>\n",
       "      <th>60051</th>\n",
       "      <td>48</td>\n",
       "      <td>14520</td>\n",
       "    </tr>\n",
       "    <tr>\n",
       "      <th>71435</th>\n",
       "      <td>43</td>\n",
       "      <td>16629</td>\n",
       "    </tr>\n",
       "    <tr>\n",
       "      <th>60026</th>\n",
       "      <td>42</td>\n",
       "      <td>14252</td>\n",
       "    </tr>\n",
       "    <tr>\n",
       "      <th>71943</th>\n",
       "      <td>42</td>\n",
       "      <td>22626</td>\n",
       "    </tr>\n",
       "    <tr>\n",
       "      <th>8632</th>\n",
       "      <td>42</td>\n",
       "      <td>15641</td>\n",
       "    </tr>\n",
       "    <tr>\n",
       "      <th>8542</th>\n",
       "      <td>42</td>\n",
       "      <td>14118</td>\n",
       "    </tr>\n",
       "    <tr>\n",
       "      <th>115093</th>\n",
       "      <td>41</td>\n",
       "      <td>21234</td>\n",
       "    </tr>\n",
       "    <tr>\n",
       "      <th>49591</th>\n",
       "      <td>40</td>\n",
       "      <td>10599</td>\n",
       "    </tr>\n",
       "    <tr>\n",
       "      <th>71804</th>\n",
       "      <td>39</td>\n",
       "      <td>20735</td>\n",
       "    </tr>\n",
       "    <tr>\n",
       "      <th>72097</th>\n",
       "      <td>39</td>\n",
       "      <td>24617</td>\n",
       "    </tr>\n",
       "    <tr>\n",
       "      <th>60834</th>\n",
       "      <td>37</td>\n",
       "      <td>25601</td>\n",
       "    </tr>\n",
       "    <tr>\n",
       "      <th>49748</th>\n",
       "      <td>36</td>\n",
       "      <td>16182</td>\n",
       "    </tr>\n",
       "    <tr>\n",
       "      <th>50075</th>\n",
       "      <td>35</td>\n",
       "      <td>25540</td>\n",
       "    </tr>\n",
       "    <tr>\n",
       "      <th>43684</th>\n",
       "      <td>35</td>\n",
       "      <td>6883</td>\n",
       "    </tr>\n",
       "    <tr>\n",
       "      <th>117258</th>\n",
       "      <td>35</td>\n",
       "      <td>24973</td>\n",
       "    </tr>\n",
       "    <tr>\n",
       "      <th>71093</th>\n",
       "      <td>34</td>\n",
       "      <td>12579</td>\n",
       "    </tr>\n",
       "    <tr>\n",
       "      <th>105799</th>\n",
       "      <td>34</td>\n",
       "      <td>23215</td>\n",
       "    </tr>\n",
       "    <tr>\n",
       "      <th>70219</th>\n",
       "      <td>33</td>\n",
       "      <td>798</td>\n",
       "    </tr>\n",
       "    <tr>\n",
       "      <th>48623</th>\n",
       "      <td>32</td>\n",
       "      <td>4108</td>\n",
       "    </tr>\n",
       "    <tr>\n",
       "      <th>98025</th>\n",
       "      <td>32</td>\n",
       "      <td>13715</td>\n",
       "    </tr>\n",
       "    <tr>\n",
       "      <th>8145</th>\n",
       "      <td>32</td>\n",
       "      <td>5965</td>\n",
       "    </tr>\n",
       "    <tr>\n",
       "      <th>119136</th>\n",
       "      <td>32</td>\n",
       "      <td>4557</td>\n",
       "    </tr>\n",
       "    <tr>\n",
       "      <th>115091</th>\n",
       "      <td>32</td>\n",
       "      <td>21229</td>\n",
       "    </tr>\n",
       "    <tr>\n",
       "      <th>81712</th>\n",
       "      <td>32</td>\n",
       "      <td>3260</td>\n",
       "    </tr>\n",
       "    <tr>\n",
       "      <th>9062</th>\n",
       "      <td>32</td>\n",
       "      <td>23662</td>\n",
       "    </tr>\n",
       "    <tr>\n",
       "      <th>234</th>\n",
       "      <td>31</td>\n",
       "      <td>11623</td>\n",
       "    </tr>\n",
       "    <tr>\n",
       "      <th>70157</th>\n",
       "      <td>31</td>\n",
       "      <td>208</td>\n",
       "    </tr>\n",
       "    <tr>\n",
       "      <th>49702</th>\n",
       "      <td>30</td>\n",
       "      <td>15034</td>\n",
       "    </tr>\n",
       "    <tr>\n",
       "      <th>8016</th>\n",
       "      <td>30</td>\n",
       "      <td>3897</td>\n",
       "    </tr>\n",
       "    <tr>\n",
       "      <th>70220</th>\n",
       "      <td>30</td>\n",
       "      <td>801</td>\n",
       "    </tr>\n",
       "    <tr>\n",
       "      <th>8437</th>\n",
       "      <td>30</td>\n",
       "      <td>11474</td>\n",
       "    </tr>\n",
       "    <tr>\n",
       "      <th>117146</th>\n",
       "      <td>30</td>\n",
       "      <td>21397</td>\n",
       "    </tr>\n",
       "    <tr>\n",
       "      <th>59378</th>\n",
       "      <td>30</td>\n",
       "      <td>4110</td>\n",
       "    </tr>\n",
       "    <tr>\n",
       "      <th>116807</th>\n",
       "      <td>30</td>\n",
       "      <td>12481</td>\n",
       "    </tr>\n",
       "    <tr>\n",
       "      <th>37416</th>\n",
       "      <td>29</td>\n",
       "      <td>16969</td>\n",
       "    </tr>\n",
       "    <tr>\n",
       "      <th>71045</th>\n",
       "      <td>29</td>\n",
       "      <td>11985</td>\n",
       "    </tr>\n",
       "  </tbody>\n",
       "</table>\n",
       "</div>"
      ],
      "text/plain": [
       "        result_data  result_indices\n",
       "70943           289           10548\n",
       "37751           102           24236\n",
       "71030            98           11781\n",
       "37312            93           13944\n",
       "8750             70           18380\n",
       "8281             62            8492\n",
       "28211            61               1\n",
       "60470            61           21107\n",
       "70659            59            7125\n",
       "37750            56           24232\n",
       "70677            54            7310\n",
       "70951            50           10600\n",
       "59692            50            8886\n",
       "49936            49           21422\n",
       "60051            48           14520\n",
       "71435            43           16629\n",
       "60026            42           14252\n",
       "71943            42           22626\n",
       "8632             42           15641\n",
       "8542             42           14118\n",
       "115093           41           21234\n",
       "49591            40           10599\n",
       "71804            39           20735\n",
       "72097            39           24617\n",
       "60834            37           25601\n",
       "49748            36           16182\n",
       "50075            35           25540\n",
       "43684            35            6883\n",
       "117258           35           24973\n",
       "71093            34           12579\n",
       "105799           34           23215\n",
       "70219            33             798\n",
       "48623            32            4108\n",
       "98025            32           13715\n",
       "8145             32            5965\n",
       "119136           32            4557\n",
       "115091           32           21229\n",
       "81712            32            3260\n",
       "9062             32           23662\n",
       "234              31           11623\n",
       "70157            31             208\n",
       "49702            30           15034\n",
       "8016             30            3897\n",
       "70220            30             801\n",
       "8437             30           11474\n",
       "117146           30           21397\n",
       "59378            30            4110\n",
       "116807           30           12481\n",
       "37416            29           16969\n",
       "71045            29           11985"
      ]
     },
     "execution_count": 288,
     "metadata": {},
     "output_type": "execute_result"
    }
   ],
   "source": [
    "words=text.get_feature_names()\n",
    "len(words)\n",
    "result_data=X_train.data\n",
    "result_indices=X_train.indices\n",
    "\n",
    "#cjhnbhetv слова по убыванию частоты.\n",
    "d=pd.DataFrame({'result_data':result_data,'result_indices':result_indices}).sort_values('result_data',ascending=False)\n",
    "\n",
    "#во многих документах одно и тоже слово может входить несколько раз, \n",
    "#поэтому оставляем только максимальное значение частты этого слова\n",
    "d=d.drop_duplicates(subset='result_indices').head(50)\n",
    "d"
   ]
  },
  {
   "cell_type": "code",
   "execution_count": 289,
   "metadata": {
    "collapsed": false,
    "scrolled": true
   },
   "outputs": [
    {
     "name": "stdout",
     "output_type": "stream",
     "text": [
      "file 289 раз\n",
      "turkish 102 раз\n",
      "gun 98 раз\n",
      "jews 93 раз\n",
      "people 70 раз\n",
      "didn 62 раз\n",
      "000 61 раз\n",
      "said 61 раз\n",
      "congress 59 раз\n",
      "turkey 56 раз\n",
      "control 54 раз\n",
      "firearms 50 раз\n",
      "don 50 раз\n",
      "section 49 раз\n",
      "know 48 раз\n",
      "mr 43 раз\n",
      "karina 42 раз\n",
      "states 42 раз\n",
      "mamma 42 раз\n",
      "just 42 раз\n",
      "says 41 раз\n",
      "firearm 40 раз\n",
      "rkba 39 раз\n",
      "united 39 раз\n",
      "went 37 раз\n",
      "military 36 раз\n",
      "weapon 35 раз\n",
      "committee 35 раз\n",
      "vancouver 35 раз\n",
      "house 34 раз\n",
      "sy 34 раз\n",
      "1991 33 раз\n",
      "armenian 32 раз\n",
      "israel 32 раз\n",
      "came 32 раз\n",
      "azerbaijan 32 раз\n",
      "say 32 раз\n",
      "adl 32 раз\n",
      "think 32 раз\n",
      "greek 31 раз\n",
      "102nd 31 раз\n",
      "license 30 раз\n",
      "apartment 30 раз\n",
      "1992 30 раз\n",
      "going 30 раз\n",
      "seattle 30 раз\n",
      "armenians 30 раз\n",
      "homicide 30 раз\n",
      "nazis 29 раз\n",
      "handgun 29 раз\n"
     ]
    }
   ],
   "source": [
    "for row in d.iterrows():\n",
    "    c=row[1][1]\n",
    "    print( words[c],row[1][0],'раз' )"
   ]
  },
  {
   "cell_type": "code",
   "execution_count": null,
   "metadata": {
    "collapsed": false
   },
   "outputs": [],
   "source": []
  },
  {
   "cell_type": "markdown",
   "metadata": {},
   "source": [
    "**Задание 4.** Обучите наивный байесовский классификатор MultinomialNB с параметром слгаживания `alpha=1` на выборке train. Примените его к данным из тестовой выборке и оцените точность совпадения меток."
   ]
  },
  {
   "cell_type": "code",
   "execution_count": 125,
   "metadata": {
    "collapsed": false
   },
   "outputs": [
    {
     "data": {
      "text/plain": [
       "0.99099099099099097"
      ]
     },
     "execution_count": 125,
     "metadata": {},
     "output_type": "execute_result"
    }
   ],
   "source": [
    "clf = MultinomialNB(alpha=1).fit(X_train, y_train)\n",
    "\n",
    "predicted = clf.predict(X_test)\n",
    "np.mean(predicted == y_test) "
   ]
  },
  {
   "cell_type": "markdown",
   "metadata": {},
   "source": [
    "**Задание 5.** Обучите наивный байесовский классификатор MultinomialNB с параметром слгаживания `alpha=0` на выборке train. Примените его к данным из тестовой выборки и оцените точность совпадения меток. Поменяются ли результаты? Объясните почему?\n",
    "\n",
    "Учитывайте не только метки, но и вероятности, которые выдает классификатор"
   ]
  },
  {
   "cell_type": "code",
   "execution_count": 135,
   "metadata": {
    "collapsed": false
   },
   "outputs": [
    {
     "name": "stderr",
     "output_type": "stream",
     "text": [
      "C:\\Anaconda3\\lib\\site-packages\\sklearn\\naive_bayes.py:664: RuntimeWarning: divide by zero encountered in log\n",
      "  self.feature_log_prob_ = (np.log(smoothed_fc)\n"
     ]
    },
    {
     "data": {
      "text/plain": [
       "0.55255255255255253"
      ]
     },
     "execution_count": 135,
     "metadata": {},
     "output_type": "execute_result"
    }
   ],
   "source": [
    "clf = MultinomialNB(alpha=0).fit(X_train, y_train)\n",
    "\n",
    "predicted = clf.predict(X_test)\n",
    "np.mean(predicted == y_test) "
   ]
  },
  {
   "cell_type": "markdown",
   "metadata": {},
   "source": [
    "Точность совпадения уменьшилась.\n",
    "Когда alfa =1, то мы подразумеваем, что видели каждое слово на один раз больше, то есть прибавляем единицу к частоте каждого слова.\n",
    "\n",
    "P(x_i|y) никогда не равна 0, потому что слова, которые мы не видели на этапе обучения модели получают пусть маленькую, но все же не нулевую вероятность. А при alfa =1, некоторые P(x_i|y)=0, следовательно, точность совпадения уменьшается."
   ]
  }
 ],
 "metadata": {
  "kernelspec": {
   "display_name": "Python 3",
   "language": "python",
   "name": "python3"
  },
  "language_info": {
   "codemirror_mode": {
    "name": "ipython",
    "version": 3
   },
   "file_extension": ".py",
   "mimetype": "text/x-python",
   "name": "python",
   "nbconvert_exporter": "python",
   "pygments_lexer": "ipython3",
   "version": "3.5.1"
  }
 },
 "nbformat": 4,
 "nbformat_minor": 0
}
