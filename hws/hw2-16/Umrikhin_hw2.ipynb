{
 "cells": [
  {
   "cell_type": "markdown",
   "metadata": {},
   "source": [
    "# Домашняя работа №2\n",
    "Панов А.А, Шестаков А.В. Майнор по анализу данных 2016"
   ]
  },
  {
   "cell_type": "markdown",
   "metadata": {},
   "source": [
    "<hr\\>\n",
    "**Общая информация**\n",
    "\n",
    "**Срок сдачи:** 12 марта 2016, 23:59 <br\\>\n",
    "**Штраф за опоздание:** -0.5 за каждый день\n",
    "\n",
    "При отправлении ДЗ на почту указывайте фамилию в названии файла, а тему письма оформляйте в следующем виде:<br\\>\n",
    "** [minor-da-16] *{Фамилия}* *{Имя}* ДЗ*{Номер}* **<br\\>\n",
    "\n",
    "\n",
    "Сопровождайте ваш код изображеними, комментариями и выводами. <br\\>\n",
    "Иммейте ввиду, что на некоторые задачи нет единственного верного и полного ответа. Чем больше информации вы сможете извлечь, аргументированных выводов сформулировать, тем лучше.\n",
    "\n",
    "Используйте данный Ipython Notebook при оформлении домашнего задания.\n",
    "<hr\\>"
   ]
  },
  {
   "cell_type": "markdown",
   "metadata": {},
   "source": [
    "## 1. Теория веротяностей. Распределения"
   ]
  },
  {
   "cell_type": "markdown",
   "metadata": {},
   "source": [
    "В SciPy более 80 видов непрерывных и более 12 дискретных распределений, более 70 статистических функций"
   ]
  },
  {
   "cell_type": "code",
   "execution_count": 115,
   "metadata": {
    "collapsed": true
   },
   "outputs": [],
   "source": [
    "import scipy as sp\n",
    "import numpy as np\n",
    "import pandas as pd\n",
    "import matplotlib.pyplot as plt\n",
    "\n",
    "%matplotlib inline"
   ]
  },
  {
   "cell_type": "code",
   "execution_count": 116,
   "metadata": {
    "collapsed": true
   },
   "outputs": [],
   "source": [
    "plt.style.use('ggplot')"
   ]
  },
  {
   "cell_type": "code",
   "execution_count": 117,
   "metadata": {
    "collapsed": true
   },
   "outputs": [],
   "source": [
    "from scipy import stats"
   ]
  },
  {
   "cell_type": "markdown",
   "metadata": {},
   "source": [
    "**Задача 1.** Сгенерируйте три распределения: гауссовское с мат. ожиданием 1 и дисперсией 4, хи-квадрат с $k = 3$ и дискртеное пуассоновское с $\\lambda = 10$.<br/> \n",
    "\n",
    "При генерации используйте 500 точек. Посчитайте для каждого из них обчный набор статистик: среднее, минимум, максимум, дисперсию, кривизну и смещенность."
   ]
  },
  {
   "cell_type": "code",
   "execution_count": 118,
   "metadata": {
    "collapsed": false
   },
   "outputs": [],
   "source": [
    "x_norm = stats.norm.rvs(1, 2, size=500)\n",
    "x_chisq = stats.chi2.rvs(3, size=500)\n",
    "x_pois = stats.poisson.rvs(10, size=500)"
   ]
  },
  {
   "cell_type": "code",
   "execution_count": 119,
   "metadata": {
    "collapsed": false
   },
   "outputs": [
    {
     "name": "stdout",
     "output_type": "stream",
     "text": [
      "Normal distribution\n",
      " Mean = 1.011540\n",
      " Min = -5.308660\n",
      " Max = 6.880441\n",
      " Var = 3.769656\n",
      " Kurtosis = 0.109533\n",
      " Skewness = -0.048939\n",
      "\n"
     ]
    }
   ],
   "source": [
    "print('Normal distribution\\n','Mean = %f\\n' % np.mean(x_norm), 'Min = %f\\n' % np.amin(x_norm), \n",
    "      'Max = %f\\n' % np.amax(x_norm), 'Var = %f\\n' % np.var(x_norm), 'Kurtosis = %f\\n' % stats.kurtosis(x_norm), \n",
    "      'Skewness = %f\\n' % stats.skew(x_norm))"
   ]
  },
  {
   "cell_type": "code",
   "execution_count": 120,
   "metadata": {
    "collapsed": false
   },
   "outputs": [
    {
     "name": "stdout",
     "output_type": "stream",
     "text": [
      "Chi-square distribution\n",
      " Mean = 3.023677\n",
      " Min = 0.006616\n",
      " Max = 15.474147\n",
      " Var = 7.069049\n",
      " Kurtosis = 4.215313\n",
      " Skewness = 1.806385\n",
      "\n"
     ]
    }
   ],
   "source": [
    "print('Chi-square distribution\\n','Mean = %f\\n' % np.mean(x_chisq), 'Min = %f\\n' % np.amin(x_chisq), \n",
    "      'Max = %f\\n' % np.amax(x_chisq), 'Var = %f\\n' % np.var(x_chisq), 'Kurtosis = %f\\n' % stats.kurtosis(x_chisq), \n",
    "      'Skewness = %f\\n' % stats.skew(x_chisq))"
   ]
  },
  {
   "cell_type": "code",
   "execution_count": 121,
   "metadata": {
    "collapsed": false
   },
   "outputs": [
    {
     "name": "stdout",
     "output_type": "stream",
     "text": [
      "Poisson distribution\n",
      " Mean = 9.966000\n",
      " Min = 2.000000\n",
      " Max = 22.000000\n",
      " Var = 10.276844\n",
      " Kurtosis = 0.413386\n",
      " Skewness = 0.484998\n",
      "\n"
     ]
    }
   ],
   "source": [
    "print('Poisson distribution\\n','Mean = %f\\n' % np.mean(x_pois), 'Min = %f\\n' % np.amin(x_pois), \n",
    "      'Max = %f\\n' % np.amax(x_pois), 'Var = %f\\n' % np.var(x_pois), 'Kurtosis = %f\\n' % stats.kurtosis(x_pois), \n",
    "      'Skewness = %f\\n' % stats.skew(x_pois))"
   ]
  },
  {
   "cell_type": "markdown",
   "metadata": {},
   "source": [
    "**Задача 2.** Найрисуйте функцию (cdf) и плотность (pdf) распределений. На графиках pdf отметьте среднее значение и медиану."
   ]
  },
  {
   "cell_type": "code",
   "execution_count": 122,
   "metadata": {
    "collapsed": false
   },
   "outputs": [
    {
     "name": "stdout",
     "output_type": "stream",
     "text": [
      "Normal distribution\n"
     ]
    },
    {
     "data": {
      "text/plain": [
       "<matplotlib.text.Text at 0x1739d8c1780>"
      ]
     },
     "execution_count": 122,
     "metadata": {},
     "output_type": "execute_result"
    },
    {
     "data": {
      "image/png": "[encoded data removed]",
      "text/plain": [
       "<matplotlib.figure.Figure at 0x1739d8ed518>"
      ]
     },
     "metadata": {},
     "output_type": "display_data"
    }
   ],
   "source": [
    "print('Normal distribution')\n",
    "a = np.sort(x_norm)\n",
    "vals=np.arange(len(a))/float(len(a))\n",
    "fig, ax = plt.subplots(1,2)\n",
    "fig.set_size_inches(18,6)\n",
    "ax[0].plot(a, vals)\n",
    "ax[1].hist(a, normed=1, bins = 30)\n",
    "ax[1].plot([np.mean(x_norm), np.mean(x_norm)], [0, 0.2], 'k-', lw=1, label = 'mean = %f' % np.mean(x_norm))\n",
    "ax[1].plot([np.median(x_norm), np.median(x_norm)], [0, 0.2], 'k-', lw=1,color='blue', label = 'median = %f' % np.median(x_norm))\n",
    "ax[1].legend()\n",
    "ax[0].set_title(u'CDF')\n",
    "ax[1].set_title(u'PDF')"
   ]
  },
  {
   "cell_type": "code",
   "execution_count": 13,
   "metadata": {
    "collapsed": false
   },
   "outputs": [
    {
     "name": "stdout",
     "output_type": "stream",
     "text": [
      "Chi-square distribution\n"
     ]
    },
    {
     "data": {
      "text/plain": [
       "<matplotlib.text.Text at 0x1739af38390>"
      ]
     },
     "execution_count": 13,
     "metadata": {},
     "output_type": "execute_result"
    },
    {
     "data": {
      "image/png": "[encoded data removed]",
      "text/plain": [
       "<matplotlib.figure.Figure at 0x1739c2f1828>"
      ]
     },
     "metadata": {},
     "output_type": "display_data"
    }
   ],
   "source": [
    "print('Chi-square distribution')\n",
    "a = np.sort(x_chisq)\n",
    "vals=np.arange(len(a))/float(len(a))\n",
    "fig, ax = plt.subplots(1,2)\n",
    "fig.set_size_inches(18,6)\n",
    "ax[0].plot(a, vals)\n",
    "ax[1].hist(a, normed=1, bins = 30)\n",
    "ax[1].plot([np.mean(x_chisq), np.mean(x_chisq)], [0, 0.25], 'k-', lw=2, label = 'mean = %f' % np.mean(x_chisq))\n",
    "ax[1].plot([np.median(x_chisq), np.median(x_chisq)], [0, 0.25], 'k-', lw=2,color='blue', label = 'median = %f' % np.median(x_chisq))\n",
    "ax[1].legend()\n",
    "ax[0].set_title(u'CDF')\n",
    "ax[1].set_title(u'PDF')"
   ]
  },
  {
   "cell_type": "code",
   "execution_count": 123,
   "metadata": {
    "collapsed": false
   },
   "outputs": [
    {
     "name": "stdout",
     "output_type": "stream",
     "text": [
      "Poisson distribution\n"
     ]
    },
    {
     "data": {
      "text/plain": [
       "<matplotlib.text.Text at 0x1739d74d860>"
      ]
     },
     "execution_count": 123,
     "metadata": {},
     "output_type": "execute_result"
    },
    {
     "data": {
      "image/png": "[encoded data removed]",
      "text/plain": [
       "<matplotlib.figure.Figure at 0x1739d6a6908>"
      ]
     },
     "metadata": {},
     "output_type": "display_data"
    }
   ],
   "source": [
    "print('Poisson distribution')\n",
    "a = np.sort(x_pois)\n",
    "vals=np.arange(len(a))/float(len(a))\n",
    "fig, ax = plt.subplots(1,2)\n",
    "fig.set_size_inches(18,6)\n",
    "ax[0].plot(a, vals)\n",
    "ax[1].hist(a, normed=1, bins = 30)\n",
    "ax[1].plot([np.mean(x_pois), np.mean(x_pois)], [0, 0.25], 'k-', lw=2, label = 'mean = %f' % np.mean(x_pois))\n",
    "ax[1].plot([np.median(x_pois), np.median(x_pois)], [0, 0.25], 'k-', lw=2,color='blue', label = 'median = %f' % np.median(x_pois))\n",
    "ax[1].legend()\n",
    "ax[0].set_title(u'CDF')\n",
    "ax[1].set_title(u'PDF')"
   ]
  },
  {
   "cell_type": "markdown",
   "metadata": {},
   "source": [
    "**Задача 3.** Выведите описательные статистики распределений с помощью `scipy.stats.describe`. "
   ]
  },
  {
   "cell_type": "markdown",
   "metadata": {},
   "source": [
    "Describe for Normal distribution"
   ]
  },
  {
   "cell_type": "code",
   "execution_count": 19,
   "metadata": {
    "collapsed": false
   },
   "outputs": [
    {
     "data": {
      "text/plain": [
       "DescribeResult(nobs=500, minmax=(-4.8798227166854709, 7.1445026251984451), mean=0.93233075253456155, variance=3.8833497914520607, skewness=0.04359964192006712, kurtosis=-0.1388312220472896)"
      ]
     },
     "execution_count": 19,
     "metadata": {},
     "output_type": "execute_result"
    }
   ],
   "source": [
    "stats.describe(x_norm)"
   ]
  },
  {
   "cell_type": "markdown",
   "metadata": {},
   "source": [
    "\n",
    "Describe for Chi-square distribution"
   ]
  },
  {
   "cell_type": "code",
   "execution_count": 20,
   "metadata": {
    "collapsed": false
   },
   "outputs": [
    {
     "data": {
      "text/plain": [
       "DescribeResult(nobs=500, minmax=(0.04448448241619879, 13.007693025675332), mean=2.8861367832035212, variance=5.4422101668804181, skewness=1.404885360263445, kurtosis=2.0251290107638154)"
      ]
     },
     "execution_count": 20,
     "metadata": {},
     "output_type": "execute_result"
    }
   ],
   "source": [
    "stats.describe(x_chisq)"
   ]
  },
  {
   "cell_type": "markdown",
   "metadata": {},
   "source": [
    "\n",
    "Describe for Poisson distribution"
   ]
  },
  {
   "cell_type": "code",
   "execution_count": 8,
   "metadata": {
    "collapsed": false
   },
   "outputs": [
    {
     "data": {
      "text/plain": [
       "DescribeResult(nobs=500, minmax=(1, 21), mean=10.220000000000001, variance=10.929458917835671, skewness=0.2739921574232019, kurtosis=-0.12677390234323038)"
      ]
     },
     "execution_count": 8,
     "metadata": {},
     "output_type": "execute_result"
    }
   ],
   "source": [
    "stats.describe(x_pois)"
   ]
  },
  {
   "cell_type": "markdown",
   "metadata": {},
   "source": [
    "## 2. Теория вероятностей. Корреляция и метод максимального правдоподобия"
   ]
  },
  {
   "cell_type": "markdown",
   "metadata": {},
   "source": [
    "Корреляции с помощью ивестных вам пакетов можно посчитать несколькими способами: pandas.DataFrame.corr и numpy.correlate, numpy.corrcoef и scipy.stats.pearsonr для корреляционного коэффициента Пирсона, scipy.stats.spearmanr для корреляционного коэффициента Спирмена."
   ]
  },
  {
   "cell_type": "markdown",
   "metadata": {},
   "source": [
    "Объясните [разницу](http://support.minitab.com/en-us/minitab-express/1/help-and-how-to/modeling-statistics/regression/supporting-topics/basics/a-comparison-of-the-pearson-and-spearman-correlation-methods/) между коэффициентами корреляции Спирмена и Пирсона."
   ]
  },
  {
   "cell_type": "markdown",
   "metadata": {
    "collapsed": true
   },
   "source": [
    "Коэффициент Пирсона оценивает линейность зависимости 2х переменных, а коэффициент Спирмена подходит для оценки любой монотонной\n",
    "зависимости 2х переменных, так как всем переменным присваиваются ранги, которые отвечают за вес пары в значении коэффициента.\n"
   ]
  },
  {
   "cell_type": "markdown",
   "metadata": {},
   "source": [
    "В данных из файла [beauty.csv](https://www.dropbox.com/s/xio77e9p0oe1wqw/beauty.csv?dl=0) для каждого опрошенного имеется следующая информация: заработная плата за час работы, опыт работы, образование, внешняя привлекательность (в баллах от 1 до 5), бинарные признаки: пол, семейное положение, состояние здоровья (хорошее/плохое), членство в профсоюзе, цвет кожи (белый/чёрный), занятость в сфере обслуживания (да/нет)."
   ]
  },
  {
   "cell_type": "markdown",
   "metadata": {},
   "source": [
    "**Задание 1.** Найдите 3 пары признаков с наибольшей корреляцией. Поясните на конктретных примерах, что означают полученные коэффициенты корреляции."
   ]
  },
  {
   "cell_type": "code",
   "execution_count": 23,
   "metadata": {
    "collapsed": false
   },
   "outputs": [],
   "source": [
    "beauty = pd.read_csv('beauty.csv', sep=';')"
   ]
  },
  {
   "cell_type": "markdown",
   "metadata": {},
   "source": [
    "Записываем матрицу корреляций"
   ]
  },
  {
   "cell_type": "code",
   "execution_count": 24,
   "metadata": {
    "collapsed": false
   },
   "outputs": [],
   "source": [
    "m = beauty.corr().as_matrix()"
   ]
  },
  {
   "cell_type": "markdown",
   "metadata": {},
   "source": [
    "Выделяем значения в массив, берем модуль и сортируем"
   ]
  },
  {
   "cell_type": "code",
   "execution_count": 25,
   "metadata": {
    "collapsed": false
   },
   "outputs": [],
   "source": [
    "m = m.ravel()"
   ]
  },
  {
   "cell_type": "code",
   "execution_count": 26,
   "metadata": {
    "collapsed": false
   },
   "outputs": [],
   "source": [
    "m = np.absolute(m)"
   ]
  },
  {
   "cell_type": "code",
   "execution_count": 27,
   "metadata": {
    "collapsed": false
   },
   "outputs": [],
   "source": [
    "m = np.sort(m)"
   ]
  },
  {
   "cell_type": "markdown",
   "metadata": {},
   "source": [
    "Выводим пары признаков с наибольшей корреляцией(они будут 11, 13 и 15 с конца, так как первые 10 - единицы, а также все значения парные)"
   ]
  },
  {
   "cell_type": "code",
   "execution_count": 28,
   "metadata": {
    "collapsed": false
   },
   "outputs": [
    {
     "name": "stdout",
     "output_type": "stream",
     "text": [
      "wage female -0.313419441587\n",
      "female married -0.319227934398\n",
      "service educ 0.301628474412\n"
     ]
    }
   ],
   "source": [
    "a = [m[-11], m[-13], m[-15], -m[-11], -m[-13], -m[-15]]\n",
    "for index, row in beauty.corr().iterrows():\n",
    "    for column in beauty.corr():\n",
    "        if row[column] in a:\n",
    "            a.remove(row[column])\n",
    "            print(index, column, row[column])"
   ]
  },
  {
   "cell_type": "markdown",
   "metadata": {},
   "source": [
    "**Задание 2.** На семинаре мы рассмотрели различные распрелеления случайных величин (дискретные и непрерывные). \n",
    "\n",
    "Изобразите гистограммы каждого из признаков.<br/>\n",
    "Определите возможный закон распределения каждого из них и оцените его параметры. Если готовой функции в scipy.stats для распределения нет, то оцените эти параметры сами по методу максимального правдоподобия."
   ]
  },
  {
   "cell_type": "code",
   "execution_count": 154,
   "metadata": {
    "collapsed": false
   },
   "outputs": [
    {
     "data": {
      "text/plain": [
       "array([[<matplotlib.axes._subplots.AxesSubplot object at 0x0000011FEDFDADD8>,\n",
       "        <matplotlib.axes._subplots.AxesSubplot object at 0x0000011FF7A0EB38>,\n",
       "        <matplotlib.axes._subplots.AxesSubplot object at 0x0000011FEE76ACC0>],\n",
       "       [<matplotlib.axes._subplots.AxesSubplot object at 0x0000011FEE979E80>,\n",
       "        <matplotlib.axes._subplots.AxesSubplot object at 0x0000011FEFCC88D0>,\n",
       "        <matplotlib.axes._subplots.AxesSubplot object at 0x0000011FF6003D30>],\n",
       "       [<matplotlib.axes._subplots.AxesSubplot object at 0x0000011FF0274208>,\n",
       "        <matplotlib.axes._subplots.AxesSubplot object at 0x0000011FF0582C88>,\n",
       "        <matplotlib.axes._subplots.AxesSubplot object at 0x0000011FF0832AC8>],\n",
       "       [<matplotlib.axes._subplots.AxesSubplot object at 0x0000011FF0DDF518>,\n",
       "        <matplotlib.axes._subplots.AxesSubplot object at 0x0000011FF127AE48>,\n",
       "        <matplotlib.axes._subplots.AxesSubplot object at 0x0000011FF28C3DD8>]], dtype=object)"
      ]
     },
     "execution_count": 154,
     "metadata": {},
     "output_type": "execute_result"
    },
    {
     "data": {
      "image/png": "[encoded data removed]",
      "text/plain": [
       "<matplotlib.figure.Figure at 0x11ff8d9b908>"
      ]
     },
     "metadata": {},
     "output_type": "display_data"
    }
   ],
   "source": [
    "beauty.hist(figsize = (30,30), bins = 40)"
   ]
  },
  {
   "cell_type": "markdown",
   "metadata": {},
   "source": [
    "Распределение wage похоже на логнормальное"
   ]
  },
  {
   "cell_type": "code",
   "execution_count": 35,
   "metadata": {
    "collapsed": false
   },
   "outputs": [
    {
     "data": {
      "image/png": "[encoded data removed]",
      "text/plain": [
       "<matplotlib.figure.Figure at 0x1739d290c18>"
      ]
     },
     "metadata": {},
     "output_type": "display_data"
    },
    {
     "name": "stdout",
     "output_type": "stream",
     "text": [
      "Shape parameter = 0.608433 loc = 0.102805 scale = 5.129967\n"
     ]
    }
   ],
   "source": [
    "a, b, c = stats.lognorm.fit(beauty['wage'])\n",
    "plt.hist(stats.lognorm.rvs(a, b, c, size=500), normed = True, label = 'Theoretical')\n",
    "plt.hist(beauty['wage'], normed = True, bins = 30, alpha = 0.5, label = 'Real')\n",
    "plt.title('wage')\n",
    "plt.legend()\n",
    "plt.show()\n",
    "print('Shape parameter = %f' % a, 'loc = %f' % b,'scale = %f' % c)"
   ]
  },
  {
   "cell_type": "markdown",
   "metadata": {},
   "source": [
    "Распределение Exper похоже на powerlaw"
   ]
  },
  {
   "cell_type": "code",
   "execution_count": 37,
   "metadata": {
    "collapsed": false
   },
   "outputs": [
    {
     "data": {
      "image/png": "[encoded data removed]",
      "text/plain": [
       "<matplotlib.figure.Figure at 0x1739d2b79b0>"
      ]
     },
     "metadata": {},
     "output_type": "display_data"
    },
    {
     "name": "stdout",
     "output_type": "stream",
     "text": [
      "Shape parameter = 0.786583 loc = -0.000000 scale = 48.925357\n"
     ]
    }
   ],
   "source": [
    "a, b, c = stats.powerlaw.fit(beauty['exper'])\n",
    "plt.hist(stats.powerlaw.rvs(a, b, c, size=500), normed = True, label = 'Theoretical')\n",
    "plt.hist(beauty['exper'], normed = True, bins = 12, alpha = 0.5, label = 'Real')\n",
    "plt.title('Exper')\n",
    "plt.legend()\n",
    "plt.show()\n",
    "print('Shape parameter = %f' % a, 'loc = %f' % b,'scale = %f' % c)"
   ]
  },
  {
   "cell_type": "markdown",
   "metadata": {},
   "source": [
    "Следующие 5 признаков распределены по Бернулли. Вероятность события и его стандартную ошибку можно найти методом максимального правдоподобия."
   ]
  },
  {
   "cell_type": "code",
   "execution_count": 43,
   "metadata": {
    "collapsed": false
   },
   "outputs": [
    {
     "name": "stdout",
     "output_type": "stream",
     "text": [
      "Black: P = 0.07 (s.d. = 0.0073658197)\n"
     ]
    }
   ],
   "source": [
    "theta_black = beauty['black'].sum() / len(beauty.index)\n",
    "var_black = (theta_black * (1 - theta_black)) / len(beauty.index)\n",
    "print('Black: P = %.2f (s.d. = %.10f)' % (theta_black, var_black**0.5))"
   ]
  },
  {
   "cell_type": "code",
   "execution_count": 44,
   "metadata": {
    "collapsed": false
   },
   "outputs": [
    {
     "name": "stdout",
     "output_type": "stream",
     "text": [
      "Female: P = 0.35 (s.d. = 0.0134014266)\n"
     ]
    }
   ],
   "source": [
    "theta_female = beauty['female'].sum() / len(beauty.index)\n",
    "var_female = (theta_female * (1 - theta_female)) / len(beauty.index)\n",
    "print('Female: P = %.2f (s.d. = %.10f)' % (theta_female, var_female**0.5))"
   ]
  },
  {
   "cell_type": "code",
   "execution_count": 45,
   "metadata": {
    "collapsed": false
   },
   "outputs": [
    {
     "name": "stdout",
     "output_type": "stream",
     "text": [
      "Goodhealth: P = 0.93 (s.d. = 0.0070272837)\n"
     ]
    }
   ],
   "source": [
    "theta_goodhlth = beauty['goodhlth'].sum() / len(beauty.index)\n",
    "var_goodhlth = (theta_goodhlth * (1 - theta_goodhlth)) / len(beauty.index)\n",
    "print('Goodhealth: P = %.2f (s.d. = %.10f)' % (theta_goodhlth, var_goodhlth**0.5))"
   ]
  },
  {
   "cell_type": "code",
   "execution_count": 42,
   "metadata": {
    "collapsed": false
   },
   "outputs": [
    {
     "name": "stdout",
     "output_type": "stream",
     "text": [
      "Married: P = : 0.69 (s.d. = 0.0130145172)\n"
     ]
    }
   ],
   "source": [
    "theta_married = beauty['married'].sum() / len(beauty.index)\n",
    "var_married = (theta_married * (1 - theta_married)) / len(beauty.index)\n",
    "print('Married: P = %.2f (s.d. = %.10f)' % (theta_married, var_married**0.5))"
   ]
  },
  {
   "cell_type": "code",
   "execution_count": 41,
   "metadata": {
    "collapsed": false
   },
   "outputs": [
    {
     "name": "stdout",
     "output_type": "stream",
     "text": [
      "Service: P = : 0.27 (s.d. = 0.0125621587)\n"
     ]
    }
   ],
   "source": [
    "theta_service = beauty['service'].sum() / len(beauty.index)\n",
    "var_service = (theta_service * (1 - theta_service)) / len(beauty.index)\n",
    "print('Service: P = %.2f (s.d. = %.10f)' % (theta_service, var_service**0.5))"
   ]
  },
  {
   "cell_type": "code",
   "execution_count": 40,
   "metadata": {
    "collapsed": false
   },
   "outputs": [
    {
     "name": "stdout",
     "output_type": "stream",
     "text": [
      "Union: P = : 0.27 (s.d. = 0.0125393756)\n"
     ]
    }
   ],
   "source": [
    "theta_union = beauty['union'].sum() / len(beauty.index)\n",
    "var_union = (theta_union * (1 - theta_union)) / len(beauty.index)\n",
    "print('Union: P = %.2f (s.d. = %.10f)' % (theta_union, var_union**0.5))"
   ]
  },
  {
   "cell_type": "markdown",
   "metadata": {},
   "source": [
    "Looks и educ похожи на биномиальное распределения."
   ]
  },
  {
   "cell_type": "markdown",
   "metadata": {},
   "source": [
    "В looks приймем n за 5"
   ]
  },
  {
   "cell_type": "code",
   "execution_count": 49,
   "metadata": {
    "collapsed": false
   },
   "outputs": [
    {
     "name": "stdout",
     "output_type": "stream",
     "text": [
      "n = 5 p = 0.637143\n"
     ]
    },
    {
     "data": {
      "image/png": "[encoded data removed]",
      "text/plain": [
       "<matplotlib.figure.Figure at 0x1739d298748>"
      ]
     },
     "metadata": {},
     "output_type": "display_data"
    }
   ],
   "source": [
    "p = beauty['looks'].mean()/5\n",
    "print('n = 5', 'p = %f' % p)\n",
    "plt.hist(stats.binom.rvs(5, p, size=500), normed = True, label = 'Theoretical')\n",
    "plt.hist(beauty['looks'], normed = True, alpha = 0.5, label = 'Real')\n",
    "plt.title('Looks')\n",
    "plt.legend()\n",
    "plt.show()"
   ]
  },
  {
   "cell_type": "markdown",
   "metadata": {},
   "source": [
    "В educ приймем n за 17"
   ]
  },
  {
   "cell_type": "code",
   "execution_count": 50,
   "metadata": {
    "collapsed": false
   },
   "outputs": [
    {
     "name": "stdout",
     "output_type": "stream",
     "text": [
      "n = 17 p = 0.739029\n"
     ]
    },
    {
     "data": {
      "image/png": "[encoded data removed]",
      "text/plain": [
       "<matplotlib.figure.Figure at 0x1739d003c88>"
      ]
     },
     "metadata": {},
     "output_type": "display_data"
    }
   ],
   "source": [
    "p = beauty['educ'].mean()/17\n",
    "print('n = 17', 'p = %f' % p)\n",
    "plt.hist(stats.binom.rvs(17, p, size=500), normed = True, label = 'Theoretical')\n",
    "plt.hist(beauty['educ'], normed = True, bins =10, alpha = 0.5, label = 'Real')\n",
    "plt.title('Educ')\n",
    "plt.legend()\n",
    "plt.show()"
   ]
  },
  {
   "cell_type": "markdown",
   "metadata": {},
   "source": [
    "## 3. Метод наивного Байеса"
   ]
  },
  {
   "cell_type": "markdown",
   "metadata": {},
   "source": [
    "Пояснения по выполнению этого задания будут рассказаны на семинаре 1 марта"
   ]
  },
  {
   "cell_type": "markdown",
   "metadata": {},
   "source": [
    "Обучение методом наивного Байеса основывается на достаточно сильном предположении, что все признаки попарно независимы. По формуле Байеса $$P(y|x_1,\\dots,x_n)=\\frac{P(y)P(x_1,\\dots,x_n|y)}{P(x_1,\\dots,x_n)}.$$ В предположении, что признаки независимы получаем, что $$P(y|x_1,\\dots,x_n)=\\frac{P(y)\\prod_{i=1}^n P(x_i|y)}{P(x_1,\\dots,x_n)}$$\n",
    "Т.к. $$P(x_1,\\dots,x_n)$$ задается условиями задачи, принцип максимального правдоподобия для наивного Байеса запишется следующим образом: $$\\hat y = \\arg\\max_y P(y)\\prod_{i=1}^n P(x_i|y).$$\n",
    "\n",
    "\n",
    "Библиотека `sklearn` поддерживает несколько реализаций наивного Байеса: `sklearn.naive_bayes.GaussianNB`, `sklearn.naive_bayes.MultinomialNB` и др."
   ]
  },
  {
   "cell_type": "code",
   "execution_count": 124,
   "metadata": {
    "collapsed": true
   },
   "outputs": [],
   "source": [
    "from sklearn.cross_validation import train_test_split\n",
    "from sklearn.datasets import fetch_20newsgroups\n",
    "from sklearn.naive_bayes import MultinomialNB\n",
    "from sklearn.feature_extraction.text import CountVectorizer"
   ]
  },
  {
   "cell_type": "markdown",
   "metadata": {},
   "source": [
    "**Задание 1.** Выберите 2 категории новостных сообщений из `20newsgroups`. Случайным образом, в пропорции 70/30, разделите наборы текстов на обучающую и контрольную выборки. В результате выполнения данного задания у вас должно получится 5 переменных: `text_all`, `text_train`, `text_test`, `y_train`, `y_test`."
   ]
  },
  {
   "cell_type": "code",
   "execution_count": null,
   "metadata": {
    "collapsed": false
   },
   "outputs": [],
   "source": [
    "# Список новостных заголовков\n",
    "['alt.atheism',\n",
    " 'comp.graphics',\n",
    " 'comp.os.ms-windows.misc',\n",
    " 'comp.sys.ibm.pc.hardware',\n",
    " 'comp.sys.mac.hardware',\n",
    " 'comp.windows.x',\n",
    " 'misc.forsale',\n",
    " 'rec.autos',\n",
    " 'rec.motorcycles',\n",
    " 'rec.sport.baseball',\n",
    " 'rec.sport.hockey',\n",
    " 'sci.crypt',\n",
    " 'sci.electronics',\n",
    " 'sci.med',\n",
    " 'sci.space',\n",
    " 'soc.religion.christian',\n",
    " 'talk.politics.guns',\n",
    " 'talk.politics.mideast',\n",
    " 'talk.politics.misc',\n",
    " 'talk.religion.misc']"
   ]
  },
  {
   "cell_type": "markdown",
   "metadata": {},
   "source": [
    "Выбираем Атеизм и Хоккей"
   ]
  },
  {
   "cell_type": "code",
   "execution_count": 125,
   "metadata": {
    "collapsed": false
   },
   "outputs": [],
   "source": [
    "categories = ['alt.atheism', 'rec.sport.hockey']\n",
    "text_all = fetch_20newsgroups(subset = 'all', categories=categories)"
   ]
  },
  {
   "cell_type": "markdown",
   "metadata": {},
   "source": [
    "Отделяем тестовую и контрольную выборки"
   ]
  },
  {
   "cell_type": "code",
   "execution_count": 126,
   "metadata": {
    "collapsed": false
   },
   "outputs": [],
   "source": [
    "text_train, text_test, y_train, y_test = train_test_split(text_all.data, text_all.target, test_size=0.3)\n"
   ]
  },
  {
   "cell_type": "markdown",
   "metadata": {},
   "source": [
    "**Задание 2.** На переменной `text` постройте конвертер из текстов в частотную матрицу с помощью метода `CountVectorizer(analyzer='word', stop_words='english', lowercase=True)`, а затем используйте его на выборках `train` и `test`. В результате вы должны получить 2 матрицы: `X_train` и `X_test`."
   ]
  },
  {
   "cell_type": "markdown",
   "metadata": {},
   "source": [
    "Задаем матрицы X_train и X_test"
   ]
  },
  {
   "cell_type": "code",
   "execution_count": 130,
   "metadata": {
    "collapsed": false
   },
   "outputs": [],
   "source": [
    "count_vect = CountVectorizer(analyzer='word', stop_words='english', lowercase=True)\n",
    "count_vect.fit(text_all.data)\n",
    "X_train = count_vect.transform(text_train)\n",
    "X_test = count_vect.transform(text_test).toarray()"
   ]
  },
  {
   "cell_type": "markdown",
   "metadata": {},
   "source": [
    "**Задание 3.** По матрице `X_train` найдите 50 самых частотных слов. Соответствия столбцов и слов можно понять по методу `CountVectorizer.get_feature_names()`."
   ]
  },
  {
   "cell_type": "code",
   "execution_count": 132,
   "metadata": {
    "collapsed": false
   },
   "outputs": [],
   "source": [
    "freqs = [(word, X_train.getcol(idx).sum()) for word, idx in count_vect.vocabulary_.items()]\n",
    "x = sorted(freqs, key = lambda x: -x[1])[:50]"
   ]
  },
  {
   "cell_type": "code",
   "execution_count": 135,
   "metadata": {
    "collapsed": false
   },
   "outputs": [
    {
     "data": {
      "text/html": [
       "<div>\n",
       "<table border=\"1\" class=\"dataframe\">\n",
       "  <thead>\n",
       "    <tr style=\"text-align: right;\">\n",
       "      <th></th>\n",
       "      <th>Word</th>\n",
       "      <th>Frequency</th>\n",
       "    </tr>\n",
       "  </thead>\n",
       "  <tbody>\n",
       "    <tr>\n",
       "      <th>0</th>\n",
       "      <td>edu</td>\n",
       "      <td>2685</td>\n",
       "    </tr>\n",
       "    <tr>\n",
       "      <th>1</th>\n",
       "      <td>subject</td>\n",
       "      <td>1333</td>\n",
       "    </tr>\n",
       "    <tr>\n",
       "      <th>2</th>\n",
       "      <td>lines</td>\n",
       "      <td>1312</td>\n",
       "    </tr>\n",
       "    <tr>\n",
       "      <th>3</th>\n",
       "      <td>organization</td>\n",
       "      <td>1248</td>\n",
       "    </tr>\n",
       "    <tr>\n",
       "      <th>4</th>\n",
       "      <td>writes</td>\n",
       "      <td>1091</td>\n",
       "    </tr>\n",
       "    <tr>\n",
       "      <th>5</th>\n",
       "      <td>com</td>\n",
       "      <td>984</td>\n",
       "    </tr>\n",
       "    <tr>\n",
       "      <th>6</th>\n",
       "      <td>don</td>\n",
       "      <td>899</td>\n",
       "    </tr>\n",
       "    <tr>\n",
       "      <th>7</th>\n",
       "      <td>article</td>\n",
       "      <td>869</td>\n",
       "    </tr>\n",
       "    <tr>\n",
       "      <th>8</th>\n",
       "      <td>game</td>\n",
       "      <td>855</td>\n",
       "    </tr>\n",
       "    <tr>\n",
       "      <th>9</th>\n",
       "      <td>think</td>\n",
       "      <td>798</td>\n",
       "    </tr>\n",
       "    <tr>\n",
       "      <th>10</th>\n",
       "      <td>ca</td>\n",
       "      <td>768</td>\n",
       "    </tr>\n",
       "    <tr>\n",
       "      <th>11</th>\n",
       "      <td>team</td>\n",
       "      <td>745</td>\n",
       "    </tr>\n",
       "    <tr>\n",
       "      <th>12</th>\n",
       "      <td>god</td>\n",
       "      <td>741</td>\n",
       "    </tr>\n",
       "    <tr>\n",
       "      <th>13</th>\n",
       "      <td>hockey</td>\n",
       "      <td>725</td>\n",
       "    </tr>\n",
       "    <tr>\n",
       "      <th>14</th>\n",
       "      <td>university</td>\n",
       "      <td>707</td>\n",
       "    </tr>\n",
       "    <tr>\n",
       "      <th>15</th>\n",
       "      <td>people</td>\n",
       "      <td>703</td>\n",
       "    </tr>\n",
       "    <tr>\n",
       "      <th>16</th>\n",
       "      <td>just</td>\n",
       "      <td>695</td>\n",
       "    </tr>\n",
       "    <tr>\n",
       "      <th>17</th>\n",
       "      <td>posting</td>\n",
       "      <td>679</td>\n",
       "    </tr>\n",
       "    <tr>\n",
       "      <th>18</th>\n",
       "      <td>like</td>\n",
       "      <td>642</td>\n",
       "    </tr>\n",
       "    <tr>\n",
       "      <th>19</th>\n",
       "      <td>host</td>\n",
       "      <td>607</td>\n",
       "    </tr>\n",
       "    <tr>\n",
       "      <th>20</th>\n",
       "      <td>nntp</td>\n",
       "      <td>604</td>\n",
       "    </tr>\n",
       "    <tr>\n",
       "      <th>21</th>\n",
       "      <td>know</td>\n",
       "      <td>563</td>\n",
       "    </tr>\n",
       "    <tr>\n",
       "      <th>22</th>\n",
       "      <td>say</td>\n",
       "      <td>530</td>\n",
       "    </tr>\n",
       "    <tr>\n",
       "      <th>23</th>\n",
       "      <td>time</td>\n",
       "      <td>516</td>\n",
       "    </tr>\n",
       "    <tr>\n",
       "      <th>24</th>\n",
       "      <td>does</td>\n",
       "      <td>498</td>\n",
       "    </tr>\n",
       "    <tr>\n",
       "      <th>25</th>\n",
       "      <td>good</td>\n",
       "      <td>481</td>\n",
       "    </tr>\n",
       "    <tr>\n",
       "      <th>26</th>\n",
       "      <td>10</td>\n",
       "      <td>476</td>\n",
       "    </tr>\n",
       "    <tr>\n",
       "      <th>27</th>\n",
       "      <td>25</td>\n",
       "      <td>425</td>\n",
       "    </tr>\n",
       "    <tr>\n",
       "      <th>28</th>\n",
       "      <td>way</td>\n",
       "      <td>423</td>\n",
       "    </tr>\n",
       "    <tr>\n",
       "      <th>29</th>\n",
       "      <td>games</td>\n",
       "      <td>419</td>\n",
       "    </tr>\n",
       "    <tr>\n",
       "      <th>30</th>\n",
       "      <td>cs</td>\n",
       "      <td>415</td>\n",
       "    </tr>\n",
       "    <tr>\n",
       "      <th>31</th>\n",
       "      <td>play</td>\n",
       "      <td>412</td>\n",
       "    </tr>\n",
       "    <tr>\n",
       "      <th>32</th>\n",
       "      <td>nhl</td>\n",
       "      <td>409</td>\n",
       "    </tr>\n",
       "    <tr>\n",
       "      <th>33</th>\n",
       "      <td>new</td>\n",
       "      <td>406</td>\n",
       "    </tr>\n",
       "    <tr>\n",
       "      <th>34</th>\n",
       "      <td>year</td>\n",
       "      <td>395</td>\n",
       "    </tr>\n",
       "    <tr>\n",
       "      <th>35</th>\n",
       "      <td>said</td>\n",
       "      <td>378</td>\n",
       "    </tr>\n",
       "    <tr>\n",
       "      <th>36</th>\n",
       "      <td>did</td>\n",
       "      <td>375</td>\n",
       "    </tr>\n",
       "    <tr>\n",
       "      <th>37</th>\n",
       "      <td>55</td>\n",
       "      <td>374</td>\n",
       "    </tr>\n",
       "    <tr>\n",
       "      <th>38</th>\n",
       "      <td>16</td>\n",
       "      <td>369</td>\n",
       "    </tr>\n",
       "    <tr>\n",
       "      <th>39</th>\n",
       "      <td>season</td>\n",
       "      <td>363</td>\n",
       "    </tr>\n",
       "    <tr>\n",
       "      <th>40</th>\n",
       "      <td>11</td>\n",
       "      <td>361</td>\n",
       "    </tr>\n",
       "    <tr>\n",
       "      <th>41</th>\n",
       "      <td>12</td>\n",
       "      <td>357</td>\n",
       "    </tr>\n",
       "    <tr>\n",
       "      <th>42</th>\n",
       "      <td>15</td>\n",
       "      <td>349</td>\n",
       "    </tr>\n",
       "    <tr>\n",
       "      <th>43</th>\n",
       "      <td>make</td>\n",
       "      <td>346</td>\n",
       "    </tr>\n",
       "    <tr>\n",
       "      <th>44</th>\n",
       "      <td>atheism</td>\n",
       "      <td>341</td>\n",
       "    </tr>\n",
       "    <tr>\n",
       "      <th>45</th>\n",
       "      <td>believe</td>\n",
       "      <td>339</td>\n",
       "    </tr>\n",
       "    <tr>\n",
       "      <th>46</th>\n",
       "      <td>20</td>\n",
       "      <td>337</td>\n",
       "    </tr>\n",
       "    <tr>\n",
       "      <th>47</th>\n",
       "      <td>14</td>\n",
       "      <td>336</td>\n",
       "    </tr>\n",
       "    <tr>\n",
       "      <th>48</th>\n",
       "      <td>world</td>\n",
       "      <td>336</td>\n",
       "    </tr>\n",
       "    <tr>\n",
       "      <th>49</th>\n",
       "      <td>18</td>\n",
       "      <td>328</td>\n",
       "    </tr>\n",
       "  </tbody>\n",
       "</table>\n",
       "</div>"
      ],
      "text/plain": [
       "            Word  Frequency\n",
       "0            edu       2685\n",
       "1        subject       1333\n",
       "2          lines       1312\n",
       "3   organization       1248\n",
       "4         writes       1091\n",
       "5            com        984\n",
       "6            don        899\n",
       "7        article        869\n",
       "8           game        855\n",
       "9          think        798\n",
       "10            ca        768\n",
       "11          team        745\n",
       "12           god        741\n",
       "13        hockey        725\n",
       "14    university        707\n",
       "15        people        703\n",
       "16          just        695\n",
       "17       posting        679\n",
       "18          like        642\n",
       "19          host        607\n",
       "20          nntp        604\n",
       "21          know        563\n",
       "22           say        530\n",
       "23          time        516\n",
       "24          does        498\n",
       "25          good        481\n",
       "26            10        476\n",
       "27            25        425\n",
       "28           way        423\n",
       "29         games        419\n",
       "30            cs        415\n",
       "31          play        412\n",
       "32           nhl        409\n",
       "33           new        406\n",
       "34          year        395\n",
       "35          said        378\n",
       "36           did        375\n",
       "37            55        374\n",
       "38            16        369\n",
       "39        season        363\n",
       "40            11        361\n",
       "41            12        357\n",
       "42            15        349\n",
       "43          make        346\n",
       "44       atheism        341\n",
       "45       believe        339\n",
       "46            20        337\n",
       "47            14        336\n",
       "48         world        336\n",
       "49            18        328"
      ]
     },
     "execution_count": 135,
     "metadata": {},
     "output_type": "execute_result"
    }
   ],
   "source": [
    "words = pd.DataFrame.from_dict(x, orient='columns', dtype=None)\n",
    "words.columns = ['Word', 'Frequency']\n",
    "words"
   ]
  },
  {
   "cell_type": "markdown",
   "metadata": {},
   "source": [
    "**Задание 4.** Обучите наивный байесовский классификатор MultinomialNB с параметром слгаживания `alpha=1` на выборке train. Примените его к данным из тестовой выборке и оцените точность совпадения меток."
   ]
  },
  {
   "cell_type": "code",
   "execution_count": 139,
   "metadata": {
    "collapsed": true
   },
   "outputs": [],
   "source": [
    "model1 = MultinomialNB(alpha=1.0).fit(X_train, y_train)\n",
    "predicted1 = model.predict(X_test)\n",
    "probs1 = model.predict_proba(X_test)"
   ]
  },
  {
   "cell_type": "code",
   "execution_count": 140,
   "metadata": {
    "collapsed": false
   },
   "outputs": [
    {
     "name": "stdout",
     "output_type": "stream",
     "text": [
      "predictive power =  0.992592592593\n"
     ]
    }
   ],
   "source": [
    "print('predictive power = ', np.mean(predicted1 == y_test))"
   ]
  },
  {
   "cell_type": "code",
   "execution_count": 141,
   "metadata": {
    "collapsed": false
   },
   "outputs": [
    {
     "name": "stdout",
     "output_type": "stream",
     "text": [
      "predicted probabilities = [[  1.35039647e-116   1.00000000e+000]\n",
      " [  0.00000000e+000   1.00000000e+000]\n",
      " [  0.00000000e+000   1.00000000e+000]\n",
      " ..., \n",
      " [  5.38266036e-039   1.00000000e+000]\n",
      " [  1.00000000e+000   0.00000000e+000]\n",
      " [  1.00000000e+000   2.70604619e-046]]\n"
     ]
    }
   ],
   "source": [
    "print('predicted probabilities =', probs1)"
   ]
  },
  {
   "cell_type": "code",
   "execution_count": 146,
   "metadata": {
    "collapsed": false
   },
   "outputs": [
    {
     "name": "stdout",
     "output_type": "stream",
     "text": [
      "                  precision    recall  f1-score   support\n",
      "\n",
      "     alt.atheism       0.99      1.00      0.99       250\n",
      "rec.sport.hockey       1.00      0.99      0.99       290\n",
      "\n",
      "     avg / total       0.99      0.99      0.99       540\n",
      "\n"
     ]
    }
   ],
   "source": [
    "from sklearn import metrics\n",
    "print(metrics.classification_report(y_test, predicted1, target_names=text_all.target_names))"
   ]
  },
  {
   "cell_type": "markdown",
   "metadata": {},
   "source": [
    "**Задание 5.** Обучите наивный байесовский классификатор MultinomialNB с параметром слгаживания `alpha=0` на выборке train. Примените его к данным из тестовой выборки и оцените точность совпадения меток. Поменяются ли результаты? Объясните почему?\n",
    "\n",
    "Учитывайте не только метки, но и вероятности, которые выдает классификатор"
   ]
  },
  {
   "cell_type": "code",
   "execution_count": 147,
   "metadata": {
    "collapsed": false
   },
   "outputs": [
    {
     "name": "stdout",
     "output_type": "stream",
     "text": [
      "predictive power =  0.462962962963\n",
      "predicted probabilities = [[ nan  nan]\n",
      " [ nan  nan]\n",
      " [ nan  nan]\n",
      " ..., \n",
      " [ nan  nan]\n",
      " [ nan  nan]\n",
      " [ nan  nan]]\n",
      "                  precision    recall  f1-score   support\n",
      "\n",
      "     alt.atheism       0.46      1.00      0.63       250\n",
      "rec.sport.hockey       0.00      0.00      0.00       290\n",
      "\n",
      "     avg / total       0.21      0.46      0.29       540\n",
      "\n"
     ]
    },
    {
     "name": "stderr",
     "output_type": "stream",
     "text": [
      "C:\\Users\\Aspire\\Anaconda3\\lib\\site-packages\\sklearn\\metrics\\classification.py:1074: UndefinedMetricWarning: Precision and F-score are ill-defined and being set to 0.0 in labels with no predicted samples.\n",
      "  'precision', 'predicted', average, warn_for)\n"
     ]
    }
   ],
   "source": [
    "model0 = MultinomialNB(alpha=0.0).fit(X_train, y_train)\n",
    "predicted0 = model0.predict(X_test)\n",
    "probs0 = model0.predict_proba(X_test)\n",
    "print('predictive power = ', np.mean(predicted0 == y_test))\n",
    "print('predicted probabilities =', probs0)\n",
    "from sklearn import metrics\n",
    "print(metrics.classification_report(y_test, predicted0, target_names=text_all.target_names))"
   ]
  },
  {
   "cell_type": "markdown",
   "metadata": {},
   "source": [
    "Результаты отличаются. Разница в двух подходах в том, что в одном мы используем Laplace smoothing(alpha = 1), а в другом - нет. При использовании его, для каждого слова считается, что его встретили на 1 раз больше, чем на самом деле. Это помогает избегать того, что вероятность текста, в котором есть слово, ни к чему не принадлежащее, относиться к категории равна 0(из-за предположении о независимомти признаков). Это и есть причина различия"
   ]
  }
 ],
 "metadata": {
  "kernelspec": {
   "display_name": "Python 3",
   "language": "python",
   "name": "python3"
  },
  "language_info": {
   "codemirror_mode": {
    "name": "ipython",
    "version": 3
   },
   "file_extension": ".py",
   "mimetype": "text/x-python",
   "name": "python",
   "nbconvert_exporter": "python",
   "pygments_lexer": "ipython3",
   "version": "3.5.1"
  }
 },
 "nbformat": 4,
 "nbformat_minor": 0
}
