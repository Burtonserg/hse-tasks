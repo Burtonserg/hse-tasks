{
 "cells": [
  {
   "cell_type": "markdown",
   "metadata": {},
   "source": [
    "# Современные методы машинного обучения, ИАД\n",
    "\n",
    "## Семинар 3"
   ]
  },
  {
   "cell_type": "markdown",
   "metadata": {},
   "source": [
    "### О задании\n",
    "\n",
    "Задание посвящено реализации различных слоёв нейронной сети."
   ]
  },
  {
   "cell_type": "code",
   "execution_count": 7,
   "metadata": {},
   "outputs": [],
   "source": [
    "import numpy as np"
   ]
  },
  {
   "cell_type": "markdown",
   "metadata": {},
   "source": [
    "## Часть 1. Реализация слоёв графа вычислений\n",
    "\n",
    "В этом задании мы реализуем граф вычислений для задачи распознавания изображений рукописных цифр на примере датасета [MNIST](http://yann.lecun.com/exdb/mnist/) — в частности, эта часть посвящена реализации всех требующихся для построения графа слоёв.\n",
    "\n",
    "Указанная задача является задачей классификации на $K = 10$ классов, поэтому будем строить граф вычислений, выходной слой которого будет содержать 10 нейронов, $k$-ый из которых вычисляет оценку принадлежности объекта $k$-ому классу. В качестве функционала качества в данной задаче будем использовать **кросс-энтропию**:\n",
    "\n",
    "$$Q(a, X) = -\\frac{1}{l}\\sum_{i=1}^l \\sum_{k=1}^K [y_i = k] \\log a_k(x_i),$$\n",
    "где\n",
    "\n",
    "$X = \\{ (x_i, y_i)\\}_{i=1}^l, \\, y_i \\in \\{1, \\dots, K\\},$ — обучающая выборка,\n",
    "\n",
    "$a(x) = (a_k(x))_{k=1}^K \\in \\mathbb{R}^K$ — прогноз графа вычислений для объекта $x$, состоящий из выходов $K$ нейронов выходного слоя (т.е. $a_k(x)$ — оценка принадлежности объекта $x$ классу $k$, построенная при помощи заданного графа вычислений).\n",
    "\n",
    "Нейрнонные сети обучаются с использованием стохастических методов оптимизации, однако для ускорения обучения и большей стабильности за один проход параметры оптимизируются по батчу — набору из нескольких тренировочных примеров, так же batch_size является дополнительной размерностью для входящих в слой тензоров.\n",
    "\n",
    "Для начала определим класс Layer, реализующий тождественный слой, который будет являться базовым классом для всех последующих."
   ]
  },
  {
   "cell_type": "code",
   "execution_count": 1,
   "metadata": {},
   "outputs": [],
   "source": [
    "class Layer:\n",
    "    \"\"\"\n",
    "    A building block. Each layer is capable of performing two things:\n",
    "\n",
    "    - Process input to get output:           output = layer.forward(input)\n",
    "\n",
    "    - Propagate gradients through itself:    grad_input = layer.backward(input, grad_output)\n",
    "\n",
    "    Some layers also have learnable parameters which they update during layer.backward.\n",
    "    \"\"\"\n",
    "\n",
    "    def __init__(self):\n",
    "        \"\"\"\n",
    "        Here you can initialize layer parameters (if any) and auxiliary stuff.\n",
    "        \"\"\"\n",
    "\n",
    "        raise NotImplementedError(\"Not implemented in interface\")\n",
    "\n",
    "    def forward(self, input):\n",
    "        \"\"\"\n",
    "        Takes input data of shape [batch, ...], returns output data [batch, ...]\n",
    "        \"\"\"\n",
    "\n",
    "        raise NotImplementedError(\"Not implemented in interface\")\n",
    "\n",
    "    def backward(self, input, grad_output):\n",
    "        \"\"\"\n",
    "        Performs a backpropagation step through the layer, with respect to the given input.\n",
    "\n",
    "        To compute loss gradients w.r.t input, you need to apply chain rule (backprop):\n",
    "\n",
    "        d loss / d x  = (d loss / d layer) * (d layer / d x)\n",
    "\n",
    "        Luckily, you already receive d loss / d layer as input, so you only need to multiply it by d layer / d x.\n",
    "\n",
    "        If your layer has parameters (e.g. dense layer), you also need to update them here using d loss / d layer\n",
    "        \"\"\"\n",
    "\n",
    "        raise NotImplementedError(\"Not implemented in interface\")"
   ]
  },
  {
   "cell_type": "markdown",
   "metadata": {},
   "source": [
    "**Задание 1**\n",
    "\n",
    "Используя приведенные прототипы, реализуйте слой, применяющий функцию активации ReLU (Rectified Linear Unit) поэлементно к каждому из входов слоя:\n",
    "$$\\text{ReLU}(z) = \\max (0, z)$$"
   ]
  },
  {
   "cell_type": "code",
   "execution_count": 2,
   "metadata": {},
   "outputs": [],
   "source": [
    "class ReLU(Layer):\n",
    "\n",
    "    def __init__(self):\n",
    "        \"\"\"\n",
    "        ReLU layer simply applies elementwise rectified linear unit to all inputs\n",
    "        This layer does not have any parameters.\n",
    "        \"\"\"\n",
    "        pass\n",
    "\n",
    "    def forward(self, input):\n",
    "        \"\"\"\n",
    "        Perform ReLU transformation\n",
    "        input shape: [batch, input_units]\n",
    "        output shape: [batch, input_units]\n",
    "        \"\"\"\n",
    "        output = np.maximum(0, input)\n",
    "        return output\n",
    "\n",
    "    def backward(self, input, grad_output):\n",
    "        \"\"\"\n",
    "        Compute gradient of loss w.r.t. ReLU input\n",
    "        \"\"\"\n",
    "        relu_grad_mask = input > 0\n",
    "        return grad_output * relu_grad_mask"
   ]
  },
  {
   "cell_type": "markdown",
   "metadata": {},
   "source": [
    "**Задание 2**\n",
    "\n",
    "Используя указанные прототипы, реализуйте полносвязный слой, выход которого вычисляется следующим образом (подробнее в соответствующей [лекции](https://github.com/esokolov/ml-course-hse/blob/master/2017-fall/lecture-notes/lecture11-dl.pdf)):\n",
    "\n",
    "$$f(v; W, b)= Wv + b, $$\n",
    "\n",
    "где\n",
    "* v — выход предыдущего слоя (вектор размера num_inputs);\n",
    "* W — матрица весов [num_inputs, num_outputs];\n",
    "* b — столбец свободных членов (вектор размера num_outputs).\n",
    "\n",
    "При создании полносвязного слоя веса $W, \\; b$ необходимо проинициализировать веса с помощью GLOROT (какой именно вариант неважно). Про GLOROT можно прочитать здесь:\n",
    "1. Простой пост: http://andyljones.tumblr.com/post/110998971763/an-explanation-of-xavier-initialization\n",
    "2. Статья с математикой: http://proceedings.mlr.press/v9/glorot10a/glorot10a.pdf\n",
    "\n",
    "При каждом вызове backward() необходимо расчитать градиенты по выходу, используя chain-rule, и сделать один шаг градиентного спуска."
   ]
  },
  {
   "cell_type": "code",
   "execution_count": 3,
   "metadata": {},
   "outputs": [],
   "source": [
    "class Dense(Layer):\n",
    "\n",
    "    def __init__(self, input_units, output_units, learning_rate=0.1):\n",
    "        \"\"\"\n",
    "        A dense layer is a layer which performs a learned affine transformation:\n",
    "        f(x) = Wx + b\n",
    "\n",
    "        W: matrix of shape [num_inputs, num_outputs]\n",
    "        b: vector of shape [num_outputs]\n",
    "        \"\"\"\n",
    "\n",
    "        self.learning_rate = learning_rate\n",
    "\n",
    "        # initialize weights with small random numbers from normal distribution\n",
    "\n",
    "        self.weights = np.random.randn(input_units, output_units) * 0.01\n",
    "        self.biases = np.zeros(output_units)\n",
    "\n",
    "    def forward(self, input):\n",
    "        \"\"\"\n",
    "        Perform an affine transformation:\n",
    "        f(x) = <W*x> + b\n",
    "\n",
    "        input shape: [batch, input_units]\n",
    "        output shape: [batch, output units]\n",
    "        \"\"\"\n",
    "        output_units = np.dot(input, self.weights) + self.biases\n",
    "        return output_units\n",
    "\n",
    "    def backward(self, input, grad_output):\n",
    "        \"\"\"\n",
    "        Computes d f / d x = d f / d dense * d dense / d x,\n",
    "        where d dense/ d x = weights transposed, and performs\n",
    "        one step of gradient descent on W and b.\n",
    "\n",
    "        input shape: [batch, input_units]\n",
    "        grad_output: [batch, output units]\n",
    "\n",
    "        Returns: grad_input, gradient of output w.r.t input\n",
    "        \"\"\"\n",
    "        grad_input = grad_output.dot(self.weights.T)\n",
    "        grad_weights = input.T.dot(grad_output)\n",
    "        grad_biases = grad_output.sum(0)\n",
    "\n",
    "        assert grad_weights.shape == self.weights.shape and \\\n",
    "            grad_biases.shape == self.biases.shape\n",
    "\n",
    "        self.weights = self.weights - self.learning_rate * grad_weights\n",
    "        self.biases = self.biases - self.learning_rate * grad_biases\n",
    "\n",
    "        return grad_input"
   ]
  },
  {
   "cell_type": "markdown",
   "metadata": {},
   "source": [
    "**Задание 3**\n",
    "\n",
    "Как было сказано ранее, в качестве функционала качества в данной задаче мы будем использовать кросс-энтропию. Используя прототипы ниже, реализуйте вычисление данного функционала и его градиента по выходам графа вычислений.\n",
    "\n",
    "Кросс-энтропия предполагает, что модель для каждого объекта выдает вероятности принадлежности к каждому из $K$ классов, т.е. что для одного объекта все $K$ вероятностей неотрицательны и суммируются в 1. В нашем же случае в построении графа участвуют только полносвязный и ReLU слои, а потому выходы графа не являются вероятностями — как правило, в этом случае прогноз $a(x)$ модели нормируется при помощи функции softmax следующим образом:\n",
    "\n",
    "$$\\text{softmax}(a_k(x)) = \\frac{\\exp(a_k(x))}{\\sum_{k=1}^K \\exp(a_k(x))}.$$\n",
    "\n",
    "При реализации указанных функций предполагается, что переданные в качестве параметров оценки принадлежности объектов классам не являются нормированными (их еще называют логитами), но при вычислении указанных величин используйте указанное выше преобразование для приведения этих оценок к корректному виду."
   ]
  },
  {
   "cell_type": "code",
   "execution_count": 4,
   "metadata": {},
   "outputs": [],
   "source": [
    "def softmax_crossentropy_with_logits(logits, y_true):\n",
    "    \"\"\"\n",
    "    Compute crossentropy from logits and ids of correct answers\n",
    "    logits shape: [batch_size, num_classes]\n",
    "    y_true: [batch_size]\n",
    "    output is a number\n",
    "    \"\"\"\n",
    "    logits_for_answers = logits[np.arange(len(logits)), y_true]\n",
    "    xentropy = - logits_for_answers + np.log(np.sum(np.exp(logits), axis=-1))\n",
    "    return xentropy\n",
    "\n",
    "\n",
    "def grad_softmax_crossentropy_with_logits(logits, y_true):\n",
    "    \"\"\"\n",
    "    Compute crossentropy gradient from logits and ids of correct answers\n",
    "    logits shape: [batch_size, num_classes]\n",
    "    y_true: [batch_size]\n",
    "    \"\"\"\n",
    "    ones_for_answers = np.zeros_like(logits)\n",
    "    ones_for_answers[np.arange(len(logits)), y_true] = 1\n",
    "    softmax = np.exp(logits) / np.exp(logits).sum(axis=-1, keepdims=True)\n",
    "    return (- ones_for_answers + softmax) / logits.shape[0]"
   ]
  },
  {
   "cell_type": "markdown",
   "metadata": {},
   "source": [
    "## Часть 2. Реализация и применение графа вычислений"
   ]
  },
  {
   "cell_type": "markdown",
   "metadata": {},
   "source": [
    "В этой части мы научимся объединять слои в единый граф вычислений, а также использовать его для прямого прохода (вычисления прогнозов на объектах) и обратного прохода (обновление обучаемых параметров графа), после чего у нас появится возможность обучить граф. Для простоты реализации будем считать, что в нашем случае граф вычислений задается как список (python list) слоёв из числа реализованных ранее."
   ]
  },
  {
   "cell_type": "markdown",
   "metadata": {},
   "source": [
    "Ниже приведен код для скачивания датасета MNIST с официального сайта. Датасет делится на тренировочную и тестовую части. Тренировочная дополнительно разбивается на тренировочную и валидационную."
   ]
  },
  {
   "cell_type": "code",
   "execution_count": 5,
   "metadata": {},
   "outputs": [],
   "source": [
    "import sys\n",
    "import os\n",
    "import time\n",
    "import gzip\n",
    "from urllib.request import urlretrieve\n",
    "\n",
    "def load_mnist(flatten=False):\n",
    "    \"\"\"taken from https://github.com/Lasagne/Lasagne/blob/master/examples/mnist.py\"\"\"\n",
    "    # We first define a download function, supporting both Python 2 and 3.\n",
    "\n",
    "    def download(filename, source='http://yann.lecun.com/exdb/mnist/'):\n",
    "        print(\"Downloading %s\" % filename)\n",
    "        urlretrieve(source + filename, filename)\n",
    "\n",
    "    # We then define functions for loading MNIST images and labels.\n",
    "    # For convenience, they also download the requested files if needed.\n",
    "\n",
    "    def load_mnist_images(filename):\n",
    "        if not os.path.exists(filename):\n",
    "            download(filename)\n",
    "        # Read the inputs in Yann LeCun's binary format.\n",
    "        with gzip.open(filename, 'rb') as f:\n",
    "            data = np.frombuffer(f.read(), np.uint8, offset=16)\n",
    "        # The inputs are vectors now, we reshape them to monochrome 2D images,\n",
    "        # following the shape convention: (examples, channels, rows, columns)\n",
    "        data = data.reshape(-1, 1, 28, 28)\n",
    "        # The inputs come as bytes, we convert them to float32 in range [0,1].\n",
    "        # (Actually to range [0, 255/256], for compatibility to the version\n",
    "        # provided at http://deeplearning.net/data/mnist/mnist.pkl.gz.)\n",
    "        return data / np.float32(256)\n",
    "\n",
    "    def load_mnist_labels(filename):\n",
    "        if not os.path.exists(filename):\n",
    "            download(filename)\n",
    "        # Read the labels in Yann LeCun's binary format.\n",
    "        with gzip.open(filename, 'rb') as f:\n",
    "            data = np.frombuffer(f.read(), np.uint8, offset=8)\n",
    "        # The labels are vectors of integers now, that's exactly what we want.\n",
    "        return data\n",
    "\n",
    "    # We can now download and read the training and test set images and labels.\n",
    "    X_train = load_mnist_images('train-images-idx3-ubyte.gz')\n",
    "    y_train = load_mnist_labels('train-labels-idx1-ubyte.gz')\n",
    "    X_test = load_mnist_images('t10k-images-idx3-ubyte.gz')\n",
    "    y_test = load_mnist_labels('t10k-labels-idx1-ubyte.gz')\n",
    "\n",
    "    # We reserve the last 10000 training examples for validation.\n",
    "    X_train, X_val = X_train[:-10000], X_train[-10000:]\n",
    "    y_train, y_val = y_train[:-10000], y_train[-10000:]\n",
    "    \n",
    "    if flatten:\n",
    "        X_train = X_train.reshape([X_train.shape[0], -1])\n",
    "        X_val = X_val.reshape([X_val.shape[0], -1])\n",
    "        X_test = X_test.reshape([X_test.shape[0], -1])\n",
    "\n",
    "    # We just return all the arrays in order, as expected in main().\n",
    "    # (It doesn't matter how we do this as long as we can read them again.)\n",
    "    return X_train, y_train, X_val, y_val, X_test, y_test"
   ]
  },
  {
   "cell_type": "markdown",
   "metadata": {},
   "source": [
    "Посмотрим на несколько объектов из этого датасета."
   ]
  },
  {
   "cell_type": "code",
   "execution_count": 8,
   "metadata": {},
   "outputs": [
    {
     "data": {
      "image/png": "[encoded data removed]",
      "text/plain": [
       "<matplotlib.figure.Figure at 0x234f1769cc0>"
      ]
     },
     "metadata": {},
     "output_type": "display_data"
    }
   ],
   "source": [
    "import matplotlib.pyplot as plt\n",
    "%matplotlib inline\n",
    "\n",
    "X_train, y_train, X_val, y_val, X_test, y_test = load_mnist(flatten=True)\n",
    "\n",
    "plt.figure(figsize=[6, 6])\n",
    "for i in range(4):\n",
    "    plt.subplot(2, 2, i+1)\n",
    "    plt.title(\"Label: %i\"%y_train[i])\n",
    "    plt.imshow(X_train[i].reshape([28, 28]),cmap='gray');"
   ]
  },
  {
   "cell_type": "markdown",
   "metadata": {},
   "source": [
    "**Задание 4 (2 балла).**\n",
    "\n",
    "Используя прототип ниже, реализуйте прямой и обратный проход по графу вычислений и функцию для получения предсказаний метки класса."
   ]
  },
  {
   "cell_type": "code",
   "execution_count": 9,
   "metadata": {},
   "outputs": [],
   "source": [
    "class NeuralNetwork:\n",
    "    def __init__(self, layers):\n",
    "        \"\"\"\n",
    "        layers — list of Layer objects\n",
    "        \"\"\"\n",
    "        \n",
    "        self.layers = layers\n",
    "        \n",
    "    def forward(self, X):\n",
    "        \"\"\"\n",
    "        Compute activations of all network layers by applying them sequentially.\n",
    "        Return a list of activations for each layer. \n",
    "        Make sure last activation corresponds to network logits.\n",
    "        \"\"\"\n",
    "        \n",
    "        activations = []\n",
    "        input = X\n",
    "\n",
    "        for i in range(len(self.layers)):\n",
    "            activations.append(self.layers[i].forward(input))\n",
    "            input = activations[-1]\n",
    "\n",
    "        assert len(activations) == len(self.layers)\n",
    "        return activations\n",
    "\n",
    "    def predict(self, X):\n",
    "        \"\"\"\n",
    "        Use network to predict the most likely class for each sample.\n",
    "        \"\"\"\n",
    "        return np.argmax(self.forward(X)[-1], axis=1)\n",
    "        \n",
    "    def backward(self, X, y):\n",
    "        \"\"\"\n",
    "        Train your network on a given batch of X and y.\n",
    "        You first need to run forward to get all layer activations.\n",
    "        Then you can run layer.backward going from last to first layer.\n",
    "\n",
    "        After you called backward for all layers, all Dense layers have already made one gradient step.\n",
    "        \"\"\"\n",
    "\n",
    "        # Get the layer activations\n",
    "        layer_activations = self.forward(X)\n",
    "        layer_inputs = [X] + layer_activations  # layer_input[i] is an input for network[i]\n",
    "        logits = layer_activations[-1]\n",
    "\n",
    "        # Compute the loss and the initial gradient\n",
    "        loss = softmax_crossentropy_with_logits(logits, y)\n",
    "        loss_grad = grad_softmax_crossentropy_with_logits(logits, y)\n",
    "\n",
    "        # propagate gradients through network layers using .backward\n",
    "        # hint: start from last layer and move to earlier layers\n",
    "        input_grad = loss_grad\n",
    "        for i in range(len(layer_activations) - 1, -1, -1):\n",
    "            input_grad = self.layers[i].backward(layer_inputs[i], input_grad)\n",
    "\n",
    "        return np.mean(loss)"
   ]
  },
  {
   "cell_type": "code",
   "execution_count": 10,
   "metadata": {},
   "outputs": [],
   "source": [
    "layers = []\n",
    "hidden_layers_size = 40\n",
    "layers.append(Dense(X_train.shape[1], hidden_layers_size))\n",
    "layers.append(ReLU())\n",
    "layers.append(Dense(hidden_layers_size, hidden_layers_size))\n",
    "layers.append(ReLU())\n",
    "layers.append(Dense(hidden_layers_size, 10))\n",
    "\n",
    "model = NeuralNetwork(layers)"
   ]
  },
  {
   "cell_type": "markdown",
   "metadata": {},
   "source": [
    "Все готово для запуска обучения. Если все реализовано корректно, то точность классификации на валидационном множестве должна превысить 97%. \n",
    "\n",
    "Ниже определена функции для итерации по батчам, принимающая на вход картинки, матки классов, а также размер батча и флаг отвечающий за перемешивание примеров."
   ]
  },
  {
   "cell_type": "code",
   "execution_count": 11,
   "metadata": {},
   "outputs": [],
   "source": [
    "from tqdm import trange\n",
    "\n",
    "def iterate_minibatches(inputs, targets, batchsize, shuffle=False, seed=1234):\n",
    "    assert len(inputs) == len(targets)\n",
    "    \n",
    "    indices = np.arange(len(inputs)).astype(np.int32)\n",
    "    if shuffle:\n",
    "        np.random.seed(seed)\n",
    "        np.random.shuffle(indices)\n",
    "    \n",
    "    for start_idx in trange(0, len(inputs) - batchsize + 1, batchsize):\n",
    "        batch = indices[start_idx:start_idx + batchsize]\n",
    "        \n",
    "        yield inputs[batch], targets[batch]"
   ]
  },
  {
   "cell_type": "markdown",
   "metadata": {},
   "source": [
    "Ниже приведены функции для обучения модели и отслеживания значения loss на тренироворочной части и на валидации."
   ]
  },
  {
   "cell_type": "code",
   "execution_count": 12,
   "metadata": {},
   "outputs": [],
   "source": [
    "from IPython.display import clear_output\n",
    "train_log = []\n",
    "val_log = []"
   ]
  },
  {
   "cell_type": "code",
   "execution_count": 13,
   "metadata": {},
   "outputs": [
    {
     "name": "stdout",
     "output_type": "stream",
     "text": [
      "Epoch 4\n",
      "Train accuracy: 0.97056\n",
      "Val accuracy: 0.9642\n"
     ]
    },
    {
     "data": {
      "image/png": "[encoded data removed]",
      "text/plain": [
       "<matplotlib.figure.Figure at 0x2348b4774e0>"
      ]
     },
     "metadata": {},
     "output_type": "display_data"
    },
    {
     "name": "stderr",
     "output_type": "stream",
     "text": [
      " 82%|███████████████████████████████████████████████████████████████              | 1279/1562 [00:01<00:00, 858.95it/s]\n"
     ]
    },
    {
     "ename": "KeyboardInterrupt",
     "evalue": "",
     "output_type": "error",
     "traceback": [
      "\u001b[1;31m---------------------------------------------------------------------------\u001b[0m",
      "\u001b[1;31mKeyboardInterrupt\u001b[0m                         Traceback (most recent call last)",
      "\u001b[1;32m<ipython-input-13-c53b1c2f21d8>\u001b[0m in \u001b[0;36m<module>\u001b[1;34m()\u001b[0m\n\u001b[0;32m      1\u001b[0m \u001b[1;32mfor\u001b[0m \u001b[0mepoch\u001b[0m \u001b[1;32min\u001b[0m \u001b[0mrange\u001b[0m\u001b[1;33m(\u001b[0m\u001b[1;36m15\u001b[0m\u001b[1;33m)\u001b[0m\u001b[1;33m:\u001b[0m\u001b[1;33m\u001b[0m\u001b[0m\n\u001b[1;32m----> 2\u001b[1;33m     \u001b[1;32mfor\u001b[0m \u001b[0mx_batch\u001b[0m\u001b[1;33m,\u001b[0m \u001b[0my_batch\u001b[0m \u001b[1;32min\u001b[0m \u001b[0miterate_minibatches\u001b[0m\u001b[1;33m(\u001b[0m\u001b[0mX_train\u001b[0m\u001b[1;33m,\u001b[0m \u001b[0my_train\u001b[0m\u001b[1;33m,\u001b[0m \u001b[0mbatchsize\u001b[0m\u001b[1;33m=\u001b[0m\u001b[1;36m32\u001b[0m\u001b[1;33m,\u001b[0m \u001b[0mshuffle\u001b[0m\u001b[1;33m=\u001b[0m\u001b[1;32mTrue\u001b[0m\u001b[1;33m)\u001b[0m\u001b[1;33m:\u001b[0m\u001b[1;33m\u001b[0m\u001b[0m\n\u001b[0m\u001b[0;32m      3\u001b[0m         \u001b[0mmodel\u001b[0m\u001b[1;33m.\u001b[0m\u001b[0mbackward\u001b[0m\u001b[1;33m(\u001b[0m\u001b[0mx_batch\u001b[0m\u001b[1;33m,\u001b[0m \u001b[0my_batch\u001b[0m\u001b[1;33m)\u001b[0m\u001b[1;33m\u001b[0m\u001b[0m\n\u001b[0;32m      4\u001b[0m \u001b[1;33m\u001b[0m\u001b[0m\n\u001b[0;32m      5\u001b[0m     \u001b[0mtrain_log\u001b[0m\u001b[1;33m.\u001b[0m\u001b[0mappend\u001b[0m\u001b[1;33m(\u001b[0m\u001b[0mnp\u001b[0m\u001b[1;33m.\u001b[0m\u001b[0mmean\u001b[0m\u001b[1;33m(\u001b[0m\u001b[0mmodel\u001b[0m\u001b[1;33m.\u001b[0m\u001b[0mpredict\u001b[0m\u001b[1;33m(\u001b[0m\u001b[0mX_train\u001b[0m\u001b[1;33m)\u001b[0m \u001b[1;33m==\u001b[0m \u001b[0my_train\u001b[0m\u001b[1;33m)\u001b[0m\u001b[1;33m)\u001b[0m\u001b[1;33m\u001b[0m\u001b[0m\n",
      "\u001b[1;32m<ipython-input-11-d8165ddccbcd>\u001b[0m in \u001b[0;36miterate_minibatches\u001b[1;34m(inputs, targets, batchsize, shuffle, seed)\u001b[0m\n\u001b[0;32m     12\u001b[0m         \u001b[0mbatch\u001b[0m \u001b[1;33m=\u001b[0m \u001b[0mindices\u001b[0m\u001b[1;33m[\u001b[0m\u001b[0mstart_idx\u001b[0m\u001b[1;33m:\u001b[0m\u001b[0mstart_idx\u001b[0m \u001b[1;33m+\u001b[0m \u001b[0mbatchsize\u001b[0m\u001b[1;33m]\u001b[0m\u001b[1;33m\u001b[0m\u001b[0m\n\u001b[0;32m     13\u001b[0m \u001b[1;33m\u001b[0m\u001b[0m\n\u001b[1;32m---> 14\u001b[1;33m         \u001b[1;32myield\u001b[0m \u001b[0minputs\u001b[0m\u001b[1;33m[\u001b[0m\u001b[0mbatch\u001b[0m\u001b[1;33m]\u001b[0m\u001b[1;33m,\u001b[0m \u001b[0mtargets\u001b[0m\u001b[1;33m[\u001b[0m\u001b[0mbatch\u001b[0m\u001b[1;33m]\u001b[0m\u001b[1;33m\u001b[0m\u001b[0m\n\u001b[0m",
      "\u001b[1;31mKeyboardInterrupt\u001b[0m: "
     ]
    }
   ],
   "source": [
    "for epoch in range(15):\n",
    "    for x_batch, y_batch in iterate_minibatches(X_train, y_train, batchsize=32, shuffle=True):\n",
    "        model.backward(x_batch, y_batch)\n",
    "    \n",
    "    train_log.append(np.mean(model.predict(X_train) == y_train))\n",
    "    val_log.append(np.mean(model.predict(X_val) == y_val))\n",
    "    \n",
    "    clear_output()\n",
    "    print(\"Epoch\", epoch)\n",
    "    print(\"Train accuracy:\", train_log[-1])\n",
    "    print(\"Val accuracy:\", val_log[-1])\n",
    "    plt.plot(train_log, label='train accuracy')\n",
    "    plt.plot(val_log, label='val accuracy')\n",
    "    plt.legend(loc='best')\n",
    "    plt.grid()\n",
    "    plt.show()"
   ]
  },
  {
   "cell_type": "markdown",
   "metadata": {},
   "source": [
    "## Часть 3. Tensorflow"
   ]
  },
  {
   "cell_type": "markdown",
   "metadata": {},
   "source": [
    "В этой части мы увидим как с помощью фреймворков с автоматическим дифференцированием, создание нейронных сетей занимает намного меньше времени."
   ]
  },
  {
   "cell_type": "code",
   "execution_count": 15,
   "metadata": {},
   "outputs": [
    {
     "name": "stderr",
     "output_type": "stream",
     "text": [
      "C:\\Users\\panov\\Anaconda3\\lib\\site-packages\\h5py\\__init__.py:36: FutureWarning: Conversion of the second argument of issubdtype from `float` to `np.floating` is deprecated. In future, it will be treated as `np.float64 == np.dtype(float).type`.\n",
      "  from ._conv import register_converters as _register_converters\n"
     ]
    }
   ],
   "source": [
    "from tensorflow.keras.layers import Dense\n",
    "from tensorflow.keras.models import Sequential\n",
    "from tensorflow.keras.losses import categorical_crossentropy\n",
    "from tensorflow.keras.optimizers import SGD\n",
    "from tensorflow.keras.utils import to_categorical"
   ]
  },
  {
   "cell_type": "code",
   "execution_count": 16,
   "metadata": {},
   "outputs": [],
   "source": [
    "y_train = to_categorical(y_train, 10)\n",
    "y_test = to_categorical(y_test, 10)"
   ]
  },
  {
   "cell_type": "code",
   "execution_count": 17,
   "metadata": {},
   "outputs": [
    {
     "name": "stdout",
     "output_type": "stream",
     "text": [
      "Train on 50000 samples, validate on 10000 samples\n",
      "Epoch 1/15\n",
      "50000/50000 [==============================] - ETA: 9:31 - loss: 2.3091 - acc: 0.031 - ETA: 24s - loss: 2.3240 - acc: 0.129 - ETA: 16s - loss: 2.2640 - acc: 0.17 - ETA: 11s - loss: 2.2030 - acc: 0.21 - ETA: 8s - loss: 2.1415 - acc: 0.2786 - ETA: 7s - loss: 2.0881 - acc: 0.323 - ETA: 6s - loss: 2.0259 - acc: 0.366 - ETA: 6s - loss: 1.9843 - acc: 0.392 - ETA: 5s - loss: 1.9441 - acc: 0.415 - ETA: 5s - loss: 1.9001 - acc: 0.438 - ETA: 5s - loss: 1.8673 - acc: 0.453 - ETA: 5s - loss: 1.8192 - acc: 0.475 - ETA: 5s - loss: 1.7879 - acc: 0.489 - ETA: 4s - loss: 1.7381 - acc: 0.508 - ETA: 4s - loss: 1.6936 - acc: 0.525 - ETA: 4s - loss: 1.6408 - acc: 0.542 - ETA: 4s - loss: 1.5949 - acc: 0.556 - ETA: 4s - loss: 1.5395 - acc: 0.574 - ETA: 3s - loss: 1.5020 - acc: 0.585 - ETA: 3s - loss: 1.4747 - acc: 0.594 - ETA: 3s - loss: 1.4319 - acc: 0.608 - ETA: 3s - loss: 1.3949 - acc: 0.618 - ETA: 3s - loss: 1.3647 - acc: 0.626 - ETA: 3s - loss: 1.3368 - acc: 0.633 - ETA: 3s - loss: 1.3193 - acc: 0.639 - ETA: 3s - loss: 1.3070 - acc: 0.643 - ETA: 3s - loss: 1.2917 - acc: 0.647 - ETA: 3s - loss: 1.2641 - acc: 0.654 - ETA: 2s - loss: 1.2328 - acc: 0.663 - ETA: 2s - loss: 1.2119 - acc: 0.669 - ETA: 2s - loss: 1.1853 - acc: 0.676 - ETA: 2s - loss: 1.1611 - acc: 0.684 - ETA: 2s - loss: 1.1459 - acc: 0.688 - ETA: 2s - loss: 1.1220 - acc: 0.694 - ETA: 2s - loss: 1.1003 - acc: 0.701 - ETA: 2s - loss: 1.0784 - acc: 0.707 - ETA: 2s - loss: 1.0605 - acc: 0.712 - ETA: 2s - loss: 1.0425 - acc: 0.716 - ETA: 1s - loss: 1.0263 - acc: 0.721 - ETA: 1s - loss: 1.0129 - acc: 0.724 - ETA: 1s - loss: 0.9989 - acc: 0.728 - ETA: 1s - loss: 0.9870 - acc: 0.731 - ETA: 1s - loss: 0.9740 - acc: 0.735 - ETA: 1s - loss: 0.9601 - acc: 0.738 - ETA: 1s - loss: 0.9463 - acc: 0.742 - ETA: 1s - loss: 0.9322 - acc: 0.745 - ETA: 1s - loss: 0.9200 - acc: 0.749 - ETA: 1s - loss: 0.9135 - acc: 0.750 - ETA: 1s - loss: 0.9016 - acc: 0.754 - ETA: 1s - loss: 0.8883 - acc: 0.757 - ETA: 1s - loss: 0.8769 - acc: 0.761 - ETA: 0s - loss: 0.8657 - acc: 0.763 - ETA: 0s - loss: 0.8557 - acc: 0.766 - ETA: 0s - loss: 0.8454 - acc: 0.768 - ETA: 0s - loss: 0.8368 - acc: 0.771 - ETA: 0s - loss: 0.8303 - acc: 0.772 - ETA: 0s - loss: 0.8227 - acc: 0.774 - ETA: 0s - loss: 0.8134 - acc: 0.776 - ETA: 0s - loss: 0.8058 - acc: 0.778 - ETA: 0s - loss: 0.7984 - acc: 0.780 - ETA: 0s - loss: 0.7916 - acc: 0.782 - ETA: 0s - loss: 0.7839 - acc: 0.784 - ETA: 0s - loss: 0.7803 - acc: 0.785 - ETA: 0s - loss: 0.7746 - acc: 0.786 - ETA: 0s - loss: 0.7678 - acc: 0.788 - ETA: 0s - loss: 0.7593 - acc: 0.790 - 4s 79us/step - loss: 0.7574 - acc: 0.7914 - val_loss: 0.3691 - val_acc: 0.8954\n",
      "Epoch 2/15\n",
      "50000/50000 [==============================] - ETA: 7s - loss: 0.2566 - acc: 0.937 - ETA: 2s - loss: 0.3513 - acc: 0.904 - ETA: 2s - loss: 0.3756 - acc: 0.903 - ETA: 3s - loss: 0.3749 - acc: 0.901 - ETA: 3s - loss: 0.3900 - acc: 0.891 - ETA: 2s - loss: 0.3918 - acc: 0.890 - ETA: 2s - loss: 0.3945 - acc: 0.887 - ETA: 2s - loss: 0.3917 - acc: 0.889 - ETA: 2s - loss: 0.3891 - acc: 0.890 - ETA: 2s - loss: 0.3862 - acc: 0.890 - ETA: 2s - loss: 0.3818 - acc: 0.892 - ETA: 2s - loss: 0.3819 - acc: 0.892 - ETA: 2s - loss: 0.3833 - acc: 0.892 - ETA: 2s - loss: 0.3854 - acc: 0.892 - ETA: 2s - loss: 0.3854 - acc: 0.892 - ETA: 2s - loss: 0.3834 - acc: 0.892 - ETA: 2s - loss: 0.3815 - acc: 0.892 - ETA: 2s - loss: 0.3821 - acc: 0.892 - ETA: 2s - loss: 0.3786 - acc: 0.893 - ETA: 2s - loss: 0.3764 - acc: 0.894 - ETA: 2s - loss: 0.3770 - acc: 0.894 - ETA: 2s - loss: 0.3744 - acc: 0.894 - ETA: 2s - loss: 0.3725 - acc: 0.895 - ETA: 2s - loss: 0.3712 - acc: 0.895 - ETA: 2s - loss: 0.3714 - acc: 0.894 - ETA: 2s - loss: 0.3732 - acc: 0.893 - ETA: 2s - loss: 0.3709 - acc: 0.894 - ETA: 1s - loss: 0.3704 - acc: 0.894 - ETA: 1s - loss: 0.3669 - acc: 0.895 - ETA: 1s - loss: 0.3663 - acc: 0.895 - ETA: 1s - loss: 0.3684 - acc: 0.895 - ETA: 1s - loss: 0.3666 - acc: 0.896 - ETA: 1s - loss: 0.3665 - acc: 0.896 - ETA: 1s - loss: 0.3632 - acc: 0.897 - ETA: 1s - loss: 0.3613 - acc: 0.898 - ETA: 1s - loss: 0.3609 - acc: 0.898 - ETA: 1s - loss: 0.3616 - acc: 0.898 - ETA: 1s - loss: 0.3599 - acc: 0.898 - ETA: 1s - loss: 0.3592 - acc: 0.899 - ETA: 1s - loss: 0.3596 - acc: 0.898 - ETA: 1s - loss: 0.3580 - acc: 0.898 - ETA: 1s - loss: 0.3566 - acc: 0.899 - ETA: 1s - loss: 0.3568 - acc: 0.899 - ETA: 1s - loss: 0.3560 - acc: 0.899 - ETA: 0s - loss: 0.3544 - acc: 0.899 - ETA: 0s - loss: 0.3540 - acc: 0.899 - ETA: 0s - loss: 0.3533 - acc: 0.899 - ETA: 0s - loss: 0.3514 - acc: 0.900 - ETA: 0s - loss: 0.3508 - acc: 0.900 - ETA: 0s - loss: 0.3500 - acc: 0.900 - ETA: 0s - loss: 0.3493 - acc: 0.900 - ETA: 0s - loss: 0.3486 - acc: 0.900 - ETA: 0s - loss: 0.3480 - acc: 0.900 - ETA: 0s - loss: 0.3470 - acc: 0.901 - ETA: 0s - loss: 0.3459 - acc: 0.901 - ETA: 0s - loss: 0.3448 - acc: 0.901 - ETA: 0s - loss: 0.3442 - acc: 0.901 - ETA: 0s - loss: 0.3435 - acc: 0.902 - ETA: 0s - loss: 0.3431 - acc: 0.902 - ETA: 0s - loss: 0.3428 - acc: 0.902 - ETA: 0s - loss: 0.3421 - acc: 0.902 - 3s 66us/step - loss: 0.3411 - acc: 0.9026 - val_loss: 0.2908 - val_acc: 0.9156\n",
      "Epoch 3/15\n",
      "50000/50000 [==============================] - ETA: 7s - loss: 0.4990 - acc: 0.812 - ETA: 2s - loss: 0.2950 - acc: 0.916 - ETA: 2s - loss: 0.3199 - acc: 0.912 - ETA: 2s - loss: 0.3051 - acc: 0.916 - ETA: 2s - loss: 0.3012 - acc: 0.915 - ETA: 2s - loss: 0.2950 - acc: 0.916 - ETA: 2s - loss: 0.2936 - acc: 0.917 - ETA: 2s - loss: 0.2936 - acc: 0.916 - ETA: 2s - loss: 0.2951 - acc: 0.916 - ETA: 2s - loss: 0.2966 - acc: 0.915 - ETA: 2s - loss: 0.2951 - acc: 0.916 - ETA: 2s - loss: 0.2936 - acc: 0.916 - ETA: 2s - loss: 0.2901 - acc: 0.917 - ETA: 2s - loss: 0.2909 - acc: 0.917 - ETA: 2s - loss: 0.2966 - acc: 0.915 - ETA: 2s - loss: 0.2973 - acc: 0.915 - ETA: 2s - loss: 0.2936 - acc: 0.915 - ETA: 2s - loss: 0.2953 - acc: 0.914 - ETA: 1s - loss: 0.2955 - acc: 0.914 - ETA: 1s - loss: 0.2952 - acc: 0.914 - ETA: 1s - loss: 0.2943 - acc: 0.914 - ETA: 1s - loss: 0.2953 - acc: 0.914 - ETA: 1s - loss: 0.2946 - acc: 0.915 - ETA: 1s - loss: 0.2944 - acc: 0.915 - ETA: 1s - loss: 0.2949 - acc: 0.914 - ETA: 1s - loss: 0.2926 - acc: 0.915 - ETA: 1s - loss: 0.2924 - acc: 0.915 - ETA: 1s - loss: 0.2914 - acc: 0.916 - ETA: 1s - loss: 0.2925 - acc: 0.915 - ETA: 1s - loss: 0.2935 - acc: 0.915 - ETA: 1s - loss: 0.2924 - acc: 0.915 - ETA: 1s - loss: 0.2925 - acc: 0.915 - ETA: 1s - loss: 0.2926 - acc: 0.915 - ETA: 1s - loss: 0.2915 - acc: 0.915 - ETA: 1s - loss: 0.2903 - acc: 0.916 - ETA: 1s - loss: 0.2896 - acc: 0.916 - ETA: 1s - loss: 0.2898 - acc: 0.916 - ETA: 1s - loss: 0.2896 - acc: 0.916 - ETA: 1s - loss: 0.2897 - acc: 0.916 - ETA: 1s - loss: 0.2897 - acc: 0.916 - ETA: 0s - loss: 0.2890 - acc: 0.916 - ETA: 0s - loss: 0.2892 - acc: 0.916 - ETA: 0s - loss: 0.2885 - acc: 0.916 - ETA: 0s - loss: 0.2880 - acc: 0.916 - ETA: 0s - loss: 0.2879 - acc: 0.916 - ETA: 0s - loss: 0.2872 - acc: 0.916 - ETA: 0s - loss: 0.2863 - acc: 0.917 - ETA: 0s - loss: 0.2863 - acc: 0.917 - ETA: 0s - loss: 0.2854 - acc: 0.917 - ETA: 0s - loss: 0.2842 - acc: 0.917 - ETA: 0s - loss: 0.2840 - acc: 0.917 - ETA: 0s - loss: 0.2841 - acc: 0.918 - ETA: 0s - loss: 0.2826 - acc: 0.918 - ETA: 0s - loss: 0.2825 - acc: 0.918 - ETA: 0s - loss: 0.2832 - acc: 0.918 - ETA: 0s - loss: 0.2824 - acc: 0.918 - ETA: 0s - loss: 0.2825 - acc: 0.918 - ETA: 0s - loss: 0.2824 - acc: 0.918 - ETA: 0s - loss: 0.2817 - acc: 0.918 - ETA: 0s - loss: 0.2829 - acc: 0.918 - 3s 66us/step - loss: 0.2832 - acc: 0.9183 - val_loss: 0.2517 - val_acc: 0.9303\n",
      "Epoch 4/15\n",
      "50000/50000 [==============================] - ETA: 9s - loss: 0.3347 - acc: 0.937 - ETA: 3s - loss: 0.2821 - acc: 0.912 - ETA: 2s - loss: 0.2794 - acc: 0.916 - ETA: 2s - loss: 0.2677 - acc: 0.919 - ETA: 2s - loss: 0.2494 - acc: 0.925 - ETA: 2s - loss: 0.2453 - acc: 0.927 - ETA: 2s - loss: 0.2426 - acc: 0.928 - ETA: 2s - loss: 0.2458 - acc: 0.927 - ETA: 3s - loss: 0.2491 - acc: 0.926 - ETA: 3s - loss: 0.2514 - acc: 0.925 - ETA: 3s - loss: 0.2489 - acc: 0.925 - ETA: 2s - loss: 0.2484 - acc: 0.926 - ETA: 2s - loss: 0.2487 - acc: 0.926 - ETA: 2s - loss: 0.2504 - acc: 0.925 - ETA: 2s - loss: 0.2465 - acc: 0.927 - ETA: 2s - loss: 0.2477 - acc: 0.926 - ETA: 2s - loss: 0.2479 - acc: 0.926 - ETA: 2s - loss: 0.2487 - acc: 0.926 - ETA: 2s - loss: 0.2484 - acc: 0.926 - ETA: 2s - loss: 0.2493 - acc: 0.926 - ETA: 2s - loss: 0.2499 - acc: 0.926 - ETA: 2s - loss: 0.2514 - acc: 0.925 - ETA: 2s - loss: 0.2524 - acc: 0.926 - ETA: 2s - loss: 0.2503 - acc: 0.926 - ETA: 2s - loss: 0.2494 - acc: 0.926 - ETA: 2s - loss: 0.2511 - acc: 0.926 - ETA: 2s - loss: 0.2517 - acc: 0.926 - ETA: 2s - loss: 0.2508 - acc: 0.926 - ETA: 2s - loss: 0.2512 - acc: 0.926 - ETA: 2s - loss: 0.2514 - acc: 0.927 - ETA: 2s - loss: 0.2533 - acc: 0.926 - ETA: 1s - loss: 0.2537 - acc: 0.926 - ETA: 1s - loss: 0.2529 - acc: 0.926 - ETA: 1s - loss: 0.2528 - acc: 0.926 - ETA: 1s - loss: 0.2526 - acc: 0.927 - ETA: 1s - loss: 0.2526 - acc: 0.927 - ETA: 1s - loss: 0.2523 - acc: 0.927 - ETA: 1s - loss: 0.2527 - acc: 0.926 - ETA: 1s - loss: 0.2516 - acc: 0.927 - ETA: 1s - loss: 0.2520 - acc: 0.927 - ETA: 1s - loss: 0.2519 - acc: 0.927 - ETA: 1s - loss: 0.2516 - acc: 0.927 - ETA: 1s - loss: 0.2514 - acc: 0.927 - ETA: 1s - loss: 0.2522 - acc: 0.926 - ETA: 1s - loss: 0.2524 - acc: 0.926 - ETA: 1s - loss: 0.2529 - acc: 0.926 - ETA: 1s - loss: 0.2517 - acc: 0.927 - ETA: 1s - loss: 0.2517 - acc: 0.926 - ETA: 1s - loss: 0.2516 - acc: 0.927 - ETA: 1s - loss: 0.2512 - acc: 0.926 - ETA: 0s - loss: 0.2512 - acc: 0.927 - ETA: 0s - loss: 0.2505 - acc: 0.927 - ETA: 0s - loss: 0.2503 - acc: 0.927 - ETA: 0s - loss: 0.2503 - acc: 0.927 - ETA: 0s - loss: 0.2501 - acc: 0.927 - ETA: 0s - loss: 0.2501 - acc: 0.927 - ETA: 0s - loss: 0.2504 - acc: 0.927 - ETA: 0s - loss: 0.2504 - acc: 0.927 - ETA: 0s - loss: 0.2503 - acc: 0.927 - ETA: 0s - loss: 0.2500 - acc: 0.927 - ETA: 0s - loss: 0.2499 - acc: 0.927 - ETA: 0s - loss: 0.2504 - acc: 0.927 - ETA: 0s - loss: 0.2503 - acc: 0.927 - ETA: 0s - loss: 0.2507 - acc: 0.927 - ETA: 0s - loss: 0.2504 - acc: 0.927 - ETA: 0s - loss: 0.2505 - acc: 0.927 - ETA: 0s - loss: 0.2507 - acc: 0.927 - ETA: 0s - loss: 0.2503 - acc: 0.927 - ETA: 0s - loss: 0.2512 - acc: 0.927 - ETA: 0s - loss: 0.2513 - acc: 0.927 - ETA: 0s - loss: 0.2513 - acc: 0.927 - 4s 76us/step - loss: 0.2511 - acc: 0.9273 - val_loss: 0.2284 - val_acc: 0.9329\n",
      "Epoch 5/15\n",
      "50000/50000 [==============================] - ETA: 7s - loss: 0.1517 - acc: 0.937 - ETA: 4s - loss: 0.2867 - acc: 0.911 - ETA: 5s - loss: 0.2508 - acc: 0.925 - ETA: 5s - loss: 0.2344 - acc: 0.933 - ETA: 5s - loss: 0.2435 - acc: 0.930 - ETA: 5s - loss: 0.2354 - acc: 0.930 - ETA: 4s - loss: 0.2253 - acc: 0.932 - ETA: 4s - loss: 0.2213 - acc: 0.933 - ETA: 3s - loss: 0.2249 - acc: 0.930 - ETA: 3s - loss: 0.2251 - acc: 0.930 - ETA: 3s - loss: 0.2249 - acc: 0.931 - ETA: 3s - loss: 0.2295 - acc: 0.930 - ETA: 3s - loss: 0.2254 - acc: 0.931 - ETA: 3s - loss: 0.2256 - acc: 0.931 - ETA: 3s - loss: 0.2239 - acc: 0.932 - ETA: 2s - loss: 0.2291 - acc: 0.931 - ETA: 2s - loss: 0.2304 - acc: 0.932 - ETA: 2s - loss: 0.2351 - acc: 0.931 - ETA: 2s - loss: 0.2356 - acc: 0.932 - ETA: 2s - loss: 0.2369 - acc: 0.931 - ETA: 2s - loss: 0.2355 - acc: 0.931 - ETA: 2s - loss: 0.2347 - acc: 0.931 - ETA: 2s - loss: 0.2350 - acc: 0.931 - ETA: 2s - loss: 0.2335 - acc: 0.931 - ETA: 2s - loss: 0.2335 - acc: 0.932 - ETA: 2s - loss: 0.2329 - acc: 0.932 - ETA: 1s - loss: 0.2345 - acc: 0.932 - ETA: 1s - loss: 0.2347 - acc: 0.932 - ETA: 1s - loss: 0.2355 - acc: 0.932 - ETA: 1s - loss: 0.2344 - acc: 0.932 - ETA: 1s - loss: 0.2339 - acc: 0.932 - ETA: 1s - loss: 0.2318 - acc: 0.932 - ETA: 1s - loss: 0.2321 - acc: 0.932 - ETA: 1s - loss: 0.2316 - acc: 0.932 - ETA: 1s - loss: 0.2313 - acc: 0.932 - ETA: 1s - loss: 0.2310 - acc: 0.933 - ETA: 1s - loss: 0.2302 - acc: 0.933 - ETA: 1s - loss: 0.2307 - acc: 0.932 - ETA: 1s - loss: 0.2313 - acc: 0.932 - ETA: 1s - loss: 0.2311 - acc: 0.932 - ETA: 1s - loss: 0.2315 - acc: 0.932 - ETA: 1s - loss: 0.2317 - acc: 0.932 - ETA: 1s - loss: 0.2319 - acc: 0.932 - ETA: 1s - loss: 0.2314 - acc: 0.932 - ETA: 1s - loss: 0.2303 - acc: 0.932 - ETA: 1s - loss: 0.2300 - acc: 0.932 - ETA: 1s - loss: 0.2295 - acc: 0.932 - ETA: 1s - loss: 0.2289 - acc: 0.933 - ETA: 0s - loss: 0.2278 - acc: 0.933 - ETA: 0s - loss: 0.2269 - acc: 0.933 - ETA: 0s - loss: 0.2272 - acc: 0.933 - ETA: 0s - loss: 0.2270 - acc: 0.933 - ETA: 0s - loss: 0.2271 - acc: 0.933 - ETA: 0s - loss: 0.2271 - acc: 0.933 - ETA: 0s - loss: 0.2262 - acc: 0.933 - ETA: 0s - loss: 0.2261 - acc: 0.933 - ETA: 0s - loss: 0.2257 - acc: 0.933 - ETA: 0s - loss: 0.2267 - acc: 0.933 - ETA: 0s - loss: 0.2264 - acc: 0.933 - ETA: 0s - loss: 0.2270 - acc: 0.933 - ETA: 0s - loss: 0.2263 - acc: 0.933 - ETA: 0s - loss: 0.2262 - acc: 0.933 - ETA: 0s - loss: 0.2265 - acc: 0.933 - ETA: 0s - loss: 0.2269 - acc: 0.933 - ETA: 0s - loss: 0.2275 - acc: 0.933 - ETA: 0s - loss: 0.2277 - acc: 0.933 - ETA: 0s - loss: 0.2277 - acc: 0.933 - ETA: 0s - loss: 0.2279 - acc: 0.933 - 4s 74us/step - loss: 0.2277 - acc: 0.9335 - val_loss: 0.2106 - val_acc: 0.9382\n",
      "Epoch 6/15\n"
     ]
    },
    {
     "name": "stdout",
     "output_type": "stream",
     "text": [
      "50000/50000 [==============================] - ETA: 10s - loss: 0.0714 - acc: 1.00 - ETA: 3s - loss: 0.1818 - acc: 0.9513 - ETA: 3s - loss: 0.2078 - acc: 0.938 - ETA: 3s - loss: 0.2028 - acc: 0.940 - ETA: 3s - loss: 0.2089 - acc: 0.939 - ETA: 3s - loss: 0.2064 - acc: 0.940 - ETA: 2s - loss: 0.2039 - acc: 0.941 - ETA: 2s - loss: 0.2131 - acc: 0.939 - ETA: 2s - loss: 0.2112 - acc: 0.938 - ETA: 2s - loss: 0.2103 - acc: 0.939 - ETA: 2s - loss: 0.2099 - acc: 0.940 - ETA: 2s - loss: 0.2104 - acc: 0.939 - ETA: 2s - loss: 0.2129 - acc: 0.938 - ETA: 2s - loss: 0.2114 - acc: 0.939 - ETA: 2s - loss: 0.2137 - acc: 0.938 - ETA: 2s - loss: 0.2107 - acc: 0.939 - ETA: 2s - loss: 0.2098 - acc: 0.940 - ETA: 2s - loss: 0.2093 - acc: 0.940 - ETA: 2s - loss: 0.2086 - acc: 0.941 - ETA: 2s - loss: 0.2080 - acc: 0.941 - ETA: 2s - loss: 0.2102 - acc: 0.939 - ETA: 2s - loss: 0.2109 - acc: 0.939 - ETA: 2s - loss: 0.2100 - acc: 0.939 - ETA: 2s - loss: 0.2099 - acc: 0.939 - ETA: 2s - loss: 0.2107 - acc: 0.939 - ETA: 2s - loss: 0.2107 - acc: 0.939 - ETA: 2s - loss: 0.2101 - acc: 0.940 - ETA: 2s - loss: 0.2092 - acc: 0.940 - ETA: 2s - loss: 0.2088 - acc: 0.939 - ETA: 2s - loss: 0.2090 - acc: 0.939 - ETA: 2s - loss: 0.2088 - acc: 0.939 - ETA: 1s - loss: 0.2093 - acc: 0.938 - ETA: 1s - loss: 0.2094 - acc: 0.938 - ETA: 1s - loss: 0.2083 - acc: 0.938 - ETA: 1s - loss: 0.2074 - acc: 0.939 - ETA: 1s - loss: 0.2074 - acc: 0.939 - ETA: 1s - loss: 0.2064 - acc: 0.939 - ETA: 1s - loss: 0.2061 - acc: 0.939 - ETA: 1s - loss: 0.2044 - acc: 0.939 - ETA: 1s - loss: 0.2045 - acc: 0.940 - ETA: 1s - loss: 0.2031 - acc: 0.940 - ETA: 1s - loss: 0.2032 - acc: 0.940 - ETA: 1s - loss: 0.2028 - acc: 0.940 - ETA: 1s - loss: 0.2032 - acc: 0.940 - ETA: 1s - loss: 0.2038 - acc: 0.940 - ETA: 1s - loss: 0.2054 - acc: 0.939 - ETA: 1s - loss: 0.2052 - acc: 0.939 - ETA: 1s - loss: 0.2057 - acc: 0.939 - ETA: 1s - loss: 0.2059 - acc: 0.939 - ETA: 1s - loss: 0.2061 - acc: 0.939 - ETA: 1s - loss: 0.2060 - acc: 0.939 - ETA: 1s - loss: 0.2059 - acc: 0.939 - ETA: 1s - loss: 0.2059 - acc: 0.939 - ETA: 1s - loss: 0.2055 - acc: 0.939 - ETA: 1s - loss: 0.2067 - acc: 0.939 - ETA: 1s - loss: 0.2063 - acc: 0.939 - ETA: 1s - loss: 0.2063 - acc: 0.939 - ETA: 1s - loss: 0.2059 - acc: 0.939 - ETA: 1s - loss: 0.2058 - acc: 0.939 - ETA: 1s - loss: 0.2058 - acc: 0.939 - ETA: 1s - loss: 0.2057 - acc: 0.939 - ETA: 1s - loss: 0.2055 - acc: 0.939 - ETA: 0s - loss: 0.2057 - acc: 0.939 - ETA: 0s - loss: 0.2063 - acc: 0.939 - ETA: 0s - loss: 0.2065 - acc: 0.939 - ETA: 0s - loss: 0.2066 - acc: 0.939 - ETA: 0s - loss: 0.2061 - acc: 0.939 - ETA: 0s - loss: 0.2062 - acc: 0.939 - ETA: 0s - loss: 0.2062 - acc: 0.939 - ETA: 0s - loss: 0.2062 - acc: 0.939 - ETA: 0s - loss: 0.2065 - acc: 0.939 - ETA: 0s - loss: 0.2068 - acc: 0.939 - ETA: 0s - loss: 0.2074 - acc: 0.938 - ETA: 0s - loss: 0.2076 - acc: 0.938 - ETA: 0s - loss: 0.2084 - acc: 0.938 - ETA: 0s - loss: 0.2092 - acc: 0.938 - ETA: 0s - loss: 0.2094 - acc: 0.938 - ETA: 0s - loss: 0.2087 - acc: 0.938 - ETA: 0s - loss: 0.2089 - acc: 0.938 - 4s 86us/step - loss: 0.2086 - acc: 0.9386 - val_loss: 0.1997 - val_acc: 0.9418\n",
      "Epoch 7/15\n",
      "50000/50000 [==============================] - ETA: 7s - loss: 0.2310 - acc: 0.937 - ETA: 5s - loss: 0.2294 - acc: 0.926 - ETA: 4s - loss: 0.2118 - acc: 0.934 - ETA: 4s - loss: 0.2156 - acc: 0.934 - ETA: 3s - loss: 0.2097 - acc: 0.936 - ETA: 3s - loss: 0.2041 - acc: 0.939 - ETA: 3s - loss: 0.1955 - acc: 0.940 - ETA: 3s - loss: 0.1981 - acc: 0.939 - ETA: 3s - loss: 0.1979 - acc: 0.939 - ETA: 2s - loss: 0.2025 - acc: 0.939 - ETA: 2s - loss: 0.2071 - acc: 0.938 - ETA: 2s - loss: 0.2062 - acc: 0.939 - ETA: 2s - loss: 0.2018 - acc: 0.940 - ETA: 3s - loss: 0.2016 - acc: 0.940 - ETA: 3s - loss: 0.2013 - acc: 0.940 - ETA: 3s - loss: 0.2010 - acc: 0.940 - ETA: 3s - loss: 0.2001 - acc: 0.941 - ETA: 3s - loss: 0.2011 - acc: 0.941 - ETA: 3s - loss: 0.2008 - acc: 0.941 - ETA: 3s - loss: 0.1982 - acc: 0.941 - ETA: 3s - loss: 0.1987 - acc: 0.941 - ETA: 3s - loss: 0.1972 - acc: 0.941 - ETA: 3s - loss: 0.1985 - acc: 0.941 - ETA: 3s - loss: 0.1987 - acc: 0.941 - ETA: 3s - loss: 0.1975 - acc: 0.942 - ETA: 3s - loss: 0.1991 - acc: 0.941 - ETA: 3s - loss: 0.1996 - acc: 0.941 - ETA: 3s - loss: 0.2000 - acc: 0.941 - ETA: 3s - loss: 0.2002 - acc: 0.942 - ETA: 2s - loss: 0.1989 - acc: 0.943 - ETA: 2s - loss: 0.1978 - acc: 0.943 - ETA: 2s - loss: 0.1985 - acc: 0.942 - ETA: 2s - loss: 0.1961 - acc: 0.943 - ETA: 2s - loss: 0.1955 - acc: 0.943 - ETA: 2s - loss: 0.1970 - acc: 0.943 - ETA: 2s - loss: 0.1971 - acc: 0.943 - ETA: 2s - loss: 0.1957 - acc: 0.943 - ETA: 2s - loss: 0.1959 - acc: 0.943 - ETA: 2s - loss: 0.1950 - acc: 0.943 - ETA: 2s - loss: 0.1944 - acc: 0.943 - ETA: 2s - loss: 0.1947 - acc: 0.943 - ETA: 2s - loss: 0.1949 - acc: 0.943 - ETA: 2s - loss: 0.1944 - acc: 0.944 - ETA: 1s - loss: 0.1941 - acc: 0.944 - ETA: 1s - loss: 0.1935 - acc: 0.944 - ETA: 1s - loss: 0.1923 - acc: 0.944 - ETA: 1s - loss: 0.1926 - acc: 0.944 - ETA: 1s - loss: 0.1927 - acc: 0.944 - ETA: 1s - loss: 0.1926 - acc: 0.944 - ETA: 1s - loss: 0.1936 - acc: 0.944 - ETA: 1s - loss: 0.1938 - acc: 0.944 - ETA: 1s - loss: 0.1941 - acc: 0.944 - ETA: 1s - loss: 0.1947 - acc: 0.943 - ETA: 1s - loss: 0.1945 - acc: 0.943 - ETA: 1s - loss: 0.1947 - acc: 0.943 - ETA: 1s - loss: 0.1947 - acc: 0.943 - ETA: 1s - loss: 0.1952 - acc: 0.943 - ETA: 1s - loss: 0.1955 - acc: 0.943 - ETA: 1s - loss: 0.1954 - acc: 0.943 - ETA: 1s - loss: 0.1952 - acc: 0.943 - ETA: 1s - loss: 0.1953 - acc: 0.943 - ETA: 1s - loss: 0.1953 - acc: 0.943 - ETA: 1s - loss: 0.1954 - acc: 0.943 - ETA: 1s - loss: 0.1955 - acc: 0.943 - ETA: 1s - loss: 0.1952 - acc: 0.943 - ETA: 1s - loss: 0.1951 - acc: 0.943 - ETA: 1s - loss: 0.1950 - acc: 0.943 - ETA: 1s - loss: 0.1950 - acc: 0.943 - ETA: 1s - loss: 0.1949 - acc: 0.943 - ETA: 1s - loss: 0.1946 - acc: 0.943 - ETA: 1s - loss: 0.1944 - acc: 0.943 - ETA: 0s - loss: 0.1941 - acc: 0.943 - ETA: 0s - loss: 0.1943 - acc: 0.943 - ETA: 0s - loss: 0.1944 - acc: 0.943 - ETA: 0s - loss: 0.1939 - acc: 0.943 - ETA: 0s - loss: 0.1942 - acc: 0.943 - ETA: 0s - loss: 0.1948 - acc: 0.943 - ETA: 0s - loss: 0.1952 - acc: 0.943 - ETA: 0s - loss: 0.1951 - acc: 0.943 - ETA: 0s - loss: 0.1952 - acc: 0.943 - ETA: 0s - loss: 0.1956 - acc: 0.942 - ETA: 0s - loss: 0.1956 - acc: 0.942 - ETA: 0s - loss: 0.1955 - acc: 0.942 - ETA: 0s - loss: 0.1960 - acc: 0.942 - ETA: 0s - loss: 0.1959 - acc: 0.942 - ETA: 0s - loss: 0.1956 - acc: 0.942 - ETA: 0s - loss: 0.1955 - acc: 0.943 - ETA: 0s - loss: 0.1950 - acc: 0.943 - ETA: 0s - loss: 0.1946 - acc: 0.943 - ETA: 0s - loss: 0.1941 - acc: 0.943 - ETA: 0s - loss: 0.1941 - acc: 0.943 - ETA: 0s - loss: 0.1937 - acc: 0.943 - ETA: 0s - loss: 0.1938 - acc: 0.943 - ETA: 0s - loss: 0.1936 - acc: 0.943 - ETA: 0s - loss: 0.1933 - acc: 0.943 - ETA: 0s - loss: 0.1931 - acc: 0.943 - ETA: 0s - loss: 0.1929 - acc: 0.943 - 6s 115us/step - loss: 0.1933 - acc: 0.9437 - val_loss: 0.1858 - val_acc: 0.9469\n",
      "Epoch 8/15\n",
      "50000/50000 [==============================] - ETA: 7s - loss: 0.0867 - acc: 0.968 - ETA: 5s - loss: 0.1467 - acc: 0.962 - ETA: 6s - loss: 0.1605 - acc: 0.951 - ETA: 6s - loss: 0.1556 - acc: 0.954 - ETA: 7s - loss: 0.1553 - acc: 0.952 - ETA: 8s - loss: 0.1541 - acc: 0.952 - ETA: 9s - loss: 0.1585 - acc: 0.950 - ETA: 10s - loss: 0.1618 - acc: 0.94 - ETA: 10s - loss: 0.1629 - acc: 0.94 - ETA: 10s - loss: 0.1659 - acc: 0.94 - ETA: 12s - loss: 0.1661 - acc: 0.94 - ETA: 10s - loss: 0.1796 - acc: 0.94 - ETA: 10s - loss: 0.1759 - acc: 0.94 - ETA: 9s - loss: 0.1784 - acc: 0.9465 - ETA: 9s - loss: 0.1770 - acc: 0.947 - ETA: 9s - loss: 0.1792 - acc: 0.947 - ETA: 8s - loss: 0.1797 - acc: 0.947 - ETA: 8s - loss: 0.1783 - acc: 0.947 - ETA: 7s - loss: 0.1797 - acc: 0.946 - ETA: 7s - loss: 0.1783 - acc: 0.947 - ETA: 6s - loss: 0.1836 - acc: 0.946 - ETA: 6s - loss: 0.1847 - acc: 0.944 - ETA: 5s - loss: 0.1821 - acc: 0.945 - ETA: 5s - loss: 0.1863 - acc: 0.943 - ETA: 5s - loss: 0.1898 - acc: 0.942 - ETA: 5s - loss: 0.1882 - acc: 0.943 - ETA: 4s - loss: 0.1888 - acc: 0.943 - ETA: 4s - loss: 0.1873 - acc: 0.943 - ETA: 4s - loss: 0.1846 - acc: 0.944 - ETA: 4s - loss: 0.1831 - acc: 0.944 - ETA: 4s - loss: 0.1829 - acc: 0.945 - ETA: 4s - loss: 0.1815 - acc: 0.945 - ETA: 3s - loss: 0.1823 - acc: 0.944 - ETA: 3s - loss: 0.1820 - acc: 0.945 - ETA: 3s - loss: 0.1825 - acc: 0.944 - ETA: 3s - loss: 0.1830 - acc: 0.944 - ETA: 3s - loss: 0.1837 - acc: 0.944 - ETA: 3s - loss: 0.1839 - acc: 0.944 - ETA: 3s - loss: 0.1840 - acc: 0.944 - ETA: 3s - loss: 0.1839 - acc: 0.944 - ETA: 3s - loss: 0.1827 - acc: 0.944 - ETA: 2s - loss: 0.1833 - acc: 0.944 - ETA: 2s - loss: 0.1836 - acc: 0.944 - ETA: 2s - loss: 0.1834 - acc: 0.944 - ETA: 2s - loss: 0.1837 - acc: 0.944 - ETA: 2s - loss: 0.1836 - acc: 0.944 - ETA: 2s - loss: 0.1829 - acc: 0.945 - ETA: 2s - loss: 0.1828 - acc: 0.945 - ETA: 2s - loss: 0.1833 - acc: 0.945 - ETA: 2s - loss: 0.1825 - acc: 0.945 - ETA: 2s - loss: 0.1821 - acc: 0.945 - ETA: 2s - loss: 0.1825 - acc: 0.945 - ETA: 2s - loss: 0.1821 - acc: 0.945 - ETA: 2s - loss: 0.1827 - acc: 0.945 - ETA: 2s - loss: 0.1822 - acc: 0.945 - ETA: 2s - loss: 0.1833 - acc: 0.945 - ETA: 2s - loss: 0.1831 - acc: 0.945 - ETA: 2s - loss: 0.1830 - acc: 0.945 - ETA: 2s - loss: 0.1832 - acc: 0.945 - ETA: 2s - loss: 0.1826 - acc: 0.945 - ETA: 2s - loss: 0.1832 - acc: 0.945 - ETA: 2s - loss: 0.1836 - acc: 0.945 - ETA: 2s - loss: 0.1843 - acc: 0.944 - ETA: 2s - loss: 0.1845 - acc: 0.944 - ETA: 2s - loss: 0.1842 - acc: 0.945 - ETA: 2s - loss: 0.1842 - acc: 0.944 - ETA: 2s - loss: 0.1841 - acc: 0.945 - ETA: 2s - loss: 0.1842 - acc: 0.945 - ETA: 2s - loss: 0.1844 - acc: 0.945 - ETA: 2s - loss: 0.1842 - acc: 0.945 - ETA: 2s - loss: 0.1837 - acc: 0.945 - ETA: 2s - loss: 0.1844 - acc: 0.945 - ETA: 2s - loss: 0.1842 - acc: 0.945 - ETA: 2s - loss: 0.1836 - acc: 0.945 - ETA: 2s - loss: 0.1830 - acc: 0.945 - ETA: 2s - loss: 0.1828 - acc: 0.945 - ETA: 2s - loss: 0.1827 - acc: 0.945 - ETA: 1s - loss: 0.1825 - acc: 0.945 - ETA: 1s - loss: 0.1822 - acc: 0.945 - ETA: 1s - loss: 0.1830 - acc: 0.945 - ETA: 1s - loss: 0.1828 - acc: 0.945 - ETA: 1s - loss: 0.1827 - acc: 0.945 - ETA: 1s - loss: 0.1823 - acc: 0.945 - ETA: 1s - loss: 0.1825 - acc: 0.945 - ETA: 1s - loss: 0.1829 - acc: 0.945 - ETA: 1s - loss: 0.1826 - acc: 0.945 - ETA: 1s - loss: 0.1825 - acc: 0.945 - ETA: 1s - loss: 0.1823 - acc: 0.945 - ETA: 1s - loss: 0.1825 - acc: 0.945 - ETA: 0s - loss: 0.1818 - acc: 0.945 - ETA: 0s - loss: 0.1816 - acc: 0.945 - ETA: 0s - loss: 0.1812 - acc: 0.945 - ETA: 0s - loss: 0.1813 - acc: 0.945 - ETA: 0s - loss: 0.1810 - acc: 0.945 - ETA: 0s - loss: 0.1808 - acc: 0.946 - ETA: 0s - loss: 0.1809 - acc: 0.945 - ETA: 0s - loss: 0.1811 - acc: 0.945 - ETA: 0s - loss: 0.1801 - acc: 0.946 - ETA: 0s - loss: 0.1799 - acc: 0.946 - ETA: 0s - loss: 0.1804 - acc: 0.946 - ETA: 0s - loss: 0.1804 - acc: 0.946 - ETA: 0s - loss: 0.1801 - acc: 0.946 - ETA: 0s - loss: 0.1800 - acc: 0.946 - ETA: 0s - loss: 0.1796 - acc: 0.946 - ETA: 0s - loss: 0.1806 - acc: 0.946 - ETA: 0s - loss: 0.1804 - acc: 0.946 - ETA: 0s - loss: 0.1803 - acc: 0.946 - 6s 119us/step - loss: 0.1804 - acc: 0.9462 - val_loss: 0.1743 - val_acc: 0.9494\n",
      "Epoch 9/15\n",
      "50000/50000 [==============================] - ETA: 9s - loss: 0.0764 - acc: 0.968 - ETA: 3s - loss: 0.1756 - acc: 0.938 - ETA: 3s - loss: 0.1519 - acc: 0.953 - ETA: 3s - loss: 0.1612 - acc: 0.953 - ETA: 2s - loss: 0.1676 - acc: 0.950 - ETA: 3s - loss: 0.1685 - acc: 0.951 - ETA: 3s - loss: 0.1663 - acc: 0.951 - ETA: 3s - loss: 0.1658 - acc: 0.951 - ETA: 3s - loss: 0.1678 - acc: 0.950 - ETA: 3s - loss: 0.1675 - acc: 0.951 - ETA: 3s - loss: 0.1677 - acc: 0.950 - ETA: 2s - loss: 0.1660 - acc: 0.951 - ETA: 2s - loss: 0.1672 - acc: 0.951 - ETA: 2s - loss: 0.1662 - acc: 0.952 - ETA: 2s - loss: 0.1661 - acc: 0.952 - ETA: 2s - loss: 0.1676 - acc: 0.952 - ETA: 2s - loss: 0.1667 - acc: 0.952 - ETA: 2s - loss: 0.1650 - acc: 0.953 - ETA: 2s - loss: 0.1651 - acc: 0.952 - ETA: 2s - loss: 0.1634 - acc: 0.952 - ETA: 2s - loss: 0.1636 - acc: 0.953 - ETA: 2s - loss: 0.1627 - acc: 0.953 - ETA: 2s - loss: 0.1625 - acc: 0.953 - ETA: 2s - loss: 0.1617 - acc: 0.953 - ETA: 2s - loss: 0.1617 - acc: 0.953 - ETA: 2s - loss: 0.1619 - acc: 0.953 - ETA: 2s - loss: 0.1631 - acc: 0.953 - ETA: 2s - loss: 0.1637 - acc: 0.953 - ETA: 2s - loss: 0.1637 - acc: 0.953 - ETA: 2s - loss: 0.1637 - acc: 0.953 - ETA: 2s - loss: 0.1638 - acc: 0.953 - ETA: 2s - loss: 0.1642 - acc: 0.953 - ETA: 2s - loss: 0.1652 - acc: 0.952 - ETA: 2s - loss: 0.1660 - acc: 0.952 - ETA: 2s - loss: 0.1666 - acc: 0.952 - ETA: 1s - loss: 0.1663 - acc: 0.952 - ETA: 1s - loss: 0.1667 - acc: 0.952 - ETA: 1s - loss: 0.1673 - acc: 0.951 - ETA: 1s - loss: 0.1679 - acc: 0.951 - ETA: 1s - loss: 0.1675 - acc: 0.951 - ETA: 1s - loss: 0.1668 - acc: 0.951 - ETA: 1s - loss: 0.1666 - acc: 0.951 - ETA: 1s - loss: 0.1663 - acc: 0.951 - ETA: 1s - loss: 0.1673 - acc: 0.951 - ETA: 1s - loss: 0.1681 - acc: 0.951 - ETA: 1s - loss: 0.1676 - acc: 0.951 - ETA: 1s - loss: 0.1675 - acc: 0.951 - ETA: 1s - loss: 0.1680 - acc: 0.951 - ETA: 1s - loss: 0.1681 - acc: 0.951 - ETA: 1s - loss: 0.1685 - acc: 0.951 - ETA: 1s - loss: 0.1686 - acc: 0.951 - ETA: 1s - loss: 0.1690 - acc: 0.951 - ETA: 1s - loss: 0.1694 - acc: 0.950 - ETA: 1s - loss: 0.1696 - acc: 0.950 - ETA: 1s - loss: 0.1689 - acc: 0.951 - ETA: 1s - loss: 0.1686 - acc: 0.951 - ETA: 1s - loss: 0.1691 - acc: 0.950 - ETA: 1s - loss: 0.1689 - acc: 0.950 - ETA: 0s - loss: 0.1689 - acc: 0.950 - ETA: 0s - loss: 0.1696 - acc: 0.950 - ETA: 0s - loss: 0.1688 - acc: 0.950 - ETA: 0s - loss: 0.1684 - acc: 0.950 - ETA: 0s - loss: 0.1681 - acc: 0.951 - ETA: 0s - loss: 0.1677 - acc: 0.951 - ETA: 0s - loss: 0.1680 - acc: 0.950 - ETA: 0s - loss: 0.1681 - acc: 0.950 - ETA: 0s - loss: 0.1675 - acc: 0.951 - ETA: 0s - loss: 0.1679 - acc: 0.950 - ETA: 0s - loss: 0.1680 - acc: 0.950 - ETA: 0s - loss: 0.1683 - acc: 0.950 - ETA: 0s - loss: 0.1679 - acc: 0.950 - ETA: 0s - loss: 0.1679 - acc: 0.950 - ETA: 0s - loss: 0.1680 - acc: 0.950 - ETA: 0s - loss: 0.1682 - acc: 0.950 - ETA: 0s - loss: 0.1680 - acc: 0.950 - ETA: 0s - loss: 0.1683 - acc: 0.950 - ETA: 0s - loss: 0.1681 - acc: 0.950 - ETA: 0s - loss: 0.1683 - acc: 0.950 - ETA: 0s - loss: 0.1683 - acc: 0.950 - ETA: 0s - loss: 0.1685 - acc: 0.950 - 4s 87us/step - loss: 0.1688 - acc: 0.9499 - val_loss: 0.1662 - val_acc: 0.9521\n",
      "Epoch 10/15\n"
     ]
    },
    {
     "name": "stdout",
     "output_type": "stream",
     "text": [
      "50000/50000 [==============================] - ETA: 10s - loss: 0.1008 - acc: 0.96 - ETA: 3s - loss: 0.1389 - acc: 0.9505 - ETA: 3s - loss: 0.1276 - acc: 0.957 - ETA: 3s - loss: 0.1370 - acc: 0.956 - ETA: 4s - loss: 0.1427 - acc: 0.956 - ETA: 3s - loss: 0.1376 - acc: 0.958 - ETA: 3s - loss: 0.1404 - acc: 0.957 - ETA: 3s - loss: 0.1455 - acc: 0.956 - ETA: 3s - loss: 0.1501 - acc: 0.954 - ETA: 3s - loss: 0.1506 - acc: 0.954 - ETA: 3s - loss: 0.1518 - acc: 0.954 - ETA: 3s - loss: 0.1502 - acc: 0.954 - ETA: 3s - loss: 0.1503 - acc: 0.954 - ETA: 3s - loss: 0.1514 - acc: 0.954 - ETA: 3s - loss: 0.1496 - acc: 0.955 - ETA: 3s - loss: 0.1506 - acc: 0.955 - ETA: 2s - loss: 0.1523 - acc: 0.955 - ETA: 2s - loss: 0.1554 - acc: 0.954 - ETA: 2s - loss: 0.1568 - acc: 0.954 - ETA: 2s - loss: 0.1566 - acc: 0.954 - ETA: 2s - loss: 0.1565 - acc: 0.954 - ETA: 2s - loss: 0.1562 - acc: 0.954 - ETA: 2s - loss: 0.1556 - acc: 0.954 - ETA: 2s - loss: 0.1558 - acc: 0.954 - ETA: 2s - loss: 0.1577 - acc: 0.953 - ETA: 2s - loss: 0.1572 - acc: 0.953 - ETA: 2s - loss: 0.1575 - acc: 0.953 - ETA: 2s - loss: 0.1584 - acc: 0.953 - ETA: 2s - loss: 0.1571 - acc: 0.953 - ETA: 2s - loss: 0.1571 - acc: 0.953 - ETA: 2s - loss: 0.1561 - acc: 0.953 - ETA: 2s - loss: 0.1567 - acc: 0.953 - ETA: 2s - loss: 0.1568 - acc: 0.953 - ETA: 2s - loss: 0.1565 - acc: 0.953 - ETA: 2s - loss: 0.1562 - acc: 0.953 - ETA: 2s - loss: 0.1575 - acc: 0.953 - ETA: 2s - loss: 0.1573 - acc: 0.953 - ETA: 2s - loss: 0.1583 - acc: 0.953 - ETA: 2s - loss: 0.1578 - acc: 0.953 - ETA: 2s - loss: 0.1575 - acc: 0.953 - ETA: 2s - loss: 0.1567 - acc: 0.954 - ETA: 2s - loss: 0.1567 - acc: 0.953 - ETA: 2s - loss: 0.1565 - acc: 0.953 - ETA: 2s - loss: 0.1558 - acc: 0.953 - ETA: 2s - loss: 0.1559 - acc: 0.954 - ETA: 1s - loss: 0.1552 - acc: 0.954 - ETA: 1s - loss: 0.1556 - acc: 0.954 - ETA: 1s - loss: 0.1561 - acc: 0.953 - ETA: 1s - loss: 0.1560 - acc: 0.953 - ETA: 1s - loss: 0.1561 - acc: 0.953 - ETA: 1s - loss: 0.1564 - acc: 0.953 - ETA: 1s - loss: 0.1566 - acc: 0.953 - ETA: 1s - loss: 0.1568 - acc: 0.953 - ETA: 1s - loss: 0.1564 - acc: 0.953 - ETA: 1s - loss: 0.1560 - acc: 0.953 - ETA: 1s - loss: 0.1559 - acc: 0.953 - ETA: 1s - loss: 0.1564 - acc: 0.953 - ETA: 1s - loss: 0.1569 - acc: 0.953 - ETA: 1s - loss: 0.1569 - acc: 0.953 - ETA: 1s - loss: 0.1572 - acc: 0.953 - ETA: 1s - loss: 0.1573 - acc: 0.952 - ETA: 1s - loss: 0.1573 - acc: 0.953 - ETA: 1s - loss: 0.1575 - acc: 0.953 - ETA: 1s - loss: 0.1575 - acc: 0.953 - ETA: 0s - loss: 0.1586 - acc: 0.952 - ETA: 0s - loss: 0.1586 - acc: 0.952 - ETA: 0s - loss: 0.1584 - acc: 0.952 - ETA: 0s - loss: 0.1584 - acc: 0.952 - ETA: 0s - loss: 0.1583 - acc: 0.952 - ETA: 0s - loss: 0.1586 - acc: 0.952 - ETA: 0s - loss: 0.1589 - acc: 0.952 - ETA: 0s - loss: 0.1587 - acc: 0.952 - ETA: 0s - loss: 0.1587 - acc: 0.952 - ETA: 0s - loss: 0.1588 - acc: 0.952 - ETA: 0s - loss: 0.1591 - acc: 0.952 - ETA: 0s - loss: 0.1590 - acc: 0.952 - ETA: 0s - loss: 0.1589 - acc: 0.952 - ETA: 0s - loss: 0.1588 - acc: 0.952 - ETA: 0s - loss: 0.1588 - acc: 0.952 - ETA: 0s - loss: 0.1587 - acc: 0.952 - ETA: 0s - loss: 0.1587 - acc: 0.952 - ETA: 0s - loss: 0.1590 - acc: 0.952 - ETA: 0s - loss: 0.1593 - acc: 0.952 - ETA: 0s - loss: 0.1594 - acc: 0.952 - ETA: 0s - loss: 0.1593 - acc: 0.952 - ETA: 0s - loss: 0.1596 - acc: 0.952 - ETA: 0s - loss: 0.1599 - acc: 0.952 - ETA: 0s - loss: 0.1597 - acc: 0.952 - ETA: 0s - loss: 0.1598 - acc: 0.952 - ETA: 0s - loss: 0.1596 - acc: 0.952 - ETA: 0s - loss: 0.1595 - acc: 0.952 - ETA: 0s - loss: 0.1597 - acc: 0.952 - ETA: 0s - loss: 0.1593 - acc: 0.952 - ETA: 0s - loss: 0.1590 - acc: 0.952 - ETA: 0s - loss: 0.1592 - acc: 0.952 - ETA: 0s - loss: 0.1589 - acc: 0.952 - ETA: 0s - loss: 0.1589 - acc: 0.952 - ETA: 0s - loss: 0.1592 - acc: 0.952 - 5s 109us/step - loss: 0.1593 - acc: 0.9526 - val_loss: 0.1631 - val_acc: 0.9527\n",
      "Epoch 11/15\n",
      "50000/50000 [==============================] - ETA: 10s - loss: 0.1947 - acc: 0.93 - ETA: 3s - loss: 0.2345 - acc: 0.9399 - ETA: 3s - loss: 0.2188 - acc: 0.944 - ETA: 3s - loss: 0.1994 - acc: 0.946 - ETA: 3s - loss: 0.1892 - acc: 0.949 - ETA: 3s - loss: 0.1854 - acc: 0.949 - ETA: 3s - loss: 0.1845 - acc: 0.948 - ETA: 3s - loss: 0.1774 - acc: 0.951 - ETA: 3s - loss: 0.1724 - acc: 0.951 - ETA: 3s - loss: 0.1724 - acc: 0.951 - ETA: 3s - loss: 0.1691 - acc: 0.951 - ETA: 3s - loss: 0.1672 - acc: 0.951 - ETA: 3s - loss: 0.1632 - acc: 0.952 - ETA: 3s - loss: 0.1620 - acc: 0.952 - ETA: 3s - loss: 0.1610 - acc: 0.952 - ETA: 3s - loss: 0.1602 - acc: 0.953 - ETA: 2s - loss: 0.1587 - acc: 0.953 - ETA: 2s - loss: 0.1570 - acc: 0.953 - ETA: 2s - loss: 0.1579 - acc: 0.953 - ETA: 2s - loss: 0.1587 - acc: 0.954 - ETA: 2s - loss: 0.1589 - acc: 0.954 - ETA: 2s - loss: 0.1592 - acc: 0.954 - ETA: 2s - loss: 0.1583 - acc: 0.954 - ETA: 2s - loss: 0.1575 - acc: 0.954 - ETA: 2s - loss: 0.1574 - acc: 0.954 - ETA: 2s - loss: 0.1571 - acc: 0.954 - ETA: 2s - loss: 0.1558 - acc: 0.954 - ETA: 2s - loss: 0.1560 - acc: 0.954 - ETA: 2s - loss: 0.1558 - acc: 0.954 - ETA: 2s - loss: 0.1561 - acc: 0.954 - ETA: 2s - loss: 0.1550 - acc: 0.954 - ETA: 2s - loss: 0.1548 - acc: 0.954 - ETA: 2s - loss: 0.1540 - acc: 0.955 - ETA: 2s - loss: 0.1539 - acc: 0.955 - ETA: 2s - loss: 0.1533 - acc: 0.955 - ETA: 2s - loss: 0.1526 - acc: 0.955 - ETA: 1s - loss: 0.1519 - acc: 0.955 - ETA: 1s - loss: 0.1523 - acc: 0.955 - ETA: 1s - loss: 0.1524 - acc: 0.955 - ETA: 1s - loss: 0.1511 - acc: 0.955 - ETA: 1s - loss: 0.1513 - acc: 0.955 - ETA: 1s - loss: 0.1509 - acc: 0.955 - ETA: 1s - loss: 0.1500 - acc: 0.955 - ETA: 1s - loss: 0.1504 - acc: 0.955 - ETA: 1s - loss: 0.1499 - acc: 0.955 - ETA: 1s - loss: 0.1503 - acc: 0.955 - ETA: 1s - loss: 0.1503 - acc: 0.955 - ETA: 1s - loss: 0.1496 - acc: 0.955 - ETA: 1s - loss: 0.1500 - acc: 0.955 - ETA: 1s - loss: 0.1502 - acc: 0.955 - ETA: 1s - loss: 0.1503 - acc: 0.956 - ETA: 1s - loss: 0.1505 - acc: 0.955 - ETA: 1s - loss: 0.1500 - acc: 0.956 - ETA: 1s - loss: 0.1500 - acc: 0.956 - ETA: 0s - loss: 0.1494 - acc: 0.956 - ETA: 0s - loss: 0.1492 - acc: 0.956 - ETA: 0s - loss: 0.1502 - acc: 0.956 - ETA: 0s - loss: 0.1507 - acc: 0.956 - ETA: 0s - loss: 0.1518 - acc: 0.955 - ETA: 0s - loss: 0.1514 - acc: 0.955 - ETA: 0s - loss: 0.1511 - acc: 0.955 - ETA: 0s - loss: 0.1512 - acc: 0.955 - ETA: 0s - loss: 0.1510 - acc: 0.956 - ETA: 0s - loss: 0.1510 - acc: 0.955 - ETA: 0s - loss: 0.1509 - acc: 0.955 - ETA: 0s - loss: 0.1508 - acc: 0.955 - ETA: 0s - loss: 0.1505 - acc: 0.955 - ETA: 0s - loss: 0.1505 - acc: 0.955 - ETA: 0s - loss: 0.1505 - acc: 0.955 - ETA: 0s - loss: 0.1505 - acc: 0.955 - ETA: 0s - loss: 0.1504 - acc: 0.955 - ETA: 0s - loss: 0.1504 - acc: 0.955 - ETA: 0s - loss: 0.1508 - acc: 0.955 - ETA: 0s - loss: 0.1507 - acc: 0.955 - 4s 80us/step - loss: 0.1504 - acc: 0.9556 - val_loss: 0.1559 - val_acc: 0.9551\n",
      "Epoch 12/15\n",
      "50000/50000 [==============================] - ETA: 10s - loss: 0.1548 - acc: 0.93 - ETA: 3s - loss: 0.1436 - acc: 0.9537 - ETA: 3s - loss: 0.1439 - acc: 0.958 - ETA: 3s - loss: 0.1363 - acc: 0.962 - ETA: 3s - loss: 0.1424 - acc: 0.960 - ETA: 3s - loss: 0.1438 - acc: 0.959 - ETA: 3s - loss: 0.1462 - acc: 0.958 - ETA: 3s - loss: 0.1443 - acc: 0.959 - ETA: 3s - loss: 0.1458 - acc: 0.959 - ETA: 3s - loss: 0.1444 - acc: 0.959 - ETA: 3s - loss: 0.1460 - acc: 0.959 - ETA: 3s - loss: 0.1478 - acc: 0.958 - ETA: 3s - loss: 0.1462 - acc: 0.959 - ETA: 3s - loss: 0.1439 - acc: 0.959 - ETA: 3s - loss: 0.1420 - acc: 0.960 - ETA: 3s - loss: 0.1432 - acc: 0.960 - ETA: 2s - loss: 0.1411 - acc: 0.960 - ETA: 2s - loss: 0.1410 - acc: 0.960 - ETA: 2s - loss: 0.1417 - acc: 0.960 - ETA: 2s - loss: 0.1437 - acc: 0.959 - ETA: 2s - loss: 0.1433 - acc: 0.959 - ETA: 2s - loss: 0.1420 - acc: 0.959 - ETA: 2s - loss: 0.1410 - acc: 0.959 - ETA: 2s - loss: 0.1409 - acc: 0.959 - ETA: 2s - loss: 0.1413 - acc: 0.959 - ETA: 2s - loss: 0.1407 - acc: 0.959 - ETA: 2s - loss: 0.1399 - acc: 0.959 - ETA: 2s - loss: 0.1393 - acc: 0.959 - ETA: 2s - loss: 0.1390 - acc: 0.959 - ETA: 2s - loss: 0.1393 - acc: 0.959 - ETA: 2s - loss: 0.1402 - acc: 0.959 - ETA: 2s - loss: 0.1400 - acc: 0.959 - ETA: 2s - loss: 0.1396 - acc: 0.959 - ETA: 2s - loss: 0.1403 - acc: 0.959 - ETA: 2s - loss: 0.1406 - acc: 0.959 - ETA: 2s - loss: 0.1417 - acc: 0.959 - ETA: 2s - loss: 0.1419 - acc: 0.958 - ETA: 1s - loss: 0.1412 - acc: 0.958 - ETA: 1s - loss: 0.1418 - acc: 0.958 - ETA: 1s - loss: 0.1413 - acc: 0.958 - ETA: 1s - loss: 0.1407 - acc: 0.958 - ETA: 1s - loss: 0.1404 - acc: 0.958 - ETA: 1s - loss: 0.1404 - acc: 0.958 - ETA: 1s - loss: 0.1403 - acc: 0.958 - ETA: 1s - loss: 0.1410 - acc: 0.958 - ETA: 1s - loss: 0.1406 - acc: 0.958 - ETA: 1s - loss: 0.1404 - acc: 0.958 - ETA: 1s - loss: 0.1408 - acc: 0.958 - ETA: 1s - loss: 0.1415 - acc: 0.958 - ETA: 1s - loss: 0.1417 - acc: 0.958 - ETA: 1s - loss: 0.1419 - acc: 0.958 - ETA: 1s - loss: 0.1425 - acc: 0.958 - ETA: 1s - loss: 0.1420 - acc: 0.958 - ETA: 1s - loss: 0.1418 - acc: 0.958 - ETA: 1s - loss: 0.1423 - acc: 0.958 - ETA: 1s - loss: 0.1419 - acc: 0.958 - ETA: 0s - loss: 0.1417 - acc: 0.958 - ETA: 0s - loss: 0.1414 - acc: 0.958 - ETA: 0s - loss: 0.1421 - acc: 0.958 - ETA: 0s - loss: 0.1429 - acc: 0.958 - ETA: 0s - loss: 0.1429 - acc: 0.958 - ETA: 0s - loss: 0.1430 - acc: 0.958 - ETA: 0s - loss: 0.1433 - acc: 0.958 - ETA: 0s - loss: 0.1433 - acc: 0.958 - ETA: 0s - loss: 0.1433 - acc: 0.957 - ETA: 0s - loss: 0.1433 - acc: 0.958 - ETA: 0s - loss: 0.1435 - acc: 0.958 - ETA: 0s - loss: 0.1434 - acc: 0.958 - ETA: 0s - loss: 0.1435 - acc: 0.958 - ETA: 0s - loss: 0.1431 - acc: 0.958 - ETA: 0s - loss: 0.1436 - acc: 0.958 - ETA: 0s - loss: 0.1439 - acc: 0.957 - ETA: 0s - loss: 0.1440 - acc: 0.957 - ETA: 0s - loss: 0.1440 - acc: 0.957 - ETA: 0s - loss: 0.1437 - acc: 0.957 - ETA: 0s - loss: 0.1437 - acc: 0.957 - ETA: 0s - loss: 0.1436 - acc: 0.958 - ETA: 0s - loss: 0.1433 - acc: 0.958 - ETA: 0s - loss: 0.1431 - acc: 0.958 - ETA: 0s - loss: 0.1432 - acc: 0.958 - ETA: 0s - loss: 0.1433 - acc: 0.958 - ETA: 0s - loss: 0.1435 - acc: 0.958 - ETA: 0s - loss: 0.1435 - acc: 0.958 - ETA: 0s - loss: 0.1430 - acc: 0.958 - ETA: 0s - loss: 0.1429 - acc: 0.958 - 5s 94us/step - loss: 0.1428 - acc: 0.9581 - val_loss: 0.1540 - val_acc: 0.9556\n",
      "Epoch 13/15\n",
      "50000/50000 [==============================] - ETA: 14s - loss: 0.2543 - acc: 0.87 - ETA: 3s - loss: 0.1558 - acc: 0.9440 - ETA: 6s - loss: 0.1641 - acc: 0.941 - ETA: 6s - loss: 0.1542 - acc: 0.947 - ETA: 6s - loss: 0.1382 - acc: 0.952 - ETA: 5s - loss: 0.1366 - acc: 0.955 - ETA: 4s - loss: 0.1425 - acc: 0.953 - ETA: 4s - loss: 0.1368 - acc: 0.955 - ETA: 4s - loss: 0.1344 - acc: 0.955 - ETA: 4s - loss: 0.1319 - acc: 0.956 - ETA: 4s - loss: 0.1296 - acc: 0.958 - ETA: 4s - loss: 0.1298 - acc: 0.958 - ETA: 4s - loss: 0.1405 - acc: 0.955 - ETA: 3s - loss: 0.1413 - acc: 0.955 - ETA: 3s - loss: 0.1393 - acc: 0.956 - ETA: 3s - loss: 0.1396 - acc: 0.956 - ETA: 3s - loss: 0.1394 - acc: 0.956 - ETA: 3s - loss: 0.1370 - acc: 0.957 - ETA: 3s - loss: 0.1359 - acc: 0.958 - ETA: 3s - loss: 0.1345 - acc: 0.959 - ETA: 3s - loss: 0.1359 - acc: 0.958 - ETA: 3s - loss: 0.1359 - acc: 0.958 - ETA: 2s - loss: 0.1354 - acc: 0.958 - ETA: 2s - loss: 0.1357 - acc: 0.957 - ETA: 2s - loss: 0.1350 - acc: 0.958 - ETA: 2s - loss: 0.1348 - acc: 0.958 - ETA: 2s - loss: 0.1349 - acc: 0.958 - ETA: 2s - loss: 0.1367 - acc: 0.958 - ETA: 2s - loss: 0.1375 - acc: 0.958 - ETA: 2s - loss: 0.1371 - acc: 0.958 - ETA: 2s - loss: 0.1390 - acc: 0.957 - ETA: 2s - loss: 0.1387 - acc: 0.957 - ETA: 2s - loss: 0.1395 - acc: 0.957 - ETA: 2s - loss: 0.1393 - acc: 0.957 - ETA: 2s - loss: 0.1393 - acc: 0.957 - ETA: 2s - loss: 0.1394 - acc: 0.957 - ETA: 2s - loss: 0.1394 - acc: 0.957 - ETA: 2s - loss: 0.1393 - acc: 0.957 - ETA: 2s - loss: 0.1393 - acc: 0.957 - ETA: 2s - loss: 0.1395 - acc: 0.957 - ETA: 2s - loss: 0.1402 - acc: 0.957 - ETA: 2s - loss: 0.1398 - acc: 0.957 - ETA: 2s - loss: 0.1395 - acc: 0.957 - ETA: 2s - loss: 0.1397 - acc: 0.957 - ETA: 2s - loss: 0.1393 - acc: 0.957 - ETA: 2s - loss: 0.1389 - acc: 0.957 - ETA: 2s - loss: 0.1379 - acc: 0.957 - ETA: 2s - loss: 0.1384 - acc: 0.957 - ETA: 2s - loss: 0.1383 - acc: 0.958 - ETA: 2s - loss: 0.1374 - acc: 0.958 - ETA: 1s - loss: 0.1370 - acc: 0.958 - ETA: 1s - loss: 0.1366 - acc: 0.958 - ETA: 1s - loss: 0.1365 - acc: 0.958 - ETA: 1s - loss: 0.1376 - acc: 0.958 - ETA: 1s - loss: 0.1372 - acc: 0.958 - ETA: 1s - loss: 0.1369 - acc: 0.958 - ETA: 1s - loss: 0.1369 - acc: 0.958 - ETA: 1s - loss: 0.1365 - acc: 0.959 - ETA: 1s - loss: 0.1366 - acc: 0.958 - ETA: 1s - loss: 0.1364 - acc: 0.958 - ETA: 1s - loss: 0.1357 - acc: 0.959 - ETA: 1s - loss: 0.1360 - acc: 0.959 - ETA: 1s - loss: 0.1362 - acc: 0.959 - ETA: 1s - loss: 0.1366 - acc: 0.958 - ETA: 1s - loss: 0.1360 - acc: 0.959 - ETA: 1s - loss: 0.1361 - acc: 0.959 - ETA: 0s - loss: 0.1360 - acc: 0.959 - ETA: 0s - loss: 0.1360 - acc: 0.959 - ETA: 0s - loss: 0.1364 - acc: 0.959 - ETA: 0s - loss: 0.1371 - acc: 0.958 - ETA: 0s - loss: 0.1367 - acc: 0.959 - ETA: 0s - loss: 0.1369 - acc: 0.959 - ETA: 0s - loss: 0.1371 - acc: 0.958 - ETA: 0s - loss: 0.1371 - acc: 0.958 - ETA: 0s - loss: 0.1367 - acc: 0.959 - ETA: 0s - loss: 0.1366 - acc: 0.959 - ETA: 0s - loss: 0.1364 - acc: 0.959 - ETA: 0s - loss: 0.1362 - acc: 0.959 - ETA: 0s - loss: 0.1363 - acc: 0.959 - ETA: 0s - loss: 0.1357 - acc: 0.959 - ETA: 0s - loss: 0.1357 - acc: 0.959 - ETA: 0s - loss: 0.1354 - acc: 0.959 - ETA: 0s - loss: 0.1357 - acc: 0.959 - 5s 90us/step - loss: 0.1355 - acc: 0.9595 - val_loss: 0.1469 - val_acc: 0.9580\n",
      "Epoch 14/15\n"
     ]
    },
    {
     "name": "stdout",
     "output_type": "stream",
     "text": [
      "50000/50000 [==============================] - ETA: 10s - loss: 0.1053 - acc: 0.96 - ETA: 3s - loss: 0.1196 - acc: 0.9625 - ETA: 3s - loss: 0.1245 - acc: 0.959 - ETA: 3s - loss: 0.1195 - acc: 0.960 - ETA: 3s - loss: 0.1234 - acc: 0.961 - ETA: 3s - loss: 0.1316 - acc: 0.958 - ETA: 4s - loss: 0.1263 - acc: 0.961 - ETA: 4s - loss: 0.1254 - acc: 0.961 - ETA: 4s - loss: 0.1276 - acc: 0.960 - ETA: 4s - loss: 0.1245 - acc: 0.962 - ETA: 4s - loss: 0.1288 - acc: 0.962 - ETA: 4s - loss: 0.1257 - acc: 0.962 - ETA: 4s - loss: 0.1271 - acc: 0.962 - ETA: 4s - loss: 0.1277 - acc: 0.961 - ETA: 4s - loss: 0.1272 - acc: 0.962 - ETA: 4s - loss: 0.1264 - acc: 0.962 - ETA: 3s - loss: 0.1275 - acc: 0.962 - ETA: 3s - loss: 0.1255 - acc: 0.962 - ETA: 3s - loss: 0.1284 - acc: 0.961 - ETA: 3s - loss: 0.1290 - acc: 0.961 - ETA: 3s - loss: 0.1312 - acc: 0.960 - ETA: 3s - loss: 0.1316 - acc: 0.960 - ETA: 3s - loss: 0.1327 - acc: 0.960 - ETA: 3s - loss: 0.1318 - acc: 0.960 - ETA: 3s - loss: 0.1321 - acc: 0.960 - ETA: 2s - loss: 0.1301 - acc: 0.961 - ETA: 2s - loss: 0.1297 - acc: 0.961 - ETA: 2s - loss: 0.1298 - acc: 0.961 - ETA: 2s - loss: 0.1296 - acc: 0.961 - ETA: 2s - loss: 0.1303 - acc: 0.961 - ETA: 2s - loss: 0.1298 - acc: 0.961 - ETA: 2s - loss: 0.1296 - acc: 0.961 - ETA: 2s - loss: 0.1288 - acc: 0.962 - ETA: 2s - loss: 0.1297 - acc: 0.961 - ETA: 2s - loss: 0.1295 - acc: 0.961 - ETA: 1s - loss: 0.1304 - acc: 0.961 - ETA: 1s - loss: 0.1302 - acc: 0.961 - ETA: 1s - loss: 0.1306 - acc: 0.961 - ETA: 1s - loss: 0.1299 - acc: 0.961 - ETA: 1s - loss: 0.1307 - acc: 0.961 - ETA: 1s - loss: 0.1307 - acc: 0.961 - ETA: 1s - loss: 0.1309 - acc: 0.961 - ETA: 1s - loss: 0.1305 - acc: 0.961 - ETA: 1s - loss: 0.1300 - acc: 0.961 - ETA: 1s - loss: 0.1302 - acc: 0.961 - ETA: 1s - loss: 0.1292 - acc: 0.961 - ETA: 1s - loss: 0.1290 - acc: 0.961 - ETA: 1s - loss: 0.1296 - acc: 0.961 - ETA: 1s - loss: 0.1294 - acc: 0.961 - ETA: 1s - loss: 0.1293 - acc: 0.961 - ETA: 1s - loss: 0.1292 - acc: 0.961 - ETA: 1s - loss: 0.1294 - acc: 0.961 - ETA: 1s - loss: 0.1295 - acc: 0.961 - ETA: 1s - loss: 0.1294 - acc: 0.961 - ETA: 1s - loss: 0.1295 - acc: 0.961 - ETA: 0s - loss: 0.1295 - acc: 0.961 - ETA: 0s - loss: 0.1288 - acc: 0.961 - ETA: 0s - loss: 0.1288 - acc: 0.961 - ETA: 0s - loss: 0.1289 - acc: 0.961 - ETA: 0s - loss: 0.1290 - acc: 0.961 - ETA: 0s - loss: 0.1285 - acc: 0.961 - ETA: 0s - loss: 0.1291 - acc: 0.961 - ETA: 0s - loss: 0.1299 - acc: 0.961 - ETA: 0s - loss: 0.1304 - acc: 0.961 - ETA: 0s - loss: 0.1300 - acc: 0.961 - ETA: 0s - loss: 0.1298 - acc: 0.961 - ETA: 0s - loss: 0.1294 - acc: 0.961 - ETA: 0s - loss: 0.1295 - acc: 0.961 - ETA: 0s - loss: 0.1296 - acc: 0.961 - ETA: 0s - loss: 0.1298 - acc: 0.961 - ETA: 0s - loss: 0.1297 - acc: 0.961 - 4s 77us/step - loss: 0.1293 - acc: 0.9614 - val_loss: 0.1399 - val_acc: 0.9603\n",
      "Epoch 15/15\n",
      "50000/50000 [==============================] - ETA: 12s - loss: 0.0734 - acc: 0.96 - ETA: 3s - loss: 0.1137 - acc: 0.9632 - ETA: 2s - loss: 0.1094 - acc: 0.965 - ETA: 2s - loss: 0.1084 - acc: 0.965 - ETA: 2s - loss: 0.1132 - acc: 0.966 - ETA: 2s - loss: 0.1153 - acc: 0.965 - ETA: 2s - loss: 0.1216 - acc: 0.964 - ETA: 2s - loss: 0.1237 - acc: 0.963 - ETA: 2s - loss: 0.1244 - acc: 0.963 - ETA: 2s - loss: 0.1249 - acc: 0.963 - ETA: 2s - loss: 0.1264 - acc: 0.962 - ETA: 2s - loss: 0.1256 - acc: 0.962 - ETA: 2s - loss: 0.1270 - acc: 0.962 - ETA: 2s - loss: 0.1267 - acc: 0.962 - ETA: 2s - loss: 0.1264 - acc: 0.962 - ETA: 2s - loss: 0.1260 - acc: 0.961 - ETA: 2s - loss: 0.1253 - acc: 0.962 - ETA: 2s - loss: 0.1245 - acc: 0.962 - ETA: 2s - loss: 0.1241 - acc: 0.963 - ETA: 2s - loss: 0.1250 - acc: 0.962 - ETA: 2s - loss: 0.1246 - acc: 0.963 - ETA: 2s - loss: 0.1250 - acc: 0.962 - ETA: 2s - loss: 0.1250 - acc: 0.962 - ETA: 2s - loss: 0.1257 - acc: 0.962 - ETA: 2s - loss: 0.1251 - acc: 0.963 - ETA: 2s - loss: 0.1247 - acc: 0.963 - ETA: 2s - loss: 0.1254 - acc: 0.963 - ETA: 1s - loss: 0.1259 - acc: 0.962 - ETA: 1s - loss: 0.1259 - acc: 0.962 - ETA: 1s - loss: 0.1261 - acc: 0.962 - ETA: 1s - loss: 0.1261 - acc: 0.962 - ETA: 1s - loss: 0.1260 - acc: 0.962 - ETA: 1s - loss: 0.1248 - acc: 0.962 - ETA: 1s - loss: 0.1246 - acc: 0.962 - ETA: 1s - loss: 0.1249 - acc: 0.962 - ETA: 1s - loss: 0.1254 - acc: 0.962 - ETA: 1s - loss: 0.1250 - acc: 0.962 - ETA: 1s - loss: 0.1248 - acc: 0.962 - ETA: 1s - loss: 0.1246 - acc: 0.962 - ETA: 1s - loss: 0.1248 - acc: 0.962 - ETA: 1s - loss: 0.1247 - acc: 0.963 - ETA: 1s - loss: 0.1242 - acc: 0.963 - ETA: 1s - loss: 0.1239 - acc: 0.963 - ETA: 1s - loss: 0.1238 - acc: 0.963 - ETA: 1s - loss: 0.1239 - acc: 0.963 - ETA: 1s - loss: 0.1234 - acc: 0.963 - ETA: 1s - loss: 0.1239 - acc: 0.963 - ETA: 0s - loss: 0.1242 - acc: 0.963 - ETA: 0s - loss: 0.1235 - acc: 0.963 - ETA: 0s - loss: 0.1240 - acc: 0.963 - ETA: 0s - loss: 0.1239 - acc: 0.963 - ETA: 0s - loss: 0.1236 - acc: 0.963 - ETA: 0s - loss: 0.1237 - acc: 0.963 - ETA: 0s - loss: 0.1235 - acc: 0.963 - ETA: 0s - loss: 0.1232 - acc: 0.963 - ETA: 0s - loss: 0.1228 - acc: 0.963 - ETA: 0s - loss: 0.1231 - acc: 0.963 - ETA: 0s - loss: 0.1230 - acc: 0.963 - ETA: 0s - loss: 0.1234 - acc: 0.963 - ETA: 0s - loss: 0.1235 - acc: 0.963 - ETA: 0s - loss: 0.1232 - acc: 0.963 - ETA: 0s - loss: 0.1229 - acc: 0.963 - ETA: 0s - loss: 0.1230 - acc: 0.963 - ETA: 0s - loss: 0.1236 - acc: 0.963 - ETA: 0s - loss: 0.1237 - acc: 0.963 - ETA: 0s - loss: 0.1238 - acc: 0.963 - 4s 72us/step - loss: 0.1239 - acc: 0.9634 - val_loss: 0.1400 - val_acc: 0.9591\n"
     ]
    },
    {
     "data": {
      "text/plain": [
       "<tensorflow.python.keras.callbacks.History at 0x21bc200d668>"
      ]
     },
     "execution_count": 17,
     "metadata": {},
     "output_type": "execute_result"
    }
   ],
   "source": [
    "model = Sequential()\n",
    "model.add(Dense(hidden_layers_size, activation=\"relu\"))\n",
    "model.add(Dense(hidden_layers_size, activation=\"relu\"))\n",
    "model.add(Dense(10, activation=\"softmax\"))\n",
    "\n",
    "model.compile(loss=categorical_crossentropy,\n",
    "              optimizer=SGD(lr=0.01),\n",
    "              metrics=['accuracy'])\n",
    "\n",
    "model.fit(X_train, y_train,\n",
    "          batch_size=32,\n",
    "          epochs=15,\n",
    "          verbose=1,\n",
    "          validation_data=(X_test, y_test))"
   ]
  },
  {
   "cell_type": "code",
   "execution_count": null,
   "metadata": {},
   "outputs": [],
   "source": []
  }
 ],
 "metadata": {
  "kernelspec": {
   "display_name": "Python 3",
   "language": "python",
   "name": "python3"
  },
  "language_info": {
   "codemirror_mode": {
    "name": "ipython",
    "version": 3
   },
   "file_extension": ".py",
   "mimetype": "text/x-python",
   "name": "python",
   "nbconvert_exporter": "python",
   "pygments_lexer": "ipython3",
   "version": "3.6.4"
  }
 },
 "nbformat": 4,
 "nbformat_minor": 2
}
