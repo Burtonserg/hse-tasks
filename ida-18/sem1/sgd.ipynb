{
 "cells": [
  {
   "cell_type": "markdown",
   "metadata": {},
   "source": [
    "Линейная регрессия — используемая в статистике регрессионная модель зависимости одной (объясняемой, зависимой) переменной $y$ от другой или нескольких других переменных (факторов, регрессоров, независимых переменных) $x$ с линейной функцией зависимости.\n",
    "\n",
    "Пусть дана выборка объёмом n наблюдений переменных $y$ и $x$. Обозначим $t$ — номер наблюдения в выборке. Тогда $y_{t}$ — значение переменной $y$ в $t$-м наблюдении, $x_{tj}$ — значение $j$-го фактора в $t$-м наблюдении. Соответственно, $x_{t} = (x_{t1},x_{t2},...,x_{tk})$  — вектор регрессоров в t-м наблюдении. Тогда линейная регрессионная зависимость имеет место в каждом наблюдении:\n",
    "\n",
    "$y_{pred} = x * W + b$\n",
    "\n",
    "Значения параметров в случае линейной регрессии находят с помощью метода наименьших квадратов.\n",
    "\n",
    "$ loss(W, b) = \\frac{1}{n} \\sum{ (y - y_{pred}(W, b))^2}$\n",
    "\n",
    "\n",
    "$ W, b = argmin_{W, b}(loss) $"
   ]
  },
  {
   "cell_type": "code",
   "execution_count": 1,
   "metadata": {},
   "outputs": [
    {
     "name": "stderr",
     "output_type": "stream",
     "text": [
      "C:\\Users\\panov\\Anaconda3\\lib\\site-packages\\h5py\\__init__.py:36: FutureWarning: Conversion of the second argument of issubdtype from `float` to `np.floating` is deprecated. In future, it will be treated as `np.float64 == np.dtype(float).type`.\n",
      "  from ._conv import register_converters as _register_converters\n"
     ]
    }
   ],
   "source": [
    "from __future__ import print_function\n",
    "\n",
    "import tensorflow as tf\n",
    "import numpy as np\n",
    "import matplotlib.pyplot as plt\n",
    "rng = np.random\n",
    "\n",
    "# Parameters\n",
    "learning_rate = 0.01\n",
    "training_epochs = 1000\n",
    "display_step = 50\n",
    "\n",
    "# Training Data\n",
    "\n",
    "train_X = np.asarray([3.3,4.4,5.5,6.71,6.93,4.168,9.779,6.182,7.59,2.167,\n",
    "                         7.042,10.791,5.313,7.997,5.654,9.27,3.1])\n",
    "train_Y = np.asarray([1.7,2.76,2.09,3.19,1.694,1.573,3.366,2.596,2.53,1.221,\n",
    "                         2.827,3.465,1.65,2.904,2.42,2.94,1.3])\n",
    "n_samples = train_X.shape[0]\n",
    "\n",
    "# tf Graph Input\n",
    "X = tf.placeholder(\"float\")\n",
    "Y = tf.placeholder(\"float\")\n",
    "\n",
    "# Set model weights\n",
    "W = tf.Variable(rng.randn(), name=\"weight\")\n",
    "b = tf.Variable(rng.randn(), name=\"bias\")\n"
   ]
  },
  {
   "cell_type": "markdown",
   "metadata": {},
   "source": [
    "$y_{pred} = X * W + b$\n",
    "\n",
    "$ loss = \\frac{1}{n} \\sum{ (y - y_{pred})^2}$"
   ]
  },
  {
   "cell_type": "code",
   "execution_count": 2,
   "metadata": {},
   "outputs": [],
   "source": [
    "# Construct a linear model\n",
    "pred = tf.add(tf.multiply(X, W), b) # write your code here\n",
    "\n",
    "cost = tf.reduce_sum(tf.pow(pred-Y, 2))/ n_samples # write your code here\n"
   ]
  },
  {
   "cell_type": "code",
   "execution_count": 3,
   "metadata": {},
   "outputs": [],
   "source": [
    "grad_W, grad_b = tf.gradients(xs=[W, b], ys=cost)\n",
    "\n",
    "new_W = W - learning_rate * grad_W # write your code here\n",
    "new_b = b - learning_rate * grad_b# write your code here\n",
    "\n",
    "compute_new_W = W.assign(new_W)\n",
    "compute_new_b = b.assign(new_b)\n"
   ]
  },
  {
   "cell_type": "code",
   "execution_count": 4,
   "metadata": {},
   "outputs": [
    {
     "name": "stdout",
     "output_type": "stream",
     "text": [
      "Epoch: 0050 cost= 80.583885193 W= 0.6395962 b= -1.0293531\n",
      "Epoch: 0100 cost= 1.325218320 W= 0.5237522 b= -1.0411223\n",
      "Epoch: 0150 cost= 0.580766618 W= 0.51197094 b= -1.0382242\n",
      "Epoch: 0200 cost= 0.571776211 W= 0.5102626 b= -1.0339164\n",
      "Epoch: 0250 cost= 0.569684625 W= 0.50953054 b= -1.0294819\n",
      "Epoch: 0300 cost= 0.567667603 W= 0.5088944 b= -1.0250449\n",
      "Epoch: 0350 cost= 0.565660894 W= 0.5082689 b= -1.0206174\n",
      "Epoch: 0400 cost= 0.563663900 W= 0.5076458 b= -1.0162004\n",
      "Epoch: 0450 cost= 0.561676502 W= 0.5070243 b= -1.0117942\n",
      "Epoch: 0500 cost= 0.559698820 W= 0.5064043 b= -1.0073987\n",
      "Epoch: 0550 cost= 0.557730675 W= 0.50578576 b= -1.0030138\n",
      "Epoch: 0600 cost= 0.555772245 W= 0.5051688 b= -0.99863964\n",
      "Epoch: 0650 cost= 0.553823113 W= 0.50455326 b= -0.99427605\n",
      "Epoch: 0700 cost= 0.551883519 W= 0.5039393 b= -0.98992306\n",
      "Epoch: 0750 cost= 0.549953341 W= 0.5033268 b= -0.9855806\n",
      "Epoch: 0800 cost= 0.548032522 W= 0.50271577 b= -0.98124874\n",
      "Epoch: 0850 cost= 0.546121001 W= 0.5021062 b= -0.9769274\n",
      "Epoch: 0900 cost= 0.544218719 W= 0.50149816 b= -0.97261655\n",
      "Epoch: 0950 cost= 0.542325616 W= 0.50089157 b= -0.96831614\n",
      "Epoch: 1000 cost= 0.540441811 W= 0.50028646 b= -0.9640262\n",
      "Optimization Finished!\n",
      "Training cost= 0.5385671 W= 0.50028646 b= -0.9640262 \n",
      "\n"
     ]
    },
    {
     "data": {
      "image/png": "[encoded data removed]",
      "text/plain": [
       "<matplotlib.figure.Figure at 0x161638ee278>"
      ]
     },
     "metadata": {},
     "output_type": "display_data"
    },
    {
     "name": "stdout",
     "output_type": "stream",
     "text": [
      "Testing... (Mean square loss Comparison)\n",
      "Testing cost= 0.48232526\n",
      "Absolute mean square loss difference: 0.05624187\n"
     ]
    },
    {
     "data": {
      "image/png": "[encoded data removed]",
      "text/plain": [
       "<matplotlib.figure.Figure at 0x161639b5b70>"
      ]
     },
     "metadata": {},
     "output_type": "display_data"
    }
   ],
   "source": [
    "\n",
    "\n",
    "# Initialize the variables (i.e. assign their default value)\n",
    "init = tf.global_variables_initializer()\n",
    "\n",
    "# Start training\n",
    "with tf.Session() as sess:\n",
    "\n",
    "    # Run the initializer\n",
    "    sess.run(init)\n",
    "\n",
    "    # Fit all training data\n",
    "    for epoch in range(training_epochs):\n",
    "        if (epoch+1) % display_step == 0:\n",
    "            _, _, c = sess.run([compute_new_W, compute_new_b, cost], feed_dict={X: train_X, Y:train_Y})\n",
    "            print(\"Epoch:\", '%04d' % (epoch+1), \"cost=\", \"{:.9f}\".format(c), \\\n",
    "                \"W=\", sess.run(W), \"b=\", sess.run(b))\n",
    "\n",
    "    print(\"Optimization Finished!\")\n",
    "    training_cost = sess.run(cost, feed_dict={X: train_X, Y: train_Y})\n",
    "    print(\"Training cost=\", training_cost, \"W=\", sess.run(W), \"b=\", sess.run(b), '\\n')\n",
    "\n",
    "    # Graphic display\n",
    "    plt.plot(train_X, train_Y, 'ro', label='Original data')\n",
    "    plt.plot(train_X, sess.run(W) * train_X + sess.run(b), label='Fitted line')\n",
    "    plt.legend()\n",
    "    plt.show()\n",
    "\n",
    "    test_X = np.asarray([6.83, 4.668, 8.9, 7.91, 5.7, 8.7, 3.1, 2.1])\n",
    "    test_Y = np.asarray([1.84, 2.273, 3.2, 2.831, 2.92, 3.24, 1.35, 1.03])\n",
    "\n",
    "    print(\"Testing... (Mean square loss Comparison)\")\n",
    "    testing_cost = sess.run(\n",
    "        tf.reduce_sum(tf.pow(pred - Y, 2)) / test_X.shape[0],\n",
    "        feed_dict={X: test_X, Y: test_Y})  # same function as cost above\n",
    "    print(\"Testing cost=\", testing_cost)\n",
    "    print(\"Absolute mean square loss difference:\", abs(\n",
    "        training_cost - testing_cost))\n",
    "\n",
    "    plt.plot(test_X, test_Y, 'bo', label='Testing data')\n",
    "    plt.plot(train_X, sess.run(W) * train_X + sess.run(b), label='Fitted line')\n",
    "    plt.legend()\n",
    "    plt.show()"
   ]
  },
  {
   "cell_type": "code",
   "execution_count": null,
   "metadata": {
    "collapsed": true
   },
   "outputs": [],
   "source": []
  }
 ],
 "metadata": {
  "kernelspec": {
   "display_name": "Python 3",
   "language": "python",
   "name": "python3"
  },
  "language_info": {
   "codemirror_mode": {
    "name": "ipython",
    "version": 3
   },
   "file_extension": ".py",
   "mimetype": "text/x-python",
   "name": "python",
   "nbconvert_exporter": "python",
   "pygments_lexer": "ipython3",
   "version": "3.6.4"
  }
 },
 "nbformat": 4,
 "nbformat_minor": 2
}
