{
 "cells": [
  {
   "cell_type": "markdown",
   "metadata": {},
   "source": [
    "Проверочная #9 (по спектральной кластеризации) - https://goo.gl/forms/1TCba95inBw36Jfa2\n",
    "\n",
    "# Анализ графов и социальных сетей\n",
    "\n",
    "Нам понадобится библиотека igrpah - http://www.lfd.uci.edu/~gohlke/pythonlibs/#python-igraph"
   ]
  },
  {
   "cell_type": "code",
   "execution_count": null,
   "metadata": {},
   "outputs": [],
   "source": [
    "import igraph as ig\n",
    "import matplotlib.pyplot as plt\n",
    "import pandas as pd\n",
    "import numpy as np\n",
    "\n",
    "from IPython.display import Image, display\n",
    "\n",
    "%matplotlib inline\n",
    "\n",
    "plt.style.use('ggplot')\n",
    "plt.rcParams['figure.figsize'] = (12,5)"
   ]
  },
  {
   "cell_type": "markdown",
   "metadata": {},
   "source": [
    "Рассмотрим рассчеты мер центральности для сети Zachary Karate Club.\n",
    "\n",
    "Данная сеть имеет довольно [живую историю](https://en.wikipedia.org/wiki/Zachary's_karate_club) и её часто используют для демонстрации некоторых концептов анализа социальных сетей (SNA).\n",
    "\n",
    "Напомним обозначения:\n",
    "* $A$ - матрица смежности\n",
    "* $A_{ij}$ - элемент на $i$-й строке и $j$-м столбце\n",
    "* $v_i$ - $i$-я вершина\n",
    "* $k(i)$ - степень вершины $v_i$\n",
    "* $d(i, j)$ - расстояние между вершинами $v_i$ и $v_j$\n",
    "\n",
    "Основная задача анализа графов и социальных сетей - анализ важности вершин. Существует несколько подходов к решению этой задачи:\n",
    "* степень центральности (число инцедентных вершин) - degree centrality,\n",
    "* степень близости (количество наименьших путей) - closeness centrality,\n",
    "* степень посредничества (контроль кратчайших путей) - betweenness centrality,\n",
    "* степень влиятельности (связь с другими влиятельными вершинами) - eidgenvector centrality, page rank."
   ]
  },
  {
   "cell_type": "code",
   "execution_count": null,
   "metadata": {
    "collapsed": true
   },
   "outputs": [],
   "source": [
    "# Функция для рисования графов с лейблами\n",
    "def plot_graph(g, settings=dict()):\n",
    "    ig.plot(g, 'graph.png', **settings)\n",
    "    display(Image(filename='graph.png'))"
   ]
  },
  {
   "cell_type": "markdown",
   "metadata": {},
   "source": [
    "Изобразим сеть без акцентов на важность вершин (в каком бы то ни было смысле).\n",
    "\n",
    "Напомним себе, что люди под номерами `1` и `34` сыграли ключевую роль в дальнейшем распаде клуба."
   ]
  },
  {
   "cell_type": "code",
   "execution_count": null,
   "metadata": {},
   "outputs": [],
   "source": [
    "g = ig.Graph.Famous('Zachary')\n",
    "graph_layout = g.layout_fruchterman_reingold()\n",
    "\n",
    "vision_settings = dict()\n",
    "vision_settings['layout'] = graph_layout\n",
    "vision_settings['vertex_label'] = range(1,35)"
   ]
  },
  {
   "cell_type": "code",
   "execution_count": null,
   "metadata": {},
   "outputs": [],
   "source": [
    "plot_graph(g, settings=vision_settings)"
   ]
  },
  {
   "cell_type": "markdown",
   "metadata": {},
   "source": [
    "# Degree centrality"
   ]
  },
  {
   "cell_type": "markdown",
   "metadata": {},
   "source": [
    "Самая оцевидная центральность - просто степень узла. Характеризует некоторую популярность узла (много друзей, много связей).\n",
    "\n",
    "$$ C_d(i) = k(i) = \\sum_jA_{ij} = \\sum_iA_{ij}$$\n",
    "$$ \\bar{C}_d(i) = \\frac{1}{n-1} C_d(i)$$\n",
    "\n",
    "Существует обобщение на ориентированные (prestige) и взвешенные сети."
   ]
  },
  {
   "cell_type": "code",
   "execution_count": null,
   "metadata": {},
   "outputs": [],
   "source": [
    "degr = g.degree()\n",
    "vision_settings['vertex_size'] = np.array(degr) * 2\n",
    "\n",
    "plot_graph(g, settings=vision_settings)"
   ]
  },
  {
   "cell_type": "markdown",
   "metadata": {},
   "source": [
    "# Closeness centrality"
   ]
  },
  {
   "cell_type": "markdown",
   "metadata": {},
   "source": [
    "Центральность, основанная на расстоянии до остальных вершин в графе.\n",
    "\n",
    "$$ C_{cl}(i) = \\frac{1}{\\sum_j d(i,j)} $$\n",
    "\n",
    "$$ \\bar{C}_{cl}(i) = (n-1) \\cdot C_{cl}(i) $$\n",
    "\n",
    "Актор, расположенный в центре сети может быстро добраться до остальных акторов. Акторы на периферии расположены дальше.\n",
    "\n",
    "**Вопрос:** что будет, если граф окажется несвязным?"
   ]
  },
  {
   "cell_type": "code",
   "execution_count": null,
   "metadata": {},
   "outputs": [],
   "source": [
    "close = g.closeness(normalized=True)\n",
    "vision_settings['vertex_size'] = np.array(close) * 50\n",
    "\n",
    "plot_graph(g, settings=vision_settings)"
   ]
  },
  {
   "cell_type": "markdown",
   "metadata": {},
   "source": [
    "# Betweenness centrality (nodes)"
   ]
  },
  {
   "cell_type": "markdown",
   "metadata": {},
   "source": [
    "Пусть $\\sigma_{st}$ - количество кратчайших путей между вершинами $s$ и $t$, а $\\sigma_{st}(i)$ - кр. пути между $v_s$ и $v_t$, которые проходят через вершину $v_i$.\n",
    "\n",
    "Тогда \n",
    "$$ C_b(i) = \\sum\\limits_{s\\neq t\\neq i} \\frac{\\sigma_{st}(i)}{\\sigma_{st}} $$\n",
    "\n",
    "$$ \\bar{C}_b(i) = \\frac{2}{(n-1)(n-2)}C_b(i) $$"
   ]
  },
  {
   "cell_type": "code",
   "execution_count": null,
   "metadata": {},
   "outputs": [],
   "source": [
    "betw = np.array(g.betweenness(directed=False))\n",
    "vision_settings['vertex_size'] = betw / 2 \n",
    "\n",
    "plot_graph(g, settings=vision_settings)"
   ]
  },
  {
   "cell_type": "markdown",
   "metadata": {},
   "source": [
    "# Betweenness centrality (edges)"
   ]
  },
  {
   "cell_type": "markdown",
   "metadata": {},
   "source": [
    "#### Задание\n",
    "Betweenness также можно расчитывать для ребер! Давайте определим для каких ребер она наибольшая и что это может нам дать?"
   ]
  },
  {
   "cell_type": "code",
   "execution_count": null,
   "metadata": {
    "collapsed": true
   },
   "outputs": [],
   "source": [
    "betw_edg = g.edge_betweenness(directed=False)\n",
    "# Your code here"
   ]
  },
  {
   "cell_type": "markdown",
   "metadata": {},
   "source": [
    "# Eigenvector centrality"
   ]
  },
  {
   "cell_type": "markdown",
   "metadata": {},
   "source": [
    "Идея Eigenvector centrality в том, что \"важность\" текущей вершины должна зависеть от важности соседней с ней вершин\n",
    "\n",
    "$$ v_i = \\frac{1}{\\lambda}\\sum_j A_{ij} v_j $$\n",
    "* $v_i$ - важность $i$-й вершины\n",
    "\n",
    "Можно переписать в матричный вид:\n",
    "$$Av = \\lambda v$$\n",
    "А это задача о собственном числе матрицы $A$! \n",
    "\n",
    "$$C_{eig} = v_1,$$\n",
    "где $v_1$ - собственный вектор при наибольшем собственном числе $\\lambda_1$"
   ]
  },
  {
   "cell_type": "markdown",
   "metadata": {},
   "source": [
    "Рассмотрим простой граф и его матрицу смежности:\n",
    "\n",
    "<img src=\"../figures/pagerank1.png\" alt=\"Simple matrix\" style=\"width: 500px;\"/>"
   ]
  },
  {
   "cell_type": "markdown",
   "metadata": {},
   "source": [
    "Воспользуемся самым простым вариантом итеративного вычисления важности вершин:\n",
    "\n",
    "<img src=\"../figures/pagerank2.png\" alt=\"Presige\" style=\"width: 500px;\"/>"
   ]
  },
  {
   "cell_type": "code",
   "execution_count": null,
   "metadata": {
    "collapsed": true
   },
   "outputs": [],
   "source": [
    "# Реалзуем этот алгоритм\n",
    "\n",
    "def prestige(A, e=0.001):\n",
    "    n = A.shape[0]\n",
    "    p = np.ones(n)\n",
    "    lam = 0\n",
    "    # ваш код здесь\n",
    "    return p, lam"
   ]
  },
  {
   "cell_type": "markdown",
   "metadata": {},
   "source": [
    "Посчитаем его для простого графа и построим график сходимости собственного значения $\\lambda$"
   ]
  },
  {
   "cell_type": "code",
   "execution_count": null,
   "metadata": {
    "collapsed": true
   },
   "outputs": [],
   "source": [
    "# Ваш код здесь"
   ]
  },
  {
   "cell_type": "markdown",
   "metadata": {},
   "source": [
    "А теперь воспользуемся встроенной функцией в igraph"
   ]
  },
  {
   "cell_type": "code",
   "execution_count": null,
   "metadata": {
    "collapsed": true
   },
   "outputs": [],
   "source": [
    "# Ваш код здесь"
   ]
  },
  {
   "cell_type": "markdown",
   "metadata": {},
   "source": [
    "# Page Rank"
   ]
  },
  {
   "cell_type": "markdown",
   "metadata": {},
   "source": [
    "Идея PageRank заключается в попытке описать блуждание по вершинам графа. Вероятность перехода в вершину $v_i$ обратнопропорциональна степеням входящих связанных с ней вершин.\n",
    "\n",
    "$$p^{t+1} = (D^{-1}A)^\\top p^t = P^\\top p^t$$\n",
    "\n",
    "Помимо случайного блуждания между соседними вершинами заложен механизм \"телепорта\" между случайными вершинами с вероятностью $1-\\alpha$.\n",
    "\n",
    "$$ \\mathbb{P} = \\alpha P + \\frac{(1 - \\alpha)}{n} E,$$\n",
    "где $E$ - это матрица состоящая из единиц.\n",
    "\n",
    "Аналогичным образом решается задача на поиск собственного числа\n",
    "\n",
    "$$\\mathbb{P}^\\top p = \\lambda p$$"
   ]
  },
  {
   "cell_type": "code",
   "execution_count": null,
   "metadata": {},
   "outputs": [],
   "source": [
    "pr = g.pagerank(directed=False)\n",
    "vision_settings['vertex_size'] = np.array(pr) * 500\n",
    "\n",
    "plot_graph(g, settings=vision_settings)"
   ]
  },
  {
   "cell_type": "markdown",
   "metadata": {},
   "source": [
    "#### Задание \n",
    "Сравните PageRank, EigenVector Centrality и Degree Centrality для данного графа. Какие выводы можно сделать?"
   ]
  },
  {
   "cell_type": "code",
   "execution_count": null,
   "metadata": {
    "collapsed": true
   },
   "outputs": [],
   "source": [
    "# Your code here"
   ]
  },
  {
   "cell_type": "markdown",
   "metadata": {},
   "source": [
    "# \"Геометрическая\" центральность"
   ]
  },
  {
   "cell_type": "markdown",
   "metadata": {},
   "source": [
    "Eccentricity - максимальная длина кратчайшего пути из вершины $i$ до всех остальных вершин $e(i) = \\max\\limits_j d(i, j)$.\n",
    "\n",
    "Диаметр - $\\max e(i)$<br/>\n",
    "Радиус - $\\min e(i)$\n",
    "\n",
    "Центральными вершинами являются те, у которых $e(i)$ равна радиусу графа"
   ]
  },
  {
   "cell_type": "code",
   "execution_count": null,
   "metadata": {},
   "outputs": [],
   "source": [
    "print(g.radius())\n",
    "print(g.diameter())"
   ]
  },
  {
   "cell_type": "code",
   "execution_count": null,
   "metadata": {},
   "outputs": [],
   "source": [
    "ecc = g.eccentricity()\n",
    "vision_settings['vertex_size'] = np.array(ecc) * 10\n",
    "\n",
    "plot_graph(g, settings=vision_settings)"
   ]
  },
  {
   "cell_type": "markdown",
   "metadata": {},
   "source": [
    "# Clustering coefficient"
   ]
  },
  {
   "cell_type": "markdown",
   "metadata": {},
   "source": [
    "Доля \"треугольников\" в окресности вершины."
   ]
  },
  {
   "cell_type": "code",
   "execution_count": null,
   "metadata": {},
   "outputs": [],
   "source": [
    "clust = g.transitivity_local_undirected()\n",
    "vision_settings['vertex_size'] = np.array(clust) * 50\n",
    " \n",
    "plot_graph(g, settings=vision_settings)"
   ]
  },
  {
   "cell_type": "code",
   "execution_count": null,
   "metadata": {},
   "outputs": [],
   "source": [
    "avg_clust = g.transitivity_avglocal_undirected()\n",
    "clust_coeff = g.transitivity_undirected()\n",
    "\n",
    "print('Средний коэффициент кластеризации: %f' % avg_clust)\n",
    "print('Глобальный коэффициент кластеризации: %f' % clust_coeff)"
   ]
  },
  {
   "cell_type": "markdown",
   "metadata": {},
   "source": [
    "# Структура сети без визуализации"
   ]
  },
  {
   "cell_type": "markdown",
   "metadata": {},
   "source": [
    "#### Задание\n",
    "\n",
    "На одном графике изобразите Closeness и Betwenneess Centalities. Как визуализация соотносятся с положением вершин в графе?"
   ]
  },
  {
   "cell_type": "code",
   "execution_count": null,
   "metadata": {
    "collapsed": true
   },
   "outputs": [],
   "source": [
    "## Your Code Here"
   ]
  },
  {
   "cell_type": "markdown",
   "metadata": {},
   "source": [
    "# HITS + PageRank"
   ]
  },
  {
   "cell_type": "markdown",
   "metadata": {},
   "source": [
    "####  Задание\n",
    "\n",
    "Для неориентированного графа PageRank, Eigenvector, а уж темболее HITS не имеют особого смысла.\n",
    "\n",
    "Рассмотрите граф связи политических блогов наканануне выборов в США (data/graph/polblogs.gml). Связь между вершинами имеет место если в постах одного блога были ссылки на другой блог.\n",
    "\n",
    "* Проанализируйте структуру графа и почистите его перед расчетом центральностей\n",
    "* Посчитайте PageRank и HITS\n",
    "* Найдите топовые вершины по этим метрикам и изобразите их окресность"
   ]
  },
  {
   "cell_type": "code",
   "execution_count": null,
   "metadata": {
    "collapsed": true
   },
   "outputs": [],
   "source": [
    "## Your Code Here"
   ]
  },
  {
   "cell_type": "markdown",
   "metadata": {},
   "source": [
    "# Социальный граф"
   ]
  },
  {
   "cell_type": "markdown",
   "metadata": {},
   "source": [
    "Пример социального графа в \"сыром виде\" лежит в папке data/graph\n",
    "\n",
    "Один `json` файл содержит простое описание друзей, второй списки общих друзей с вашими непосредственными друзьями. Остается только преобразовать эту информацию для работы с igpraph ( или другим ПО для работы с сетями )\n",
    "\n",
    "* Загрузите данные в тетрадку и преобразуйте их в граф\n",
    "* Сохраните граф в формат GML для дальнейшей работы\n",
    "* Посчитайте центральности и выясните, кто в вашем графе другей самый.. ээ.. центральный =)"
   ]
  },
  {
   "cell_type": "code",
   "execution_count": null,
   "metadata": {
    "collapsed": true
   },
   "outputs": [],
   "source": []
  }
 ],
 "metadata": {
  "anaconda-cloud": {},
  "author": "shestakoff_andrey",
  "kernelspec": {
   "display_name": "Python [default]",
   "language": "python",
   "name": "python3"
  },
  "language_info": {
   "codemirror_mode": {
    "name": "ipython",
    "version": 3
   },
   "file_extension": ".py",
   "mimetype": "text/x-python",
   "name": "python",
   "nbconvert_exporter": "python",
   "pygments_lexer": "ipython3",
   "version": "3.5.3"
  },
  "mailto": "shestakoffandrey@gmail.com",
  "nav_menu": {},
  "toc": {
   "navigate_menu": true,
   "number_sections": false,
   "sideBar": true,
   "threshold": 6,
   "toc_cell": false,
   "toc_section_display": "block",
   "toc_window_display": true
  }
 },
 "nbformat": 4,
 "nbformat_minor": 1
}
