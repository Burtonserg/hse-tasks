{
 "cells": [
  {
   "cell_type": "markdown",
   "metadata": {},
   "source": [
    "Проверочная #6 - https://goo.gl/forms/FBKyvAb1orJFFFz03"
   ]
  },
  {
   "cell_type": "markdown",
   "metadata": {},
   "source": [
    "### Последовательности"
   ]
  },
  {
   "cell_type": "markdown",
   "metadata": {},
   "source": [
    "| Номер | Подпоследовательность|\n",
    "|---|:---:|\n",
    "| 1 | $\\langle a(abc)(ac)d(cf)\\rangle$ |\n",
    "| 2 | $\\langle (ad)c(bc)(ae)\\rangle$ |\n",
    "| 3 | $\\langle (ef)(ab)(df)cb\\rangle$ |\n",
    "| 4 | $\\langle eg(af)cbc\\rangle$ |"
   ]
  },
  {
   "cell_type": "markdown",
   "metadata": {},
   "source": [
    "Какие есть подпоследоватнльности? Их поддержка, замкнутость"
   ]
  },
  {
   "cell_type": "markdown",
   "metadata": {},
   "source": [
    "### Алгоритмы"
   ]
  },
  {
   "cell_type": "markdown",
   "metadata": {},
   "source": [
    "Используем программу spmf - http://www.philippe-fournier-viger.com/spmf/index.php?link=download.php\n",
    "\n",
    "Данные - файл contextPrefixSpan.txt, -1 - конец события, -2 - конец последовательности"
   ]
  },
  {
   "cell_type": "markdown",
   "metadata": {},
   "source": [
    "| ID\t| Sequences |\n",
    "|---|:---:|\n",
    "| S1\t| (1), (1 2 3), (1 3), (4), (3 6) | \n",
    "| S2\t| (1 4), (3), (2 3), (1 5) |\n",
    "| S3\t| (5 6), (1 2), (4 6), (3), (2) |\n",
    "| S4\t| (5), (7), (1 6), (3), (2), (3) |"
   ]
  },
  {
   "cell_type": "markdown",
   "metadata": {},
   "source": [
    "* GSP\n",
    "* PrefixSpan\n",
    "* SPADE\n",
    "* BIDE"
   ]
  },
  {
   "cell_type": "markdown",
   "metadata": {},
   "source": [
    "Результат:\n",
    "\n",
    "2 3 -1 1 -1 #SUP: 2\n",
    "\n",
    "6 -1 2 -1 #SUP: 2\n",
    "\n",
    "6 -1 2 -1 3 -1 #SUP: 2"
   ]
  },
  {
   "cell_type": "markdown",
   "metadata": {},
   "source": [
    "Как загрузить результат в DataFrame с использованием Pandas?"
   ]
  },
  {
   "cell_type": "code",
   "execution_count": 2,
   "metadata": {
    "collapsed": true
   },
   "outputs": [],
   "source": [
    "# your code"
   ]
  },
  {
   "cell_type": "code",
   "execution_count": null,
   "metadata": {
    "collapsed": true
   },
   "outputs": [],
   "source": []
  }
 ],
 "metadata": {
  "kernelspec": {
   "display_name": "Python [conda root]",
   "language": "python",
   "name": "conda-root-py"
  },
  "language_info": {
   "codemirror_mode": {
    "name": "ipython",
    "version": 3
   },
   "file_extension": ".py",
   "mimetype": "text/x-python",
   "name": "python",
   "nbconvert_exporter": "python",
   "pygments_lexer": "ipython3",
   "version": "3.5.2"
  }
 },
 "nbformat": 4,
 "nbformat_minor": 2
}
