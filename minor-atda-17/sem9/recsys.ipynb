{
 "cells": [
  {
   "cell_type": "markdown",
   "metadata": {
    "collapsed": true
   },
   "source": [
    "# Рекомендательные системы"
   ]
  },
  {
   "cell_type": "markdown",
   "metadata": {},
   "source": [
    "### Тривиальный случай\n",
    "\n",
    "Клиенты, покупавшие $i_0$ также покупали $I(i_0)$\n",
    "\n",
    "<img src=\"../figures/recsys1.png\" alt=\"Simple RecSys\" style=\"width: 500px;\"/>\n",
    "\n",
    "$U(i_0)=\\{u\\in U| r_{ui_0}\\not = \\emptyset, u\\not = u_0\\}$ - коллаборация клиента\n",
    "\n",
    "$I(i_0)=\\{i\\in I | sim(i,i_0)=\\frac{U(i_0)\\cap U(i)}{U(i_0)\\cup U(i)}> \\delta\\}$ - похожие товары"
   ]
  },
  {
   "cell_type": "markdown",
   "metadata": {},
   "source": [
    "### От клиента (user-based)\n",
    "\n",
    "Клиенты, похожие на $u_0$, также покупали $I(i_0)$\n",
    "\n",
    "<img src=\"../figures/recsys2.png\" alt=\"User-based RecSys\" style=\"width: 500px;\"/>\n",
    "\n",
    "$U(i_0)=\\{u\\in U| sim(u,u_0) > \\alpha\\}$ - коллаборация клиента\n",
    "\n",
    "$I(i_0)=\\{i\\in I | B(i)=\\frac{U(u_0)\\cap U(i)}{U(u_0)\\cup U(i)}> 0\\}$, где $U(i)=\\{u\\in U | r_{ui} \\not = \\emptyset\\}$"
   ]
  },
  {
   "cell_type": "markdown",
   "metadata": {},
   "source": [
    "### От объекта (item-based)\n",
    "\n",
    "Вместе с объектами, которые покупал $u_0$, часто покупают $I(u_0)$\n",
    "\n",
    "<img src=\"../figures/recsys3.png\" alt=\"Item-based RecSys\" style=\"width: 500px;\"/>\n",
    "\n",
    "$I(u_0)=\\{i\\in I | \\exists i_0: r_{u_0r_0}\\not = \\emptyset\\ \\&\\ B(i)=sim(i,i_0)>\\alpha\\}$"
   ]
  },
  {
   "cell_type": "markdown",
   "metadata": {},
   "source": [
    "## Словарь с предпочтениями пользователи-фильмы"
   ]
  },
  {
   "cell_type": "code",
   "execution_count": 12,
   "metadata": {
    "collapsed": true
   },
   "outputs": [],
   "source": [
    "# Словарь кинокритиков и выставленных ими оценок для небольшого набора\n",
    "# данных о фильмах\n",
    "critics={'Lisa Rose': {'Lady in the Water': 2.5, 'Snakes on a Plane': 3.5,\n",
    " 'Just My Luck': 3.0, 'Superman Returns': 3.5, 'You, Me and Dupree': 2.5, \n",
    " 'The Night Listener': 3.0},\n",
    "'Gene Seymour': {'Lady in the Water': 3.0, 'Snakes on a Plane': 3.5, \n",
    " 'Just My Luck': 1.5, 'Superman Returns': 5.0, 'The Night Listener': 3.0, \n",
    " 'You, Me and Dupree': 3.5}, \n",
    "'Michael Phillips': {'Lady in the Water': 2.5, 'Snakes on a Plane': 3.0,\n",
    " 'Superman Returns': 3.5, 'The Night Listener': 4.0},\n",
    "'Claudia Puig': {'Snakes on a Plane': 3.5, 'Just My Luck': 3.0,\n",
    " 'The Night Listener': 4.5, 'Superman Returns': 4.0, \n",
    " 'You, Me and Dupree': 2.5},\n",
    "'Mick LaSalle': {'Lady in the Water': 3.0, 'Snakes on a Plane': 4.0, \n",
    " 'Just My Luck': 2.0, 'Superman Returns': 3.0, 'The Night Listener': 3.0,\n",
    " 'You, Me and Dupree': 2.0}, \n",
    "'Jack Matthews': {'Lady in the Water': 3.0, 'Snakes on a Plane': 4.0,\n",
    " 'The Night Listener': 3.0, 'Superman Returns': 5.0, 'You, Me and Dupree': 3.5},\n",
    "'Toby': {'Snakes on a Plane':4.5,'You, Me and Dupree':1.0,'Superman Returns':4.0}}"
   ]
  },
  {
   "cell_type": "code",
   "execution_count": 13,
   "metadata": {},
   "outputs": [
    {
     "data": {
      "text/plain": [
       "{'Snakes on a Plane': 4.5, 'Superman Returns': 4.0, 'You, Me and Dupree': 1.0}"
      ]
     },
     "execution_count": 13,
     "metadata": {},
     "output_type": "execute_result"
    }
   ],
   "source": [
    "critics['Toby']"
   ]
  },
  {
   "cell_type": "code",
   "execution_count": 14,
   "metadata": {},
   "outputs": [
    {
     "data": {
      "text/plain": [
       "2.5"
      ]
     },
     "execution_count": 14,
     "metadata": {},
     "output_type": "execute_result"
    }
   ],
   "source": [
    "critics['Lisa Rose']['Lady in the Water']\n"
   ]
  },
  {
   "cell_type": "markdown",
   "metadata": {},
   "source": [
    "Используем Евклидо расстояние для оценки схожести пользователей:\n",
    "\n",
    "$sim(u_1,u_2) = \\frac{1}{1+d_{euq}(u_1, u_2)}$\n"
   ]
  },
  {
   "cell_type": "code",
   "execution_count": 45,
   "metadata": {
    "collapsed": true
   },
   "outputs": [],
   "source": [
    "# Возвращает сходство person1 и person2 на основе расстояния\n",
    "def sim_distance(prefs,person1,person2):\n",
    "    # ваш код\n",
    "    return 0"
   ]
  },
  {
   "cell_type": "code",
   "execution_count": 46,
   "metadata": {},
   "outputs": [
    {
     "data": {
      "text/plain": [
       "0"
      ]
     },
     "execution_count": 46,
     "metadata": {},
     "output_type": "execute_result"
    }
   ],
   "source": [
    "sim_distance(critics, 'Lisa Rose','Gene Seymour')"
   ]
  },
  {
   "cell_type": "markdown",
   "metadata": {},
   "source": [
    "Используем корруляцию Пирсона для оценки схожести пользователей"
   ]
  },
  {
   "cell_type": "code",
   "execution_count": 47,
   "metadata": {
    "collapsed": true
   },
   "outputs": [],
   "source": [
    "# Возвращает коэффициент корреляции Пирсона между p1 и p2\n",
    "def sim_pearson(prefs,p1,p2):\n",
    "    # ваш код\n",
    "    return 0"
   ]
  },
  {
   "cell_type": "code",
   "execution_count": 48,
   "metadata": {},
   "outputs": [
    {
     "data": {
      "text/plain": [
       "0"
      ]
     },
     "execution_count": 48,
     "metadata": {},
     "output_type": "execute_result"
    }
   ],
   "source": [
    "sim_pearson(critics,'Lisa Rose','Gene Seymour')"
   ]
  },
  {
   "cell_type": "markdown",
   "metadata": {},
   "source": [
    "## Ранжирование критиков"
   ]
  },
  {
   "cell_type": "code",
   "execution_count": 53,
   "metadata": {
    "collapsed": true
   },
   "outputs": [],
   "source": [
    "# Возвращает список наилучших соответствий для человека из словаря prefs.\n",
    "# Количество результатов в списке и функция подобия – необязательные\n",
    "# параметры.\n",
    "def topMatches(prefs,person,n=5,similarity=sim_pearson):\n",
    "    # ваш код\n",
    "    return [(0, '')] # (score, person)"
   ]
  },
  {
   "cell_type": "code",
   "execution_count": 54,
   "metadata": {},
   "outputs": [
    {
     "data": {
      "text/plain": [
       "[(0, '')]"
      ]
     },
     "execution_count": 54,
     "metadata": {},
     "output_type": "execute_result"
    }
   ],
   "source": [
    "topMatches(critics,'Toby',n=3)"
   ]
  },
  {
   "cell_type": "markdown",
   "metadata": {},
   "source": [
    "## Рекомендация фильмов (User-based подход)"
   ]
  },
  {
   "cell_type": "markdown",
   "metadata": {},
   "source": [
    "Составляем рекомендации для заданного человека, пользуясь взвешенным средним оценок, данных всеми остальными пользователями\n",
    "\n",
    "$rank(i) = \\frac{\\sum_u r_{ui}\\cdot sim(u_0,u)}{\\sum_u sim(u_0,u)}$, $r_{u_0i} = \\emptyset$"
   ]
  },
  {
   "cell_type": "code",
   "execution_count": 72,
   "metadata": {
    "collapsed": true
   },
   "outputs": [],
   "source": [
    "# сортированный список\n",
    "def getRecommendations(prefs,person,similarity=sim_pearson):\n",
    "    # ваш код\n",
    "    return [(0, '')] # (rank, item)"
   ]
  },
  {
   "cell_type": "code",
   "execution_count": 56,
   "metadata": {},
   "outputs": [
    {
     "data": {
      "text/plain": [
       "[(0, '')]"
      ]
     },
     "execution_count": 56,
     "metadata": {},
     "output_type": "execute_result"
    }
   ],
   "source": [
    "getRecommendations(critics,'Toby')"
   ]
  },
  {
   "cell_type": "code",
   "execution_count": 57,
   "metadata": {},
   "outputs": [
    {
     "data": {
      "text/plain": [
       "[(0, '')]"
      ]
     },
     "execution_count": 57,
     "metadata": {},
     "output_type": "execute_result"
    }
   ],
   "source": [
    "getRecommendations(critics,'Toby', sim_distance)"
   ]
  },
  {
   "cell_type": "markdown",
   "metadata": {},
   "source": [
    "## Сходство предметов\n",
    "\n",
    "Как заменить\n",
    "\n",
    "{'Lisa Rose': {'Lady in the Water': 2.5, 'Snakes on a Plane': 3.5},\n",
    "'Gene Seymour': {'Lady in the Water': 3.0, 'Snakes on a Plane': 3.5}}\n",
    "\n",
    "на\n",
    "\n",
    "{'Lady in the Water':{'Lisa Rose':2.5,'Gene Seymour':3.0},\n",
    "'Snakes on a Plane':{'Lisa Rose':3.5,'Gene Seymour':3.5}}?\n"
   ]
  },
  {
   "cell_type": "code",
   "execution_count": 58,
   "metadata": {
    "collapsed": true
   },
   "outputs": [],
   "source": [
    "def transformPrefs(prefs):\n",
    "    # ваш код\n",
    "    return {'':{'':0}} # {item:{person:prefs}"
   ]
  },
  {
   "cell_type": "code",
   "execution_count": 59,
   "metadata": {
    "collapsed": true
   },
   "outputs": [],
   "source": [
    "movies=transformPrefs(critics)"
   ]
  },
  {
   "cell_type": "code",
   "execution_count": 60,
   "metadata": {},
   "outputs": [
    {
     "data": {
      "text/plain": [
       "{'': {'': 0}}"
      ]
     },
     "execution_count": 60,
     "metadata": {},
     "output_type": "execute_result"
    }
   ],
   "source": [
    "movies"
   ]
  },
  {
   "cell_type": "code",
   "execution_count": 61,
   "metadata": {},
   "outputs": [
    {
     "data": {
      "text/plain": [
       "[(0, '')]"
      ]
     },
     "execution_count": 61,
     "metadata": {},
     "output_type": "execute_result"
    }
   ],
   "source": [
    "topMatches(movies,'Superman Returns')"
   ]
  },
  {
   "cell_type": "code",
   "execution_count": 62,
   "metadata": {},
   "outputs": [
    {
     "data": {
      "text/plain": [
       "[(0, '')]"
      ]
     },
     "execution_count": 62,
     "metadata": {},
     "output_type": "execute_result"
    }
   ],
   "source": [
    "getRecommendations(movies,'Just My Luck')"
   ]
  },
  {
   "cell_type": "markdown",
   "metadata": {},
   "source": [
    "## Коллаборативная фильтрация по сходству объектов (Item-based collaborative filtering)"
   ]
  },
  {
   "cell_type": "code",
   "execution_count": 63,
   "metadata": {
    "collapsed": true
   },
   "outputs": [],
   "source": [
    "# Создать словарь, содержащий для каждого образца те образцы, которые больше всего похожи на него\n",
    "def calculateSimilarItems(prefs,n=10):\n",
    "    # ваш код\n",
    "    return {'':0} # {item:topMatches(item)}"
   ]
  },
  {
   "cell_type": "code",
   "execution_count": 64,
   "metadata": {
    "collapsed": true
   },
   "outputs": [],
   "source": [
    "itemsim=calculateSimilarItems(critics)"
   ]
  },
  {
   "cell_type": "markdown",
   "metadata": {},
   "source": [
    "Рекомендуемые образцы:\n",
    "\n",
    "$rank(i) = \\frac{\\sum_j r_{ui}*sim(i,j)}{\\sum_j sim(i,j)}$, $r_{ui} = \\emptyset$"
   ]
  },
  {
   "cell_type": "code",
   "execution_count": 65,
   "metadata": {
    "collapsed": true
   },
   "outputs": [],
   "source": [
    "# сортированный список\n",
    "def getRecommendedItems(prefs,itemMatch,user):\n",
    "    # ваш код\n",
    "    return [(0, '')] # (rank, item)"
   ]
  },
  {
   "cell_type": "code",
   "execution_count": 66,
   "metadata": {},
   "outputs": [
    {
     "data": {
      "text/plain": [
       "[(0, '')]"
      ]
     },
     "execution_count": 66,
     "metadata": {},
     "output_type": "execute_result"
    }
   ],
   "source": [
    "getRecommendedItems(critics,itemsim,'Toby')"
   ]
  },
  {
   "cell_type": "markdown",
   "metadata": {},
   "source": [
    "## Рекомендация на данных MovieLens\n",
    "\n",
    "Источник: http://grouplens.org/datasets/movielens/"
   ]
  },
  {
   "cell_type": "code",
   "execution_count": 67,
   "metadata": {
    "collapsed": true
   },
   "outputs": [],
   "source": [
    "def loadMovieLens(path='../data/ml-100k'):\n",
    "# Получить названия фильмов\n",
    "    movies={}\n",
    "    for line in open(path+'/u.item'):\n",
    "        (id,title)=line.split('|')[0:2]\n",
    "        movies[id]=title\n",
    "# Загрузить данные\n",
    "    prefs={}\n",
    "    for line in open(path+'/u.data'):\n",
    "        (user,movieid,rating,ts)=line.split('\\t')\n",
    "        prefs.setdefault(user,{})\n",
    "        prefs[user][movies[movieid]]=float(rating)\n",
    "    return prefs"
   ]
  },
  {
   "cell_type": "code",
   "execution_count": 68,
   "metadata": {},
   "outputs": [
    {
     "data": {
      "text/plain": [
       "{'2001: A Space Odyssey (1968)': 5.0,\n",
       " 'Ace Ventura: Pet Detective (1994)': 4.0,\n",
       " 'Addams Family Values (1993)': 2.0,\n",
       " 'Addicted to Love (1997)': 4.0,\n",
       " 'Adventures of Priscilla, Queen of the Desert, The (1994)': 3.0,\n",
       " 'Adventures of Robin Hood, The (1938)': 5.0,\n",
       " 'Air Force One (1997)': 3.0,\n",
       " 'Air Up There, The (1994)': 3.0,\n",
       " 'Alien (1979)': 4.0,\n",
       " 'American President, The (1995)': 5.0,\n",
       " 'Annie Hall (1977)': 4.0,\n",
       " 'Apocalypse Now (1979)': 4.0,\n",
       " 'Babe (1995)': 5.0,\n",
       " 'Baby-Sitters Club, The (1995)': 2.0,\n",
       " 'Back to the Future (1985)': 5.0,\n",
       " 'Bad Boys (1995)': 4.0,\n",
       " 'Bananas (1971)': 5.0,\n",
       " 'Barcelona (1994)': 3.0,\n",
       " 'Batman & Robin (1997)': 4.0,\n",
       " 'Batman (1989)': 3.0,\n",
       " 'Batman Returns (1992)': 3.0,\n",
       " 'Big Green, The (1995)': 3.0,\n",
       " 'Big Squeeze, The (1996)': 2.0,\n",
       " 'Birdcage, The (1996)': 4.0,\n",
       " 'Blade Runner (1982)': 4.0,\n",
       " 'Blues Brothers, The (1980)': 5.0,\n",
       " 'Boomerang (1992)': 3.0,\n",
       " 'Boot, Das (1981)': 4.0,\n",
       " 'Brady Bunch Movie, The (1995)': 2.0,\n",
       " 'Braveheart (1995)': 4.0,\n",
       " 'Bridge on the River Kwai, The (1957)': 5.0,\n",
       " 'Broken Arrow (1996)': 3.0,\n",
       " 'Butch Cassidy and the Sundance Kid (1969)': 5.0,\n",
       " 'Citizen Kane (1941)': 4.0,\n",
       " \"City Slickers II: The Legend of Curly's Gold (1994)\": 3.0,\n",
       " 'Clear and Present Danger (1994)': 5.0,\n",
       " 'Cliffhanger (1993)': 3.0,\n",
       " 'Clockwork Orange, A (1971)': 4.0,\n",
       " 'Clueless (1995)': 4.0,\n",
       " 'Con Air (1997)': 4.0,\n",
       " 'Conan the Barbarian (1981)': 3.0,\n",
       " 'Coneheads (1993)': 4.0,\n",
       " 'Cool Hand Luke (1967)': 5.0,\n",
       " 'Cops and Robbersons (1994)': 3.0,\n",
       " 'Cowboy Way, The (1994)': 3.0,\n",
       " 'Crow, The (1994)': 3.0,\n",
       " 'Dances with Wolves (1990)': 5.0,\n",
       " \"Dante's Peak (1997)\": 3.0,\n",
       " 'Dave (1993)': 4.0,\n",
       " 'Days of Thunder (1990)': 5.0,\n",
       " 'Dead Man Walking (1995)': 4.0,\n",
       " 'Dead Poets Society (1989)': 5.0,\n",
       " 'Deer Hunter, The (1978)': 3.0,\n",
       " 'Demolition Man (1993)': 3.0,\n",
       " 'Desperado (1995)': 3.0,\n",
       " 'Die Hard (1988)': 4.0,\n",
       " 'Die Hard: With a Vengeance (1995)': 4.0,\n",
       " 'Down Periscope (1996)': 4.0,\n",
       " 'Dragonheart (1996)': 4.0,\n",
       " 'Dumb & Dumber (1994)': 4.0,\n",
       " 'Dunston Checks In (1996)': 1.0,\n",
       " 'E.T. the Extra-Terrestrial (1982)': 3.0,\n",
       " 'Ed Wood (1994)': 3.0,\n",
       " 'Empire Strikes Back, The (1980)': 5.0,\n",
       " 'Endless Summer 2, The (1994)': 3.0,\n",
       " 'Evil Dead II (1987)': 2.0,\n",
       " 'Executive Decision (1996)': 3.0,\n",
       " 'Fargo (1996)': 5.0,\n",
       " 'First Wives Club, The (1996)': 2.0,\n",
       " 'Fish Called Wanda, A (1988)': 5.0,\n",
       " 'Forget Paris (1995)': 4.0,\n",
       " 'Four Weddings and a Funeral (1994)': 5.0,\n",
       " 'French Kiss (1995)': 5.0,\n",
       " 'Fugitive, The (1993)': 5.0,\n",
       " 'Full Metal Jacket (1987)': 4.0,\n",
       " 'Get Shorty (1995)': 5.0,\n",
       " 'Glory (1989)': 4.0,\n",
       " 'Godfather, The (1972)': 4.0,\n",
       " 'GoldenEye (1995)': 4.0,\n",
       " 'Good, The Bad and The Ugly, The (1966)': 5.0,\n",
       " 'GoodFellas (1990)': 4.0,\n",
       " 'Grease (1978)': 4.0,\n",
       " 'Great White Hype, The (1996)': 3.0,\n",
       " 'Groundhog Day (1993)': 5.0,\n",
       " 'Grumpier Old Men (1995)': 4.0,\n",
       " 'Hard Target (1993)': 4.0,\n",
       " 'Heat (1995)': 3.0,\n",
       " 'Heathers (1989)': 3.0,\n",
       " 'Home Alone (1990)': 4.0,\n",
       " 'Hoop Dreams (1994)': 4.0,\n",
       " 'Hot Shots! Part Deux (1993)': 4.0,\n",
       " 'House Arrest (1996)': 3.0,\n",
       " 'I Love Trouble (1994)': 3.0,\n",
       " 'I.Q. (1994)': 5.0,\n",
       " 'In the Army Now (1994)': 4.0,\n",
       " 'In the Line of Fire (1993)': 5.0,\n",
       " 'Independence Day (ID4) (1996)': 5.0,\n",
       " 'Indiana Jones and the Last Crusade (1989)': 5.0,\n",
       " 'Inkwell, The (1994)': 3.0,\n",
       " \"It's a Wonderful Life (1946)\": 5.0,\n",
       " 'Jack (1996)': 3.0,\n",
       " 'Jeffrey (1995)': 3.0,\n",
       " 'Jimmy Hollywood (1994)': 3.0,\n",
       " \"Joe's Apartment (1996)\": 2.0,\n",
       " 'Junior (1994)': 4.0,\n",
       " 'Jurassic Park (1993)': 5.0,\n",
       " 'Kingpin (1996)': 4.0,\n",
       " 'Lightning Jack (1994)': 3.0,\n",
       " 'Lost World: Jurassic Park, The (1997)': 3.0,\n",
       " 'Low Down Dirty Shame, A (1994)': 3.0,\n",
       " 'M*A*S*H (1970)': 5.0,\n",
       " 'Magnificent Seven, The (1954)': 5.0,\n",
       " 'Major Payne (1994)': 3.0,\n",
       " 'Man of the House (1995)': 3.0,\n",
       " 'Manchurian Candidate, The (1962)': 4.0,\n",
       " 'Mars Attacks! (1996)': 3.0,\n",
       " 'Mask, The (1994)': 3.0,\n",
       " 'Matilda (1996)': 3.0,\n",
       " 'Maverick (1994)': 3.0,\n",
       " 'Michael (1996)': 4.0,\n",
       " 'Mighty Aphrodite (1995)': 3.0,\n",
       " 'Milk Money (1994)': 4.0,\n",
       " 'Mission: Impossible (1996)': 4.0,\n",
       " \"Monty Python's Life of Brian (1979)\": 4.0,\n",
       " 'Mother (1996)': 2.0,\n",
       " 'Mrs. Doubtfire (1993)': 4.0,\n",
       " 'Multiplicity (1996)': 3.0,\n",
       " 'Muppet Treasure Island (1996)': 3.0,\n",
       " 'My Favorite Year (1982)': 3.0,\n",
       " 'Naked Gun 33 1/3: The Final Insult (1994)': 4.0,\n",
       " 'Net, The (1995)': 5.0,\n",
       " 'Nine Months (1995)': 4.0,\n",
       " 'Nutty Professor, The (1996)': 4.0,\n",
       " 'Platoon (1986)': 3.0,\n",
       " 'Prefontaine (1997)': 5.0,\n",
       " 'Private Benjamin (1980)': 4.0,\n",
       " 'Professional, The (1994)': 4.0,\n",
       " 'Program, The (1993)': 3.0,\n",
       " 'Pulp Fiction (1994)': 4.0,\n",
       " \"Pyromaniac's Love Story, A (1995)\": 3.0,\n",
       " 'Quiet Man, The (1952)': 5.0,\n",
       " 'Raging Bull (1980)': 3.0,\n",
       " 'Raiders of the Lost Ark (1981)': 5.0,\n",
       " 'Raising Arizona (1987)': 3.0,\n",
       " 'Reality Bites (1994)': 3.0,\n",
       " 'Renaissance Man (1994)': 5.0,\n",
       " 'Return of the Jedi (1983)': 5.0,\n",
       " 'Return of the Pink Panther, The (1974)': 4.0,\n",
       " 'River Wild, The (1994)': 4.0,\n",
       " 'Sabrina (1995)': 4.0,\n",
       " 'Santa Clause, The (1994)': 4.0,\n",
       " \"Schindler's List (1993)\": 4.0,\n",
       " 'Searching for Bobby Fischer (1993)': 4.0,\n",
       " 'Serial Mom (1994)': 1.0,\n",
       " 'Shadow, The (1994)': 3.0,\n",
       " 'Shawshank Redemption, The (1994)': 5.0,\n",
       " \"Singin' in the Rain (1952)\": 4.0,\n",
       " 'Sleeper (1973)': 4.0,\n",
       " 'Sleepers (1996)': 4.0,\n",
       " 'Sleepless in Seattle (1993)': 5.0,\n",
       " 'Sneakers (1992)': 4.0,\n",
       " 'So I Married an Axe Murderer (1993)': 2.0,\n",
       " 'Something to Talk About (1995)': 2.0,\n",
       " 'Son in Law (1993)': 4.0,\n",
       " 'Speechless (1994)': 4.0,\n",
       " 'Speed (1994)': 5.0,\n",
       " 'Speed 2: Cruise Control (1997)': 3.0,\n",
       " 'Star Trek III: The Search for Spock (1984)': 4.0,\n",
       " 'Star Trek IV: The Voyage Home (1986)': 5.0,\n",
       " 'Star Trek: First Contact (1996)': 4.0,\n",
       " 'Star Trek: The Motion Picture (1979)': 3.0,\n",
       " 'Star Trek: The Wrath of Khan (1982)': 5.0,\n",
       " 'Star Wars (1977)': 5.0,\n",
       " 'Stargate (1994)': 5.0,\n",
       " 'Sting, The (1973)': 5.0,\n",
       " 'Strange Days (1995)': 3.0,\n",
       " 'Strictly Ballroom (1992)': 3.0,\n",
       " 'Striptease (1996)': 2.0,\n",
       " 'Supercop (1992)': 3.0,\n",
       " 'Swimming with Sharks (1995)': 3.0,\n",
       " 'Switchblade Sisters (1975)': 2.0,\n",
       " 'Terminator 2: Judgment Day (1991)': 5.0,\n",
       " 'Terminator, The (1984)': 5.0,\n",
       " 'That Old Feeling (1997)': 4.0,\n",
       " 'That Thing You Do! (1996)': 4.0,\n",
       " 'This Is Spinal Tap (1984)': 5.0,\n",
       " 'To Die For (1995)': 3.0,\n",
       " 'To Kill a Mockingbird (1962)': 4.0,\n",
       " 'To Wong Foo, Thanks for Everything! Julie Newmar (1995)': 3.0,\n",
       " 'Tommy Boy (1995)': 4.0,\n",
       " 'Top Gun (1986)': 5.0,\n",
       " 'Treasure of the Sierra Madre, The (1948)': 4.0,\n",
       " 'True Lies (1994)': 5.0,\n",
       " 'Truth About Cats & Dogs, The (1996)': 4.0,\n",
       " 'Twelve Monkeys (1995)': 4.0,\n",
       " 'Twister (1996)': 4.0,\n",
       " \"Ulee's Gold (1997)\": 3.0,\n",
       " 'Under Siege (1992)': 4.0,\n",
       " 'Up in Smoke (1978)': 3.0,\n",
       " 'Vegas Vacation (1997)': 4.0,\n",
       " 'Victor/Victoria (1982)': 4.0,\n",
       " 'Waterworld (1995)': 4.0,\n",
       " \"Weekend at Bernie's (1989)\": 3.0,\n",
       " 'When Harry Met Sally... (1989)': 5.0,\n",
       " 'While You Were Sleeping (1995)': 5.0,\n",
       " 'Wizard of Oz, The (1939)': 5.0,\n",
       " 'Wyatt Earp (1994)': 3.0,\n",
       " 'Young Frankenstein (1974)': 5.0,\n",
       " 'Young Guns (1988)': 3.0,\n",
       " 'Young Guns II (1990)': 2.0}"
      ]
     },
     "execution_count": 68,
     "metadata": {},
     "output_type": "execute_result"
    }
   ],
   "source": [
    "prefs=loadMovieLens( )\n",
    "prefs['87']\n",
    "#len(prefs['87'])"
   ]
  },
  {
   "cell_type": "code",
   "execution_count": 69,
   "metadata": {},
   "outputs": [
    {
     "data": {
      "text/plain": [
       "[(0, '')]"
      ]
     },
     "execution_count": 69,
     "metadata": {},
     "output_type": "execute_result"
    }
   ],
   "source": [
    "getRecommendations(prefs,'87')[0:30]"
   ]
  },
  {
   "cell_type": "code",
   "execution_count": 70,
   "metadata": {},
   "outputs": [
    {
     "ename": "TypeError",
     "evalue": "unhashable type: 'slice'",
     "output_type": "error",
     "traceback": [
      "\u001b[1;31m---------------------------------------------------------------------------\u001b[0m",
      "\u001b[1;31mTypeError\u001b[0m                                 Traceback (most recent call last)",
      "\u001b[1;32m<ipython-input-70-0986c30fa937>\u001b[0m in \u001b[0;36m<module>\u001b[1;34m()\u001b[0m\n\u001b[1;32m----> 1\u001b[1;33m \u001b[0mcalculateSimilarItems\u001b[0m\u001b[1;33m(\u001b[0m\u001b[0mprefs\u001b[0m\u001b[1;33m,\u001b[0m\u001b[0mn\u001b[0m\u001b[1;33m=\u001b[0m\u001b[1;36m50\u001b[0m\u001b[1;33m)\u001b[0m\u001b[1;33m[\u001b[0m\u001b[1;36m10\u001b[0m\u001b[1;33m:\u001b[0m\u001b[1;36m20\u001b[0m\u001b[1;33m]\u001b[0m\u001b[1;33m\u001b[0m\u001b[0m\n\u001b[0m",
      "\u001b[1;31mTypeError\u001b[0m: unhashable type: 'slice'"
     ]
    }
   ],
   "source": [
    "calculateSimilarItems(prefs,n=50)[10:20]"
   ]
  },
  {
   "cell_type": "code",
   "execution_count": 71,
   "metadata": {},
   "outputs": [
    {
     "data": {
      "text/plain": [
       "[(0, '')]"
      ]
     },
     "execution_count": 71,
     "metadata": {},
     "output_type": "execute_result"
    }
   ],
   "source": [
    "getRecommendedItems(prefs,itemsim,'87')[0:30]"
   ]
  },
  {
   "cell_type": "markdown",
   "metadata": {},
   "source": [
    "# Задание 1. Сравнение методов коллаборативной фильтрации по сходству пользователей и по сходству объектов\n",
    "\n",
    "\n",
    "1. Требуется реализовать вычисление ошибки [MAE](http://www.recsyswiki.com/wiki/Mean_absolute_error) и [RMSE](http://www.recsyswiki.com/wiki/Root_mean_square_error-mean-square_deviation) на тестовых данных [Movie Lens](http://grouplens.org/datasets/movielens/).  \n",
    "В качестве данных обучения можно использовать файлы с расширением base, а тестирование качества провести на файле test: пары файлов u1.base и u1.test, ..., u5.base и u5.test. Каждая пара -- это разбиение 80%/20%  данных для всех пользователей $u$ на обучащие и тестовые данные.\n",
    "2. Для каждого метода (user-based и item-based) постройте графики зависимости [MAE](http://www.recsyswiki.com/wiki/Mean_absolute_error) и [RMSE](http://www.recsyswiki.com/wiki/Root_mean_square_error-mean-square_deviation) от числа соседей (диапазон от 1 до 100 с разумным шагом).\n",
    "3. Если качество предсказаний слишком низкое (MAE>2,0), то попробуйте формулы 2.6 и 2.7 из обзора http://files.grouplens.org/papers/FnT%20CF%20Recsys%20Survey.pdf.\n",
    "Можно использовать альтернативные формулы для исходной модели $r_{u,i} = k\\sum\\limits_{u^\\prime \\in U}\\operatorname{sim}(u,u^\\prime)r_{u^\\prime, i} \\mbox{ (случай user-based модели):}$\n",
    "$$r_{u,i} = \\frac{1}{N}\\sum\\limits_{u^\\prime \\in U}r_{u^\\prime, i}$$\n",
    "$$r_{u,i} = \\bar{r_u} +  k\\sum\\limits_{u^\\prime \\in U} sim(u,u^\\prime)(r_{u^\\prime, i}-\\bar{r_{u^\\prime}} ) \\mbox{, где } k =1/\\sum_{u^\\prime \\in U}|\\operatorname{sim}(u,u^\\prime)|.$$\n",
    "4. Сравните подходы на основе полученных результатов по аналогии с пунктами 1 и 2. \n",
    "5. Как изменяется величина MAE (RMSE) от числа выдаваемых рекомендаций (top-n): $n \\in \\{1,3,5,10,15,20,30,40,50,100\\}$? \n",
    "6. Как Вы считаете, какие фильмы чаще рекомендуются -- популярные с высокими оценками или редкие (те, которые редко оцениваются) с высокими оценками?\n",
    "7. Что делать, если соседей (то есть похожих на целевого пользователя или конкретный товар) мало? Нужно/можно ли как-то учитывать достоверность таких рекомендаций? \n",
    "8. *Необязательное подзадание.* Насколько различны списки из top-n рекомендаций. Попробуйте улучшить результаты подбором $\\beta$ для минимизации MAE (RMSE) в гибридных рекомендациях в зависимости от числа соседей:\n",
    "$$\\beta\\cdot r^{user-based}_{ui} + (1-\\beta)\\cdot r^{item-based}_{ui}, \\mbox{ где } 0 \\leq \\beta \\leq 1.$$ \n",
    "\n"
   ]
  },
  {
   "cell_type": "code",
   "execution_count": null,
   "metadata": {
    "collapsed": true
   },
   "outputs": [],
   "source": []
  }
 ],
 "metadata": {
  "anaconda-cloud": {},
  "kernelspec": {
   "display_name": "Python [conda root]",
   "language": "python",
   "name": "conda-root-py"
  },
  "language_info": {
   "codemirror_mode": {
    "name": "ipython",
    "version": 3
   },
   "file_extension": ".py",
   "mimetype": "text/x-python",
   "name": "python",
   "nbconvert_exporter": "python",
   "pygments_lexer": "ipython3",
   "version": "3.5.3"
  },
  "name": "lesson11_recsys.ipynb"
 },
 "nbformat": 4,
 "nbformat_minor": 1
}
