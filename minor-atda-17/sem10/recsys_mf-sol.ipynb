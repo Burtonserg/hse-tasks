{
 "cells": [
  {
   "cell_type": "markdown",
   "metadata": {},
   "source": [
    "Проверояная #7 (по рекомендательным системам) - https://goo.gl/forms/8kNZlOFQYRbMgOzU2"
   ]
  },
  {
   "cell_type": "markdown",
   "metadata": {
    "collapsed": true
   },
   "source": [
    "## Матричные разложения"
   ]
  },
  {
   "cell_type": "markdown",
   "metadata": {
    "collapsed": true
   },
   "source": [
    "$T$ - множество тем (топиков, интересов и т.п.), $|T| << |U|$, $|T| << |I|$\n",
    "\n",
    "$p_{tu}$ - неизвестный профиль клиента, $P=(p_{tu})_{|T|\\times|U|}$\n",
    "\n",
    "$q_{ti}$ - неизвестный профиль продукта, $Q=(q_{tu})_{|T|\\times|I|}$\n",
    "\n",
    "Задача: $r_{ui}=\\sum_{t\\in T}\\pi_t p_{tu}q_{ti}$\n",
    "\n",
    "$R=P^T\\Delta Q$, $\\Delta=diag(\\pi_1,\\dots,\\pi_{|T|})$ - матричная запись\n",
    "\n",
    "$p(u,i)=\\sum_{t\\in T} p(t)\\cdot p(u|t)\\cdot q(i|t)$ - вероятностный смысл\n",
    "\n",
    "Методы поиска профилей:\n",
    "* SVD - сингулярное разложение\n",
    "* NMF - неотрицательное матричное разложение\n",
    "* PLSA - вероятностный латентный семантический анализ\n",
    "\n",
    "### Градиентный спуск\n",
    "\n",
    "Задача - $R\\sim P\\times Q^T=\\hat R$"
   ]
  },
  {
   "cell_type": "markdown",
   "metadata": {},
   "source": [
    "$\\hat r_{ij}=p^T_i q_j=\\sum_{k=1}^K p_{ik}q_{kj}$"
   ]
  },
  {
   "cell_type": "markdown",
   "metadata": {},
   "source": [
    "$e^2_{ij}=(r_{ij}-\\hat r_{ij})^2=(r_{ij}-\\sum_{k=1}^{K}p_{ik}q_{kj})^2$\n",
    "\n",
    "$\\frac{\\partial }{\\partial p_{ik}} e_{ij}^2=-2e_{ij}q_{kj}$\n",
    "\n",
    "$\\frac{\\partial }{\\partial q_{kj}} e_{ij}^2=-2e_{ij}p_{ik}$"
   ]
  },
  {
   "cell_type": "markdown",
   "metadata": {},
   "source": [
    "$p'_{ik}=p_{ik}+\\alpha \\frac{\\partial}{\\partial p_{ik}}e_{ij}^2=p_{ik}+2\\alpha e_{ij}q_{kj}$\n",
    "\n",
    "$q'_{kj}=q_{kj}+\\alpha \\frac{\\partial}{\\partial q_{kj}}e_{ij}^2=q_{kj}+2\\alpha e_{ij}p_{ik}$"
   ]
  },
  {
   "cell_type": "markdown",
   "metadata": {},
   "source": [
    "$E=\\sum_{(u_i,d_j,r_{ij})\\in T}e_{ij}=\\sum_{(u_i,d_j,r_{ij})\\in T}(r_{ij}-\\sum_{k=1}^{K} p_{ik}q_{kj})^2$"
   ]
  },
  {
   "cell_type": "code",
   "execution_count": 5,
   "metadata": {
    "collapsed": true
   },
   "outputs": [],
   "source": [
    "import numpy as np"
   ]
  },
  {
   "cell_type": "code",
   "execution_count": 6,
   "metadata": {
    "collapsed": true
   },
   "outputs": [],
   "source": [
    "def matrix_factorization(R, P, Q, K, steps=5000, alpha=0.0002, beta=0.02):\n",
    "    Q = Q.T\n",
    "    for step in range(steps):\n",
    "        for i in range(len(R)):\n",
    "            for j in range(len(R[i])):\n",
    "                if R[i][j] > 0:\n",
    "                    eij = R[i][j] - np.dot(P[i,:],Q[:,j])\n",
    "                    for k in range(K):\n",
    "                        P[i][k] = P[i][k] + alpha * (2 * eij * Q[k][j] - beta * P[i][k])\n",
    "                        Q[k][j] = Q[k][j] + alpha * (2 * eij * P[i][k] - beta * Q[k][j])\n",
    "        eR = np.dot(P,Q)\n",
    "        e = 0\n",
    "        for i in range(len(R)):\n",
    "            for j in range(len(R[i])):\n",
    "                if R[i][j] > 0:\n",
    "                    e = e + pow(R[i][j] - np.dot(P[i,:],Q[:,j]), 2)\n",
    "                    for k in range(K):\n",
    "                        e = e + (beta/2) * (pow(P[i][k],2) + pow(Q[k][j],2))\n",
    "        if e < 0.001:\n",
    "            break\n",
    "    return P, Q.T"
   ]
  },
  {
   "cell_type": "code",
   "execution_count": 7,
   "metadata": {},
   "outputs": [
    {
     "data": {
      "text/plain": [
       "array([[ 5.00090396,  2.91921985,  4.5218978 ,  0.99735541],\n",
       "       [ 3.95841926,  2.31768995,  3.7574694 ,  0.99657152],\n",
       "       [ 1.08390728,  0.79330032,  5.06316337,  4.96189952],\n",
       "       [ 0.95805419,  0.6872052 ,  4.11969453,  3.97248012],\n",
       "       [ 1.9458653 ,  1.25938915,  4.9000108 ,  4.03828649]])"
      ]
     },
     "execution_count": 7,
     "metadata": {},
     "output_type": "execute_result"
    }
   ],
   "source": [
    "R = [\n",
    "     [5,3,0,1],\n",
    "     [4,0,0,1],\n",
    "     [1,1,0,5],\n",
    "     [1,0,0,4],\n",
    "     [0,1,5,4],\n",
    "    ]\n",
    "R = np.array(R)\n",
    "N = len(R)\n",
    "M = len(R[0])\n",
    "K = 2\n",
    "\n",
    "P = np.random.rand(N,K)\n",
    "Q = np.random.rand(M,K)\n",
    "\n",
    "nP, nQ = matrix_factorization(R, P, Q, K)\n",
    "\n",
    "nR = np.dot(nP, nQ.T)\n",
    "nR"
   ]
  },
  {
   "cell_type": "markdown",
   "metadata": {},
   "source": [
    "### SVD\n",
    "\n",
    "Задача - $\\|R - U^T\\Delta V\\| \\rightarrow min_{U,V,\\Delta}$"
   ]
  },
  {
   "cell_type": "code",
   "execution_count": 8,
   "metadata": {},
   "outputs": [],
   "source": [
    "#создаем матрицу оценок фильмов\n",
    "X=np.zeros((6, 7))\n",
    "X = np.array([[4,4,5,0,0,0,0], [5,5,3,4,3,0,0], [0,0,0,4,4,0,0], [0,0,0,5,4,5,3], [0,0,0,0,0,5,5], [0,0,0,0,0,4,4]])"
   ]
  },
  {
   "cell_type": "markdown",
   "metadata": {},
   "source": [
    "<img src=\"../figures/matr1.png\" alt=\"Matr\" style=\"width: 200px;\"/>"
   ]
  },
  {
   "cell_type": "markdown",
   "metadata": {},
   "source": [
    "Находим сингулярное разложение, смотрим на получающиеся матрицы"
   ]
  },
  {
   "cell_type": "code",
   "execution_count": 9,
   "metadata": {
    "collapsed": true
   },
   "outputs": [],
   "source": [
    "# ваш код\n",
    "U,s, V = np.linalg.svd(X)"
   ]
  },
  {
   "cell_type": "code",
   "execution_count": 10,
   "metadata": {
    "collapsed": true
   },
   "outputs": [],
   "source": [
    "#превращаем вектор весов матрицу весов\n",
    "S = np.zeros((6, 7))"
   ]
  },
  {
   "cell_type": "code",
   "execution_count": 11,
   "metadata": {},
   "outputs": [
    {
     "data": {
      "text/plain": [
       "array([[  1.26226575e+01,   0.00000000e+00,   0.00000000e+00,\n",
       "          0.00000000e+00,   0.00000000e+00,   0.00000000e+00,\n",
       "          0.00000000e+00],\n",
       "       [  0.00000000e+00,   1.06683922e+01,   0.00000000e+00,\n",
       "          0.00000000e+00,   0.00000000e+00,   0.00000000e+00,\n",
       "          0.00000000e+00],\n",
       "       [  0.00000000e+00,   0.00000000e+00,   7.29730704e+00,\n",
       "          0.00000000e+00,   0.00000000e+00,   0.00000000e+00,\n",
       "          0.00000000e+00],\n",
       "       [  0.00000000e+00,   0.00000000e+00,   0.00000000e+00,\n",
       "          1.64107896e+00,   0.00000000e+00,   0.00000000e+00,\n",
       "          0.00000000e+00],\n",
       "       [  0.00000000e+00,   0.00000000e+00,   0.00000000e+00,\n",
       "          0.00000000e+00,   9.53988881e-01,   0.00000000e+00,\n",
       "          0.00000000e+00],\n",
       "       [  0.00000000e+00,   0.00000000e+00,   0.00000000e+00,\n",
       "          0.00000000e+00,   0.00000000e+00,   3.30004874e-17,\n",
       "          0.00000000e+00]])"
      ]
     },
     "execution_count": 11,
     "metadata": {},
     "output_type": "execute_result"
    }
   ],
   "source": [
    "S[:6,:6]=np.diag(s)\n",
    "S"
   ]
  },
  {
   "cell_type": "code",
   "execution_count": 12,
   "metadata": {},
   "outputs": [
    {
     "data": {
      "text/plain": [
       "array([[  4.00000000e+00,   4.00000000e+00,   5.00000000e+00,\n",
       "          9.04398596e-16,   9.20373504e-16,   5.87028089e-16,\n",
       "          5.95694946e-16],\n",
       "       [  5.00000000e+00,   5.00000000e+00,   3.00000000e+00,\n",
       "          4.00000000e+00,   3.00000000e+00,  -6.02155430e-16,\n",
       "         -2.84405778e-16],\n",
       "       [  3.57220994e-16,   7.13285194e-17,   4.31472232e-16,\n",
       "          4.00000000e+00,   4.00000000e+00,  -1.87363603e-15,\n",
       "         -1.32959913e-15],\n",
       "       [  1.47433400e-15,   9.91229891e-16,   2.29874676e-15,\n",
       "          5.00000000e+00,   4.00000000e+00,   5.00000000e+00,\n",
       "          3.00000000e+00],\n",
       "       [  7.09455292e-16,   3.63118858e-16,   6.09097584e-16,\n",
       "         -1.14174352e-15,  -1.38769170e-15,   5.00000000e+00,\n",
       "          5.00000000e+00],\n",
       "       [  6.07200061e-16,   3.49176919e-16,   8.32138391e-16,\n",
       "         -8.10873899e-16,  -8.13583095e-16,   4.00000000e+00,\n",
       "          4.00000000e+00]])"
      ]
     },
     "execution_count": 12,
     "metadata": {},
     "output_type": "execute_result"
    }
   ],
   "source": [
    "#пробуем восстанавливать исходную матрицу\n",
    "np.dot(U, np.dot(S, V))"
   ]
  },
  {
   "cell_type": "code",
   "execution_count": 13,
   "metadata": {
    "collapsed": true
   },
   "outputs": [],
   "source": [
    "Y=np.dot(U, np.dot(S, V))"
   ]
  },
  {
   "cell_type": "code",
   "execution_count": 14,
   "metadata": {},
   "outputs": [
    {
     "data": {
      "text/plain": [
       "1.3677535415069609e-14"
      ]
     },
     "execution_count": 14,
     "metadata": {},
     "output_type": "execute_result"
    }
   ],
   "source": [
    "#вычисляем ошибку приближения со всеми факторами\n",
    "np.linalg.norm(X-Y)"
   ]
  },
  {
   "cell_type": "code",
   "execution_count": 15,
   "metadata": {
    "collapsed": true
   },
   "outputs": [],
   "source": [
    "#обнуляем 5-ый фактор\n",
    "S[4,4]=0"
   ]
  },
  {
   "cell_type": "code",
   "execution_count": 16,
   "metadata": {
    "collapsed": true
   },
   "outputs": [],
   "source": [
    "Y=np.dot(U, np.dot(S, V))"
   ]
  },
  {
   "cell_type": "code",
   "execution_count": 17,
   "metadata": {},
   "outputs": [
    {
     "data": {
      "text/plain": [
       "0.95398888134339599"
      ]
     },
     "execution_count": 17,
     "metadata": {},
     "output_type": "execute_result"
    }
   ],
   "source": [
    "np.linalg.norm(X-Y)"
   ]
  },
  {
   "cell_type": "code",
   "execution_count": 16,
   "metadata": {},
   "outputs": [
    {
     "data": {
      "text/plain": [
       "1.8982188885974189"
      ]
     },
     "execution_count": 16,
     "metadata": {},
     "output_type": "execute_result"
    }
   ],
   "source": [
    "#обнуляем 4-ый фактор\n",
    "S[3,3]=0\n",
    "Y=np.dot(U, np.dot(S, V))\n",
    "np.linalg.norm(X-Y)"
   ]
  },
  {
   "cell_type": "code",
   "execution_count": 17,
   "metadata": {
    "collapsed": true
   },
   "outputs": [],
   "source": [
    "from sklearn.decomposition import NMF"
   ]
  },
  {
   "cell_type": "code",
   "execution_count": 18,
   "metadata": {
    "collapsed": true
   },
   "outputs": [],
   "source": [
    "#инициализируем праметры неотрицательной матричной факторизации с тремя факторами\n",
    "model = NMF(n_components=3, init='random', random_state=0)"
   ]
  },
  {
   "cell_type": "code",
   "execution_count": 19,
   "metadata": {},
   "outputs": [
    {
     "data": {
      "text/plain": [
       "NMF(alpha=0.0, beta=1, eta=0.1, init='random', l1_ratio=0.0, max_iter=200,\n",
       "  n_components=3, nls_max_iter=2000, random_state=0, shuffle=False,\n",
       "  solver='cd', sparseness=None, tol=0.0001, verbose=0)"
      ]
     },
     "execution_count": 19,
     "metadata": {},
     "output_type": "execute_result"
    }
   ],
   "source": [
    "#применяем модель к матрице оценок фильмов\n",
    "model.fit(X)"
   ]
  },
  {
   "cell_type": "code",
   "execution_count": 20,
   "metadata": {
    "collapsed": true
   },
   "outputs": [],
   "source": [
    "#извлекаем компоненты \n",
    "W = model.fit_transform(X);\n",
    "H = model.components_;"
   ]
  },
  {
   "cell_type": "code",
   "execution_count": 21,
   "metadata": {},
   "outputs": [
    {
     "data": {
      "text/plain": [
       "array([[ 2.24793179,  0.        ,  0.        ],\n",
       "       [ 2.23118348,  1.66417342,  0.        ],\n",
       "       [ 0.        ,  1.91022987,  0.        ],\n",
       "       [ 0.        ,  2.17779586,  1.98547926],\n",
       "       [ 0.        ,  0.        ,  2.58505415],\n",
       "       [ 0.        ,  0.        ,  2.06804332]])"
      ]
     },
     "execution_count": 21,
     "metadata": {},
     "output_type": "execute_result"
    }
   ],
   "source": [
    "#зрители-факторы\n",
    "W"
   ]
  },
  {
   "cell_type": "code",
   "execution_count": 22,
   "metadata": {},
   "outputs": [
    {
     "data": {
      "text/plain": [
       "array([[ 1.97582315,  1.97582315,  1.78771163,  0.06530907,  0.        ,\n",
       "         0.        ,  0.        ],\n",
       "       [ 0.08820566,  0.08820566,  0.        ,  2.22716484,  1.91238711,\n",
       "         0.18750422,  0.        ],\n",
       "       [ 0.        ,  0.        ,  0.        ,  0.01994477,  0.        ,\n",
       "         2.03430582,  1.82223255]])"
      ]
     },
     "execution_count": 22,
     "metadata": {},
     "output_type": "execute_result"
    }
   ],
   "source": [
    "#факторы-зрители\n",
    "H"
   ]
  },
  {
   "cell_type": "code",
   "execution_count": 23,
   "metadata": {},
   "outputs": [
    {
     "data": {
      "text/plain": [
       "array([[ 4.44151567,  4.44151567,  4.0186538 ,  0.14681033,  0.        ,\n",
       "         0.        ,  0.        ],\n",
       "       [ 4.55521349,  4.55521349,  3.98871265,  3.85210505,  3.18254379,\n",
       "         0.31203953,  0.        ],\n",
       "       [ 0.16849309,  0.16849309,  0.        ,  4.2543968 ,  3.65309897,\n",
       "         0.35817615,  0.        ],\n",
       "       [ 0.19209393,  0.19209393,  0.        ,  4.88991029,  4.16478872,\n",
       "         4.44741791,  3.61800494],\n",
       "       [ 0.        ,  0.        ,  0.        ,  0.0515583 ,  0.        ,\n",
       "         5.2587907 ,  4.71056983],\n",
       "       [ 0.        ,  0.        ,  0.        ,  0.04124664,  0.        ,\n",
       "         4.20703256,  3.76845586]])"
      ]
     },
     "execution_count": 23,
     "metadata": {},
     "output_type": "execute_result"
    }
   ],
   "source": [
    "#восстанавливаем исходную матрицу\n",
    "Y=np.dot(W,H)\n",
    "Y"
   ]
  },
  {
   "cell_type": "code",
   "execution_count": 24,
   "metadata": {},
   "outputs": [
    {
     "data": {
      "text/plain": [
       "2.0790165776696892"
      ]
     },
     "execution_count": 24,
     "metadata": {},
     "output_type": "execute_result"
    }
   ],
   "source": [
    "#находим суммарную ошибку\n",
    "np.linalg.norm(X-Y)"
   ]
  },
  {
   "cell_type": "code",
   "execution_count": 153,
   "metadata": {},
   "outputs": [
    {
     "data": {
      "text/plain": [
       "array([[ -4.17630451e-01,  -4.17630451e-01,   9.10134534e-01,\n",
       "         -1.77553482e-01,   0.00000000e+00,   0.00000000e+00,\n",
       "          0.00000000e+00],\n",
       "       [  4.32786107e-01,   4.32786107e-01,  -9.43834651e-01,\n",
       "          1.85489943e-01,  -2.83877488e-01,  -9.16166928e-07,\n",
       "         -9.16166467e-07],\n",
       "       [ -3.49851161e-01,  -3.49851161e-01,   0.00000000e+00,\n",
       "         -1.63275040e-01,   2.49544104e-01,  -1.83431827e-02,\n",
       "         -1.00144815e-02],\n",
       "       [ -1.02989387e-01,  -1.02989387e-01,   0.00000000e+00,\n",
       "          1.14281347e-03,  -6.10132784e-04,   7.58800160e-05,\n",
       "          4.12016364e-05],\n",
       "       [  0.00000000e+00,   0.00000000e+00,   0.00000000e+00,\n",
       "         -4.98384306e-05,   0.00000000e+00,  -5.50766951e-06,\n",
       "         -2.99057651e-06],\n",
       "       [  0.00000000e+00,   0.00000000e+00,   0.00000000e+00,\n",
       "         -3.98707445e-05,   0.00000000e+00,  -4.40613561e-06,\n",
       "         -2.39246121e-06]])"
      ]
     },
     "execution_count": 153,
     "metadata": {},
     "output_type": "execute_result"
    }
   ],
   "source": [
    "X-Y"
   ]
  },
  {
   "cell_type": "code",
   "execution_count": 140,
   "metadata": {
    "collapsed": true
   },
   "outputs": [],
   "source": [
    "# на точность приближения влияют параметры модели (например, можно увеличить число факторов)"
   ]
  }
 ],
 "metadata": {
  "anaconda-cloud": {},
  "kernelspec": {
   "display_name": "Python [conda root]",
   "language": "python",
   "name": "conda-root-py"
  },
  "language_info": {
   "codemirror_mode": {
    "name": "ipython",
    "version": 3
   },
   "file_extension": ".py",
   "mimetype": "text/x-python",
   "name": "python",
   "nbconvert_exporter": "python",
   "pygments_lexer": "ipython3",
   "version": "3.5.3"
  }
 },
 "nbformat": 4,
 "nbformat_minor": 1
}
