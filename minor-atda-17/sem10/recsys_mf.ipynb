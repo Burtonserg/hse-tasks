{
 "cells": [
  {
   "cell_type": "markdown",
   "metadata": {},
   "source": [
    "Проверочная #7 (по рекомендательным системам) - https://goo.gl/forms/8kNZlOFQYRbMgOzU2"
   ]
  },
  {
   "cell_type": "markdown",
   "metadata": {
    "collapsed": true
   },
   "source": [
    "## Матричные разложения"
   ]
  },
  {
   "cell_type": "markdown",
   "metadata": {
    "collapsed": true
   },
   "source": [
    "$T$ - множество тем (топиков, интересов и т.п.), $|T| << |U|$, $|T| << |I|$\n",
    "\n",
    "$p_{tu}$ - неизвестный профиль клиента, $P=(p_{tu})_{|T|\\times|U|}$\n",
    "\n",
    "$q_{ti}$ - неизвестный профиль продукта, $Q=(q_{tu})_{|T|\\times|I|}$\n",
    "\n",
    "Задача: $r_{ui}=\\sum_{t\\in T}\\pi_t p_{tu}q_{ti}$\n",
    "\n",
    "$R=P^T\\Delta Q$, $\\Delta=diag(\\pi_1,\\dots,\\pi_{|T|})$ - матричная запись\n",
    "\n",
    "$p(u,i)=\\sum_{t\\in T} p(t)\\cdot p(u|t)\\cdot q(i|t)$ - вероятностный смысл\n",
    "\n",
    "Методы поиска профилей:\n",
    "* SVD - сингулярное разложение\n",
    "* NMF - неотрицательное матричное разложение\n",
    "* PLSA - вероятностный латентный семантический анализ\n",
    "\n",
    "### Градиентный спуск\n",
    "\n",
    "Задача - $R\\sim P\\times Q^T=\\hat R$"
   ]
  },
  {
   "cell_type": "markdown",
   "metadata": {},
   "source": [
    "Воспроизводимая матрица:\n",
    "\n",
    "$\\hat r_{ij}=p^T_i q_j=\\sum_{k=1}^K p_{ik}q_{kj}$"
   ]
  },
  {
   "cell_type": "markdown",
   "metadata": {},
   "source": [
    "Ищем производную:\n",
    "\n",
    "$e^2_{ij}=(r_{ij}-\\hat r_{ij})^2=(r_{ij}-\\sum_{k=1}^{K}p_{ik}q_{kj})^2$\n",
    "\n",
    "$\\frac{\\partial }{\\partial p_{ik}} e_{ij}^2=-2e_{ij}q_{kj}$\n",
    "\n",
    "$\\frac{\\partial }{\\partial q_{kj}} e_{ij}^2=-2e_{ij}p_{ik}$"
   ]
  },
  {
   "cell_type": "markdown",
   "metadata": {},
   "source": [
    "Градиентный шаг:\n",
    "\n",
    "$p'_{ik}=p_{ik}+\\alpha \\frac{\\partial}{\\partial p_{ik}}e_{ij}^2=p_{ik}+2\\alpha e_{ij}q_{kj}$\n",
    "\n",
    "$q'_{kj}=q_{kj}+\\alpha \\frac{\\partial}{\\partial q_{kj}}e_{ij}^2=q_{kj}+2\\alpha e_{ij}p_{ik}$"
   ]
  },
  {
   "cell_type": "markdown",
   "metadata": {},
   "source": [
    "Общая ошибка:\n",
    "\n",
    "$E=\\sum_{(u_i,d_j,r_{ij})\\in T}e_{ij}=\\sum_{(u_i,d_j,r_{ij})\\in T}(r_{ij}-\\sum_{k=1}^{K} p_{ik}q_{kj})^2$"
   ]
  },
  {
   "cell_type": "code",
   "execution_count": 3,
   "metadata": {
    "collapsed": true
   },
   "outputs": [],
   "source": [
    "import numpy as np"
   ]
  },
  {
   "cell_type": "code",
   "execution_count": 15,
   "metadata": {
    "collapsed": true
   },
   "outputs": [],
   "source": [
    "def matrix_factorization(R, P, Q, K, steps=5000, alpha=0.0002, beta=0.02):\n",
    "    Q = Q.T\n",
    "    for step in range(steps):\n",
    "        # код вычисления новых значений pik и qkj\n",
    "        \n",
    "        e = 0\n",
    "        # код вычисления общей ошибки\n",
    "        if e < 0.001:\n",
    "            break\n",
    "    return P, Q.T"
   ]
  },
  {
   "cell_type": "code",
   "execution_count": 16,
   "metadata": {},
   "outputs": [
    {
     "data": {
      "text/plain": [
       "array([[ 1.40018476,  1.37971535,  0.49793518,  1.55393859],\n",
       "       [ 0.64153572,  0.50428138,  0.30715383,  0.70066679],\n",
       "       [ 0.43765295,  0.52679225,  0.09660917,  0.49416561],\n",
       "       [ 0.31546326,  0.30685546,  0.11465439,  0.34975057],\n",
       "       [ 0.81060471,  0.90295679,  0.22388485,  0.90883784]])"
      ]
     },
     "execution_count": 16,
     "metadata": {},
     "output_type": "execute_result"
    }
   ],
   "source": [
    "R = [\n",
    "     [5,3,0,1],\n",
    "     [4,0,0,1],\n",
    "     [1,1,0,5],\n",
    "     [1,0,0,4],\n",
    "     [0,1,5,4],\n",
    "    ]\n",
    "R = np.array(R)\n",
    "N = len(R)\n",
    "M = len(R[0])\n",
    "K = 2\n",
    "\n",
    "P = np.random.rand(N,K)\n",
    "Q = np.random.rand(M,K)\n",
    "\n",
    "nP, nQ = matrix_factorization(R, P, Q, K)\n",
    "\n",
    "np.dot(nP, nQ.T)"
   ]
  },
  {
   "cell_type": "markdown",
   "metadata": {},
   "source": [
    "### SVD\n",
    "\n",
    "Задача - $\\|R - U^T\\Delta V\\|^2 \\rightarrow min_{U,V,\\Delta}$"
   ]
  },
  {
   "cell_type": "code",
   "execution_count": 17,
   "metadata": {
    "collapsed": true
   },
   "outputs": [],
   "source": [
    "#создаем матрицу оценок фильмов\n",
    "X=np.zeros((6, 7))\n",
    "X = np.array([[4,4,5,0,0,0,0], [5,5,3,4,3,0,0], [0,0,0,4,4,0,0], [0,0,0,5,4,5,3], [0,0,0,0,0,5,5], [0,0,0,0,0,4,4]])"
   ]
  },
  {
   "cell_type": "markdown",
   "metadata": {},
   "source": [
    "<img src=\"../figures/matr1.png\" alt=\"Matr\" style=\"width: 200px;\"/>"
   ]
  },
  {
   "cell_type": "markdown",
   "metadata": {},
   "source": [
    "Находим сингулярное разложение, смотрим на получающиеся матрицы"
   ]
  },
  {
   "cell_type": "code",
   "execution_count": 26,
   "metadata": {
    "collapsed": true
   },
   "outputs": [],
   "source": [
    "# ваш код, используем numpy linalg"
   ]
  },
  {
   "cell_type": "markdown",
   "metadata": {},
   "source": [
    "Восстанаваливаем исходную матрицу"
   ]
  },
  {
   "cell_type": "code",
   "execution_count": 11,
   "metadata": {
    "collapsed": true
   },
   "outputs": [],
   "source": [
    "# ваш кода"
   ]
  },
  {
   "cell_type": "markdown",
   "metadata": {},
   "source": [
    "Вычисляем ошибку приближения со всеми факторами"
   ]
  },
  {
   "cell_type": "code",
   "execution_count": 27,
   "metadata": {
    "collapsed": true
   },
   "outputs": [],
   "source": [
    "# ваш код"
   ]
  },
  {
   "cell_type": "markdown",
   "metadata": {},
   "source": [
    "Попробуем обнулить 4-ый фактор и посмотреть на ошибку"
   ]
  },
  {
   "cell_type": "code",
   "execution_count": null,
   "metadata": {
    "collapsed": true
   },
   "outputs": [],
   "source": [
    "# ваш код"
   ]
  },
  {
   "cell_type": "markdown",
   "metadata": {},
   "source": [
    "### NMF"
   ]
  },
  {
   "cell_type": "markdown",
   "metadata": {},
   "source": [
    "Задача - $\\|R - WH\\|^2=\\|R - \\sum_{t\\in T}p_t q_t^T\\|^2 \\rightarrow min_{p_t\\geq 0, q_t\\geq 0}$"
   ]
  },
  {
   "cell_type": "code",
   "execution_count": 17,
   "metadata": {
    "collapsed": true
   },
   "outputs": [],
   "source": [
    "from sklearn.decomposition import NMF"
   ]
  },
  {
   "cell_type": "markdown",
   "metadata": {
    "collapsed": true
   },
   "source": [
    "Инициализируем праметры неотрицательной матричной факторизации с тремя факторами"
   ]
  },
  {
   "cell_type": "code",
   "execution_count": null,
   "metadata": {
    "collapsed": true
   },
   "outputs": [],
   "source": [
    "# ваш код"
   ]
  },
  {
   "cell_type": "markdown",
   "metadata": {},
   "source": [
    "Применяем модель к матрице оценок фильмов"
   ]
  },
  {
   "cell_type": "code",
   "execution_count": null,
   "metadata": {
    "collapsed": true
   },
   "outputs": [],
   "source": [
    "# ваш код, fit_transform"
   ]
  },
  {
   "cell_type": "markdown",
   "metadata": {},
   "source": [
    "Смотрим на извлекаемые компоненты"
   ]
  },
  {
   "cell_type": "code",
   "execution_count": 28,
   "metadata": {
    "collapsed": true
   },
   "outputs": [],
   "source": [
    "# зрители-факторы и факторы-зрители"
   ]
  },
  {
   "cell_type": "markdown",
   "metadata": {},
   "source": [
    "Восстанавливаем исходную матрицу и находим суммарную ошибку"
   ]
  },
  {
   "cell_type": "code",
   "execution_count": 29,
   "metadata": {
    "collapsed": true
   },
   "outputs": [],
   "source": [
    "# ваш код"
   ]
  }
 ],
 "metadata": {
  "anaconda-cloud": {},
  "kernelspec": {
   "display_name": "Python [conda root]",
   "language": "python",
   "name": "conda-root-py"
  },
  "language_info": {
   "codemirror_mode": {
    "name": "ipython",
    "version": 3
   },
   "file_extension": ".py",
   "mimetype": "text/x-python",
   "name": "python",
   "nbconvert_exporter": "python",
   "pygments_lexer": "ipython3",
   "version": "3.5.3"
  }
 },
 "nbformat": 4,
 "nbformat_minor": 1
}
