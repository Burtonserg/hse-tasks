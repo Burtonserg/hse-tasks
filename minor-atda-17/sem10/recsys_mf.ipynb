{
 "cells": [
  {
   "cell_type": "markdown",
   "metadata": {},
   "source": [
    "Проверояная #7 (по рекомендательным системам) - https://goo.gl/forms/8kNZlOFQYRbMgOzU2"
   ]
  },
  {
   "cell_type": "markdown",
   "metadata": {
    "collapsed": true
   },
   "source": [
    "## Матричные разложения"
   ]
  },
  {
   "cell_type": "markdown",
   "metadata": {
    "collapsed": true
   },
   "source": [
    "$T$ - множество тем (топиков, интересов и т.п.), $|T| << |U|$, $|T| << |I|$\n",
    "\n",
    "$p_{tu}$ - неизвестный профиль клиента, $P=(p_{tu})_{|T|\\times|U|}$\n",
    "\n",
    "$q_{ti}$ - неизвестный профиль продукта, $Q=(q_{tu})_{|T|\\times|I|}$\n",
    "\n",
    "Задача: $r_{ui}=\\sum_{t\\in T}\\pi_t p_{tu}q_{ti}$\n",
    "\n",
    "$R=P^T\\Delta Q$, $\\Delta=diag(\\pi_1,\\dots,\\pi_{|T|})$ - матричная запись\n",
    "\n",
    "$p(u,i)=\\sum_{t\\in T} p(t)\\cdot p(u|t)\\cdot q(i|t)$ - вероятностный смысл\n",
    "\n",
    "Методы поиска профилей:\n",
    "* SVD - сингулярное разложение\n",
    "* NMF - неотрицательное матричное разложение\n",
    "* PLSA - вероятностный латентный семантический анализ\n",
    "\n",
    "### SVD\n",
    "\n",
    "Задача - $\\|R - P^T\\Delta Q\\|^2 \\rightarrow min_{P,Q,\\Delta}$"
   ]
  },
  {
   "cell_type": "code",
   "execution_count": 1,
   "metadata": {},
   "outputs": [],
   "source": [
    "import numpy as np"
   ]
  },
  {
   "cell_type": "code",
   "execution_count": 2,
   "metadata": {},
   "outputs": [],
   "source": [
    "#создаем матрицу оценок фильмов\n",
    "X=np.zeros((6, 7))\n",
    "X = np.array([[4,4,5,0,0,0,0], [5,5,3,4,3,0,0], [0,0,0,4,4,0,0], [0,0,0,5,4,5,3], [0,0,0,0,0,5,5], [0,0,0,0,0,4,4]])"
   ]
  },
  {
   "cell_type": "markdown",
   "metadata": {},
   "source": [
    "<img src=\"../figures/matr1.png\" alt=\"Matr\" style=\"width: 200px;\"/>"
   ]
  },
  {
   "cell_type": "markdown",
   "metadata": {},
   "source": [
    "Находим сингулярное разложение, смотрим на получающиеся матрицы"
   ]
  },
  {
   "cell_type": "code",
   "execution_count": 26,
   "metadata": {},
   "outputs": [],
   "source": [
    "# ваш код"
   ]
  },
  {
   "cell_type": "markdown",
   "metadata": {},
   "source": [
    "Восстанаваливаем исходную матрицу"
   ]
  },
  {
   "cell_type": "code",
   "execution_count": 11,
   "metadata": {
    "collapsed": true
   },
   "outputs": [],
   "source": [
    "# ваш кода"
   ]
  },
  {
   "cell_type": "markdown",
   "metadata": {},
   "source": [
    "Вычисляем ошибку приближения со всеми факторами"
   ]
  },
  {
   "cell_type": "code",
   "execution_count": 27,
   "metadata": {
    "collapsed": true
   },
   "outputs": [],
   "source": [
    "# ваш код"
   ]
  },
  {
   "cell_type": "markdown",
   "metadata": {},
   "source": [
    "Попробуем обнулить 4-ый фактор и посмотреть на ошибку"
   ]
  },
  {
   "cell_type": "code",
   "execution_count": null,
   "metadata": {
    "collapsed": true
   },
   "outputs": [],
   "source": [
    "# ваш код"
   ]
  },
  {
   "cell_type": "markdown",
   "metadata": {},
   "source": [
    "### NMF"
   ]
  },
  {
   "cell_type": "markdown",
   "metadata": {},
   "source": [
    "Задача - $\\|R - WH\\|^2=\\|R - \\sum_{t\\in T}p_t q_t^T\\|^2 \\rightarrow min_{p_t\\geq 0, q_t\\geq 0}$"
   ]
  },
  {
   "cell_type": "code",
   "execution_count": 17,
   "metadata": {
    "collapsed": true
   },
   "outputs": [],
   "source": [
    "from sklearn.decomposition import NMF"
   ]
  },
  {
   "cell_type": "markdown",
   "metadata": {
    "collapsed": true
   },
   "source": [
    "Инициализируем праметры неотрицательной матричной факторизации с тремя факторами"
   ]
  },
  {
   "cell_type": "code",
   "execution_count": null,
   "metadata": {
    "collapsed": true
   },
   "outputs": [],
   "source": [
    "# ваш код"
   ]
  },
  {
   "cell_type": "markdown",
   "metadata": {},
   "source": [
    "Применяем модель к матрице оценок фильмов"
   ]
  },
  {
   "cell_type": "code",
   "execution_count": null,
   "metadata": {
    "collapsed": true
   },
   "outputs": [],
   "source": [
    "# ваш код"
   ]
  },
  {
   "cell_type": "markdown",
   "metadata": {},
   "source": [
    "Смотрим на извлекаемые компоненты"
   ]
  },
  {
   "cell_type": "code",
   "execution_count": 28,
   "metadata": {},
   "outputs": [],
   "source": [
    "# зрители-факторы и факторы-зрители"
   ]
  },
  {
   "cell_type": "markdown",
   "metadata": {},
   "source": [
    "Восстанавливаем исходную матрицу и находим суммарную ошибку"
   ]
  },
  {
   "cell_type": "code",
   "execution_count": 29,
   "metadata": {},
   "outputs": [],
   "source": [
    "# ваш код"
   ]
  }
 ],
 "metadata": {
  "anaconda-cloud": {},
  "kernelspec": {
   "display_name": "Python [conda root]",
   "language": "python",
   "name": "conda-root-py"
  },
  "language_info": {
   "codemirror_mode": {
    "name": "ipython",
    "version": 3
   },
   "file_extension": ".py",
   "mimetype": "text/x-python",
   "name": "python",
   "nbconvert_exporter": "python",
   "pygments_lexer": "ipython3",
   "version": "3.5.3"
  }
 },
 "nbformat": 4,
 "nbformat_minor": 1
}
