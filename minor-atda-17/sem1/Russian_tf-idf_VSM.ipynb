{
 "cells": [
  {
   "cell_type": "markdown",
   "metadata": {},
   "source": [
    "# Мера контрастности tf-idf для выделения ключевых слов. Векторная модель текста. Снижение размерности в векторной модели. Совсем простой поиск\n",
    "\n",
    "\n",
    "## Мера контрастности $tf-idf$ для выделения ключевых слов\n",
    "\n",
    "Рассмотрим коллекцию текстов о ягуарах. Ягуар – это омоним, имеет несколько значений: животное, название напитка, название автомобильной марки, название фильма и модель швейной машины. На каждое из 5 значений слова у нас есть по 5 текстов. Для каждого из 5 значений слова мы можем найти в коллекции свои, специфические слова. \n",
    "\n",
    "Для начала объединим каждые 5 текстов в один текст, получим коллекцию из 5 текстов, каждый посвящен своему значению. "
   ]
  },
  {
   "cell_type": "code",
   "execution_count": 4,
   "metadata": {
    "collapsed": false,
    "scrolled": true
   },
   "outputs": [
    {
     "name": "stdout",
     "output_type": "stream",
     "text": [
      "Ягуар (Panthera onca) — вид хищных млекопитающих семейства кошачьих, один из четырёх представителей \n",
      "Jaguar (напиток) Jaguar Слабоалкогольный газированный энергетический напиток Алюминиевая банка напит\n",
      "Британская автомобилестроительная компания Jaguar Cars производит легковые автомобили Jaguar класса \n",
      "Франсис Вебер — это знаковая фигура во французском, да и в европейском кино в общем. Посудите сами: \n",
      "Инструкция для швейной машины Mini Jaguar Инструкция швейной машины Mini Jaguar Швейная машинка \"Мин\n",
      "5\n"
     ]
    }
   ],
   "source": [
    "path = '../data/jaguar'\n",
    "raw_collection = []\n",
    "for i in range(1,6):\n",
    "    cur_path = path + str(i) + '/'\n",
    "    cur_collection = []\n",
    "    for j in range(1,6):\n",
    "        lines = open(cur_path+str(j)+'.txt', encoding='utf8').readlines()\n",
    "        cur_collection.append(lines[0])\n",
    "    merged_text = ' '.join(cur_collection)\n",
    "    print(merged_text[:100])\n",
    "    raw_collection.append(merged_text)\n",
    "print(len(raw_collection))"
   ]
  },
  {
   "cell_type": "markdown",
   "metadata": {
    "collapsed": true
   },
   "source": [
    "Проведем стандартную предобработку."
   ]
  },
  {
   "cell_type": "code",
   "execution_count": 6,
   "metadata": {
    "collapsed": false
   },
   "outputs": [],
   "source": [
    "from string import punctuation\n",
    "from nltk.corpus import stopwords\n",
    "from nltk.tokenize import WhitespaceTokenizer\n",
    "\n",
    "exclude = set(punctuation + u'0123456789[]—«»–')\n",
    "\n",
    "from pymorphy2 import MorphAnalyzer\n",
    "\n",
    "def preprocess(text):\n",
    "    buf = ''.join(ch for ch in text if ch not in exclude)\n",
    "    tokens = WhitespaceTokenizer().tokenize(buf.lower())\n",
    "    lemmatizer = MorphAnalyzer()\n",
    "    lemmas = []\n",
    "    for t in tokens[:]:\n",
    "        if not t in stopwords.words('russian'):\n",
    "            try:\n",
    "                lemma = lemmatizer.parse(t)[0].normal_form\n",
    "            except: \n",
    "                lemma = t\n",
    "#             print t, type(t), lemma\n",
    "            lemmas.append(lemma)\n",
    "    return lemmas\n",
    "\n",
    "# lemmatizer = MorphAnalyzer()    \n",
    "# print lemmatizer.parse(u'фильмы')[0].normal_form \n",
    "collection = [preprocess(text) for text in raw_collection]"
   ]
  },
  {
   "cell_type": "markdown",
   "metadata": {},
   "source": [
    "Используем реализации $tf-idf$ из NLTK для поиска ключевых слов в каждом тексте. Существенный недостаток этой реализации – скорость."
   ]
  },
  {
   "cell_type": "code",
   "execution_count": 26,
   "metadata": {
    "collapsed": false
   },
   "outputs": [
    {
     "name": "stdout",
     "output_type": "stream",
     "text": [
      "метр 0.024713587517693304\n",
      "плавать 0.019770870014154642\n",
      "пятно 0.01889750973503836\n",
      "мощный 0.017931325476989335\n",
      "лапа 0.016596974843053548\n",
      "леопард 0.015747924779198633\n",
      "чёрный 0.014946759402891047\n",
      "нередко 0.01482815251061598\n",
      "туловище 0.01482815251061598\n",
      "обитание 0.012598339823358905\n",
      "река 0.012598339823358905\n",
      "прирождённый 0.012598339823358905\n",
      "рассказывать 0.012598339823358905\n",
      "широта 0.012598339823358905\n",
      "крапинка 0.012598339823358905\n",
      "вода 0.012598339823358905\n",
      "рыба 0.012447731132290162\n",
      "огромный 0.012447731132290162\n",
      "вес 0.010758795286193602\n",
      "приходиться 0.010758795286193602\n"
     ]
    }
   ],
   "source": [
    "from nltk.text import TextCollection\n",
    "from nltk.corpus import stopwords \n",
    "\n",
    "cur_text = 1\n",
    "buf = []\n",
    "corpus = TextCollection(collection)\n",
    "for i in set(collection[cur_text]):\n",
    "    buf.append([ i, corpus.tf_idf(i, collection[cur_text])])\n",
    "for i in sorted(buf,key=lambda l:l[1], reverse=True)[:20]:\n",
    "    print(i[0], i[1])"
   ]
  },
  {
   "cell_type": "markdown",
   "metadata": {},
   "source": [
    "# Векторная модель текста\n",
    "\n",
    "Вернемся к исходным 25 текстам и снова проведем стандартную обработку. "
   ]
  },
  {
   "cell_type": "code",
   "execution_count": 9,
   "metadata": {
    "collapsed": false
   },
   "outputs": [
    {
     "name": "stdout",
     "output_type": "stream",
     "text": [
      "25\n"
     ]
    }
   ],
   "source": [
    "path = '../data/jaguar'\n",
    "raw_collection = []\n",
    "for i in range(1,6):\n",
    "    cur_path = path + str(i) + '/'\n",
    "    for j in range(1,6):\n",
    "        lines = open(cur_path+str(j)+'.txt', encoding='utf8').readlines()\n",
    "        raw_collection.append(lines[0])\n",
    "print(len(raw_collection))\n",
    "collection = [preprocess(text) for text in raw_collection]"
   ]
  },
  {
   "cell_type": "markdown",
   "metadata": {},
   "source": [
    "Теперь вычислим косинусную меру сходства между всеми текстами с помощью библиотеки gensim."
   ]
  },
  {
   "cell_type": "code",
   "execution_count": 28,
   "metadata": {
    "collapsed": false
   },
   "outputs": [
    {
     "name": "stdout",
     "output_type": "stream",
     "text": [
      "<gensim.interfaces.TransformedCorpus object at 0x0000014BD6AC2470>\n"
     ]
    }
   ],
   "source": [
    "from gensim import corpora, models, similarities\n",
    "import numpy as np\n",
    "\n",
    "dictionary = corpora.Dictionary(collection)\n",
    "corpus = [dictionary.doc2bow(t) for t in collection]\n",
    "tfidf = models.TfidfModel(corpus) \n",
    "corpus_tfidf = tfidf[corpus]\n",
    "print(corpus_tfidf)"
   ]
  },
  {
   "cell_type": "code",
   "execution_count": 29,
   "metadata": {
    "collapsed": false
   },
   "outputs": [
    {
     "name": "stdout",
     "output_type": "stream",
     "text": [
      "[[ 1.          0.22        0.40000001  0.31        0.25        0.04        0.04\n",
      "   0.05        0.03        0.05        0.03        0.02        0.03        0.03\n",
      "   0.01        0.05        0.03        0.01        0.03        0.05        0.01\n",
      "   0.01        0.02        0.02        0.04      ]\n",
      " [ 0.22        1.          0.22        0.28999999  0.18000001  0.01        0.03\n",
      "   0.03        0.02        0.02        0.01        0.01        0.01        0.02\n",
      "   0.01        0.02        0.03        0.02        0.02        0.04        0.01\n",
      "   0.03        0.01        0.02        0.03      ]\n",
      " [ 0.40000001  0.22        1.          0.34        0.23999999  0.02        0.02\n",
      "   0.03        0.01        0.02        0.01        0.01        0.01        0.02\n",
      "   0.01        0.02        0.02        0.01        0.02        0.03        0.01\n",
      "   0.01        0.01        0.01        0.03      ]\n",
      " [ 0.31        0.28999999  0.34        1.          0.22        0.02        0.02\n",
      "   0.03        0.01        0.02        0.01        0.01        0.01        0.02\n",
      "   0.01        0.03        0.02        0.01        0.02        0.04        0.01\n",
      "   0.01        0.01        0.01        0.03      ]\n",
      " [ 0.25        0.18000001  0.23999999  0.22        1.          0.02        0.01\n",
      "   0.02        0.          0.02        0.02        0.01        0.01        0.02\n",
      "   0.01        0.02        0.01        0.01        0.02        0.03        0.01\n",
      "   0.02        0.02        0.01        0.03      ]\n",
      " [ 0.04        0.01        0.02        0.02        0.02        1.          0.63\n",
      "   0.38999999  0.07        0.38        0.04        0.03        0.03        0.05\n",
      "   0.02        0.02        0.01        0.01        0.03        0.03        0.\n",
      "   0.          0.03        0.01        0.02      ]\n",
      " [ 0.04        0.03        0.02        0.02        0.01        0.63        1.\n",
      "   0.38        0.08        0.41999999  0.01        0.01        0.01        0.01\n",
      "   0.02        0.02        0.01        0.02        0.03        0.04        0.\n",
      "   0.01        0.01        0.01        0.01      ]\n",
      " [ 0.05        0.03        0.03        0.03        0.02        0.38999999\n",
      "   0.38        1.          0.08        0.54000002  0.07        0.03        0.04\n",
      "   0.04        0.02        0.02        0.03        0.01        0.03        0.03\n",
      "   0.01        0.02        0.05        0.02        0.03      ]\n",
      " [ 0.03        0.02        0.01        0.01        0.          0.07        0.08\n",
      "   0.08        1.          0.09        0.01        0.01        0.01        0.01\n",
      "   0.01        0.02        0.01        0.01        0.02        0.03        0.01\n",
      "   0.03        0.01        0.02        0.01      ]\n",
      " [ 0.05        0.02        0.02        0.02        0.02        0.38\n",
      "   0.41999999  0.54000002  0.09        1.          0.05        0.02        0.03\n",
      "   0.03        0.02        0.03        0.01        0.          0.04        0.02\n",
      "   0.          0.01        0.01        0.01        0.01      ]\n",
      " [ 0.03        0.01        0.01        0.01        0.02        0.04        0.01\n",
      "   0.07        0.01        0.05        1.          0.19        0.16        0.38\n",
      "   0.04        0.02        0.01        0.01        0.02        0.02        0.01\n",
      "   0.02        0.13        0.02        0.07      ]\n",
      " [ 0.02        0.01        0.01        0.01        0.01        0.03        0.01\n",
      "   0.03        0.01        0.02        0.19        1.          0.22\n",
      "   0.44999999  0.02        0.01        0.01        0.01        0.01        0.01\n",
      "   0.02        0.          0.06        0.01        0.05      ]\n",
      " [ 0.03        0.01        0.01        0.01        0.01        0.03        0.01\n",
      "   0.04        0.01        0.03        0.16        0.22        1.          0.25\n",
      "   0.19        0.01        0.01        0.          0.          0.02        0.01\n",
      "   0.02        0.05        0.02        0.04      ]\n",
      " [ 0.03        0.02        0.02        0.02        0.02        0.05        0.01\n",
      "   0.04        0.01        0.03        0.38        0.44999999  0.25        1.\n",
      "   0.05        0.02        0.01        0.01        0.01        0.02        0.02\n",
      "   0.02        0.13        0.02        0.08      ]\n",
      " [ 0.01        0.01        0.01        0.01        0.01        0.02        0.02\n",
      "   0.02        0.01        0.02        0.04        0.02        0.19        0.05\n",
      "   1.          0.01        0.01        0.01        0.02        0.01        0.01\n",
      "   0.01        0.04        0.02        0.02      ]\n",
      " [ 0.05        0.02        0.02        0.03        0.02        0.02        0.02\n",
      "   0.02        0.02        0.03        0.02        0.01        0.01        0.02\n",
      "   0.01        1.          0.15000001  0.07        0.17        0.27000001\n",
      "   0.01        0.02        0.01        0.02        0.01      ]\n",
      " [ 0.03        0.03        0.02        0.02        0.01        0.01        0.01\n",
      "   0.03        0.01        0.01        0.01        0.01        0.01        0.01\n",
      "   0.01        0.15000001  1.          0.11        0.17        0.31999999\n",
      "   0.          0.02        0.02        0.01        0.01      ]\n",
      " [ 0.01        0.02        0.01        0.01        0.01        0.01        0.02\n",
      "   0.01        0.01        0.          0.01        0.01        0.          0.01\n",
      "   0.01        0.07        0.11        1.          0.05        0.14        0.01\n",
      "   0.01        0.          0.          0.01      ]\n",
      " [ 0.03        0.02        0.02        0.02        0.02        0.03        0.03\n",
      "   0.03        0.02        0.04        0.02        0.01        0.          0.01\n",
      "   0.02        0.17        0.17        0.05        1.          0.22        0.\n",
      "   0.          0.          0.01        0.01      ]\n",
      " [ 0.05        0.04        0.03        0.04        0.03        0.03        0.04\n",
      "   0.03        0.03        0.02        0.02        0.01        0.02        0.02\n",
      "   0.01        0.27000001  0.31999999  0.14        0.22        1.          0.01\n",
      "   0.02        0.02        0.02        0.02      ]\n",
      " [ 0.01        0.01        0.01        0.01        0.01        0.          0.\n",
      "   0.01        0.01        0.          0.01        0.02        0.01        0.02\n",
      "   0.01        0.01        0.          0.01        0.          0.01        1.\n",
      "   0.12        0.09        0.16        0.25999999]\n",
      " [ 0.01        0.03        0.01        0.01        0.02        0.          0.01\n",
      "   0.02        0.03        0.01        0.02        0.          0.02        0.02\n",
      "   0.01        0.02        0.02        0.01        0.          0.02        0.12\n",
      "   1.          0.1         0.13        0.15000001]\n",
      " [ 0.02        0.01        0.01        0.01        0.02        0.03        0.01\n",
      "   0.05        0.01        0.01        0.13        0.06        0.05        0.13\n",
      "   0.04        0.01        0.02        0.          0.          0.02        0.09\n",
      "   0.1         1.          0.20999999  0.2       ]\n",
      " [ 0.02        0.02        0.01        0.01        0.01        0.01        0.01\n",
      "   0.02        0.02        0.01        0.02        0.01        0.02        0.02\n",
      "   0.02        0.02        0.01        0.          0.01        0.02        0.16\n",
      "   0.13        0.20999999  1.          0.41      ]\n",
      " [ 0.04        0.03        0.03        0.03        0.03        0.02        0.01\n",
      "   0.03        0.01        0.01        0.07        0.05        0.04        0.08\n",
      "   0.02        0.01        0.01        0.01        0.01        0.02\n",
      "   0.25999999  0.15000001  0.2         0.41        1.        ]]\n"
     ]
    }
   ],
   "source": [
    "index = similarities.MatrixSimilarity(tfidf[corpus])\n",
    "sims = index[corpus_tfidf]\n",
    "print(np.around(sims, decimals = 2))"
   ]
  },
  {
   "cell_type": "markdown",
   "metadata": {},
   "source": [
    "Так как сама по себе матрица не очень понятна, построим по ней диаграмму близости. "
   ]
  },
  {
   "cell_type": "code",
   "execution_count": 12,
   "metadata": {
    "collapsed": false
   },
   "outputs": [
    {
     "data": {
      "image/png": "[encoded data removed]",
      "text/plain": [
       "<matplotlib.figure.Figure at 0x14bd5b80d68>"
      ]
     },
     "metadata": {},
     "output_type": "display_data"
    }
   ],
   "source": [
    "from pylab import pcolor, show, colorbar, xticks, yticks\n",
    "%matplotlib inline\n",
    "\n",
    "pcolor(sims)\n",
    "colorbar()\n",
    "show()"
   ]
  },
  {
   "cell_type": "markdown",
   "metadata": {},
   "source": [
    "А теперь используем ЛСА, снизим количество размерностей до 10, пересчитаем и перерисуем матрицу близости."
   ]
  },
  {
   "cell_type": "code",
   "execution_count": 13,
   "metadata": {
    "collapsed": false
   },
   "outputs": [
    {
     "data": {
      "image/png": "[encoded data removed]",
      "text/plain": [
       "<matplotlib.figure.Figure at 0x14bd68d14e0>"
      ]
     },
     "metadata": {},
     "output_type": "display_data"
    }
   ],
   "source": [
    "lsi = models.LsiModel(corpus, num_topics=10) \n",
    "corpus_lsi = lsi[corpus]\n",
    "index = similarities.MatrixSimilarity(lsi[corpus])\n",
    "sims = index[corpus_lsi]\n",
    "pcolor(sims)\n",
    "colorbar()\n",
    "show()"
   ]
  },
  {
   "cell_type": "markdown",
   "metadata": {},
   "source": [
    "# Задание 1\n",
    "\n",
    "Создайте собственную коллекцию текстов. Найдите ключевые слова для каждого текста по мере $tf-idf$. Объясните принцип создания коллекции и полученные результаты. \n",
    "\n",
    "# Задание 2\n",
    "\n",
    "Найдите ключевые биграммы для каждого текста по мере $tf-idf$. \n"
   ]
  },
  {
   "cell_type": "markdown",
   "metadata": {},
   "source": [
    "# Литература\n",
    "\n",
    "* Manning & Raghavan & Schütze (IRbook) – Ch. 6.2.2 – Tf-idf weighting (http://nlp.stanford.edu/IR-book/html/htmledition/tf-idf-weighting-1.html)\n",
    "\n",
    "* Manning & Raghavan & Schütze (IRbook) – Ch. 18 – Matrix decompositions and latent semantic indexing\n",
    "\n",
    "* NLTK (плохая документация):  http://www.nltk.org/api/nltk.html#nltk.text.TextCollection\n",
    "\n",
    "* http://www.tfidf.com/\n",
    "\n",
    "* Gensim (документация и туториал): https://radimrehurek.com/gensim/"
   ]
  },
  {
   "cell_type": "markdown",
   "metadata": {},
   "source": [
    "# Совсем простой поиск"
   ]
  },
  {
   "cell_type": "code",
   "execution_count": 30,
   "metadata": {
    "collapsed": false
   },
   "outputs": [
    {
     "name": "stdout",
     "output_type": "stream",
     "text": [
      "(22, 0.31049913)\n",
      "(20, 0.082851298)\n",
      "(14, 0.06384252)\n",
      "(24, 0.061500318)\n",
      "(21, 0.05592959)\n",
      "(12, 0.026284507)\n",
      "(23, 0.024860036)\n",
      "(11, 0.020495294)\n",
      "(10, 0.018246267)\n",
      "(13, 0.012472699)\n"
     ]
    }
   ],
   "source": [
    "doc = u\"машина\"\n",
    "vec_bow = dictionary.doc2bow(preprocess(doc))\n",
    "vec_tfidf = tfidf[vec_bow] \n",
    "sims = index[vec_tfidf]\n",
    "sim_list = sorted(enumerate(sims), key=lambda item: -item[1])\n",
    "for i in sim_list:\n",
    "    if i[1] > 0:\n",
    "        print(i)"
   ]
  },
  {
   "cell_type": "code",
   "execution_count": 31,
   "metadata": {
    "collapsed": false
   },
   "outputs": [
    {
     "name": "stdout",
     "output_type": "stream",
     "text": [
      "(12, 0.04919038)\n",
      "(21, 0.049018715)\n",
      "(0, 0.026228026)\n",
      "(2, 0.025527325)\n",
      "(8, 0.024278589)\n",
      "(13, 0.023342146)\n",
      "(18, 0.021240572)\n",
      "(19, 0.020806178)\n",
      "(15, 0.018771263)\n",
      "(24, 0.013058485)\n",
      "(1, 0.012685684)\n",
      "(6, 0.01104558)\n",
      "(23, 0.010894117)\n",
      "(4, 0.010166726)\n",
      "(3, 0.0085646911)\n",
      "(9, 0.0082896547)\n",
      "(5, 0.0042626057)\n",
      "(14, 0.0037854419)\n",
      "(10, 0.0028850231)\n",
      "(20, 0.0026609576)\n",
      "(17, 0.0025049341)\n",
      "(16, 0.0017894759)\n",
      "(11, 0.0016203149)\n"
     ]
    }
   ],
   "source": [
    "doc = u\"хороший ягуар\"\n",
    "vec_bow = dictionary.doc2bow(preprocess(doc))\n",
    "vec_tfidf = tfidf[vec_bow] \n",
    "sims = index[vec_tfidf]\n",
    "sim_list = sorted(enumerate(sims), key=lambda item: -item[1])\n",
    "for i in sim_list:\n",
    "    if i[1] > 0:\n",
    "        print(i)"
   ]
  },
  {
   "cell_type": "markdown",
   "metadata": {},
   "source": [
    "# Тематические модели"
   ]
  },
  {
   "cell_type": "code",
   "execution_count": 16,
   "metadata": {
    "collapsed": false
   },
   "outputs": [
    {
     "name": "stdout",
     "output_type": "stream",
     "text": [
      "(0, '0.605*\"ягуар\" + 0.244*\"год\" + 0.194*\"напиток\" + 0.144*\"jaguar\" + 0.137*\"который\" + 0.133*\"нитка\" + 0.128*\"человек\" + 0.127*\"свой\" + 0.116*\"это\" + 0.113*\"швейный\"')\n",
      "***\n",
      "(1, '-0.351*\"нитка\" + -0.265*\"швейный\" + -0.242*\"машинка\" + -0.233*\"лапка\" + 0.231*\"ягуар\" + -0.213*\"машина\" + -0.184*\"строчка\" + -0.175*\"шпулька\" + -0.139*\"верхний\" + -0.136*\"положение\"')\n",
      "***\n",
      "(2, '0.379*\"фильм\" + -0.317*\"ягуар\" + 0.265*\"вебер\" + 0.241*\"это\" + 0.184*\"свой\" + 0.170*\"герой\" + 0.164*\"который\" + 0.135*\"перрен\" + 0.118*\"ришар\" + 0.116*\"дуэт\"')\n",
      "***\n",
      "(3, '-0.472*\"напиток\" + -0.284*\"jaguar\" + -0.255*\"год\" + 0.208*\"фильм\" + 0.146*\"вебер\" + 0.144*\"нитка\" + -0.142*\"модель\" + 0.134*\"ягуар\" + -0.123*\"компания\" + 0.111*\"свой\"')\n",
      "***\n",
      "(4, '0.512*\"напиток\" + 0.202*\"нитка\" + -0.198*\"год\" + -0.171*\"модель\" + -0.134*\"машинка\" + -0.132*\"jaguar\" + 0.120*\"шпулька\" + -0.117*\"компания\" + 0.112*\"положение\" + -0.107*\"автомобиль\"')\n",
      "***\n"
     ]
    }
   ],
   "source": [
    "lsi = models.lsimodel.LsiModel(corpus=corpus, id2word=dictionary, num_topics = 10)\n",
    "for topic in lsi.print_topics(5):\n",
    "    print(topic)\n",
    "    print('***')"
   ]
  },
  {
   "cell_type": "code",
   "execution_count": 17,
   "metadata": {
    "collapsed": false
   },
   "outputs": [
    {
     "name": "stdout",
     "output_type": "stream",
     "text": [
      "(14, '0.020*\"напиток\" + 0.015*\"ягуар\" + 0.011*\"год\" + 0.010*\"jaguar\" + 0.006*\"человек\" + 0.006*\"один\" + 0.006*\"это\" + 0.004*\"который\" + 0.004*\"свой\" + 0.004*\"нитка\"')\n",
      "***\n",
      "(9, '0.014*\"ягуар\" + 0.013*\"год\" + 0.010*\"швейный\" + 0.009*\"машина\" + 0.008*\"jaguar\" + 0.006*\"иметь\" + 0.005*\"модель\" + 0.005*\"который\" + 0.005*\"нитка\" + 0.004*\"машинка\"')\n",
      "***\n",
      "(10, '0.016*\"ягуар\" + 0.006*\"год\" + 0.006*\"это\" + 0.005*\"напиток\" + 0.005*\"свой\" + 0.004*\"который\" + 0.003*\"человек\" + 0.003*\"алкоголь\" + 0.003*\"модель\" + 0.003*\"нитка\"')\n",
      "***\n",
      "(12, '0.029*\"ягуар\" + 0.011*\"напиток\" + 0.006*\"нитка\" + 0.005*\"человек\" + 0.005*\"год\" + 0.004*\"это\" + 0.004*\"который\" + 0.004*\"очень\" + 0.003*\"jaguar\" + 0.003*\"свой\"')\n",
      "***\n",
      "(2, '0.018*\"ягуар\" + 0.008*\"год\" + 0.006*\"напиток\" + 0.005*\"jaguar\" + 0.005*\"один\" + 0.004*\"время\" + 0.004*\"самка\" + 0.004*\"чёрный\" + 0.003*\"который\" + 0.003*\"крупный\"')\n",
      "***\n"
     ]
    }
   ],
   "source": [
    "lda = models.ldamodel.LdaModel(corpus=corpus, id2word=dictionary, num_topics = 15)\n",
    "for topic in lda.print_topics(5):\n",
    "    print(topic)\n",
    "    print('***')"
   ]
  },
  {
   "cell_type": "code",
   "execution_count": null,
   "metadata": {
    "collapsed": true
   },
   "outputs": [],
   "source": [
    "\n",
    "\n"
   ]
  }
 ],
 "metadata": {
  "anaconda-cloud": {},
  "kernelspec": {
   "display_name": "Python [conda root]",
   "language": "python",
   "name": "conda-root-py"
  },
  "language_info": {
   "codemirror_mode": {
    "name": "ipython",
    "version": 3
   },
   "file_extension": ".py",
   "mimetype": "text/x-python",
   "name": "python",
   "nbconvert_exporter": "python",
   "pygments_lexer": "ipython3",
   "version": "3.5.2"
  },
  "name": "Russian_tf-idf_VSM.ipynb"
 },
 "nbformat": 4,
 "nbformat_minor": 0
}
